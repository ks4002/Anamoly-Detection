{
 "cells": [
  {
   "cell_type": "markdown",
   "id": "0b52b892",
   "metadata": {},
   "source": [
    "## APAN5420 Anomaly Detection - Assignment 4 \n",
    "\n",
    "### Name: Kanyarat Suwannama\n",
    "\n",
    "## Objectives\n",
    "* Detect any hospital that may abuse the resources.\n",
    "* Detect any hospital that may abuse the resources compared to its peers.\n",
    "* Detect any hospital that may abuse the resources compared to the average (median etc) of its peers.\n",
    "* Detect any hospital that may abuse the resources compared to the average (median etc) of its peers of the same DRG and State.\n",
    "* Detect any hospital that may abuse the resources compared to the average (median etc) of its peers of the same DRG and City.\n",
    "* Detect any hospital that may abuse the resources compared to the average (median etc) of its peers of the same DRG and Region.\n",
    "\n",
    "## Data\n",
    "\n",
    "* The Medicare Inpatient Hospitals by Geography and Service dataset provides information on hospital discharges for Original Medicare Part A beneficiaries by IPPS hospitals. This dataset contains information on the number of discharges, payments, and submitted charges organized by geography and Medicare Severity Diagnosis Related Group (DRG).\n",
    "\n",
    "## FE\n",
    "* We will focus on the \"Average Total Payments\", which is the \"Total Payments / Total Discharges\" to create the features.\n",
    "* We will focus on the \"Total discharges\", which is the number of discharges billed by the provider for inpatient hospital services to create the features.\n",
    "* We will focus on the \"Average Medicare Payments\", which is the \"Medicare Payment Amount / Total Discharges\" to create features.\n",
    "\n",
    "\n",
    "## Table of Contents\n",
    "* [Section 1: Data preparation](#Section_1)\n",
    "    * [Section 1.1: Load data](#Section_11)\n",
    "    * [Section 1.2: data preparation](#Section_12)\n",
    "* [Section 2: EDA](#Section_2)\n",
    "    * [Section 2.1: Distribution plots](#Section_21)\n",
    "    * [Section 2.2: Count by state](#Section_22)    \n",
    "    * [Section 2.3: Count of top cities](#Section_23)\n",
    "    * [Section 2.4: Correlation Matrix](#Section_24)\n",
    "* [Section 3: Feature engineering](#Section_3)\n",
    "    * [Section 3.1: State & DRG Total Payment average](#Section_31)\n",
    "    * [Section 3.2: City & DRG Total Payment average](#Section_32)\n",
    "    * [Section 3.3: Region & DRG Total Payment average](#Section_33)\n",
    "    * [Section 3.4: State & DRG Total Discharges average](#Section_34)\n",
    "    * [Section 3.5: City & DRG Total Discharges average](#Section_35)\n",
    "    * [Section 3.6: Region & DRG Total Discharges average](#Section_36)\n",
    "    * [Section 3.7: State & DRG Medicare Payments average](#Section_37) \n",
    "    * [Section 3.8: City & DRG Medicare Payments average](#Section_38)\n",
    "    * [Section 3.9: Region & DRG Medicare Payments average](#Section_39)\n",
    "    * [Section 3.10: Region, State & DRG Medicare Payments average](#Section_40)\n",
    "* [Section 4: Conclusion](#Section_4)"
   ]
  },
  {
   "cell_type": "markdown",
   "id": "e4b3a8de",
   "metadata": {},
   "source": [
    "## Section 1: Data preparation <a class=\"anchor\" id=\"Section_1\"></a>\n",
    "### Section 1.1: Load Data <a class=\"anchor\" id=\"Section_11\"></a>\n",
    "* Import packages and data \n",
    "* Rename column\n",
    "* Change data type and transfer spending amount with dollar sign into numeric\n",
    "* Understand the data strcuture. "
   ]
  },
  {
   "cell_type": "code",
   "execution_count": 1,
   "id": "b26d7ab9",
   "metadata": {},
   "outputs": [],
   "source": [
    "import pandas as pd\n",
    "import numpy as np\n",
    "import matplotlib.pyplot as plt\n",
    "import seaborn as sns\n",
    "%matplotlib inline"
   ]
  },
  {
   "cell_type": "code",
   "execution_count": 2,
   "id": "66094635",
   "metadata": {},
   "outputs": [],
   "source": [
    "df = pd.read_csv('inpatientCharges.csv')"
   ]
  },
  {
   "cell_type": "code",
   "execution_count": 3,
   "id": "bdd2bd6b",
   "metadata": {},
   "outputs": [
    {
     "data": {
      "text/html": [
       "<div>\n",
       "<style scoped>\n",
       "    .dataframe tbody tr th:only-of-type {\n",
       "        vertical-align: middle;\n",
       "    }\n",
       "\n",
       "    .dataframe tbody tr th {\n",
       "        vertical-align: top;\n",
       "    }\n",
       "\n",
       "    .dataframe thead th {\n",
       "        text-align: right;\n",
       "    }\n",
       "</style>\n",
       "<table border=\"1\" class=\"dataframe\">\n",
       "  <thead>\n",
       "    <tr style=\"text-align: right;\">\n",
       "      <th></th>\n",
       "      <th>Provider Id</th>\n",
       "      <th>Provider Zip Code</th>\n",
       "      <th>Total Discharges</th>\n",
       "    </tr>\n",
       "  </thead>\n",
       "  <tbody>\n",
       "    <tr>\n",
       "      <th>count</th>\n",
       "      <td>163065.000000</td>\n",
       "      <td>163065.000000</td>\n",
       "      <td>163065.000000</td>\n",
       "    </tr>\n",
       "    <tr>\n",
       "      <th>mean</th>\n",
       "      <td>255569.865428</td>\n",
       "      <td>47938.121908</td>\n",
       "      <td>42.776304</td>\n",
       "    </tr>\n",
       "    <tr>\n",
       "      <th>std</th>\n",
       "      <td>151563.671767</td>\n",
       "      <td>27854.323080</td>\n",
       "      <td>51.104042</td>\n",
       "    </tr>\n",
       "    <tr>\n",
       "      <th>min</th>\n",
       "      <td>10001.000000</td>\n",
       "      <td>1040.000000</td>\n",
       "      <td>11.000000</td>\n",
       "    </tr>\n",
       "    <tr>\n",
       "      <th>25%</th>\n",
       "      <td>110092.000000</td>\n",
       "      <td>27261.000000</td>\n",
       "      <td>17.000000</td>\n",
       "    </tr>\n",
       "    <tr>\n",
       "      <th>50%</th>\n",
       "      <td>250007.000000</td>\n",
       "      <td>44309.000000</td>\n",
       "      <td>27.000000</td>\n",
       "    </tr>\n",
       "    <tr>\n",
       "      <th>75%</th>\n",
       "      <td>380075.000000</td>\n",
       "      <td>72901.000000</td>\n",
       "      <td>49.000000</td>\n",
       "    </tr>\n",
       "    <tr>\n",
       "      <th>max</th>\n",
       "      <td>670077.000000</td>\n",
       "      <td>99835.000000</td>\n",
       "      <td>3383.000000</td>\n",
       "    </tr>\n",
       "  </tbody>\n",
       "</table>\n",
       "</div>"
      ],
      "text/plain": [
       "         Provider Id  Provider Zip Code   Total Discharges \n",
       "count  163065.000000      163065.000000       163065.000000\n",
       "mean   255569.865428       47938.121908           42.776304\n",
       "std    151563.671767       27854.323080           51.104042\n",
       "min     10001.000000        1040.000000           11.000000\n",
       "25%    110092.000000       27261.000000           17.000000\n",
       "50%    250007.000000       44309.000000           27.000000\n",
       "75%    380075.000000       72901.000000           49.000000\n",
       "max    670077.000000       99835.000000         3383.000000"
      ]
     },
     "execution_count": 3,
     "metadata": {},
     "output_type": "execute_result"
    }
   ],
   "source": [
    "df.describe()"
   ]
  },
  {
   "cell_type": "code",
   "execution_count": 4,
   "id": "eab6206c",
   "metadata": {},
   "outputs": [
    {
     "name": "stdout",
     "output_type": "stream",
     "text": [
      "<class 'pandas.core.frame.DataFrame'>\n",
      "RangeIndex: 163065 entries, 0 to 163064\n",
      "Data columns (total 12 columns):\n",
      " #   Column                                Non-Null Count   Dtype \n",
      "---  ------                                --------------   ----- \n",
      " 0   DRG Definition                        163065 non-null  object\n",
      " 1   Provider Id                           163065 non-null  int64 \n",
      " 2   Provider Name                         163065 non-null  object\n",
      " 3   Provider Street Address               163065 non-null  object\n",
      " 4   Provider City                         163065 non-null  object\n",
      " 5   Provider State                        163065 non-null  object\n",
      " 6   Provider Zip Code                     163065 non-null  int64 \n",
      " 7   Hospital Referral Region Description  163065 non-null  object\n",
      " 8    Total Discharges                     163065 non-null  int64 \n",
      " 9    Average Covered Charges              163065 non-null  object\n",
      " 10   Average Total Payments               163065 non-null  object\n",
      " 11  Average Medicare Payments             163065 non-null  object\n",
      "dtypes: int64(3), object(9)\n",
      "memory usage: 14.9+ MB\n"
     ]
    }
   ],
   "source": [
    "df.info()"
   ]
  },
  {
   "cell_type": "code",
   "execution_count": 5,
   "id": "7b9f8791",
   "metadata": {},
   "outputs": [],
   "source": [
    "df.columns = ['DRG','Provider_Id', 'Provider_Name','Provider_StreetAddress','Provider_City',\n",
    "               'Provider_State','Provider_Zipcode','Hospital_referral_region_desp',\n",
    "                'Total_Discharges','Average_Covered_Charges','Average_Total_Payments',\n",
    "                'Average_Medicare_Payment']\n",
    "df = df.drop('Average_Covered_Charges',axis=1)"
   ]
  },
  {
   "cell_type": "code",
   "execution_count": 6,
   "id": "1a674fea",
   "metadata": {},
   "outputs": [
    {
     "data": {
      "text/html": [
       "<div>\n",
       "<style scoped>\n",
       "    .dataframe tbody tr th:only-of-type {\n",
       "        vertical-align: middle;\n",
       "    }\n",
       "\n",
       "    .dataframe tbody tr th {\n",
       "        vertical-align: top;\n",
       "    }\n",
       "\n",
       "    .dataframe thead th {\n",
       "        text-align: right;\n",
       "    }\n",
       "</style>\n",
       "<table border=\"1\" class=\"dataframe\">\n",
       "  <thead>\n",
       "    <tr style=\"text-align: right;\">\n",
       "      <th></th>\n",
       "      <th>DRG</th>\n",
       "      <th>Provider_Id</th>\n",
       "      <th>Provider_Name</th>\n",
       "      <th>Provider_StreetAddress</th>\n",
       "      <th>Provider_City</th>\n",
       "      <th>Provider_State</th>\n",
       "      <th>Provider_Zipcode</th>\n",
       "      <th>Hospital_referral_region_desp</th>\n",
       "      <th>Total_Discharges</th>\n",
       "      <th>Average_Total_Payments</th>\n",
       "      <th>Average_Medicare_Payment</th>\n",
       "    </tr>\n",
       "  </thead>\n",
       "  <tbody>\n",
       "    <tr>\n",
       "      <th>0</th>\n",
       "      <td>039 - EXTRACRANIAL PROCEDURES W/O CC/MCC</td>\n",
       "      <td>10001</td>\n",
       "      <td>SOUTHEAST ALABAMA MEDICAL CENTER</td>\n",
       "      <td>1108 ROSS CLARK CIRCLE</td>\n",
       "      <td>DOTHAN</td>\n",
       "      <td>AL</td>\n",
       "      <td>36301</td>\n",
       "      <td>AL - Dothan</td>\n",
       "      <td>91</td>\n",
       "      <td>$5777.24</td>\n",
       "      <td>$4763.73</td>\n",
       "    </tr>\n",
       "    <tr>\n",
       "      <th>1</th>\n",
       "      <td>039 - EXTRACRANIAL PROCEDURES W/O CC/MCC</td>\n",
       "      <td>10005</td>\n",
       "      <td>MARSHALL MEDICAL CENTER SOUTH</td>\n",
       "      <td>2505 U S HIGHWAY 431 NORTH</td>\n",
       "      <td>BOAZ</td>\n",
       "      <td>AL</td>\n",
       "      <td>35957</td>\n",
       "      <td>AL - Birmingham</td>\n",
       "      <td>14</td>\n",
       "      <td>$5787.57</td>\n",
       "      <td>$4976.71</td>\n",
       "    </tr>\n",
       "    <tr>\n",
       "      <th>2</th>\n",
       "      <td>039 - EXTRACRANIAL PROCEDURES W/O CC/MCC</td>\n",
       "      <td>10006</td>\n",
       "      <td>ELIZA COFFEE MEMORIAL HOSPITAL</td>\n",
       "      <td>205 MARENGO STREET</td>\n",
       "      <td>FLORENCE</td>\n",
       "      <td>AL</td>\n",
       "      <td>35631</td>\n",
       "      <td>AL - Birmingham</td>\n",
       "      <td>24</td>\n",
       "      <td>$5434.95</td>\n",
       "      <td>$4453.79</td>\n",
       "    </tr>\n",
       "    <tr>\n",
       "      <th>3</th>\n",
       "      <td>039 - EXTRACRANIAL PROCEDURES W/O CC/MCC</td>\n",
       "      <td>10011</td>\n",
       "      <td>ST VINCENT'S EAST</td>\n",
       "      <td>50 MEDICAL PARK EAST DRIVE</td>\n",
       "      <td>BIRMINGHAM</td>\n",
       "      <td>AL</td>\n",
       "      <td>35235</td>\n",
       "      <td>AL - Birmingham</td>\n",
       "      <td>25</td>\n",
       "      <td>$5417.56</td>\n",
       "      <td>$4129.16</td>\n",
       "    </tr>\n",
       "    <tr>\n",
       "      <th>4</th>\n",
       "      <td>039 - EXTRACRANIAL PROCEDURES W/O CC/MCC</td>\n",
       "      <td>10016</td>\n",
       "      <td>SHELBY BAPTIST MEDICAL CENTER</td>\n",
       "      <td>1000 FIRST STREET NORTH</td>\n",
       "      <td>ALABASTER</td>\n",
       "      <td>AL</td>\n",
       "      <td>35007</td>\n",
       "      <td>AL - Birmingham</td>\n",
       "      <td>18</td>\n",
       "      <td>$5658.33</td>\n",
       "      <td>$4851.44</td>\n",
       "    </tr>\n",
       "  </tbody>\n",
       "</table>\n",
       "</div>"
      ],
      "text/plain": [
       "                                        DRG  Provider_Id  \\\n",
       "0  039 - EXTRACRANIAL PROCEDURES W/O CC/MCC        10001   \n",
       "1  039 - EXTRACRANIAL PROCEDURES W/O CC/MCC        10005   \n",
       "2  039 - EXTRACRANIAL PROCEDURES W/O CC/MCC        10006   \n",
       "3  039 - EXTRACRANIAL PROCEDURES W/O CC/MCC        10011   \n",
       "4  039 - EXTRACRANIAL PROCEDURES W/O CC/MCC        10016   \n",
       "\n",
       "                      Provider_Name      Provider_StreetAddress Provider_City  \\\n",
       "0  SOUTHEAST ALABAMA MEDICAL CENTER      1108 ROSS CLARK CIRCLE        DOTHAN   \n",
       "1     MARSHALL MEDICAL CENTER SOUTH  2505 U S HIGHWAY 431 NORTH          BOAZ   \n",
       "2    ELIZA COFFEE MEMORIAL HOSPITAL          205 MARENGO STREET      FLORENCE   \n",
       "3                 ST VINCENT'S EAST  50 MEDICAL PARK EAST DRIVE    BIRMINGHAM   \n",
       "4     SHELBY BAPTIST MEDICAL CENTER     1000 FIRST STREET NORTH     ALABASTER   \n",
       "\n",
       "  Provider_State  Provider_Zipcode Hospital_referral_region_desp  \\\n",
       "0             AL             36301                   AL - Dothan   \n",
       "1             AL             35957               AL - Birmingham   \n",
       "2             AL             35631               AL - Birmingham   \n",
       "3             AL             35235               AL - Birmingham   \n",
       "4             AL             35007               AL - Birmingham   \n",
       "\n",
       "   Total_Discharges Average_Total_Payments Average_Medicare_Payment  \n",
       "0                91               $5777.24                 $4763.73  \n",
       "1                14               $5787.57                 $4976.71  \n",
       "2                24               $5434.95                 $4453.79  \n",
       "3                25               $5417.56                 $4129.16  \n",
       "4                18               $5658.33                 $4851.44  "
      ]
     },
     "execution_count": 6,
     "metadata": {},
     "output_type": "execute_result"
    }
   ],
   "source": [
    "df.head()"
   ]
  },
  {
   "cell_type": "code",
   "execution_count": 7,
   "id": "54ebfd34",
   "metadata": {},
   "outputs": [
    {
     "data": {
      "text/plain": [
       "count       163065\n",
       "unique      147842\n",
       "top       $4370.00\n",
       "freq             9\n",
       "Name: Average_Total_Payments, dtype: object"
      ]
     },
     "execution_count": 7,
     "metadata": {},
     "output_type": "execute_result"
    }
   ],
   "source": [
    "# Distribution plots of average total payments \n",
    "df['Average_Total_Payments'].describe()"
   ]
  },
  {
   "cell_type": "code",
   "execution_count": 8,
   "id": "3d3b49b2",
   "metadata": {},
   "outputs": [
    {
     "name": "stderr",
     "output_type": "stream",
     "text": [
      "/var/folders/4q/w1lktl152hx0j0gq933rclnh0000gn/T/ipykernel_14427/976114077.py:6: FutureWarning: The default value of regex will change from True to False in a future version.\n",
      "  df['Average_Total_Payments'] = (df['Average_Total_Payments']\n",
      "/var/folders/4q/w1lktl152hx0j0gq933rclnh0000gn/T/ipykernel_14427/976114077.py:8: FutureWarning: The default value of regex will change from True to False in a future version.\n",
      "  df['Average_Medicare_Payment'] = (df['Average_Medicare_Payment']\n"
     ]
    }
   ],
   "source": [
    "# Change data type and transfer spending amount with dollar sign into numeric\n",
    "df['DRG'] = df['DRG'].astype('category')\n",
    "df['Provider_State'] = df['Provider_State'].astype('category')\n",
    "df['Provider_City'] = df['Provider_City'].astype('category')\n",
    "df['Provider_Id'] = df['Provider_Id'].astype('category')\n",
    "df['Average_Total_Payments'] = (df['Average_Total_Payments']\n",
    "                              .str.replace(r'[^-+\\d.]', '').astype(float))\n",
    "df['Average_Medicare_Payment'] = (df['Average_Medicare_Payment']\n",
    "                              .str.replace(r'[^-+\\d.]', '').astype(float))"
   ]
  },
  {
   "cell_type": "code",
   "execution_count": 9,
   "id": "eb0c0c6b",
   "metadata": {},
   "outputs": [
    {
     "name": "stdout",
     "output_type": "stream",
     "text": [
      "<class 'pandas.core.frame.DataFrame'>\n",
      "RangeIndex: 163065 entries, 0 to 163064\n",
      "Data columns (total 11 columns):\n",
      " #   Column                         Non-Null Count   Dtype   \n",
      "---  ------                         --------------   -----   \n",
      " 0   DRG                            163065 non-null  category\n",
      " 1   Provider_Id                    163065 non-null  category\n",
      " 2   Provider_Name                  163065 non-null  object  \n",
      " 3   Provider_StreetAddress         163065 non-null  object  \n",
      " 4   Provider_City                  163065 non-null  category\n",
      " 5   Provider_State                 163065 non-null  category\n",
      " 6   Provider_Zipcode               163065 non-null  int64   \n",
      " 7   Hospital_referral_region_desp  163065 non-null  object  \n",
      " 8   Total_Discharges               163065 non-null  int64   \n",
      " 9   Average_Total_Payments         163065 non-null  float64 \n",
      " 10  Average_Medicare_Payment       163065 non-null  float64 \n",
      "dtypes: category(4), float64(2), int64(2), object(3)\n",
      "memory usage: 9.9+ MB\n"
     ]
    }
   ],
   "source": [
    "df.info()"
   ]
  },
  {
   "cell_type": "markdown",
   "id": "ecc2be87",
   "metadata": {},
   "source": [
    "## Section 2: EDA <a class=\"anchor\" id=\"Section_2\"></a>\n",
    "\n",
    "### Section 2.1: Distribution plots <a class=\"anchor\" id=\"Section_21\"></a>"
   ]
  },
  {
   "cell_type": "code",
   "execution_count": 10,
   "id": "1739c6cc",
   "metadata": {},
   "outputs": [
    {
     "data": {
      "text/plain": [
       "count    163065.000000\n",
       "mean       9707.473804\n",
       "std        7664.642598\n",
       "min        2673.000000\n",
       "25%        5234.500000\n",
       "50%        7214.100000\n",
       "75%       11286.400000\n",
       "max      156158.180000\n",
       "Name: Average_Total_Payments, dtype: float64"
      ]
     },
     "execution_count": 10,
     "metadata": {},
     "output_type": "execute_result"
    }
   ],
   "source": [
    "# Distribution plots of average total payments \n",
    "df['Average_Total_Payments'].describe()"
   ]
  },
  {
   "cell_type": "code",
   "execution_count": 11,
   "id": "4ed315d4",
   "metadata": {},
   "outputs": [
    {
     "data": {
      "text/plain": [
       "<AxesSubplot:xlabel='Average_Total_Payments', ylabel='Count'>"
      ]
     },
     "execution_count": 11,
     "metadata": {},
     "output_type": "execute_result"
    },
    {
     "data": {
      "image/png": "[encoded data removed]",
      "text/plain": [
       "<Figure size 720x360 with 1 Axes>"
      ]
     },
     "metadata": {
      "needs_background": "light"
     },
     "output_type": "display_data"
    }
   ],
   "source": [
    "plt.figure(figsize=(10,5)) # Plot a graph with reasonable size.\n",
    "sns.histplot(df['Average_Total_Payments'])\n",
    "# plt.plot(data['Average_Total_Payments'])"
   ]
  },
  {
   "cell_type": "code",
   "execution_count": 12,
   "id": "62d0602a",
   "metadata": {},
   "outputs": [
    {
     "data": {
      "text/plain": [
       "<AxesSubplot:xlabel='Average_Total_Payments'>"
      ]
     },
     "execution_count": 12,
     "metadata": {},
     "output_type": "execute_result"
    },
    {
     "data": {
      "image/png": "[encoded data removed]",
      "text/plain": [
       "<Figure size 432x288 with 1 Axes>"
      ]
     },
     "metadata": {
      "needs_background": "light"
     },
     "output_type": "display_data"
    }
   ],
   "source": [
    "sns.boxplot(x = 'Average_Total_Payments', data = df) "
   ]
  },
  {
   "cell_type": "code",
   "execution_count": 13,
   "id": "0489940e",
   "metadata": {},
   "outputs": [
    {
     "data": {
      "text/plain": [
       "count    163065.000000\n",
       "mean         42.776304\n",
       "std          51.104042\n",
       "min          11.000000\n",
       "25%          17.000000\n",
       "50%          27.000000\n",
       "75%          49.000000\n",
       "max        3383.000000\n",
       "Name: Total_Discharges, dtype: float64"
      ]
     },
     "execution_count": 13,
     "metadata": {},
     "output_type": "execute_result"
    }
   ],
   "source": [
    "# Distribution plots of Total_Discharges\n",
    "df['Total_Discharges'].describe()"
   ]
  },
  {
   "cell_type": "code",
   "execution_count": 14,
   "id": "50568d16",
   "metadata": {},
   "outputs": [
    {
     "data": {
      "text/plain": [
       "<AxesSubplot:xlabel='Total_Discharges', ylabel='Count'>"
      ]
     },
     "execution_count": 14,
     "metadata": {},
     "output_type": "execute_result"
    },
    {
     "data": {
      "image/png": "[encoded data removed]",
      "text/plain": [
       "<Figure size 720x360 with 1 Axes>"
      ]
     },
     "metadata": {
      "needs_background": "light"
     },
     "output_type": "display_data"
    }
   ],
   "source": [
    "plt.figure(figsize=(10,5)) \n",
    "sns.histplot(df['Total_Discharges'])"
   ]
  },
  {
   "cell_type": "code",
   "execution_count": 15,
   "id": "f1ae59e2",
   "metadata": {},
   "outputs": [
    {
     "data": {
      "text/plain": [
       "<AxesSubplot:xlabel='Total_Discharges'>"
      ]
     },
     "execution_count": 15,
     "metadata": {},
     "output_type": "execute_result"
    },
    {
     "data": {
      "image/png": "[encoded data removed]",
      "text/plain": [
       "<Figure size 432x288 with 1 Axes>"
      ]
     },
     "metadata": {
      "needs_background": "light"
     },
     "output_type": "display_data"
    }
   ],
   "source": [
    "sns.boxplot(x = 'Total_Discharges', data = df)"
   ]
  },
  {
   "cell_type": "code",
   "execution_count": 16,
   "id": "78d2b2ac",
   "metadata": {},
   "outputs": [
    {
     "data": {
      "text/plain": [
       "count    163065.000000\n",
       "mean       8494.490964\n",
       "std        7309.467261\n",
       "min        1148.900000\n",
       "25%        4192.350000\n",
       "50%        6158.460000\n",
       "75%       10056.880000\n",
       "max      154620.810000\n",
       "Name: Average_Medicare_Payment, dtype: float64"
      ]
     },
     "execution_count": 16,
     "metadata": {},
     "output_type": "execute_result"
    }
   ],
   "source": [
    "# Distribution plots of Average_Medicare_Payment\n",
    "df['Average_Medicare_Payment'].describe()"
   ]
  },
  {
   "cell_type": "code",
   "execution_count": 17,
   "id": "d2ad4dcf",
   "metadata": {},
   "outputs": [
    {
     "data": {
      "text/plain": [
       "<AxesSubplot:xlabel='Average_Medicare_Payment', ylabel='Count'>"
      ]
     },
     "execution_count": 17,
     "metadata": {},
     "output_type": "execute_result"
    },
    {
     "data": {
      "image/png": "[encoded data removed]",
      "text/plain": [
       "<Figure size 720x360 with 1 Axes>"
      ]
     },
     "metadata": {
      "needs_background": "light"
     },
     "output_type": "display_data"
    }
   ],
   "source": [
    "plt.figure(figsize=(10,5)) \n",
    "sns.histplot(df['Average_Medicare_Payment'])"
   ]
  },
  {
   "cell_type": "code",
   "execution_count": 18,
   "id": "e2c6406f",
   "metadata": {},
   "outputs": [
    {
     "data": {
      "text/plain": [
       "<AxesSubplot:xlabel='Average_Medicare_Payment'>"
      ]
     },
     "execution_count": 18,
     "metadata": {},
     "output_type": "execute_result"
    },
    {
     "data": {
      "image/png": "[encoded data removed]",
      "text/plain": [
       "<Figure size 720x360 with 1 Axes>"
      ]
     },
     "metadata": {
      "needs_background": "light"
     },
     "output_type": "display_data"
    }
   ],
   "source": [
    "plt.figure(figsize=(10,5))\n",
    "sns.boxplot(x = 'Average_Medicare_Payment', data = df)"
   ]
  },
  {
   "cell_type": "markdown",
   "id": "14e95a5d",
   "metadata": {},
   "source": [
    "* We find that most of the all of the discharges are over and mosty less that 50.\n",
    "* We also find that the average total payment and average medicare payment follow similar pattern, mostly less than 10,000 dollars but significant number of outliers upto 156,158 dollars."
   ]
  },
  {
   "cell_type": "markdown",
   "id": "d4d29603",
   "metadata": {},
   "source": [
    "### Section 2.2: Count by State <a class=\"anchor\" id=\"Section_22\"></a>"
   ]
  },
  {
   "cell_type": "code",
   "execution_count": 19,
   "id": "1ce275bf",
   "metadata": {},
   "outputs": [
    {
     "data": {
      "image/png": "[encoded data removed]",
      "text/plain": [
       "<Figure size 1080x360 with 1 Axes>"
      ]
     },
     "metadata": {
      "needs_background": "light"
     },
     "output_type": "display_data"
    }
   ],
   "source": [
    "# data['Provider_State'].value_counts()\n",
    "plt.figure(figsize=(15,5))\n",
    "sns.countplot(x='Provider_State',data=df,order=df['Provider_State'].value_counts().index)\n",
    "#plt.xticks(rotation = 90)\n",
    "#ax = plt.gca()\n",
    "#for p in ax.patches:\n",
    "#    ax.text(p.get_x() + p.get_width()/2., p.get_height(), '%d' % int(p.get_height()), \n",
    "#            fontsize=12, color='blue', ha='center', va='bottom')\n",
    "plt.rcParams[\"axes.labelsize\"] = 20"
   ]
  },
  {
   "cell_type": "markdown",
   "id": "77173878",
   "metadata": {},
   "source": [
    "* From this histogram, California, Texas, and Florid has the highest number of hospital divisions."
   ]
  },
  {
   "cell_type": "markdown",
   "id": "5df8a69a",
   "metadata": {},
   "source": [
    "### Section 2.3: Count of top 20 cities <a class=\"anchor\" id=\"Section_23\"></a>"
   ]
  },
  {
   "cell_type": "code",
   "execution_count": 20,
   "id": "4060c2e3",
   "metadata": {},
   "outputs": [
    {
     "data": {
      "text/plain": [
       "GOOD SAMARITAN HOSPITAL                  633\n",
       "ST JOSEPH MEDICAL CENTER                 427\n",
       "MERCY MEDICAL CENTER                     357\n",
       "MERCY HOSPITAL                           347\n",
       "ST JOSEPH HOSPITAL                       343\n",
       "                                        ... \n",
       "J PAUL JONES HOSPITAL                      1\n",
       "GREATER BATON ROUGE SURGICAL HOSPITAL      1\n",
       "FAIRWAY MEDICAL CENTER                     1\n",
       "MONROE SURGICAL HOSPITAL                   1\n",
       "EAGLEVILLE HOSPITAL                        1\n",
       "Name: Provider_Name, Length: 3201, dtype: int64"
      ]
     },
     "execution_count": 20,
     "metadata": {},
     "output_type": "execute_result"
    }
   ],
   "source": [
    "df['Provider_Name'].value_counts()"
   ]
  },
  {
   "cell_type": "code",
   "execution_count": 21,
   "id": "b6d9cbf7",
   "metadata": {},
   "outputs": [
    {
     "data": {
      "image/png": "[encoded data removed]",
      "text/plain": [
       "<Figure size 1080x360 with 1 Axes>"
      ]
     },
     "metadata": {
      "needs_background": "light"
     },
     "output_type": "display_data"
    }
   ],
   "source": [
    "plt.figure(figsize=(15,5))\n",
    "txt = df['Provider_City'].value_counts()[:20].index\n",
    "\n",
    "chart = sns.countplot(\n",
    "    x='Provider_City' ,data=df , order=txt\n",
    ")\n",
    "\n",
    "_ = chart.set_xticklabels(chart.get_xticklabels(), rotation=45)\n",
    "plt.rcParams[\"axes.labelsize\"] = 10"
   ]
  },
  {
   "cell_type": "markdown",
   "id": "b71c83ca",
   "metadata": {},
   "source": [
    "* Even though the number of hospital divisions in State Illinois and State Maryland are not ranking top in the State group bys, their hospital divisions rank the most when looking at the city group bys (Chicago and Baltimore)."
   ]
  },
  {
   "cell_type": "markdown",
   "id": "d12d4414",
   "metadata": {},
   "source": [
    "#### Thought process:\n",
    "- The following shows the average medicare payment by DRG. Does it make sense to compare \"917 - POISONING & TOXIC EFFECTS OF DRUGS W MCC\" with \"885 - PSYCHOSES\"?"
   ]
  },
  {
   "cell_type": "code",
   "execution_count": 22,
   "id": "bfb7fae2",
   "metadata": {},
   "outputs": [
    {
     "data": {
      "text/html": [
       "<div>\n",
       "<style scoped>\n",
       "    .dataframe tbody tr th:only-of-type {\n",
       "        vertical-align: middle;\n",
       "    }\n",
       "\n",
       "    .dataframe tbody tr th {\n",
       "        vertical-align: top;\n",
       "    }\n",
       "\n",
       "    .dataframe thead th {\n",
       "        text-align: right;\n",
       "    }\n",
       "</style>\n",
       "<table border=\"1\" class=\"dataframe\">\n",
       "  <thead>\n",
       "    <tr style=\"text-align: right;\">\n",
       "      <th></th>\n",
       "      <th>DRG</th>\n",
       "      <th>count</th>\n",
       "      <th>mean</th>\n",
       "      <th>std</th>\n",
       "      <th>min</th>\n",
       "      <th>25%</th>\n",
       "      <th>50%</th>\n",
       "      <th>75%</th>\n",
       "      <th>max</th>\n",
       "    </tr>\n",
       "  </thead>\n",
       "  <tbody>\n",
       "    <tr>\n",
       "      <th>0</th>\n",
       "      <td>039 - EXTRACRANIAL PROCEDURES W/O CC/MCC</td>\n",
       "      <td>1079.0</td>\n",
       "      <td>6960.534004</td>\n",
       "      <td>1477.873952</td>\n",
       "      <td>4968.00</td>\n",
       "      <td>6001.8300</td>\n",
       "      <td>6582.890</td>\n",
       "      <td>7516.825</td>\n",
       "      <td>18420.56</td>\n",
       "    </tr>\n",
       "    <tr>\n",
       "      <th>1</th>\n",
       "      <td>057 - DEGENERATIVE NERVOUS SYSTEM DISORDERS W/...</td>\n",
       "      <td>1201.0</td>\n",
       "      <td>6706.276445</td>\n",
       "      <td>2033.965862</td>\n",
       "      <td>4194.09</td>\n",
       "      <td>5412.8700</td>\n",
       "      <td>6093.750</td>\n",
       "      <td>7345.360</td>\n",
       "      <td>25519.43</td>\n",
       "    </tr>\n",
       "    <tr>\n",
       "      <th>2</th>\n",
       "      <td>064 - INTRACRANIAL HEMORRHAGE OR CEREBRAL INFA...</td>\n",
       "      <td>1659.0</td>\n",
       "      <td>13263.823032</td>\n",
       "      <td>3847.918207</td>\n",
       "      <td>8174.28</td>\n",
       "      <td>10762.2200</td>\n",
       "      <td>12084.700</td>\n",
       "      <td>14424.325</td>\n",
       "      <td>50882.40</td>\n",
       "    </tr>\n",
       "    <tr>\n",
       "      <th>3</th>\n",
       "      <td>065 - INTRACRANIAL HEMORRHAGE OR CEREBRAL INFA...</td>\n",
       "      <td>2269.0</td>\n",
       "      <td>7922.671141</td>\n",
       "      <td>2084.658336</td>\n",
       "      <td>5368.73</td>\n",
       "      <td>6626.2700</td>\n",
       "      <td>7280.050</td>\n",
       "      <td>8503.060</td>\n",
       "      <td>26510.15</td>\n",
       "    </tr>\n",
       "    <tr>\n",
       "      <th>4</th>\n",
       "      <td>066 - INTRACRANIAL HEMORRHAGE OR CEREBRAL INFA...</td>\n",
       "      <td>1806.0</td>\n",
       "      <td>5713.985221</td>\n",
       "      <td>1342.538675</td>\n",
       "      <td>3916.41</td>\n",
       "      <td>4819.3250</td>\n",
       "      <td>5326.025</td>\n",
       "      <td>6197.480</td>\n",
       "      <td>14744.05</td>\n",
       "    </tr>\n",
       "    <tr>\n",
       "      <th>...</th>\n",
       "      <td>...</td>\n",
       "      <td>...</td>\n",
       "      <td>...</td>\n",
       "      <td>...</td>\n",
       "      <td>...</td>\n",
       "      <td>...</td>\n",
       "      <td>...</td>\n",
       "      <td>...</td>\n",
       "      <td>...</td>\n",
       "    </tr>\n",
       "    <tr>\n",
       "      <th>95</th>\n",
       "      <td>885 - PSYCHOSES</td>\n",
       "      <td>613.0</td>\n",
       "      <td>6968.721876</td>\n",
       "      <td>2440.280958</td>\n",
       "      <td>4444.90</td>\n",
       "      <td>5477.2400</td>\n",
       "      <td>6155.560</td>\n",
       "      <td>7841.280</td>\n",
       "      <td>32200.77</td>\n",
       "    </tr>\n",
       "    <tr>\n",
       "      <th>96</th>\n",
       "      <td>897 - ALCOHOL/DRUG ABUSE OR DEPENDENCE W/O REH...</td>\n",
       "      <td>906.0</td>\n",
       "      <td>4949.907307</td>\n",
       "      <td>1462.463278</td>\n",
       "      <td>3172.44</td>\n",
       "      <td>3969.9675</td>\n",
       "      <td>4529.535</td>\n",
       "      <td>5440.675</td>\n",
       "      <td>18630.92</td>\n",
       "    </tr>\n",
       "    <tr>\n",
       "      <th>97</th>\n",
       "      <td>917 - POISONING &amp; TOXIC EFFECTS OF DRUGS W MCC</td>\n",
       "      <td>843.0</td>\n",
       "      <td>10763.814413</td>\n",
       "      <td>2823.004637</td>\n",
       "      <td>6942.83</td>\n",
       "      <td>8851.4550</td>\n",
       "      <td>10062.280</td>\n",
       "      <td>11788.675</td>\n",
       "      <td>33251.14</td>\n",
       "    </tr>\n",
       "    <tr>\n",
       "      <th>98</th>\n",
       "      <td>918 - POISONING &amp; TOXIC EFFECTS OF DRUGS W/O MCC</td>\n",
       "      <td>1382.0</td>\n",
       "      <td>4485.378734</td>\n",
       "      <td>1154.328951</td>\n",
       "      <td>3040.72</td>\n",
       "      <td>3720.5725</td>\n",
       "      <td>4136.105</td>\n",
       "      <td>4879.390</td>\n",
       "      <td>12479.80</td>\n",
       "    </tr>\n",
       "    <tr>\n",
       "      <th>99</th>\n",
       "      <td>948 - SIGNS &amp; SYMPTOMS W/O MCC</td>\n",
       "      <td>1793.0</td>\n",
       "      <td>4824.766436</td>\n",
       "      <td>1352.077957</td>\n",
       "      <td>3247.66</td>\n",
       "      <td>3997.8400</td>\n",
       "      <td>4411.180</td>\n",
       "      <td>5221.920</td>\n",
       "      <td>28968.20</td>\n",
       "    </tr>\n",
       "  </tbody>\n",
       "</table>\n",
       "<p>100 rows × 9 columns</p>\n",
       "</div>"
      ],
      "text/plain": [
       "                                                  DRG   count          mean  \\\n",
       "0            039 - EXTRACRANIAL PROCEDURES W/O CC/MCC  1079.0   6960.534004   \n",
       "1   057 - DEGENERATIVE NERVOUS SYSTEM DISORDERS W/...  1201.0   6706.276445   \n",
       "2   064 - INTRACRANIAL HEMORRHAGE OR CEREBRAL INFA...  1659.0  13263.823032   \n",
       "3   065 - INTRACRANIAL HEMORRHAGE OR CEREBRAL INFA...  2269.0   7922.671141   \n",
       "4   066 - INTRACRANIAL HEMORRHAGE OR CEREBRAL INFA...  1806.0   5713.985221   \n",
       "..                                                ...     ...           ...   \n",
       "95                                    885 - PSYCHOSES   613.0   6968.721876   \n",
       "96  897 - ALCOHOL/DRUG ABUSE OR DEPENDENCE W/O REH...   906.0   4949.907307   \n",
       "97     917 - POISONING & TOXIC EFFECTS OF DRUGS W MCC   843.0  10763.814413   \n",
       "98   918 - POISONING & TOXIC EFFECTS OF DRUGS W/O MCC  1382.0   4485.378734   \n",
       "99                     948 - SIGNS & SYMPTOMS W/O MCC  1793.0   4824.766436   \n",
       "\n",
       "            std      min         25%        50%        75%       max  \n",
       "0   1477.873952  4968.00   6001.8300   6582.890   7516.825  18420.56  \n",
       "1   2033.965862  4194.09   5412.8700   6093.750   7345.360  25519.43  \n",
       "2   3847.918207  8174.28  10762.2200  12084.700  14424.325  50882.40  \n",
       "3   2084.658336  5368.73   6626.2700   7280.050   8503.060  26510.15  \n",
       "4   1342.538675  3916.41   4819.3250   5326.025   6197.480  14744.05  \n",
       "..          ...      ...         ...        ...        ...       ...  \n",
       "95  2440.280958  4444.90   5477.2400   6155.560   7841.280  32200.77  \n",
       "96  1462.463278  3172.44   3969.9675   4529.535   5440.675  18630.92  \n",
       "97  2823.004637  6942.83   8851.4550  10062.280  11788.675  33251.14  \n",
       "98  1154.328951  3040.72   3720.5725   4136.105   4879.390  12479.80  \n",
       "99  1352.077957  3247.66   3997.8400   4411.180   5221.920  28968.20  \n",
       "\n",
       "[100 rows x 9 columns]"
      ]
     },
     "execution_count": 22,
     "metadata": {},
     "output_type": "execute_result"
    }
   ],
   "source": [
    "df.groupby('DRG')['Average_Total_Payments'].describe().reset_index()"
   ]
  },
  {
   "cell_type": "code",
   "execution_count": 23,
   "id": "4bc8eb7a",
   "metadata": {},
   "outputs": [
    {
     "data": {
      "text/plain": [
       "count    163065.000000\n",
       "mean         42.776304\n",
       "std          51.104042\n",
       "min          11.000000\n",
       "25%          17.000000\n",
       "50%          27.000000\n",
       "75%          49.000000\n",
       "max        3383.000000\n",
       "Name: Total_Discharges, dtype: float64"
      ]
     },
     "execution_count": 23,
     "metadata": {},
     "output_type": "execute_result"
    }
   ],
   "source": [
    "# Distribution plots of average total payments \n",
    "df['Total_Discharges'].describe()"
   ]
  },
  {
   "cell_type": "markdown",
   "id": "55c85fe4",
   "metadata": {},
   "source": [
    "### Section 2.4: Correlation Matrix <a class=\"anchor\" id=\"Section_24\"></a>\n",
    "* To examine the correlation between the variables and find that the charges a highly correlated."
   ]
  },
  {
   "cell_type": "code",
   "execution_count": 24,
   "id": "a73c5626",
   "metadata": {},
   "outputs": [
    {
     "data": {
      "image/png": "[encoded data removed]",
      "text/plain": [
       "<Figure size 720x360 with 2 Axes>"
      ]
     },
     "metadata": {
      "needs_background": "light"
     },
     "output_type": "display_data"
    }
   ],
   "source": [
    "corr_matrix = df.corr()\n",
    "ax = plt.subplots(figsize=(10,5)) \n",
    "sns.heatmap(corr_matrix, annot=True, linewidths=.5)\n",
    "plt.show()"
   ]
  },
  {
   "cell_type": "markdown",
   "id": "63b99a8b",
   "metadata": {},
   "source": [
    "## Section 3: Feature Engineering <a class=\"anchor\" id=\"Section_3\"></a>\n",
    "\n",
    "### Section 3.1: State & DRG Total Payment average <a class=\"anchor\" id=\"Section_31\"></a>\n",
    "- Calculating average ratio of Average Total Payment of every Provider state in DRG description. This will help understand the average total payment comparisons within the state in each DRG category. "
   ]
  },
  {
   "cell_type": "code",
   "execution_count": 25,
   "id": "007eca0e",
   "metadata": {},
   "outputs": [
    {
     "data": {
      "text/html": [
       "<div>\n",
       "<style scoped>\n",
       "    .dataframe tbody tr th:only-of-type {\n",
       "        vertical-align: middle;\n",
       "    }\n",
       "\n",
       "    .dataframe tbody tr th {\n",
       "        vertical-align: top;\n",
       "    }\n",
       "\n",
       "    .dataframe thead th {\n",
       "        text-align: right;\n",
       "    }\n",
       "</style>\n",
       "<table border=\"1\" class=\"dataframe\">\n",
       "  <thead>\n",
       "    <tr style=\"text-align: right;\">\n",
       "      <th></th>\n",
       "      <th>Provider_State</th>\n",
       "      <th>DRG</th>\n",
       "      <th>Avg_Payment_ByStateDRG</th>\n",
       "    </tr>\n",
       "  </thead>\n",
       "  <tbody>\n",
       "    <tr>\n",
       "      <th>0</th>\n",
       "      <td>AK</td>\n",
       "      <td>039 - EXTRACRANIAL PROCEDURES W/O CC/MCC</td>\n",
       "      <td>8401.950000</td>\n",
       "    </tr>\n",
       "    <tr>\n",
       "      <th>1</th>\n",
       "      <td>AK</td>\n",
       "      <td>057 - DEGENERATIVE NERVOUS SYSTEM DISORDERS W/...</td>\n",
       "      <td>8799.000000</td>\n",
       "    </tr>\n",
       "    <tr>\n",
       "      <th>2</th>\n",
       "      <td>AK</td>\n",
       "      <td>064 - INTRACRANIAL HEMORRHAGE OR CEREBRAL INFA...</td>\n",
       "      <td>21608.010000</td>\n",
       "    </tr>\n",
       "    <tr>\n",
       "      <th>3</th>\n",
       "      <td>AK</td>\n",
       "      <td>065 - INTRACRANIAL HEMORRHAGE OR CEREBRAL INFA...</td>\n",
       "      <td>12555.548333</td>\n",
       "    </tr>\n",
       "    <tr>\n",
       "      <th>4</th>\n",
       "      <td>AK</td>\n",
       "      <td>066 - INTRACRANIAL HEMORRHAGE OR CEREBRAL INFA...</td>\n",
       "      <td>9275.867500</td>\n",
       "    </tr>\n",
       "  </tbody>\n",
       "</table>\n",
       "</div>"
      ],
      "text/plain": [
       "  Provider_State                                                DRG  \\\n",
       "0             AK           039 - EXTRACRANIAL PROCEDURES W/O CC/MCC   \n",
       "1             AK  057 - DEGENERATIVE NERVOUS SYSTEM DISORDERS W/...   \n",
       "2             AK  064 - INTRACRANIAL HEMORRHAGE OR CEREBRAL INFA...   \n",
       "3             AK  065 - INTRACRANIAL HEMORRHAGE OR CEREBRAL INFA...   \n",
       "4             AK  066 - INTRACRANIAL HEMORRHAGE OR CEREBRAL INFA...   \n",
       "\n",
       "   Avg_Payment_ByStateDRG  \n",
       "0             8401.950000  \n",
       "1             8799.000000  \n",
       "2            21608.010000  \n",
       "3            12555.548333  \n",
       "4             9275.867500  "
      ]
     },
     "execution_count": 25,
     "metadata": {},
     "output_type": "execute_result"
    }
   ],
   "source": [
    "benchmark = df.groupby(['Provider_State','DRG'])['Average_Total_Payments'].mean().reset_index()\n",
    "benchmark.columns = ['Provider_State','DRG','Avg_Payment_ByStateDRG']\n",
    "benchmark.head()"
   ]
  },
  {
   "cell_type": "code",
   "execution_count": 26,
   "id": "0b9016cd",
   "metadata": {},
   "outputs": [
    {
     "data": {
      "text/plain": [
       "count    163065.000000\n",
       "mean          1.000000\n",
       "std           0.195274\n",
       "min           0.384805\n",
       "25%           0.880824\n",
       "50%           0.956830\n",
       "75%           1.064688\n",
       "max           7.857934\n",
       "Name: Avg_Payment_ByStateDRG_ratio_amount, dtype: float64"
      ]
     },
     "execution_count": 26,
     "metadata": {},
     "output_type": "execute_result"
    }
   ],
   "source": [
    "# add the new feature average spending to the dataset \n",
    "df1 = pd.merge(df, benchmark, how='left', on=['Provider_State','DRG'])\n",
    "# Feature 1: ratio of amount spending and average spending by drg in a state\n",
    "df1['Avg_Payment_ByStateDRG_ratio_amount'] = np.where(df1['Avg_Payment_ByStateDRG']==0,0, df1['Average_Total_Payments'] / df1['Avg_Payment_ByStateDRG'])\n",
    "df1['Avg_Payment_ByStateDRG_ratio_amount'].describe()"
   ]
  },
  {
   "cell_type": "code",
   "execution_count": 27,
   "id": "76aa706e",
   "metadata": {},
   "outputs": [
    {
     "data": {
      "text/html": [
       "<div>\n",
       "<style scoped>\n",
       "    .dataframe tbody tr th:only-of-type {\n",
       "        vertical-align: middle;\n",
       "    }\n",
       "\n",
       "    .dataframe tbody tr th {\n",
       "        vertical-align: top;\n",
       "    }\n",
       "\n",
       "    .dataframe thead th {\n",
       "        text-align: right;\n",
       "    }\n",
       "</style>\n",
       "<table border=\"1\" class=\"dataframe\">\n",
       "  <thead>\n",
       "    <tr style=\"text-align: right;\">\n",
       "      <th></th>\n",
       "      <th>Avg_Payment_ByStateDRG_ratio_amount_D</th>\n",
       "    </tr>\n",
       "  </thead>\n",
       "  <tbody>\n",
       "    <tr>\n",
       "      <th>0</th>\n",
       "      <td>(0.957, 1.102]</td>\n",
       "    </tr>\n",
       "    <tr>\n",
       "      <th>1</th>\n",
       "      <td>(0.957, 1.102]</td>\n",
       "    </tr>\n",
       "    <tr>\n",
       "      <th>2</th>\n",
       "      <td>(0.864, 0.957]</td>\n",
       "    </tr>\n",
       "    <tr>\n",
       "      <th>3</th>\n",
       "      <td>(0.864, 0.957]</td>\n",
       "    </tr>\n",
       "    <tr>\n",
       "      <th>4</th>\n",
       "      <td>(0.957, 1.102]</td>\n",
       "    </tr>\n",
       "    <tr>\n",
       "      <th>...</th>\n",
       "      <td>...</td>\n",
       "    </tr>\n",
       "    <tr>\n",
       "      <th>163060</th>\n",
       "      <td>(0.785, 0.864]</td>\n",
       "    </tr>\n",
       "    <tr>\n",
       "      <th>163061</th>\n",
       "      <td>(0.864, 0.957]</td>\n",
       "    </tr>\n",
       "    <tr>\n",
       "      <th>163062</th>\n",
       "      <td>(1.102, 1.383]</td>\n",
       "    </tr>\n",
       "    <tr>\n",
       "      <th>163063</th>\n",
       "      <td>(1.383, 1.663]</td>\n",
       "    </tr>\n",
       "    <tr>\n",
       "      <th>163064</th>\n",
       "      <td>(0.694, 0.785]</td>\n",
       "    </tr>\n",
       "  </tbody>\n",
       "</table>\n",
       "<p>163065 rows × 1 columns</p>\n",
       "</div>"
      ],
      "text/plain": [
       "       Avg_Payment_ByStateDRG_ratio_amount_D\n",
       "0                             (0.957, 1.102]\n",
       "1                             (0.957, 1.102]\n",
       "2                             (0.864, 0.957]\n",
       "3                             (0.864, 0.957]\n",
       "4                             (0.957, 1.102]\n",
       "...                                      ...\n",
       "163060                        (0.785, 0.864]\n",
       "163061                        (0.864, 0.957]\n",
       "163062                        (1.102, 1.383]\n",
       "163063                        (1.383, 1.663]\n",
       "163064                        (0.694, 0.785]\n",
       "\n",
       "[163065 rows x 1 columns]"
      ]
     },
     "execution_count": 27,
     "metadata": {},
     "output_type": "execute_result"
    }
   ],
   "source": [
    "var = 'Avg_Payment_ByStateDRG_ratio_amount'\n",
    "binned_var = var + '_D'\n",
    "percentile = [0,0.01,0.05,0.2,0.5,0.8,0.95,0.99,1]\n",
    "df1[binned_var] = pd.qcut( df1[var],percentile)\n",
    "df1[['Avg_Payment_ByStateDRG_ratio_amount_D']]"
   ]
  },
  {
   "cell_type": "code",
   "execution_count": 28,
   "id": "2a09c35e",
   "metadata": {},
   "outputs": [
    {
     "data": {
      "text/plain": [
       "[Text(0, 0, '(0.384, 0.694]'),\n",
       " Text(1, 0, '(0.694, 0.785]'),\n",
       " Text(2, 0, '(0.785, 0.864]'),\n",
       " Text(3, 0, '(0.864, 0.957]'),\n",
       " Text(4, 0, '(0.957, 1.102]'),\n",
       " Text(5, 0, '(1.102, 1.383]'),\n",
       " Text(6, 0, '(1.383, 1.663]'),\n",
       " Text(7, 0, '(1.663, 7.858]')]"
      ]
     },
     "execution_count": 28,
     "metadata": {},
     "output_type": "execute_result"
    },
    {
     "data": {
      "image/png": "[encoded data removed]",
      "text/plain": [
       "<Figure size 432x288 with 1 Axes>"
      ]
     },
     "metadata": {
      "needs_background": "light"
     },
     "output_type": "display_data"
    }
   ],
   "source": [
    "plt.figure(figsize=(6,4))\n",
    "g = sns.countplot(x=\"Avg_Payment_ByStateDRG_ratio_amount_D\", data=df1)\n",
    "g.set_xticklabels(g.get_xticklabels(), rotation=60)"
   ]
  },
  {
   "cell_type": "markdown",
   "id": "87fd92fa",
   "metadata": {},
   "source": [
    "#### Thought process:\n",
    "- If the ratio is larger than 1.663, then there is probably a fraudulent. "
   ]
  },
  {
   "cell_type": "code",
   "execution_count": 29,
   "id": "06a92b53",
   "metadata": {},
   "outputs": [
    {
     "data": {
      "text/plain": [
       "1627"
      ]
     },
     "execution_count": 29,
     "metadata": {},
     "output_type": "execute_result"
    }
   ],
   "source": [
    "len(df1[df1['Avg_Payment_ByStateDRG_ratio_amount']>1.663]['Provider_Name'])"
   ]
  },
  {
   "cell_type": "code",
   "execution_count": 30,
   "id": "1671c6fe",
   "metadata": {},
   "outputs": [
    {
     "data": {
      "text/plain": [
       "295"
      ]
     },
     "execution_count": 30,
     "metadata": {},
     "output_type": "execute_result"
    }
   ],
   "source": [
    "len(df1[df1['Avg_Payment_ByStateDRG_ratio_amount']>1.663]['Provider_Name'].unique())"
   ]
  },
  {
   "cell_type": "code",
   "execution_count": 31,
   "id": "8f51bd4c",
   "metadata": {},
   "outputs": [
    {
     "data": {
      "text/html": [
       "<div>\n",
       "<style scoped>\n",
       "    .dataframe tbody tr th:only-of-type {\n",
       "        vertical-align: middle;\n",
       "    }\n",
       "\n",
       "    .dataframe tbody tr th {\n",
       "        vertical-align: top;\n",
       "    }\n",
       "\n",
       "    .dataframe thead th {\n",
       "        text-align: right;\n",
       "    }\n",
       "</style>\n",
       "<table border=\"1\" class=\"dataframe\">\n",
       "  <thead>\n",
       "    <tr style=\"text-align: right;\">\n",
       "      <th></th>\n",
       "      <th>DRG</th>\n",
       "      <th>Provider_Id</th>\n",
       "      <th>Provider_Name</th>\n",
       "      <th>Provider_StreetAddress</th>\n",
       "      <th>Provider_City</th>\n",
       "      <th>Provider_State</th>\n",
       "      <th>Provider_Zipcode</th>\n",
       "      <th>Hospital_referral_region_desp</th>\n",
       "      <th>Total_Discharges</th>\n",
       "      <th>Average_Total_Payments</th>\n",
       "      <th>Average_Medicare_Payment</th>\n",
       "      <th>Avg_Payment_ByStateDRG</th>\n",
       "      <th>Avg_Payment_ByStateDRG_ratio_amount</th>\n",
       "      <th>Avg_Payment_ByStateDRG_ratio_amount_D</th>\n",
       "    </tr>\n",
       "  </thead>\n",
       "  <tbody>\n",
       "    <tr>\n",
       "      <th>104</th>\n",
       "      <td>039 - EXTRACRANIAL PROCEDURES W/O CC/MCC</td>\n",
       "      <td>50334</td>\n",
       "      <td>SALINAS VALLEY MEMORIAL HOSPITAL</td>\n",
       "      <td>450 EAST ROMIE LANE</td>\n",
       "      <td>SALINAS</td>\n",
       "      <td>CA</td>\n",
       "      <td>93901</td>\n",
       "      <td>CA - Salinas</td>\n",
       "      <td>17</td>\n",
       "      <td>16744.82</td>\n",
       "      <td>7051.05</td>\n",
       "      <td>8387.932687</td>\n",
       "      <td>1.996299</td>\n",
       "      <td>(1.663, 7.858]</td>\n",
       "    </tr>\n",
       "    <tr>\n",
       "      <th>280</th>\n",
       "      <td>039 - EXTRACRANIAL PROCEDURES W/O CC/MCC</td>\n",
       "      <td>140008</td>\n",
       "      <td>LOYOLA GOTTLIEB MEMORIAL HOSPITAL</td>\n",
       "      <td>701 WEST NORTH AVE</td>\n",
       "      <td>MELROSE PARK</td>\n",
       "      <td>IL</td>\n",
       "      <td>60160</td>\n",
       "      <td>IL - Melrose Park</td>\n",
       "      <td>16</td>\n",
       "      <td>18420.56</td>\n",
       "      <td>4401.87</td>\n",
       "      <td>7376.789808</td>\n",
       "      <td>2.497097</td>\n",
       "      <td>(1.663, 7.858]</td>\n",
       "    </tr>\n",
       "    <tr>\n",
       "      <th>294</th>\n",
       "      <td>039 - EXTRACRANIAL PROCEDURES W/O CC/MCC</td>\n",
       "      <td>140080</td>\n",
       "      <td>RHC ST FRANCIS HOSPITAL</td>\n",
       "      <td>355 RIDGE AVE</td>\n",
       "      <td>EVANSTON</td>\n",
       "      <td>IL</td>\n",
       "      <td>60202</td>\n",
       "      <td>IL - Evanston</td>\n",
       "      <td>12</td>\n",
       "      <td>17347.00</td>\n",
       "      <td>6934.08</td>\n",
       "      <td>7376.789808</td>\n",
       "      <td>2.351565</td>\n",
       "      <td>(1.663, 7.858]</td>\n",
       "    </tr>\n",
       "    <tr>\n",
       "      <th>456</th>\n",
       "      <td>039 - EXTRACRANIAL PROCEDURES W/O CC/MCC</td>\n",
       "      <td>210029</td>\n",
       "      <td>JOHNS HOPKINS BAYVIEW MEDICAL CENTER</td>\n",
       "      <td>4940 EASTERN AVENUE</td>\n",
       "      <td>BALTIMORE</td>\n",
       "      <td>MD</td>\n",
       "      <td>21224</td>\n",
       "      <td>MD - Baltimore</td>\n",
       "      <td>11</td>\n",
       "      <td>16878.45</td>\n",
       "      <td>15855.18</td>\n",
       "      <td>9081.858095</td>\n",
       "      <td>1.858480</td>\n",
       "      <td>(1.663, 7.858]</td>\n",
       "    </tr>\n",
       "    <tr>\n",
       "      <th>537</th>\n",
       "      <td>039 - EXTRACRANIAL PROCEDURES W/O CC/MCC</td>\n",
       "      <td>240063</td>\n",
       "      <td>ST JOSEPH'S HOSPITAL</td>\n",
       "      <td>45 WEST 10TH STREET</td>\n",
       "      <td>SAINT PAUL</td>\n",
       "      <td>MN</td>\n",
       "      <td>55102</td>\n",
       "      <td>MN - St. Paul</td>\n",
       "      <td>14</td>\n",
       "      <td>13234.35</td>\n",
       "      <td>4930.28</td>\n",
       "      <td>7696.400000</td>\n",
       "      <td>1.719551</td>\n",
       "      <td>(1.663, 7.858]</td>\n",
       "    </tr>\n",
       "  </tbody>\n",
       "</table>\n",
       "</div>"
      ],
      "text/plain": [
       "                                          DRG Provider_Id  \\\n",
       "104  039 - EXTRACRANIAL PROCEDURES W/O CC/MCC       50334   \n",
       "280  039 - EXTRACRANIAL PROCEDURES W/O CC/MCC      140008   \n",
       "294  039 - EXTRACRANIAL PROCEDURES W/O CC/MCC      140080   \n",
       "456  039 - EXTRACRANIAL PROCEDURES W/O CC/MCC      210029   \n",
       "537  039 - EXTRACRANIAL PROCEDURES W/O CC/MCC      240063   \n",
       "\n",
       "                            Provider_Name Provider_StreetAddress  \\\n",
       "104      SALINAS VALLEY MEMORIAL HOSPITAL    450 EAST ROMIE LANE   \n",
       "280     LOYOLA GOTTLIEB MEMORIAL HOSPITAL     701 WEST NORTH AVE   \n",
       "294               RHC ST FRANCIS HOSPITAL          355 RIDGE AVE   \n",
       "456  JOHNS HOPKINS BAYVIEW MEDICAL CENTER    4940 EASTERN AVENUE   \n",
       "537                  ST JOSEPH'S HOSPITAL    45 WEST 10TH STREET   \n",
       "\n",
       "    Provider_City Provider_State  Provider_Zipcode  \\\n",
       "104       SALINAS             CA             93901   \n",
       "280  MELROSE PARK             IL             60160   \n",
       "294      EVANSTON             IL             60202   \n",
       "456     BALTIMORE             MD             21224   \n",
       "537    SAINT PAUL             MN             55102   \n",
       "\n",
       "    Hospital_referral_region_desp  Total_Discharges  Average_Total_Payments  \\\n",
       "104                  CA - Salinas                17                16744.82   \n",
       "280             IL - Melrose Park                16                18420.56   \n",
       "294                 IL - Evanston                12                17347.00   \n",
       "456                MD - Baltimore                11                16878.45   \n",
       "537                 MN - St. Paul                14                13234.35   \n",
       "\n",
       "     Average_Medicare_Payment  Avg_Payment_ByStateDRG  \\\n",
       "104                   7051.05             8387.932687   \n",
       "280                   4401.87             7376.789808   \n",
       "294                   6934.08             7376.789808   \n",
       "456                  15855.18             9081.858095   \n",
       "537                   4930.28             7696.400000   \n",
       "\n",
       "     Avg_Payment_ByStateDRG_ratio_amount Avg_Payment_ByStateDRG_ratio_amount_D  \n",
       "104                             1.996299                        (1.663, 7.858]  \n",
       "280                             2.497097                        (1.663, 7.858]  \n",
       "294                             2.351565                        (1.663, 7.858]  \n",
       "456                             1.858480                        (1.663, 7.858]  \n",
       "537                             1.719551                        (1.663, 7.858]  "
      ]
     },
     "execution_count": 31,
     "metadata": {},
     "output_type": "execute_result"
    }
   ],
   "source": [
    "df1[df1['Avg_Payment_ByStateDRG_ratio_amount']>1.663].head()"
   ]
  },
  {
   "cell_type": "markdown",
   "id": "5838ec05",
   "metadata": {},
   "source": [
    "### Section 3.2: City & DRG Total Payment average <a class=\"anchor\" id=\"Section_32\"></a>\n",
    "- Calculating average ratio of Average Total Payment of every Provider city in DRG description. This will help understand the average total payment comparisons within the city. "
   ]
  },
  {
   "cell_type": "code",
   "execution_count": 32,
   "id": "ce916250",
   "metadata": {},
   "outputs": [
    {
     "data": {
      "text/html": [
       "<div>\n",
       "<style scoped>\n",
       "    .dataframe tbody tr th:only-of-type {\n",
       "        vertical-align: middle;\n",
       "    }\n",
       "\n",
       "    .dataframe tbody tr th {\n",
       "        vertical-align: top;\n",
       "    }\n",
       "\n",
       "    .dataframe thead th {\n",
       "        text-align: right;\n",
       "    }\n",
       "</style>\n",
       "<table border=\"1\" class=\"dataframe\">\n",
       "  <thead>\n",
       "    <tr style=\"text-align: right;\">\n",
       "      <th></th>\n",
       "      <th>Provider_City</th>\n",
       "      <th>DRG</th>\n",
       "      <th>Average_Payment_ByCityDRG</th>\n",
       "    </tr>\n",
       "  </thead>\n",
       "  <tbody>\n",
       "    <tr>\n",
       "      <th>0</th>\n",
       "      <td>ABBEVILLE</td>\n",
       "      <td>039 - EXTRACRANIAL PROCEDURES W/O CC/MCC</td>\n",
       "      <td>NaN</td>\n",
       "    </tr>\n",
       "    <tr>\n",
       "      <th>1</th>\n",
       "      <td>ABBEVILLE</td>\n",
       "      <td>057 - DEGENERATIVE NERVOUS SYSTEM DISORDERS W/...</td>\n",
       "      <td>NaN</td>\n",
       "    </tr>\n",
       "    <tr>\n",
       "      <th>2</th>\n",
       "      <td>ABBEVILLE</td>\n",
       "      <td>064 - INTRACRANIAL HEMORRHAGE OR CEREBRAL INFA...</td>\n",
       "      <td>NaN</td>\n",
       "    </tr>\n",
       "    <tr>\n",
       "      <th>3</th>\n",
       "      <td>ABBEVILLE</td>\n",
       "      <td>065 - INTRACRANIAL HEMORRHAGE OR CEREBRAL INFA...</td>\n",
       "      <td>NaN</td>\n",
       "    </tr>\n",
       "    <tr>\n",
       "      <th>4</th>\n",
       "      <td>ABBEVILLE</td>\n",
       "      <td>066 - INTRACRANIAL HEMORRHAGE OR CEREBRAL INFA...</td>\n",
       "      <td>NaN</td>\n",
       "    </tr>\n",
       "  </tbody>\n",
       "</table>\n",
       "</div>"
      ],
      "text/plain": [
       "  Provider_City                                                DRG  \\\n",
       "0     ABBEVILLE           039 - EXTRACRANIAL PROCEDURES W/O CC/MCC   \n",
       "1     ABBEVILLE  057 - DEGENERATIVE NERVOUS SYSTEM DISORDERS W/...   \n",
       "2     ABBEVILLE  064 - INTRACRANIAL HEMORRHAGE OR CEREBRAL INFA...   \n",
       "3     ABBEVILLE  065 - INTRACRANIAL HEMORRHAGE OR CEREBRAL INFA...   \n",
       "4     ABBEVILLE  066 - INTRACRANIAL HEMORRHAGE OR CEREBRAL INFA...   \n",
       "\n",
       "   Average_Payment_ByCityDRG  \n",
       "0                        NaN  \n",
       "1                        NaN  \n",
       "2                        NaN  \n",
       "3                        NaN  \n",
       "4                        NaN  "
      ]
     },
     "execution_count": 32,
     "metadata": {},
     "output_type": "execute_result"
    }
   ],
   "source": [
    "benchmark = df.groupby(['Provider_City','DRG'])['Average_Total_Payments'].median().reset_index()\n",
    "benchmark.columns = ['Provider_City','DRG','Average_Payment_ByCityDRG']\n",
    "benchmark.head()"
   ]
  },
  {
   "cell_type": "code",
   "execution_count": 33,
   "id": "49b8136e",
   "metadata": {},
   "outputs": [
    {
     "data": {
      "text/plain": [
       "count    163065.000000\n",
       "mean          1.011287\n",
       "std           0.120431\n",
       "min           0.238195\n",
       "25%           1.000000\n",
       "50%           1.000000\n",
       "75%           1.000000\n",
       "max           5.591943\n",
       "Name: Average_Payment_ByCityDRG_ratio_amount, dtype: float64"
      ]
     },
     "execution_count": 33,
     "metadata": {},
     "output_type": "execute_result"
    }
   ],
   "source": [
    "# add the new feature average spending to the dataset \n",
    "df2 = pd.merge(df, benchmark, how='left', on=['Provider_City','DRG'])\n",
    "# Feature 3: ratio of amount spending and average spending by drg in a city\n",
    "df2['Average_Payment_ByCityDRG_ratio_amount'] = np.where(df2['Average_Payment_ByCityDRG']==0,0, df2['Average_Total_Payments'] / df2['Average_Payment_ByCityDRG'])\n",
    "df2['Average_Payment_ByCityDRG_ratio_amount'].describe()"
   ]
  },
  {
   "cell_type": "code",
   "execution_count": 34,
   "id": "721e51fb",
   "metadata": {},
   "outputs": [
    {
     "data": {
      "text/html": [
       "<div>\n",
       "<style scoped>\n",
       "    .dataframe tbody tr th:only-of-type {\n",
       "        vertical-align: middle;\n",
       "    }\n",
       "\n",
       "    .dataframe tbody tr th {\n",
       "        vertical-align: top;\n",
       "    }\n",
       "\n",
       "    .dataframe thead th {\n",
       "        text-align: right;\n",
       "    }\n",
       "</style>\n",
       "<table border=\"1\" class=\"dataframe\">\n",
       "  <thead>\n",
       "    <tr style=\"text-align: right;\">\n",
       "      <th></th>\n",
       "      <th>Average_Payment_ByCityDRG_ratio_amount_D</th>\n",
       "    </tr>\n",
       "  </thead>\n",
       "  <tbody>\n",
       "    <tr>\n",
       "      <th>0</th>\n",
       "      <td>(1.019, 1.212]</td>\n",
       "    </tr>\n",
       "    <tr>\n",
       "      <th>1</th>\n",
       "      <td>(0.982, 1.0]</td>\n",
       "    </tr>\n",
       "    <tr>\n",
       "      <th>2</th>\n",
       "      <td>(0.735, 0.853]</td>\n",
       "    </tr>\n",
       "    <tr>\n",
       "      <th>3</th>\n",
       "      <td>(0.853, 0.982]</td>\n",
       "    </tr>\n",
       "    <tr>\n",
       "      <th>4</th>\n",
       "      <td>(0.982, 1.0]</td>\n",
       "    </tr>\n",
       "    <tr>\n",
       "      <th>...</th>\n",
       "      <td>...</td>\n",
       "    </tr>\n",
       "    <tr>\n",
       "      <th>163060</th>\n",
       "      <td>(0.982, 1.0]</td>\n",
       "    </tr>\n",
       "    <tr>\n",
       "      <th>163061</th>\n",
       "      <td>(0.853, 0.982]</td>\n",
       "    </tr>\n",
       "    <tr>\n",
       "      <th>163062</th>\n",
       "      <td>(0.982, 1.0]</td>\n",
       "    </tr>\n",
       "    <tr>\n",
       "      <th>163063</th>\n",
       "      <td>(0.982, 1.0]</td>\n",
       "    </tr>\n",
       "    <tr>\n",
       "      <th>163064</th>\n",
       "      <td>(0.982, 1.0]</td>\n",
       "    </tr>\n",
       "  </tbody>\n",
       "</table>\n",
       "<p>163065 rows × 1 columns</p>\n",
       "</div>"
      ],
      "text/plain": [
       "       Average_Payment_ByCityDRG_ratio_amount_D\n",
       "0                                (1.019, 1.212]\n",
       "1                                  (0.982, 1.0]\n",
       "2                                (0.735, 0.853]\n",
       "3                                (0.853, 0.982]\n",
       "4                                  (0.982, 1.0]\n",
       "...                                         ...\n",
       "163060                             (0.982, 1.0]\n",
       "163061                           (0.853, 0.982]\n",
       "163062                             (0.982, 1.0]\n",
       "163063                             (0.982, 1.0]\n",
       "163064                             (0.982, 1.0]\n",
       "\n",
       "[163065 rows x 1 columns]"
      ]
     },
     "execution_count": 34,
     "metadata": {},
     "output_type": "execute_result"
    }
   ],
   "source": [
    "var = 'Average_Payment_ByCityDRG_ratio_amount'\n",
    "binned_var = var + '_D'\n",
    "percentile = [0,0.01,0.05,0.2,0.5,0.8,0.95,0.99,1]\n",
    "df2[binned_var] = pd.qcut( df2[var],percentile)\n",
    "df2[['Average_Payment_ByCityDRG_ratio_amount_D']]"
   ]
  },
  {
   "cell_type": "code",
   "execution_count": 35,
   "id": "92aedafe",
   "metadata": {},
   "outputs": [
    {
     "data": {
      "text/plain": [
       "[Text(0, 0, '(0.237, 0.735]'),\n",
       " Text(1, 0, '(0.735, 0.853]'),\n",
       " Text(2, 0, '(0.853, 0.982]'),\n",
       " Text(3, 0, '(0.982, 1.0]'),\n",
       " Text(4, 0, '(1.0, 1.019]'),\n",
       " Text(5, 0, '(1.019, 1.212]'),\n",
       " Text(6, 0, '(1.212, 1.499]'),\n",
       " Text(7, 0, '(1.499, 5.592]')]"
      ]
     },
     "execution_count": 35,
     "metadata": {},
     "output_type": "execute_result"
    },
    {
     "data": {
      "image/png": "[encoded data removed]",
      "text/plain": [
       "<Figure size 432x288 with 1 Axes>"
      ]
     },
     "metadata": {
      "needs_background": "light"
     },
     "output_type": "display_data"
    }
   ],
   "source": [
    "plt.figure(figsize=(6,4))\n",
    "g = sns.countplot(x=\"Average_Payment_ByCityDRG_ratio_amount_D\", data=df2)\n",
    "g.set_xticklabels(g.get_xticklabels(), rotation=60)"
   ]
  },
  {
   "cell_type": "markdown",
   "id": "eccea6aa",
   "metadata": {},
   "source": [
    "#### Thought process:\n",
    "- If the ratio is larger than 1.499, then there is probably a fraudulent. "
   ]
  },
  {
   "cell_type": "code",
   "execution_count": 36,
   "id": "99cb94bb",
   "metadata": {},
   "outputs": [
    {
     "data": {
      "text/plain": [
       "1634"
      ]
     },
     "execution_count": 36,
     "metadata": {},
     "output_type": "execute_result"
    }
   ],
   "source": [
    "len(df2[df2['Average_Payment_ByCityDRG_ratio_amount']>1.499])"
   ]
  },
  {
   "cell_type": "code",
   "execution_count": 37,
   "id": "d1f862f6",
   "metadata": {},
   "outputs": [
    {
     "data": {
      "text/plain": [
       "210"
      ]
     },
     "execution_count": 37,
     "metadata": {},
     "output_type": "execute_result"
    }
   ],
   "source": [
    "len(df2[df2['Average_Payment_ByCityDRG_ratio_amount']>1.499]['Provider_Name'].unique())"
   ]
  },
  {
   "cell_type": "code",
   "execution_count": 38,
   "id": "46117694",
   "metadata": {},
   "outputs": [
    {
     "data": {
      "text/html": [
       "<div>\n",
       "<style scoped>\n",
       "    .dataframe tbody tr th:only-of-type {\n",
       "        vertical-align: middle;\n",
       "    }\n",
       "\n",
       "    .dataframe tbody tr th {\n",
       "        vertical-align: top;\n",
       "    }\n",
       "\n",
       "    .dataframe thead th {\n",
       "        text-align: right;\n",
       "    }\n",
       "</style>\n",
       "<table border=\"1\" class=\"dataframe\">\n",
       "  <thead>\n",
       "    <tr style=\"text-align: right;\">\n",
       "      <th></th>\n",
       "      <th>DRG</th>\n",
       "      <th>Provider_Id</th>\n",
       "      <th>Provider_Name</th>\n",
       "      <th>Provider_StreetAddress</th>\n",
       "      <th>Provider_City</th>\n",
       "      <th>Provider_State</th>\n",
       "      <th>Provider_Zipcode</th>\n",
       "      <th>Hospital_referral_region_desp</th>\n",
       "      <th>Total_Discharges</th>\n",
       "      <th>Average_Total_Payments</th>\n",
       "      <th>Average_Medicare_Payment</th>\n",
       "      <th>Average_Payment_ByCityDRG</th>\n",
       "      <th>Average_Payment_ByCityDRG_ratio_amount</th>\n",
       "      <th>Average_Payment_ByCityDRG_ratio_amount_D</th>\n",
       "    </tr>\n",
       "  </thead>\n",
       "  <tbody>\n",
       "    <tr>\n",
       "      <th>73</th>\n",
       "      <td>039 - EXTRACRANIAL PROCEDURES W/O CC/MCC</td>\n",
       "      <td>50058</td>\n",
       "      <td>GLENDALE MEM HOSPITAL &amp; HLTH CENTER</td>\n",
       "      <td>1420 S CENTRAL AVE</td>\n",
       "      <td>GLENDALE</td>\n",
       "      <td>CA</td>\n",
       "      <td>91204</td>\n",
       "      <td>CA - Los Angeles</td>\n",
       "      <td>11</td>\n",
       "      <td>11082.18</td>\n",
       "      <td>10056.00</td>\n",
       "      <td>7046.000</td>\n",
       "      <td>1.572833</td>\n",
       "      <td>(1.499, 5.592]</td>\n",
       "    </tr>\n",
       "    <tr>\n",
       "      <th>245</th>\n",
       "      <td>039 - EXTRACRANIAL PROCEDURES W/O CC/MCC</td>\n",
       "      <td>110010</td>\n",
       "      <td>EMORY UNIVERSITY HOSPITAL</td>\n",
       "      <td>1364 CLIFTON ROAD, NE</td>\n",
       "      <td>ATLANTA</td>\n",
       "      <td>GA</td>\n",
       "      <td>30322</td>\n",
       "      <td>GA - Atlanta</td>\n",
       "      <td>26</td>\n",
       "      <td>9719.03</td>\n",
       "      <td>6058.38</td>\n",
       "      <td>5528.840</td>\n",
       "      <td>1.757879</td>\n",
       "      <td>(1.499, 5.592]</td>\n",
       "    </tr>\n",
       "    <tr>\n",
       "      <th>347</th>\n",
       "      <td>039 - EXTRACRANIAL PROCEDURES W/O CC/MCC</td>\n",
       "      <td>150056</td>\n",
       "      <td>INDIANA UNIVERSITY HEALTH</td>\n",
       "      <td>1701 N SENATE BLVD</td>\n",
       "      <td>INDIANAPOLIS</td>\n",
       "      <td>IN</td>\n",
       "      <td>46206</td>\n",
       "      <td>IN - Indianapolis</td>\n",
       "      <td>82</td>\n",
       "      <td>9764.93</td>\n",
       "      <td>7054.52</td>\n",
       "      <td>6102.040</td>\n",
       "      <td>1.600273</td>\n",
       "      <td>(1.499, 5.592]</td>\n",
       "    </tr>\n",
       "    <tr>\n",
       "      <th>456</th>\n",
       "      <td>039 - EXTRACRANIAL PROCEDURES W/O CC/MCC</td>\n",
       "      <td>210029</td>\n",
       "      <td>JOHNS HOPKINS BAYVIEW MEDICAL CENTER</td>\n",
       "      <td>4940 EASTERN AVENUE</td>\n",
       "      <td>BALTIMORE</td>\n",
       "      <td>MD</td>\n",
       "      <td>21224</td>\n",
       "      <td>MD - Baltimore</td>\n",
       "      <td>11</td>\n",
       "      <td>16878.45</td>\n",
       "      <td>15855.18</td>\n",
       "      <td>10352.720</td>\n",
       "      <td>1.630340</td>\n",
       "      <td>(1.499, 5.592]</td>\n",
       "    </tr>\n",
       "    <tr>\n",
       "      <th>544</th>\n",
       "      <td>039 - EXTRACRANIAL PROCEDURES W/O CC/MCC</td>\n",
       "      <td>250001</td>\n",
       "      <td>UNIVERSITY OF MISSISSIPPI MED CENTER</td>\n",
       "      <td>2500 N STATE ST</td>\n",
       "      <td>JACKSON</td>\n",
       "      <td>MS</td>\n",
       "      <td>39216</td>\n",
       "      <td>MS - Jackson</td>\n",
       "      <td>11</td>\n",
       "      <td>10017.36</td>\n",
       "      <td>6677.54</td>\n",
       "      <td>6190.445</td>\n",
       "      <td>1.618197</td>\n",
       "      <td>(1.499, 5.592]</td>\n",
       "    </tr>\n",
       "  </tbody>\n",
       "</table>\n",
       "</div>"
      ],
      "text/plain": [
       "                                          DRG Provider_Id  \\\n",
       "73   039 - EXTRACRANIAL PROCEDURES W/O CC/MCC       50058   \n",
       "245  039 - EXTRACRANIAL PROCEDURES W/O CC/MCC      110010   \n",
       "347  039 - EXTRACRANIAL PROCEDURES W/O CC/MCC      150056   \n",
       "456  039 - EXTRACRANIAL PROCEDURES W/O CC/MCC      210029   \n",
       "544  039 - EXTRACRANIAL PROCEDURES W/O CC/MCC      250001   \n",
       "\n",
       "                            Provider_Name Provider_StreetAddress  \\\n",
       "73    GLENDALE MEM HOSPITAL & HLTH CENTER     1420 S CENTRAL AVE   \n",
       "245             EMORY UNIVERSITY HOSPITAL  1364 CLIFTON ROAD, NE   \n",
       "347             INDIANA UNIVERSITY HEALTH     1701 N SENATE BLVD   \n",
       "456  JOHNS HOPKINS BAYVIEW MEDICAL CENTER    4940 EASTERN AVENUE   \n",
       "544  UNIVERSITY OF MISSISSIPPI MED CENTER        2500 N STATE ST   \n",
       "\n",
       "    Provider_City Provider_State  Provider_Zipcode  \\\n",
       "73       GLENDALE             CA             91204   \n",
       "245       ATLANTA             GA             30322   \n",
       "347  INDIANAPOLIS             IN             46206   \n",
       "456     BALTIMORE             MD             21224   \n",
       "544       JACKSON             MS             39216   \n",
       "\n",
       "    Hospital_referral_region_desp  Total_Discharges  Average_Total_Payments  \\\n",
       "73               CA - Los Angeles                11                11082.18   \n",
       "245                  GA - Atlanta                26                 9719.03   \n",
       "347             IN - Indianapolis                82                 9764.93   \n",
       "456                MD - Baltimore                11                16878.45   \n",
       "544                  MS - Jackson                11                10017.36   \n",
       "\n",
       "     Average_Medicare_Payment  Average_Payment_ByCityDRG  \\\n",
       "73                   10056.00                   7046.000   \n",
       "245                   6058.38                   5528.840   \n",
       "347                   7054.52                   6102.040   \n",
       "456                  15855.18                  10352.720   \n",
       "544                   6677.54                   6190.445   \n",
       "\n",
       "     Average_Payment_ByCityDRG_ratio_amount  \\\n",
       "73                                 1.572833   \n",
       "245                                1.757879   \n",
       "347                                1.600273   \n",
       "456                                1.630340   \n",
       "544                                1.618197   \n",
       "\n",
       "    Average_Payment_ByCityDRG_ratio_amount_D  \n",
       "73                            (1.499, 5.592]  \n",
       "245                           (1.499, 5.592]  \n",
       "347                           (1.499, 5.592]  \n",
       "456                           (1.499, 5.592]  \n",
       "544                           (1.499, 5.592]  "
      ]
     },
     "execution_count": 38,
     "metadata": {},
     "output_type": "execute_result"
    }
   ],
   "source": [
    "df2[df2['Average_Payment_ByCityDRG_ratio_amount']>1.499].head()"
   ]
  },
  {
   "cell_type": "markdown",
   "id": "90a6b694",
   "metadata": {},
   "source": [
    "### Section 3.3: Region & DRG Total Payment average <a class=\"anchor\" id=\"Section_33\"></a>\n",
    "- Calculating average ratio of Average Total Payment of every Hospital referral region desp in DRG description. This will help understand the average total payment comparisons within the region. "
   ]
  },
  {
   "cell_type": "code",
   "execution_count": 39,
   "id": "83a3815f",
   "metadata": {},
   "outputs": [
    {
     "data": {
      "text/html": [
       "<div>\n",
       "<style scoped>\n",
       "    .dataframe tbody tr th:only-of-type {\n",
       "        vertical-align: middle;\n",
       "    }\n",
       "\n",
       "    .dataframe tbody tr th {\n",
       "        vertical-align: top;\n",
       "    }\n",
       "\n",
       "    .dataframe thead th {\n",
       "        text-align: right;\n",
       "    }\n",
       "</style>\n",
       "<table border=\"1\" class=\"dataframe\">\n",
       "  <thead>\n",
       "    <tr style=\"text-align: right;\">\n",
       "      <th></th>\n",
       "      <th>Hospital_referral_region_desp</th>\n",
       "      <th>DRG</th>\n",
       "      <th>Avg_Payment_ByRegionDRG</th>\n",
       "    </tr>\n",
       "  </thead>\n",
       "  <tbody>\n",
       "    <tr>\n",
       "      <th>0</th>\n",
       "      <td>AK - Anchorage</td>\n",
       "      <td>039 - EXTRACRANIAL PROCEDURES W/O CC/MCC</td>\n",
       "      <td>8401.950000</td>\n",
       "    </tr>\n",
       "    <tr>\n",
       "      <th>1</th>\n",
       "      <td>AK - Anchorage</td>\n",
       "      <td>057 - DEGENERATIVE NERVOUS SYSTEM DISORDERS W/...</td>\n",
       "      <td>8799.000000</td>\n",
       "    </tr>\n",
       "    <tr>\n",
       "      <th>2</th>\n",
       "      <td>AK - Anchorage</td>\n",
       "      <td>064 - INTRACRANIAL HEMORRHAGE OR CEREBRAL INFA...</td>\n",
       "      <td>21608.010000</td>\n",
       "    </tr>\n",
       "    <tr>\n",
       "      <th>3</th>\n",
       "      <td>AK - Anchorage</td>\n",
       "      <td>065 - INTRACRANIAL HEMORRHAGE OR CEREBRAL INFA...</td>\n",
       "      <td>12555.548333</td>\n",
       "    </tr>\n",
       "    <tr>\n",
       "      <th>4</th>\n",
       "      <td>AK - Anchorage</td>\n",
       "      <td>066 - INTRACRANIAL HEMORRHAGE OR CEREBRAL INFA...</td>\n",
       "      <td>9275.867500</td>\n",
       "    </tr>\n",
       "  </tbody>\n",
       "</table>\n",
       "</div>"
      ],
      "text/plain": [
       "  Hospital_referral_region_desp  \\\n",
       "0                AK - Anchorage   \n",
       "1                AK - Anchorage   \n",
       "2                AK - Anchorage   \n",
       "3                AK - Anchorage   \n",
       "4                AK - Anchorage   \n",
       "\n",
       "                                                 DRG  Avg_Payment_ByRegionDRG  \n",
       "0           039 - EXTRACRANIAL PROCEDURES W/O CC/MCC              8401.950000  \n",
       "1  057 - DEGENERATIVE NERVOUS SYSTEM DISORDERS W/...              8799.000000  \n",
       "2  064 - INTRACRANIAL HEMORRHAGE OR CEREBRAL INFA...             21608.010000  \n",
       "3  065 - INTRACRANIAL HEMORRHAGE OR CEREBRAL INFA...             12555.548333  \n",
       "4  066 - INTRACRANIAL HEMORRHAGE OR CEREBRAL INFA...              9275.867500  "
      ]
     },
     "execution_count": 39,
     "metadata": {},
     "output_type": "execute_result"
    }
   ],
   "source": [
    "benchmark = df.groupby(['Hospital_referral_region_desp','DRG'])['Average_Total_Payments'].mean().reset_index()\n",
    "benchmark.columns = ['Hospital_referral_region_desp','DRG','Avg_Payment_ByRegionDRG']\n",
    "benchmark.head()"
   ]
  },
  {
   "cell_type": "code",
   "execution_count": 40,
   "id": "ddd0c7ff",
   "metadata": {},
   "outputs": [
    {
     "data": {
      "text/plain": [
       "count    163065.000000\n",
       "mean          1.000000\n",
       "std           0.159145\n",
       "min           0.271255\n",
       "25%           0.902856\n",
       "50%           0.977701\n",
       "75%           1.057561\n",
       "max           4.848303\n",
       "Name: Avg_Payment_ByRegionDRG_ratio_amount, dtype: float64"
      ]
     },
     "execution_count": 40,
     "metadata": {},
     "output_type": "execute_result"
    }
   ],
   "source": [
    "# add the new feature average spending to the dataset \n",
    "df3 = pd.merge(df, benchmark, how='left', on=['Hospital_referral_region_desp','DRG'])\n",
    "# Feature 3: ratio of amount spending and average spending by drg in a region \n",
    "df3['Avg_Payment_ByRegionDRG_ratio_amount'] = np.where(df3['Avg_Payment_ByRegionDRG']==0,0, df3['Average_Total_Payments'] / df3['Avg_Payment_ByRegionDRG'])\n",
    "df3['Avg_Payment_ByRegionDRG_ratio_amount'].describe()"
   ]
  },
  {
   "cell_type": "code",
   "execution_count": 41,
   "id": "b526cfc3",
   "metadata": {},
   "outputs": [
    {
     "data": {
      "text/html": [
       "<div>\n",
       "<style scoped>\n",
       "    .dataframe tbody tr th:only-of-type {\n",
       "        vertical-align: middle;\n",
       "    }\n",
       "\n",
       "    .dataframe tbody tr th {\n",
       "        vertical-align: top;\n",
       "    }\n",
       "\n",
       "    .dataframe thead th {\n",
       "        text-align: right;\n",
       "    }\n",
       "</style>\n",
       "<table border=\"1\" class=\"dataframe\">\n",
       "  <thead>\n",
       "    <tr style=\"text-align: right;\">\n",
       "      <th></th>\n",
       "      <th>Avg_Payment_ByRegionDRG_ratio_amount_D</th>\n",
       "    </tr>\n",
       "  </thead>\n",
       "  <tbody>\n",
       "    <tr>\n",
       "      <th>0</th>\n",
       "      <td>(0.978, 1.085]</td>\n",
       "    </tr>\n",
       "    <tr>\n",
       "      <th>1</th>\n",
       "      <td>(0.978, 1.085]</td>\n",
       "    </tr>\n",
       "    <tr>\n",
       "      <th>2</th>\n",
       "      <td>(0.885, 0.978]</td>\n",
       "    </tr>\n",
       "    <tr>\n",
       "      <th>3</th>\n",
       "      <td>(0.885, 0.978]</td>\n",
       "    </tr>\n",
       "    <tr>\n",
       "      <th>4</th>\n",
       "      <td>(0.978, 1.085]</td>\n",
       "    </tr>\n",
       "    <tr>\n",
       "      <th>...</th>\n",
       "      <td>...</td>\n",
       "    </tr>\n",
       "    <tr>\n",
       "      <th>163060</th>\n",
       "      <td>(0.803, 0.885]</td>\n",
       "    </tr>\n",
       "    <tr>\n",
       "      <th>163061</th>\n",
       "      <td>(0.803, 0.885]</td>\n",
       "    </tr>\n",
       "    <tr>\n",
       "      <th>163062</th>\n",
       "      <td>(1.085, 1.305]</td>\n",
       "    </tr>\n",
       "    <tr>\n",
       "      <th>163063</th>\n",
       "      <td>(1.544, 4.848]</td>\n",
       "    </tr>\n",
       "    <tr>\n",
       "      <th>163064</th>\n",
       "      <td>(0.734, 0.803]</td>\n",
       "    </tr>\n",
       "  </tbody>\n",
       "</table>\n",
       "<p>163065 rows × 1 columns</p>\n",
       "</div>"
      ],
      "text/plain": [
       "       Avg_Payment_ByRegionDRG_ratio_amount_D\n",
       "0                              (0.978, 1.085]\n",
       "1                              (0.978, 1.085]\n",
       "2                              (0.885, 0.978]\n",
       "3                              (0.885, 0.978]\n",
       "4                              (0.978, 1.085]\n",
       "...                                       ...\n",
       "163060                         (0.803, 0.885]\n",
       "163061                         (0.803, 0.885]\n",
       "163062                         (1.085, 1.305]\n",
       "163063                         (1.544, 4.848]\n",
       "163064                         (0.734, 0.803]\n",
       "\n",
       "[163065 rows x 1 columns]"
      ]
     },
     "execution_count": 41,
     "metadata": {},
     "output_type": "execute_result"
    }
   ],
   "source": [
    "var = 'Avg_Payment_ByRegionDRG_ratio_amount'\n",
    "binned_var = var + '_D'\n",
    "percentile = [0,0.01,0.05,0.2,0.5,0.8,0.95,0.99,1]\n",
    "df3[binned_var] = pd.qcut( df3[var],percentile)\n",
    "df3[['Avg_Payment_ByRegionDRG_ratio_amount_D']]"
   ]
  },
  {
   "cell_type": "code",
   "execution_count": 42,
   "id": "2fe8833e",
   "metadata": {},
   "outputs": [
    {
     "data": {
      "text/plain": [
       "[Text(0, 0, '(0.27, 0.734]'),\n",
       " Text(1, 0, '(0.734, 0.803]'),\n",
       " Text(2, 0, '(0.803, 0.885]'),\n",
       " Text(3, 0, '(0.885, 0.978]'),\n",
       " Text(4, 0, '(0.978, 1.085]'),\n",
       " Text(5, 0, '(1.085, 1.305]'),\n",
       " Text(6, 0, '(1.305, 1.544]'),\n",
       " Text(7, 0, '(1.544, 4.848]')]"
      ]
     },
     "execution_count": 42,
     "metadata": {},
     "output_type": "execute_result"
    },
    {
     "data": {
      "image/png": "[encoded data removed]",
      "text/plain": [
       "<Figure size 432x288 with 1 Axes>"
      ]
     },
     "metadata": {
      "needs_background": "light"
     },
     "output_type": "display_data"
    }
   ],
   "source": [
    "plt.figure(figsize=(6,4))\n",
    "g = sns.countplot(x=\"Avg_Payment_ByRegionDRG_ratio_amount_D\", data=df3)\n",
    "g.set_xticklabels(g.get_xticklabels(), rotation=60)"
   ]
  },
  {
   "cell_type": "markdown",
   "id": "d5f67bff",
   "metadata": {},
   "source": [
    "#### Thought process:\n",
    "- If the ratio is larger than 1.544, then there is probably a fraudulent. "
   ]
  },
  {
   "cell_type": "code",
   "execution_count": 43,
   "id": "fe4c4e87",
   "metadata": {},
   "outputs": [
    {
     "data": {
      "text/plain": [
       "1630"
      ]
     },
     "execution_count": 43,
     "metadata": {},
     "output_type": "execute_result"
    }
   ],
   "source": [
    "len(df3[df3['Avg_Payment_ByRegionDRG_ratio_amount']>1.544])"
   ]
  },
  {
   "cell_type": "code",
   "execution_count": 44,
   "id": "8b6aea23",
   "metadata": {},
   "outputs": [
    {
     "data": {
      "text/plain": [
       "295"
      ]
     },
     "execution_count": 44,
     "metadata": {},
     "output_type": "execute_result"
    }
   ],
   "source": [
    "len(df3[df3['Avg_Payment_ByRegionDRG_ratio_amount']>1.544]['Provider_Name'].unique())"
   ]
  },
  {
   "cell_type": "code",
   "execution_count": 45,
   "id": "4e467e3d",
   "metadata": {},
   "outputs": [
    {
     "data": {
      "text/html": [
       "<div>\n",
       "<style scoped>\n",
       "    .dataframe tbody tr th:only-of-type {\n",
       "        vertical-align: middle;\n",
       "    }\n",
       "\n",
       "    .dataframe tbody tr th {\n",
       "        vertical-align: top;\n",
       "    }\n",
       "\n",
       "    .dataframe thead th {\n",
       "        text-align: right;\n",
       "    }\n",
       "</style>\n",
       "<table border=\"1\" class=\"dataframe\">\n",
       "  <thead>\n",
       "    <tr style=\"text-align: right;\">\n",
       "      <th></th>\n",
       "      <th>DRG</th>\n",
       "      <th>Provider_Id</th>\n",
       "      <th>Provider_Name</th>\n",
       "      <th>Provider_StreetAddress</th>\n",
       "      <th>Provider_City</th>\n",
       "      <th>Provider_State</th>\n",
       "      <th>Provider_Zipcode</th>\n",
       "      <th>Hospital_referral_region_desp</th>\n",
       "      <th>Total_Discharges</th>\n",
       "      <th>Average_Total_Payments</th>\n",
       "      <th>Average_Medicare_Payment</th>\n",
       "      <th>Avg_Payment_ByRegionDRG</th>\n",
       "      <th>Avg_Payment_ByRegionDRG_ratio_amount</th>\n",
       "      <th>Avg_Payment_ByRegionDRG_ratio_amount_D</th>\n",
       "    </tr>\n",
       "  </thead>\n",
       "  <tbody>\n",
       "    <tr>\n",
       "      <th>59</th>\n",
       "      <td>039 - EXTRACRANIAL PROCEDURES W/O CC/MCC</td>\n",
       "      <td>40078</td>\n",
       "      <td>NATIONAL PARK MEDICAL CENTER</td>\n",
       "      <td>1910 MALVERN AVENUE</td>\n",
       "      <td>HOT SPRINGS</td>\n",
       "      <td>AR</td>\n",
       "      <td>71901</td>\n",
       "      <td>AR - Little Rock</td>\n",
       "      <td>18</td>\n",
       "      <td>9838.11</td>\n",
       "      <td>8533.83</td>\n",
       "      <td>6309.002222</td>\n",
       "      <td>1.559377</td>\n",
       "      <td>(1.544, 4.848]</td>\n",
       "    </tr>\n",
       "    <tr>\n",
       "      <th>280</th>\n",
       "      <td>039 - EXTRACRANIAL PROCEDURES W/O CC/MCC</td>\n",
       "      <td>140008</td>\n",
       "      <td>LOYOLA GOTTLIEB MEMORIAL HOSPITAL</td>\n",
       "      <td>701 WEST NORTH AVE</td>\n",
       "      <td>MELROSE PARK</td>\n",
       "      <td>IL</td>\n",
       "      <td>60160</td>\n",
       "      <td>IL - Melrose Park</td>\n",
       "      <td>16</td>\n",
       "      <td>18420.56</td>\n",
       "      <td>4401.87</td>\n",
       "      <td>9360.371667</td>\n",
       "      <td>1.967930</td>\n",
       "      <td>(1.544, 4.848]</td>\n",
       "    </tr>\n",
       "    <tr>\n",
       "      <th>294</th>\n",
       "      <td>039 - EXTRACRANIAL PROCEDURES W/O CC/MCC</td>\n",
       "      <td>140080</td>\n",
       "      <td>RHC ST FRANCIS HOSPITAL</td>\n",
       "      <td>355 RIDGE AVE</td>\n",
       "      <td>EVANSTON</td>\n",
       "      <td>IL</td>\n",
       "      <td>60202</td>\n",
       "      <td>IL - Evanston</td>\n",
       "      <td>12</td>\n",
       "      <td>17347.00</td>\n",
       "      <td>6934.08</td>\n",
       "      <td>9802.682500</td>\n",
       "      <td>1.769618</td>\n",
       "      <td>(1.544, 4.848]</td>\n",
       "    </tr>\n",
       "    <tr>\n",
       "      <th>456</th>\n",
       "      <td>039 - EXTRACRANIAL PROCEDURES W/O CC/MCC</td>\n",
       "      <td>210029</td>\n",
       "      <td>JOHNS HOPKINS BAYVIEW MEDICAL CENTER</td>\n",
       "      <td>4940 EASTERN AVENUE</td>\n",
       "      <td>BALTIMORE</td>\n",
       "      <td>MD</td>\n",
       "      <td>21224</td>\n",
       "      <td>MD - Baltimore</td>\n",
       "      <td>11</td>\n",
       "      <td>16878.45</td>\n",
       "      <td>15855.18</td>\n",
       "      <td>9302.277500</td>\n",
       "      <td>1.814443</td>\n",
       "      <td>(1.544, 4.848]</td>\n",
       "    </tr>\n",
       "    <tr>\n",
       "      <th>690</th>\n",
       "      <td>039 - EXTRACRANIAL PROCEDURES W/O CC/MCC</td>\n",
       "      <td>330195</td>\n",
       "      <td>LONG ISLAND JEWISH MEDICAL CENTER</td>\n",
       "      <td>270 - 05 76TH AVENUE</td>\n",
       "      <td>NEW HYDE PARK</td>\n",
       "      <td>NY</td>\n",
       "      <td>11040</td>\n",
       "      <td>NY - East Long Island</td>\n",
       "      <td>11</td>\n",
       "      <td>13895.09</td>\n",
       "      <td>13280.54</td>\n",
       "      <td>8885.493750</td>\n",
       "      <td>1.563795</td>\n",
       "      <td>(1.544, 4.848]</td>\n",
       "    </tr>\n",
       "  </tbody>\n",
       "</table>\n",
       "</div>"
      ],
      "text/plain": [
       "                                          DRG Provider_Id  \\\n",
       "59   039 - EXTRACRANIAL PROCEDURES W/O CC/MCC       40078   \n",
       "280  039 - EXTRACRANIAL PROCEDURES W/O CC/MCC      140008   \n",
       "294  039 - EXTRACRANIAL PROCEDURES W/O CC/MCC      140080   \n",
       "456  039 - EXTRACRANIAL PROCEDURES W/O CC/MCC      210029   \n",
       "690  039 - EXTRACRANIAL PROCEDURES W/O CC/MCC      330195   \n",
       "\n",
       "                            Provider_Name Provider_StreetAddress  \\\n",
       "59           NATIONAL PARK MEDICAL CENTER    1910 MALVERN AVENUE   \n",
       "280     LOYOLA GOTTLIEB MEMORIAL HOSPITAL     701 WEST NORTH AVE   \n",
       "294               RHC ST FRANCIS HOSPITAL          355 RIDGE AVE   \n",
       "456  JOHNS HOPKINS BAYVIEW MEDICAL CENTER    4940 EASTERN AVENUE   \n",
       "690     LONG ISLAND JEWISH MEDICAL CENTER   270 - 05 76TH AVENUE   \n",
       "\n",
       "     Provider_City Provider_State  Provider_Zipcode  \\\n",
       "59     HOT SPRINGS             AR             71901   \n",
       "280   MELROSE PARK             IL             60160   \n",
       "294       EVANSTON             IL             60202   \n",
       "456      BALTIMORE             MD             21224   \n",
       "690  NEW HYDE PARK             NY             11040   \n",
       "\n",
       "    Hospital_referral_region_desp  Total_Discharges  Average_Total_Payments  \\\n",
       "59               AR - Little Rock                18                 9838.11   \n",
       "280             IL - Melrose Park                16                18420.56   \n",
       "294                 IL - Evanston                12                17347.00   \n",
       "456                MD - Baltimore                11                16878.45   \n",
       "690         NY - East Long Island                11                13895.09   \n",
       "\n",
       "     Average_Medicare_Payment  Avg_Payment_ByRegionDRG  \\\n",
       "59                    8533.83              6309.002222   \n",
       "280                   4401.87              9360.371667   \n",
       "294                   6934.08              9802.682500   \n",
       "456                  15855.18              9302.277500   \n",
       "690                  13280.54              8885.493750   \n",
       "\n",
       "     Avg_Payment_ByRegionDRG_ratio_amount  \\\n",
       "59                               1.559377   \n",
       "280                              1.967930   \n",
       "294                              1.769618   \n",
       "456                              1.814443   \n",
       "690                              1.563795   \n",
       "\n",
       "    Avg_Payment_ByRegionDRG_ratio_amount_D  \n",
       "59                          (1.544, 4.848]  \n",
       "280                         (1.544, 4.848]  \n",
       "294                         (1.544, 4.848]  \n",
       "456                         (1.544, 4.848]  \n",
       "690                         (1.544, 4.848]  "
      ]
     },
     "execution_count": 45,
     "metadata": {},
     "output_type": "execute_result"
    }
   ],
   "source": [
    "df3[df3['Avg_Payment_ByRegionDRG_ratio_amount']>1.544].head()"
   ]
  },
  {
   "cell_type": "markdown",
   "id": "3712b55a",
   "metadata": {},
   "source": [
    "### Section 3.4: State & DRG Total Discharges average <a class=\"anchor\" id=\"Section_34\"></a>\n",
    "- Calculating average ratio of total discharges of every Provider state in DRG description. This will help understand the total discharges comparisons within the state. "
   ]
  },
  {
   "cell_type": "code",
   "execution_count": 46,
   "id": "1a386358",
   "metadata": {},
   "outputs": [
    {
     "data": {
      "text/html": [
       "<div>\n",
       "<style scoped>\n",
       "    .dataframe tbody tr th:only-of-type {\n",
       "        vertical-align: middle;\n",
       "    }\n",
       "\n",
       "    .dataframe tbody tr th {\n",
       "        vertical-align: top;\n",
       "    }\n",
       "\n",
       "    .dataframe thead th {\n",
       "        text-align: right;\n",
       "    }\n",
       "</style>\n",
       "<table border=\"1\" class=\"dataframe\">\n",
       "  <thead>\n",
       "    <tr style=\"text-align: right;\">\n",
       "      <th></th>\n",
       "      <th>Provider_State</th>\n",
       "      <th>DRG</th>\n",
       "      <th>Avg_Discharges_ByStateDRG</th>\n",
       "    </tr>\n",
       "  </thead>\n",
       "  <tbody>\n",
       "    <tr>\n",
       "      <th>0</th>\n",
       "      <td>AK</td>\n",
       "      <td>039 - EXTRACRANIAL PROCEDURES W/O CC/MCC</td>\n",
       "      <td>23.000000</td>\n",
       "    </tr>\n",
       "    <tr>\n",
       "      <th>1</th>\n",
       "      <td>AK</td>\n",
       "      <td>057 - DEGENERATIVE NERVOUS SYSTEM DISORDERS W/...</td>\n",
       "      <td>11.000000</td>\n",
       "    </tr>\n",
       "    <tr>\n",
       "      <th>2</th>\n",
       "      <td>AK</td>\n",
       "      <td>064 - INTRACRANIAL HEMORRHAGE OR CEREBRAL INFA...</td>\n",
       "      <td>22.500000</td>\n",
       "    </tr>\n",
       "    <tr>\n",
       "      <th>3</th>\n",
       "      <td>AK</td>\n",
       "      <td>065 - INTRACRANIAL HEMORRHAGE OR CEREBRAL INFA...</td>\n",
       "      <td>25.333333</td>\n",
       "    </tr>\n",
       "    <tr>\n",
       "      <th>4</th>\n",
       "      <td>AK</td>\n",
       "      <td>066 - INTRACRANIAL HEMORRHAGE OR CEREBRAL INFA...</td>\n",
       "      <td>21.000000</td>\n",
       "    </tr>\n",
       "  </tbody>\n",
       "</table>\n",
       "</div>"
      ],
      "text/plain": [
       "  Provider_State                                                DRG  \\\n",
       "0             AK           039 - EXTRACRANIAL PROCEDURES W/O CC/MCC   \n",
       "1             AK  057 - DEGENERATIVE NERVOUS SYSTEM DISORDERS W/...   \n",
       "2             AK  064 - INTRACRANIAL HEMORRHAGE OR CEREBRAL INFA...   \n",
       "3             AK  065 - INTRACRANIAL HEMORRHAGE OR CEREBRAL INFA...   \n",
       "4             AK  066 - INTRACRANIAL HEMORRHAGE OR CEREBRAL INFA...   \n",
       "\n",
       "   Avg_Discharges_ByStateDRG  \n",
       "0                  23.000000  \n",
       "1                  11.000000  \n",
       "2                  22.500000  \n",
       "3                  25.333333  \n",
       "4                  21.000000  "
      ]
     },
     "execution_count": 46,
     "metadata": {},
     "output_type": "execute_result"
    }
   ],
   "source": [
    "benchmark = df.groupby(['Provider_State','DRG'])['Total_Discharges'].mean().reset_index()\n",
    "benchmark.columns = ['Provider_State','DRG','Avg_Discharges_ByStateDRG']\n",
    "benchmark.head()"
   ]
  },
  {
   "cell_type": "code",
   "execution_count": 47,
   "id": "dd95f067",
   "metadata": {},
   "outputs": [
    {
     "data": {
      "text/plain": [
       "count    163065.000000\n",
       "mean          1.000000\n",
       "std           0.686087\n",
       "min           0.045025\n",
       "25%           0.550452\n",
       "50%           0.819820\n",
       "75%           1.251471\n",
       "max          24.624593\n",
       "Name: Avg_Discharges_ByStateDRG_ratio_amount, dtype: float64"
      ]
     },
     "execution_count": 47,
     "metadata": {},
     "output_type": "execute_result"
    }
   ],
   "source": [
    "# add the new feature average total discharges to the dataset \n",
    "df4 = pd.merge(df, benchmark, how='left', on=['Provider_State','DRG'])\n",
    "# Feature 4: ratio of amount total discharges and average total discharges by drg in a state \n",
    "df4['Avg_Discharges_ByStateDRG_ratio_amount'] = np.where(df4['Avg_Discharges_ByStateDRG']==0,0, df4['Total_Discharges'] / df4['Avg_Discharges_ByStateDRG'])\n",
    "df4['Avg_Discharges_ByStateDRG_ratio_amount'].describe()"
   ]
  },
  {
   "cell_type": "code",
   "execution_count": 48,
   "id": "1f816b4d",
   "metadata": {},
   "outputs": [
    {
     "data": {
      "text/html": [
       "<div>\n",
       "<style scoped>\n",
       "    .dataframe tbody tr th:only-of-type {\n",
       "        vertical-align: middle;\n",
       "    }\n",
       "\n",
       "    .dataframe tbody tr th {\n",
       "        vertical-align: top;\n",
       "    }\n",
       "\n",
       "    .dataframe thead th {\n",
       "        text-align: right;\n",
       "    }\n",
       "</style>\n",
       "<table border=\"1\" class=\"dataframe\">\n",
       "  <thead>\n",
       "    <tr style=\"text-align: right;\">\n",
       "      <th></th>\n",
       "      <th>Avg_Discharges_ByStateDRG_ratio_amount_D</th>\n",
       "    </tr>\n",
       "  </thead>\n",
       "  <tbody>\n",
       "    <tr>\n",
       "      <th>0</th>\n",
       "      <td>(2.287, 3.472]</td>\n",
       "    </tr>\n",
       "    <tr>\n",
       "      <th>1</th>\n",
       "      <td>(0.305, 0.5]</td>\n",
       "    </tr>\n",
       "    <tr>\n",
       "      <th>2</th>\n",
       "      <td>(0.5, 0.82]</td>\n",
       "    </tr>\n",
       "    <tr>\n",
       "      <th>3</th>\n",
       "      <td>(0.5, 0.82]</td>\n",
       "    </tr>\n",
       "    <tr>\n",
       "      <th>4</th>\n",
       "      <td>(0.305, 0.5]</td>\n",
       "    </tr>\n",
       "    <tr>\n",
       "      <th>...</th>\n",
       "      <td>...</td>\n",
       "    </tr>\n",
       "    <tr>\n",
       "      <th>163060</th>\n",
       "      <td>(0.82, 1.388]</td>\n",
       "    </tr>\n",
       "    <tr>\n",
       "      <th>163061</th>\n",
       "      <td>(0.305, 0.5]</td>\n",
       "    </tr>\n",
       "    <tr>\n",
       "      <th>163062</th>\n",
       "      <td>(0.5, 0.82]</td>\n",
       "    </tr>\n",
       "    <tr>\n",
       "      <th>163063</th>\n",
       "      <td>(0.305, 0.5]</td>\n",
       "    </tr>\n",
       "    <tr>\n",
       "      <th>163064</th>\n",
       "      <td>(0.305, 0.5]</td>\n",
       "    </tr>\n",
       "  </tbody>\n",
       "</table>\n",
       "<p>163065 rows × 1 columns</p>\n",
       "</div>"
      ],
      "text/plain": [
       "       Avg_Discharges_ByStateDRG_ratio_amount_D\n",
       "0                                (2.287, 3.472]\n",
       "1                                  (0.305, 0.5]\n",
       "2                                   (0.5, 0.82]\n",
       "3                                   (0.5, 0.82]\n",
       "4                                  (0.305, 0.5]\n",
       "...                                         ...\n",
       "163060                            (0.82, 1.388]\n",
       "163061                             (0.305, 0.5]\n",
       "163062                              (0.5, 0.82]\n",
       "163063                             (0.305, 0.5]\n",
       "163064                             (0.305, 0.5]\n",
       "\n",
       "[163065 rows x 1 columns]"
      ]
     },
     "execution_count": 48,
     "metadata": {},
     "output_type": "execute_result"
    }
   ],
   "source": [
    "var = 'Avg_Discharges_ByStateDRG_ratio_amount'\n",
    "binned_var = var + '_D'\n",
    "percentile = [0,0.01,0.05,0.2,0.5,0.8,0.95,0.99,1]\n",
    "df4[binned_var] = pd.qcut( df4[var],percentile)\n",
    "df4[['Avg_Discharges_ByStateDRG_ratio_amount_D']]"
   ]
  },
  {
   "cell_type": "code",
   "execution_count": 49,
   "id": "27238b78",
   "metadata": {},
   "outputs": [
    {
     "data": {
      "text/plain": [
       "[Text(0, 0, '(0.044, 0.19]'),\n",
       " Text(1, 0, '(0.19, 0.305]'),\n",
       " Text(2, 0, '(0.305, 0.5]'),\n",
       " Text(3, 0, '(0.5, 0.82]'),\n",
       " Text(4, 0, '(0.82, 1.388]'),\n",
       " Text(5, 0, '(1.388, 2.287]'),\n",
       " Text(6, 0, '(2.287, 3.472]'),\n",
       " Text(7, 0, '(3.472, 24.625]')]"
      ]
     },
     "execution_count": 49,
     "metadata": {},
     "output_type": "execute_result"
    },
    {
     "data": {
      "image/png": "[encoded data removed]",
      "text/plain": [
       "<Figure size 432x288 with 1 Axes>"
      ]
     },
     "metadata": {
      "needs_background": "light"
     },
     "output_type": "display_data"
    }
   ],
   "source": [
    "plt.figure(figsize=(6,4))\n",
    "g = sns.countplot(x=\"Avg_Discharges_ByStateDRG_ratio_amount_D\", data=df4)\n",
    "g.set_xticklabels(g.get_xticklabels(), rotation=60)"
   ]
  },
  {
   "cell_type": "markdown",
   "id": "4cc50537",
   "metadata": {},
   "source": [
    "#### Thought process:\n",
    "- If the ratio is larger than 3.472, then there is probably a fraudulent. "
   ]
  },
  {
   "cell_type": "code",
   "execution_count": 50,
   "id": "1dbdc9f2",
   "metadata": {},
   "outputs": [
    {
     "data": {
      "text/plain": [
       "1633"
      ]
     },
     "execution_count": 50,
     "metadata": {},
     "output_type": "execute_result"
    }
   ],
   "source": [
    "len(df4[df4['Avg_Discharges_ByStateDRG_ratio_amount']>3.472])"
   ]
  },
  {
   "cell_type": "code",
   "execution_count": 51,
   "id": "14200c5b",
   "metadata": {},
   "outputs": [
    {
     "data": {
      "text/plain": [
       "400"
      ]
     },
     "execution_count": 51,
     "metadata": {},
     "output_type": "execute_result"
    }
   ],
   "source": [
    "len(df4[df4['Avg_Discharges_ByStateDRG_ratio_amount']>3.472]['Provider_Name'].unique())"
   ]
  },
  {
   "cell_type": "code",
   "execution_count": 52,
   "id": "bf83c56e",
   "metadata": {},
   "outputs": [
    {
     "data": {
      "text/html": [
       "<div>\n",
       "<style scoped>\n",
       "    .dataframe tbody tr th:only-of-type {\n",
       "        vertical-align: middle;\n",
       "    }\n",
       "\n",
       "    .dataframe tbody tr th {\n",
       "        vertical-align: top;\n",
       "    }\n",
       "\n",
       "    .dataframe thead th {\n",
       "        text-align: right;\n",
       "    }\n",
       "</style>\n",
       "<table border=\"1\" class=\"dataframe\">\n",
       "  <thead>\n",
       "    <tr style=\"text-align: right;\">\n",
       "      <th></th>\n",
       "      <th>DRG</th>\n",
       "      <th>Provider_Id</th>\n",
       "      <th>Provider_Name</th>\n",
       "      <th>Provider_StreetAddress</th>\n",
       "      <th>Provider_City</th>\n",
       "      <th>Provider_State</th>\n",
       "      <th>Provider_Zipcode</th>\n",
       "      <th>Hospital_referral_region_desp</th>\n",
       "      <th>Total_Discharges</th>\n",
       "      <th>Average_Total_Payments</th>\n",
       "      <th>Average_Medicare_Payment</th>\n",
       "      <th>Avg_Discharges_ByStateDRG</th>\n",
       "      <th>Avg_Discharges_ByStateDRG_ratio_amount</th>\n",
       "      <th>Avg_Discharges_ByStateDRG_ratio_amount_D</th>\n",
       "    </tr>\n",
       "  </thead>\n",
       "  <tbody>\n",
       "    <tr>\n",
       "      <th>8</th>\n",
       "      <td>039 - EXTRACRANIAL PROCEDURES W/O CC/MCC</td>\n",
       "      <td>10039</td>\n",
       "      <td>HUNTSVILLE HOSPITAL</td>\n",
       "      <td>101 SIVLEY RD</td>\n",
       "      <td>HUNTSVILLE</td>\n",
       "      <td>AL</td>\n",
       "      <td>35801</td>\n",
       "      <td>AL - Huntsville</td>\n",
       "      <td>135</td>\n",
       "      <td>6113.38</td>\n",
       "      <td>5228.40</td>\n",
       "      <td>38.217391</td>\n",
       "      <td>3.532423</td>\n",
       "      <td>(3.472, 24.625]</td>\n",
       "    </tr>\n",
       "    <tr>\n",
       "      <th>394</th>\n",
       "      <td>039 - EXTRACRANIAL PROCEDURES W/O CC/MCC</td>\n",
       "      <td>170186</td>\n",
       "      <td>KANSAS HEART HOSPITAL</td>\n",
       "      <td>3601 NORTH WEBB ROAD</td>\n",
       "      <td>WICHITA</td>\n",
       "      <td>KS</td>\n",
       "      <td>67226</td>\n",
       "      <td>KS - Wichita</td>\n",
       "      <td>190</td>\n",
       "      <td>5332.51</td>\n",
       "      <td>4311.03</td>\n",
       "      <td>37.125000</td>\n",
       "      <td>5.117845</td>\n",
       "      <td>(3.472, 24.625]</td>\n",
       "    </tr>\n",
       "    <tr>\n",
       "      <th>440</th>\n",
       "      <td>039 - EXTRACRANIAL PROCEDURES W/O CC/MCC</td>\n",
       "      <td>190263</td>\n",
       "      <td>HEART HOSPITAL OF LAFAYETTE</td>\n",
       "      <td>1105 KALISTE SALOOM ROAD</td>\n",
       "      <td>LAFAYETTE</td>\n",
       "      <td>LA</td>\n",
       "      <td>70508</td>\n",
       "      <td>LA - Lafayette</td>\n",
       "      <td>110</td>\n",
       "      <td>5348.60</td>\n",
       "      <td>4115.00</td>\n",
       "      <td>29.720000</td>\n",
       "      <td>3.701211</td>\n",
       "      <td>(3.472, 24.625]</td>\n",
       "    </tr>\n",
       "    <tr>\n",
       "      <th>603</th>\n",
       "      <td>039 - EXTRACRANIAL PROCEDURES W/O CC/MCC</td>\n",
       "      <td>280128</td>\n",
       "      <td>NEBRASKA HEART HOSPITAL</td>\n",
       "      <td>7500 SOUTH 91ST ST</td>\n",
       "      <td>LINCOLN</td>\n",
       "      <td>NE</td>\n",
       "      <td>68526</td>\n",
       "      <td>NE - Lincoln</td>\n",
       "      <td>125</td>\n",
       "      <td>5519.41</td>\n",
       "      <td>4495.55</td>\n",
       "      <td>35.333333</td>\n",
       "      <td>3.537736</td>\n",
       "      <td>(3.472, 24.625]</td>\n",
       "    </tr>\n",
       "    <tr>\n",
       "      <th>679</th>\n",
       "      <td>039 - EXTRACRANIAL PROCEDURES W/O CC/MCC</td>\n",
       "      <td>330140</td>\n",
       "      <td>ST JOSEPH'S HOSPITAL HEALTH CENTER</td>\n",
       "      <td>301 PROSPECT AVENUE</td>\n",
       "      <td>SYRACUSE</td>\n",
       "      <td>NY</td>\n",
       "      <td>13203</td>\n",
       "      <td>NY - Syracuse</td>\n",
       "      <td>137</td>\n",
       "      <td>6673.68</td>\n",
       "      <td>5471.58</td>\n",
       "      <td>29.043478</td>\n",
       "      <td>4.717066</td>\n",
       "      <td>(3.472, 24.625]</td>\n",
       "    </tr>\n",
       "  </tbody>\n",
       "</table>\n",
       "</div>"
      ],
      "text/plain": [
       "                                          DRG Provider_Id  \\\n",
       "8    039 - EXTRACRANIAL PROCEDURES W/O CC/MCC       10039   \n",
       "394  039 - EXTRACRANIAL PROCEDURES W/O CC/MCC      170186   \n",
       "440  039 - EXTRACRANIAL PROCEDURES W/O CC/MCC      190263   \n",
       "603  039 - EXTRACRANIAL PROCEDURES W/O CC/MCC      280128   \n",
       "679  039 - EXTRACRANIAL PROCEDURES W/O CC/MCC      330140   \n",
       "\n",
       "                          Provider_Name    Provider_StreetAddress  \\\n",
       "8                   HUNTSVILLE HOSPITAL             101 SIVLEY RD   \n",
       "394               KANSAS HEART HOSPITAL      3601 NORTH WEBB ROAD   \n",
       "440         HEART HOSPITAL OF LAFAYETTE  1105 KALISTE SALOOM ROAD   \n",
       "603             NEBRASKA HEART HOSPITAL        7500 SOUTH 91ST ST   \n",
       "679  ST JOSEPH'S HOSPITAL HEALTH CENTER       301 PROSPECT AVENUE   \n",
       "\n",
       "    Provider_City Provider_State  Provider_Zipcode  \\\n",
       "8      HUNTSVILLE             AL             35801   \n",
       "394       WICHITA             KS             67226   \n",
       "440     LAFAYETTE             LA             70508   \n",
       "603       LINCOLN             NE             68526   \n",
       "679      SYRACUSE             NY             13203   \n",
       "\n",
       "    Hospital_referral_region_desp  Total_Discharges  Average_Total_Payments  \\\n",
       "8                 AL - Huntsville               135                 6113.38   \n",
       "394                  KS - Wichita               190                 5332.51   \n",
       "440                LA - Lafayette               110                 5348.60   \n",
       "603                  NE - Lincoln               125                 5519.41   \n",
       "679                 NY - Syracuse               137                 6673.68   \n",
       "\n",
       "     Average_Medicare_Payment  Avg_Discharges_ByStateDRG  \\\n",
       "8                     5228.40                  38.217391   \n",
       "394                   4311.03                  37.125000   \n",
       "440                   4115.00                  29.720000   \n",
       "603                   4495.55                  35.333333   \n",
       "679                   5471.58                  29.043478   \n",
       "\n",
       "     Avg_Discharges_ByStateDRG_ratio_amount  \\\n",
       "8                                  3.532423   \n",
       "394                                5.117845   \n",
       "440                                3.701211   \n",
       "603                                3.537736   \n",
       "679                                4.717066   \n",
       "\n",
       "    Avg_Discharges_ByStateDRG_ratio_amount_D  \n",
       "8                            (3.472, 24.625]  \n",
       "394                          (3.472, 24.625]  \n",
       "440                          (3.472, 24.625]  \n",
       "603                          (3.472, 24.625]  \n",
       "679                          (3.472, 24.625]  "
      ]
     },
     "execution_count": 52,
     "metadata": {},
     "output_type": "execute_result"
    }
   ],
   "source": [
    "df4[df4['Avg_Discharges_ByStateDRG_ratio_amount']>3.472].head()"
   ]
  },
  {
   "cell_type": "markdown",
   "id": "62671b6d",
   "metadata": {},
   "source": [
    "### Section 3.5: City & DRG Total Discharge average <a class=\"anchor\" id=\"Section_35\"></a>\n",
    "- Calculating average ratio of total discharges of every Provider city in DRG description. This will help understand the total discharges comparisons within the city. "
   ]
  },
  {
   "cell_type": "code",
   "execution_count": 53,
   "id": "4e6f2d83",
   "metadata": {},
   "outputs": [
    {
     "data": {
      "text/html": [
       "<div>\n",
       "<style scoped>\n",
       "    .dataframe tbody tr th:only-of-type {\n",
       "        vertical-align: middle;\n",
       "    }\n",
       "\n",
       "    .dataframe tbody tr th {\n",
       "        vertical-align: top;\n",
       "    }\n",
       "\n",
       "    .dataframe thead th {\n",
       "        text-align: right;\n",
       "    }\n",
       "</style>\n",
       "<table border=\"1\" class=\"dataframe\">\n",
       "  <thead>\n",
       "    <tr style=\"text-align: right;\">\n",
       "      <th></th>\n",
       "      <th>Provider_City</th>\n",
       "      <th>DRG</th>\n",
       "      <th>Avg_Discharges_ByCityDRG</th>\n",
       "    </tr>\n",
       "  </thead>\n",
       "  <tbody>\n",
       "    <tr>\n",
       "      <th>0</th>\n",
       "      <td>ABBEVILLE</td>\n",
       "      <td>039 - EXTRACRANIAL PROCEDURES W/O CC/MCC</td>\n",
       "      <td>NaN</td>\n",
       "    </tr>\n",
       "    <tr>\n",
       "      <th>1</th>\n",
       "      <td>ABBEVILLE</td>\n",
       "      <td>057 - DEGENERATIVE NERVOUS SYSTEM DISORDERS W/...</td>\n",
       "      <td>NaN</td>\n",
       "    </tr>\n",
       "    <tr>\n",
       "      <th>2</th>\n",
       "      <td>ABBEVILLE</td>\n",
       "      <td>064 - INTRACRANIAL HEMORRHAGE OR CEREBRAL INFA...</td>\n",
       "      <td>NaN</td>\n",
       "    </tr>\n",
       "    <tr>\n",
       "      <th>3</th>\n",
       "      <td>ABBEVILLE</td>\n",
       "      <td>065 - INTRACRANIAL HEMORRHAGE OR CEREBRAL INFA...</td>\n",
       "      <td>NaN</td>\n",
       "    </tr>\n",
       "    <tr>\n",
       "      <th>4</th>\n",
       "      <td>ABBEVILLE</td>\n",
       "      <td>066 - INTRACRANIAL HEMORRHAGE OR CEREBRAL INFA...</td>\n",
       "      <td>NaN</td>\n",
       "    </tr>\n",
       "  </tbody>\n",
       "</table>\n",
       "</div>"
      ],
      "text/plain": [
       "  Provider_City                                                DRG  \\\n",
       "0     ABBEVILLE           039 - EXTRACRANIAL PROCEDURES W/O CC/MCC   \n",
       "1     ABBEVILLE  057 - DEGENERATIVE NERVOUS SYSTEM DISORDERS W/...   \n",
       "2     ABBEVILLE  064 - INTRACRANIAL HEMORRHAGE OR CEREBRAL INFA...   \n",
       "3     ABBEVILLE  065 - INTRACRANIAL HEMORRHAGE OR CEREBRAL INFA...   \n",
       "4     ABBEVILLE  066 - INTRACRANIAL HEMORRHAGE OR CEREBRAL INFA...   \n",
       "\n",
       "   Avg_Discharges_ByCityDRG  \n",
       "0                       NaN  \n",
       "1                       NaN  \n",
       "2                       NaN  \n",
       "3                       NaN  \n",
       "4                       NaN  "
      ]
     },
     "execution_count": 53,
     "metadata": {},
     "output_type": "execute_result"
    }
   ],
   "source": [
    "benchmark = df.groupby(['Provider_City','DRG'])['Total_Discharges'].mean().reset_index()\n",
    "benchmark.columns = ['Provider_City','DRG','Avg_Discharges_ByCityDRG']\n",
    "benchmark.head()"
   ]
  },
  {
   "cell_type": "code",
   "execution_count": 54,
   "id": "d7a8be30",
   "metadata": {},
   "outputs": [
    {
     "data": {
      "text/plain": [
       "count    163065.000000\n",
       "mean          1.000000\n",
       "std           0.356433\n",
       "min           0.019540\n",
       "25%           0.920000\n",
       "50%           1.000000\n",
       "75%           1.000000\n",
       "max           5.689303\n",
       "Name: Avg_Discharges_ByCityDRG_ratio_amount, dtype: float64"
      ]
     },
     "execution_count": 54,
     "metadata": {},
     "output_type": "execute_result"
    }
   ],
   "source": [
    "# add the new feature average total discharges to the dataset \n",
    "df5 = pd.merge(df, benchmark, how='left', on=['Provider_City','DRG'])\n",
    "# Feature 5: ratio of amount total discharges and average total discharges by drg in a city\n",
    "df5['Avg_Discharges_ByCityDRG_ratio_amount'] = np.where(df5['Avg_Discharges_ByCityDRG']==0,0, df5['Total_Discharges'] / df5['Avg_Discharges_ByCityDRG'])\n",
    "df5['Avg_Discharges_ByCityDRG_ratio_amount'].describe()"
   ]
  },
  {
   "cell_type": "code",
   "execution_count": 55,
   "id": "7befa140",
   "metadata": {},
   "outputs": [
    {
     "data": {
      "text/html": [
       "<div>\n",
       "<style scoped>\n",
       "    .dataframe tbody tr th:only-of-type {\n",
       "        vertical-align: middle;\n",
       "    }\n",
       "\n",
       "    .dataframe tbody tr th {\n",
       "        vertical-align: top;\n",
       "    }\n",
       "\n",
       "    .dataframe thead th {\n",
       "        text-align: right;\n",
       "    }\n",
       "</style>\n",
       "<table border=\"1\" class=\"dataframe\">\n",
       "  <thead>\n",
       "    <tr style=\"text-align: right;\">\n",
       "      <th></th>\n",
       "      <th>Avg_Discharges_ByCityDRG_ratio_amount_D</th>\n",
       "    </tr>\n",
       "  </thead>\n",
       "  <tbody>\n",
       "    <tr>\n",
       "      <th>0</th>\n",
       "      <td>(1.083, 1.614]</td>\n",
       "    </tr>\n",
       "    <tr>\n",
       "      <th>1</th>\n",
       "      <td>(0.809, 1.0]</td>\n",
       "    </tr>\n",
       "    <tr>\n",
       "      <th>2</th>\n",
       "      <td>(0.423, 0.809]</td>\n",
       "    </tr>\n",
       "    <tr>\n",
       "      <th>3</th>\n",
       "      <td>(0.809, 1.0]</td>\n",
       "    </tr>\n",
       "    <tr>\n",
       "      <th>4</th>\n",
       "      <td>(0.809, 1.0]</td>\n",
       "    </tr>\n",
       "    <tr>\n",
       "      <th>...</th>\n",
       "      <td>...</td>\n",
       "    </tr>\n",
       "    <tr>\n",
       "      <th>163060</th>\n",
       "      <td>(0.809, 1.0]</td>\n",
       "    </tr>\n",
       "    <tr>\n",
       "      <th>163061</th>\n",
       "      <td>(0.0185, 0.234]</td>\n",
       "    </tr>\n",
       "    <tr>\n",
       "      <th>163062</th>\n",
       "      <td>(0.809, 1.0]</td>\n",
       "    </tr>\n",
       "    <tr>\n",
       "      <th>163063</th>\n",
       "      <td>(0.809, 1.0]</td>\n",
       "    </tr>\n",
       "    <tr>\n",
       "      <th>163064</th>\n",
       "      <td>(0.809, 1.0]</td>\n",
       "    </tr>\n",
       "  </tbody>\n",
       "</table>\n",
       "<p>163065 rows × 1 columns</p>\n",
       "</div>"
      ],
      "text/plain": [
       "       Avg_Discharges_ByCityDRG_ratio_amount_D\n",
       "0                               (1.083, 1.614]\n",
       "1                                 (0.809, 1.0]\n",
       "2                               (0.423, 0.809]\n",
       "3                                 (0.809, 1.0]\n",
       "4                                 (0.809, 1.0]\n",
       "...                                        ...\n",
       "163060                            (0.809, 1.0]\n",
       "163061                         (0.0185, 0.234]\n",
       "163062                            (0.809, 1.0]\n",
       "163063                            (0.809, 1.0]\n",
       "163064                            (0.809, 1.0]\n",
       "\n",
       "[163065 rows x 1 columns]"
      ]
     },
     "execution_count": 55,
     "metadata": {},
     "output_type": "execute_result"
    }
   ],
   "source": [
    "var = 'Avg_Discharges_ByCityDRG_ratio_amount'\n",
    "binned_var = var + '_D'\n",
    "percentile = [0,0.01,0.05,0.2,0.5,0.8,0.95,0.99,1]\n",
    "df5[binned_var] = pd.qcut( df5[var],percentile)\n",
    "df5[['Avg_Discharges_ByCityDRG_ratio_amount_D']]"
   ]
  },
  {
   "cell_type": "code",
   "execution_count": 56,
   "id": "abaed8fd",
   "metadata": {},
   "outputs": [
    {
     "data": {
      "text/plain": [
       "[Text(0, 0, '(0.0185, 0.234]'),\n",
       " Text(1, 0, '(0.234, 0.423]'),\n",
       " Text(2, 0, '(0.423, 0.809]'),\n",
       " Text(3, 0, '(0.809, 1.0]'),\n",
       " Text(4, 0, '(1.0, 1.083]'),\n",
       " Text(5, 0, '(1.083, 1.614]'),\n",
       " Text(6, 0, '(1.614, 2.25]'),\n",
       " Text(7, 0, '(2.25, 5.689]')]"
      ]
     },
     "execution_count": 56,
     "metadata": {},
     "output_type": "execute_result"
    },
    {
     "data": {
      "image/png": "[encoded data removed]",
      "text/plain": [
       "<Figure size 432x288 with 1 Axes>"
      ]
     },
     "metadata": {
      "needs_background": "light"
     },
     "output_type": "display_data"
    }
   ],
   "source": [
    "plt.figure(figsize=(6,4))\n",
    "g = sns.countplot(x=\"Avg_Discharges_ByCityDRG_ratio_amount_D\", data=df5)\n",
    "g.set_xticklabels(g.get_xticklabels(), rotation=60)"
   ]
  },
  {
   "cell_type": "markdown",
   "id": "89166a4d",
   "metadata": {},
   "source": [
    "#### Thought process:\n",
    "- If the ratio is larger than 2.25, then there is probably a fraudulent. "
   ]
  },
  {
   "cell_type": "code",
   "execution_count": 57,
   "id": "e757d485",
   "metadata": {},
   "outputs": [
    {
     "data": {
      "text/plain": [
       "1624"
      ]
     },
     "execution_count": 57,
     "metadata": {},
     "output_type": "execute_result"
    }
   ],
   "source": [
    "len(df5[df5['Avg_Discharges_ByCityDRG_ratio_amount']>2.25])"
   ]
  },
  {
   "cell_type": "code",
   "execution_count": 58,
   "id": "450d67d3",
   "metadata": {},
   "outputs": [
    {
     "data": {
      "text/plain": [
       "294"
      ]
     },
     "execution_count": 58,
     "metadata": {},
     "output_type": "execute_result"
    }
   ],
   "source": [
    "len(df5[df5['Avg_Discharges_ByCityDRG_ratio_amount']>2.25]['Provider_Name'].unique())"
   ]
  },
  {
   "cell_type": "code",
   "execution_count": 59,
   "id": "fe0e5ff5",
   "metadata": {},
   "outputs": [
    {
     "data": {
      "text/html": [
       "<div>\n",
       "<style scoped>\n",
       "    .dataframe tbody tr th:only-of-type {\n",
       "        vertical-align: middle;\n",
       "    }\n",
       "\n",
       "    .dataframe tbody tr th {\n",
       "        vertical-align: top;\n",
       "    }\n",
       "\n",
       "    .dataframe thead th {\n",
       "        text-align: right;\n",
       "    }\n",
       "</style>\n",
       "<table border=\"1\" class=\"dataframe\">\n",
       "  <thead>\n",
       "    <tr style=\"text-align: right;\">\n",
       "      <th></th>\n",
       "      <th>DRG</th>\n",
       "      <th>Provider_Id</th>\n",
       "      <th>Provider_Name</th>\n",
       "      <th>Provider_StreetAddress</th>\n",
       "      <th>Provider_City</th>\n",
       "      <th>Provider_State</th>\n",
       "      <th>Provider_Zipcode</th>\n",
       "      <th>Hospital_referral_region_desp</th>\n",
       "      <th>Total_Discharges</th>\n",
       "      <th>Average_Total_Payments</th>\n",
       "      <th>Average_Medicare_Payment</th>\n",
       "      <th>Avg_Discharges_ByCityDRG</th>\n",
       "      <th>Avg_Discharges_ByCityDRG_ratio_amount</th>\n",
       "      <th>Avg_Discharges_ByCityDRG_ratio_amount_D</th>\n",
       "    </tr>\n",
       "  </thead>\n",
       "  <tbody>\n",
       "    <tr>\n",
       "      <th>394</th>\n",
       "      <td>039 - EXTRACRANIAL PROCEDURES W/O CC/MCC</td>\n",
       "      <td>170186</td>\n",
       "      <td>KANSAS HEART HOSPITAL</td>\n",
       "      <td>3601 NORTH WEBB ROAD</td>\n",
       "      <td>WICHITA</td>\n",
       "      <td>KS</td>\n",
       "      <td>67226</td>\n",
       "      <td>KS - Wichita</td>\n",
       "      <td>190</td>\n",
       "      <td>5332.51</td>\n",
       "      <td>4311.03</td>\n",
       "      <td>68.500000</td>\n",
       "      <td>2.773723</td>\n",
       "      <td>(2.25, 5.689]</td>\n",
       "    </tr>\n",
       "    <tr>\n",
       "      <th>440</th>\n",
       "      <td>039 - EXTRACRANIAL PROCEDURES W/O CC/MCC</td>\n",
       "      <td>190263</td>\n",
       "      <td>HEART HOSPITAL OF LAFAYETTE</td>\n",
       "      <td>1105 KALISTE SALOOM ROAD</td>\n",
       "      <td>LAFAYETTE</td>\n",
       "      <td>LA</td>\n",
       "      <td>70508</td>\n",
       "      <td>LA - Lafayette</td>\n",
       "      <td>110</td>\n",
       "      <td>5348.60</td>\n",
       "      <td>4115.00</td>\n",
       "      <td>42.333333</td>\n",
       "      <td>2.598425</td>\n",
       "      <td>(2.25, 5.689]</td>\n",
       "    </tr>\n",
       "    <tr>\n",
       "      <th>451</th>\n",
       "      <td>039 - EXTRACRANIAL PROCEDURES W/O CC/MCC</td>\n",
       "      <td>210015</td>\n",
       "      <td>FRANKLIN SQUARE HOSPITAL CENTER</td>\n",
       "      <td>9000 FRANKLIN SQUARE DR</td>\n",
       "      <td>BALTIMORE</td>\n",
       "      <td>MD</td>\n",
       "      <td>21237</td>\n",
       "      <td>MD - Baltimore</td>\n",
       "      <td>81</td>\n",
       "      <td>8596.79</td>\n",
       "      <td>7340.71</td>\n",
       "      <td>32.571429</td>\n",
       "      <td>2.486842</td>\n",
       "      <td>(2.25, 5.689]</td>\n",
       "    </tr>\n",
       "    <tr>\n",
       "      <th>571</th>\n",
       "      <td>039 - EXTRACRANIAL PROCEDURES W/O CC/MCC</td>\n",
       "      <td>260068</td>\n",
       "      <td>BOONE HOSPITAL CENTER</td>\n",
       "      <td>1600 E BROADWAY</td>\n",
       "      <td>COLUMBIA</td>\n",
       "      <td>MO</td>\n",
       "      <td>65201</td>\n",
       "      <td>MO - Columbia</td>\n",
       "      <td>111</td>\n",
       "      <td>5066.52</td>\n",
       "      <td>4065.29</td>\n",
       "      <td>39.333333</td>\n",
       "      <td>2.822034</td>\n",
       "      <td>(2.25, 5.689]</td>\n",
       "    </tr>\n",
       "    <tr>\n",
       "      <th>679</th>\n",
       "      <td>039 - EXTRACRANIAL PROCEDURES W/O CC/MCC</td>\n",
       "      <td>330140</td>\n",
       "      <td>ST JOSEPH'S HOSPITAL HEALTH CENTER</td>\n",
       "      <td>301 PROSPECT AVENUE</td>\n",
       "      <td>SYRACUSE</td>\n",
       "      <td>NY</td>\n",
       "      <td>13203</td>\n",
       "      <td>NY - Syracuse</td>\n",
       "      <td>137</td>\n",
       "      <td>6673.68</td>\n",
       "      <td>5471.58</td>\n",
       "      <td>60.666667</td>\n",
       "      <td>2.258242</td>\n",
       "      <td>(2.25, 5.689]</td>\n",
       "    </tr>\n",
       "  </tbody>\n",
       "</table>\n",
       "</div>"
      ],
      "text/plain": [
       "                                          DRG Provider_Id  \\\n",
       "394  039 - EXTRACRANIAL PROCEDURES W/O CC/MCC      170186   \n",
       "440  039 - EXTRACRANIAL PROCEDURES W/O CC/MCC      190263   \n",
       "451  039 - EXTRACRANIAL PROCEDURES W/O CC/MCC      210015   \n",
       "571  039 - EXTRACRANIAL PROCEDURES W/O CC/MCC      260068   \n",
       "679  039 - EXTRACRANIAL PROCEDURES W/O CC/MCC      330140   \n",
       "\n",
       "                          Provider_Name    Provider_StreetAddress  \\\n",
       "394               KANSAS HEART HOSPITAL      3601 NORTH WEBB ROAD   \n",
       "440         HEART HOSPITAL OF LAFAYETTE  1105 KALISTE SALOOM ROAD   \n",
       "451     FRANKLIN SQUARE HOSPITAL CENTER   9000 FRANKLIN SQUARE DR   \n",
       "571               BOONE HOSPITAL CENTER           1600 E BROADWAY   \n",
       "679  ST JOSEPH'S HOSPITAL HEALTH CENTER       301 PROSPECT AVENUE   \n",
       "\n",
       "    Provider_City Provider_State  Provider_Zipcode  \\\n",
       "394       WICHITA             KS             67226   \n",
       "440     LAFAYETTE             LA             70508   \n",
       "451     BALTIMORE             MD             21237   \n",
       "571      COLUMBIA             MO             65201   \n",
       "679      SYRACUSE             NY             13203   \n",
       "\n",
       "    Hospital_referral_region_desp  Total_Discharges  Average_Total_Payments  \\\n",
       "394                  KS - Wichita               190                 5332.51   \n",
       "440                LA - Lafayette               110                 5348.60   \n",
       "451                MD - Baltimore                81                 8596.79   \n",
       "571                 MO - Columbia               111                 5066.52   \n",
       "679                 NY - Syracuse               137                 6673.68   \n",
       "\n",
       "     Average_Medicare_Payment  Avg_Discharges_ByCityDRG  \\\n",
       "394                   4311.03                 68.500000   \n",
       "440                   4115.00                 42.333333   \n",
       "451                   7340.71                 32.571429   \n",
       "571                   4065.29                 39.333333   \n",
       "679                   5471.58                 60.666667   \n",
       "\n",
       "     Avg_Discharges_ByCityDRG_ratio_amount  \\\n",
       "394                               2.773723   \n",
       "440                               2.598425   \n",
       "451                               2.486842   \n",
       "571                               2.822034   \n",
       "679                               2.258242   \n",
       "\n",
       "    Avg_Discharges_ByCityDRG_ratio_amount_D  \n",
       "394                           (2.25, 5.689]  \n",
       "440                           (2.25, 5.689]  \n",
       "451                           (2.25, 5.689]  \n",
       "571                           (2.25, 5.689]  \n",
       "679                           (2.25, 5.689]  "
      ]
     },
     "execution_count": 59,
     "metadata": {},
     "output_type": "execute_result"
    }
   ],
   "source": [
    "df5[df5['Avg_Discharges_ByCityDRG_ratio_amount']>2.25].head()"
   ]
  },
  {
   "cell_type": "markdown",
   "id": "c586f0ca",
   "metadata": {},
   "source": [
    "### Section 3.6: Region & DRG Total Discharge average <a class=\"anchor\" id=\"Section_36\"></a>\n",
    "- Calculating average ratio of total discharges of every Hospital referral region desp in DRG description. This will help understand the total discharges comparisons within the region. "
   ]
  },
  {
   "cell_type": "code",
   "execution_count": 60,
   "id": "13427bd3",
   "metadata": {},
   "outputs": [
    {
     "data": {
      "text/html": [
       "<div>\n",
       "<style scoped>\n",
       "    .dataframe tbody tr th:only-of-type {\n",
       "        vertical-align: middle;\n",
       "    }\n",
       "\n",
       "    .dataframe tbody tr th {\n",
       "        vertical-align: top;\n",
       "    }\n",
       "\n",
       "    .dataframe thead th {\n",
       "        text-align: right;\n",
       "    }\n",
       "</style>\n",
       "<table border=\"1\" class=\"dataframe\">\n",
       "  <thead>\n",
       "    <tr style=\"text-align: right;\">\n",
       "      <th></th>\n",
       "      <th>Hospital_referral_region_desp</th>\n",
       "      <th>DRG</th>\n",
       "      <th>Avg_Discharges_ByRegionDRG</th>\n",
       "    </tr>\n",
       "  </thead>\n",
       "  <tbody>\n",
       "    <tr>\n",
       "      <th>0</th>\n",
       "      <td>AK - Anchorage</td>\n",
       "      <td>039 - EXTRACRANIAL PROCEDURES W/O CC/MCC</td>\n",
       "      <td>23.000000</td>\n",
       "    </tr>\n",
       "    <tr>\n",
       "      <th>1</th>\n",
       "      <td>AK - Anchorage</td>\n",
       "      <td>057 - DEGENERATIVE NERVOUS SYSTEM DISORDERS W/...</td>\n",
       "      <td>11.000000</td>\n",
       "    </tr>\n",
       "    <tr>\n",
       "      <th>2</th>\n",
       "      <td>AK - Anchorage</td>\n",
       "      <td>064 - INTRACRANIAL HEMORRHAGE OR CEREBRAL INFA...</td>\n",
       "      <td>22.500000</td>\n",
       "    </tr>\n",
       "    <tr>\n",
       "      <th>3</th>\n",
       "      <td>AK - Anchorage</td>\n",
       "      <td>065 - INTRACRANIAL HEMORRHAGE OR CEREBRAL INFA...</td>\n",
       "      <td>25.333333</td>\n",
       "    </tr>\n",
       "    <tr>\n",
       "      <th>4</th>\n",
       "      <td>AK - Anchorage</td>\n",
       "      <td>066 - INTRACRANIAL HEMORRHAGE OR CEREBRAL INFA...</td>\n",
       "      <td>21.000000</td>\n",
       "    </tr>\n",
       "  </tbody>\n",
       "</table>\n",
       "</div>"
      ],
      "text/plain": [
       "  Hospital_referral_region_desp  \\\n",
       "0                AK - Anchorage   \n",
       "1                AK - Anchorage   \n",
       "2                AK - Anchorage   \n",
       "3                AK - Anchorage   \n",
       "4                AK - Anchorage   \n",
       "\n",
       "                                                 DRG  \\\n",
       "0           039 - EXTRACRANIAL PROCEDURES W/O CC/MCC   \n",
       "1  057 - DEGENERATIVE NERVOUS SYSTEM DISORDERS W/...   \n",
       "2  064 - INTRACRANIAL HEMORRHAGE OR CEREBRAL INFA...   \n",
       "3  065 - INTRACRANIAL HEMORRHAGE OR CEREBRAL INFA...   \n",
       "4  066 - INTRACRANIAL HEMORRHAGE OR CEREBRAL INFA...   \n",
       "\n",
       "   Avg_Discharges_ByRegionDRG  \n",
       "0                   23.000000  \n",
       "1                   11.000000  \n",
       "2                   22.500000  \n",
       "3                   25.333333  \n",
       "4                   21.000000  "
      ]
     },
     "execution_count": 60,
     "metadata": {},
     "output_type": "execute_result"
    }
   ],
   "source": [
    "benchmark = df.groupby(['Hospital_referral_region_desp','DRG'])['Total_Discharges'].mean().reset_index()\n",
    "benchmark.columns = ['Hospital_referral_region_desp','DRG','Avg_Discharges_ByRegionDRG']\n",
    "benchmark.head()"
   ]
  },
  {
   "cell_type": "code",
   "execution_count": 61,
   "id": "1c2481e8",
   "metadata": {},
   "outputs": [
    {
     "data": {
      "text/plain": [
       "count    163065.000000\n",
       "mean          1.000000\n",
       "std           0.596288\n",
       "min           0.015412\n",
       "25%           0.592105\n",
       "50%           0.886894\n",
       "75%           1.250000\n",
       "max          11.008786\n",
       "Name: Avg_Discharges_ByRegionDRG_ratio_amount, dtype: float64"
      ]
     },
     "execution_count": 61,
     "metadata": {},
     "output_type": "execute_result"
    }
   ],
   "source": [
    "# add the new feature average total discharges to the dataset \n",
    "df6 = pd.merge(df, benchmark, how='left', on=['Hospital_referral_region_desp','DRG'])\n",
    "# Feature 6: ratio of amount total discharges and average total discharges by drg in a region\n",
    "df6['Avg_Discharges_ByRegionDRG_ratio_amount'] = np.where(df6['Avg_Discharges_ByRegionDRG']==0,0, df6['Total_Discharges'] / df6['Avg_Discharges_ByRegionDRG'])\n",
    "df6['Avg_Discharges_ByRegionDRG_ratio_amount'].describe()"
   ]
  },
  {
   "cell_type": "code",
   "execution_count": 62,
   "id": "082e1117",
   "metadata": {},
   "outputs": [
    {
     "data": {
      "text/html": [
       "<div>\n",
       "<style scoped>\n",
       "    .dataframe tbody tr th:only-of-type {\n",
       "        vertical-align: middle;\n",
       "    }\n",
       "\n",
       "    .dataframe tbody tr th {\n",
       "        vertical-align: top;\n",
       "    }\n",
       "\n",
       "    .dataframe thead th {\n",
       "        text-align: right;\n",
       "    }\n",
       "</style>\n",
       "<table border=\"1\" class=\"dataframe\">\n",
       "  <thead>\n",
       "    <tr style=\"text-align: right;\">\n",
       "      <th></th>\n",
       "      <th>Avg_Discharges_ByRegionDRG_ratio_amount_D</th>\n",
       "    </tr>\n",
       "  </thead>\n",
       "  <tbody>\n",
       "    <tr>\n",
       "      <th>0</th>\n",
       "      <td>(0.887, 1.369]</td>\n",
       "    </tr>\n",
       "    <tr>\n",
       "      <th>1</th>\n",
       "      <td>(0.321, 0.535]</td>\n",
       "    </tr>\n",
       "    <tr>\n",
       "      <th>2</th>\n",
       "      <td>(0.535, 0.887]</td>\n",
       "    </tr>\n",
       "    <tr>\n",
       "      <th>3</th>\n",
       "      <td>(0.887, 1.369]</td>\n",
       "    </tr>\n",
       "    <tr>\n",
       "      <th>4</th>\n",
       "      <td>(0.535, 0.887]</td>\n",
       "    </tr>\n",
       "    <tr>\n",
       "      <th>...</th>\n",
       "      <td>...</td>\n",
       "    </tr>\n",
       "    <tr>\n",
       "      <th>163060</th>\n",
       "      <td>(0.535, 0.887]</td>\n",
       "    </tr>\n",
       "    <tr>\n",
       "      <th>163061</th>\n",
       "      <td>(0.2, 0.321]</td>\n",
       "    </tr>\n",
       "    <tr>\n",
       "      <th>163062</th>\n",
       "      <td>(0.321, 0.535]</td>\n",
       "    </tr>\n",
       "    <tr>\n",
       "      <th>163063</th>\n",
       "      <td>(0.321, 0.535]</td>\n",
       "    </tr>\n",
       "    <tr>\n",
       "      <th>163064</th>\n",
       "      <td>(0.321, 0.535]</td>\n",
       "    </tr>\n",
       "  </tbody>\n",
       "</table>\n",
       "<p>163065 rows × 1 columns</p>\n",
       "</div>"
      ],
      "text/plain": [
       "       Avg_Discharges_ByRegionDRG_ratio_amount_D\n",
       "0                                 (0.887, 1.369]\n",
       "1                                 (0.321, 0.535]\n",
       "2                                 (0.535, 0.887]\n",
       "3                                 (0.887, 1.369]\n",
       "4                                 (0.535, 0.887]\n",
       "...                                          ...\n",
       "163060                            (0.535, 0.887]\n",
       "163061                              (0.2, 0.321]\n",
       "163062                            (0.321, 0.535]\n",
       "163063                            (0.321, 0.535]\n",
       "163064                            (0.321, 0.535]\n",
       "\n",
       "[163065 rows x 1 columns]"
      ]
     },
     "execution_count": 62,
     "metadata": {},
     "output_type": "execute_result"
    }
   ],
   "source": [
    "var = 'Avg_Discharges_ByRegionDRG_ratio_amount'\n",
    "binned_var = var + '_D'\n",
    "percentile = [0,0.01,0.05,0.2,0.5,0.8,0.95,0.99,1]\n",
    "df6[binned_var] = pd.qcut( df6[var], percentile)\n",
    "df6[['Avg_Discharges_ByRegionDRG_ratio_amount_D']]"
   ]
  },
  {
   "cell_type": "code",
   "execution_count": 63,
   "id": "7b905dcd",
   "metadata": {},
   "outputs": [
    {
     "data": {
      "text/plain": [
       "[Text(0, 0, '(0.0144, 0.2]'),\n",
       " Text(1, 0, '(0.2, 0.321]'),\n",
       " Text(2, 0, '(0.321, 0.535]'),\n",
       " Text(3, 0, '(0.535, 0.887]'),\n",
       " Text(4, 0, '(0.887, 1.369]'),\n",
       " Text(5, 0, '(1.369, 2.098]'),\n",
       " Text(6, 0, '(2.098, 3.086]'),\n",
       " Text(7, 0, '(3.086, 11.009]')]"
      ]
     },
     "execution_count": 63,
     "metadata": {},
     "output_type": "execute_result"
    },
    {
     "data": {
      "image/png": "[encoded data removed]",
      "text/plain": [
       "<Figure size 432x288 with 1 Axes>"
      ]
     },
     "metadata": {
      "needs_background": "light"
     },
     "output_type": "display_data"
    }
   ],
   "source": [
    "plt.figure(figsize=(6,4))\n",
    "g = sns.countplot(x=\"Avg_Discharges_ByRegionDRG_ratio_amount_D\", data=df6)\n",
    "g.set_xticklabels(g.get_xticklabels(), rotation=60)"
   ]
  },
  {
   "cell_type": "markdown",
   "id": "56963cc6",
   "metadata": {},
   "source": [
    "#### Thought process:\n",
    "- If the ratio is larger than 3.086, then there is probably a fraudulent. "
   ]
  },
  {
   "cell_type": "code",
   "execution_count": 64,
   "id": "ab5ece11",
   "metadata": {},
   "outputs": [
    {
     "data": {
      "text/plain": [
       "1630"
      ]
     },
     "execution_count": 64,
     "metadata": {},
     "output_type": "execute_result"
    }
   ],
   "source": [
    "len(df6[df6['Avg_Discharges_ByRegionDRG_ratio_amount']>3.086])"
   ]
  },
  {
   "cell_type": "code",
   "execution_count": 65,
   "id": "7bc7f307",
   "metadata": {},
   "outputs": [
    {
     "data": {
      "text/plain": [
       "372"
      ]
     },
     "execution_count": 65,
     "metadata": {},
     "output_type": "execute_result"
    }
   ],
   "source": [
    "len(df6[df6['Avg_Discharges_ByRegionDRG_ratio_amount']>3.086]['Provider_Name'].unique())"
   ]
  },
  {
   "cell_type": "code",
   "execution_count": 66,
   "id": "07086812",
   "metadata": {},
   "outputs": [
    {
     "data": {
      "text/html": [
       "<div>\n",
       "<style scoped>\n",
       "    .dataframe tbody tr th:only-of-type {\n",
       "        vertical-align: middle;\n",
       "    }\n",
       "\n",
       "    .dataframe tbody tr th {\n",
       "        vertical-align: top;\n",
       "    }\n",
       "\n",
       "    .dataframe thead th {\n",
       "        text-align: right;\n",
       "    }\n",
       "</style>\n",
       "<table border=\"1\" class=\"dataframe\">\n",
       "  <thead>\n",
       "    <tr style=\"text-align: right;\">\n",
       "      <th></th>\n",
       "      <th>DRG</th>\n",
       "      <th>Provider_Id</th>\n",
       "      <th>Provider_Name</th>\n",
       "      <th>Provider_StreetAddress</th>\n",
       "      <th>Provider_City</th>\n",
       "      <th>Provider_State</th>\n",
       "      <th>Provider_Zipcode</th>\n",
       "      <th>Hospital_referral_region_desp</th>\n",
       "      <th>Total_Discharges</th>\n",
       "      <th>Average_Total_Payments</th>\n",
       "      <th>Average_Medicare_Payment</th>\n",
       "      <th>Avg_Discharges_ByRegionDRG</th>\n",
       "      <th>Avg_Discharges_ByRegionDRG_ratio_amount</th>\n",
       "      <th>Avg_Discharges_ByRegionDRG_ratio_amount_D</th>\n",
       "    </tr>\n",
       "  </thead>\n",
       "  <tbody>\n",
       "    <tr>\n",
       "      <th>394</th>\n",
       "      <td>039 - EXTRACRANIAL PROCEDURES W/O CC/MCC</td>\n",
       "      <td>170186</td>\n",
       "      <td>KANSAS HEART HOSPITAL</td>\n",
       "      <td>3601 NORTH WEBB ROAD</td>\n",
       "      <td>WICHITA</td>\n",
       "      <td>KS</td>\n",
       "      <td>67226</td>\n",
       "      <td>KS - Wichita</td>\n",
       "      <td>190</td>\n",
       "      <td>5332.51</td>\n",
       "      <td>4311.03</td>\n",
       "      <td>45.375000</td>\n",
       "      <td>4.187328</td>\n",
       "      <td>(3.086, 11.009]</td>\n",
       "    </tr>\n",
       "    <tr>\n",
       "      <th>473</th>\n",
       "      <td>039 - EXTRACRANIAL PROCEDURES W/O CC/MCC</td>\n",
       "      <td>220071</td>\n",
       "      <td>MASSACHUSETTS GENERAL HOSPITAL</td>\n",
       "      <td>55 FRUIT STREET</td>\n",
       "      <td>BOSTON</td>\n",
       "      <td>MA</td>\n",
       "      <td>2114</td>\n",
       "      <td>MA - Boston</td>\n",
       "      <td>91</td>\n",
       "      <td>9265.93</td>\n",
       "      <td>8290.94</td>\n",
       "      <td>29.210526</td>\n",
       "      <td>3.115315</td>\n",
       "      <td>(3.086, 11.009]</td>\n",
       "    </tr>\n",
       "    <tr>\n",
       "      <th>571</th>\n",
       "      <td>039 - EXTRACRANIAL PROCEDURES W/O CC/MCC</td>\n",
       "      <td>260068</td>\n",
       "      <td>BOONE HOSPITAL CENTER</td>\n",
       "      <td>1600 E BROADWAY</td>\n",
       "      <td>COLUMBIA</td>\n",
       "      <td>MO</td>\n",
       "      <td>65201</td>\n",
       "      <td>MO - Columbia</td>\n",
       "      <td>111</td>\n",
       "      <td>5066.52</td>\n",
       "      <td>4065.29</td>\n",
       "      <td>35.333333</td>\n",
       "      <td>3.141509</td>\n",
       "      <td>(3.086, 11.009]</td>\n",
       "    </tr>\n",
       "    <tr>\n",
       "      <th>935</th>\n",
       "      <td>039 - EXTRACRANIAL PROCEDURES W/O CC/MCC</td>\n",
       "      <td>450135</td>\n",
       "      <td>TEXAS HEALTH HARRIS METHODIST FORT WORTH</td>\n",
       "      <td>1301 PENNSYLVANIA AVENUE</td>\n",
       "      <td>FORT WORTH</td>\n",
       "      <td>TX</td>\n",
       "      <td>76104</td>\n",
       "      <td>TX - Fort Worth</td>\n",
       "      <td>91</td>\n",
       "      <td>6442.84</td>\n",
       "      <td>5215.29</td>\n",
       "      <td>28.500000</td>\n",
       "      <td>3.192982</td>\n",
       "      <td>(3.086, 11.009]</td>\n",
       "    </tr>\n",
       "    <tr>\n",
       "      <th>1208</th>\n",
       "      <td>057 - DEGENERATIVE NERVOUS SYSTEM DISORDERS W/...</td>\n",
       "      <td>50625</td>\n",
       "      <td>CEDARS-SINAI MEDICAL CENTER</td>\n",
       "      <td>8700 BEVERLY BLVD</td>\n",
       "      <td>LOS ANGELES</td>\n",
       "      <td>CA</td>\n",
       "      <td>90048</td>\n",
       "      <td>CA - Los Angeles</td>\n",
       "      <td>81</td>\n",
       "      <td>8778.70</td>\n",
       "      <td>7420.71</td>\n",
       "      <td>19.833333</td>\n",
       "      <td>4.084034</td>\n",
       "      <td>(3.086, 11.009]</td>\n",
       "    </tr>\n",
       "  </tbody>\n",
       "</table>\n",
       "</div>"
      ],
      "text/plain": [
       "                                                    DRG Provider_Id  \\\n",
       "394            039 - EXTRACRANIAL PROCEDURES W/O CC/MCC      170186   \n",
       "473            039 - EXTRACRANIAL PROCEDURES W/O CC/MCC      220071   \n",
       "571            039 - EXTRACRANIAL PROCEDURES W/O CC/MCC      260068   \n",
       "935            039 - EXTRACRANIAL PROCEDURES W/O CC/MCC      450135   \n",
       "1208  057 - DEGENERATIVE NERVOUS SYSTEM DISORDERS W/...       50625   \n",
       "\n",
       "                                 Provider_Name    Provider_StreetAddress  \\\n",
       "394                      KANSAS HEART HOSPITAL      3601 NORTH WEBB ROAD   \n",
       "473             MASSACHUSETTS GENERAL HOSPITAL           55 FRUIT STREET   \n",
       "571                      BOONE HOSPITAL CENTER           1600 E BROADWAY   \n",
       "935   TEXAS HEALTH HARRIS METHODIST FORT WORTH  1301 PENNSYLVANIA AVENUE   \n",
       "1208               CEDARS-SINAI MEDICAL CENTER         8700 BEVERLY BLVD   \n",
       "\n",
       "     Provider_City Provider_State  Provider_Zipcode  \\\n",
       "394        WICHITA             KS             67226   \n",
       "473         BOSTON             MA              2114   \n",
       "571       COLUMBIA             MO             65201   \n",
       "935     FORT WORTH             TX             76104   \n",
       "1208   LOS ANGELES             CA             90048   \n",
       "\n",
       "     Hospital_referral_region_desp  Total_Discharges  Average_Total_Payments  \\\n",
       "394                   KS - Wichita               190                 5332.51   \n",
       "473                    MA - Boston                91                 9265.93   \n",
       "571                  MO - Columbia               111                 5066.52   \n",
       "935                TX - Fort Worth                91                 6442.84   \n",
       "1208              CA - Los Angeles                81                 8778.70   \n",
       "\n",
       "      Average_Medicare_Payment  Avg_Discharges_ByRegionDRG  \\\n",
       "394                    4311.03                   45.375000   \n",
       "473                    8290.94                   29.210526   \n",
       "571                    4065.29                   35.333333   \n",
       "935                    5215.29                   28.500000   \n",
       "1208                   7420.71                   19.833333   \n",
       "\n",
       "      Avg_Discharges_ByRegionDRG_ratio_amount  \\\n",
       "394                                  4.187328   \n",
       "473                                  3.115315   \n",
       "571                                  3.141509   \n",
       "935                                  3.192982   \n",
       "1208                                 4.084034   \n",
       "\n",
       "     Avg_Discharges_ByRegionDRG_ratio_amount_D  \n",
       "394                            (3.086, 11.009]  \n",
       "473                            (3.086, 11.009]  \n",
       "571                            (3.086, 11.009]  \n",
       "935                            (3.086, 11.009]  \n",
       "1208                           (3.086, 11.009]  "
      ]
     },
     "execution_count": 66,
     "metadata": {},
     "output_type": "execute_result"
    }
   ],
   "source": [
    "df6[df6['Avg_Discharges_ByRegionDRG_ratio_amount']>3.086].head()"
   ]
  },
  {
   "cell_type": "markdown",
   "id": "6a8a21a5",
   "metadata": {},
   "source": [
    "### Section 3.7: State & DRG Medicare Payments average <a class=\"anchor\" id=\"Section_37\"></a>\n",
    "- Calculating average ratio of Average medicare payment of every Provider state in DRG description. This will help understand the average medicare payment comparisons within the state. "
   ]
  },
  {
   "cell_type": "code",
   "execution_count": 67,
   "id": "ce5d4eb6",
   "metadata": {},
   "outputs": [
    {
     "data": {
      "text/html": [
       "<div>\n",
       "<style scoped>\n",
       "    .dataframe tbody tr th:only-of-type {\n",
       "        vertical-align: middle;\n",
       "    }\n",
       "\n",
       "    .dataframe tbody tr th {\n",
       "        vertical-align: top;\n",
       "    }\n",
       "\n",
       "    .dataframe thead th {\n",
       "        text-align: right;\n",
       "    }\n",
       "</style>\n",
       "<table border=\"1\" class=\"dataframe\">\n",
       "  <thead>\n",
       "    <tr style=\"text-align: right;\">\n",
       "      <th></th>\n",
       "      <th>Provider_State</th>\n",
       "      <th>DRG</th>\n",
       "      <th>Avg_Medicare_ByStateDRG</th>\n",
       "    </tr>\n",
       "  </thead>\n",
       "  <tbody>\n",
       "    <tr>\n",
       "      <th>0</th>\n",
       "      <td>AK</td>\n",
       "      <td>039 - EXTRACRANIAL PROCEDURES W/O CC/MCC</td>\n",
       "      <td>6413.780000</td>\n",
       "    </tr>\n",
       "    <tr>\n",
       "      <th>1</th>\n",
       "      <td>AK</td>\n",
       "      <td>057 - DEGENERATIVE NERVOUS SYSTEM DISORDERS W/...</td>\n",
       "      <td>8081.540000</td>\n",
       "    </tr>\n",
       "    <tr>\n",
       "      <th>2</th>\n",
       "      <td>AK</td>\n",
       "      <td>064 - INTRACRANIAL HEMORRHAGE OR CEREBRAL INFA...</td>\n",
       "      <td>20555.255000</td>\n",
       "    </tr>\n",
       "    <tr>\n",
       "      <th>3</th>\n",
       "      <td>AK</td>\n",
       "      <td>065 - INTRACRANIAL HEMORRHAGE OR CEREBRAL INFA...</td>\n",
       "      <td>11140.963333</td>\n",
       "    </tr>\n",
       "    <tr>\n",
       "      <th>4</th>\n",
       "      <td>AK</td>\n",
       "      <td>066 - INTRACRANIAL HEMORRHAGE OR CEREBRAL INFA...</td>\n",
       "      <td>8258.427500</td>\n",
       "    </tr>\n",
       "  </tbody>\n",
       "</table>\n",
       "</div>"
      ],
      "text/plain": [
       "  Provider_State                                                DRG  \\\n",
       "0             AK           039 - EXTRACRANIAL PROCEDURES W/O CC/MCC   \n",
       "1             AK  057 - DEGENERATIVE NERVOUS SYSTEM DISORDERS W/...   \n",
       "2             AK  064 - INTRACRANIAL HEMORRHAGE OR CEREBRAL INFA...   \n",
       "3             AK  065 - INTRACRANIAL HEMORRHAGE OR CEREBRAL INFA...   \n",
       "4             AK  066 - INTRACRANIAL HEMORRHAGE OR CEREBRAL INFA...   \n",
       "\n",
       "   Avg_Medicare_ByStateDRG  \n",
       "0              6413.780000  \n",
       "1              8081.540000  \n",
       "2             20555.255000  \n",
       "3             11140.963333  \n",
       "4              8258.427500  "
      ]
     },
     "execution_count": 67,
     "metadata": {},
     "output_type": "execute_result"
    }
   ],
   "source": [
    "benchmark = df.groupby(['Provider_State','DRG'])['Average_Medicare_Payment'].mean().reset_index()\n",
    "benchmark.columns = ['Provider_State','DRG','Avg_Medicare_ByStateDRG']\n",
    "benchmark.head()"
   ]
  },
  {
   "cell_type": "code",
   "execution_count": 68,
   "id": "f9cc517a",
   "metadata": {},
   "outputs": [
    {
     "data": {
      "text/plain": [
       "count    163065.000000\n",
       "mean          1.000000\n",
       "std           0.215091\n",
       "min           0.339831\n",
       "25%           0.868395\n",
       "50%           0.954250\n",
       "75%           1.071483\n",
       "max           5.174415\n",
       "Name: Avg_Medicare_ByStateDRG_ratio_amount, dtype: float64"
      ]
     },
     "execution_count": 68,
     "metadata": {},
     "output_type": "execute_result"
    }
   ],
   "source": [
    "# add the new feature average total discharges to the dataset \n",
    "df7 = pd.merge(df, benchmark, how='left', on=['Provider_State','DRG'])\n",
    "# Feature 7: ratio of amount total medicare payment and average medicare payment by drg in a state\n",
    "df7['Avg_Medicare_ByStateDRG_ratio_amount'] = np.where(df7['Avg_Medicare_ByStateDRG']==0,0, df7['Average_Medicare_Payment'] / df7['Avg_Medicare_ByStateDRG'])\n",
    "df7['Avg_Medicare_ByStateDRG_ratio_amount'].describe()"
   ]
  },
  {
   "cell_type": "code",
   "execution_count": 69,
   "id": "2b321033",
   "metadata": {},
   "outputs": [
    {
     "data": {
      "text/html": [
       "<div>\n",
       "<style scoped>\n",
       "    .dataframe tbody tr th:only-of-type {\n",
       "        vertical-align: middle;\n",
       "    }\n",
       "\n",
       "    .dataframe tbody tr th {\n",
       "        vertical-align: top;\n",
       "    }\n",
       "\n",
       "    .dataframe thead th {\n",
       "        text-align: right;\n",
       "    }\n",
       "</style>\n",
       "<table border=\"1\" class=\"dataframe\">\n",
       "  <thead>\n",
       "    <tr style=\"text-align: right;\">\n",
       "      <th></th>\n",
       "      <th>Avg_Medicare_ByStateDRG_ratio_amount_D</th>\n",
       "    </tr>\n",
       "  </thead>\n",
       "  <tbody>\n",
       "    <tr>\n",
       "      <th>0</th>\n",
       "      <td>(0.954, 1.111]</td>\n",
       "    </tr>\n",
       "    <tr>\n",
       "      <th>1</th>\n",
       "      <td>(0.954, 1.111]</td>\n",
       "    </tr>\n",
       "    <tr>\n",
       "      <th>2</th>\n",
       "      <td>(0.954, 1.111]</td>\n",
       "    </tr>\n",
       "    <tr>\n",
       "      <th>3</th>\n",
       "      <td>(0.849, 0.954]</td>\n",
       "    </tr>\n",
       "    <tr>\n",
       "      <th>4</th>\n",
       "      <td>(0.954, 1.111]</td>\n",
       "    </tr>\n",
       "    <tr>\n",
       "      <th>...</th>\n",
       "      <td>...</td>\n",
       "    </tr>\n",
       "    <tr>\n",
       "      <th>163060</th>\n",
       "      <td>(0.757, 0.849]</td>\n",
       "    </tr>\n",
       "    <tr>\n",
       "      <th>163061</th>\n",
       "      <td>(0.655, 0.757]</td>\n",
       "    </tr>\n",
       "    <tr>\n",
       "      <th>163062</th>\n",
       "      <td>(0.954, 1.111]</td>\n",
       "    </tr>\n",
       "    <tr>\n",
       "      <th>163063</th>\n",
       "      <td>(1.744, 5.174]</td>\n",
       "    </tr>\n",
       "    <tr>\n",
       "      <th>163064</th>\n",
       "      <td>(0.757, 0.849]</td>\n",
       "    </tr>\n",
       "  </tbody>\n",
       "</table>\n",
       "<p>163065 rows × 1 columns</p>\n",
       "</div>"
      ],
      "text/plain": [
       "       Avg_Medicare_ByStateDRG_ratio_amount_D\n",
       "0                              (0.954, 1.111]\n",
       "1                              (0.954, 1.111]\n",
       "2                              (0.954, 1.111]\n",
       "3                              (0.849, 0.954]\n",
       "4                              (0.954, 1.111]\n",
       "...                                       ...\n",
       "163060                         (0.757, 0.849]\n",
       "163061                         (0.655, 0.757]\n",
       "163062                         (0.954, 1.111]\n",
       "163063                         (1.744, 5.174]\n",
       "163064                         (0.757, 0.849]\n",
       "\n",
       "[163065 rows x 1 columns]"
      ]
     },
     "execution_count": 69,
     "metadata": {},
     "output_type": "execute_result"
    }
   ],
   "source": [
    "var = 'Avg_Medicare_ByStateDRG_ratio_amount'\n",
    "binned_var = var + '_D'\n",
    "percentile = [0,0.01,0.05,0.2,0.5,0.8,0.95,0.99,1]\n",
    "df7[binned_var] = pd.qcut( df7[var], percentile)\n",
    "df7[['Avg_Medicare_ByStateDRG_ratio_amount_D']]"
   ]
  },
  {
   "cell_type": "code",
   "execution_count": 70,
   "id": "07a283c6",
   "metadata": {},
   "outputs": [
    {
     "data": {
      "text/plain": [
       "[Text(0, 0, '(0.339, 0.655]'),\n",
       " Text(1, 0, '(0.655, 0.757]'),\n",
       " Text(2, 0, '(0.757, 0.849]'),\n",
       " Text(3, 0, '(0.849, 0.954]'),\n",
       " Text(4, 0, '(0.954, 1.111]'),\n",
       " Text(5, 0, '(1.111, 1.43]'),\n",
       " Text(6, 0, '(1.43, 1.744]'),\n",
       " Text(7, 0, '(1.744, 5.174]')]"
      ]
     },
     "execution_count": 70,
     "metadata": {},
     "output_type": "execute_result"
    },
    {
     "data": {
      "image/png": "[encoded data removed]",
      "text/plain": [
       "<Figure size 432x288 with 1 Axes>"
      ]
     },
     "metadata": {
      "needs_background": "light"
     },
     "output_type": "display_data"
    }
   ],
   "source": [
    "plt.figure(figsize=(6,4))\n",
    "g = sns.countplot(x=\"Avg_Medicare_ByStateDRG_ratio_amount_D\", data=df7)\n",
    "g.set_xticklabels(g.get_xticklabels(), rotation=60)"
   ]
  },
  {
   "cell_type": "markdown",
   "id": "2246e2ee",
   "metadata": {},
   "source": [
    "#### Thought process:\n",
    "- If the ratio is larger than 1.744, then there is probably a fraudulent."
   ]
  },
  {
   "cell_type": "code",
   "execution_count": 71,
   "id": "43171c73",
   "metadata": {},
   "outputs": [
    {
     "data": {
      "text/plain": [
       "1632"
      ]
     },
     "execution_count": 71,
     "metadata": {},
     "output_type": "execute_result"
    }
   ],
   "source": [
    "len(df7[df7['Avg_Medicare_ByStateDRG_ratio_amount']>1.744])"
   ]
  },
  {
   "cell_type": "code",
   "execution_count": 72,
   "id": "272beb31",
   "metadata": {},
   "outputs": [
    {
     "data": {
      "text/plain": [
       "205"
      ]
     },
     "execution_count": 72,
     "metadata": {},
     "output_type": "execute_result"
    }
   ],
   "source": [
    "len(df7[df7['Avg_Medicare_ByStateDRG_ratio_amount']>1.744]['Provider_Name'].unique())"
   ]
  },
  {
   "cell_type": "code",
   "execution_count": 73,
   "id": "9f1811e3",
   "metadata": {},
   "outputs": [
    {
     "data": {
      "text/html": [
       "<div>\n",
       "<style scoped>\n",
       "    .dataframe tbody tr th:only-of-type {\n",
       "        vertical-align: middle;\n",
       "    }\n",
       "\n",
       "    .dataframe tbody tr th {\n",
       "        vertical-align: top;\n",
       "    }\n",
       "\n",
       "    .dataframe thead th {\n",
       "        text-align: right;\n",
       "    }\n",
       "</style>\n",
       "<table border=\"1\" class=\"dataframe\">\n",
       "  <thead>\n",
       "    <tr style=\"text-align: right;\">\n",
       "      <th></th>\n",
       "      <th>DRG</th>\n",
       "      <th>Provider_Id</th>\n",
       "      <th>Provider_Name</th>\n",
       "      <th>Provider_StreetAddress</th>\n",
       "      <th>Provider_City</th>\n",
       "      <th>Provider_State</th>\n",
       "      <th>Provider_Zipcode</th>\n",
       "      <th>Hospital_referral_region_desp</th>\n",
       "      <th>Total_Discharges</th>\n",
       "      <th>Average_Total_Payments</th>\n",
       "      <th>Average_Medicare_Payment</th>\n",
       "      <th>Avg_Medicare_ByStateDRG</th>\n",
       "      <th>Avg_Medicare_ByStateDRG_ratio_amount</th>\n",
       "      <th>Avg_Medicare_ByStateDRG_ratio_amount_D</th>\n",
       "    </tr>\n",
       "  </thead>\n",
       "  <tbody>\n",
       "    <tr>\n",
       "      <th>456</th>\n",
       "      <td>039 - EXTRACRANIAL PROCEDURES W/O CC/MCC</td>\n",
       "      <td>210029</td>\n",
       "      <td>JOHNS HOPKINS BAYVIEW MEDICAL CENTER</td>\n",
       "      <td>4940 EASTERN AVENUE</td>\n",
       "      <td>BALTIMORE</td>\n",
       "      <td>MD</td>\n",
       "      <td>21224</td>\n",
       "      <td>MD - Baltimore</td>\n",
       "      <td>11</td>\n",
       "      <td>16878.45</td>\n",
       "      <td>15855.18</td>\n",
       "      <td>8015.386190</td>\n",
       "      <td>1.978093</td>\n",
       "      <td>(1.744, 5.174]</td>\n",
       "    </tr>\n",
       "    <tr>\n",
       "      <th>690</th>\n",
       "      <td>039 - EXTRACRANIAL PROCEDURES W/O CC/MCC</td>\n",
       "      <td>330195</td>\n",
       "      <td>LONG ISLAND JEWISH MEDICAL CENTER</td>\n",
       "      <td>270 - 05 76TH AVENUE</td>\n",
       "      <td>NEW HYDE PARK</td>\n",
       "      <td>NY</td>\n",
       "      <td>11040</td>\n",
       "      <td>NY - East Long Island</td>\n",
       "      <td>11</td>\n",
       "      <td>13895.09</td>\n",
       "      <td>13280.54</td>\n",
       "      <td>6796.218043</td>\n",
       "      <td>1.954107</td>\n",
       "      <td>(1.744, 5.174]</td>\n",
       "    </tr>\n",
       "    <tr>\n",
       "      <th>1172</th>\n",
       "      <td>057 - DEGENERATIVE NERVOUS SYSTEM DISORDERS W/...</td>\n",
       "      <td>50276</td>\n",
       "      <td>CONTRA COSTA REGIONAL MEDICAL CENTER</td>\n",
       "      <td>2500 ALHAMBRA AVE</td>\n",
       "      <td>MARTINEZ</td>\n",
       "      <td>CA</td>\n",
       "      <td>94553</td>\n",
       "      <td>CA - Contra Costa County</td>\n",
       "      <td>23</td>\n",
       "      <td>19239.30</td>\n",
       "      <td>18363.08</td>\n",
       "      <td>7506.485256</td>\n",
       "      <td>2.446295</td>\n",
       "      <td>(1.744, 5.174]</td>\n",
       "    </tr>\n",
       "    <tr>\n",
       "      <th>1186</th>\n",
       "      <td>057 - DEGENERATIVE NERVOUS SYSTEM DISORDERS W/...</td>\n",
       "      <td>50376</td>\n",
       "      <td>LAC/HARBOR-UCLA MED CENTER</td>\n",
       "      <td>1000 W CARSON ST</td>\n",
       "      <td>TORRANCE</td>\n",
       "      <td>CA</td>\n",
       "      <td>90509</td>\n",
       "      <td>CA - Los Angeles</td>\n",
       "      <td>13</td>\n",
       "      <td>15070.23</td>\n",
       "      <td>14381.00</td>\n",
       "      <td>7506.485256</td>\n",
       "      <td>1.915810</td>\n",
       "      <td>(1.744, 5.174]</td>\n",
       "    </tr>\n",
       "    <tr>\n",
       "      <th>1191</th>\n",
       "      <td>057 - DEGENERATIVE NERVOUS SYSTEM DISORDERS W/...</td>\n",
       "      <td>50441</td>\n",
       "      <td>STANFORD HOSPITAL</td>\n",
       "      <td>300 PASTEUR DRIVE</td>\n",
       "      <td>STANFORD</td>\n",
       "      <td>CA</td>\n",
       "      <td>94305</td>\n",
       "      <td>CA - San Mateo County</td>\n",
       "      <td>16</td>\n",
       "      <td>25519.43</td>\n",
       "      <td>22553.56</td>\n",
       "      <td>7506.485256</td>\n",
       "      <td>3.004543</td>\n",
       "      <td>(1.744, 5.174]</td>\n",
       "    </tr>\n",
       "  </tbody>\n",
       "</table>\n",
       "</div>"
      ],
      "text/plain": [
       "                                                    DRG Provider_Id  \\\n",
       "456            039 - EXTRACRANIAL PROCEDURES W/O CC/MCC      210029   \n",
       "690            039 - EXTRACRANIAL PROCEDURES W/O CC/MCC      330195   \n",
       "1172  057 - DEGENERATIVE NERVOUS SYSTEM DISORDERS W/...       50276   \n",
       "1186  057 - DEGENERATIVE NERVOUS SYSTEM DISORDERS W/...       50376   \n",
       "1191  057 - DEGENERATIVE NERVOUS SYSTEM DISORDERS W/...       50441   \n",
       "\n",
       "                             Provider_Name Provider_StreetAddress  \\\n",
       "456   JOHNS HOPKINS BAYVIEW MEDICAL CENTER    4940 EASTERN AVENUE   \n",
       "690      LONG ISLAND JEWISH MEDICAL CENTER   270 - 05 76TH AVENUE   \n",
       "1172  CONTRA COSTA REGIONAL MEDICAL CENTER      2500 ALHAMBRA AVE   \n",
       "1186            LAC/HARBOR-UCLA MED CENTER       1000 W CARSON ST   \n",
       "1191                     STANFORD HOSPITAL      300 PASTEUR DRIVE   \n",
       "\n",
       "      Provider_City Provider_State  Provider_Zipcode  \\\n",
       "456       BALTIMORE             MD             21224   \n",
       "690   NEW HYDE PARK             NY             11040   \n",
       "1172       MARTINEZ             CA             94553   \n",
       "1186       TORRANCE             CA             90509   \n",
       "1191       STANFORD             CA             94305   \n",
       "\n",
       "     Hospital_referral_region_desp  Total_Discharges  Average_Total_Payments  \\\n",
       "456                 MD - Baltimore                11                16878.45   \n",
       "690          NY - East Long Island                11                13895.09   \n",
       "1172      CA - Contra Costa County                23                19239.30   \n",
       "1186              CA - Los Angeles                13                15070.23   \n",
       "1191         CA - San Mateo County                16                25519.43   \n",
       "\n",
       "      Average_Medicare_Payment  Avg_Medicare_ByStateDRG  \\\n",
       "456                   15855.18              8015.386190   \n",
       "690                   13280.54              6796.218043   \n",
       "1172                  18363.08              7506.485256   \n",
       "1186                  14381.00              7506.485256   \n",
       "1191                  22553.56              7506.485256   \n",
       "\n",
       "      Avg_Medicare_ByStateDRG_ratio_amount  \\\n",
       "456                               1.978093   \n",
       "690                               1.954107   \n",
       "1172                              2.446295   \n",
       "1186                              1.915810   \n",
       "1191                              3.004543   \n",
       "\n",
       "     Avg_Medicare_ByStateDRG_ratio_amount_D  \n",
       "456                          (1.744, 5.174]  \n",
       "690                          (1.744, 5.174]  \n",
       "1172                         (1.744, 5.174]  \n",
       "1186                         (1.744, 5.174]  \n",
       "1191                         (1.744, 5.174]  "
      ]
     },
     "execution_count": 73,
     "metadata": {},
     "output_type": "execute_result"
    }
   ],
   "source": [
    "df7[df7['Avg_Medicare_ByStateDRG_ratio_amount']>1.744].head()"
   ]
  },
  {
   "cell_type": "markdown",
   "id": "225beb92",
   "metadata": {},
   "source": [
    "### Section 3.8: City & DRG Medicare Payments average <a class=\"anchor\" id=\"Section_38\"></a>\n",
    "- Calculating average ratio of Average medicare payment of every Provider city in DRG description. This will help understand the average medicare payment comparisons within the city. "
   ]
  },
  {
   "cell_type": "code",
   "execution_count": 74,
   "id": "1702e0f7",
   "metadata": {},
   "outputs": [
    {
     "data": {
      "text/html": [
       "<div>\n",
       "<style scoped>\n",
       "    .dataframe tbody tr th:only-of-type {\n",
       "        vertical-align: middle;\n",
       "    }\n",
       "\n",
       "    .dataframe tbody tr th {\n",
       "        vertical-align: top;\n",
       "    }\n",
       "\n",
       "    .dataframe thead th {\n",
       "        text-align: right;\n",
       "    }\n",
       "</style>\n",
       "<table border=\"1\" class=\"dataframe\">\n",
       "  <thead>\n",
       "    <tr style=\"text-align: right;\">\n",
       "      <th></th>\n",
       "      <th>Provider_City</th>\n",
       "      <th>DRG</th>\n",
       "      <th>Avg_Medicare_ByCityDRG</th>\n",
       "    </tr>\n",
       "  </thead>\n",
       "  <tbody>\n",
       "    <tr>\n",
       "      <th>0</th>\n",
       "      <td>ABBEVILLE</td>\n",
       "      <td>039 - EXTRACRANIAL PROCEDURES W/O CC/MCC</td>\n",
       "      <td>NaN</td>\n",
       "    </tr>\n",
       "    <tr>\n",
       "      <th>1</th>\n",
       "      <td>ABBEVILLE</td>\n",
       "      <td>057 - DEGENERATIVE NERVOUS SYSTEM DISORDERS W/...</td>\n",
       "      <td>NaN</td>\n",
       "    </tr>\n",
       "    <tr>\n",
       "      <th>2</th>\n",
       "      <td>ABBEVILLE</td>\n",
       "      <td>064 - INTRACRANIAL HEMORRHAGE OR CEREBRAL INFA...</td>\n",
       "      <td>NaN</td>\n",
       "    </tr>\n",
       "    <tr>\n",
       "      <th>3</th>\n",
       "      <td>ABBEVILLE</td>\n",
       "      <td>065 - INTRACRANIAL HEMORRHAGE OR CEREBRAL INFA...</td>\n",
       "      <td>NaN</td>\n",
       "    </tr>\n",
       "    <tr>\n",
       "      <th>4</th>\n",
       "      <td>ABBEVILLE</td>\n",
       "      <td>066 - INTRACRANIAL HEMORRHAGE OR CEREBRAL INFA...</td>\n",
       "      <td>NaN</td>\n",
       "    </tr>\n",
       "  </tbody>\n",
       "</table>\n",
       "</div>"
      ],
      "text/plain": [
       "  Provider_City                                                DRG  \\\n",
       "0     ABBEVILLE           039 - EXTRACRANIAL PROCEDURES W/O CC/MCC   \n",
       "1     ABBEVILLE  057 - DEGENERATIVE NERVOUS SYSTEM DISORDERS W/...   \n",
       "2     ABBEVILLE  064 - INTRACRANIAL HEMORRHAGE OR CEREBRAL INFA...   \n",
       "3     ABBEVILLE  065 - INTRACRANIAL HEMORRHAGE OR CEREBRAL INFA...   \n",
       "4     ABBEVILLE  066 - INTRACRANIAL HEMORRHAGE OR CEREBRAL INFA...   \n",
       "\n",
       "   Avg_Medicare_ByCityDRG  \n",
       "0                     NaN  \n",
       "1                     NaN  \n",
       "2                     NaN  \n",
       "3                     NaN  \n",
       "4                     NaN  "
      ]
     },
     "execution_count": 74,
     "metadata": {},
     "output_type": "execute_result"
    }
   ],
   "source": [
    "benchmark = df.groupby(['Provider_City','DRG'])['Average_Medicare_Payment'].mean().reset_index()\n",
    "benchmark.columns = ['Provider_City','DRG','Avg_Medicare_ByCityDRG']\n",
    "benchmark.head()"
   ]
  },
  {
   "cell_type": "code",
   "execution_count": 75,
   "id": "7cc1b3c3",
   "metadata": {},
   "outputs": [
    {
     "data": {
      "text/plain": [
       "count    163065.000000\n",
       "mean          1.000000\n",
       "std           0.119402\n",
       "min           0.261737\n",
       "25%           0.979755\n",
       "50%           1.000000\n",
       "75%           1.000000\n",
       "max           3.846861\n",
       "Name: Avg_Medicare_ByCityDRG_ratio_amount, dtype: float64"
      ]
     },
     "execution_count": 75,
     "metadata": {},
     "output_type": "execute_result"
    }
   ],
   "source": [
    "# add the new feature average total discharges to the dataset \n",
    "df8 = pd.merge(df, benchmark, how='left', on=['Provider_City','DRG'])\n",
    "# Feature 8: ratio of amount total medicare payment and average medicare payment by drg in a city\n",
    "df8['Avg_Medicare_ByCityDRG_ratio_amount'] = np.where(df8['Avg_Medicare_ByCityDRG']==0,0, df8['Average_Medicare_Payment'] / df8['Avg_Medicare_ByCityDRG'])\n",
    "df8['Avg_Medicare_ByCityDRG_ratio_amount'].describe()"
   ]
  },
  {
   "cell_type": "code",
   "execution_count": 76,
   "id": "f85c53c5",
   "metadata": {},
   "outputs": [
    {
     "data": {
      "text/html": [
       "<div>\n",
       "<style scoped>\n",
       "    .dataframe tbody tr th:only-of-type {\n",
       "        vertical-align: middle;\n",
       "    }\n",
       "\n",
       "    .dataframe tbody tr th {\n",
       "        vertical-align: top;\n",
       "    }\n",
       "\n",
       "    .dataframe thead th {\n",
       "        text-align: right;\n",
       "    }\n",
       "</style>\n",
       "<table border=\"1\" class=\"dataframe\">\n",
       "  <thead>\n",
       "    <tr style=\"text-align: right;\">\n",
       "      <th></th>\n",
       "      <th>Avg_Medicare_ByCityDRG_ratio_amount_D</th>\n",
       "    </tr>\n",
       "  </thead>\n",
       "  <tbody>\n",
       "    <tr>\n",
       "      <th>0</th>\n",
       "      <td>(1.023, 1.21]</td>\n",
       "    </tr>\n",
       "    <tr>\n",
       "      <th>1</th>\n",
       "      <td>(0.95, 1.0]</td>\n",
       "    </tr>\n",
       "    <tr>\n",
       "      <th>2</th>\n",
       "      <td>(0.809, 0.95]</td>\n",
       "    </tr>\n",
       "    <tr>\n",
       "      <th>3</th>\n",
       "      <td>(0.809, 0.95]</td>\n",
       "    </tr>\n",
       "    <tr>\n",
       "      <th>4</th>\n",
       "      <td>(0.95, 1.0]</td>\n",
       "    </tr>\n",
       "    <tr>\n",
       "      <th>...</th>\n",
       "      <td>...</td>\n",
       "    </tr>\n",
       "    <tr>\n",
       "      <th>163060</th>\n",
       "      <td>(0.95, 1.0]</td>\n",
       "    </tr>\n",
       "    <tr>\n",
       "      <th>163061</th>\n",
       "      <td>(0.261, 0.7]</td>\n",
       "    </tr>\n",
       "    <tr>\n",
       "      <th>163062</th>\n",
       "      <td>(0.95, 1.0]</td>\n",
       "    </tr>\n",
       "    <tr>\n",
       "      <th>163063</th>\n",
       "      <td>(0.95, 1.0]</td>\n",
       "    </tr>\n",
       "    <tr>\n",
       "      <th>163064</th>\n",
       "      <td>(0.95, 1.0]</td>\n",
       "    </tr>\n",
       "  </tbody>\n",
       "</table>\n",
       "<p>163065 rows × 1 columns</p>\n",
       "</div>"
      ],
      "text/plain": [
       "       Avg_Medicare_ByCityDRG_ratio_amount_D\n",
       "0                              (1.023, 1.21]\n",
       "1                                (0.95, 1.0]\n",
       "2                              (0.809, 0.95]\n",
       "3                              (0.809, 0.95]\n",
       "4                                (0.95, 1.0]\n",
       "...                                      ...\n",
       "163060                           (0.95, 1.0]\n",
       "163061                          (0.261, 0.7]\n",
       "163062                           (0.95, 1.0]\n",
       "163063                           (0.95, 1.0]\n",
       "163064                           (0.95, 1.0]\n",
       "\n",
       "[163065 rows x 1 columns]"
      ]
     },
     "execution_count": 76,
     "metadata": {},
     "output_type": "execute_result"
    }
   ],
   "source": [
    "var = 'Avg_Medicare_ByCityDRG_ratio_amount'\n",
    "binned_var = var + '_D'\n",
    "percentile = [0,0.01,0.05,0.2,0.5,0.8,0.95,0.99,1]\n",
    "df8[binned_var] = pd.qcut( df8[var], percentile)\n",
    "df8[['Avg_Medicare_ByCityDRG_ratio_amount_D']]"
   ]
  },
  {
   "cell_type": "code",
   "execution_count": 77,
   "id": "ee45b129",
   "metadata": {},
   "outputs": [
    {
     "data": {
      "text/plain": [
       "[Text(0, 0, '(0.261, 0.7]'),\n",
       " Text(1, 0, '(0.7, 0.809]'),\n",
       " Text(2, 0, '(0.809, 0.95]'),\n",
       " Text(3, 0, '(0.95, 1.0]'),\n",
       " Text(4, 0, '(1.0, 1.023]'),\n",
       " Text(5, 0, '(1.023, 1.21]'),\n",
       " Text(6, 0, '(1.21, 1.435]'),\n",
       " Text(7, 0, '(1.435, 3.847]')]"
      ]
     },
     "execution_count": 77,
     "metadata": {},
     "output_type": "execute_result"
    },
    {
     "data": {
      "image/png": "[encoded data removed]",
      "text/plain": [
       "<Figure size 432x288 with 1 Axes>"
      ]
     },
     "metadata": {
      "needs_background": "light"
     },
     "output_type": "display_data"
    }
   ],
   "source": [
    "plt.figure(figsize=(6,4))\n",
    "g = sns.countplot(x=\"Avg_Medicare_ByCityDRG_ratio_amount_D\", data=df8)\n",
    "g.set_xticklabels(g.get_xticklabels(), rotation=60)"
   ]
  },
  {
   "cell_type": "markdown",
   "id": "9c59352b",
   "metadata": {},
   "source": [
    "#### Thought process:\n",
    "- If the ratio is larger than 1.435, then there is probably a fraudulent."
   ]
  },
  {
   "cell_type": "code",
   "execution_count": 78,
   "id": "40c672e4",
   "metadata": {},
   "outputs": [
    {
     "data": {
      "text/plain": [
       "1625"
      ]
     },
     "execution_count": 78,
     "metadata": {},
     "output_type": "execute_result"
    }
   ],
   "source": [
    "len(df8[df8['Avg_Medicare_ByCityDRG_ratio_amount']>1.435])"
   ]
  },
  {
   "cell_type": "code",
   "execution_count": 79,
   "id": "1158e4d3",
   "metadata": {},
   "outputs": [
    {
     "data": {
      "text/plain": [
       "134"
      ]
     },
     "execution_count": 79,
     "metadata": {},
     "output_type": "execute_result"
    }
   ],
   "source": [
    "len(df8[df8['Avg_Medicare_ByCityDRG_ratio_amount']>1.435]['Provider_Name'].unique())"
   ]
  },
  {
   "cell_type": "code",
   "execution_count": 80,
   "id": "46bdafa4",
   "metadata": {},
   "outputs": [
    {
     "data": {
      "text/html": [
       "<div>\n",
       "<style scoped>\n",
       "    .dataframe tbody tr th:only-of-type {\n",
       "        vertical-align: middle;\n",
       "    }\n",
       "\n",
       "    .dataframe tbody tr th {\n",
       "        vertical-align: top;\n",
       "    }\n",
       "\n",
       "    .dataframe thead th {\n",
       "        text-align: right;\n",
       "    }\n",
       "</style>\n",
       "<table border=\"1\" class=\"dataframe\">\n",
       "  <thead>\n",
       "    <tr style=\"text-align: right;\">\n",
       "      <th></th>\n",
       "      <th>DRG</th>\n",
       "      <th>Provider_Id</th>\n",
       "      <th>Provider_Name</th>\n",
       "      <th>Provider_StreetAddress</th>\n",
       "      <th>Provider_City</th>\n",
       "      <th>Provider_State</th>\n",
       "      <th>Provider_Zipcode</th>\n",
       "      <th>Hospital_referral_region_desp</th>\n",
       "      <th>Total_Discharges</th>\n",
       "      <th>Average_Total_Payments</th>\n",
       "      <th>Average_Medicare_Payment</th>\n",
       "      <th>Avg_Medicare_ByCityDRG</th>\n",
       "      <th>Avg_Medicare_ByCityDRG_ratio_amount</th>\n",
       "      <th>Avg_Medicare_ByCityDRG_ratio_amount_D</th>\n",
       "    </tr>\n",
       "  </thead>\n",
       "  <tbody>\n",
       "    <tr>\n",
       "      <th>456</th>\n",
       "      <td>039 - EXTRACRANIAL PROCEDURES W/O CC/MCC</td>\n",
       "      <td>210029</td>\n",
       "      <td>JOHNS HOPKINS BAYVIEW MEDICAL CENTER</td>\n",
       "      <td>4940 EASTERN AVENUE</td>\n",
       "      <td>BALTIMORE</td>\n",
       "      <td>MD</td>\n",
       "      <td>21224</td>\n",
       "      <td>MD - Baltimore</td>\n",
       "      <td>11</td>\n",
       "      <td>16878.45</td>\n",
       "      <td>15855.18</td>\n",
       "      <td>9581.675714</td>\n",
       "      <td>1.654740</td>\n",
       "      <td>(1.435, 3.847]</td>\n",
       "    </tr>\n",
       "    <tr>\n",
       "      <th>755</th>\n",
       "      <td>039 - EXTRACRANIAL PROCEDURES W/O CC/MCC</td>\n",
       "      <td>360059</td>\n",
       "      <td>METRO HEALTH MEDICAL CENTER</td>\n",
       "      <td>2500 METROHEALTH DRIVE</td>\n",
       "      <td>CLEVELAND</td>\n",
       "      <td>OH</td>\n",
       "      <td>44109</td>\n",
       "      <td>OH - Cleveland</td>\n",
       "      <td>12</td>\n",
       "      <td>9506.58</td>\n",
       "      <td>8660.25</td>\n",
       "      <td>5994.046000</td>\n",
       "      <td>1.444809</td>\n",
       "      <td>(1.435, 3.847]</td>\n",
       "    </tr>\n",
       "    <tr>\n",
       "      <th>928</th>\n",
       "      <td>039 - EXTRACRANIAL PROCEDURES W/O CC/MCC</td>\n",
       "      <td>450068</td>\n",
       "      <td>MEMORIAL HERMANN TEXAS MEDICAL CENTER</td>\n",
       "      <td>6411 FANNIN</td>\n",
       "      <td>HOUSTON</td>\n",
       "      <td>TX</td>\n",
       "      <td>77030</td>\n",
       "      <td>TX - Houston</td>\n",
       "      <td>16</td>\n",
       "      <td>10011.31</td>\n",
       "      <td>9097.62</td>\n",
       "      <td>6113.931667</td>\n",
       "      <td>1.488015</td>\n",
       "      <td>(1.435, 3.847]</td>\n",
       "    </tr>\n",
       "    <tr>\n",
       "      <th>1186</th>\n",
       "      <td>057 - DEGENERATIVE NERVOUS SYSTEM DISORDERS W/...</td>\n",
       "      <td>50376</td>\n",
       "      <td>LAC/HARBOR-UCLA MED CENTER</td>\n",
       "      <td>1000 W CARSON ST</td>\n",
       "      <td>TORRANCE</td>\n",
       "      <td>CA</td>\n",
       "      <td>90509</td>\n",
       "      <td>CA - Los Angeles</td>\n",
       "      <td>13</td>\n",
       "      <td>15070.23</td>\n",
       "      <td>14381.00</td>\n",
       "      <td>8588.260000</td>\n",
       "      <td>1.674495</td>\n",
       "      <td>(1.435, 3.847]</td>\n",
       "    </tr>\n",
       "    <tr>\n",
       "      <th>1248</th>\n",
       "      <td>057 - DEGENERATIVE NERVOUS SYSTEM DISORDERS W/...</td>\n",
       "      <td>100001</td>\n",
       "      <td>SHANDS JACKSONVILLE MEDICAL CENTER</td>\n",
       "      <td>655 W 8TH ST</td>\n",
       "      <td>JACKSONVILLE</td>\n",
       "      <td>FL</td>\n",
       "      <td>32209</td>\n",
       "      <td>FL - Jacksonville</td>\n",
       "      <td>38</td>\n",
       "      <td>8183.39</td>\n",
       "      <td>7413.92</td>\n",
       "      <td>5036.631429</td>\n",
       "      <td>1.472000</td>\n",
       "      <td>(1.435, 3.847]</td>\n",
       "    </tr>\n",
       "  </tbody>\n",
       "</table>\n",
       "</div>"
      ],
      "text/plain": [
       "                                                    DRG Provider_Id  \\\n",
       "456            039 - EXTRACRANIAL PROCEDURES W/O CC/MCC      210029   \n",
       "755            039 - EXTRACRANIAL PROCEDURES W/O CC/MCC      360059   \n",
       "928            039 - EXTRACRANIAL PROCEDURES W/O CC/MCC      450068   \n",
       "1186  057 - DEGENERATIVE NERVOUS SYSTEM DISORDERS W/...       50376   \n",
       "1248  057 - DEGENERATIVE NERVOUS SYSTEM DISORDERS W/...      100001   \n",
       "\n",
       "                              Provider_Name  Provider_StreetAddress  \\\n",
       "456    JOHNS HOPKINS BAYVIEW MEDICAL CENTER     4940 EASTERN AVENUE   \n",
       "755             METRO HEALTH MEDICAL CENTER  2500 METROHEALTH DRIVE   \n",
       "928   MEMORIAL HERMANN TEXAS MEDICAL CENTER             6411 FANNIN   \n",
       "1186             LAC/HARBOR-UCLA MED CENTER        1000 W CARSON ST   \n",
       "1248     SHANDS JACKSONVILLE MEDICAL CENTER            655 W 8TH ST   \n",
       "\n",
       "     Provider_City Provider_State  Provider_Zipcode  \\\n",
       "456      BALTIMORE             MD             21224   \n",
       "755      CLEVELAND             OH             44109   \n",
       "928        HOUSTON             TX             77030   \n",
       "1186      TORRANCE             CA             90509   \n",
       "1248  JACKSONVILLE             FL             32209   \n",
       "\n",
       "     Hospital_referral_region_desp  Total_Discharges  Average_Total_Payments  \\\n",
       "456                 MD - Baltimore                11                16878.45   \n",
       "755                 OH - Cleveland                12                 9506.58   \n",
       "928                   TX - Houston                16                10011.31   \n",
       "1186              CA - Los Angeles                13                15070.23   \n",
       "1248             FL - Jacksonville                38                 8183.39   \n",
       "\n",
       "      Average_Medicare_Payment  Avg_Medicare_ByCityDRG  \\\n",
       "456                   15855.18             9581.675714   \n",
       "755                    8660.25             5994.046000   \n",
       "928                    9097.62             6113.931667   \n",
       "1186                  14381.00             8588.260000   \n",
       "1248                   7413.92             5036.631429   \n",
       "\n",
       "      Avg_Medicare_ByCityDRG_ratio_amount  \\\n",
       "456                              1.654740   \n",
       "755                              1.444809   \n",
       "928                              1.488015   \n",
       "1186                             1.674495   \n",
       "1248                             1.472000   \n",
       "\n",
       "     Avg_Medicare_ByCityDRG_ratio_amount_D  \n",
       "456                         (1.435, 3.847]  \n",
       "755                         (1.435, 3.847]  \n",
       "928                         (1.435, 3.847]  \n",
       "1186                        (1.435, 3.847]  \n",
       "1248                        (1.435, 3.847]  "
      ]
     },
     "execution_count": 80,
     "metadata": {},
     "output_type": "execute_result"
    }
   ],
   "source": [
    "df8[df8['Avg_Medicare_ByCityDRG_ratio_amount']>1.435].head()"
   ]
  },
  {
   "cell_type": "markdown",
   "id": "08c16c29",
   "metadata": {},
   "source": [
    "### Section 3.9: Region & BRG Medicare Payments average <a class=\"anchor\" id=\"Section_39\"></a>\n",
    "- Calculating average ratio of Average medicare payment of every Hospital referral region desp in DRG description. This will help understand the average medicare payment comparisons within the region. "
   ]
  },
  {
   "cell_type": "code",
   "execution_count": 81,
   "id": "9af30c5a",
   "metadata": {},
   "outputs": [
    {
     "data": {
      "text/html": [
       "<div>\n",
       "<style scoped>\n",
       "    .dataframe tbody tr th:only-of-type {\n",
       "        vertical-align: middle;\n",
       "    }\n",
       "\n",
       "    .dataframe tbody tr th {\n",
       "        vertical-align: top;\n",
       "    }\n",
       "\n",
       "    .dataframe thead th {\n",
       "        text-align: right;\n",
       "    }\n",
       "</style>\n",
       "<table border=\"1\" class=\"dataframe\">\n",
       "  <thead>\n",
       "    <tr style=\"text-align: right;\">\n",
       "      <th></th>\n",
       "      <th>Hospital_referral_region_desp</th>\n",
       "      <th>DRG</th>\n",
       "      <th>Avg_Medicare_ByRegionDRG</th>\n",
       "    </tr>\n",
       "  </thead>\n",
       "  <tbody>\n",
       "    <tr>\n",
       "      <th>0</th>\n",
       "      <td>AK - Anchorage</td>\n",
       "      <td>039 - EXTRACRANIAL PROCEDURES W/O CC/MCC</td>\n",
       "      <td>6413.780000</td>\n",
       "    </tr>\n",
       "    <tr>\n",
       "      <th>1</th>\n",
       "      <td>AK - Anchorage</td>\n",
       "      <td>057 - DEGENERATIVE NERVOUS SYSTEM DISORDERS W/...</td>\n",
       "      <td>8081.540000</td>\n",
       "    </tr>\n",
       "    <tr>\n",
       "      <th>2</th>\n",
       "      <td>AK - Anchorage</td>\n",
       "      <td>064 - INTRACRANIAL HEMORRHAGE OR CEREBRAL INFA...</td>\n",
       "      <td>20555.255000</td>\n",
       "    </tr>\n",
       "    <tr>\n",
       "      <th>3</th>\n",
       "      <td>AK - Anchorage</td>\n",
       "      <td>065 - INTRACRANIAL HEMORRHAGE OR CEREBRAL INFA...</td>\n",
       "      <td>11140.963333</td>\n",
       "    </tr>\n",
       "    <tr>\n",
       "      <th>4</th>\n",
       "      <td>AK - Anchorage</td>\n",
       "      <td>066 - INTRACRANIAL HEMORRHAGE OR CEREBRAL INFA...</td>\n",
       "      <td>8258.427500</td>\n",
       "    </tr>\n",
       "  </tbody>\n",
       "</table>\n",
       "</div>"
      ],
      "text/plain": [
       "  Hospital_referral_region_desp  \\\n",
       "0                AK - Anchorage   \n",
       "1                AK - Anchorage   \n",
       "2                AK - Anchorage   \n",
       "3                AK - Anchorage   \n",
       "4                AK - Anchorage   \n",
       "\n",
       "                                                 DRG  Avg_Medicare_ByRegionDRG  \n",
       "0           039 - EXTRACRANIAL PROCEDURES W/O CC/MCC               6413.780000  \n",
       "1  057 - DEGENERATIVE NERVOUS SYSTEM DISORDERS W/...               8081.540000  \n",
       "2  064 - INTRACRANIAL HEMORRHAGE OR CEREBRAL INFA...              20555.255000  \n",
       "3  065 - INTRACRANIAL HEMORRHAGE OR CEREBRAL INFA...              11140.963333  \n",
       "4  066 - INTRACRANIAL HEMORRHAGE OR CEREBRAL INFA...               8258.427500  "
      ]
     },
     "execution_count": 81,
     "metadata": {},
     "output_type": "execute_result"
    }
   ],
   "source": [
    "benchmark = df.groupby(['Hospital_referral_region_desp','DRG'])['Average_Medicare_Payment'].mean().reset_index()\n",
    "benchmark.columns = ['Hospital_referral_region_desp','DRG','Avg_Medicare_ByRegionDRG']\n",
    "benchmark.head()"
   ]
  },
  {
   "cell_type": "code",
   "execution_count": 82,
   "id": "8b7dcc9c",
   "metadata": {},
   "outputs": [
    {
     "data": {
      "text/plain": [
       "count    163065.000000\n",
       "mean          1.000000\n",
       "std           0.175920\n",
       "min           0.339831\n",
       "25%           0.893506\n",
       "50%           0.976954\n",
       "75%           1.063344\n",
       "max           4.516504\n",
       "Name: Avg_Medicare_ByRegionDRG_ratio_amount, dtype: float64"
      ]
     },
     "execution_count": 82,
     "metadata": {},
     "output_type": "execute_result"
    }
   ],
   "source": [
    "# add the new feature average total discharges to the dataset \n",
    "df9 = pd.merge(df, benchmark, how='left', on=['Hospital_referral_region_desp','DRG'])\n",
    "# Feature 9: ratio of amount total medicare payment and average medicare payment by drg in a region\n",
    "df9['Avg_Medicare_ByRegionDRG_ratio_amount'] = np.where(df9['Avg_Medicare_ByRegionDRG']==0,0, df9['Average_Medicare_Payment'] / df9['Avg_Medicare_ByRegionDRG'])\n",
    "df9['Avg_Medicare_ByRegionDRG_ratio_amount'].describe()"
   ]
  },
  {
   "cell_type": "code",
   "execution_count": 83,
   "id": "76d1be57",
   "metadata": {},
   "outputs": [
    {
     "data": {
      "text/html": [
       "<div>\n",
       "<style scoped>\n",
       "    .dataframe tbody tr th:only-of-type {\n",
       "        vertical-align: middle;\n",
       "    }\n",
       "\n",
       "    .dataframe tbody tr th {\n",
       "        vertical-align: top;\n",
       "    }\n",
       "\n",
       "    .dataframe thead th {\n",
       "        text-align: right;\n",
       "    }\n",
       "</style>\n",
       "<table border=\"1\" class=\"dataframe\">\n",
       "  <thead>\n",
       "    <tr style=\"text-align: right;\">\n",
       "      <th></th>\n",
       "      <th>Avg_Medicare_ByRegionDRG_ratio_amount_D</th>\n",
       "    </tr>\n",
       "  </thead>\n",
       "  <tbody>\n",
       "    <tr>\n",
       "      <th>0</th>\n",
       "      <td>(0.977, 1.093]</td>\n",
       "    </tr>\n",
       "    <tr>\n",
       "      <th>1</th>\n",
       "      <td>(0.977, 1.093]</td>\n",
       "    </tr>\n",
       "    <tr>\n",
       "      <th>2</th>\n",
       "      <td>(0.873, 0.977]</td>\n",
       "    </tr>\n",
       "    <tr>\n",
       "      <th>3</th>\n",
       "      <td>(0.873, 0.977]</td>\n",
       "    </tr>\n",
       "    <tr>\n",
       "      <th>4</th>\n",
       "      <td>(0.977, 1.093]</td>\n",
       "    </tr>\n",
       "    <tr>\n",
       "      <th>...</th>\n",
       "      <td>...</td>\n",
       "    </tr>\n",
       "    <tr>\n",
       "      <th>163060</th>\n",
       "      <td>(0.779, 0.873]</td>\n",
       "    </tr>\n",
       "    <tr>\n",
       "      <th>163061</th>\n",
       "      <td>(0.339, 0.7]</td>\n",
       "    </tr>\n",
       "    <tr>\n",
       "      <th>163062</th>\n",
       "      <td>(1.093, 1.337]</td>\n",
       "    </tr>\n",
       "    <tr>\n",
       "      <th>163063</th>\n",
       "      <td>(1.613, 4.517]</td>\n",
       "    </tr>\n",
       "    <tr>\n",
       "      <th>163064</th>\n",
       "      <td>(0.7, 0.779]</td>\n",
       "    </tr>\n",
       "  </tbody>\n",
       "</table>\n",
       "<p>163065 rows × 1 columns</p>\n",
       "</div>"
      ],
      "text/plain": [
       "       Avg_Medicare_ByRegionDRG_ratio_amount_D\n",
       "0                               (0.977, 1.093]\n",
       "1                               (0.977, 1.093]\n",
       "2                               (0.873, 0.977]\n",
       "3                               (0.873, 0.977]\n",
       "4                               (0.977, 1.093]\n",
       "...                                        ...\n",
       "163060                          (0.779, 0.873]\n",
       "163061                            (0.339, 0.7]\n",
       "163062                          (1.093, 1.337]\n",
       "163063                          (1.613, 4.517]\n",
       "163064                            (0.7, 0.779]\n",
       "\n",
       "[163065 rows x 1 columns]"
      ]
     },
     "execution_count": 83,
     "metadata": {},
     "output_type": "execute_result"
    }
   ],
   "source": [
    "var = 'Avg_Medicare_ByRegionDRG_ratio_amount'\n",
    "binned_var = var + '_D'\n",
    "percentile = [0,0.01,0.05,0.2,0.5,0.8,0.95,0.99,1]\n",
    "df9[binned_var] = pd.qcut( df9[var], percentile)\n",
    "df9[['Avg_Medicare_ByRegionDRG_ratio_amount_D']]"
   ]
  },
  {
   "cell_type": "code",
   "execution_count": 84,
   "id": "73dc381d",
   "metadata": {},
   "outputs": [
    {
     "data": {
      "text/plain": [
       "[Text(0, 0, '(0.339, 0.7]'),\n",
       " Text(1, 0, '(0.7, 0.779]'),\n",
       " Text(2, 0, '(0.779, 0.873]'),\n",
       " Text(3, 0, '(0.873, 0.977]'),\n",
       " Text(4, 0, '(0.977, 1.093]'),\n",
       " Text(5, 0, '(1.093, 1.337]'),\n",
       " Text(6, 0, '(1.337, 1.613]'),\n",
       " Text(7, 0, '(1.613, 4.517]')]"
      ]
     },
     "execution_count": 84,
     "metadata": {},
     "output_type": "execute_result"
    },
    {
     "data": {
      "image/png": "[encoded data removed]",
      "text/plain": [
       "<Figure size 432x288 with 1 Axes>"
      ]
     },
     "metadata": {
      "needs_background": "light"
     },
     "output_type": "display_data"
    }
   ],
   "source": [
    "plt.figure(figsize=(6,4))\n",
    "g = sns.countplot(x=\"Avg_Medicare_ByRegionDRG_ratio_amount_D\", data=df9)\n",
    "g.set_xticklabels(g.get_xticklabels(), rotation=60)"
   ]
  },
  {
   "cell_type": "markdown",
   "id": "4adffbef",
   "metadata": {},
   "source": [
    "#### Thought process:\n",
    "- If the ratio is larger than 1.613, then there is probably a fraudulent."
   ]
  },
  {
   "cell_type": "code",
   "execution_count": 85,
   "id": "e4300e8c",
   "metadata": {},
   "outputs": [
    {
     "data": {
      "text/plain": [
       "1626"
      ]
     },
     "execution_count": 85,
     "metadata": {},
     "output_type": "execute_result"
    }
   ],
   "source": [
    "len(df9[df9['Avg_Medicare_ByRegionDRG_ratio_amount']>1.613])"
   ]
  },
  {
   "cell_type": "code",
   "execution_count": 86,
   "id": "5c1c8bd6",
   "metadata": {},
   "outputs": [
    {
     "data": {
      "text/plain": [
       "191"
      ]
     },
     "execution_count": 86,
     "metadata": {},
     "output_type": "execute_result"
    }
   ],
   "source": [
    "len(df9[df9['Avg_Medicare_ByRegionDRG_ratio_amount']>1.613]['Provider_Name'].unique())"
   ]
  },
  {
   "cell_type": "code",
   "execution_count": 87,
   "id": "a0fa0622",
   "metadata": {},
   "outputs": [
    {
     "data": {
      "text/html": [
       "<div>\n",
       "<style scoped>\n",
       "    .dataframe tbody tr th:only-of-type {\n",
       "        vertical-align: middle;\n",
       "    }\n",
       "\n",
       "    .dataframe tbody tr th {\n",
       "        vertical-align: top;\n",
       "    }\n",
       "\n",
       "    .dataframe thead th {\n",
       "        text-align: right;\n",
       "    }\n",
       "</style>\n",
       "<table border=\"1\" class=\"dataframe\">\n",
       "  <thead>\n",
       "    <tr style=\"text-align: right;\">\n",
       "      <th></th>\n",
       "      <th>DRG</th>\n",
       "      <th>Provider_Id</th>\n",
       "      <th>Provider_Name</th>\n",
       "      <th>Provider_StreetAddress</th>\n",
       "      <th>Provider_City</th>\n",
       "      <th>Provider_State</th>\n",
       "      <th>Provider_Zipcode</th>\n",
       "      <th>Hospital_referral_region_desp</th>\n",
       "      <th>Total_Discharges</th>\n",
       "      <th>Average_Total_Payments</th>\n",
       "      <th>Average_Medicare_Payment</th>\n",
       "      <th>Avg_Medicare_ByRegionDRG</th>\n",
       "      <th>Avg_Medicare_ByRegionDRG_ratio_amount</th>\n",
       "      <th>Avg_Medicare_ByRegionDRG_ratio_amount_D</th>\n",
       "    </tr>\n",
       "  </thead>\n",
       "  <tbody>\n",
       "    <tr>\n",
       "      <th>59</th>\n",
       "      <td>039 - EXTRACRANIAL PROCEDURES W/O CC/MCC</td>\n",
       "      <td>40078</td>\n",
       "      <td>NATIONAL PARK MEDICAL CENTER</td>\n",
       "      <td>1910 MALVERN AVENUE</td>\n",
       "      <td>HOT SPRINGS</td>\n",
       "      <td>AR</td>\n",
       "      <td>71901</td>\n",
       "      <td>AR - Little Rock</td>\n",
       "      <td>18</td>\n",
       "      <td>9838.11</td>\n",
       "      <td>8533.83</td>\n",
       "      <td>5203.592222</td>\n",
       "      <td>1.639988</td>\n",
       "      <td>(1.613, 4.517]</td>\n",
       "    </tr>\n",
       "    <tr>\n",
       "      <th>456</th>\n",
       "      <td>039 - EXTRACRANIAL PROCEDURES W/O CC/MCC</td>\n",
       "      <td>210029</td>\n",
       "      <td>JOHNS HOPKINS BAYVIEW MEDICAL CENTER</td>\n",
       "      <td>4940 EASTERN AVENUE</td>\n",
       "      <td>BALTIMORE</td>\n",
       "      <td>MD</td>\n",
       "      <td>21224</td>\n",
       "      <td>MD - Baltimore</td>\n",
       "      <td>11</td>\n",
       "      <td>16878.45</td>\n",
       "      <td>15855.18</td>\n",
       "      <td>8233.980833</td>\n",
       "      <td>1.925579</td>\n",
       "      <td>(1.613, 4.517]</td>\n",
       "    </tr>\n",
       "    <tr>\n",
       "      <th>690</th>\n",
       "      <td>039 - EXTRACRANIAL PROCEDURES W/O CC/MCC</td>\n",
       "      <td>330195</td>\n",
       "      <td>LONG ISLAND JEWISH MEDICAL CENTER</td>\n",
       "      <td>270 - 05 76TH AVENUE</td>\n",
       "      <td>NEW HYDE PARK</td>\n",
       "      <td>NY</td>\n",
       "      <td>11040</td>\n",
       "      <td>NY - East Long Island</td>\n",
       "      <td>11</td>\n",
       "      <td>13895.09</td>\n",
       "      <td>13280.54</td>\n",
       "      <td>6942.507500</td>\n",
       "      <td>1.912931</td>\n",
       "      <td>(1.613, 4.517]</td>\n",
       "    </tr>\n",
       "    <tr>\n",
       "      <th>755</th>\n",
       "      <td>039 - EXTRACRANIAL PROCEDURES W/O CC/MCC</td>\n",
       "      <td>360059</td>\n",
       "      <td>METRO HEALTH MEDICAL CENTER</td>\n",
       "      <td>2500 METROHEALTH DRIVE</td>\n",
       "      <td>CLEVELAND</td>\n",
       "      <td>OH</td>\n",
       "      <td>44109</td>\n",
       "      <td>OH - Cleveland</td>\n",
       "      <td>12</td>\n",
       "      <td>9506.58</td>\n",
       "      <td>8660.25</td>\n",
       "      <td>5166.656667</td>\n",
       "      <td>1.676181</td>\n",
       "      <td>(1.613, 4.517]</td>\n",
       "    </tr>\n",
       "    <tr>\n",
       "      <th>928</th>\n",
       "      <td>039 - EXTRACRANIAL PROCEDURES W/O CC/MCC</td>\n",
       "      <td>450068</td>\n",
       "      <td>MEMORIAL HERMANN TEXAS MEDICAL CENTER</td>\n",
       "      <td>6411 FANNIN</td>\n",
       "      <td>HOUSTON</td>\n",
       "      <td>TX</td>\n",
       "      <td>77030</td>\n",
       "      <td>TX - Houston</td>\n",
       "      <td>16</td>\n",
       "      <td>10011.31</td>\n",
       "      <td>9097.62</td>\n",
       "      <td>5320.360000</td>\n",
       "      <td>1.709963</td>\n",
       "      <td>(1.613, 4.517]</td>\n",
       "    </tr>\n",
       "  </tbody>\n",
       "</table>\n",
       "</div>"
      ],
      "text/plain": [
       "                                          DRG Provider_Id  \\\n",
       "59   039 - EXTRACRANIAL PROCEDURES W/O CC/MCC       40078   \n",
       "456  039 - EXTRACRANIAL PROCEDURES W/O CC/MCC      210029   \n",
       "690  039 - EXTRACRANIAL PROCEDURES W/O CC/MCC      330195   \n",
       "755  039 - EXTRACRANIAL PROCEDURES W/O CC/MCC      360059   \n",
       "928  039 - EXTRACRANIAL PROCEDURES W/O CC/MCC      450068   \n",
       "\n",
       "                             Provider_Name  Provider_StreetAddress  \\\n",
       "59            NATIONAL PARK MEDICAL CENTER     1910 MALVERN AVENUE   \n",
       "456   JOHNS HOPKINS BAYVIEW MEDICAL CENTER     4940 EASTERN AVENUE   \n",
       "690      LONG ISLAND JEWISH MEDICAL CENTER    270 - 05 76TH AVENUE   \n",
       "755            METRO HEALTH MEDICAL CENTER  2500 METROHEALTH DRIVE   \n",
       "928  MEMORIAL HERMANN TEXAS MEDICAL CENTER             6411 FANNIN   \n",
       "\n",
       "     Provider_City Provider_State  Provider_Zipcode  \\\n",
       "59     HOT SPRINGS             AR             71901   \n",
       "456      BALTIMORE             MD             21224   \n",
       "690  NEW HYDE PARK             NY             11040   \n",
       "755      CLEVELAND             OH             44109   \n",
       "928        HOUSTON             TX             77030   \n",
       "\n",
       "    Hospital_referral_region_desp  Total_Discharges  Average_Total_Payments  \\\n",
       "59               AR - Little Rock                18                 9838.11   \n",
       "456                MD - Baltimore                11                16878.45   \n",
       "690         NY - East Long Island                11                13895.09   \n",
       "755                OH - Cleveland                12                 9506.58   \n",
       "928                  TX - Houston                16                10011.31   \n",
       "\n",
       "     Average_Medicare_Payment  Avg_Medicare_ByRegionDRG  \\\n",
       "59                    8533.83               5203.592222   \n",
       "456                  15855.18               8233.980833   \n",
       "690                  13280.54               6942.507500   \n",
       "755                   8660.25               5166.656667   \n",
       "928                   9097.62               5320.360000   \n",
       "\n",
       "     Avg_Medicare_ByRegionDRG_ratio_amount  \\\n",
       "59                                1.639988   \n",
       "456                               1.925579   \n",
       "690                               1.912931   \n",
       "755                               1.676181   \n",
       "928                               1.709963   \n",
       "\n",
       "    Avg_Medicare_ByRegionDRG_ratio_amount_D  \n",
       "59                           (1.613, 4.517]  \n",
       "456                          (1.613, 4.517]  \n",
       "690                          (1.613, 4.517]  \n",
       "755                          (1.613, 4.517]  \n",
       "928                          (1.613, 4.517]  "
      ]
     },
     "execution_count": 87,
     "metadata": {},
     "output_type": "execute_result"
    }
   ],
   "source": [
    "df9[df9['Avg_Medicare_ByRegionDRG_ratio_amount']>1.613].head()"
   ]
  },
  {
   "cell_type": "markdown",
   "id": "2fa5a148",
   "metadata": {},
   "source": [
    "### Section 3.10: Region, State & BRG Medicare Payments average <a class=\"anchor\" id=\"Section_40\"></a>\n",
    "- Calculating average ratio of Average medicare payment of every Provider state and Hospital referral region desp in DRG description. This will help understand the average medical payments comparisons within the region and state."
   ]
  },
  {
   "cell_type": "code",
   "execution_count": 88,
   "id": "959b31b7",
   "metadata": {},
   "outputs": [
    {
     "data": {
      "text/html": [
       "<div>\n",
       "<style scoped>\n",
       "    .dataframe tbody tr th:only-of-type {\n",
       "        vertical-align: middle;\n",
       "    }\n",
       "\n",
       "    .dataframe tbody tr th {\n",
       "        vertical-align: top;\n",
       "    }\n",
       "\n",
       "    .dataframe thead th {\n",
       "        text-align: right;\n",
       "    }\n",
       "</style>\n",
       "<table border=\"1\" class=\"dataframe\">\n",
       "  <thead>\n",
       "    <tr style=\"text-align: right;\">\n",
       "      <th></th>\n",
       "      <th>Hospital_referral_region_desp</th>\n",
       "      <th>Provider_State</th>\n",
       "      <th>DRG</th>\n",
       "      <th>Avg_Medicare_ByRegionStateDRG</th>\n",
       "    </tr>\n",
       "  </thead>\n",
       "  <tbody>\n",
       "    <tr>\n",
       "      <th>0</th>\n",
       "      <td>AK - Anchorage</td>\n",
       "      <td>AK</td>\n",
       "      <td>039 - EXTRACRANIAL PROCEDURES W/O CC/MCC</td>\n",
       "      <td>6413.780000</td>\n",
       "    </tr>\n",
       "    <tr>\n",
       "      <th>1</th>\n",
       "      <td>AK - Anchorage</td>\n",
       "      <td>AK</td>\n",
       "      <td>057 - DEGENERATIVE NERVOUS SYSTEM DISORDERS W/...</td>\n",
       "      <td>8081.540000</td>\n",
       "    </tr>\n",
       "    <tr>\n",
       "      <th>2</th>\n",
       "      <td>AK - Anchorage</td>\n",
       "      <td>AK</td>\n",
       "      <td>064 - INTRACRANIAL HEMORRHAGE OR CEREBRAL INFA...</td>\n",
       "      <td>20555.255000</td>\n",
       "    </tr>\n",
       "    <tr>\n",
       "      <th>3</th>\n",
       "      <td>AK - Anchorage</td>\n",
       "      <td>AK</td>\n",
       "      <td>065 - INTRACRANIAL HEMORRHAGE OR CEREBRAL INFA...</td>\n",
       "      <td>11140.963333</td>\n",
       "    </tr>\n",
       "    <tr>\n",
       "      <th>4</th>\n",
       "      <td>AK - Anchorage</td>\n",
       "      <td>AK</td>\n",
       "      <td>066 - INTRACRANIAL HEMORRHAGE OR CEREBRAL INFA...</td>\n",
       "      <td>8258.427500</td>\n",
       "    </tr>\n",
       "  </tbody>\n",
       "</table>\n",
       "</div>"
      ],
      "text/plain": [
       "  Hospital_referral_region_desp Provider_State  \\\n",
       "0                AK - Anchorage             AK   \n",
       "1                AK - Anchorage             AK   \n",
       "2                AK - Anchorage             AK   \n",
       "3                AK - Anchorage             AK   \n",
       "4                AK - Anchorage             AK   \n",
       "\n",
       "                                                 DRG  \\\n",
       "0           039 - EXTRACRANIAL PROCEDURES W/O CC/MCC   \n",
       "1  057 - DEGENERATIVE NERVOUS SYSTEM DISORDERS W/...   \n",
       "2  064 - INTRACRANIAL HEMORRHAGE OR CEREBRAL INFA...   \n",
       "3  065 - INTRACRANIAL HEMORRHAGE OR CEREBRAL INFA...   \n",
       "4  066 - INTRACRANIAL HEMORRHAGE OR CEREBRAL INFA...   \n",
       "\n",
       "   Avg_Medicare_ByRegionStateDRG  \n",
       "0                    6413.780000  \n",
       "1                    8081.540000  \n",
       "2                   20555.255000  \n",
       "3                   11140.963333  \n",
       "4                    8258.427500  "
      ]
     },
     "execution_count": 88,
     "metadata": {},
     "output_type": "execute_result"
    }
   ],
   "source": [
    "benchmark = df.groupby(['Hospital_referral_region_desp','Provider_State','DRG'])['Average_Medicare_Payment'].mean().reset_index()\n",
    "benchmark.columns = ['Hospital_referral_region_desp','Provider_State','DRG','Avg_Medicare_ByRegionStateDRG']\n",
    "benchmark.head()"
   ]
  },
  {
   "cell_type": "code",
   "execution_count": 89,
   "id": "76ca8f72",
   "metadata": {},
   "outputs": [
    {
     "data": {
      "text/plain": [
       "count    163065.000000\n",
       "mean          1.000000\n",
       "std           0.172711\n",
       "min           0.339831\n",
       "25%           0.896815\n",
       "50%           0.982208\n",
       "75%           1.060028\n",
       "max           4.516504\n",
       "Name: Avg_Medicare_ByRegionStateDRG_ratio_amount, dtype: float64"
      ]
     },
     "execution_count": 89,
     "metadata": {},
     "output_type": "execute_result"
    }
   ],
   "source": [
    "# add the new feature average total discharges to the dataset \n",
    "df10 = pd.merge(df, benchmark, how='left', on=['Hospital_referral_region_desp','Provider_State','DRG'])\n",
    "# Feature 10: ratio of amount total medicare payment and average medicare payment by drg in a region and state\n",
    "df10['Avg_Medicare_ByRegionStateDRG_ratio_amount'] = np.where(df10['Avg_Medicare_ByRegionStateDRG']==0,0, df10['Average_Medicare_Payment'] / df10['Avg_Medicare_ByRegionStateDRG'])\n",
    "df10['Avg_Medicare_ByRegionStateDRG_ratio_amount'].describe()"
   ]
  },
  {
   "cell_type": "code",
   "execution_count": 90,
   "id": "30c4149a",
   "metadata": {},
   "outputs": [
    {
     "data": {
      "text/html": [
       "<div>\n",
       "<style scoped>\n",
       "    .dataframe tbody tr th:only-of-type {\n",
       "        vertical-align: middle;\n",
       "    }\n",
       "\n",
       "    .dataframe tbody tr th {\n",
       "        vertical-align: top;\n",
       "    }\n",
       "\n",
       "    .dataframe thead th {\n",
       "        text-align: right;\n",
       "    }\n",
       "</style>\n",
       "<table border=\"1\" class=\"dataframe\">\n",
       "  <thead>\n",
       "    <tr style=\"text-align: right;\">\n",
       "      <th></th>\n",
       "      <th>Avg_Medicare_ByRegionStateDRG_ratio_amount_D</th>\n",
       "    </tr>\n",
       "  </thead>\n",
       "  <tbody>\n",
       "    <tr>\n",
       "      <th>0</th>\n",
       "      <td>(0.982, 1.089]</td>\n",
       "    </tr>\n",
       "    <tr>\n",
       "      <th>1</th>\n",
       "      <td>(0.982, 1.089]</td>\n",
       "    </tr>\n",
       "    <tr>\n",
       "      <th>2</th>\n",
       "      <td>(0.876, 0.982]</td>\n",
       "    </tr>\n",
       "    <tr>\n",
       "      <th>3</th>\n",
       "      <td>(0.876, 0.982]</td>\n",
       "    </tr>\n",
       "    <tr>\n",
       "      <th>4</th>\n",
       "      <td>(0.982, 1.089]</td>\n",
       "    </tr>\n",
       "    <tr>\n",
       "      <th>...</th>\n",
       "      <td>...</td>\n",
       "    </tr>\n",
       "    <tr>\n",
       "      <th>163060</th>\n",
       "      <td>(0.78, 0.876]</td>\n",
       "    </tr>\n",
       "    <tr>\n",
       "      <th>163061</th>\n",
       "      <td>(0.339, 0.7]</td>\n",
       "    </tr>\n",
       "    <tr>\n",
       "      <th>163062</th>\n",
       "      <td>(1.089, 1.331]</td>\n",
       "    </tr>\n",
       "    <tr>\n",
       "      <th>163063</th>\n",
       "      <td>(1.603, 4.517]</td>\n",
       "    </tr>\n",
       "    <tr>\n",
       "      <th>163064</th>\n",
       "      <td>(0.7, 0.78]</td>\n",
       "    </tr>\n",
       "  </tbody>\n",
       "</table>\n",
       "<p>163065 rows × 1 columns</p>\n",
       "</div>"
      ],
      "text/plain": [
       "       Avg_Medicare_ByRegionStateDRG_ratio_amount_D\n",
       "0                                    (0.982, 1.089]\n",
       "1                                    (0.982, 1.089]\n",
       "2                                    (0.876, 0.982]\n",
       "3                                    (0.876, 0.982]\n",
       "4                                    (0.982, 1.089]\n",
       "...                                             ...\n",
       "163060                                (0.78, 0.876]\n",
       "163061                                 (0.339, 0.7]\n",
       "163062                               (1.089, 1.331]\n",
       "163063                               (1.603, 4.517]\n",
       "163064                                  (0.7, 0.78]\n",
       "\n",
       "[163065 rows x 1 columns]"
      ]
     },
     "execution_count": 90,
     "metadata": {},
     "output_type": "execute_result"
    }
   ],
   "source": [
    "var = 'Avg_Medicare_ByRegionStateDRG_ratio_amount'\n",
    "binned_var = var + '_D'\n",
    "percentile = [0,0.01,0.05,0.2,0.5,0.8,0.95,0.99,1]\n",
    "df10[binned_var] = pd.qcut( df10[var], percentile)\n",
    "df10[['Avg_Medicare_ByRegionStateDRG_ratio_amount_D']]"
   ]
  },
  {
   "cell_type": "code",
   "execution_count": 91,
   "id": "7bd6a658",
   "metadata": {},
   "outputs": [
    {
     "data": {
      "text/plain": [
       "[Text(0, 0, '(0.339, 0.7]'),\n",
       " Text(1, 0, '(0.7, 0.78]'),\n",
       " Text(2, 0, '(0.78, 0.876]'),\n",
       " Text(3, 0, '(0.876, 0.982]'),\n",
       " Text(4, 0, '(0.982, 1.089]'),\n",
       " Text(5, 0, '(1.089, 1.331]'),\n",
       " Text(6, 0, '(1.331, 1.603]'),\n",
       " Text(7, 0, '(1.603, 4.517]')]"
      ]
     },
     "execution_count": 91,
     "metadata": {},
     "output_type": "execute_result"
    },
    {
     "data": {
      "image/png": "[encoded data removed]",
      "text/plain": [
       "<Figure size 432x288 with 1 Axes>"
      ]
     },
     "metadata": {
      "needs_background": "light"
     },
     "output_type": "display_data"
    }
   ],
   "source": [
    "plt.figure(figsize=(6,4))\n",
    "g = sns.countplot(x=\"Avg_Medicare_ByRegionStateDRG_ratio_amount_D\", data=df10)\n",
    "g.set_xticklabels(g.get_xticklabels(), rotation=60)"
   ]
  },
  {
   "cell_type": "markdown",
   "id": "35e1d63d",
   "metadata": {},
   "source": [
    "#### Thought process:\n",
    "- If the ratio is larger than 1.603, then there is probably a fraudulent."
   ]
  },
  {
   "cell_type": "code",
   "execution_count": 92,
   "id": "f04461cf",
   "metadata": {},
   "outputs": [
    {
     "data": {
      "text/plain": [
       "1622"
      ]
     },
     "execution_count": 92,
     "metadata": {},
     "output_type": "execute_result"
    }
   ],
   "source": [
    "len(df10[df10['Avg_Medicare_ByRegionStateDRG_ratio_amount']>1.603])"
   ]
  },
  {
   "cell_type": "code",
   "execution_count": 93,
   "id": "16326da2",
   "metadata": {},
   "outputs": [
    {
     "data": {
      "text/plain": [
       "186"
      ]
     },
     "execution_count": 93,
     "metadata": {},
     "output_type": "execute_result"
    }
   ],
   "source": [
    "len(df10[df10['Avg_Medicare_ByRegionStateDRG_ratio_amount']>1.603]['Provider_Name'].unique())"
   ]
  },
  {
   "cell_type": "code",
   "execution_count": 94,
   "id": "ec77e44b",
   "metadata": {},
   "outputs": [
    {
     "data": {
      "text/html": [
       "<div>\n",
       "<style scoped>\n",
       "    .dataframe tbody tr th:only-of-type {\n",
       "        vertical-align: middle;\n",
       "    }\n",
       "\n",
       "    .dataframe tbody tr th {\n",
       "        vertical-align: top;\n",
       "    }\n",
       "\n",
       "    .dataframe thead th {\n",
       "        text-align: right;\n",
       "    }\n",
       "</style>\n",
       "<table border=\"1\" class=\"dataframe\">\n",
       "  <thead>\n",
       "    <tr style=\"text-align: right;\">\n",
       "      <th></th>\n",
       "      <th>DRG</th>\n",
       "      <th>Provider_Id</th>\n",
       "      <th>Provider_Name</th>\n",
       "      <th>Provider_StreetAddress</th>\n",
       "      <th>Provider_City</th>\n",
       "      <th>Provider_State</th>\n",
       "      <th>Provider_Zipcode</th>\n",
       "      <th>Hospital_referral_region_desp</th>\n",
       "      <th>Total_Discharges</th>\n",
       "      <th>Average_Total_Payments</th>\n",
       "      <th>Average_Medicare_Payment</th>\n",
       "      <th>Avg_Medicare_ByRegionStateDRG</th>\n",
       "      <th>Avg_Medicare_ByRegionStateDRG_ratio_amount</th>\n",
       "      <th>Avg_Medicare_ByRegionStateDRG_ratio_amount_D</th>\n",
       "    </tr>\n",
       "  </thead>\n",
       "  <tbody>\n",
       "    <tr>\n",
       "      <th>59</th>\n",
       "      <td>039 - EXTRACRANIAL PROCEDURES W/O CC/MCC</td>\n",
       "      <td>40078</td>\n",
       "      <td>NATIONAL PARK MEDICAL CENTER</td>\n",
       "      <td>1910 MALVERN AVENUE</td>\n",
       "      <td>HOT SPRINGS</td>\n",
       "      <td>AR</td>\n",
       "      <td>71901</td>\n",
       "      <td>AR - Little Rock</td>\n",
       "      <td>18</td>\n",
       "      <td>9838.11</td>\n",
       "      <td>8533.83</td>\n",
       "      <td>5203.592222</td>\n",
       "      <td>1.639988</td>\n",
       "      <td>(1.603, 4.517]</td>\n",
       "    </tr>\n",
       "    <tr>\n",
       "      <th>456</th>\n",
       "      <td>039 - EXTRACRANIAL PROCEDURES W/O CC/MCC</td>\n",
       "      <td>210029</td>\n",
       "      <td>JOHNS HOPKINS BAYVIEW MEDICAL CENTER</td>\n",
       "      <td>4940 EASTERN AVENUE</td>\n",
       "      <td>BALTIMORE</td>\n",
       "      <td>MD</td>\n",
       "      <td>21224</td>\n",
       "      <td>MD - Baltimore</td>\n",
       "      <td>11</td>\n",
       "      <td>16878.45</td>\n",
       "      <td>15855.18</td>\n",
       "      <td>8233.980833</td>\n",
       "      <td>1.925579</td>\n",
       "      <td>(1.603, 4.517]</td>\n",
       "    </tr>\n",
       "    <tr>\n",
       "      <th>690</th>\n",
       "      <td>039 - EXTRACRANIAL PROCEDURES W/O CC/MCC</td>\n",
       "      <td>330195</td>\n",
       "      <td>LONG ISLAND JEWISH MEDICAL CENTER</td>\n",
       "      <td>270 - 05 76TH AVENUE</td>\n",
       "      <td>NEW HYDE PARK</td>\n",
       "      <td>NY</td>\n",
       "      <td>11040</td>\n",
       "      <td>NY - East Long Island</td>\n",
       "      <td>11</td>\n",
       "      <td>13895.09</td>\n",
       "      <td>13280.54</td>\n",
       "      <td>6942.507500</td>\n",
       "      <td>1.912931</td>\n",
       "      <td>(1.603, 4.517]</td>\n",
       "    </tr>\n",
       "    <tr>\n",
       "      <th>755</th>\n",
       "      <td>039 - EXTRACRANIAL PROCEDURES W/O CC/MCC</td>\n",
       "      <td>360059</td>\n",
       "      <td>METRO HEALTH MEDICAL CENTER</td>\n",
       "      <td>2500 METROHEALTH DRIVE</td>\n",
       "      <td>CLEVELAND</td>\n",
       "      <td>OH</td>\n",
       "      <td>44109</td>\n",
       "      <td>OH - Cleveland</td>\n",
       "      <td>12</td>\n",
       "      <td>9506.58</td>\n",
       "      <td>8660.25</td>\n",
       "      <td>5166.656667</td>\n",
       "      <td>1.676181</td>\n",
       "      <td>(1.603, 4.517]</td>\n",
       "    </tr>\n",
       "    <tr>\n",
       "      <th>928</th>\n",
       "      <td>039 - EXTRACRANIAL PROCEDURES W/O CC/MCC</td>\n",
       "      <td>450068</td>\n",
       "      <td>MEMORIAL HERMANN TEXAS MEDICAL CENTER</td>\n",
       "      <td>6411 FANNIN</td>\n",
       "      <td>HOUSTON</td>\n",
       "      <td>TX</td>\n",
       "      <td>77030</td>\n",
       "      <td>TX - Houston</td>\n",
       "      <td>16</td>\n",
       "      <td>10011.31</td>\n",
       "      <td>9097.62</td>\n",
       "      <td>5320.360000</td>\n",
       "      <td>1.709963</td>\n",
       "      <td>(1.603, 4.517]</td>\n",
       "    </tr>\n",
       "  </tbody>\n",
       "</table>\n",
       "</div>"
      ],
      "text/plain": [
       "                                          DRG Provider_Id  \\\n",
       "59   039 - EXTRACRANIAL PROCEDURES W/O CC/MCC       40078   \n",
       "456  039 - EXTRACRANIAL PROCEDURES W/O CC/MCC      210029   \n",
       "690  039 - EXTRACRANIAL PROCEDURES W/O CC/MCC      330195   \n",
       "755  039 - EXTRACRANIAL PROCEDURES W/O CC/MCC      360059   \n",
       "928  039 - EXTRACRANIAL PROCEDURES W/O CC/MCC      450068   \n",
       "\n",
       "                             Provider_Name  Provider_StreetAddress  \\\n",
       "59            NATIONAL PARK MEDICAL CENTER     1910 MALVERN AVENUE   \n",
       "456   JOHNS HOPKINS BAYVIEW MEDICAL CENTER     4940 EASTERN AVENUE   \n",
       "690      LONG ISLAND JEWISH MEDICAL CENTER    270 - 05 76TH AVENUE   \n",
       "755            METRO HEALTH MEDICAL CENTER  2500 METROHEALTH DRIVE   \n",
       "928  MEMORIAL HERMANN TEXAS MEDICAL CENTER             6411 FANNIN   \n",
       "\n",
       "     Provider_City Provider_State  Provider_Zipcode  \\\n",
       "59     HOT SPRINGS             AR             71901   \n",
       "456      BALTIMORE             MD             21224   \n",
       "690  NEW HYDE PARK             NY             11040   \n",
       "755      CLEVELAND             OH             44109   \n",
       "928        HOUSTON             TX             77030   \n",
       "\n",
       "    Hospital_referral_region_desp  Total_Discharges  Average_Total_Payments  \\\n",
       "59               AR - Little Rock                18                 9838.11   \n",
       "456                MD - Baltimore                11                16878.45   \n",
       "690         NY - East Long Island                11                13895.09   \n",
       "755                OH - Cleveland                12                 9506.58   \n",
       "928                  TX - Houston                16                10011.31   \n",
       "\n",
       "     Average_Medicare_Payment  Avg_Medicare_ByRegionStateDRG  \\\n",
       "59                    8533.83                    5203.592222   \n",
       "456                  15855.18                    8233.980833   \n",
       "690                  13280.54                    6942.507500   \n",
       "755                   8660.25                    5166.656667   \n",
       "928                   9097.62                    5320.360000   \n",
       "\n",
       "     Avg_Medicare_ByRegionStateDRG_ratio_amount  \\\n",
       "59                                     1.639988   \n",
       "456                                    1.925579   \n",
       "690                                    1.912931   \n",
       "755                                    1.676181   \n",
       "928                                    1.709963   \n",
       "\n",
       "    Avg_Medicare_ByRegionStateDRG_ratio_amount_D  \n",
       "59                                (1.603, 4.517]  \n",
       "456                               (1.603, 4.517]  \n",
       "690                               (1.603, 4.517]  \n",
       "755                               (1.603, 4.517]  \n",
       "928                               (1.603, 4.517]  "
      ]
     },
     "execution_count": 94,
     "metadata": {},
     "output_type": "execute_result"
    }
   ],
   "source": [
    "df10[df10['Avg_Medicare_ByRegionStateDRG_ratio_amount']>1.603].head()"
   ]
  },
  {
   "cell_type": "markdown",
   "id": "eb787fa6",
   "metadata": {},
   "source": [
    "## Section 4: Conclusion <a class=\"anchor\" id=\"Section_4\"></a>"
   ]
  },
  {
   "cell_type": "markdown",
   "id": "895d04d5",
   "metadata": {},
   "source": [
    "In the data preparation section, I imported and overviewed the shape and column names of the dataset, then I transformed data types into correct formats. After transforming the data types, In EDA section, I performed exploratory data analysis. To overview the distribution of outliers, I plotted the variable distributions. Another interesting finding is even though the number of hospital divisions in State Illinois and State Maryland are not ranking top in the State group bys, their hospital divisions rank the most when looking at the city group bys (Chicago and Baltimore).\n",
    "\n",
    "Now we have some understanding of the dataset and numbers. It is time to create features to measure the outliers in the feature engineering section. In this assignment, I created 10 features in ratios to detect anomalies. According to the distributions of the 10 features, we can double confirm the dataset has anomalies.\n",
    "\n",
    "The transaction aggregation strategy is used by incorporating a combination criteria when grouping transactions. Followed by calculating the average amount total discharges, average total payments and average medical payments to reveal some insights from the dataset.The thought process of these features is to determine the average ratios of one or more variables by dividing their average values by the actual amount. Hospital charges with low or average ratios are considered normal, while hospital charges with high ratios, meaning actual amounts significantly greater than average values, are flagged as potential fraud.\n",
    "\n",
    "#### Average Total Payments \n",
    "\n",
    "- Feature 1: State & DRG Total Payment average - 1630 hospital average total payments within 295 health care providers charged more than other hospitals in a given state for a particular DRG and probably flagged as potential medical fraud or abuse.\n",
    "- Feature 2: City & DRG Total Payment average - 1634 hospital average total payments within 210 health care providers charged more than other hospitals in a given city for a particular DRG and probably flagged as potential medical fraud or abuse.\n",
    "- Feature 3: Region & DRG Total Payment average - 1630 hospital average total payments within 295 health care providers charged more than other hospitals in a given state for a particular DRG and probably flagged as potential  medical fraud or abuse.\n",
    "\n",
    "##### According to the ratio, we are able to recognize how much higher and lower the spending amount of the individual hospital is compared to the Average Total Payment within the given state, city and region in each DRG category. \n",
    "\n",
    "#### Total Discharges\n",
    "\n",
    "- Feature 4:State & DRG Total Discharges average - 1633 hospital discharges within 400 health care providers were more than other hospitals in a given state for a particular DRG and probably flagged as potential medical fraud or abuse.\n",
    "- Feature 5: City & DRG Total Discharges average - 1634 hospital discharges within 210 health care providers were more than other hospitals in a given city for a particular DRG and probably flagged as potential medical fraud or abuse.\n",
    "- Feature 6: Region & DRG Total Discharges average - 1624 hospital discharges within 294 health care providers were more than other hospitals in a given state for a particular DRG and probably flagged as potential medical fraud or abuse.\n",
    "\n",
    "##### According to the ratio, we are able to recognize how much higher and lower the total discharges of the individual hospital is compared to the Total Discharges within the given state, city and region in each DRG category.\n",
    "\n",
    "#### Medical Payment Average\n",
    "\n",
    "- Feature 7: State & DRG Total Discharges average - 1632 hospital medical payment average within 205 health care providers charged more than other hospitals in a given state for a particular DRG and probably flagged as potential medical fraud or abuse.\n",
    "- Feature 8: City & DRG Total Discharges average - 1625 hospital discharges within 134 health care providers were more than other hospitals in a given city for a particular DRG and probably flagged as poteintal medical fraud or abuse.\n",
    "- Feature 9: Region & DRG Total Discharges average - 1626 hospital discharges within 191 health care providers were more than other hospitals in a given state for a particular DRG and probably flagged as potential medical fraud or abuse.\n",
    "- Feature 10: Region, State & DRG Total Discharges average - 1622 hospital discharges within 186 health care providers were more than other hospitals in a given state and region for a particular DRG and probably flagged as potential medical fraud or abuse.\n",
    "\n",
    "##### According to the ratio, we are able to recognize how much higher and lower the spending amount of the individual hospital is compared to the Medical Payment Average within the given state, city and region in each DRG category. "
   ]
  },
  {
   "cell_type": "code",
   "execution_count": null,
   "id": "177a9b91",
   "metadata": {},
   "outputs": [],
   "source": []
  }
 ],
 "metadata": {
  "kernelspec": {
   "display_name": "Python 3 (ipykernel)",
   "language": "python",
   "name": "python3"
  },
  "language_info": {
   "codemirror_mode": {
    "name": "ipython",
    "version": 3
   },
   "file_extension": ".py",
   "mimetype": "text/x-python",
   "name": "python",
   "nbconvert_exporter": "python",
   "pygments_lexer": "ipython3",
   "version": "3.9.12"
  }
 },
 "nbformat": 4,
 "nbformat_minor": 5
}
