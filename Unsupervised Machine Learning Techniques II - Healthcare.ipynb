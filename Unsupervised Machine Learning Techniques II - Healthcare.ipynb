{
 "cells": [
  {
   "cell_type": "markdown",
   "id": "0b52b892",
   "metadata": {},
   "source": [
    "## APAN5420 Anomaly Detection - Assignment 7\n",
    "\n",
    "\n",
    "## Data\n",
    "\n",
    "* The Medicare Inpatient Hospitals by Geography and Service dataset provides information on hospital discharges for Original Medicare Part A beneficiaries by IPPS hospitals. This dataset contains information on the number of discharges, payments, and submitted charges organized by geography and Medicare Severity Diagnosis Related Group (DRG).\n",
    "\n",
    "## Table of Contents\n",
    "* [Section 1: Data preparation](#Section_1)\n",
    "    * [Section 1.1: Load data](#Section_11)\n",
    "    * [Section 1.2: data preparation](#Section_12)\n",
    "* [Section 2: EDA](#Section_2)\n",
    "    * [Section 2.1: Distribution plots](#Section_21)\n",
    "    * [Section 2.2: Count by state](#Section_22)    \n",
    "    * [Section 2.3: Count of top cities](#Section_23)\n",
    "    * [Section 2.4: Correlation Matrix](#Section_24)\n",
    "* [Section 3: Feature engineering](#Section_3)\n",
    "    * [Section 3.1: State & DRG Total Payment average](#Section_31)\n",
    "    * [Section 3.2: City & DRG Total Payment average](#Section_32)\n",
    "    * [Section 3.3: Region & DRG Total Payment average](#Section_33)\n",
    "    * [Section 3.4: State & DRG Total Discharges average](#Section_34)\n",
    "    * [Section 3.5: City & DRG Total Discharges average](#Section_35)\n",
    "    * [Section 3.6: Region & DRG Total Discharges average](#Section_36)\n",
    "    * [Section 3.7: State & DRG Medicare Payments average](#Section_37) \n",
    "    * [Section 3.8: City & DRG Medicare Payments average](#Section_38)\n",
    "    * [Section 3.9: Region & DRG Medicare Payments average](#Section_39)\n",
    "    * [Section 3.10: Zipcode & DRG Medicare Payments average](#Section_40)\n",
    "* [Section 4: Python Outlier Detection (PyOD) Autoencoder](#Section_4)\n",
    "* [Section 5: Python Outlier Detection (PyOD) Isolation Forest](#Section_5)"
   ]
  },
  {
   "cell_type": "markdown",
   "id": "e4b3a8de",
   "metadata": {},
   "source": [
    "## Section 1: Data preparation <a class=\"anchor\" id=\"Section_1\"></a>\n",
    "### Section 1.1: Load Data <a class=\"anchor\" id=\"Section_11\"></a>\n",
    "* Import packages and data \n",
    "* Rename column\n",
    "* Change data type and transfer spending amount with dollar sign into numeric\n",
    "* Understand the data strcuture. "
   ]
  },
  {
   "cell_type": "code",
   "execution_count": 1,
   "id": "b26d7ab9",
   "metadata": {},
   "outputs": [],
   "source": [
    "import pandas as pd\n",
    "import numpy as np\n",
    "import matplotlib.pyplot as plt\n",
    "import seaborn as sns\n",
    "%matplotlib inline"
   ]
  },
  {
   "cell_type": "code",
   "execution_count": 2,
   "id": "66094635",
   "metadata": {},
   "outputs": [],
   "source": [
    "df = pd.read_csv('inpatientCharges.csv')"
   ]
  },
  {
   "cell_type": "code",
   "execution_count": 3,
   "id": "bdd2bd6b",
   "metadata": {},
   "outputs": [
    {
     "data": {
      "text/html": [
       "<div>\n",
       "<style scoped>\n",
       "    .dataframe tbody tr th:only-of-type {\n",
       "        vertical-align: middle;\n",
       "    }\n",
       "\n",
       "    .dataframe tbody tr th {\n",
       "        vertical-align: top;\n",
       "    }\n",
       "\n",
       "    .dataframe thead th {\n",
       "        text-align: right;\n",
       "    }\n",
       "</style>\n",
       "<table border=\"1\" class=\"dataframe\">\n",
       "  <thead>\n",
       "    <tr style=\"text-align: right;\">\n",
       "      <th></th>\n",
       "      <th>Provider Id</th>\n",
       "      <th>Provider Zip Code</th>\n",
       "      <th>Total Discharges</th>\n",
       "    </tr>\n",
       "  </thead>\n",
       "  <tbody>\n",
       "    <tr>\n",
       "      <th>count</th>\n",
       "      <td>163065.000000</td>\n",
       "      <td>163065.000000</td>\n",
       "      <td>163065.000000</td>\n",
       "    </tr>\n",
       "    <tr>\n",
       "      <th>mean</th>\n",
       "      <td>255569.865428</td>\n",
       "      <td>47938.121908</td>\n",
       "      <td>42.776304</td>\n",
       "    </tr>\n",
       "    <tr>\n",
       "      <th>std</th>\n",
       "      <td>151563.671767</td>\n",
       "      <td>27854.323080</td>\n",
       "      <td>51.104042</td>\n",
       "    </tr>\n",
       "    <tr>\n",
       "      <th>min</th>\n",
       "      <td>10001.000000</td>\n",
       "      <td>1040.000000</td>\n",
       "      <td>11.000000</td>\n",
       "    </tr>\n",
       "    <tr>\n",
       "      <th>25%</th>\n",
       "      <td>110092.000000</td>\n",
       "      <td>27261.000000</td>\n",
       "      <td>17.000000</td>\n",
       "    </tr>\n",
       "    <tr>\n",
       "      <th>50%</th>\n",
       "      <td>250007.000000</td>\n",
       "      <td>44309.000000</td>\n",
       "      <td>27.000000</td>\n",
       "    </tr>\n",
       "    <tr>\n",
       "      <th>75%</th>\n",
       "      <td>380075.000000</td>\n",
       "      <td>72901.000000</td>\n",
       "      <td>49.000000</td>\n",
       "    </tr>\n",
       "    <tr>\n",
       "      <th>max</th>\n",
       "      <td>670077.000000</td>\n",
       "      <td>99835.000000</td>\n",
       "      <td>3383.000000</td>\n",
       "    </tr>\n",
       "  </tbody>\n",
       "</table>\n",
       "</div>"
      ],
      "text/plain": [
       "         Provider Id  Provider Zip Code   Total Discharges \n",
       "count  163065.000000      163065.000000       163065.000000\n",
       "mean   255569.865428       47938.121908           42.776304\n",
       "std    151563.671767       27854.323080           51.104042\n",
       "min     10001.000000        1040.000000           11.000000\n",
       "25%    110092.000000       27261.000000           17.000000\n",
       "50%    250007.000000       44309.000000           27.000000\n",
       "75%    380075.000000       72901.000000           49.000000\n",
       "max    670077.000000       99835.000000         3383.000000"
      ]
     },
     "execution_count": 3,
     "metadata": {},
     "output_type": "execute_result"
    }
   ],
   "source": [
    "df.describe()"
   ]
  },
  {
   "cell_type": "code",
   "execution_count": 4,
   "id": "eab6206c",
   "metadata": {},
   "outputs": [
    {
     "name": "stdout",
     "output_type": "stream",
     "text": [
      "<class 'pandas.core.frame.DataFrame'>\n",
      "RangeIndex: 163065 entries, 0 to 163064\n",
      "Data columns (total 12 columns):\n",
      " #   Column                                Non-Null Count   Dtype \n",
      "---  ------                                --------------   ----- \n",
      " 0   DRG Definition                        163065 non-null  object\n",
      " 1   Provider Id                           163065 non-null  int64 \n",
      " 2   Provider Name                         163065 non-null  object\n",
      " 3   Provider Street Address               163065 non-null  object\n",
      " 4   Provider City                         163065 non-null  object\n",
      " 5   Provider State                        163065 non-null  object\n",
      " 6   Provider Zip Code                     163065 non-null  int64 \n",
      " 7   Hospital Referral Region Description  163065 non-null  object\n",
      " 8    Total Discharges                     163065 non-null  int64 \n",
      " 9    Average Covered Charges              163065 non-null  object\n",
      " 10   Average Total Payments               163065 non-null  object\n",
      " 11  Average Medicare Payments             163065 non-null  object\n",
      "dtypes: int64(3), object(9)\n",
      "memory usage: 14.9+ MB\n"
     ]
    }
   ],
   "source": [
    "df.info()"
   ]
  },
  {
   "cell_type": "code",
   "execution_count": 5,
   "id": "7b9f8791",
   "metadata": {},
   "outputs": [],
   "source": [
    "df.columns = ['DRG','Provider_Id', 'Provider_Name','Provider_StreetAddress','Provider_City',\n",
    "               'Provider_State','Provider_Zipcode','Hospital_referral_region_desp',\n",
    "                'Total_Discharges','Average_Covered_Charges','Average_Total_Payments',\n",
    "                'Average_Medicare_Payment']\n",
    "df = df.drop('Average_Covered_Charges',axis=1)"
   ]
  },
  {
   "cell_type": "code",
   "execution_count": 6,
   "id": "1a674fea",
   "metadata": {},
   "outputs": [
    {
     "data": {
      "text/html": [
       "<div>\n",
       "<style scoped>\n",
       "    .dataframe tbody tr th:only-of-type {\n",
       "        vertical-align: middle;\n",
       "    }\n",
       "\n",
       "    .dataframe tbody tr th {\n",
       "        vertical-align: top;\n",
       "    }\n",
       "\n",
       "    .dataframe thead th {\n",
       "        text-align: right;\n",
       "    }\n",
       "</style>\n",
       "<table border=\"1\" class=\"dataframe\">\n",
       "  <thead>\n",
       "    <tr style=\"text-align: right;\">\n",
       "      <th></th>\n",
       "      <th>DRG</th>\n",
       "      <th>Provider_Id</th>\n",
       "      <th>Provider_Name</th>\n",
       "      <th>Provider_StreetAddress</th>\n",
       "      <th>Provider_City</th>\n",
       "      <th>Provider_State</th>\n",
       "      <th>Provider_Zipcode</th>\n",
       "      <th>Hospital_referral_region_desp</th>\n",
       "      <th>Total_Discharges</th>\n",
       "      <th>Average_Total_Payments</th>\n",
       "      <th>Average_Medicare_Payment</th>\n",
       "    </tr>\n",
       "  </thead>\n",
       "  <tbody>\n",
       "    <tr>\n",
       "      <th>0</th>\n",
       "      <td>039 - EXTRACRANIAL PROCEDURES W/O CC/MCC</td>\n",
       "      <td>10001</td>\n",
       "      <td>SOUTHEAST ALABAMA MEDICAL CENTER</td>\n",
       "      <td>1108 ROSS CLARK CIRCLE</td>\n",
       "      <td>DOTHAN</td>\n",
       "      <td>AL</td>\n",
       "      <td>36301</td>\n",
       "      <td>AL - Dothan</td>\n",
       "      <td>91</td>\n",
       "      <td>$5777.24</td>\n",
       "      <td>$4763.73</td>\n",
       "    </tr>\n",
       "    <tr>\n",
       "      <th>1</th>\n",
       "      <td>039 - EXTRACRANIAL PROCEDURES W/O CC/MCC</td>\n",
       "      <td>10005</td>\n",
       "      <td>MARSHALL MEDICAL CENTER SOUTH</td>\n",
       "      <td>2505 U S HIGHWAY 431 NORTH</td>\n",
       "      <td>BOAZ</td>\n",
       "      <td>AL</td>\n",
       "      <td>35957</td>\n",
       "      <td>AL - Birmingham</td>\n",
       "      <td>14</td>\n",
       "      <td>$5787.57</td>\n",
       "      <td>$4976.71</td>\n",
       "    </tr>\n",
       "    <tr>\n",
       "      <th>2</th>\n",
       "      <td>039 - EXTRACRANIAL PROCEDURES W/O CC/MCC</td>\n",
       "      <td>10006</td>\n",
       "      <td>ELIZA COFFEE MEMORIAL HOSPITAL</td>\n",
       "      <td>205 MARENGO STREET</td>\n",
       "      <td>FLORENCE</td>\n",
       "      <td>AL</td>\n",
       "      <td>35631</td>\n",
       "      <td>AL - Birmingham</td>\n",
       "      <td>24</td>\n",
       "      <td>$5434.95</td>\n",
       "      <td>$4453.79</td>\n",
       "    </tr>\n",
       "    <tr>\n",
       "      <th>3</th>\n",
       "      <td>039 - EXTRACRANIAL PROCEDURES W/O CC/MCC</td>\n",
       "      <td>10011</td>\n",
       "      <td>ST VINCENT'S EAST</td>\n",
       "      <td>50 MEDICAL PARK EAST DRIVE</td>\n",
       "      <td>BIRMINGHAM</td>\n",
       "      <td>AL</td>\n",
       "      <td>35235</td>\n",
       "      <td>AL - Birmingham</td>\n",
       "      <td>25</td>\n",
       "      <td>$5417.56</td>\n",
       "      <td>$4129.16</td>\n",
       "    </tr>\n",
       "    <tr>\n",
       "      <th>4</th>\n",
       "      <td>039 - EXTRACRANIAL PROCEDURES W/O CC/MCC</td>\n",
       "      <td>10016</td>\n",
       "      <td>SHELBY BAPTIST MEDICAL CENTER</td>\n",
       "      <td>1000 FIRST STREET NORTH</td>\n",
       "      <td>ALABASTER</td>\n",
       "      <td>AL</td>\n",
       "      <td>35007</td>\n",
       "      <td>AL - Birmingham</td>\n",
       "      <td>18</td>\n",
       "      <td>$5658.33</td>\n",
       "      <td>$4851.44</td>\n",
       "    </tr>\n",
       "  </tbody>\n",
       "</table>\n",
       "</div>"
      ],
      "text/plain": [
       "                                        DRG  Provider_Id  \\\n",
       "0  039 - EXTRACRANIAL PROCEDURES W/O CC/MCC        10001   \n",
       "1  039 - EXTRACRANIAL PROCEDURES W/O CC/MCC        10005   \n",
       "2  039 - EXTRACRANIAL PROCEDURES W/O CC/MCC        10006   \n",
       "3  039 - EXTRACRANIAL PROCEDURES W/O CC/MCC        10011   \n",
       "4  039 - EXTRACRANIAL PROCEDURES W/O CC/MCC        10016   \n",
       "\n",
       "                      Provider_Name      Provider_StreetAddress Provider_City  \\\n",
       "0  SOUTHEAST ALABAMA MEDICAL CENTER      1108 ROSS CLARK CIRCLE        DOTHAN   \n",
       "1     MARSHALL MEDICAL CENTER SOUTH  2505 U S HIGHWAY 431 NORTH          BOAZ   \n",
       "2    ELIZA COFFEE MEMORIAL HOSPITAL          205 MARENGO STREET      FLORENCE   \n",
       "3                 ST VINCENT'S EAST  50 MEDICAL PARK EAST DRIVE    BIRMINGHAM   \n",
       "4     SHELBY BAPTIST MEDICAL CENTER     1000 FIRST STREET NORTH     ALABASTER   \n",
       "\n",
       "  Provider_State  Provider_Zipcode Hospital_referral_region_desp  \\\n",
       "0             AL             36301                   AL - Dothan   \n",
       "1             AL             35957               AL - Birmingham   \n",
       "2             AL             35631               AL - Birmingham   \n",
       "3             AL             35235               AL - Birmingham   \n",
       "4             AL             35007               AL - Birmingham   \n",
       "\n",
       "   Total_Discharges Average_Total_Payments Average_Medicare_Payment  \n",
       "0                91               $5777.24                 $4763.73  \n",
       "1                14               $5787.57                 $4976.71  \n",
       "2                24               $5434.95                 $4453.79  \n",
       "3                25               $5417.56                 $4129.16  \n",
       "4                18               $5658.33                 $4851.44  "
      ]
     },
     "execution_count": 6,
     "metadata": {},
     "output_type": "execute_result"
    }
   ],
   "source": [
    "df.head()"
   ]
  },
  {
   "cell_type": "code",
   "execution_count": 7,
   "id": "54ebfd34",
   "metadata": {},
   "outputs": [
    {
     "data": {
      "text/plain": [
       "count       163065\n",
       "unique      147842\n",
       "top       $4370.00\n",
       "freq             9\n",
       "Name: Average_Total_Payments, dtype: object"
      ]
     },
     "execution_count": 7,
     "metadata": {},
     "output_type": "execute_result"
    }
   ],
   "source": [
    "# Distribution plots of average total payments \n",
    "df['Average_Total_Payments'].describe()"
   ]
  },
  {
   "cell_type": "code",
   "execution_count": 8,
   "id": "3d3b49b2",
   "metadata": {},
   "outputs": [
    {
     "name": "stderr",
     "output_type": "stream",
     "text": [
      "/var/folders/4q/w1lktl152hx0j0gq933rclnh0000gn/T/ipykernel_49184/976114077.py:6: FutureWarning: The default value of regex will change from True to False in a future version.\n",
      "  df['Average_Total_Payments'] = (df['Average_Total_Payments']\n",
      "/var/folders/4q/w1lktl152hx0j0gq933rclnh0000gn/T/ipykernel_49184/976114077.py:8: FutureWarning: The default value of regex will change from True to False in a future version.\n",
      "  df['Average_Medicare_Payment'] = (df['Average_Medicare_Payment']\n"
     ]
    }
   ],
   "source": [
    "# Change data type and transfer spending amount with dollar sign into numeric\n",
    "df['DRG'] = df['DRG'].astype('category')\n",
    "df['Provider_State'] = df['Provider_State'].astype('category')\n",
    "df['Provider_City'] = df['Provider_City'].astype('category')\n",
    "df['Provider_Id'] = df['Provider_Id'].astype('category')\n",
    "df['Average_Total_Payments'] = (df['Average_Total_Payments']\n",
    "                              .str.replace(r'[^-+\\d.]', '').astype(float))\n",
    "df['Average_Medicare_Payment'] = (df['Average_Medicare_Payment']\n",
    "                              .str.replace(r'[^-+\\d.]', '').astype(float))"
   ]
  },
  {
   "cell_type": "code",
   "execution_count": 9,
   "id": "eb0c0c6b",
   "metadata": {},
   "outputs": [
    {
     "name": "stdout",
     "output_type": "stream",
     "text": [
      "<class 'pandas.core.frame.DataFrame'>\n",
      "RangeIndex: 163065 entries, 0 to 163064\n",
      "Data columns (total 11 columns):\n",
      " #   Column                         Non-Null Count   Dtype   \n",
      "---  ------                         --------------   -----   \n",
      " 0   DRG                            163065 non-null  category\n",
      " 1   Provider_Id                    163065 non-null  category\n",
      " 2   Provider_Name                  163065 non-null  object  \n",
      " 3   Provider_StreetAddress         163065 non-null  object  \n",
      " 4   Provider_City                  163065 non-null  category\n",
      " 5   Provider_State                 163065 non-null  category\n",
      " 6   Provider_Zipcode               163065 non-null  int64   \n",
      " 7   Hospital_referral_region_desp  163065 non-null  object  \n",
      " 8   Total_Discharges               163065 non-null  int64   \n",
      " 9   Average_Total_Payments         163065 non-null  float64 \n",
      " 10  Average_Medicare_Payment       163065 non-null  float64 \n",
      "dtypes: category(4), float64(2), int64(2), object(3)\n",
      "memory usage: 9.9+ MB\n"
     ]
    }
   ],
   "source": [
    "df.info()"
   ]
  },
  {
   "cell_type": "markdown",
   "id": "ecc2be87",
   "metadata": {},
   "source": [
    "## Section 2: EDA <a class=\"anchor\" id=\"Section_2\"></a>\n",
    "\n",
    "### Section 2.1: Distribution plots <a class=\"anchor\" id=\"Section_21\"></a>"
   ]
  },
  {
   "cell_type": "code",
   "execution_count": 10,
   "id": "1739c6cc",
   "metadata": {},
   "outputs": [
    {
     "data": {
      "text/plain": [
       "count    163065.000000\n",
       "mean       9707.473804\n",
       "std        7664.642598\n",
       "min        2673.000000\n",
       "25%        5234.500000\n",
       "50%        7214.100000\n",
       "75%       11286.400000\n",
       "max      156158.180000\n",
       "Name: Average_Total_Payments, dtype: float64"
      ]
     },
     "execution_count": 10,
     "metadata": {},
     "output_type": "execute_result"
    }
   ],
   "source": [
    "# Distribution plots of average total payments \n",
    "df['Average_Total_Payments'].describe()"
   ]
  },
  {
   "cell_type": "code",
   "execution_count": 11,
   "id": "4ed315d4",
   "metadata": {},
   "outputs": [
    {
     "data": {
      "text/plain": [
       "<AxesSubplot:xlabel='Average_Total_Payments', ylabel='Count'>"
      ]
     },
     "execution_count": 11,
     "metadata": {},
     "output_type": "execute_result"
    },
    {
     "data": {
      "image/png": "[encoded data removed]",
      "text/plain": [
       "<Figure size 720x360 with 1 Axes>"
      ]
     },
     "metadata": {
      "needs_background": "light"
     },
     "output_type": "display_data"
    }
   ],
   "source": [
    "plt.figure(figsize=(10,5)) # Plot a graph with reasonable size.\n",
    "sns.histplot(df['Average_Total_Payments'])\n",
    "# plt.plot(data['Average_Total_Payments'])"
   ]
  },
  {
   "cell_type": "code",
   "execution_count": 12,
   "id": "62d0602a",
   "metadata": {},
   "outputs": [
    {
     "data": {
      "text/plain": [
       "<AxesSubplot:xlabel='Average_Total_Payments'>"
      ]
     },
     "execution_count": 12,
     "metadata": {},
     "output_type": "execute_result"
    },
    {
     "data": {
      "image/png": "[encoded data removed]",
      "text/plain": [
       "<Figure size 432x288 with 1 Axes>"
      ]
     },
     "metadata": {
      "needs_background": "light"
     },
     "output_type": "display_data"
    }
   ],
   "source": [
    "sns.boxplot(x = 'Average_Total_Payments', data = df) "
   ]
  },
  {
   "cell_type": "code",
   "execution_count": 13,
   "id": "0489940e",
   "metadata": {},
   "outputs": [
    {
     "data": {
      "text/plain": [
       "count    163065.000000\n",
       "mean         42.776304\n",
       "std          51.104042\n",
       "min          11.000000\n",
       "25%          17.000000\n",
       "50%          27.000000\n",
       "75%          49.000000\n",
       "max        3383.000000\n",
       "Name: Total_Discharges, dtype: float64"
      ]
     },
     "execution_count": 13,
     "metadata": {},
     "output_type": "execute_result"
    }
   ],
   "source": [
    "# Distribution plots of Total_Discharges\n",
    "df['Total_Discharges'].describe()"
   ]
  },
  {
   "cell_type": "code",
   "execution_count": 14,
   "id": "50568d16",
   "metadata": {},
   "outputs": [
    {
     "data": {
      "text/plain": [
       "<AxesSubplot:xlabel='Total_Discharges', ylabel='Count'>"
      ]
     },
     "execution_count": 14,
     "metadata": {},
     "output_type": "execute_result"
    },
    {
     "data": {
      "image/png": "[encoded data removed]",
      "text/plain": [
       "<Figure size 720x360 with 1 Axes>"
      ]
     },
     "metadata": {
      "needs_background": "light"
     },
     "output_type": "display_data"
    }
   ],
   "source": [
    "plt.figure(figsize=(10,5)) \n",
    "sns.histplot(df['Total_Discharges'])"
   ]
  },
  {
   "cell_type": "code",
   "execution_count": 15,
   "id": "f1ae59e2",
   "metadata": {},
   "outputs": [
    {
     "data": {
      "text/plain": [
       "<AxesSubplot:xlabel='Total_Discharges'>"
      ]
     },
     "execution_count": 15,
     "metadata": {},
     "output_type": "execute_result"
    },
    {
     "data": {
      "image/png": "[encoded data removed]",
      "text/plain": [
       "<Figure size 432x288 with 1 Axes>"
      ]
     },
     "metadata": {
      "needs_background": "light"
     },
     "output_type": "display_data"
    }
   ],
   "source": [
    "sns.boxplot(x = 'Total_Discharges', data = df)"
   ]
  },
  {
   "cell_type": "code",
   "execution_count": 16,
   "id": "78d2b2ac",
   "metadata": {},
   "outputs": [
    {
     "data": {
      "text/plain": [
       "count    163065.000000\n",
       "mean       8494.490964\n",
       "std        7309.467261\n",
       "min        1148.900000\n",
       "25%        4192.350000\n",
       "50%        6158.460000\n",
       "75%       10056.880000\n",
       "max      154620.810000\n",
       "Name: Average_Medicare_Payment, dtype: float64"
      ]
     },
     "execution_count": 16,
     "metadata": {},
     "output_type": "execute_result"
    }
   ],
   "source": [
    "# Distribution plots of Average_Medicare_Payment\n",
    "df['Average_Medicare_Payment'].describe()"
   ]
  },
  {
   "cell_type": "code",
   "execution_count": 17,
   "id": "d2ad4dcf",
   "metadata": {},
   "outputs": [
    {
     "data": {
      "text/plain": [
       "<AxesSubplot:xlabel='Average_Medicare_Payment', ylabel='Count'>"
      ]
     },
     "execution_count": 17,
     "metadata": {},
     "output_type": "execute_result"
    },
    {
     "data": {
      "image/png": "[encoded data removed]",
      "text/plain": [
       "<Figure size 720x360 with 1 Axes>"
      ]
     },
     "metadata": {
      "needs_background": "light"
     },
     "output_type": "display_data"
    }
   ],
   "source": [
    "plt.figure(figsize=(10,5)) \n",
    "sns.histplot(df['Average_Medicare_Payment'])"
   ]
  },
  {
   "cell_type": "code",
   "execution_count": 18,
   "id": "e2c6406f",
   "metadata": {},
   "outputs": [
    {
     "data": {
      "text/plain": [
       "<AxesSubplot:xlabel='Average_Medicare_Payment'>"
      ]
     },
     "execution_count": 18,
     "metadata": {},
     "output_type": "execute_result"
    },
    {
     "data": {
      "image/png": "[encoded data removed]",
      "text/plain": [
       "<Figure size 720x360 with 1 Axes>"
      ]
     },
     "metadata": {
      "needs_background": "light"
     },
     "output_type": "display_data"
    }
   ],
   "source": [
    "plt.figure(figsize=(10,5))\n",
    "sns.boxplot(x = 'Average_Medicare_Payment', data = df)"
   ]
  },
  {
   "cell_type": "markdown",
   "id": "14e95a5d",
   "metadata": {},
   "source": [
    "* We find that most of the all of the discharges are over and mosty less that 50.\n",
    "* We also find that the average total payment and average medicare payment follow similar pattern, mostly less than 10,000 dollars but significant number of outliers upto 156,158 dollars."
   ]
  },
  {
   "cell_type": "markdown",
   "id": "d4d29603",
   "metadata": {},
   "source": [
    "### Section 2.2: Count by State <a class=\"anchor\" id=\"Section_22\"></a>"
   ]
  },
  {
   "cell_type": "code",
   "execution_count": 19,
   "id": "1ce275bf",
   "metadata": {},
   "outputs": [
    {
     "data": {
      "image/png": "[encoded data removed]",
      "text/plain": [
       "<Figure size 1080x360 with 1 Axes>"
      ]
     },
     "metadata": {
      "needs_background": "light"
     },
     "output_type": "display_data"
    }
   ],
   "source": [
    "# data['Provider_State'].value_counts()\n",
    "plt.figure(figsize=(15,5))\n",
    "sns.countplot(x='Provider_State',data=df,order=df['Provider_State'].value_counts().index)\n",
    "#plt.xticks(rotation = 90)\n",
    "#ax = plt.gca()\n",
    "#for p in ax.patches:\n",
    "#    ax.text(p.get_x() + p.get_width()/2., p.get_height(), '%d' % int(p.get_height()), \n",
    "#            fontsize=12, color='blue', ha='center', va='bottom')\n",
    "plt.rcParams[\"axes.labelsize\"] = 20"
   ]
  },
  {
   "cell_type": "markdown",
   "id": "77173878",
   "metadata": {},
   "source": [
    "* From this histogram, California, Texas, and Florid has the highest number of hospital divisions."
   ]
  },
  {
   "cell_type": "markdown",
   "id": "5df8a69a",
   "metadata": {},
   "source": [
    "### Section 2.3: Count of top 20 cities <a class=\"anchor\" id=\"Section_23\"></a>"
   ]
  },
  {
   "cell_type": "code",
   "execution_count": 20,
   "id": "4060c2e3",
   "metadata": {},
   "outputs": [
    {
     "data": {
      "text/plain": [
       "GOOD SAMARITAN HOSPITAL                  633\n",
       "ST JOSEPH MEDICAL CENTER                 427\n",
       "MERCY MEDICAL CENTER                     357\n",
       "MERCY HOSPITAL                           347\n",
       "ST JOSEPH HOSPITAL                       343\n",
       "                                        ... \n",
       "J PAUL JONES HOSPITAL                      1\n",
       "GREATER BATON ROUGE SURGICAL HOSPITAL      1\n",
       "FAIRWAY MEDICAL CENTER                     1\n",
       "MONROE SURGICAL HOSPITAL                   1\n",
       "EAGLEVILLE HOSPITAL                        1\n",
       "Name: Provider_Name, Length: 3201, dtype: int64"
      ]
     },
     "execution_count": 20,
     "metadata": {},
     "output_type": "execute_result"
    }
   ],
   "source": [
    "df['Provider_Name'].value_counts()"
   ]
  },
  {
   "cell_type": "code",
   "execution_count": 21,
   "id": "b6d9cbf7",
   "metadata": {},
   "outputs": [
    {
     "data": {
      "image/png": "[encoded data removed]",
      "text/plain": [
       "<Figure size 1080x360 with 1 Axes>"
      ]
     },
     "metadata": {
      "needs_background": "light"
     },
     "output_type": "display_data"
    }
   ],
   "source": [
    "plt.figure(figsize=(15,5))\n",
    "txt = df['Provider_City'].value_counts()[:20].index\n",
    "\n",
    "chart = sns.countplot(\n",
    "    x='Provider_City' ,data=df , order=txt\n",
    ")\n",
    "\n",
    "_ = chart.set_xticklabels(chart.get_xticklabels(), rotation=45)\n",
    "plt.rcParams[\"axes.labelsize\"] = 10"
   ]
  },
  {
   "cell_type": "markdown",
   "id": "b71c83ca",
   "metadata": {},
   "source": [
    "* Even though the number of hospital divisions in State Illinois and State Maryland are not ranking top in the State group bys, their hospital divisions rank the most when looking at the city group bys (Chicago and Baltimore)."
   ]
  },
  {
   "cell_type": "markdown",
   "id": "d12d4414",
   "metadata": {},
   "source": [
    "#### Thought process:\n",
    "- The following shows the average medicare payment by DRG. Does it make sense to compare \"917 - POISONING & TOXIC EFFECTS OF DRUGS W MCC\" with \"885 - PSYCHOSES\"?"
   ]
  },
  {
   "cell_type": "code",
   "execution_count": 22,
   "id": "bfb7fae2",
   "metadata": {},
   "outputs": [
    {
     "data": {
      "text/html": [
       "<div>\n",
       "<style scoped>\n",
       "    .dataframe tbody tr th:only-of-type {\n",
       "        vertical-align: middle;\n",
       "    }\n",
       "\n",
       "    .dataframe tbody tr th {\n",
       "        vertical-align: top;\n",
       "    }\n",
       "\n",
       "    .dataframe thead th {\n",
       "        text-align: right;\n",
       "    }\n",
       "</style>\n",
       "<table border=\"1\" class=\"dataframe\">\n",
       "  <thead>\n",
       "    <tr style=\"text-align: right;\">\n",
       "      <th></th>\n",
       "      <th>DRG</th>\n",
       "      <th>count</th>\n",
       "      <th>mean</th>\n",
       "      <th>std</th>\n",
       "      <th>min</th>\n",
       "      <th>25%</th>\n",
       "      <th>50%</th>\n",
       "      <th>75%</th>\n",
       "      <th>max</th>\n",
       "    </tr>\n",
       "  </thead>\n",
       "  <tbody>\n",
       "    <tr>\n",
       "      <th>0</th>\n",
       "      <td>039 - EXTRACRANIAL PROCEDURES W/O CC/MCC</td>\n",
       "      <td>1079.0</td>\n",
       "      <td>6960.534004</td>\n",
       "      <td>1477.873952</td>\n",
       "      <td>4968.00</td>\n",
       "      <td>6001.8300</td>\n",
       "      <td>6582.890</td>\n",
       "      <td>7516.825</td>\n",
       "      <td>18420.56</td>\n",
       "    </tr>\n",
       "    <tr>\n",
       "      <th>1</th>\n",
       "      <td>057 - DEGENERATIVE NERVOUS SYSTEM DISORDERS W/...</td>\n",
       "      <td>1201.0</td>\n",
       "      <td>6706.276445</td>\n",
       "      <td>2033.965862</td>\n",
       "      <td>4194.09</td>\n",
       "      <td>5412.8700</td>\n",
       "      <td>6093.750</td>\n",
       "      <td>7345.360</td>\n",
       "      <td>25519.43</td>\n",
       "    </tr>\n",
       "    <tr>\n",
       "      <th>2</th>\n",
       "      <td>064 - INTRACRANIAL HEMORRHAGE OR CEREBRAL INFA...</td>\n",
       "      <td>1659.0</td>\n",
       "      <td>13263.823032</td>\n",
       "      <td>3847.918207</td>\n",
       "      <td>8174.28</td>\n",
       "      <td>10762.2200</td>\n",
       "      <td>12084.700</td>\n",
       "      <td>14424.325</td>\n",
       "      <td>50882.40</td>\n",
       "    </tr>\n",
       "    <tr>\n",
       "      <th>3</th>\n",
       "      <td>065 - INTRACRANIAL HEMORRHAGE OR CEREBRAL INFA...</td>\n",
       "      <td>2269.0</td>\n",
       "      <td>7922.671141</td>\n",
       "      <td>2084.658336</td>\n",
       "      <td>5368.73</td>\n",
       "      <td>6626.2700</td>\n",
       "      <td>7280.050</td>\n",
       "      <td>8503.060</td>\n",
       "      <td>26510.15</td>\n",
       "    </tr>\n",
       "    <tr>\n",
       "      <th>4</th>\n",
       "      <td>066 - INTRACRANIAL HEMORRHAGE OR CEREBRAL INFA...</td>\n",
       "      <td>1806.0</td>\n",
       "      <td>5713.985221</td>\n",
       "      <td>1342.538675</td>\n",
       "      <td>3916.41</td>\n",
       "      <td>4819.3250</td>\n",
       "      <td>5326.025</td>\n",
       "      <td>6197.480</td>\n",
       "      <td>14744.05</td>\n",
       "    </tr>\n",
       "    <tr>\n",
       "      <th>...</th>\n",
       "      <td>...</td>\n",
       "      <td>...</td>\n",
       "      <td>...</td>\n",
       "      <td>...</td>\n",
       "      <td>...</td>\n",
       "      <td>...</td>\n",
       "      <td>...</td>\n",
       "      <td>...</td>\n",
       "      <td>...</td>\n",
       "    </tr>\n",
       "    <tr>\n",
       "      <th>95</th>\n",
       "      <td>885 - PSYCHOSES</td>\n",
       "      <td>613.0</td>\n",
       "      <td>6968.721876</td>\n",
       "      <td>2440.280958</td>\n",
       "      <td>4444.90</td>\n",
       "      <td>5477.2400</td>\n",
       "      <td>6155.560</td>\n",
       "      <td>7841.280</td>\n",
       "      <td>32200.77</td>\n",
       "    </tr>\n",
       "    <tr>\n",
       "      <th>96</th>\n",
       "      <td>897 - ALCOHOL/DRUG ABUSE OR DEPENDENCE W/O REH...</td>\n",
       "      <td>906.0</td>\n",
       "      <td>4949.907307</td>\n",
       "      <td>1462.463278</td>\n",
       "      <td>3172.44</td>\n",
       "      <td>3969.9675</td>\n",
       "      <td>4529.535</td>\n",
       "      <td>5440.675</td>\n",
       "      <td>18630.92</td>\n",
       "    </tr>\n",
       "    <tr>\n",
       "      <th>97</th>\n",
       "      <td>917 - POISONING &amp; TOXIC EFFECTS OF DRUGS W MCC</td>\n",
       "      <td>843.0</td>\n",
       "      <td>10763.814413</td>\n",
       "      <td>2823.004637</td>\n",
       "      <td>6942.83</td>\n",
       "      <td>8851.4550</td>\n",
       "      <td>10062.280</td>\n",
       "      <td>11788.675</td>\n",
       "      <td>33251.14</td>\n",
       "    </tr>\n",
       "    <tr>\n",
       "      <th>98</th>\n",
       "      <td>918 - POISONING &amp; TOXIC EFFECTS OF DRUGS W/O MCC</td>\n",
       "      <td>1382.0</td>\n",
       "      <td>4485.378734</td>\n",
       "      <td>1154.328951</td>\n",
       "      <td>3040.72</td>\n",
       "      <td>3720.5725</td>\n",
       "      <td>4136.105</td>\n",
       "      <td>4879.390</td>\n",
       "      <td>12479.80</td>\n",
       "    </tr>\n",
       "    <tr>\n",
       "      <th>99</th>\n",
       "      <td>948 - SIGNS &amp; SYMPTOMS W/O MCC</td>\n",
       "      <td>1793.0</td>\n",
       "      <td>4824.766436</td>\n",
       "      <td>1352.077957</td>\n",
       "      <td>3247.66</td>\n",
       "      <td>3997.8400</td>\n",
       "      <td>4411.180</td>\n",
       "      <td>5221.920</td>\n",
       "      <td>28968.20</td>\n",
       "    </tr>\n",
       "  </tbody>\n",
       "</table>\n",
       "<p>100 rows × 9 columns</p>\n",
       "</div>"
      ],
      "text/plain": [
       "                                                  DRG   count          mean  \\\n",
       "0            039 - EXTRACRANIAL PROCEDURES W/O CC/MCC  1079.0   6960.534004   \n",
       "1   057 - DEGENERATIVE NERVOUS SYSTEM DISORDERS W/...  1201.0   6706.276445   \n",
       "2   064 - INTRACRANIAL HEMORRHAGE OR CEREBRAL INFA...  1659.0  13263.823032   \n",
       "3   065 - INTRACRANIAL HEMORRHAGE OR CEREBRAL INFA...  2269.0   7922.671141   \n",
       "4   066 - INTRACRANIAL HEMORRHAGE OR CEREBRAL INFA...  1806.0   5713.985221   \n",
       "..                                                ...     ...           ...   \n",
       "95                                    885 - PSYCHOSES   613.0   6968.721876   \n",
       "96  897 - ALCOHOL/DRUG ABUSE OR DEPENDENCE W/O REH...   906.0   4949.907307   \n",
       "97     917 - POISONING & TOXIC EFFECTS OF DRUGS W MCC   843.0  10763.814413   \n",
       "98   918 - POISONING & TOXIC EFFECTS OF DRUGS W/O MCC  1382.0   4485.378734   \n",
       "99                     948 - SIGNS & SYMPTOMS W/O MCC  1793.0   4824.766436   \n",
       "\n",
       "            std      min         25%        50%        75%       max  \n",
       "0   1477.873952  4968.00   6001.8300   6582.890   7516.825  18420.56  \n",
       "1   2033.965862  4194.09   5412.8700   6093.750   7345.360  25519.43  \n",
       "2   3847.918207  8174.28  10762.2200  12084.700  14424.325  50882.40  \n",
       "3   2084.658336  5368.73   6626.2700   7280.050   8503.060  26510.15  \n",
       "4   1342.538675  3916.41   4819.3250   5326.025   6197.480  14744.05  \n",
       "..          ...      ...         ...        ...        ...       ...  \n",
       "95  2440.280958  4444.90   5477.2400   6155.560   7841.280  32200.77  \n",
       "96  1462.463278  3172.44   3969.9675   4529.535   5440.675  18630.92  \n",
       "97  2823.004637  6942.83   8851.4550  10062.280  11788.675  33251.14  \n",
       "98  1154.328951  3040.72   3720.5725   4136.105   4879.390  12479.80  \n",
       "99  1352.077957  3247.66   3997.8400   4411.180   5221.920  28968.20  \n",
       "\n",
       "[100 rows x 9 columns]"
      ]
     },
     "execution_count": 22,
     "metadata": {},
     "output_type": "execute_result"
    }
   ],
   "source": [
    "df.groupby('DRG')['Average_Total_Payments'].describe().reset_index()"
   ]
  },
  {
   "cell_type": "code",
   "execution_count": 23,
   "id": "4bc8eb7a",
   "metadata": {},
   "outputs": [
    {
     "data": {
      "text/plain": [
       "count    163065.000000\n",
       "mean         42.776304\n",
       "std          51.104042\n",
       "min          11.000000\n",
       "25%          17.000000\n",
       "50%          27.000000\n",
       "75%          49.000000\n",
       "max        3383.000000\n",
       "Name: Total_Discharges, dtype: float64"
      ]
     },
     "execution_count": 23,
     "metadata": {},
     "output_type": "execute_result"
    }
   ],
   "source": [
    "# Distribution plots of average total payments \n",
    "df['Total_Discharges'].describe()"
   ]
  },
  {
   "cell_type": "markdown",
   "id": "55c85fe4",
   "metadata": {},
   "source": [
    "### Section 2.4: Correlation Matrix <a class=\"anchor\" id=\"Section_24\"></a>\n",
    "* To examine the correlation between the variables and find that the charges a highly correlated."
   ]
  },
  {
   "cell_type": "code",
   "execution_count": 24,
   "id": "a73c5626",
   "metadata": {},
   "outputs": [
    {
     "data": {
      "image/png": "[encoded data removed]",
      "text/plain": [
       "<Figure size 720x360 with 2 Axes>"
      ]
     },
     "metadata": {
      "needs_background": "light"
     },
     "output_type": "display_data"
    }
   ],
   "source": [
    "corr_matrix = df.corr()\n",
    "ax = plt.subplots(figsize=(10,5)) \n",
    "sns.heatmap(corr_matrix, annot=True, linewidths=.5)\n",
    "plt.show()"
   ]
  },
  {
   "cell_type": "markdown",
   "id": "63b99a8b",
   "metadata": {},
   "source": [
    "## Section 3: Feature Engineering <a class=\"anchor\" id=\"Section_3\"></a>\n",
    "\n",
    "### Section 3.1: State & DRG Total Payment average <a class=\"anchor\" id=\"Section_31\"></a>\n",
    "- Calculating average ratio of Average Total Payment of every Provider state in DRG description. This will help understand the average total payment comparisons within the state in each DRG category. "
   ]
  },
  {
   "cell_type": "code",
   "execution_count": 25,
   "id": "007eca0e",
   "metadata": {},
   "outputs": [
    {
     "data": {
      "text/html": [
       "<div>\n",
       "<style scoped>\n",
       "    .dataframe tbody tr th:only-of-type {\n",
       "        vertical-align: middle;\n",
       "    }\n",
       "\n",
       "    .dataframe tbody tr th {\n",
       "        vertical-align: top;\n",
       "    }\n",
       "\n",
       "    .dataframe thead th {\n",
       "        text-align: right;\n",
       "    }\n",
       "</style>\n",
       "<table border=\"1\" class=\"dataframe\">\n",
       "  <thead>\n",
       "    <tr style=\"text-align: right;\">\n",
       "      <th></th>\n",
       "      <th>Provider_State</th>\n",
       "      <th>DRG</th>\n",
       "      <th>Avg_Payment_ByStateDRG</th>\n",
       "    </tr>\n",
       "  </thead>\n",
       "  <tbody>\n",
       "    <tr>\n",
       "      <th>0</th>\n",
       "      <td>AK</td>\n",
       "      <td>039 - EXTRACRANIAL PROCEDURES W/O CC/MCC</td>\n",
       "      <td>8401.950000</td>\n",
       "    </tr>\n",
       "    <tr>\n",
       "      <th>1</th>\n",
       "      <td>AK</td>\n",
       "      <td>057 - DEGENERATIVE NERVOUS SYSTEM DISORDERS W/...</td>\n",
       "      <td>8799.000000</td>\n",
       "    </tr>\n",
       "    <tr>\n",
       "      <th>2</th>\n",
       "      <td>AK</td>\n",
       "      <td>064 - INTRACRANIAL HEMORRHAGE OR CEREBRAL INFA...</td>\n",
       "      <td>21608.010000</td>\n",
       "    </tr>\n",
       "    <tr>\n",
       "      <th>3</th>\n",
       "      <td>AK</td>\n",
       "      <td>065 - INTRACRANIAL HEMORRHAGE OR CEREBRAL INFA...</td>\n",
       "      <td>12555.548333</td>\n",
       "    </tr>\n",
       "    <tr>\n",
       "      <th>4</th>\n",
       "      <td>AK</td>\n",
       "      <td>066 - INTRACRANIAL HEMORRHAGE OR CEREBRAL INFA...</td>\n",
       "      <td>9275.867500</td>\n",
       "    </tr>\n",
       "  </tbody>\n",
       "</table>\n",
       "</div>"
      ],
      "text/plain": [
       "  Provider_State                                                DRG  \\\n",
       "0             AK           039 - EXTRACRANIAL PROCEDURES W/O CC/MCC   \n",
       "1             AK  057 - DEGENERATIVE NERVOUS SYSTEM DISORDERS W/...   \n",
       "2             AK  064 - INTRACRANIAL HEMORRHAGE OR CEREBRAL INFA...   \n",
       "3             AK  065 - INTRACRANIAL HEMORRHAGE OR CEREBRAL INFA...   \n",
       "4             AK  066 - INTRACRANIAL HEMORRHAGE OR CEREBRAL INFA...   \n",
       "\n",
       "   Avg_Payment_ByStateDRG  \n",
       "0             8401.950000  \n",
       "1             8799.000000  \n",
       "2            21608.010000  \n",
       "3            12555.548333  \n",
       "4             9275.867500  "
      ]
     },
     "execution_count": 25,
     "metadata": {},
     "output_type": "execute_result"
    }
   ],
   "source": [
    "benchmark = df.groupby(['Provider_State','DRG'])['Average_Total_Payments'].mean().reset_index()\n",
    "benchmark.columns = ['Provider_State','DRG','Avg_Payment_ByStateDRG']\n",
    "benchmark.head()"
   ]
  },
  {
   "cell_type": "code",
   "execution_count": 26,
   "id": "0b9016cd",
   "metadata": {},
   "outputs": [
    {
     "data": {
      "text/plain": [
       "count    163065.000000\n",
       "mean          1.000000\n",
       "std           0.195274\n",
       "min           0.384805\n",
       "25%           0.880824\n",
       "50%           0.956830\n",
       "75%           1.064688\n",
       "max           7.857934\n",
       "Name: Avg_Payment_ByStateDRG_ratio_amount, dtype: float64"
      ]
     },
     "execution_count": 26,
     "metadata": {},
     "output_type": "execute_result"
    }
   ],
   "source": [
    "# add the new feature average spending to the dataset \n",
    "df1 = pd.merge(df, benchmark, how='left', on=['Provider_State','DRG'])\n",
    "# Feature 1: ratio of amount spending and average spending by drg in a state\n",
    "df1['Avg_Payment_ByStateDRG_ratio_amount'] = np.where(df1['Avg_Payment_ByStateDRG']==0,0, df1['Average_Total_Payments'] / df1['Avg_Payment_ByStateDRG'])\n",
    "df1['Avg_Payment_ByStateDRG_ratio_amount'].describe()"
   ]
  },
  {
   "cell_type": "code",
   "execution_count": 27,
   "id": "e737ff07",
   "metadata": {},
   "outputs": [
    {
     "data": {
      "text/plain": [
       "124"
      ]
     },
     "execution_count": 27,
     "metadata": {},
     "output_type": "execute_result"
    }
   ],
   "source": [
    "len(df1[df1['Avg_Payment_ByStateDRG_ratio_amount']>2]['Provider_Name'].unique())"
   ]
  },
  {
   "cell_type": "code",
   "execution_count": 28,
   "id": "8f51bd4c",
   "metadata": {},
   "outputs": [
    {
     "data": {
      "text/html": [
       "<div>\n",
       "<style scoped>\n",
       "    .dataframe tbody tr th:only-of-type {\n",
       "        vertical-align: middle;\n",
       "    }\n",
       "\n",
       "    .dataframe tbody tr th {\n",
       "        vertical-align: top;\n",
       "    }\n",
       "\n",
       "    .dataframe thead th {\n",
       "        text-align: right;\n",
       "    }\n",
       "</style>\n",
       "<table border=\"1\" class=\"dataframe\">\n",
       "  <thead>\n",
       "    <tr style=\"text-align: right;\">\n",
       "      <th></th>\n",
       "      <th>DRG</th>\n",
       "      <th>Provider_Id</th>\n",
       "      <th>Provider_Name</th>\n",
       "      <th>Provider_StreetAddress</th>\n",
       "      <th>Provider_City</th>\n",
       "      <th>Provider_State</th>\n",
       "      <th>Provider_Zipcode</th>\n",
       "      <th>Hospital_referral_region_desp</th>\n",
       "      <th>Total_Discharges</th>\n",
       "      <th>Average_Total_Payments</th>\n",
       "      <th>Average_Medicare_Payment</th>\n",
       "      <th>Avg_Payment_ByStateDRG</th>\n",
       "      <th>Avg_Payment_ByStateDRG_ratio_amount</th>\n",
       "    </tr>\n",
       "  </thead>\n",
       "  <tbody>\n",
       "    <tr>\n",
       "      <th>20388</th>\n",
       "      <td>189 - PULMONARY EDEMA &amp; RESPIRATORY FAILURE</td>\n",
       "      <td>390096</td>\n",
       "      <td>ST JOSEPH MEDICAL CENTER</td>\n",
       "      <td>2500 BERNVILLE ROAD</td>\n",
       "      <td>READING</td>\n",
       "      <td>PA</td>\n",
       "      <td>19605</td>\n",
       "      <td>PA - Reading</td>\n",
       "      <td>143</td>\n",
       "      <td>72797.93</td>\n",
       "      <td>7718.09</td>\n",
       "      <td>9264.257684</td>\n",
       "      <td>7.857934</td>\n",
       "    </tr>\n",
       "    <tr>\n",
       "      <th>38923</th>\n",
       "      <td>203 - BRONCHITIS &amp; ASTHMA W/O CC/MCC</td>\n",
       "      <td>220008</td>\n",
       "      <td>STURDY MEMORIAL HOSPITAL</td>\n",
       "      <td>211 PARK STREET</td>\n",
       "      <td>ATTLEBORO</td>\n",
       "      <td>MA</td>\n",
       "      <td>2703</td>\n",
       "      <td>RI - Providence</td>\n",
       "      <td>11</td>\n",
       "      <td>41482.09</td>\n",
       "      <td>1790.18</td>\n",
       "      <td>5711.287429</td>\n",
       "      <td>7.263177</td>\n",
       "    </tr>\n",
       "  </tbody>\n",
       "</table>\n",
       "</div>"
      ],
      "text/plain": [
       "                                               DRG Provider_Id  \\\n",
       "20388  189 - PULMONARY EDEMA & RESPIRATORY FAILURE      390096   \n",
       "38923         203 - BRONCHITIS & ASTHMA W/O CC/MCC      220008   \n",
       "\n",
       "                  Provider_Name Provider_StreetAddress Provider_City  \\\n",
       "20388  ST JOSEPH MEDICAL CENTER    2500 BERNVILLE ROAD       READING   \n",
       "38923  STURDY MEMORIAL HOSPITAL        211 PARK STREET     ATTLEBORO   \n",
       "\n",
       "      Provider_State  Provider_Zipcode Hospital_referral_region_desp  \\\n",
       "20388             PA             19605                  PA - Reading   \n",
       "38923             MA              2703               RI - Providence   \n",
       "\n",
       "       Total_Discharges  Average_Total_Payments  Average_Medicare_Payment  \\\n",
       "20388               143                72797.93                   7718.09   \n",
       "38923                11                41482.09                   1790.18   \n",
       "\n",
       "       Avg_Payment_ByStateDRG  Avg_Payment_ByStateDRG_ratio_amount  \n",
       "20388             9264.257684                             7.857934  \n",
       "38923             5711.287429                             7.263177  "
      ]
     },
     "execution_count": 28,
     "metadata": {},
     "output_type": "execute_result"
    }
   ],
   "source": [
    "df1[df1['Avg_Payment_ByStateDRG_ratio_amount']>7].head()"
   ]
  },
  {
   "cell_type": "markdown",
   "id": "5838ec05",
   "metadata": {},
   "source": [
    "### Section 3.2: City & DRG Total Payment average <a class=\"anchor\" id=\"Section_32\"></a>\n",
    "- Calculating average ratio of Average Total Payment of every Provider city in DRG description. This will help understand the average total payment comparisons within the city. "
   ]
  },
  {
   "cell_type": "code",
   "execution_count": 29,
   "id": "ce916250",
   "metadata": {},
   "outputs": [
    {
     "data": {
      "text/html": [
       "<div>\n",
       "<style scoped>\n",
       "    .dataframe tbody tr th:only-of-type {\n",
       "        vertical-align: middle;\n",
       "    }\n",
       "\n",
       "    .dataframe tbody tr th {\n",
       "        vertical-align: top;\n",
       "    }\n",
       "\n",
       "    .dataframe thead th {\n",
       "        text-align: right;\n",
       "    }\n",
       "</style>\n",
       "<table border=\"1\" class=\"dataframe\">\n",
       "  <thead>\n",
       "    <tr style=\"text-align: right;\">\n",
       "      <th></th>\n",
       "      <th>Provider_City</th>\n",
       "      <th>DRG</th>\n",
       "      <th>Average_Payment_ByCityDRG</th>\n",
       "    </tr>\n",
       "  </thead>\n",
       "  <tbody>\n",
       "    <tr>\n",
       "      <th>0</th>\n",
       "      <td>ABBEVILLE</td>\n",
       "      <td>039 - EXTRACRANIAL PROCEDURES W/O CC/MCC</td>\n",
       "      <td>NaN</td>\n",
       "    </tr>\n",
       "    <tr>\n",
       "      <th>1</th>\n",
       "      <td>ABBEVILLE</td>\n",
       "      <td>057 - DEGENERATIVE NERVOUS SYSTEM DISORDERS W/...</td>\n",
       "      <td>NaN</td>\n",
       "    </tr>\n",
       "    <tr>\n",
       "      <th>2</th>\n",
       "      <td>ABBEVILLE</td>\n",
       "      <td>064 - INTRACRANIAL HEMORRHAGE OR CEREBRAL INFA...</td>\n",
       "      <td>NaN</td>\n",
       "    </tr>\n",
       "    <tr>\n",
       "      <th>3</th>\n",
       "      <td>ABBEVILLE</td>\n",
       "      <td>065 - INTRACRANIAL HEMORRHAGE OR CEREBRAL INFA...</td>\n",
       "      <td>NaN</td>\n",
       "    </tr>\n",
       "    <tr>\n",
       "      <th>4</th>\n",
       "      <td>ABBEVILLE</td>\n",
       "      <td>066 - INTRACRANIAL HEMORRHAGE OR CEREBRAL INFA...</td>\n",
       "      <td>NaN</td>\n",
       "    </tr>\n",
       "  </tbody>\n",
       "</table>\n",
       "</div>"
      ],
      "text/plain": [
       "  Provider_City                                                DRG  \\\n",
       "0     ABBEVILLE           039 - EXTRACRANIAL PROCEDURES W/O CC/MCC   \n",
       "1     ABBEVILLE  057 - DEGENERATIVE NERVOUS SYSTEM DISORDERS W/...   \n",
       "2     ABBEVILLE  064 - INTRACRANIAL HEMORRHAGE OR CEREBRAL INFA...   \n",
       "3     ABBEVILLE  065 - INTRACRANIAL HEMORRHAGE OR CEREBRAL INFA...   \n",
       "4     ABBEVILLE  066 - INTRACRANIAL HEMORRHAGE OR CEREBRAL INFA...   \n",
       "\n",
       "   Average_Payment_ByCityDRG  \n",
       "0                        NaN  \n",
       "1                        NaN  \n",
       "2                        NaN  \n",
       "3                        NaN  \n",
       "4                        NaN  "
      ]
     },
     "execution_count": 29,
     "metadata": {},
     "output_type": "execute_result"
    }
   ],
   "source": [
    "benchmark = df.groupby(['Provider_City','DRG'])['Average_Total_Payments'].median().reset_index()\n",
    "benchmark.columns = ['Provider_City','DRG','Average_Payment_ByCityDRG']\n",
    "benchmark.head()"
   ]
  },
  {
   "cell_type": "code",
   "execution_count": 30,
   "id": "49b8136e",
   "metadata": {},
   "outputs": [
    {
     "data": {
      "text/plain": [
       "count    163065.000000\n",
       "mean          1.011287\n",
       "std           0.120431\n",
       "min           0.238195\n",
       "25%           1.000000\n",
       "50%           1.000000\n",
       "75%           1.000000\n",
       "max           5.591943\n",
       "Name: Average_Payment_ByCityDRG_ratio_amount, dtype: float64"
      ]
     },
     "execution_count": 30,
     "metadata": {},
     "output_type": "execute_result"
    }
   ],
   "source": [
    "# add the new feature average spending to the dataset \n",
    "df1 = pd.merge(df1, benchmark, how='left', on=['Provider_City','DRG'])\n",
    "# Feature 3: ratio of amount spending and average spending by drg in a city\n",
    "df1['Average_Payment_ByCityDRG_ratio_amount'] = np.where(df1['Average_Payment_ByCityDRG']==0,0, df1['Average_Total_Payments'] / df1['Average_Payment_ByCityDRG'])\n",
    "df1['Average_Payment_ByCityDRG_ratio_amount'].describe()"
   ]
  },
  {
   "cell_type": "code",
   "execution_count": 31,
   "id": "d1f862f6",
   "metadata": {},
   "outputs": [
    {
     "data": {
      "text/plain": [
       "58"
      ]
     },
     "execution_count": 31,
     "metadata": {},
     "output_type": "execute_result"
    }
   ],
   "source": [
    "len(df1[df1['Average_Payment_ByCityDRG_ratio_amount']>2]['Provider_Name'].unique())"
   ]
  },
  {
   "cell_type": "code",
   "execution_count": 32,
   "id": "46117694",
   "metadata": {},
   "outputs": [
    {
     "data": {
      "text/html": [
       "<div>\n",
       "<style scoped>\n",
       "    .dataframe tbody tr th:only-of-type {\n",
       "        vertical-align: middle;\n",
       "    }\n",
       "\n",
       "    .dataframe tbody tr th {\n",
       "        vertical-align: top;\n",
       "    }\n",
       "\n",
       "    .dataframe thead th {\n",
       "        text-align: right;\n",
       "    }\n",
       "</style>\n",
       "<table border=\"1\" class=\"dataframe\">\n",
       "  <thead>\n",
       "    <tr style=\"text-align: right;\">\n",
       "      <th></th>\n",
       "      <th>DRG</th>\n",
       "      <th>Provider_Id</th>\n",
       "      <th>Provider_Name</th>\n",
       "      <th>Provider_StreetAddress</th>\n",
       "      <th>Provider_City</th>\n",
       "      <th>Provider_State</th>\n",
       "      <th>Provider_Zipcode</th>\n",
       "      <th>Hospital_referral_region_desp</th>\n",
       "      <th>Total_Discharges</th>\n",
       "      <th>Average_Total_Payments</th>\n",
       "      <th>Average_Medicare_Payment</th>\n",
       "      <th>Avg_Payment_ByStateDRG</th>\n",
       "      <th>Avg_Payment_ByStateDRG_ratio_amount</th>\n",
       "      <th>Average_Payment_ByCityDRG</th>\n",
       "      <th>Average_Payment_ByCityDRG_ratio_amount</th>\n",
       "    </tr>\n",
       "  </thead>\n",
       "  <tbody>\n",
       "    <tr>\n",
       "      <th>37716</th>\n",
       "      <td>202 - BRONCHITIS &amp; ASTHMA W CC/MCC</td>\n",
       "      <td>210009</td>\n",
       "      <td>JOHNS HOPKINS HOSPITAL, THE</td>\n",
       "      <td>600 NORTH  WOLFE STREET</td>\n",
       "      <td>BALTIMORE</td>\n",
       "      <td>MD</td>\n",
       "      <td>21287</td>\n",
       "      <td>MD - Baltimore</td>\n",
       "      <td>17</td>\n",
       "      <td>41458.47</td>\n",
       "      <td>37236.0</td>\n",
       "      <td>8374.755758</td>\n",
       "      <td>4.950409</td>\n",
       "      <td>7413.965</td>\n",
       "      <td>5.591943</td>\n",
       "    </tr>\n",
       "  </tbody>\n",
       "</table>\n",
       "</div>"
      ],
      "text/plain": [
       "                                      DRG Provider_Id  \\\n",
       "37716  202 - BRONCHITIS & ASTHMA W CC/MCC      210009   \n",
       "\n",
       "                     Provider_Name   Provider_StreetAddress Provider_City  \\\n",
       "37716  JOHNS HOPKINS HOSPITAL, THE  600 NORTH  WOLFE STREET     BALTIMORE   \n",
       "\n",
       "      Provider_State  Provider_Zipcode Hospital_referral_region_desp  \\\n",
       "37716             MD             21287                MD - Baltimore   \n",
       "\n",
       "       Total_Discharges  Average_Total_Payments  Average_Medicare_Payment  \\\n",
       "37716                17                41458.47                   37236.0   \n",
       "\n",
       "       Avg_Payment_ByStateDRG  Avg_Payment_ByStateDRG_ratio_amount  \\\n",
       "37716             8374.755758                             4.950409   \n",
       "\n",
       "       Average_Payment_ByCityDRG  Average_Payment_ByCityDRG_ratio_amount  \n",
       "37716                   7413.965                                5.591943  "
      ]
     },
     "execution_count": 32,
     "metadata": {},
     "output_type": "execute_result"
    }
   ],
   "source": [
    "df1[df1['Average_Payment_ByCityDRG_ratio_amount']>5].head()"
   ]
  },
  {
   "cell_type": "markdown",
   "id": "90a6b694",
   "metadata": {},
   "source": [
    "### Section 3.3: Region & DRG Total Payment average <a class=\"anchor\" id=\"Section_33\"></a>\n",
    "- Calculating average ratio of Average Total Payment of every Hospital referral region desp in DRG description. This will help understand the average total payment comparisons within the region. "
   ]
  },
  {
   "cell_type": "code",
   "execution_count": 33,
   "id": "83a3815f",
   "metadata": {},
   "outputs": [
    {
     "data": {
      "text/html": [
       "<div>\n",
       "<style scoped>\n",
       "    .dataframe tbody tr th:only-of-type {\n",
       "        vertical-align: middle;\n",
       "    }\n",
       "\n",
       "    .dataframe tbody tr th {\n",
       "        vertical-align: top;\n",
       "    }\n",
       "\n",
       "    .dataframe thead th {\n",
       "        text-align: right;\n",
       "    }\n",
       "</style>\n",
       "<table border=\"1\" class=\"dataframe\">\n",
       "  <thead>\n",
       "    <tr style=\"text-align: right;\">\n",
       "      <th></th>\n",
       "      <th>Hospital_referral_region_desp</th>\n",
       "      <th>DRG</th>\n",
       "      <th>Avg_Payment_ByRegionDRG</th>\n",
       "    </tr>\n",
       "  </thead>\n",
       "  <tbody>\n",
       "    <tr>\n",
       "      <th>0</th>\n",
       "      <td>AK - Anchorage</td>\n",
       "      <td>039 - EXTRACRANIAL PROCEDURES W/O CC/MCC</td>\n",
       "      <td>8401.950000</td>\n",
       "    </tr>\n",
       "    <tr>\n",
       "      <th>1</th>\n",
       "      <td>AK - Anchorage</td>\n",
       "      <td>057 - DEGENERATIVE NERVOUS SYSTEM DISORDERS W/...</td>\n",
       "      <td>8799.000000</td>\n",
       "    </tr>\n",
       "    <tr>\n",
       "      <th>2</th>\n",
       "      <td>AK - Anchorage</td>\n",
       "      <td>064 - INTRACRANIAL HEMORRHAGE OR CEREBRAL INFA...</td>\n",
       "      <td>21608.010000</td>\n",
       "    </tr>\n",
       "    <tr>\n",
       "      <th>3</th>\n",
       "      <td>AK - Anchorage</td>\n",
       "      <td>065 - INTRACRANIAL HEMORRHAGE OR CEREBRAL INFA...</td>\n",
       "      <td>12555.548333</td>\n",
       "    </tr>\n",
       "    <tr>\n",
       "      <th>4</th>\n",
       "      <td>AK - Anchorage</td>\n",
       "      <td>066 - INTRACRANIAL HEMORRHAGE OR CEREBRAL INFA...</td>\n",
       "      <td>9275.867500</td>\n",
       "    </tr>\n",
       "  </tbody>\n",
       "</table>\n",
       "</div>"
      ],
      "text/plain": [
       "  Hospital_referral_region_desp  \\\n",
       "0                AK - Anchorage   \n",
       "1                AK - Anchorage   \n",
       "2                AK - Anchorage   \n",
       "3                AK - Anchorage   \n",
       "4                AK - Anchorage   \n",
       "\n",
       "                                                 DRG  Avg_Payment_ByRegionDRG  \n",
       "0           039 - EXTRACRANIAL PROCEDURES W/O CC/MCC              8401.950000  \n",
       "1  057 - DEGENERATIVE NERVOUS SYSTEM DISORDERS W/...              8799.000000  \n",
       "2  064 - INTRACRANIAL HEMORRHAGE OR CEREBRAL INFA...             21608.010000  \n",
       "3  065 - INTRACRANIAL HEMORRHAGE OR CEREBRAL INFA...             12555.548333  \n",
       "4  066 - INTRACRANIAL HEMORRHAGE OR CEREBRAL INFA...              9275.867500  "
      ]
     },
     "execution_count": 33,
     "metadata": {},
     "output_type": "execute_result"
    }
   ],
   "source": [
    "benchmark = df.groupby(['Hospital_referral_region_desp','DRG'])['Average_Total_Payments'].mean().reset_index()\n",
    "benchmark.columns = ['Hospital_referral_region_desp','DRG','Avg_Payment_ByRegionDRG']\n",
    "benchmark.head()"
   ]
  },
  {
   "cell_type": "code",
   "execution_count": 34,
   "id": "ddd0c7ff",
   "metadata": {},
   "outputs": [
    {
     "data": {
      "text/plain": [
       "count    163065.000000\n",
       "mean          1.000000\n",
       "std           0.159145\n",
       "min           0.271255\n",
       "25%           0.902856\n",
       "50%           0.977701\n",
       "75%           1.057561\n",
       "max           4.848303\n",
       "Name: Avg_Payment_ByRegionDRG_ratio_amount, dtype: float64"
      ]
     },
     "execution_count": 34,
     "metadata": {},
     "output_type": "execute_result"
    }
   ],
   "source": [
    "# add the new feature average spending to the dataset \n",
    "df1 = pd.merge(df1, benchmark, how='left', on=['Hospital_referral_region_desp','DRG'])\n",
    "# Feature 3: ratio of amount spending and average spending by drg in a region \n",
    "df1['Avg_Payment_ByRegionDRG_ratio_amount'] = np.where(df1['Avg_Payment_ByRegionDRG']==0,0, df1['Average_Total_Payments'] / df1['Avg_Payment_ByRegionDRG'])\n",
    "df1['Avg_Payment_ByRegionDRG_ratio_amount'].describe()"
   ]
  },
  {
   "cell_type": "code",
   "execution_count": 35,
   "id": "8b6aea23",
   "metadata": {},
   "outputs": [
    {
     "data": {
      "text/plain": [
       "64"
      ]
     },
     "execution_count": 35,
     "metadata": {},
     "output_type": "execute_result"
    }
   ],
   "source": [
    "len(df1[df1['Avg_Payment_ByRegionDRG_ratio_amount']>2]['Provider_Name'].unique())"
   ]
  },
  {
   "cell_type": "code",
   "execution_count": 36,
   "id": "4e467e3d",
   "metadata": {},
   "outputs": [
    {
     "data": {
      "text/html": [
       "<div>\n",
       "<style scoped>\n",
       "    .dataframe tbody tr th:only-of-type {\n",
       "        vertical-align: middle;\n",
       "    }\n",
       "\n",
       "    .dataframe tbody tr th {\n",
       "        vertical-align: top;\n",
       "    }\n",
       "\n",
       "    .dataframe thead th {\n",
       "        text-align: right;\n",
       "    }\n",
       "</style>\n",
       "<table border=\"1\" class=\"dataframe\">\n",
       "  <thead>\n",
       "    <tr style=\"text-align: right;\">\n",
       "      <th></th>\n",
       "      <th>DRG</th>\n",
       "      <th>Provider_Id</th>\n",
       "      <th>Provider_Name</th>\n",
       "      <th>Provider_StreetAddress</th>\n",
       "      <th>Provider_City</th>\n",
       "      <th>Provider_State</th>\n",
       "      <th>Provider_Zipcode</th>\n",
       "      <th>Hospital_referral_region_desp</th>\n",
       "      <th>Total_Discharges</th>\n",
       "      <th>Average_Total_Payments</th>\n",
       "      <th>Average_Medicare_Payment</th>\n",
       "      <th>Avg_Payment_ByStateDRG</th>\n",
       "      <th>Avg_Payment_ByStateDRG_ratio_amount</th>\n",
       "      <th>Average_Payment_ByCityDRG</th>\n",
       "      <th>Average_Payment_ByCityDRG_ratio_amount</th>\n",
       "      <th>Avg_Payment_ByRegionDRG</th>\n",
       "      <th>Avg_Payment_ByRegionDRG_ratio_amount</th>\n",
       "    </tr>\n",
       "  </thead>\n",
       "  <tbody>\n",
       "    <tr>\n",
       "      <th>37716</th>\n",
       "      <td>202 - BRONCHITIS &amp; ASTHMA W CC/MCC</td>\n",
       "      <td>210009</td>\n",
       "      <td>JOHNS HOPKINS HOSPITAL, THE</td>\n",
       "      <td>600 NORTH  WOLFE STREET</td>\n",
       "      <td>BALTIMORE</td>\n",
       "      <td>MD</td>\n",
       "      <td>21287</td>\n",
       "      <td>MD - Baltimore</td>\n",
       "      <td>17</td>\n",
       "      <td>41458.47</td>\n",
       "      <td>37236.0</td>\n",
       "      <td>8374.755758</td>\n",
       "      <td>4.950409</td>\n",
       "      <td>7413.965</td>\n",
       "      <td>5.591943</td>\n",
       "      <td>9473.928889</td>\n",
       "      <td>4.376059</td>\n",
       "    </tr>\n",
       "    <tr>\n",
       "      <th>162713</th>\n",
       "      <td>948 - SIGNS &amp; SYMPTOMS W/O MCC</td>\n",
       "      <td>390312</td>\n",
       "      <td>CANCER TREATMENT CENTERS OF AMERICA</td>\n",
       "      <td>1331 EAST WYOMING AVENUE</td>\n",
       "      <td>PHILADELPHIA</td>\n",
       "      <td>PA</td>\n",
       "      <td>19124</td>\n",
       "      <td>PA - Philadelphia</td>\n",
       "      <td>24</td>\n",
       "      <td>28968.20</td>\n",
       "      <td>8894.2</td>\n",
       "      <td>5018.809241</td>\n",
       "      <td>5.771927</td>\n",
       "      <td>6071.325</td>\n",
       "      <td>4.771314</td>\n",
       "      <td>5974.915484</td>\n",
       "      <td>4.848303</td>\n",
       "    </tr>\n",
       "  </tbody>\n",
       "</table>\n",
       "</div>"
      ],
      "text/plain": [
       "                                       DRG Provider_Id  \\\n",
       "37716   202 - BRONCHITIS & ASTHMA W CC/MCC      210009   \n",
       "162713      948 - SIGNS & SYMPTOMS W/O MCC      390312   \n",
       "\n",
       "                              Provider_Name    Provider_StreetAddress  \\\n",
       "37716           JOHNS HOPKINS HOSPITAL, THE   600 NORTH  WOLFE STREET   \n",
       "162713  CANCER TREATMENT CENTERS OF AMERICA  1331 EAST WYOMING AVENUE   \n",
       "\n",
       "       Provider_City Provider_State  Provider_Zipcode  \\\n",
       "37716      BALTIMORE             MD             21287   \n",
       "162713  PHILADELPHIA             PA             19124   \n",
       "\n",
       "       Hospital_referral_region_desp  Total_Discharges  \\\n",
       "37716                 MD - Baltimore                17   \n",
       "162713             PA - Philadelphia                24   \n",
       "\n",
       "        Average_Total_Payments  Average_Medicare_Payment  \\\n",
       "37716                 41458.47                   37236.0   \n",
       "162713                28968.20                    8894.2   \n",
       "\n",
       "        Avg_Payment_ByStateDRG  Avg_Payment_ByStateDRG_ratio_amount  \\\n",
       "37716              8374.755758                             4.950409   \n",
       "162713             5018.809241                             5.771927   \n",
       "\n",
       "        Average_Payment_ByCityDRG  Average_Payment_ByCityDRG_ratio_amount  \\\n",
       "37716                    7413.965                                5.591943   \n",
       "162713                   6071.325                                4.771314   \n",
       "\n",
       "        Avg_Payment_ByRegionDRG  Avg_Payment_ByRegionDRG_ratio_amount  \n",
       "37716               9473.928889                              4.376059  \n",
       "162713              5974.915484                              4.848303  "
      ]
     },
     "execution_count": 36,
     "metadata": {},
     "output_type": "execute_result"
    }
   ],
   "source": [
    "df1[df1['Avg_Payment_ByRegionDRG_ratio_amount']>4].head()"
   ]
  },
  {
   "cell_type": "markdown",
   "id": "3712b55a",
   "metadata": {},
   "source": [
    "### Section 3.4: State & DRG Total Discharges average <a class=\"anchor\" id=\"Section_34\"></a>\n",
    "- Calculating average ratio of total discharges of every Provider state in DRG description. This will help understand the total discharges comparisons within the state. "
   ]
  },
  {
   "cell_type": "code",
   "execution_count": 37,
   "id": "1a386358",
   "metadata": {},
   "outputs": [
    {
     "data": {
      "text/html": [
       "<div>\n",
       "<style scoped>\n",
       "    .dataframe tbody tr th:only-of-type {\n",
       "        vertical-align: middle;\n",
       "    }\n",
       "\n",
       "    .dataframe tbody tr th {\n",
       "        vertical-align: top;\n",
       "    }\n",
       "\n",
       "    .dataframe thead th {\n",
       "        text-align: right;\n",
       "    }\n",
       "</style>\n",
       "<table border=\"1\" class=\"dataframe\">\n",
       "  <thead>\n",
       "    <tr style=\"text-align: right;\">\n",
       "      <th></th>\n",
       "      <th>Provider_State</th>\n",
       "      <th>DRG</th>\n",
       "      <th>Avg_Discharges_ByStateDRG</th>\n",
       "    </tr>\n",
       "  </thead>\n",
       "  <tbody>\n",
       "    <tr>\n",
       "      <th>0</th>\n",
       "      <td>AK</td>\n",
       "      <td>039 - EXTRACRANIAL PROCEDURES W/O CC/MCC</td>\n",
       "      <td>23.000000</td>\n",
       "    </tr>\n",
       "    <tr>\n",
       "      <th>1</th>\n",
       "      <td>AK</td>\n",
       "      <td>057 - DEGENERATIVE NERVOUS SYSTEM DISORDERS W/...</td>\n",
       "      <td>11.000000</td>\n",
       "    </tr>\n",
       "    <tr>\n",
       "      <th>2</th>\n",
       "      <td>AK</td>\n",
       "      <td>064 - INTRACRANIAL HEMORRHAGE OR CEREBRAL INFA...</td>\n",
       "      <td>22.500000</td>\n",
       "    </tr>\n",
       "    <tr>\n",
       "      <th>3</th>\n",
       "      <td>AK</td>\n",
       "      <td>065 - INTRACRANIAL HEMORRHAGE OR CEREBRAL INFA...</td>\n",
       "      <td>25.333333</td>\n",
       "    </tr>\n",
       "    <tr>\n",
       "      <th>4</th>\n",
       "      <td>AK</td>\n",
       "      <td>066 - INTRACRANIAL HEMORRHAGE OR CEREBRAL INFA...</td>\n",
       "      <td>21.000000</td>\n",
       "    </tr>\n",
       "  </tbody>\n",
       "</table>\n",
       "</div>"
      ],
      "text/plain": [
       "  Provider_State                                                DRG  \\\n",
       "0             AK           039 - EXTRACRANIAL PROCEDURES W/O CC/MCC   \n",
       "1             AK  057 - DEGENERATIVE NERVOUS SYSTEM DISORDERS W/...   \n",
       "2             AK  064 - INTRACRANIAL HEMORRHAGE OR CEREBRAL INFA...   \n",
       "3             AK  065 - INTRACRANIAL HEMORRHAGE OR CEREBRAL INFA...   \n",
       "4             AK  066 - INTRACRANIAL HEMORRHAGE OR CEREBRAL INFA...   \n",
       "\n",
       "   Avg_Discharges_ByStateDRG  \n",
       "0                  23.000000  \n",
       "1                  11.000000  \n",
       "2                  22.500000  \n",
       "3                  25.333333  \n",
       "4                  21.000000  "
      ]
     },
     "execution_count": 37,
     "metadata": {},
     "output_type": "execute_result"
    }
   ],
   "source": [
    "benchmark = df.groupby(['Provider_State','DRG'])['Total_Discharges'].mean().reset_index()\n",
    "benchmark.columns = ['Provider_State','DRG','Avg_Discharges_ByStateDRG']\n",
    "benchmark.head()"
   ]
  },
  {
   "cell_type": "code",
   "execution_count": 38,
   "id": "dd95f067",
   "metadata": {},
   "outputs": [
    {
     "data": {
      "text/plain": [
       "count    163065.000000\n",
       "mean          1.000000\n",
       "std           0.686087\n",
       "min           0.045025\n",
       "25%           0.550452\n",
       "50%           0.819820\n",
       "75%           1.251471\n",
       "max          24.624593\n",
       "Name: Avg_Discharges_ByStateDRG_ratio_amount, dtype: float64"
      ]
     },
     "execution_count": 38,
     "metadata": {},
     "output_type": "execute_result"
    }
   ],
   "source": [
    "# add the new feature average total discharges to the dataset \n",
    "df1 = pd.merge(df1, benchmark, how='left', on=['Provider_State','DRG'])\n",
    "# Feature 4: ratio of amount total discharges and average total discharges by drg in a state \n",
    "df1['Avg_Discharges_ByStateDRG_ratio_amount'] = np.where(df1['Avg_Discharges_ByStateDRG']==0,0, df1['Total_Discharges'] / df1['Avg_Discharges_ByStateDRG'])\n",
    "df1['Avg_Discharges_ByStateDRG_ratio_amount'].describe()"
   ]
  },
  {
   "cell_type": "code",
   "execution_count": 39,
   "id": "14200c5b",
   "metadata": {},
   "outputs": [
    {
     "data": {
      "text/plain": [
       "1227"
      ]
     },
     "execution_count": 39,
     "metadata": {},
     "output_type": "execute_result"
    }
   ],
   "source": [
    "len(df1[df1['Avg_Discharges_ByStateDRG_ratio_amount']>2]['Provider_Name'].unique())"
   ]
  },
  {
   "cell_type": "code",
   "execution_count": 40,
   "id": "bf83c56e",
   "metadata": {},
   "outputs": [
    {
     "data": {
      "text/html": [
       "<div>\n",
       "<style scoped>\n",
       "    .dataframe tbody tr th:only-of-type {\n",
       "        vertical-align: middle;\n",
       "    }\n",
       "\n",
       "    .dataframe tbody tr th {\n",
       "        vertical-align: top;\n",
       "    }\n",
       "\n",
       "    .dataframe thead th {\n",
       "        text-align: right;\n",
       "    }\n",
       "</style>\n",
       "<table border=\"1\" class=\"dataframe\">\n",
       "  <thead>\n",
       "    <tr style=\"text-align: right;\">\n",
       "      <th></th>\n",
       "      <th>DRG</th>\n",
       "      <th>Provider_Id</th>\n",
       "      <th>Provider_Name</th>\n",
       "      <th>Provider_StreetAddress</th>\n",
       "      <th>Provider_City</th>\n",
       "      <th>Provider_State</th>\n",
       "      <th>Provider_Zipcode</th>\n",
       "      <th>Hospital_referral_region_desp</th>\n",
       "      <th>Total_Discharges</th>\n",
       "      <th>Average_Total_Payments</th>\n",
       "      <th>Average_Medicare_Payment</th>\n",
       "      <th>Avg_Payment_ByStateDRG</th>\n",
       "      <th>Avg_Payment_ByStateDRG_ratio_amount</th>\n",
       "      <th>Average_Payment_ByCityDRG</th>\n",
       "      <th>Average_Payment_ByCityDRG_ratio_amount</th>\n",
       "      <th>Avg_Payment_ByRegionDRG</th>\n",
       "      <th>Avg_Payment_ByRegionDRG_ratio_amount</th>\n",
       "      <th>Avg_Discharges_ByStateDRG</th>\n",
       "      <th>Avg_Discharges_ByStateDRG_ratio_amount</th>\n",
       "    </tr>\n",
       "  </thead>\n",
       "  <tbody>\n",
       "    <tr>\n",
       "      <th>112969</th>\n",
       "      <td>470 - MAJOR JOINT REPLACEMENT OR REATTACHMENT ...</td>\n",
       "      <td>330270</td>\n",
       "      <td>HOSPITAL FOR SPECIAL SURGERY</td>\n",
       "      <td>535 EAST 70TH STREET</td>\n",
       "      <td>NEW YORK</td>\n",
       "      <td>NY</td>\n",
       "      <td>10021</td>\n",
       "      <td>NY - Manhattan</td>\n",
       "      <td>3383</td>\n",
       "      <td>19023.7</td>\n",
       "      <td>14880.39</td>\n",
       "      <td>16761.400426</td>\n",
       "      <td>1.134971</td>\n",
       "      <td>23075.93</td>\n",
       "      <td>0.824396</td>\n",
       "      <td>22709.351</td>\n",
       "      <td>0.837703</td>\n",
       "      <td>137.382979</td>\n",
       "      <td>24.624593</td>\n",
       "    </tr>\n",
       "  </tbody>\n",
       "</table>\n",
       "</div>"
      ],
      "text/plain": [
       "                                                      DRG Provider_Id  \\\n",
       "112969  470 - MAJOR JOINT REPLACEMENT OR REATTACHMENT ...      330270   \n",
       "\n",
       "                       Provider_Name Provider_StreetAddress Provider_City  \\\n",
       "112969  HOSPITAL FOR SPECIAL SURGERY   535 EAST 70TH STREET      NEW YORK   \n",
       "\n",
       "       Provider_State  Provider_Zipcode Hospital_referral_region_desp  \\\n",
       "112969             NY             10021                NY - Manhattan   \n",
       "\n",
       "        Total_Discharges  Average_Total_Payments  Average_Medicare_Payment  \\\n",
       "112969              3383                 19023.7                  14880.39   \n",
       "\n",
       "        Avg_Payment_ByStateDRG  Avg_Payment_ByStateDRG_ratio_amount  \\\n",
       "112969            16761.400426                             1.134971   \n",
       "\n",
       "        Average_Payment_ByCityDRG  Average_Payment_ByCityDRG_ratio_amount  \\\n",
       "112969                   23075.93                                0.824396   \n",
       "\n",
       "        Avg_Payment_ByRegionDRG  Avg_Payment_ByRegionDRG_ratio_amount  \\\n",
       "112969                22709.351                              0.837703   \n",
       "\n",
       "        Avg_Discharges_ByStateDRG  Avg_Discharges_ByStateDRG_ratio_amount  \n",
       "112969                 137.382979                               24.624593  "
      ]
     },
     "execution_count": 40,
     "metadata": {},
     "output_type": "execute_result"
    }
   ],
   "source": [
    "df1[df1['Avg_Discharges_ByStateDRG_ratio_amount']>24].head()"
   ]
  },
  {
   "cell_type": "markdown",
   "id": "62671b6d",
   "metadata": {},
   "source": [
    "### Section 3.5: City & DRG Total Discharge average <a class=\"anchor\" id=\"Section_35\"></a>\n",
    "- Calculating average ratio of total discharges of every Provider city in DRG description. This will help understand the total discharges comparisons within the city. "
   ]
  },
  {
   "cell_type": "code",
   "execution_count": 41,
   "id": "4e6f2d83",
   "metadata": {},
   "outputs": [
    {
     "data": {
      "text/html": [
       "<div>\n",
       "<style scoped>\n",
       "    .dataframe tbody tr th:only-of-type {\n",
       "        vertical-align: middle;\n",
       "    }\n",
       "\n",
       "    .dataframe tbody tr th {\n",
       "        vertical-align: top;\n",
       "    }\n",
       "\n",
       "    .dataframe thead th {\n",
       "        text-align: right;\n",
       "    }\n",
       "</style>\n",
       "<table border=\"1\" class=\"dataframe\">\n",
       "  <thead>\n",
       "    <tr style=\"text-align: right;\">\n",
       "      <th></th>\n",
       "      <th>Provider_City</th>\n",
       "      <th>DRG</th>\n",
       "      <th>Avg_Discharges_ByCityDRG</th>\n",
       "    </tr>\n",
       "  </thead>\n",
       "  <tbody>\n",
       "    <tr>\n",
       "      <th>0</th>\n",
       "      <td>ABBEVILLE</td>\n",
       "      <td>039 - EXTRACRANIAL PROCEDURES W/O CC/MCC</td>\n",
       "      <td>NaN</td>\n",
       "    </tr>\n",
       "    <tr>\n",
       "      <th>1</th>\n",
       "      <td>ABBEVILLE</td>\n",
       "      <td>057 - DEGENERATIVE NERVOUS SYSTEM DISORDERS W/...</td>\n",
       "      <td>NaN</td>\n",
       "    </tr>\n",
       "    <tr>\n",
       "      <th>2</th>\n",
       "      <td>ABBEVILLE</td>\n",
       "      <td>064 - INTRACRANIAL HEMORRHAGE OR CEREBRAL INFA...</td>\n",
       "      <td>NaN</td>\n",
       "    </tr>\n",
       "    <tr>\n",
       "      <th>3</th>\n",
       "      <td>ABBEVILLE</td>\n",
       "      <td>065 - INTRACRANIAL HEMORRHAGE OR CEREBRAL INFA...</td>\n",
       "      <td>NaN</td>\n",
       "    </tr>\n",
       "    <tr>\n",
       "      <th>4</th>\n",
       "      <td>ABBEVILLE</td>\n",
       "      <td>066 - INTRACRANIAL HEMORRHAGE OR CEREBRAL INFA...</td>\n",
       "      <td>NaN</td>\n",
       "    </tr>\n",
       "  </tbody>\n",
       "</table>\n",
       "</div>"
      ],
      "text/plain": [
       "  Provider_City                                                DRG  \\\n",
       "0     ABBEVILLE           039 - EXTRACRANIAL PROCEDURES W/O CC/MCC   \n",
       "1     ABBEVILLE  057 - DEGENERATIVE NERVOUS SYSTEM DISORDERS W/...   \n",
       "2     ABBEVILLE  064 - INTRACRANIAL HEMORRHAGE OR CEREBRAL INFA...   \n",
       "3     ABBEVILLE  065 - INTRACRANIAL HEMORRHAGE OR CEREBRAL INFA...   \n",
       "4     ABBEVILLE  066 - INTRACRANIAL HEMORRHAGE OR CEREBRAL INFA...   \n",
       "\n",
       "   Avg_Discharges_ByCityDRG  \n",
       "0                       NaN  \n",
       "1                       NaN  \n",
       "2                       NaN  \n",
       "3                       NaN  \n",
       "4                       NaN  "
      ]
     },
     "execution_count": 41,
     "metadata": {},
     "output_type": "execute_result"
    }
   ],
   "source": [
    "benchmark = df.groupby(['Provider_City','DRG'])['Total_Discharges'].mean().reset_index()\n",
    "benchmark.columns = ['Provider_City','DRG','Avg_Discharges_ByCityDRG']\n",
    "benchmark.head()"
   ]
  },
  {
   "cell_type": "code",
   "execution_count": 42,
   "id": "d7a8be30",
   "metadata": {},
   "outputs": [
    {
     "data": {
      "text/plain": [
       "count    163065.000000\n",
       "mean          1.000000\n",
       "std           0.356433\n",
       "min           0.019540\n",
       "25%           0.920000\n",
       "50%           1.000000\n",
       "75%           1.000000\n",
       "max           5.689303\n",
       "Name: Avg_Discharges_ByCityDRG_ratio_amount, dtype: float64"
      ]
     },
     "execution_count": 42,
     "metadata": {},
     "output_type": "execute_result"
    }
   ],
   "source": [
    "# add the new feature average total discharges to the dataset \n",
    "df1 = pd.merge(df1, benchmark, how='left', on=['Provider_City','DRG'])\n",
    "# Feature 5: ratio of amount total discharges and average total discharges by drg in a city\n",
    "df1['Avg_Discharges_ByCityDRG_ratio_amount'] = np.where(df1['Avg_Discharges_ByCityDRG']==0,0, df1['Total_Discharges'] / df1['Avg_Discharges_ByCityDRG'])\n",
    "df1['Avg_Discharges_ByCityDRG_ratio_amount'].describe()"
   ]
  },
  {
   "cell_type": "code",
   "execution_count": 43,
   "id": "450d67d3",
   "metadata": {},
   "outputs": [
    {
     "data": {
      "text/plain": [
       "430"
      ]
     },
     "execution_count": 43,
     "metadata": {},
     "output_type": "execute_result"
    }
   ],
   "source": [
    "len(df1[df1['Avg_Discharges_ByCityDRG_ratio_amount']>2]['Provider_Name'].unique())"
   ]
  },
  {
   "cell_type": "code",
   "execution_count": 44,
   "id": "fe0e5ff5",
   "metadata": {},
   "outputs": [
    {
     "data": {
      "text/html": [
       "<div>\n",
       "<style scoped>\n",
       "    .dataframe tbody tr th:only-of-type {\n",
       "        vertical-align: middle;\n",
       "    }\n",
       "\n",
       "    .dataframe tbody tr th {\n",
       "        vertical-align: top;\n",
       "    }\n",
       "\n",
       "    .dataframe thead th {\n",
       "        text-align: right;\n",
       "    }\n",
       "</style>\n",
       "<table border=\"1\" class=\"dataframe\">\n",
       "  <thead>\n",
       "    <tr style=\"text-align: right;\">\n",
       "      <th></th>\n",
       "      <th>DRG</th>\n",
       "      <th>Provider_Id</th>\n",
       "      <th>Provider_Name</th>\n",
       "      <th>Provider_StreetAddress</th>\n",
       "      <th>Provider_City</th>\n",
       "      <th>Provider_State</th>\n",
       "      <th>Provider_Zipcode</th>\n",
       "      <th>Hospital_referral_region_desp</th>\n",
       "      <th>Total_Discharges</th>\n",
       "      <th>Average_Total_Payments</th>\n",
       "      <th>...</th>\n",
       "      <th>Avg_Payment_ByStateDRG</th>\n",
       "      <th>Avg_Payment_ByStateDRG_ratio_amount</th>\n",
       "      <th>Average_Payment_ByCityDRG</th>\n",
       "      <th>Average_Payment_ByCityDRG_ratio_amount</th>\n",
       "      <th>Avg_Payment_ByRegionDRG</th>\n",
       "      <th>Avg_Payment_ByRegionDRG_ratio_amount</th>\n",
       "      <th>Avg_Discharges_ByStateDRG</th>\n",
       "      <th>Avg_Discharges_ByStateDRG_ratio_amount</th>\n",
       "      <th>Avg_Discharges_ByCityDRG</th>\n",
       "      <th>Avg_Discharges_ByCityDRG_ratio_amount</th>\n",
       "    </tr>\n",
       "  </thead>\n",
       "  <tbody>\n",
       "    <tr>\n",
       "      <th>23231</th>\n",
       "      <td>190 - CHRONIC OBSTRUCTIVE PULMONARY DISEASE W MCC</td>\n",
       "      <td>450184</td>\n",
       "      <td>MEMORIAL HERMANN HOSPITAL SYSTEM</td>\n",
       "      <td>1635  NORTH LOOP WEST</td>\n",
       "      <td>HOUSTON</td>\n",
       "      <td>TX</td>\n",
       "      <td>77008</td>\n",
       "      <td>TX - Houston</td>\n",
       "      <td>312</td>\n",
       "      <td>8000.42</td>\n",
       "      <td>...</td>\n",
       "      <td>7610.829312</td>\n",
       "      <td>1.051189</td>\n",
       "      <td>8000.420</td>\n",
       "      <td>1.000000</td>\n",
       "      <td>7960.970870</td>\n",
       "      <td>1.004955</td>\n",
       "      <td>49.944954</td>\n",
       "      <td>6.246877</td>\n",
       "      <td>58.800000</td>\n",
       "      <td>5.306122</td>\n",
       "    </tr>\n",
       "    <tr>\n",
       "      <th>102629</th>\n",
       "      <td>392 - ESOPHAGITIS, GASTROENT &amp; MISC DIGEST DIS...</td>\n",
       "      <td>140281</td>\n",
       "      <td>NORTHWESTERN MEMORIAL HOSPITAL</td>\n",
       "      <td>251 E HURON ST</td>\n",
       "      <td>CHICAGO</td>\n",
       "      <td>IL</td>\n",
       "      <td>60611</td>\n",
       "      <td>IL - Chicago</td>\n",
       "      <td>448</td>\n",
       "      <td>6321.75</td>\n",
       "      <td>...</td>\n",
       "      <td>5176.980720</td>\n",
       "      <td>1.221127</td>\n",
       "      <td>6409.780</td>\n",
       "      <td>0.986266</td>\n",
       "      <td>6596.742222</td>\n",
       "      <td>0.958314</td>\n",
       "      <td>106.760000</td>\n",
       "      <td>4.196328</td>\n",
       "      <td>87.370370</td>\n",
       "      <td>5.127596</td>\n",
       "    </tr>\n",
       "    <tr>\n",
       "      <th>111610</th>\n",
       "      <td>470 - MAJOR JOINT REPLACEMENT OR REATTACHMENT ...</td>\n",
       "      <td>50625</td>\n",
       "      <td>CEDARS-SINAI MEDICAL CENTER</td>\n",
       "      <td>8700 BEVERLY BLVD</td>\n",
       "      <td>LOS ANGELES</td>\n",
       "      <td>CA</td>\n",
       "      <td>90048</td>\n",
       "      <td>CA - Los Angeles</td>\n",
       "      <td>738</td>\n",
       "      <td>18690.78</td>\n",
       "      <td>...</td>\n",
       "      <td>17684.594213</td>\n",
       "      <td>1.056896</td>\n",
       "      <td>19646.745</td>\n",
       "      <td>0.951342</td>\n",
       "      <td>17916.616610</td>\n",
       "      <td>1.043209</td>\n",
       "      <td>126.514894</td>\n",
       "      <td>5.833305</td>\n",
       "      <td>131.250000</td>\n",
       "      <td>5.622857</td>\n",
       "    </tr>\n",
       "    <tr>\n",
       "      <th>111715</th>\n",
       "      <td>470 - MAJOR JOINT REPLACEMENT OR REATTACHMENT ...</td>\n",
       "      <td>80001</td>\n",
       "      <td>CHRISTIANA CARE HEALTH SERVICES, INC.</td>\n",
       "      <td>4755 OGLETOWN-STANTON ROAD</td>\n",
       "      <td>NEWARK</td>\n",
       "      <td>DE</td>\n",
       "      <td>19718</td>\n",
       "      <td>DE - Wilmington</td>\n",
       "      <td>1031</td>\n",
       "      <td>15631.40</td>\n",
       "      <td>...</td>\n",
       "      <td>14818.714000</td>\n",
       "      <td>1.054842</td>\n",
       "      <td>15631.400</td>\n",
       "      <td>1.000000</td>\n",
       "      <td>16596.194000</td>\n",
       "      <td>0.941867</td>\n",
       "      <td>363.400000</td>\n",
       "      <td>2.837094</td>\n",
       "      <td>189.571429</td>\n",
       "      <td>5.438583</td>\n",
       "    </tr>\n",
       "    <tr>\n",
       "      <th>112969</th>\n",
       "      <td>470 - MAJOR JOINT REPLACEMENT OR REATTACHMENT ...</td>\n",
       "      <td>330270</td>\n",
       "      <td>HOSPITAL FOR SPECIAL SURGERY</td>\n",
       "      <td>535 EAST 70TH STREET</td>\n",
       "      <td>NEW YORK</td>\n",
       "      <td>NY</td>\n",
       "      <td>10021</td>\n",
       "      <td>NY - Manhattan</td>\n",
       "      <td>3383</td>\n",
       "      <td>19023.70</td>\n",
       "      <td>...</td>\n",
       "      <td>16761.400426</td>\n",
       "      <td>1.134971</td>\n",
       "      <td>23075.930</td>\n",
       "      <td>0.824396</td>\n",
       "      <td>22709.351000</td>\n",
       "      <td>0.837703</td>\n",
       "      <td>137.382979</td>\n",
       "      <td>24.624593</td>\n",
       "      <td>614.111111</td>\n",
       "      <td>5.508775</td>\n",
       "    </tr>\n",
       "  </tbody>\n",
       "</table>\n",
       "<p>5 rows × 21 columns</p>\n",
       "</div>"
      ],
      "text/plain": [
       "                                                      DRG Provider_Id  \\\n",
       "23231   190 - CHRONIC OBSTRUCTIVE PULMONARY DISEASE W MCC      450184   \n",
       "102629  392 - ESOPHAGITIS, GASTROENT & MISC DIGEST DIS...      140281   \n",
       "111610  470 - MAJOR JOINT REPLACEMENT OR REATTACHMENT ...       50625   \n",
       "111715  470 - MAJOR JOINT REPLACEMENT OR REATTACHMENT ...       80001   \n",
       "112969  470 - MAJOR JOINT REPLACEMENT OR REATTACHMENT ...      330270   \n",
       "\n",
       "                                Provider_Name      Provider_StreetAddress  \\\n",
       "23231        MEMORIAL HERMANN HOSPITAL SYSTEM       1635  NORTH LOOP WEST   \n",
       "102629         NORTHWESTERN MEMORIAL HOSPITAL              251 E HURON ST   \n",
       "111610            CEDARS-SINAI MEDICAL CENTER           8700 BEVERLY BLVD   \n",
       "111715  CHRISTIANA CARE HEALTH SERVICES, INC.  4755 OGLETOWN-STANTON ROAD   \n",
       "112969           HOSPITAL FOR SPECIAL SURGERY        535 EAST 70TH STREET   \n",
       "\n",
       "       Provider_City Provider_State  Provider_Zipcode  \\\n",
       "23231        HOUSTON             TX             77008   \n",
       "102629       CHICAGO             IL             60611   \n",
       "111610   LOS ANGELES             CA             90048   \n",
       "111715        NEWARK             DE             19718   \n",
       "112969      NEW YORK             NY             10021   \n",
       "\n",
       "       Hospital_referral_region_desp  Total_Discharges  \\\n",
       "23231                   TX - Houston               312   \n",
       "102629                  IL - Chicago               448   \n",
       "111610              CA - Los Angeles               738   \n",
       "111715               DE - Wilmington              1031   \n",
       "112969                NY - Manhattan              3383   \n",
       "\n",
       "        Average_Total_Payments  ...  Avg_Payment_ByStateDRG  \\\n",
       "23231                  8000.42  ...             7610.829312   \n",
       "102629                 6321.75  ...             5176.980720   \n",
       "111610                18690.78  ...            17684.594213   \n",
       "111715                15631.40  ...            14818.714000   \n",
       "112969                19023.70  ...            16761.400426   \n",
       "\n",
       "        Avg_Payment_ByStateDRG_ratio_amount  Average_Payment_ByCityDRG  \\\n",
       "23231                              1.051189                   8000.420   \n",
       "102629                             1.221127                   6409.780   \n",
       "111610                             1.056896                  19646.745   \n",
       "111715                             1.054842                  15631.400   \n",
       "112969                             1.134971                  23075.930   \n",
       "\n",
       "        Average_Payment_ByCityDRG_ratio_amount  Avg_Payment_ByRegionDRG  \\\n",
       "23231                                 1.000000              7960.970870   \n",
       "102629                                0.986266              6596.742222   \n",
       "111610                                0.951342             17916.616610   \n",
       "111715                                1.000000             16596.194000   \n",
       "112969                                0.824396             22709.351000   \n",
       "\n",
       "        Avg_Payment_ByRegionDRG_ratio_amount  Avg_Discharges_ByStateDRG  \\\n",
       "23231                               1.004955                  49.944954   \n",
       "102629                              0.958314                 106.760000   \n",
       "111610                              1.043209                 126.514894   \n",
       "111715                              0.941867                 363.400000   \n",
       "112969                              0.837703                 137.382979   \n",
       "\n",
       "        Avg_Discharges_ByStateDRG_ratio_amount  Avg_Discharges_ByCityDRG  \\\n",
       "23231                                 6.246877                 58.800000   \n",
       "102629                                4.196328                 87.370370   \n",
       "111610                                5.833305                131.250000   \n",
       "111715                                2.837094                189.571429   \n",
       "112969                               24.624593                614.111111   \n",
       "\n",
       "        Avg_Discharges_ByCityDRG_ratio_amount  \n",
       "23231                                5.306122  \n",
       "102629                               5.127596  \n",
       "111610                               5.622857  \n",
       "111715                               5.438583  \n",
       "112969                               5.508775  \n",
       "\n",
       "[5 rows x 21 columns]"
      ]
     },
     "execution_count": 44,
     "metadata": {},
     "output_type": "execute_result"
    }
   ],
   "source": [
    "df1[df1['Avg_Discharges_ByCityDRG_ratio_amount']>5].head()"
   ]
  },
  {
   "cell_type": "markdown",
   "id": "c586f0ca",
   "metadata": {},
   "source": [
    "### Section 3.6: Region & DRG Total Discharge average <a class=\"anchor\" id=\"Section_36\"></a>\n",
    "- Calculating average ratio of total discharges of every Hospital referral region desp in DRG description. This will help understand the total discharges comparisons within the region. "
   ]
  },
  {
   "cell_type": "code",
   "execution_count": 45,
   "id": "13427bd3",
   "metadata": {},
   "outputs": [
    {
     "data": {
      "text/html": [
       "<div>\n",
       "<style scoped>\n",
       "    .dataframe tbody tr th:only-of-type {\n",
       "        vertical-align: middle;\n",
       "    }\n",
       "\n",
       "    .dataframe tbody tr th {\n",
       "        vertical-align: top;\n",
       "    }\n",
       "\n",
       "    .dataframe thead th {\n",
       "        text-align: right;\n",
       "    }\n",
       "</style>\n",
       "<table border=\"1\" class=\"dataframe\">\n",
       "  <thead>\n",
       "    <tr style=\"text-align: right;\">\n",
       "      <th></th>\n",
       "      <th>Hospital_referral_region_desp</th>\n",
       "      <th>DRG</th>\n",
       "      <th>Avg_Discharges_ByRegionDRG</th>\n",
       "    </tr>\n",
       "  </thead>\n",
       "  <tbody>\n",
       "    <tr>\n",
       "      <th>0</th>\n",
       "      <td>AK - Anchorage</td>\n",
       "      <td>039 - EXTRACRANIAL PROCEDURES W/O CC/MCC</td>\n",
       "      <td>23.000000</td>\n",
       "    </tr>\n",
       "    <tr>\n",
       "      <th>1</th>\n",
       "      <td>AK - Anchorage</td>\n",
       "      <td>057 - DEGENERATIVE NERVOUS SYSTEM DISORDERS W/...</td>\n",
       "      <td>11.000000</td>\n",
       "    </tr>\n",
       "    <tr>\n",
       "      <th>2</th>\n",
       "      <td>AK - Anchorage</td>\n",
       "      <td>064 - INTRACRANIAL HEMORRHAGE OR CEREBRAL INFA...</td>\n",
       "      <td>22.500000</td>\n",
       "    </tr>\n",
       "    <tr>\n",
       "      <th>3</th>\n",
       "      <td>AK - Anchorage</td>\n",
       "      <td>065 - INTRACRANIAL HEMORRHAGE OR CEREBRAL INFA...</td>\n",
       "      <td>25.333333</td>\n",
       "    </tr>\n",
       "    <tr>\n",
       "      <th>4</th>\n",
       "      <td>AK - Anchorage</td>\n",
       "      <td>066 - INTRACRANIAL HEMORRHAGE OR CEREBRAL INFA...</td>\n",
       "      <td>21.000000</td>\n",
       "    </tr>\n",
       "  </tbody>\n",
       "</table>\n",
       "</div>"
      ],
      "text/plain": [
       "  Hospital_referral_region_desp  \\\n",
       "0                AK - Anchorage   \n",
       "1                AK - Anchorage   \n",
       "2                AK - Anchorage   \n",
       "3                AK - Anchorage   \n",
       "4                AK - Anchorage   \n",
       "\n",
       "                                                 DRG  \\\n",
       "0           039 - EXTRACRANIAL PROCEDURES W/O CC/MCC   \n",
       "1  057 - DEGENERATIVE NERVOUS SYSTEM DISORDERS W/...   \n",
       "2  064 - INTRACRANIAL HEMORRHAGE OR CEREBRAL INFA...   \n",
       "3  065 - INTRACRANIAL HEMORRHAGE OR CEREBRAL INFA...   \n",
       "4  066 - INTRACRANIAL HEMORRHAGE OR CEREBRAL INFA...   \n",
       "\n",
       "   Avg_Discharges_ByRegionDRG  \n",
       "0                   23.000000  \n",
       "1                   11.000000  \n",
       "2                   22.500000  \n",
       "3                   25.333333  \n",
       "4                   21.000000  "
      ]
     },
     "execution_count": 45,
     "metadata": {},
     "output_type": "execute_result"
    }
   ],
   "source": [
    "benchmark = df.groupby(['Hospital_referral_region_desp','DRG'])['Total_Discharges'].mean().reset_index()\n",
    "benchmark.columns = ['Hospital_referral_region_desp','DRG','Avg_Discharges_ByRegionDRG']\n",
    "benchmark.head()"
   ]
  },
  {
   "cell_type": "code",
   "execution_count": 46,
   "id": "1c2481e8",
   "metadata": {},
   "outputs": [
    {
     "data": {
      "text/plain": [
       "count    163065.000000\n",
       "mean          1.000000\n",
       "std           0.596288\n",
       "min           0.015412\n",
       "25%           0.592105\n",
       "50%           0.886894\n",
       "75%           1.250000\n",
       "max          11.008786\n",
       "Name: Avg_Discharges_ByRegionDRG_ratio_amount, dtype: float64"
      ]
     },
     "execution_count": 46,
     "metadata": {},
     "output_type": "execute_result"
    }
   ],
   "source": [
    "# add the new feature average total discharges to the dataset \n",
    "df1 = pd.merge(df1, benchmark, how='left', on=['Hospital_referral_region_desp','DRG'])\n",
    "# Feature 6: ratio of amount total discharges and average total discharges by drg in a region\n",
    "df1['Avg_Discharges_ByRegionDRG_ratio_amount'] = np.where(df1['Avg_Discharges_ByRegionDRG']==0,0, df1['Total_Discharges'] / df1['Avg_Discharges_ByRegionDRG'])\n",
    "df1['Avg_Discharges_ByRegionDRG_ratio_amount'].describe()"
   ]
  },
  {
   "cell_type": "code",
   "execution_count": 47,
   "id": "7bc7f307",
   "metadata": {},
   "outputs": [
    {
     "data": {
      "text/plain": [
       "1123"
      ]
     },
     "execution_count": 47,
     "metadata": {},
     "output_type": "execute_result"
    }
   ],
   "source": [
    "len(df1[df1['Avg_Discharges_ByRegionDRG_ratio_amount']>2]['Provider_Name'].unique())"
   ]
  },
  {
   "cell_type": "code",
   "execution_count": 48,
   "id": "07086812",
   "metadata": {},
   "outputs": [
    {
     "data": {
      "text/html": [
       "<div>\n",
       "<style scoped>\n",
       "    .dataframe tbody tr th:only-of-type {\n",
       "        vertical-align: middle;\n",
       "    }\n",
       "\n",
       "    .dataframe tbody tr th {\n",
       "        vertical-align: top;\n",
       "    }\n",
       "\n",
       "    .dataframe thead th {\n",
       "        text-align: right;\n",
       "    }\n",
       "</style>\n",
       "<table border=\"1\" class=\"dataframe\">\n",
       "  <thead>\n",
       "    <tr style=\"text-align: right;\">\n",
       "      <th></th>\n",
       "      <th>DRG</th>\n",
       "      <th>Provider_Id</th>\n",
       "      <th>Provider_Name</th>\n",
       "      <th>Provider_StreetAddress</th>\n",
       "      <th>Provider_City</th>\n",
       "      <th>Provider_State</th>\n",
       "      <th>Provider_Zipcode</th>\n",
       "      <th>Hospital_referral_region_desp</th>\n",
       "      <th>Total_Discharges</th>\n",
       "      <th>Average_Total_Payments</th>\n",
       "      <th>...</th>\n",
       "      <th>Average_Payment_ByCityDRG</th>\n",
       "      <th>Average_Payment_ByCityDRG_ratio_amount</th>\n",
       "      <th>Avg_Payment_ByRegionDRG</th>\n",
       "      <th>Avg_Payment_ByRegionDRG_ratio_amount</th>\n",
       "      <th>Avg_Discharges_ByStateDRG</th>\n",
       "      <th>Avg_Discharges_ByStateDRG_ratio_amount</th>\n",
       "      <th>Avg_Discharges_ByCityDRG</th>\n",
       "      <th>Avg_Discharges_ByCityDRG_ratio_amount</th>\n",
       "      <th>Avg_Discharges_ByRegionDRG</th>\n",
       "      <th>Avg_Discharges_ByRegionDRG_ratio_amount</th>\n",
       "    </tr>\n",
       "  </thead>\n",
       "  <tbody>\n",
       "    <tr>\n",
       "      <th>112969</th>\n",
       "      <td>470 - MAJOR JOINT REPLACEMENT OR REATTACHMENT ...</td>\n",
       "      <td>330270</td>\n",
       "      <td>HOSPITAL FOR SPECIAL SURGERY</td>\n",
       "      <td>535 EAST 70TH STREET</td>\n",
       "      <td>NEW YORK</td>\n",
       "      <td>NY</td>\n",
       "      <td>10021</td>\n",
       "      <td>NY - Manhattan</td>\n",
       "      <td>3383</td>\n",
       "      <td>19023.7</td>\n",
       "      <td>...</td>\n",
       "      <td>23075.93</td>\n",
       "      <td>0.824396</td>\n",
       "      <td>22709.351</td>\n",
       "      <td>0.837703</td>\n",
       "      <td>137.382979</td>\n",
       "      <td>24.624593</td>\n",
       "      <td>614.111111</td>\n",
       "      <td>5.508775</td>\n",
       "      <td>307.3</td>\n",
       "      <td>11.008786</td>\n",
       "    </tr>\n",
       "  </tbody>\n",
       "</table>\n",
       "<p>1 rows × 23 columns</p>\n",
       "</div>"
      ],
      "text/plain": [
       "                                                      DRG Provider_Id  \\\n",
       "112969  470 - MAJOR JOINT REPLACEMENT OR REATTACHMENT ...      330270   \n",
       "\n",
       "                       Provider_Name Provider_StreetAddress Provider_City  \\\n",
       "112969  HOSPITAL FOR SPECIAL SURGERY   535 EAST 70TH STREET      NEW YORK   \n",
       "\n",
       "       Provider_State  Provider_Zipcode Hospital_referral_region_desp  \\\n",
       "112969             NY             10021                NY - Manhattan   \n",
       "\n",
       "        Total_Discharges  Average_Total_Payments  ...  \\\n",
       "112969              3383                 19023.7  ...   \n",
       "\n",
       "        Average_Payment_ByCityDRG  Average_Payment_ByCityDRG_ratio_amount  \\\n",
       "112969                   23075.93                                0.824396   \n",
       "\n",
       "        Avg_Payment_ByRegionDRG  Avg_Payment_ByRegionDRG_ratio_amount  \\\n",
       "112969                22709.351                              0.837703   \n",
       "\n",
       "        Avg_Discharges_ByStateDRG  Avg_Discharges_ByStateDRG_ratio_amount  \\\n",
       "112969                 137.382979                               24.624593   \n",
       "\n",
       "        Avg_Discharges_ByCityDRG  Avg_Discharges_ByCityDRG_ratio_amount  \\\n",
       "112969                614.111111                               5.508775   \n",
       "\n",
       "        Avg_Discharges_ByRegionDRG  Avg_Discharges_ByRegionDRG_ratio_amount  \n",
       "112969                       307.3                                11.008786  \n",
       "\n",
       "[1 rows x 23 columns]"
      ]
     },
     "execution_count": 48,
     "metadata": {},
     "output_type": "execute_result"
    }
   ],
   "source": [
    "df1[df1['Avg_Discharges_ByRegionDRG_ratio_amount']>11].head()"
   ]
  },
  {
   "cell_type": "markdown",
   "id": "6a8a21a5",
   "metadata": {},
   "source": [
    "### Section 3.7: State & DRG Medicare Payments average <a class=\"anchor\" id=\"Section_37\"></a>\n",
    "- Calculating average ratio of Average medicare payment of every Provider state in DRG description. This will help understand the average medicare payment comparisons within the state. "
   ]
  },
  {
   "cell_type": "code",
   "execution_count": 49,
   "id": "ce5d4eb6",
   "metadata": {},
   "outputs": [
    {
     "data": {
      "text/html": [
       "<div>\n",
       "<style scoped>\n",
       "    .dataframe tbody tr th:only-of-type {\n",
       "        vertical-align: middle;\n",
       "    }\n",
       "\n",
       "    .dataframe tbody tr th {\n",
       "        vertical-align: top;\n",
       "    }\n",
       "\n",
       "    .dataframe thead th {\n",
       "        text-align: right;\n",
       "    }\n",
       "</style>\n",
       "<table border=\"1\" class=\"dataframe\">\n",
       "  <thead>\n",
       "    <tr style=\"text-align: right;\">\n",
       "      <th></th>\n",
       "      <th>Provider_State</th>\n",
       "      <th>DRG</th>\n",
       "      <th>Avg_Medicare_ByStateDRG</th>\n",
       "    </tr>\n",
       "  </thead>\n",
       "  <tbody>\n",
       "    <tr>\n",
       "      <th>0</th>\n",
       "      <td>AK</td>\n",
       "      <td>039 - EXTRACRANIAL PROCEDURES W/O CC/MCC</td>\n",
       "      <td>6413.780000</td>\n",
       "    </tr>\n",
       "    <tr>\n",
       "      <th>1</th>\n",
       "      <td>AK</td>\n",
       "      <td>057 - DEGENERATIVE NERVOUS SYSTEM DISORDERS W/...</td>\n",
       "      <td>8081.540000</td>\n",
       "    </tr>\n",
       "    <tr>\n",
       "      <th>2</th>\n",
       "      <td>AK</td>\n",
       "      <td>064 - INTRACRANIAL HEMORRHAGE OR CEREBRAL INFA...</td>\n",
       "      <td>20555.255000</td>\n",
       "    </tr>\n",
       "    <tr>\n",
       "      <th>3</th>\n",
       "      <td>AK</td>\n",
       "      <td>065 - INTRACRANIAL HEMORRHAGE OR CEREBRAL INFA...</td>\n",
       "      <td>11140.963333</td>\n",
       "    </tr>\n",
       "    <tr>\n",
       "      <th>4</th>\n",
       "      <td>AK</td>\n",
       "      <td>066 - INTRACRANIAL HEMORRHAGE OR CEREBRAL INFA...</td>\n",
       "      <td>8258.427500</td>\n",
       "    </tr>\n",
       "  </tbody>\n",
       "</table>\n",
       "</div>"
      ],
      "text/plain": [
       "  Provider_State                                                DRG  \\\n",
       "0             AK           039 - EXTRACRANIAL PROCEDURES W/O CC/MCC   \n",
       "1             AK  057 - DEGENERATIVE NERVOUS SYSTEM DISORDERS W/...   \n",
       "2             AK  064 - INTRACRANIAL HEMORRHAGE OR CEREBRAL INFA...   \n",
       "3             AK  065 - INTRACRANIAL HEMORRHAGE OR CEREBRAL INFA...   \n",
       "4             AK  066 - INTRACRANIAL HEMORRHAGE OR CEREBRAL INFA...   \n",
       "\n",
       "   Avg_Medicare_ByStateDRG  \n",
       "0              6413.780000  \n",
       "1              8081.540000  \n",
       "2             20555.255000  \n",
       "3             11140.963333  \n",
       "4              8258.427500  "
      ]
     },
     "execution_count": 49,
     "metadata": {},
     "output_type": "execute_result"
    }
   ],
   "source": [
    "benchmark = df.groupby(['Provider_State','DRG'])['Average_Medicare_Payment'].mean().reset_index()\n",
    "benchmark.columns = ['Provider_State','DRG','Avg_Medicare_ByStateDRG']\n",
    "benchmark.head()"
   ]
  },
  {
   "cell_type": "code",
   "execution_count": 50,
   "id": "f9cc517a",
   "metadata": {},
   "outputs": [
    {
     "data": {
      "text/plain": [
       "count    163065.000000\n",
       "mean          1.000000\n",
       "std           0.215091\n",
       "min           0.339831\n",
       "25%           0.868395\n",
       "50%           0.954250\n",
       "75%           1.071483\n",
       "max           5.174415\n",
       "Name: Avg_Medicare_ByStateDRG_ratio_amount, dtype: float64"
      ]
     },
     "execution_count": 50,
     "metadata": {},
     "output_type": "execute_result"
    }
   ],
   "source": [
    "# add the new feature average total discharges to the dataset \n",
    "df1 = pd.merge(df1, benchmark, how='left', on=['Provider_State','DRG'])\n",
    "# Feature 7: ratio of amount total medicare payment and average medicare payment by drg in a state\n",
    "df1['Avg_Medicare_ByStateDRG_ratio_amount'] = np.where(df1['Avg_Medicare_ByStateDRG']==0,0, df1['Average_Medicare_Payment'] / df1['Avg_Medicare_ByStateDRG'])\n",
    "df1['Avg_Medicare_ByStateDRG_ratio_amount'].describe()"
   ]
  },
  {
   "cell_type": "code",
   "execution_count": 51,
   "id": "272beb31",
   "metadata": {},
   "outputs": [
    {
     "data": {
      "text/plain": [
       "94"
      ]
     },
     "execution_count": 51,
     "metadata": {},
     "output_type": "execute_result"
    }
   ],
   "source": [
    "len(df1[df1['Avg_Medicare_ByStateDRG_ratio_amount']>2]['Provider_Name'].unique())"
   ]
  },
  {
   "cell_type": "code",
   "execution_count": 52,
   "id": "9f1811e3",
   "metadata": {},
   "outputs": [
    {
     "data": {
      "text/html": [
       "<div>\n",
       "<style scoped>\n",
       "    .dataframe tbody tr th:only-of-type {\n",
       "        vertical-align: middle;\n",
       "    }\n",
       "\n",
       "    .dataframe tbody tr th {\n",
       "        vertical-align: top;\n",
       "    }\n",
       "\n",
       "    .dataframe thead th {\n",
       "        text-align: right;\n",
       "    }\n",
       "</style>\n",
       "<table border=\"1\" class=\"dataframe\">\n",
       "  <thead>\n",
       "    <tr style=\"text-align: right;\">\n",
       "      <th></th>\n",
       "      <th>DRG</th>\n",
       "      <th>Provider_Id</th>\n",
       "      <th>Provider_Name</th>\n",
       "      <th>Provider_StreetAddress</th>\n",
       "      <th>Provider_City</th>\n",
       "      <th>Provider_State</th>\n",
       "      <th>Provider_Zipcode</th>\n",
       "      <th>Hospital_referral_region_desp</th>\n",
       "      <th>Total_Discharges</th>\n",
       "      <th>Average_Total_Payments</th>\n",
       "      <th>...</th>\n",
       "      <th>Avg_Payment_ByRegionDRG</th>\n",
       "      <th>Avg_Payment_ByRegionDRG_ratio_amount</th>\n",
       "      <th>Avg_Discharges_ByStateDRG</th>\n",
       "      <th>Avg_Discharges_ByStateDRG_ratio_amount</th>\n",
       "      <th>Avg_Discharges_ByCityDRG</th>\n",
       "      <th>Avg_Discharges_ByCityDRG_ratio_amount</th>\n",
       "      <th>Avg_Discharges_ByRegionDRG</th>\n",
       "      <th>Avg_Discharges_ByRegionDRG_ratio_amount</th>\n",
       "      <th>Avg_Medicare_ByStateDRG</th>\n",
       "      <th>Avg_Medicare_ByStateDRG_ratio_amount</th>\n",
       "    </tr>\n",
       "  </thead>\n",
       "  <tbody>\n",
       "    <tr>\n",
       "      <th>37716</th>\n",
       "      <td>202 - BRONCHITIS &amp; ASTHMA W CC/MCC</td>\n",
       "      <td>210009</td>\n",
       "      <td>JOHNS HOPKINS HOSPITAL, THE</td>\n",
       "      <td>600 NORTH  WOLFE STREET</td>\n",
       "      <td>BALTIMORE</td>\n",
       "      <td>MD</td>\n",
       "      <td>21287</td>\n",
       "      <td>MD - Baltimore</td>\n",
       "      <td>17</td>\n",
       "      <td>41458.47</td>\n",
       "      <td>...</td>\n",
       "      <td>9473.928889</td>\n",
       "      <td>4.376059</td>\n",
       "      <td>25.727273</td>\n",
       "      <td>0.660777</td>\n",
       "      <td>23.8</td>\n",
       "      <td>0.714286</td>\n",
       "      <td>26.166667</td>\n",
       "      <td>0.649682</td>\n",
       "      <td>7196.176364</td>\n",
       "      <td>5.174415</td>\n",
       "    </tr>\n",
       "    <tr>\n",
       "      <th>109462</th>\n",
       "      <td>460 - SPINAL FUSION EXCEPT CERVICAL W/O MCC</td>\n",
       "      <td>150166</td>\n",
       "      <td>PINNACLE HOSPITAL</td>\n",
       "      <td>9301 CONNECTICUT DR</td>\n",
       "      <td>CROWN POINT</td>\n",
       "      <td>IN</td>\n",
       "      <td>46307</td>\n",
       "      <td>IN - Gary</td>\n",
       "      <td>14</td>\n",
       "      <td>131187.35</td>\n",
       "      <td>...</td>\n",
       "      <td>43758.768333</td>\n",
       "      <td>2.997967</td>\n",
       "      <td>44.641026</td>\n",
       "      <td>0.313613</td>\n",
       "      <td>13.5</td>\n",
       "      <td>1.037037</td>\n",
       "      <td>19.833333</td>\n",
       "      <td>0.705882</td>\n",
       "      <td>25432.459231</td>\n",
       "      <td>5.129923</td>\n",
       "    </tr>\n",
       "  </tbody>\n",
       "</table>\n",
       "<p>2 rows × 25 columns</p>\n",
       "</div>"
      ],
      "text/plain": [
       "                                                DRG Provider_Id  \\\n",
       "37716            202 - BRONCHITIS & ASTHMA W CC/MCC      210009   \n",
       "109462  460 - SPINAL FUSION EXCEPT CERVICAL W/O MCC      150166   \n",
       "\n",
       "                      Provider_Name   Provider_StreetAddress Provider_City  \\\n",
       "37716   JOHNS HOPKINS HOSPITAL, THE  600 NORTH  WOLFE STREET     BALTIMORE   \n",
       "109462            PINNACLE HOSPITAL      9301 CONNECTICUT DR   CROWN POINT   \n",
       "\n",
       "       Provider_State  Provider_Zipcode Hospital_referral_region_desp  \\\n",
       "37716              MD             21287                MD - Baltimore   \n",
       "109462             IN             46307                     IN - Gary   \n",
       "\n",
       "        Total_Discharges  Average_Total_Payments  ...  \\\n",
       "37716                 17                41458.47  ...   \n",
       "109462                14               131187.35  ...   \n",
       "\n",
       "        Avg_Payment_ByRegionDRG  Avg_Payment_ByRegionDRG_ratio_amount  \\\n",
       "37716               9473.928889                              4.376059   \n",
       "109462             43758.768333                              2.997967   \n",
       "\n",
       "        Avg_Discharges_ByStateDRG  Avg_Discharges_ByStateDRG_ratio_amount  \\\n",
       "37716                   25.727273                                0.660777   \n",
       "109462                  44.641026                                0.313613   \n",
       "\n",
       "        Avg_Discharges_ByCityDRG  Avg_Discharges_ByCityDRG_ratio_amount  \\\n",
       "37716                       23.8                               0.714286   \n",
       "109462                      13.5                               1.037037   \n",
       "\n",
       "        Avg_Discharges_ByRegionDRG  Avg_Discharges_ByRegionDRG_ratio_amount  \\\n",
       "37716                    26.166667                                 0.649682   \n",
       "109462                   19.833333                                 0.705882   \n",
       "\n",
       "        Avg_Medicare_ByStateDRG  Avg_Medicare_ByStateDRG_ratio_amount  \n",
       "37716               7196.176364                              5.174415  \n",
       "109462             25432.459231                              5.129923  \n",
       "\n",
       "[2 rows x 25 columns]"
      ]
     },
     "execution_count": 52,
     "metadata": {},
     "output_type": "execute_result"
    }
   ],
   "source": [
    "df1[df1['Avg_Medicare_ByStateDRG_ratio_amount']>5].head()"
   ]
  },
  {
   "cell_type": "markdown",
   "id": "225beb92",
   "metadata": {},
   "source": [
    "### Section 3.8: City & DRG Medicare Payments average <a class=\"anchor\" id=\"Section_38\"></a>\n",
    "- Calculating average ratio of Average medicare payment of every Provider city in DRG description. This will help understand the average medicare payment comparisons within the city. "
   ]
  },
  {
   "cell_type": "code",
   "execution_count": 53,
   "id": "1702e0f7",
   "metadata": {},
   "outputs": [
    {
     "data": {
      "text/html": [
       "<div>\n",
       "<style scoped>\n",
       "    .dataframe tbody tr th:only-of-type {\n",
       "        vertical-align: middle;\n",
       "    }\n",
       "\n",
       "    .dataframe tbody tr th {\n",
       "        vertical-align: top;\n",
       "    }\n",
       "\n",
       "    .dataframe thead th {\n",
       "        text-align: right;\n",
       "    }\n",
       "</style>\n",
       "<table border=\"1\" class=\"dataframe\">\n",
       "  <thead>\n",
       "    <tr style=\"text-align: right;\">\n",
       "      <th></th>\n",
       "      <th>Provider_City</th>\n",
       "      <th>DRG</th>\n",
       "      <th>Avg_Medicare_ByCityDRG</th>\n",
       "    </tr>\n",
       "  </thead>\n",
       "  <tbody>\n",
       "    <tr>\n",
       "      <th>0</th>\n",
       "      <td>ABBEVILLE</td>\n",
       "      <td>039 - EXTRACRANIAL PROCEDURES W/O CC/MCC</td>\n",
       "      <td>NaN</td>\n",
       "    </tr>\n",
       "    <tr>\n",
       "      <th>1</th>\n",
       "      <td>ABBEVILLE</td>\n",
       "      <td>057 - DEGENERATIVE NERVOUS SYSTEM DISORDERS W/...</td>\n",
       "      <td>NaN</td>\n",
       "    </tr>\n",
       "    <tr>\n",
       "      <th>2</th>\n",
       "      <td>ABBEVILLE</td>\n",
       "      <td>064 - INTRACRANIAL HEMORRHAGE OR CEREBRAL INFA...</td>\n",
       "      <td>NaN</td>\n",
       "    </tr>\n",
       "    <tr>\n",
       "      <th>3</th>\n",
       "      <td>ABBEVILLE</td>\n",
       "      <td>065 - INTRACRANIAL HEMORRHAGE OR CEREBRAL INFA...</td>\n",
       "      <td>NaN</td>\n",
       "    </tr>\n",
       "    <tr>\n",
       "      <th>4</th>\n",
       "      <td>ABBEVILLE</td>\n",
       "      <td>066 - INTRACRANIAL HEMORRHAGE OR CEREBRAL INFA...</td>\n",
       "      <td>NaN</td>\n",
       "    </tr>\n",
       "  </tbody>\n",
       "</table>\n",
       "</div>"
      ],
      "text/plain": [
       "  Provider_City                                                DRG  \\\n",
       "0     ABBEVILLE           039 - EXTRACRANIAL PROCEDURES W/O CC/MCC   \n",
       "1     ABBEVILLE  057 - DEGENERATIVE NERVOUS SYSTEM DISORDERS W/...   \n",
       "2     ABBEVILLE  064 - INTRACRANIAL HEMORRHAGE OR CEREBRAL INFA...   \n",
       "3     ABBEVILLE  065 - INTRACRANIAL HEMORRHAGE OR CEREBRAL INFA...   \n",
       "4     ABBEVILLE  066 - INTRACRANIAL HEMORRHAGE OR CEREBRAL INFA...   \n",
       "\n",
       "   Avg_Medicare_ByCityDRG  \n",
       "0                     NaN  \n",
       "1                     NaN  \n",
       "2                     NaN  \n",
       "3                     NaN  \n",
       "4                     NaN  "
      ]
     },
     "execution_count": 53,
     "metadata": {},
     "output_type": "execute_result"
    }
   ],
   "source": [
    "benchmark = df.groupby(['Provider_City','DRG'])['Average_Medicare_Payment'].mean().reset_index()\n",
    "benchmark.columns = ['Provider_City','DRG','Avg_Medicare_ByCityDRG']\n",
    "benchmark.head()"
   ]
  },
  {
   "cell_type": "code",
   "execution_count": 54,
   "id": "7cc1b3c3",
   "metadata": {},
   "outputs": [
    {
     "data": {
      "text/plain": [
       "count    163065.000000\n",
       "mean          1.000000\n",
       "std           0.119402\n",
       "min           0.261737\n",
       "25%           0.979755\n",
       "50%           1.000000\n",
       "75%           1.000000\n",
       "max           3.846861\n",
       "Name: Avg_Medicare_ByCityDRG_ratio_amount, dtype: float64"
      ]
     },
     "execution_count": 54,
     "metadata": {},
     "output_type": "execute_result"
    }
   ],
   "source": [
    "# add the new feature average total discharges to the dataset \n",
    "df1 = pd.merge(df1, benchmark, how='left', on=['Provider_City','DRG'])\n",
    "# Feature 8: ratio of amount total medicare payment and average medicare payment by drg in a city\n",
    "df1['Avg_Medicare_ByCityDRG_ratio_amount'] = np.where(df1['Avg_Medicare_ByCityDRG']==0,0, df1['Average_Medicare_Payment'] / df1['Avg_Medicare_ByCityDRG'])\n",
    "df1['Avg_Medicare_ByCityDRG_ratio_amount'].describe()"
   ]
  },
  {
   "cell_type": "code",
   "execution_count": 55,
   "id": "1158e4d3",
   "metadata": {},
   "outputs": [
    {
     "data": {
      "text/plain": [
       "14"
      ]
     },
     "execution_count": 55,
     "metadata": {},
     "output_type": "execute_result"
    }
   ],
   "source": [
    "len(df1[df1['Avg_Medicare_ByCityDRG_ratio_amount']>2]['Provider_Name'].unique())"
   ]
  },
  {
   "cell_type": "code",
   "execution_count": 56,
   "id": "46bdafa4",
   "metadata": {},
   "outputs": [
    {
     "data": {
      "text/html": [
       "<div>\n",
       "<style scoped>\n",
       "    .dataframe tbody tr th:only-of-type {\n",
       "        vertical-align: middle;\n",
       "    }\n",
       "\n",
       "    .dataframe tbody tr th {\n",
       "        vertical-align: top;\n",
       "    }\n",
       "\n",
       "    .dataframe thead th {\n",
       "        text-align: right;\n",
       "    }\n",
       "</style>\n",
       "<table border=\"1\" class=\"dataframe\">\n",
       "  <thead>\n",
       "    <tr style=\"text-align: right;\">\n",
       "      <th></th>\n",
       "      <th>DRG</th>\n",
       "      <th>Provider_Id</th>\n",
       "      <th>Provider_Name</th>\n",
       "      <th>Provider_StreetAddress</th>\n",
       "      <th>Provider_City</th>\n",
       "      <th>Provider_State</th>\n",
       "      <th>Provider_Zipcode</th>\n",
       "      <th>Hospital_referral_region_desp</th>\n",
       "      <th>Total_Discharges</th>\n",
       "      <th>Average_Total_Payments</th>\n",
       "      <th>...</th>\n",
       "      <th>Avg_Discharges_ByStateDRG</th>\n",
       "      <th>Avg_Discharges_ByStateDRG_ratio_amount</th>\n",
       "      <th>Avg_Discharges_ByCityDRG</th>\n",
       "      <th>Avg_Discharges_ByCityDRG_ratio_amount</th>\n",
       "      <th>Avg_Discharges_ByRegionDRG</th>\n",
       "      <th>Avg_Discharges_ByRegionDRG_ratio_amount</th>\n",
       "      <th>Avg_Medicare_ByStateDRG</th>\n",
       "      <th>Avg_Medicare_ByStateDRG_ratio_amount</th>\n",
       "      <th>Avg_Medicare_ByCityDRG</th>\n",
       "      <th>Avg_Medicare_ByCityDRG_ratio_amount</th>\n",
       "    </tr>\n",
       "  </thead>\n",
       "  <tbody>\n",
       "    <tr>\n",
       "      <th>37716</th>\n",
       "      <td>202 - BRONCHITIS &amp; ASTHMA W CC/MCC</td>\n",
       "      <td>210009</td>\n",
       "      <td>JOHNS HOPKINS HOSPITAL, THE</td>\n",
       "      <td>600 NORTH  WOLFE STREET</td>\n",
       "      <td>BALTIMORE</td>\n",
       "      <td>MD</td>\n",
       "      <td>21287</td>\n",
       "      <td>MD - Baltimore</td>\n",
       "      <td>17</td>\n",
       "      <td>41458.47</td>\n",
       "      <td>...</td>\n",
       "      <td>25.727273</td>\n",
       "      <td>0.660777</td>\n",
       "      <td>23.8</td>\n",
       "      <td>0.714286</td>\n",
       "      <td>26.166667</td>\n",
       "      <td>0.649682</td>\n",
       "      <td>7196.176364</td>\n",
       "      <td>5.174415</td>\n",
       "      <td>9679.581</td>\n",
       "      <td>3.846861</td>\n",
       "    </tr>\n",
       "  </tbody>\n",
       "</table>\n",
       "<p>1 rows × 27 columns</p>\n",
       "</div>"
      ],
      "text/plain": [
       "                                      DRG Provider_Id  \\\n",
       "37716  202 - BRONCHITIS & ASTHMA W CC/MCC      210009   \n",
       "\n",
       "                     Provider_Name   Provider_StreetAddress Provider_City  \\\n",
       "37716  JOHNS HOPKINS HOSPITAL, THE  600 NORTH  WOLFE STREET     BALTIMORE   \n",
       "\n",
       "      Provider_State  Provider_Zipcode Hospital_referral_region_desp  \\\n",
       "37716             MD             21287                MD - Baltimore   \n",
       "\n",
       "       Total_Discharges  Average_Total_Payments  ...  \\\n",
       "37716                17                41458.47  ...   \n",
       "\n",
       "       Avg_Discharges_ByStateDRG  Avg_Discharges_ByStateDRG_ratio_amount  \\\n",
       "37716                  25.727273                                0.660777   \n",
       "\n",
       "       Avg_Discharges_ByCityDRG  Avg_Discharges_ByCityDRG_ratio_amount  \\\n",
       "37716                      23.8                               0.714286   \n",
       "\n",
       "       Avg_Discharges_ByRegionDRG  Avg_Discharges_ByRegionDRG_ratio_amount  \\\n",
       "37716                   26.166667                                 0.649682   \n",
       "\n",
       "       Avg_Medicare_ByStateDRG  Avg_Medicare_ByStateDRG_ratio_amount  \\\n",
       "37716              7196.176364                              5.174415   \n",
       "\n",
       "       Avg_Medicare_ByCityDRG  Avg_Medicare_ByCityDRG_ratio_amount  \n",
       "37716                9679.581                             3.846861  \n",
       "\n",
       "[1 rows x 27 columns]"
      ]
     },
     "execution_count": 56,
     "metadata": {},
     "output_type": "execute_result"
    }
   ],
   "source": [
    "df1[df1['Avg_Medicare_ByCityDRG_ratio_amount']>3].head()"
   ]
  },
  {
   "cell_type": "markdown",
   "id": "08c16c29",
   "metadata": {},
   "source": [
    "### Section 3.9: Region & BRG Medicare Payments average <a class=\"anchor\" id=\"Section_39\"></a>\n",
    "- Calculating average ratio of Average medicare payment of every Hospital referral region desp in DRG description. This will help understand the average medicare payment comparisons within the region. "
   ]
  },
  {
   "cell_type": "code",
   "execution_count": 57,
   "id": "9af30c5a",
   "metadata": {},
   "outputs": [
    {
     "data": {
      "text/html": [
       "<div>\n",
       "<style scoped>\n",
       "    .dataframe tbody tr th:only-of-type {\n",
       "        vertical-align: middle;\n",
       "    }\n",
       "\n",
       "    .dataframe tbody tr th {\n",
       "        vertical-align: top;\n",
       "    }\n",
       "\n",
       "    .dataframe thead th {\n",
       "        text-align: right;\n",
       "    }\n",
       "</style>\n",
       "<table border=\"1\" class=\"dataframe\">\n",
       "  <thead>\n",
       "    <tr style=\"text-align: right;\">\n",
       "      <th></th>\n",
       "      <th>Hospital_referral_region_desp</th>\n",
       "      <th>DRG</th>\n",
       "      <th>Avg_Medicare_ByRegionDRG</th>\n",
       "    </tr>\n",
       "  </thead>\n",
       "  <tbody>\n",
       "    <tr>\n",
       "      <th>0</th>\n",
       "      <td>AK - Anchorage</td>\n",
       "      <td>039 - EXTRACRANIAL PROCEDURES W/O CC/MCC</td>\n",
       "      <td>6413.780000</td>\n",
       "    </tr>\n",
       "    <tr>\n",
       "      <th>1</th>\n",
       "      <td>AK - Anchorage</td>\n",
       "      <td>057 - DEGENERATIVE NERVOUS SYSTEM DISORDERS W/...</td>\n",
       "      <td>8081.540000</td>\n",
       "    </tr>\n",
       "    <tr>\n",
       "      <th>2</th>\n",
       "      <td>AK - Anchorage</td>\n",
       "      <td>064 - INTRACRANIAL HEMORRHAGE OR CEREBRAL INFA...</td>\n",
       "      <td>20555.255000</td>\n",
       "    </tr>\n",
       "    <tr>\n",
       "      <th>3</th>\n",
       "      <td>AK - Anchorage</td>\n",
       "      <td>065 - INTRACRANIAL HEMORRHAGE OR CEREBRAL INFA...</td>\n",
       "      <td>11140.963333</td>\n",
       "    </tr>\n",
       "    <tr>\n",
       "      <th>4</th>\n",
       "      <td>AK - Anchorage</td>\n",
       "      <td>066 - INTRACRANIAL HEMORRHAGE OR CEREBRAL INFA...</td>\n",
       "      <td>8258.427500</td>\n",
       "    </tr>\n",
       "  </tbody>\n",
       "</table>\n",
       "</div>"
      ],
      "text/plain": [
       "  Hospital_referral_region_desp  \\\n",
       "0                AK - Anchorage   \n",
       "1                AK - Anchorage   \n",
       "2                AK - Anchorage   \n",
       "3                AK - Anchorage   \n",
       "4                AK - Anchorage   \n",
       "\n",
       "                                                 DRG  Avg_Medicare_ByRegionDRG  \n",
       "0           039 - EXTRACRANIAL PROCEDURES W/O CC/MCC               6413.780000  \n",
       "1  057 - DEGENERATIVE NERVOUS SYSTEM DISORDERS W/...               8081.540000  \n",
       "2  064 - INTRACRANIAL HEMORRHAGE OR CEREBRAL INFA...              20555.255000  \n",
       "3  065 - INTRACRANIAL HEMORRHAGE OR CEREBRAL INFA...              11140.963333  \n",
       "4  066 - INTRACRANIAL HEMORRHAGE OR CEREBRAL INFA...               8258.427500  "
      ]
     },
     "execution_count": 57,
     "metadata": {},
     "output_type": "execute_result"
    }
   ],
   "source": [
    "benchmark = df.groupby(['Hospital_referral_region_desp','DRG'])['Average_Medicare_Payment'].mean().reset_index()\n",
    "benchmark.columns = ['Hospital_referral_region_desp','DRG','Avg_Medicare_ByRegionDRG']\n",
    "benchmark.head()"
   ]
  },
  {
   "cell_type": "code",
   "execution_count": 58,
   "id": "8b7dcc9c",
   "metadata": {},
   "outputs": [
    {
     "data": {
      "text/plain": [
       "count    163065.000000\n",
       "mean          1.000000\n",
       "std           0.175920\n",
       "min           0.339831\n",
       "25%           0.893506\n",
       "50%           0.976954\n",
       "75%           1.063344\n",
       "max           4.516504\n",
       "Name: Avg_Medicare_ByRegionDRG_ratio_amount, dtype: float64"
      ]
     },
     "execution_count": 58,
     "metadata": {},
     "output_type": "execute_result"
    }
   ],
   "source": [
    "# add the new feature average total discharges to the dataset \n",
    "df1 = pd.merge(df1, benchmark, how='left', on=['Hospital_referral_region_desp','DRG'])\n",
    "# Feature 9: ratio of amount total medicare payment and average medicare payment by drg in a region\n",
    "df1['Avg_Medicare_ByRegionDRG_ratio_amount'] = np.where(df1['Avg_Medicare_ByRegionDRG']==0,0, df1['Average_Medicare_Payment'] / df1['Avg_Medicare_ByRegionDRG'])\n",
    "df1['Avg_Medicare_ByRegionDRG_ratio_amount'].describe()"
   ]
  },
  {
   "cell_type": "code",
   "execution_count": 59,
   "id": "5c1c8bd6",
   "metadata": {},
   "outputs": [
    {
     "data": {
      "text/plain": [
       "52"
      ]
     },
     "execution_count": 59,
     "metadata": {},
     "output_type": "execute_result"
    }
   ],
   "source": [
    "len(df1[df1['Avg_Medicare_ByRegionDRG_ratio_amount']>2]['Provider_Name'].unique())"
   ]
  },
  {
   "cell_type": "code",
   "execution_count": 60,
   "id": "a0fa0622",
   "metadata": {},
   "outputs": [
    {
     "data": {
      "text/html": [
       "<div>\n",
       "<style scoped>\n",
       "    .dataframe tbody tr th:only-of-type {\n",
       "        vertical-align: middle;\n",
       "    }\n",
       "\n",
       "    .dataframe tbody tr th {\n",
       "        vertical-align: top;\n",
       "    }\n",
       "\n",
       "    .dataframe thead th {\n",
       "        text-align: right;\n",
       "    }\n",
       "</style>\n",
       "<table border=\"1\" class=\"dataframe\">\n",
       "  <thead>\n",
       "    <tr style=\"text-align: right;\">\n",
       "      <th></th>\n",
       "      <th>DRG</th>\n",
       "      <th>Provider_Id</th>\n",
       "      <th>Provider_Name</th>\n",
       "      <th>Provider_StreetAddress</th>\n",
       "      <th>Provider_City</th>\n",
       "      <th>Provider_State</th>\n",
       "      <th>Provider_Zipcode</th>\n",
       "      <th>Hospital_referral_region_desp</th>\n",
       "      <th>Total_Discharges</th>\n",
       "      <th>Average_Total_Payments</th>\n",
       "      <th>...</th>\n",
       "      <th>Avg_Discharges_ByCityDRG</th>\n",
       "      <th>Avg_Discharges_ByCityDRG_ratio_amount</th>\n",
       "      <th>Avg_Discharges_ByRegionDRG</th>\n",
       "      <th>Avg_Discharges_ByRegionDRG_ratio_amount</th>\n",
       "      <th>Avg_Medicare_ByStateDRG</th>\n",
       "      <th>Avg_Medicare_ByStateDRG_ratio_amount</th>\n",
       "      <th>Avg_Medicare_ByCityDRG</th>\n",
       "      <th>Avg_Medicare_ByCityDRG_ratio_amount</th>\n",
       "      <th>Avg_Medicare_ByRegionDRG</th>\n",
       "      <th>Avg_Medicare_ByRegionDRG_ratio_amount</th>\n",
       "    </tr>\n",
       "  </thead>\n",
       "  <tbody>\n",
       "    <tr>\n",
       "      <th>37716</th>\n",
       "      <td>202 - BRONCHITIS &amp; ASTHMA W CC/MCC</td>\n",
       "      <td>210009</td>\n",
       "      <td>JOHNS HOPKINS HOSPITAL, THE</td>\n",
       "      <td>600 NORTH  WOLFE STREET</td>\n",
       "      <td>BALTIMORE</td>\n",
       "      <td>MD</td>\n",
       "      <td>21287</td>\n",
       "      <td>MD - Baltimore</td>\n",
       "      <td>17</td>\n",
       "      <td>41458.47</td>\n",
       "      <td>...</td>\n",
       "      <td>23.8</td>\n",
       "      <td>0.714286</td>\n",
       "      <td>26.166667</td>\n",
       "      <td>0.649682</td>\n",
       "      <td>7196.176364</td>\n",
       "      <td>5.174415</td>\n",
       "      <td>9679.581</td>\n",
       "      <td>3.846861</td>\n",
       "      <td>8244.430556</td>\n",
       "      <td>4.516504</td>\n",
       "    </tr>\n",
       "  </tbody>\n",
       "</table>\n",
       "<p>1 rows × 29 columns</p>\n",
       "</div>"
      ],
      "text/plain": [
       "                                      DRG Provider_Id  \\\n",
       "37716  202 - BRONCHITIS & ASTHMA W CC/MCC      210009   \n",
       "\n",
       "                     Provider_Name   Provider_StreetAddress Provider_City  \\\n",
       "37716  JOHNS HOPKINS HOSPITAL, THE  600 NORTH  WOLFE STREET     BALTIMORE   \n",
       "\n",
       "      Provider_State  Provider_Zipcode Hospital_referral_region_desp  \\\n",
       "37716             MD             21287                MD - Baltimore   \n",
       "\n",
       "       Total_Discharges  Average_Total_Payments  ...  \\\n",
       "37716                17                41458.47  ...   \n",
       "\n",
       "       Avg_Discharges_ByCityDRG  Avg_Discharges_ByCityDRG_ratio_amount  \\\n",
       "37716                      23.8                               0.714286   \n",
       "\n",
       "       Avg_Discharges_ByRegionDRG  Avg_Discharges_ByRegionDRG_ratio_amount  \\\n",
       "37716                   26.166667                                 0.649682   \n",
       "\n",
       "       Avg_Medicare_ByStateDRG  Avg_Medicare_ByStateDRG_ratio_amount  \\\n",
       "37716              7196.176364                              5.174415   \n",
       "\n",
       "       Avg_Medicare_ByCityDRG  Avg_Medicare_ByCityDRG_ratio_amount  \\\n",
       "37716                9679.581                             3.846861   \n",
       "\n",
       "       Avg_Medicare_ByRegionDRG  Avg_Medicare_ByRegionDRG_ratio_amount  \n",
       "37716               8244.430556                               4.516504  \n",
       "\n",
       "[1 rows x 29 columns]"
      ]
     },
     "execution_count": 60,
     "metadata": {},
     "output_type": "execute_result"
    }
   ],
   "source": [
    "df1[df1['Avg_Medicare_ByRegionDRG_ratio_amount']>4].head()"
   ]
  },
  {
   "cell_type": "markdown",
   "id": "2fa5a148",
   "metadata": {},
   "source": [
    "### Section 3.10: Zipcode & BRG Medicare Payments average <a class=\"anchor\" id=\"Section_40\"></a>\n",
    "- Calculating average ratio of Average medicare payment of every Provider zipcode in DRG description. This will help understand the average medical payments comparisons within cities in a Zipcode."
   ]
  },
  {
   "cell_type": "code",
   "execution_count": 61,
   "id": "959b31b7",
   "metadata": {},
   "outputs": [
    {
     "data": {
      "text/html": [
       "<div>\n",
       "<style scoped>\n",
       "    .dataframe tbody tr th:only-of-type {\n",
       "        vertical-align: middle;\n",
       "    }\n",
       "\n",
       "    .dataframe tbody tr th {\n",
       "        vertical-align: top;\n",
       "    }\n",
       "\n",
       "    .dataframe thead th {\n",
       "        text-align: right;\n",
       "    }\n",
       "</style>\n",
       "<table border=\"1\" class=\"dataframe\">\n",
       "  <thead>\n",
       "    <tr style=\"text-align: right;\">\n",
       "      <th></th>\n",
       "      <th>Provider_Zipcode</th>\n",
       "      <th>DRG</th>\n",
       "      <th>Avg_Medicare_ByZipDRG</th>\n",
       "    </tr>\n",
       "  </thead>\n",
       "  <tbody>\n",
       "    <tr>\n",
       "      <th>0</th>\n",
       "      <td>1040</td>\n",
       "      <td>039 - EXTRACRANIAL PROCEDURES W/O CC/MCC</td>\n",
       "      <td>NaN</td>\n",
       "    </tr>\n",
       "    <tr>\n",
       "      <th>1</th>\n",
       "      <td>1040</td>\n",
       "      <td>057 - DEGENERATIVE NERVOUS SYSTEM DISORDERS W/...</td>\n",
       "      <td>6359.30</td>\n",
       "    </tr>\n",
       "    <tr>\n",
       "      <th>2</th>\n",
       "      <td>1040</td>\n",
       "      <td>064 - INTRACRANIAL HEMORRHAGE OR CEREBRAL INFA...</td>\n",
       "      <td>10862.94</td>\n",
       "    </tr>\n",
       "    <tr>\n",
       "      <th>3</th>\n",
       "      <td>1040</td>\n",
       "      <td>065 - INTRACRANIAL HEMORRHAGE OR CEREBRAL INFA...</td>\n",
       "      <td>6701.50</td>\n",
       "    </tr>\n",
       "    <tr>\n",
       "      <th>4</th>\n",
       "      <td>1040</td>\n",
       "      <td>066 - INTRACRANIAL HEMORRHAGE OR CEREBRAL INFA...</td>\n",
       "      <td>NaN</td>\n",
       "    </tr>\n",
       "  </tbody>\n",
       "</table>\n",
       "</div>"
      ],
      "text/plain": [
       "   Provider_Zipcode                                                DRG  \\\n",
       "0              1040           039 - EXTRACRANIAL PROCEDURES W/O CC/MCC   \n",
       "1              1040  057 - DEGENERATIVE NERVOUS SYSTEM DISORDERS W/...   \n",
       "2              1040  064 - INTRACRANIAL HEMORRHAGE OR CEREBRAL INFA...   \n",
       "3              1040  065 - INTRACRANIAL HEMORRHAGE OR CEREBRAL INFA...   \n",
       "4              1040  066 - INTRACRANIAL HEMORRHAGE OR CEREBRAL INFA...   \n",
       "\n",
       "   Avg_Medicare_ByZipDRG  \n",
       "0                    NaN  \n",
       "1                6359.30  \n",
       "2               10862.94  \n",
       "3                6701.50  \n",
       "4                    NaN  "
      ]
     },
     "execution_count": 61,
     "metadata": {},
     "output_type": "execute_result"
    }
   ],
   "source": [
    "benchmark = df.groupby(['Provider_Zipcode','DRG'])['Average_Medicare_Payment'].mean().reset_index()\n",
    "benchmark.columns = ['Provider_Zipcode','DRG','Avg_Medicare_ByZipDRG']\n",
    "benchmark.head()"
   ]
  },
  {
   "cell_type": "code",
   "execution_count": 62,
   "id": "76ca8f72",
   "metadata": {},
   "outputs": [
    {
     "data": {
      "text/plain": [
       "count    163065.000000\n",
       "mean          1.000000\n",
       "std           0.038675\n",
       "min           0.261737\n",
       "25%           1.000000\n",
       "50%           1.000000\n",
       "75%           1.000000\n",
       "max           1.782259\n",
       "Name: Avg_Medicare_ByZipDRG_ratio_amount, dtype: float64"
      ]
     },
     "execution_count": 62,
     "metadata": {},
     "output_type": "execute_result"
    }
   ],
   "source": [
    "# add the new feature average total discharges to the dataset \n",
    "df1 = pd.merge(df1, benchmark, how='left', on=['Provider_Zipcode','DRG'])\n",
    "# Feature 10: ratio of amount total medicare payment and average medicare payment by drg in a region and state\n",
    "df1['Avg_Medicare_ByZipDRG_ratio_amount'] = np.where(df1['Avg_Medicare_ByZipDRG']==0,0, df1['Average_Medicare_Payment'] / df1['Avg_Medicare_ByZipDRG'])\n",
    "df1['Avg_Medicare_ByZipDRG_ratio_amount'].describe()"
   ]
  },
  {
   "cell_type": "code",
   "execution_count": 63,
   "id": "16326da2",
   "metadata": {},
   "outputs": [
    {
     "data": {
      "text/plain": [
       "0"
      ]
     },
     "execution_count": 63,
     "metadata": {},
     "output_type": "execute_result"
    }
   ],
   "source": [
    "len(df1[df1['Avg_Medicare_ByZipDRG_ratio_amount']>2]['Provider_Name'].unique())"
   ]
  },
  {
   "cell_type": "code",
   "execution_count": 64,
   "id": "ec77e44b",
   "metadata": {},
   "outputs": [
    {
     "data": {
      "text/html": [
       "<div>\n",
       "<style scoped>\n",
       "    .dataframe tbody tr th:only-of-type {\n",
       "        vertical-align: middle;\n",
       "    }\n",
       "\n",
       "    .dataframe tbody tr th {\n",
       "        vertical-align: top;\n",
       "    }\n",
       "\n",
       "    .dataframe thead th {\n",
       "        text-align: right;\n",
       "    }\n",
       "</style>\n",
       "<table border=\"1\" class=\"dataframe\">\n",
       "  <thead>\n",
       "    <tr style=\"text-align: right;\">\n",
       "      <th></th>\n",
       "      <th>DRG</th>\n",
       "      <th>Provider_Id</th>\n",
       "      <th>Provider_Name</th>\n",
       "      <th>Provider_StreetAddress</th>\n",
       "      <th>Provider_City</th>\n",
       "      <th>Provider_State</th>\n",
       "      <th>Provider_Zipcode</th>\n",
       "      <th>Hospital_referral_region_desp</th>\n",
       "      <th>Total_Discharges</th>\n",
       "      <th>Average_Total_Payments</th>\n",
       "      <th>...</th>\n",
       "      <th>Avg_Discharges_ByRegionDRG</th>\n",
       "      <th>Avg_Discharges_ByRegionDRG_ratio_amount</th>\n",
       "      <th>Avg_Medicare_ByStateDRG</th>\n",
       "      <th>Avg_Medicare_ByStateDRG_ratio_amount</th>\n",
       "      <th>Avg_Medicare_ByCityDRG</th>\n",
       "      <th>Avg_Medicare_ByCityDRG_ratio_amount</th>\n",
       "      <th>Avg_Medicare_ByRegionDRG</th>\n",
       "      <th>Avg_Medicare_ByRegionDRG_ratio_amount</th>\n",
       "      <th>Avg_Medicare_ByZipDRG</th>\n",
       "      <th>Avg_Medicare_ByZipDRG_ratio_amount</th>\n",
       "    </tr>\n",
       "  </thead>\n",
       "  <tbody>\n",
       "    <tr>\n",
       "      <th>92330</th>\n",
       "      <td>377 - G.I. HEMORRHAGE W MCC</td>\n",
       "      <td>330350</td>\n",
       "      <td>UNIVERSITY HOSPITAL OF BROOKLYN ( DOWNSTATE )</td>\n",
       "      <td>445 LENOX ROAD</td>\n",
       "      <td>BROOKLYN</td>\n",
       "      <td>NY</td>\n",
       "      <td>11203</td>\n",
       "      <td>NY - Manhattan</td>\n",
       "      <td>25</td>\n",
       "      <td>61176.80</td>\n",
       "      <td>...</td>\n",
       "      <td>36.708333</td>\n",
       "      <td>0.681044</td>\n",
       "      <td>15243.649700</td>\n",
       "      <td>3.852510</td>\n",
       "      <td>23995.333846</td>\n",
       "      <td>2.447406</td>\n",
       "      <td>21198.882500</td>\n",
       "      <td>2.770255</td>\n",
       "      <td>32950.503333</td>\n",
       "      <td>1.782259</td>\n",
       "    </tr>\n",
       "    <tr>\n",
       "      <th>109462</th>\n",
       "      <td>460 - SPINAL FUSION EXCEPT CERVICAL W/O MCC</td>\n",
       "      <td>150166</td>\n",
       "      <td>PINNACLE HOSPITAL</td>\n",
       "      <td>9301 CONNECTICUT DR</td>\n",
       "      <td>CROWN POINT</td>\n",
       "      <td>IN</td>\n",
       "      <td>46307</td>\n",
       "      <td>IN - Gary</td>\n",
       "      <td>14</td>\n",
       "      <td>131187.35</td>\n",
       "      <td>...</td>\n",
       "      <td>19.833333</td>\n",
       "      <td>0.705882</td>\n",
       "      <td>25432.459231</td>\n",
       "      <td>5.129923</td>\n",
       "      <td>75055.705000</td>\n",
       "      <td>1.738263</td>\n",
       "      <td>41102.023333</td>\n",
       "      <td>3.174213</td>\n",
       "      <td>75055.705000</td>\n",
       "      <td>1.738263</td>\n",
       "    </tr>\n",
       "  </tbody>\n",
       "</table>\n",
       "<p>2 rows × 31 columns</p>\n",
       "</div>"
      ],
      "text/plain": [
       "                                                DRG Provider_Id  \\\n",
       "92330                   377 - G.I. HEMORRHAGE W MCC      330350   \n",
       "109462  460 - SPINAL FUSION EXCEPT CERVICAL W/O MCC      150166   \n",
       "\n",
       "                                        Provider_Name Provider_StreetAddress  \\\n",
       "92330   UNIVERSITY HOSPITAL OF BROOKLYN ( DOWNSTATE )         445 LENOX ROAD   \n",
       "109462                              PINNACLE HOSPITAL    9301 CONNECTICUT DR   \n",
       "\n",
       "       Provider_City Provider_State  Provider_Zipcode  \\\n",
       "92330       BROOKLYN             NY             11203   \n",
       "109462   CROWN POINT             IN             46307   \n",
       "\n",
       "       Hospital_referral_region_desp  Total_Discharges  \\\n",
       "92330                 NY - Manhattan                25   \n",
       "109462                     IN - Gary                14   \n",
       "\n",
       "        Average_Total_Payments  ...  Avg_Discharges_ByRegionDRG  \\\n",
       "92330                 61176.80  ...                   36.708333   \n",
       "109462               131187.35  ...                   19.833333   \n",
       "\n",
       "        Avg_Discharges_ByRegionDRG_ratio_amount  Avg_Medicare_ByStateDRG  \\\n",
       "92330                                  0.681044             15243.649700   \n",
       "109462                                 0.705882             25432.459231   \n",
       "\n",
       "        Avg_Medicare_ByStateDRG_ratio_amount  Avg_Medicare_ByCityDRG  \\\n",
       "92330                               3.852510            23995.333846   \n",
       "109462                              5.129923            75055.705000   \n",
       "\n",
       "        Avg_Medicare_ByCityDRG_ratio_amount  Avg_Medicare_ByRegionDRG  \\\n",
       "92330                              2.447406              21198.882500   \n",
       "109462                             1.738263              41102.023333   \n",
       "\n",
       "        Avg_Medicare_ByRegionDRG_ratio_amount  Avg_Medicare_ByZipDRG  \\\n",
       "92330                                2.770255           32950.503333   \n",
       "109462                               3.174213           75055.705000   \n",
       "\n",
       "        Avg_Medicare_ByZipDRG_ratio_amount  \n",
       "92330                             1.782259  \n",
       "109462                            1.738263  \n",
       "\n",
       "[2 rows x 31 columns]"
      ]
     },
     "execution_count": 64,
     "metadata": {},
     "output_type": "execute_result"
    }
   ],
   "source": [
    "df1[df1['Avg_Medicare_ByZipDRG_ratio_amount']>1.7].head()"
   ]
  },
  {
   "cell_type": "code",
   "execution_count": 65,
   "id": "35ea11d4",
   "metadata": {},
   "outputs": [
    {
     "data": {
      "text/plain": [
       "Index(['DRG', 'Provider_Id', 'Provider_Name', 'Provider_StreetAddress',\n",
       "       'Provider_City', 'Provider_State', 'Provider_Zipcode',\n",
       "       'Hospital_referral_region_desp', 'Total_Discharges',\n",
       "       'Average_Total_Payments', 'Average_Medicare_Payment',\n",
       "       'Avg_Payment_ByStateDRG', 'Avg_Payment_ByStateDRG_ratio_amount',\n",
       "       'Average_Payment_ByCityDRG', 'Average_Payment_ByCityDRG_ratio_amount',\n",
       "       'Avg_Payment_ByRegionDRG', 'Avg_Payment_ByRegionDRG_ratio_amount',\n",
       "       'Avg_Discharges_ByStateDRG', 'Avg_Discharges_ByStateDRG_ratio_amount',\n",
       "       'Avg_Discharges_ByCityDRG', 'Avg_Discharges_ByCityDRG_ratio_amount',\n",
       "       'Avg_Discharges_ByRegionDRG', 'Avg_Discharges_ByRegionDRG_ratio_amount',\n",
       "       'Avg_Medicare_ByStateDRG', 'Avg_Medicare_ByStateDRG_ratio_amount',\n",
       "       'Avg_Medicare_ByCityDRG', 'Avg_Medicare_ByCityDRG_ratio_amount',\n",
       "       'Avg_Medicare_ByRegionDRG', 'Avg_Medicare_ByRegionDRG_ratio_amount',\n",
       "       'Avg_Medicare_ByZipDRG', 'Avg_Medicare_ByZipDRG_ratio_amount'],\n",
       "      dtype='object')"
      ]
     },
     "execution_count": 65,
     "metadata": {},
     "output_type": "execute_result"
    }
   ],
   "source": [
    "df1.columns"
   ]
  },
  {
   "cell_type": "code",
   "execution_count": 66,
   "id": "c47e315d",
   "metadata": {},
   "outputs": [],
   "source": [
    "features = ['Avg_Payment_ByStateDRG_ratio_amount','Average_Payment_ByCityDRG_ratio_amount',\n",
    "            'Avg_Payment_ByRegionDRG_ratio_amount','Avg_Discharges_ByStateDRG_ratio_amount',\n",
    "            'Avg_Discharges_ByCityDRG_ratio_amount','Avg_Discharges_ByRegionDRG_ratio_amount',\n",
    "           'Avg_Medicare_ByStateDRG_ratio_amount','Avg_Medicare_ByCityDRG_ratio_amount',\n",
    "           'Avg_Medicare_ByRegionDRG_ratio_amount','Avg_Medicare_ByZipDRG_ratio_amount']"
   ]
  },
  {
   "cell_type": "markdown",
   "id": "eb787fa6",
   "metadata": {},
   "source": [
    "## Conclusion"
   ]
  },
  {
   "cell_type": "markdown",
   "id": "895d04d5",
   "metadata": {},
   "source": [
    "In the data preparation section, I imported and overviewed the shape and column names of the dataset, then I transformed data types into correct formats. After transforming the data types, In EDA section, I performed exploratory data analysis. To overview the distribution of outliers, I plotted the variable distributions. Another interesting finding is even though the number of hospital divisions in State Illinois and State Maryland are not ranking top in the State group bys, their hospital divisions rank the most when looking at the city group bys (Chicago and Baltimore).\n",
    "\n",
    "Now we have some understanding of the dataset and numbers. It is time to create features to measure the outliers in the feature engineering section. In this assignment, I created 10 features in ratios to detect anomalies. According to the distributions of the 10 features, we can double confirm the dataset has anomalies.\n",
    "\n",
    "The transaction aggregation strategy is used by incorporating a combination criteria when grouping transactions. Followed by calculating the average amount total discharges, average total payments and average medical payments to reveal some insights from the dataset.The thought process of these features is to determine the average ratios of one or more variables by dividing their average values by the actual amount. Hospital charges with low or average ratios are considered normal, while hospital charges with high ratios, meaning actual amounts significantly greater than average values, are flagged as potential fraud.\n",
    "\n",
    "#### Average Total Payments\n",
    "\n",
    "- Feature 1: State & DRG Total Payment average \n",
    "- Feature 2: City & DRG Total Payment average \n",
    "- Feature 3: Region & DRG Total Payment average\n",
    "\n",
    "According to the ratio, we are able to recognize how much higher and lower the spending amount of the individual hospital is compared to the Average Total Payment within the given state, city and region in each DRG category.\n",
    "\n",
    "\n",
    "#### Total Discharges\n",
    "\n",
    "- Feature 4:State & DRG Total Discharges average \n",
    "- Feature 5: City & DRG Total Discharges average \n",
    "- Feature 6: Region & DRG Total Discharges average \n",
    "\n",
    "According to the ratio, we are able to recognize how much higher and lower the total discharges of the individual hospital is compared to the Total Discharges within the given state, city and region in each DRG category.\n",
    "\n",
    "#### Medical Payment Average\n",
    "\n",
    "- Feature 7: State & DRG Total Discharges average \n",
    "- Feature 8: City & DRG Total Discharges average \n",
    "- Feature 9: Region & DRG Total Discharges average \n",
    "- Feature 10: Zipcode & DRG Total Discharges average \n",
    "\n",
    "According to the ratio, we are able to recognize how much higher and lower the spending amount of the individual hospital is compared to the Medical Payment Average within the given state, city and region in each DRG category. "
   ]
  },
  {
   "cell_type": "markdown",
   "id": "3ee2d131",
   "metadata": {},
   "source": [
    "## Section 4: Python Outlier Detection (PyOD) Autoencoder <a class=\"anchor\" id=\"Section_4\"></a>\n",
    "\n",
    "Autoencoders are widely applied in dimensionality reduction, image compression, image denosing and feature extraction.\n",
    "In an autoencoder, the number of neurons in the hidden layers shoulb be less than that of the input layers. This enables the hidden core layer to extract the essential information of the input values."
   ]
  },
  {
   "cell_type": "code",
   "execution_count": 67,
   "id": "c92acfed",
   "metadata": {},
   "outputs": [
    {
     "name": "stderr",
     "output_type": "stream",
     "text": [
      "2023-03-07 19:00:24.988879: I tensorflow/core/platform/cpu_feature_guard.cc:193] This TensorFlow binary is optimized with oneAPI Deep Neural Network Library (oneDNN) to use the following CPU instructions in performance-critical operations:  AVX2 FMA\n",
      "To enable them in other operations, rebuild TensorFlow with the appropriate compiler flags.\n"
     ]
    }
   ],
   "source": [
    "from pyod.models.auto_encoder import AutoEncoder"
   ]
  },
  {
   "cell_type": "code",
   "execution_count": 68,
   "id": "da897ce9",
   "metadata": {},
   "outputs": [],
   "source": [
    "# Selecting necessary features\n",
    "features2 = df1[features]"
   ]
  },
  {
   "cell_type": "markdown",
   "id": "464f0e62",
   "metadata": {},
   "source": [
    "### Autoencoder\n",
    "* You do not need the target variable to train the unsupervised learning model.\n",
    "* We will build three models: clf1 and clf2, and clf3\n",
    "* clf1 has hidden_neurons = [2, 2]\n",
    "* clf2 has hidden_neurons = [10, 2, 10]\n",
    "* clf3 has has hidden_neurons = [10, 5, 2, 5, 10]\n",
    "* The number of the hidden layers and the number of neutrons in a hidden layer: if there are too many hidden layers or too many neutrons, the model tends to overfit; otherwise the model tends to underfit.\n",
    "\n",
    "### Model 1"
   ]
  },
  {
   "cell_type": "code",
   "execution_count": 69,
   "id": "23760926",
   "metadata": {},
   "outputs": [
    {
     "name": "stdout",
     "output_type": "stream",
     "text": [
      "Model: \"sequential\"\n",
      "_________________________________________________________________\n",
      " Layer (type)                Output Shape              Param #   \n",
      "=================================================================\n",
      " dense (Dense)               (None, 10)                110       \n",
      "                                                                 \n",
      " dropout (Dropout)           (None, 10)                0         \n",
      "                                                                 \n",
      " dense_1 (Dense)             (None, 10)                110       \n",
      "                                                                 \n",
      " dropout_1 (Dropout)         (None, 10)                0         \n",
      "                                                                 \n",
      " dense_2 (Dense)             (None, 2)                 22        \n",
      "                                                                 \n",
      " dropout_2 (Dropout)         (None, 2)                 0         \n",
      "                                                                 \n",
      " dense_3 (Dense)             (None, 2)                 6         \n",
      "                                                                 \n",
      " dropout_3 (Dropout)         (None, 2)                 0         \n",
      "                                                                 \n",
      " dense_4 (Dense)             (None, 10)                30        \n",
      "                                                                 \n",
      "=================================================================\n",
      "Total params: 278\n",
      "Trainable params: 278\n",
      "Non-trainable params: 0\n",
      "_________________________________________________________________\n"
     ]
    },
    {
     "name": "stderr",
     "output_type": "stream",
     "text": [
      "2023-03-07 19:00:32.765852: I tensorflow/core/platform/cpu_feature_guard.cc:193] This TensorFlow binary is optimized with oneAPI Deep Neural Network Library (oneDNN) to use the following CPU instructions in performance-critical operations:  AVX2 FMA\n",
      "To enable them in other operations, rebuild TensorFlow with the appropriate compiler flags.\n"
     ]
    },
    {
     "name": "stdout",
     "output_type": "stream",
     "text": [
      "None\n",
      "Epoch 1/100\n",
      "4587/4587 [==============================] - 7s 1ms/step - loss: 1.1108 - val_loss: 1.0073\n",
      "Epoch 2/100\n",
      "4587/4587 [==============================] - 6s 1ms/step - loss: 1.0029 - val_loss: 0.9954\n",
      "Epoch 3/100\n",
      "4587/4587 [==============================] - 5s 1ms/step - loss: 0.9972 - val_loss: 0.9839\n",
      "Epoch 4/100\n",
      "4587/4587 [==============================] - 5s 1ms/step - loss: 0.9932 - val_loss: 0.9701\n",
      "Epoch 5/100\n",
      "4587/4587 [==============================] - 5s 1ms/step - loss: 0.9901 - val_loss: 0.9620\n",
      "Epoch 6/100\n",
      "4587/4587 [==============================] - 5s 1ms/step - loss: 0.9881 - val_loss: 0.9591\n",
      "Epoch 7/100\n",
      "4587/4587 [==============================] - 5s 1ms/step - loss: 0.9859 - val_loss: 0.9560\n",
      "Epoch 8/100\n",
      "4587/4587 [==============================] - 5s 1ms/step - loss: 0.9860 - val_loss: 0.9559\n",
      "Epoch 9/100\n",
      "4587/4587 [==============================] - 5s 1ms/step - loss: 0.9957 - val_loss: 1.0050\n",
      "Epoch 10/100\n",
      "4587/4587 [==============================] - 5s 1ms/step - loss: 1.0008 - val_loss: 1.0046\n",
      "Epoch 11/100\n",
      "4587/4587 [==============================] - 6s 1ms/step - loss: 1.0000 - val_loss: 1.0043\n",
      "Epoch 12/100\n",
      "4587/4587 [==============================] - 5s 1ms/step - loss: 0.9998 - val_loss: 1.0043\n",
      "Epoch 13/100\n",
      "4587/4587 [==============================] - 6s 1ms/step - loss: 0.9997 - val_loss: 1.0042\n",
      "Epoch 14/100\n",
      "4587/4587 [==============================] - 6s 1ms/step - loss: 0.9996 - val_loss: 1.0042\n",
      "Epoch 15/100\n",
      "4587/4587 [==============================] - 6s 1ms/step - loss: 0.9996 - val_loss: 1.0042\n",
      "Epoch 16/100\n",
      "4587/4587 [==============================] - 5s 1ms/step - loss: 0.9996 - val_loss: 1.0042\n",
      "Epoch 17/100\n",
      "4587/4587 [==============================] - 5s 1ms/step - loss: 0.9996 - val_loss: 1.0042\n",
      "Epoch 18/100\n",
      "4587/4587 [==============================] - 6s 1ms/step - loss: 0.9996 - val_loss: 1.0042\n",
      "Epoch 19/100\n",
      "4587/4587 [==============================] - 6s 1ms/step - loss: 0.9995 - val_loss: 1.0042\n",
      "Epoch 20/100\n",
      "4587/4587 [==============================] - 6s 1ms/step - loss: 0.9995 - val_loss: 1.0042\n",
      "Epoch 21/100\n",
      "4587/4587 [==============================] - 5s 1ms/step - loss: 0.9995 - val_loss: 1.0042\n",
      "Epoch 22/100\n",
      "4587/4587 [==============================] - 6s 1ms/step - loss: 0.9995 - val_loss: 1.0042\n",
      "Epoch 23/100\n",
      "4587/4587 [==============================] - 6s 1ms/step - loss: 0.9995 - val_loss: 1.0042\n",
      "Epoch 24/100\n",
      "4587/4587 [==============================] - 6s 1ms/step - loss: 0.9995 - val_loss: 1.0042\n",
      "Epoch 25/100\n",
      "4587/4587 [==============================] - 6s 1ms/step - loss: 0.9995 - val_loss: 1.0042\n",
      "Epoch 26/100\n",
      "4587/4587 [==============================] - 5s 1ms/step - loss: 0.9995 - val_loss: 1.0042\n",
      "Epoch 27/100\n",
      "4587/4587 [==============================] - 5s 1ms/step - loss: 0.9995 - val_loss: 1.0042\n",
      "Epoch 28/100\n",
      "4587/4587 [==============================] - 5s 1ms/step - loss: 0.9995 - val_loss: 1.0042\n",
      "Epoch 29/100\n",
      "4587/4587 [==============================] - 5s 1ms/step - loss: 0.9995 - val_loss: 1.0042\n",
      "Epoch 30/100\n",
      "4587/4587 [==============================] - 6s 1ms/step - loss: 0.9995 - val_loss: 1.0042\n",
      "Epoch 31/100\n",
      "4587/4587 [==============================] - 5s 1ms/step - loss: 0.9995 - val_loss: 1.0042\n",
      "Epoch 32/100\n",
      "4587/4587 [==============================] - 5s 1ms/step - loss: 0.9995 - val_loss: 1.0042\n",
      "Epoch 33/100\n",
      "4587/4587 [==============================] - 5s 1ms/step - loss: 0.9995 - val_loss: 1.0042\n",
      "Epoch 34/100\n",
      "4587/4587 [==============================] - 7s 2ms/step - loss: 0.9995 - val_loss: 1.0042\n",
      "Epoch 35/100\n",
      "4587/4587 [==============================] - 6s 1ms/step - loss: 0.9995 - val_loss: 1.0042\n",
      "Epoch 36/100\n",
      "4587/4587 [==============================] - 5s 1ms/step - loss: 0.9995 - val_loss: 1.0042\n",
      "Epoch 37/100\n",
      "4587/4587 [==============================] - 6s 1ms/step - loss: 0.9995 - val_loss: 1.0042\n",
      "Epoch 38/100\n",
      "4587/4587 [==============================] - 5s 1ms/step - loss: 0.9995 - val_loss: 1.0042\n",
      "Epoch 39/100\n",
      "4587/4587 [==============================] - 5s 1ms/step - loss: 0.9995 - val_loss: 1.0042\n",
      "Epoch 40/100\n",
      "4587/4587 [==============================] - 6s 1ms/step - loss: 0.9995 - val_loss: 1.0042\n",
      "Epoch 41/100\n",
      "4587/4587 [==============================] - 5s 1ms/step - loss: 0.9995 - val_loss: 1.0042\n",
      "Epoch 42/100\n",
      "4587/4587 [==============================] - 6s 1ms/step - loss: 0.9995 - val_loss: 1.0042\n",
      "Epoch 43/100\n",
      "4587/4587 [==============================] - 5s 1ms/step - loss: 0.9995 - val_loss: 1.0042\n",
      "Epoch 44/100\n",
      "4587/4587 [==============================] - 5s 1ms/step - loss: 0.9995 - val_loss: 1.0042\n",
      "Epoch 45/100\n",
      "4587/4587 [==============================] - 5s 1ms/step - loss: 0.9995 - val_loss: 1.0042\n",
      "Epoch 46/100\n",
      "4587/4587 [==============================] - 5s 1ms/step - loss: 0.9995 - val_loss: 1.0042\n",
      "Epoch 47/100\n",
      "4587/4587 [==============================] - 5s 1ms/step - loss: 0.9995 - val_loss: 1.0042\n",
      "Epoch 48/100\n",
      "4587/4587 [==============================] - 5s 1ms/step - loss: 0.9995 - val_loss: 1.0042\n",
      "Epoch 49/100\n",
      "4587/4587 [==============================] - 5s 1ms/step - loss: 0.9995 - val_loss: 1.0042\n",
      "Epoch 50/100\n",
      "4587/4587 [==============================] - 5s 1ms/step - loss: 0.9995 - val_loss: 1.0042\n",
      "Epoch 51/100\n",
      "4587/4587 [==============================] - 5s 1ms/step - loss: 0.9995 - val_loss: 1.0042\n",
      "Epoch 52/100\n",
      "4587/4587 [==============================] - 6s 1ms/step - loss: 0.9995 - val_loss: 1.0042\n",
      "Epoch 53/100\n",
      "4587/4587 [==============================] - 5s 1ms/step - loss: 0.9995 - val_loss: 1.0042\n",
      "Epoch 54/100\n",
      "4587/4587 [==============================] - 5s 1ms/step - loss: 0.9995 - val_loss: 1.0042\n",
      "Epoch 55/100\n",
      "4587/4587 [==============================] - 5s 1ms/step - loss: 0.9995 - val_loss: 1.0042\n",
      "Epoch 56/100\n",
      "4587/4587 [==============================] - 5s 1ms/step - loss: 0.9995 - val_loss: 1.0042\n",
      "Epoch 57/100\n",
      "4587/4587 [==============================] - 6s 1ms/step - loss: 0.9995 - val_loss: 1.0042\n",
      "Epoch 58/100\n",
      "4587/4587 [==============================] - 6s 1ms/step - loss: 0.9995 - val_loss: 1.0042\n",
      "Epoch 59/100\n",
      "4587/4587 [==============================] - 6s 1ms/step - loss: 0.9995 - val_loss: 1.0042\n",
      "Epoch 60/100\n",
      "4587/4587 [==============================] - 5s 1ms/step - loss: 0.9995 - val_loss: 1.0042\n",
      "Epoch 61/100\n",
      "4587/4587 [==============================] - 6s 1ms/step - loss: 0.9995 - val_loss: 1.0042\n",
      "Epoch 62/100\n",
      "4587/4587 [==============================] - 6s 1ms/step - loss: 0.9995 - val_loss: 1.0042\n",
      "Epoch 63/100\n",
      "4587/4587 [==============================] - 6s 1ms/step - loss: 0.9995 - val_loss: 1.0042\n",
      "Epoch 64/100\n",
      "4587/4587 [==============================] - 6s 1ms/step - loss: 0.9995 - val_loss: 1.0042\n",
      "Epoch 65/100\n",
      "4587/4587 [==============================] - 6s 1ms/step - loss: 0.9995 - val_loss: 1.0042\n",
      "Epoch 66/100\n",
      "4587/4587 [==============================] - 6s 1ms/step - loss: 0.9995 - val_loss: 1.0042\n",
      "Epoch 67/100\n",
      "4587/4587 [==============================] - 5s 1ms/step - loss: 0.9995 - val_loss: 1.0042\n",
      "Epoch 68/100\n",
      "4587/4587 [==============================] - 5s 1ms/step - loss: 0.9995 - val_loss: 1.0042\n",
      "Epoch 69/100\n",
      "4587/4587 [==============================] - 5s 1ms/step - loss: 0.9995 - val_loss: 1.0042\n",
      "Epoch 70/100\n",
      "4587/4587 [==============================] - 5s 1ms/step - loss: 0.9995 - val_loss: 1.0042\n",
      "Epoch 71/100\n",
      "4587/4587 [==============================] - 5s 1ms/step - loss: 0.9995 - val_loss: 1.0042\n",
      "Epoch 72/100\n",
      "4587/4587 [==============================] - 6s 1ms/step - loss: 0.9995 - val_loss: 1.0042\n",
      "Epoch 73/100\n",
      "4587/4587 [==============================] - 5s 1ms/step - loss: 0.9995 - val_loss: 1.0042\n",
      "Epoch 74/100\n",
      "4587/4587 [==============================] - 5s 1ms/step - loss: 0.9995 - val_loss: 1.0042\n",
      "Epoch 75/100\n",
      "4587/4587 [==============================] - 6s 1ms/step - loss: 0.9995 - val_loss: 1.0042\n",
      "Epoch 76/100\n",
      "4587/4587 [==============================] - 5s 1ms/step - loss: 0.9995 - val_loss: 1.0042\n",
      "Epoch 77/100\n",
      "4587/4587 [==============================] - 5s 1ms/step - loss: 0.9995 - val_loss: 1.0042\n",
      "Epoch 78/100\n",
      "4587/4587 [==============================] - 5s 1ms/step - loss: 0.9995 - val_loss: 1.0042\n",
      "Epoch 79/100\n",
      "4587/4587 [==============================] - 5s 1ms/step - loss: 0.9995 - val_loss: 1.0042\n",
      "Epoch 80/100\n",
      "4587/4587 [==============================] - 5s 1ms/step - loss: 0.9995 - val_loss: 1.0042\n",
      "Epoch 81/100\n",
      "4587/4587 [==============================] - 5s 1ms/step - loss: 0.9995 - val_loss: 1.0042\n",
      "Epoch 82/100\n",
      "4587/4587 [==============================] - 5s 1ms/step - loss: 0.9995 - val_loss: 1.0042\n",
      "Epoch 83/100\n",
      "4587/4587 [==============================] - 5s 1ms/step - loss: 0.9995 - val_loss: 1.0042\n",
      "Epoch 84/100\n",
      "4587/4587 [==============================] - 5s 1ms/step - loss: 0.9995 - val_loss: 1.0042\n",
      "Epoch 85/100\n",
      "4587/4587 [==============================] - 6s 1ms/step - loss: 0.9995 - val_loss: 1.0042\n",
      "Epoch 86/100\n",
      "4587/4587 [==============================] - 6s 1ms/step - loss: 0.9995 - val_loss: 1.0042\n",
      "Epoch 87/100\n",
      "4587/4587 [==============================] - 6s 1ms/step - loss: 0.9995 - val_loss: 1.0042\n",
      "Epoch 88/100\n",
      "4587/4587 [==============================] - 5s 1ms/step - loss: 0.9995 - val_loss: 1.0042\n",
      "Epoch 89/100\n",
      "4587/4587 [==============================] - 5s 1ms/step - loss: 0.9995 - val_loss: 1.0042\n",
      "Epoch 90/100\n",
      "4587/4587 [==============================] - 6s 1ms/step - loss: 0.9995 - val_loss: 1.0042\n",
      "Epoch 91/100\n",
      "4587/4587 [==============================] - 5s 1ms/step - loss: 0.9995 - val_loss: 1.0042\n",
      "Epoch 92/100\n",
      "4587/4587 [==============================] - 5s 1ms/step - loss: 0.9995 - val_loss: 1.0042\n",
      "Epoch 93/100\n",
      "4587/4587 [==============================] - 5s 1ms/step - loss: 0.9995 - val_loss: 1.0042\n",
      "Epoch 94/100\n",
      "4587/4587 [==============================] - 6s 1ms/step - loss: 0.9995 - val_loss: 1.0042\n",
      "Epoch 95/100\n",
      "4587/4587 [==============================] - 6s 1ms/step - loss: 0.9995 - val_loss: 1.0042\n",
      "Epoch 96/100\n",
      "4587/4587 [==============================] - 5s 1ms/step - loss: 0.9995 - val_loss: 1.0042\n",
      "Epoch 97/100\n",
      "4587/4587 [==============================] - 5s 1ms/step - loss: 0.9995 - val_loss: 1.0042\n",
      "Epoch 98/100\n",
      "4587/4587 [==============================] - 5s 1ms/step - loss: 0.9995 - val_loss: 1.0042\n",
      "Epoch 99/100\n",
      "4587/4587 [==============================] - 5s 1ms/step - loss: 0.9995 - val_loss: 1.0042\n",
      "Epoch 100/100\n",
      "4587/4587 [==============================] - 5s 1ms/step - loss: 0.9995 - val_loss: 1.0042\n",
      "5096/5096 [==============================] - 4s 690us/step\n"
     ]
    },
    {
     "data": {
      "text/plain": [
       "AutoEncoder(batch_size=32, contamination=0.05, dropout_rate=0.2, epochs=100,\n",
       "      hidden_activation='relu', hidden_neurons=[2, 2], l2_regularizer=0.1,\n",
       "      loss=<function mean_squared_error at 0x7fba93682280>,\n",
       "      optimizer='adam', output_activation='sigmoid', preprocessing=True,\n",
       "      random_state=None, validation_size=0.1, verbose=1)"
      ]
     },
     "execution_count": 69,
     "metadata": {},
     "output_type": "execute_result"
    }
   ],
   "source": [
    "clf1 = AutoEncoder(contamination=0.05, hidden_neurons =[2, 2])\n",
    "clf1.fit(features2)"
   ]
  },
  {
   "cell_type": "code",
   "execution_count": 70,
   "id": "b8f2bc58",
   "metadata": {},
   "outputs": [
    {
     "data": {
      "text/plain": [
       "{'batch_size': 32,\n",
       " 'contamination': 0.05,\n",
       " 'dropout_rate': 0.2,\n",
       " 'epochs': 100,\n",
       " 'hidden_activation': 'relu',\n",
       " 'hidden_neurons': [2, 2],\n",
       " 'l2_regularizer': 0.1,\n",
       " 'loss': <function keras.losses.mean_squared_error(y_true, y_pred)>,\n",
       " 'optimizer': 'adam',\n",
       " 'output_activation': 'sigmoid',\n",
       " 'preprocessing': True,\n",
       " 'random_state': None,\n",
       " 'validation_size': 0.1,\n",
       " 'verbose': 1}"
      ]
     },
     "execution_count": 70,
     "metadata": {},
     "output_type": "execute_result"
    }
   ],
   "source": [
    "# Hyper-parameter Tunning\n",
    "clf1.get_params()"
   ]
  },
  {
   "cell_type": "code",
   "execution_count": 71,
   "id": "93c37d24",
   "metadata": {},
   "outputs": [
    {
     "name": "stdout",
     "output_type": "stream",
     "text": [
      "5096/5096 [==============================] - 4s 756us/step\n"
     ]
    }
   ],
   "source": [
    "# clf.decision_function: Predict raw anomaly score of X using the fitted detector.\n",
    "y_clf1_scores = clf1.decision_function(features2)  # outlier scores\n",
    "y_clf1_scores = pd.Series(y_clf1_scores)"
   ]
  },
  {
   "cell_type": "code",
   "execution_count": 72,
   "id": "71077e0d",
   "metadata": {},
   "outputs": [
    {
     "name": "stdout",
     "output_type": "stream",
     "text": [
      "5096/5096 [==============================] - 4s 688us/step\n"
     ]
    }
   ],
   "source": [
    "# get the prediction on the  data\n",
    "y_clf1_pred = clf1.predict(features2) \n",
    "y_clf1_pred = pd.Series(y_clf1_pred)"
   ]
  },
  {
   "cell_type": "markdown",
   "id": "fea6f07f",
   "metadata": {},
   "source": [
    "#### Determine the threshold"
   ]
  },
  {
   "cell_type": "code",
   "execution_count": 73,
   "id": "f9a52e0c",
   "metadata": {},
   "outputs": [
    {
     "name": "stdout",
     "output_type": "stream",
     "text": [
      "The threshold for the defined contamination rate: 6.1793582757119205\n"
     ]
    }
   ],
   "source": [
    "# Threshold for the defined comtanimation rate\n",
    "print(\"The threshold for the defined contamination rate:\" , clf1.threshold_)"
   ]
  },
  {
   "cell_type": "code",
   "execution_count": 74,
   "id": "f565f0ba",
   "metadata": {},
   "outputs": [
    {
     "name": "stdout",
     "output_type": "stream",
     "text": [
      "The data: {0: 154911, 1: 8154}\n"
     ]
    }
   ],
   "source": [
    "def count_stat(vector):\n",
    "    # Because it is '0' and '1', we can run a count statistic. \n",
    "    unique, counts = np.unique(vector, return_counts=True)\n",
    "    return dict(zip(unique, counts))\n",
    "\n",
    "print(\"The data:\", count_stat(y_clf1_pred))"
   ]
  },
  {
   "cell_type": "code",
   "execution_count": 75,
   "id": "aa6ef544",
   "metadata": {},
   "outputs": [
    {
     "data": {
      "text/plain": [
       "0    154911\n",
       "1      8154\n",
       "dtype: int64"
      ]
     },
     "execution_count": 75,
     "metadata": {},
     "output_type": "execute_result"
    }
   ],
   "source": [
    "y_clf1_pred.value_counts()"
   ]
  },
  {
   "cell_type": "code",
   "execution_count": 76,
   "id": "98c8fb9b",
   "metadata": {},
   "outputs": [
    {
     "data": {
      "image/png": "[encoded data removed]",
      "text/plain": [
       "<Figure size 432x288 with 1 Axes>"
      ]
     },
     "metadata": {
      "needs_background": "light"
     },
     "output_type": "display_data"
    }
   ],
   "source": [
    "# We can use the histogram to see the threshold\n",
    "import matplotlib.pyplot as plt\n",
    "plt.hist(y_clf1_scores, bins='auto')  # arguments are passed to np.histogram\n",
    "plt.title(\"Histogram for Model Clf1 Anomaly Scores\")\n",
    "plt.show()"
   ]
  },
  {
   "cell_type": "markdown",
   "id": "55b9bab6",
   "metadata": {},
   "source": [
    "The threshold is to be determined by the histogram of the outlier scores. The chart below suggests a threshold around 10. This means the outlier scores of most of the normal data are less than 10. The outlier scores of the abnormal data are in the high range."
   ]
  },
  {
   "cell_type": "markdown",
   "id": "75a23eb2",
   "metadata": {},
   "source": [
    "#### Present the descriptive statistics of the normal and the abnormal groups"
   ]
  },
  {
   "cell_type": "code",
   "execution_count": 77,
   "id": "7faa41cc",
   "metadata": {},
   "outputs": [
    {
     "data": {
      "text/html": [
       "<div>\n",
       "<style scoped>\n",
       "    .dataframe tbody tr th:only-of-type {\n",
       "        vertical-align: middle;\n",
       "    }\n",
       "\n",
       "    .dataframe tbody tr th {\n",
       "        vertical-align: top;\n",
       "    }\n",
       "\n",
       "    .dataframe thead th {\n",
       "        text-align: right;\n",
       "    }\n",
       "</style>\n",
       "<table border=\"1\" class=\"dataframe\">\n",
       "  <thead>\n",
       "    <tr style=\"text-align: right;\">\n",
       "      <th></th>\n",
       "      <th>Group</th>\n",
       "      <th>Count</th>\n",
       "      <th>Count %</th>\n",
       "      <th>Avg_Payment_ByStateDRG_ratio_amount</th>\n",
       "      <th>Average_Payment_ByCityDRG_ratio_amount</th>\n",
       "      <th>Avg_Payment_ByRegionDRG_ratio_amount</th>\n",
       "      <th>Avg_Discharges_ByStateDRG_ratio_amount</th>\n",
       "      <th>Avg_Discharges_ByCityDRG_ratio_amount</th>\n",
       "      <th>Avg_Discharges_ByRegionDRG_ratio_amount</th>\n",
       "      <th>Avg_Medicare_ByStateDRG_ratio_amount</th>\n",
       "      <th>Avg_Medicare_ByCityDRG_ratio_amount</th>\n",
       "      <th>Avg_Medicare_ByRegionDRG_ratio_amount</th>\n",
       "      <th>Avg_Medicare_ByZipDRG_ratio_amount</th>\n",
       "      <th>Anomaly_Score</th>\n",
       "    </tr>\n",
       "  </thead>\n",
       "  <tbody>\n",
       "    <tr>\n",
       "      <th>0</th>\n",
       "      <td>Normal</td>\n",
       "      <td>154911</td>\n",
       "      <td>94.99954</td>\n",
       "      <td>0.98</td>\n",
       "      <td>1.00</td>\n",
       "      <td>0.98</td>\n",
       "      <td>0.96</td>\n",
       "      <td>0.99</td>\n",
       "      <td>0.97</td>\n",
       "      <td>0.98</td>\n",
       "      <td>0.99</td>\n",
       "      <td>0.98</td>\n",
       "      <td>1.00</td>\n",
       "      <td>2.22</td>\n",
       "    </tr>\n",
       "    <tr>\n",
       "      <th>1</th>\n",
       "      <td>Outlier</td>\n",
       "      <td>8154</td>\n",
       "      <td>5.00046</td>\n",
       "      <td>1.41</td>\n",
       "      <td>1.26</td>\n",
       "      <td>1.33</td>\n",
       "      <td>1.70</td>\n",
       "      <td>1.27</td>\n",
       "      <td>1.60</td>\n",
       "      <td>1.44</td>\n",
       "      <td>1.21</td>\n",
       "      <td>1.35</td>\n",
       "      <td>1.02</td>\n",
       "      <td>8.52</td>\n",
       "    </tr>\n",
       "  </tbody>\n",
       "</table>\n",
       "</div>"
      ],
      "text/plain": [
       "     Group   Count   Count %  Avg_Payment_ByStateDRG_ratio_amount  \\\n",
       "0   Normal  154911  94.99954                                 0.98   \n",
       "1  Outlier    8154   5.00046                                 1.41   \n",
       "\n",
       "   Average_Payment_ByCityDRG_ratio_amount  \\\n",
       "0                                    1.00   \n",
       "1                                    1.26   \n",
       "\n",
       "   Avg_Payment_ByRegionDRG_ratio_amount  \\\n",
       "0                                  0.98   \n",
       "1                                  1.33   \n",
       "\n",
       "   Avg_Discharges_ByStateDRG_ratio_amount  \\\n",
       "0                                    0.96   \n",
       "1                                    1.70   \n",
       "\n",
       "   Avg_Discharges_ByCityDRG_ratio_amount  \\\n",
       "0                                   0.99   \n",
       "1                                   1.27   \n",
       "\n",
       "   Avg_Discharges_ByRegionDRG_ratio_amount  \\\n",
       "0                                     0.97   \n",
       "1                                     1.60   \n",
       "\n",
       "   Avg_Medicare_ByStateDRG_ratio_amount  Avg_Medicare_ByCityDRG_ratio_amount  \\\n",
       "0                                  0.98                                 0.99   \n",
       "1                                  1.44                                 1.21   \n",
       "\n",
       "   Avg_Medicare_ByRegionDRG_ratio_amount  Avg_Medicare_ByZipDRG_ratio_amount  \\\n",
       "0                                   0.98                                1.00   \n",
       "1                                   1.35                                1.02   \n",
       "\n",
       "   Anomaly_Score  \n",
       "0           2.22  \n",
       "1           8.52  "
      ]
     },
     "execution_count": 77,
     "metadata": {},
     "output_type": "execute_result"
    }
   ],
   "source": [
    "# Here we used the threshold calculated by the function:\n",
    "threshold = clf1.threshold_\n",
    "\n",
    "\n",
    "def descriptive_stat_threshold(df,pred_score, threshold):\n",
    "    # Let's see how many '0's and '1's.\n",
    "    df = pd.DataFrame(df)\n",
    "    df['Anomaly_Score'] = pred_score\n",
    "    df['Group'] = np.where(df['Anomaly_Score']< threshold, 'Normal', 'Outlier')\n",
    "\n",
    "    # Now let's show the summary statistics:\n",
    "    cnt = df.groupby('Group')['Anomaly_Score'].count().reset_index().rename(columns={'Anomaly_Score':'Count'})\n",
    "    cnt['Count %'] = (cnt['Count'] / cnt['Count'].sum()) * 100 # The count and count %\n",
    "    stat = df.groupby('Group').mean().round(2).reset_index() # The avg.\n",
    "    stat = cnt.merge(stat, left_on='Group',right_on='Group') # Put the count and the avg. together\n",
    "    return (stat)\n",
    "\n",
    "descriptive_stat_threshold(features2,y_clf1_scores, threshold)"
   ]
  },
  {
   "cell_type": "markdown",
   "id": "648abd64",
   "metadata": {},
   "source": [
    "The table presents the characteristics of the normal and abnormal groups. It shows the count and count percentage of the normal and outlier groups. \n",
    "\n",
    "- The size of the outlier group: The outlier group is about 5%. Remember the size of the outlier group is determined by the threshold. The size will shrink if you choose a higher value for the threshold.\n",
    "- The average anomaly score: The average outlier score of the outlier group is far higher than that of the normal group (8.52 > 2.22). This evidence just verifies the data in the outlier group are outliers. At this point, you do not need to interpret too much on the scores.\n",
    "- The feature statistics in each group: The means of the features in the outlier group are larger than those of the normal group. A high average ratio of payment/discharges features, that is more than the average values, could suggest fraudulent behaviour."
   ]
  },
  {
   "cell_type": "markdown",
   "id": "1acce839",
   "metadata": {},
   "source": [
    "#### Evaluate the model performance\n",
    "\n",
    "The confusion matrix proves the model does a decent job and identifies all 8154 outliers."
   ]
  },
  {
   "cell_type": "code",
   "execution_count": 78,
   "id": "2e4bf352",
   "metadata": {},
   "outputs": [
    {
     "data": {
      "text/html": [
       "<div>\n",
       "<style scoped>\n",
       "    .dataframe tbody tr th:only-of-type {\n",
       "        vertical-align: middle;\n",
       "    }\n",
       "\n",
       "    .dataframe tbody tr th {\n",
       "        vertical-align: top;\n",
       "    }\n",
       "\n",
       "    .dataframe thead th {\n",
       "        text-align: right;\n",
       "    }\n",
       "</style>\n",
       "<table border=\"1\" class=\"dataframe\">\n",
       "  <thead>\n",
       "    <tr style=\"text-align: right;\">\n",
       "      <th>Pred</th>\n",
       "      <th>0</th>\n",
       "      <th>1</th>\n",
       "    </tr>\n",
       "    <tr>\n",
       "      <th>Actual</th>\n",
       "      <th></th>\n",
       "      <th></th>\n",
       "    </tr>\n",
       "  </thead>\n",
       "  <tbody>\n",
       "    <tr>\n",
       "      <th>0</th>\n",
       "      <td>154911</td>\n",
       "      <td>0</td>\n",
       "    </tr>\n",
       "    <tr>\n",
       "      <th>1</th>\n",
       "      <td>0</td>\n",
       "      <td>8154</td>\n",
       "    </tr>\n",
       "  </tbody>\n",
       "</table>\n",
       "</div>"
      ],
      "text/plain": [
       "Pred         0     1\n",
       "Actual              \n",
       "0       154911     0\n",
       "1            0  8154"
      ]
     },
     "execution_count": 78,
     "metadata": {},
     "output_type": "execute_result"
    }
   ],
   "source": [
    "# Confusion Matrix\n",
    "def confusion_matrix(actual,score, threshold):\n",
    "    Actual_pred = pd.DataFrame({'Actual': actual, 'Pred': score})\n",
    "    Actual_pred['Pred'] = np.where(Actual_pred['Pred']<=threshold,0,1)\n",
    "    cm = pd.crosstab(Actual_pred['Actual'],Actual_pred['Pred'])\n",
    "    return (cm)\n",
    "confusion_matrix(y_clf1_pred, y_clf1_scores,threshold)"
   ]
  },
  {
   "cell_type": "markdown",
   "id": "890da69f",
   "metadata": {},
   "source": [
    "### Model 2"
   ]
  },
  {
   "cell_type": "code",
   "execution_count": 79,
   "id": "b0ac4a41",
   "metadata": {},
   "outputs": [],
   "source": [
    "# Selecting necessary features\n",
    "features2 = df1[features]"
   ]
  },
  {
   "cell_type": "code",
   "execution_count": 80,
   "id": "607575f9",
   "metadata": {},
   "outputs": [
    {
     "name": "stdout",
     "output_type": "stream",
     "text": [
      "Model: \"sequential_1\"\n",
      "_________________________________________________________________\n",
      " Layer (type)                Output Shape              Param #   \n",
      "=================================================================\n",
      " dense_5 (Dense)             (None, 10)                110       \n",
      "                                                                 \n",
      " dropout_4 (Dropout)         (None, 10)                0         \n",
      "                                                                 \n",
      " dense_6 (Dense)             (None, 10)                110       \n",
      "                                                                 \n",
      " dropout_5 (Dropout)         (None, 10)                0         \n",
      "                                                                 \n",
      " dense_7 (Dense)             (None, 10)                110       \n",
      "                                                                 \n",
      " dropout_6 (Dropout)         (None, 10)                0         \n",
      "                                                                 \n",
      " dense_8 (Dense)             (None, 2)                 22        \n",
      "                                                                 \n",
      " dropout_7 (Dropout)         (None, 2)                 0         \n",
      "                                                                 \n",
      " dense_9 (Dense)             (None, 10)                30        \n",
      "                                                                 \n",
      " dropout_8 (Dropout)         (None, 10)                0         \n",
      "                                                                 \n",
      " dense_10 (Dense)            (None, 10)                110       \n",
      "                                                                 \n",
      "=================================================================\n",
      "Total params: 492\n",
      "Trainable params: 492\n",
      "Non-trainable params: 0\n",
      "_________________________________________________________________\n",
      "None\n",
      "Epoch 1/100\n",
      "4587/4587 [==============================] - 7s 1ms/step - loss: 1.1313 - val_loss: 1.0266\n",
      "Epoch 2/100\n",
      "4587/4587 [==============================] - 6s 1ms/step - loss: 1.0055 - val_loss: 1.0148\n",
      "Epoch 3/100\n",
      "4587/4587 [==============================] - 6s 1ms/step - loss: 0.9998 - val_loss: 1.0132\n",
      "Epoch 4/100\n",
      "4587/4587 [==============================] - 6s 1ms/step - loss: 0.9989 - val_loss: 1.0130\n",
      "Epoch 5/100\n",
      "4587/4587 [==============================] - 6s 1ms/step - loss: 0.9987 - val_loss: 1.0129\n",
      "Epoch 6/100\n",
      "4587/4587 [==============================] - 7s 1ms/step - loss: 0.9986 - val_loss: 1.0129\n",
      "Epoch 7/100\n",
      "4587/4587 [==============================] - 6s 1ms/step - loss: 0.9986 - val_loss: 1.0128\n",
      "Epoch 8/100\n",
      "4587/4587 [==============================] - 6s 1ms/step - loss: 0.9986 - val_loss: 1.0128\n",
      "Epoch 9/100\n",
      "4587/4587 [==============================] - 6s 1ms/step - loss: 0.9986 - val_loss: 1.0128\n",
      "Epoch 10/100\n",
      "4587/4587 [==============================] - 6s 1ms/step - loss: 0.9986 - val_loss: 1.0128\n",
      "Epoch 11/100\n",
      "4587/4587 [==============================] - 6s 1ms/step - loss: 0.9986 - val_loss: 1.0128\n",
      "Epoch 12/100\n",
      "4587/4587 [==============================] - 6s 1ms/step - loss: 0.9986 - val_loss: 1.0128\n",
      "Epoch 13/100\n",
      "4587/4587 [==============================] - 7s 2ms/step - loss: 0.9986 - val_loss: 1.0128\n",
      "Epoch 14/100\n",
      "4587/4587 [==============================] - 6s 1ms/step - loss: 0.9986 - val_loss: 1.0128\n",
      "Epoch 15/100\n",
      "4587/4587 [==============================] - 6s 1ms/step - loss: 0.9986 - val_loss: 1.0128\n",
      "Epoch 16/100\n",
      "4587/4587 [==============================] - 6s 1ms/step - loss: 0.9986 - val_loss: 1.0128\n",
      "Epoch 17/100\n",
      "4587/4587 [==============================] - 6s 1ms/step - loss: 0.9986 - val_loss: 1.0128\n",
      "Epoch 18/100\n",
      "4587/4587 [==============================] - 5s 1ms/step - loss: 0.9986 - val_loss: 1.0128\n",
      "Epoch 19/100\n",
      "4587/4587 [==============================] - 5s 1ms/step - loss: 0.9986 - val_loss: 1.0128\n",
      "Epoch 20/100\n",
      "4587/4587 [==============================] - 6s 1ms/step - loss: 0.9986 - val_loss: 1.0128\n",
      "Epoch 21/100\n",
      "4587/4587 [==============================] - 6s 1ms/step - loss: 0.9986 - val_loss: 1.0128\n",
      "Epoch 22/100\n",
      "4587/4587 [==============================] - 6s 1ms/step - loss: 0.9986 - val_loss: 1.0128\n",
      "Epoch 23/100\n",
      "4587/4587 [==============================] - 6s 1ms/step - loss: 0.9986 - val_loss: 1.0128\n",
      "Epoch 24/100\n",
      "4587/4587 [==============================] - 6s 1ms/step - loss: 0.9986 - val_loss: 1.0128\n",
      "Epoch 25/100\n",
      "4587/4587 [==============================] - 6s 1ms/step - loss: 0.9986 - val_loss: 1.0128\n",
      "Epoch 26/100\n",
      "4587/4587 [==============================] - 6s 1ms/step - loss: 0.9986 - val_loss: 1.0128\n",
      "Epoch 27/100\n",
      "4587/4587 [==============================] - 5s 1ms/step - loss: 0.9986 - val_loss: 1.0128\n",
      "Epoch 28/100\n",
      "4587/4587 [==============================] - 6s 1ms/step - loss: 0.9986 - val_loss: 1.0128\n",
      "Epoch 29/100\n",
      "4587/4587 [==============================] - 6s 1ms/step - loss: 0.9986 - val_loss: 1.0128\n",
      "Epoch 30/100\n",
      "4587/4587 [==============================] - 6s 1ms/step - loss: 0.9986 - val_loss: 1.0128\n",
      "Epoch 31/100\n",
      "4587/4587 [==============================] - 6s 1ms/step - loss: 0.9986 - val_loss: 1.0128\n",
      "Epoch 32/100\n",
      "4587/4587 [==============================] - 6s 1ms/step - loss: 0.9986 - val_loss: 1.0128\n",
      "Epoch 33/100\n",
      "4587/4587 [==============================] - 7s 2ms/step - loss: 0.9986 - val_loss: 1.0128\n",
      "Epoch 34/100\n",
      "4587/4587 [==============================] - 6s 1ms/step - loss: 0.9986 - val_loss: 1.0128\n",
      "Epoch 35/100\n",
      "4587/4587 [==============================] - 6s 1ms/step - loss: 0.9986 - val_loss: 1.0128\n",
      "Epoch 36/100\n",
      "4587/4587 [==============================] - 6s 1ms/step - loss: 0.9986 - val_loss: 1.0128\n",
      "Epoch 37/100\n",
      "4587/4587 [==============================] - 6s 1ms/step - loss: 0.9986 - val_loss: 1.0128\n",
      "Epoch 38/100\n",
      "4587/4587 [==============================] - 6s 1ms/step - loss: 0.9986 - val_loss: 1.0128\n",
      "Epoch 39/100\n",
      "4587/4587 [==============================] - 7s 1ms/step - loss: 0.9986 - val_loss: 1.0128\n",
      "Epoch 40/100\n",
      "4587/4587 [==============================] - 6s 1ms/step - loss: 0.9986 - val_loss: 1.0128\n",
      "Epoch 41/100\n",
      "4587/4587 [==============================] - 6s 1ms/step - loss: 0.9986 - val_loss: 1.0128\n",
      "Epoch 42/100\n",
      "4587/4587 [==============================] - 6s 1ms/step - loss: 0.9986 - val_loss: 1.0128\n",
      "Epoch 43/100\n",
      "4587/4587 [==============================] - 5s 1ms/step - loss: 0.9986 - val_loss: 1.0128\n",
      "Epoch 44/100\n",
      "4587/4587 [==============================] - 5s 1ms/step - loss: 0.9986 - val_loss: 1.0128\n",
      "Epoch 45/100\n",
      "4587/4587 [==============================] - 5s 1ms/step - loss: 0.9986 - val_loss: 1.0128\n",
      "Epoch 46/100\n",
      "4587/4587 [==============================] - 5s 1ms/step - loss: 0.9986 - val_loss: 1.0128\n",
      "Epoch 47/100\n",
      "4587/4587 [==============================] - 6s 1ms/step - loss: 0.9986 - val_loss: 1.0128\n",
      "Epoch 48/100\n",
      "4587/4587 [==============================] - 5s 1ms/step - loss: 0.9986 - val_loss: 1.0128\n",
      "Epoch 49/100\n",
      "4587/4587 [==============================] - 6s 1ms/step - loss: 0.9986 - val_loss: 1.0128\n",
      "Epoch 50/100\n",
      "4587/4587 [==============================] - 6s 1ms/step - loss: 0.9986 - val_loss: 1.0128\n",
      "Epoch 51/100\n",
      "4587/4587 [==============================] - 6s 1ms/step - loss: 0.9986 - val_loss: 1.0128\n",
      "Epoch 52/100\n",
      "4587/4587 [==============================] - 6s 1ms/step - loss: 0.9986 - val_loss: 1.0128\n",
      "Epoch 53/100\n",
      "4587/4587 [==============================] - 6s 1ms/step - loss: 0.9986 - val_loss: 1.0128\n",
      "Epoch 54/100\n",
      "4587/4587 [==============================] - 6s 1ms/step - loss: 0.9986 - val_loss: 1.0128\n",
      "Epoch 55/100\n",
      "4587/4587 [==============================] - 6s 1ms/step - loss: 0.9986 - val_loss: 1.0128\n",
      "Epoch 56/100\n",
      "4587/4587 [==============================] - 6s 1ms/step - loss: 0.9986 - val_loss: 1.0128\n",
      "Epoch 57/100\n",
      "4587/4587 [==============================] - 7s 2ms/step - loss: 0.9986 - val_loss: 1.0128\n",
      "Epoch 58/100\n",
      "4587/4587 [==============================] - 6s 1ms/step - loss: 0.9986 - val_loss: 1.0128\n",
      "Epoch 59/100\n",
      "4587/4587 [==============================] - 6s 1ms/step - loss: 0.9986 - val_loss: 1.0128\n",
      "Epoch 60/100\n",
      "4587/4587 [==============================] - 6s 1ms/step - loss: 0.9986 - val_loss: 1.0128\n",
      "Epoch 61/100\n",
      "4587/4587 [==============================] - 6s 1ms/step - loss: 0.9986 - val_loss: 1.0128\n",
      "Epoch 62/100\n",
      "4587/4587 [==============================] - 6s 1ms/step - loss: 0.9986 - val_loss: 1.0128\n",
      "Epoch 63/100\n",
      "4587/4587 [==============================] - 6s 1ms/step - loss: 0.9986 - val_loss: 1.0128\n",
      "Epoch 64/100\n",
      "4587/4587 [==============================] - 6s 1ms/step - loss: 0.9986 - val_loss: 1.0128\n",
      "Epoch 65/100\n",
      "4587/4587 [==============================] - 6s 1ms/step - loss: 0.9986 - val_loss: 1.0128\n",
      "Epoch 66/100\n",
      "4587/4587 [==============================] - 6s 1ms/step - loss: 0.9986 - val_loss: 1.0128\n",
      "Epoch 67/100\n",
      "4587/4587 [==============================] - 6s 1ms/step - loss: 0.9986 - val_loss: 1.0128\n",
      "Epoch 68/100\n",
      "4587/4587 [==============================] - 7s 1ms/step - loss: 0.9986 - val_loss: 1.0128\n",
      "Epoch 69/100\n",
      "4587/4587 [==============================] - 6s 1ms/step - loss: 0.9986 - val_loss: 1.0128\n",
      "Epoch 70/100\n",
      "4587/4587 [==============================] - 6s 1ms/step - loss: 0.9986 - val_loss: 1.0128\n",
      "Epoch 71/100\n",
      "4587/4587 [==============================] - 6s 1ms/step - loss: 0.9986 - val_loss: 1.0128\n",
      "Epoch 72/100\n",
      "4587/4587 [==============================] - 6s 1ms/step - loss: 0.9986 - val_loss: 1.0128\n",
      "Epoch 73/100\n",
      "4587/4587 [==============================] - 7s 1ms/step - loss: 0.9986 - val_loss: 1.0128\n",
      "Epoch 74/100\n",
      "4587/4587 [==============================] - 6s 1ms/step - loss: 0.9986 - val_loss: 1.0128\n",
      "Epoch 75/100\n",
      "4587/4587 [==============================] - 6s 1ms/step - loss: 0.9986 - val_loss: 1.0128\n",
      "Epoch 76/100\n",
      "4587/4587 [==============================] - 6s 1ms/step - loss: 0.9986 - val_loss: 1.0128\n",
      "Epoch 77/100\n",
      "4587/4587 [==============================] - 6s 1ms/step - loss: 0.9986 - val_loss: 1.0128\n",
      "Epoch 78/100\n",
      "4587/4587 [==============================] - 6s 1ms/step - loss: 0.9986 - val_loss: 1.0128\n",
      "Epoch 79/100\n",
      "4587/4587 [==============================] - 6s 1ms/step - loss: 0.9986 - val_loss: 1.0128\n",
      "Epoch 80/100\n",
      "4587/4587 [==============================] - 6s 1ms/step - loss: 0.9986 - val_loss: 1.0128\n",
      "Epoch 81/100\n",
      "4587/4587 [==============================] - 6s 1ms/step - loss: 0.9986 - val_loss: 1.0128\n",
      "Epoch 82/100\n",
      "4587/4587 [==============================] - 6s 1ms/step - loss: 0.9986 - val_loss: 1.0128\n",
      "Epoch 83/100\n",
      "4587/4587 [==============================] - 6s 1ms/step - loss: 0.9986 - val_loss: 1.0128\n",
      "Epoch 84/100\n",
      "4587/4587 [==============================] - 6s 1ms/step - loss: 0.9986 - val_loss: 1.0128\n",
      "Epoch 85/100\n",
      "4587/4587 [==============================] - 6s 1ms/step - loss: 0.9986 - val_loss: 1.0128\n",
      "Epoch 86/100\n",
      "4587/4587 [==============================] - 6s 1ms/step - loss: 0.9986 - val_loss: 1.0128\n",
      "Epoch 87/100\n",
      "4587/4587 [==============================] - 6s 1ms/step - loss: 0.9986 - val_loss: 1.0128\n",
      "Epoch 88/100\n",
      "4587/4587 [==============================] - 6s 1ms/step - loss: 0.9986 - val_loss: 1.0128\n",
      "Epoch 89/100\n",
      "4587/4587 [==============================] - 6s 1ms/step - loss: 0.9986 - val_loss: 1.0128\n",
      "Epoch 90/100\n",
      "4587/4587 [==============================] - 6s 1ms/step - loss: 0.9986 - val_loss: 1.0128\n",
      "Epoch 91/100\n",
      "4587/4587 [==============================] - 6s 1ms/step - loss: 0.9986 - val_loss: 1.0128\n",
      "Epoch 92/100\n",
      "4587/4587 [==============================] - 6s 1ms/step - loss: 0.9986 - val_loss: 1.0128\n",
      "Epoch 93/100\n",
      "4587/4587 [==============================] - 6s 1ms/step - loss: 0.9986 - val_loss: 1.0128\n",
      "Epoch 94/100\n",
      "4587/4587 [==============================] - 6s 1ms/step - loss: 0.9986 - val_loss: 1.0128\n",
      "Epoch 95/100\n",
      "4587/4587 [==============================] - 6s 1ms/step - loss: 0.9986 - val_loss: 1.0128\n",
      "Epoch 96/100\n",
      "4587/4587 [==============================] - 6s 1ms/step - loss: 0.9986 - val_loss: 1.0128\n",
      "Epoch 97/100\n",
      "4587/4587 [==============================] - 5s 1ms/step - loss: 0.9986 - val_loss: 1.0128\n",
      "Epoch 98/100\n",
      "4587/4587 [==============================] - 5s 1ms/step - loss: 0.9986 - val_loss: 1.0128\n",
      "Epoch 99/100\n",
      "4587/4587 [==============================] - 5s 1ms/step - loss: 0.9986 - val_loss: 1.0128\n",
      "Epoch 100/100\n",
      "4587/4587 [==============================] - 5s 1ms/step - loss: 0.9986 - val_loss: 1.0128\n",
      "5096/5096 [==============================] - 4s 697us/step\n"
     ]
    },
    {
     "data": {
      "text/plain": [
       "AutoEncoder(batch_size=32, contamination=0.05, dropout_rate=0.2, epochs=100,\n",
       "      hidden_activation='relu', hidden_neurons=[10, 2, 10],\n",
       "      l2_regularizer=0.1,\n",
       "      loss=<function mean_squared_error at 0x7fba93682280>,\n",
       "      optimizer='adam', output_activation='sigmoid', preprocessing=True,\n",
       "      random_state=None, validation_size=0.1, verbose=1)"
      ]
     },
     "execution_count": 80,
     "metadata": {},
     "output_type": "execute_result"
    }
   ],
   "source": [
    "clf2 = AutoEncoder(contamination=0.05, hidden_neurons =[10, 2, 10])\n",
    "clf2.fit(features2)"
   ]
  },
  {
   "cell_type": "code",
   "execution_count": 81,
   "id": "f816e41f",
   "metadata": {},
   "outputs": [
    {
     "data": {
      "text/plain": [
       "{'batch_size': 32,\n",
       " 'contamination': 0.05,\n",
       " 'dropout_rate': 0.2,\n",
       " 'epochs': 100,\n",
       " 'hidden_activation': 'relu',\n",
       " 'hidden_neurons': [10, 2, 10],\n",
       " 'l2_regularizer': 0.1,\n",
       " 'loss': <function keras.losses.mean_squared_error(y_true, y_pred)>,\n",
       " 'optimizer': 'adam',\n",
       " 'output_activation': 'sigmoid',\n",
       " 'preprocessing': True,\n",
       " 'random_state': None,\n",
       " 'validation_size': 0.1,\n",
       " 'verbose': 1}"
      ]
     },
     "execution_count": 81,
     "metadata": {},
     "output_type": "execute_result"
    }
   ],
   "source": [
    "# Hyper-parameter Tunning\n",
    "clf2.get_params()"
   ]
  },
  {
   "cell_type": "code",
   "execution_count": 82,
   "id": "93171543",
   "metadata": {},
   "outputs": [
    {
     "name": "stdout",
     "output_type": "stream",
     "text": [
      "5096/5096 [==============================] - 3s 682us/step\n"
     ]
    }
   ],
   "source": [
    "# clf.decision_function: Predict raw anomaly score of X using the fitted detector.\n",
    "y_clf2_scores = clf2.decision_function(features2)  # outlier scores\n",
    "y_clf2_scores = pd.Series(y_clf2_scores)"
   ]
  },
  {
   "cell_type": "code",
   "execution_count": 83,
   "id": "693dc0b9",
   "metadata": {},
   "outputs": [
    {
     "name": "stdout",
     "output_type": "stream",
     "text": [
      "5096/5096 [==============================] - 4s 706us/step\n"
     ]
    }
   ],
   "source": [
    "# Get the prediction on the  data\n",
    "y_clf2_pred = clf2.predict(features2) \n",
    "y_clf2_pred = pd.Series(y_clf2_pred)"
   ]
  },
  {
   "cell_type": "markdown",
   "id": "3a1e15bc",
   "metadata": {},
   "source": [
    "#### Determine the threshold"
   ]
  },
  {
   "cell_type": "code",
   "execution_count": 84,
   "id": "c3f36eb1",
   "metadata": {},
   "outputs": [
    {
     "name": "stdout",
     "output_type": "stream",
     "text": [
      "The threshold for the defined contamination rate: 6.179532618589039\n"
     ]
    }
   ],
   "source": [
    "# Threshold for the defined comtanimation rate\n",
    "print(\"The threshold for the defined contamination rate:\" , clf2.threshold_)"
   ]
  },
  {
   "cell_type": "code",
   "execution_count": 85,
   "id": "70ef700f",
   "metadata": {},
   "outputs": [
    {
     "name": "stdout",
     "output_type": "stream",
     "text": [
      "The data: {0: 154911, 1: 8154}\n"
     ]
    }
   ],
   "source": [
    "def count_stat(vector):\n",
    "    # Because it is '0' and '1', we can run a count statistic. \n",
    "    unique, counts = np.unique(vector, return_counts=True)\n",
    "    return dict(zip(unique, counts))\n",
    "\n",
    "print(\"The data:\", count_stat(y_clf2_pred))"
   ]
  },
  {
   "cell_type": "code",
   "execution_count": 86,
   "id": "3738b31e",
   "metadata": {},
   "outputs": [
    {
     "data": {
      "text/plain": [
       "0    154911\n",
       "1      8154\n",
       "dtype: int64"
      ]
     },
     "execution_count": 86,
     "metadata": {},
     "output_type": "execute_result"
    }
   ],
   "source": [
    "y_clf2_pred.value_counts()"
   ]
  },
  {
   "cell_type": "code",
   "execution_count": 87,
   "id": "40bafe05",
   "metadata": {},
   "outputs": [
    {
     "data": {
      "image/png": "[encoded data removed]",
      "text/plain": [
       "<Figure size 432x288 with 1 Axes>"
      ]
     },
     "metadata": {
      "needs_background": "light"
     },
     "output_type": "display_data"
    }
   ],
   "source": [
    "# We can use the histogram to see the threshold\n",
    "import matplotlib.pyplot as plt\n",
    "plt.hist(y_clf2_scores, bins='auto')  # arguments are passed to np.histogram\n",
    "plt.title(\"Histogram for Model Clf2 Anomaly Scores\")\n",
    "plt.show()"
   ]
  },
  {
   "cell_type": "markdown",
   "id": "42253759",
   "metadata": {},
   "source": [
    "The threshold is to be determined by the histogram of the outlier scores. The chart below suggests a threshold around 10. This means the outlier scores of most of the normal data are less than 10. The outlier scores of the abnormal data are in the high range."
   ]
  },
  {
   "cell_type": "markdown",
   "id": "ef019dfb",
   "metadata": {},
   "source": [
    "#### Present the descriptive statistics of the normal and the abnormal groups"
   ]
  },
  {
   "cell_type": "code",
   "execution_count": 88,
   "id": "b6dc8c59",
   "metadata": {},
   "outputs": [
    {
     "data": {
      "text/html": [
       "<div>\n",
       "<style scoped>\n",
       "    .dataframe tbody tr th:only-of-type {\n",
       "        vertical-align: middle;\n",
       "    }\n",
       "\n",
       "    .dataframe tbody tr th {\n",
       "        vertical-align: top;\n",
       "    }\n",
       "\n",
       "    .dataframe thead th {\n",
       "        text-align: right;\n",
       "    }\n",
       "</style>\n",
       "<table border=\"1\" class=\"dataframe\">\n",
       "  <thead>\n",
       "    <tr style=\"text-align: right;\">\n",
       "      <th></th>\n",
       "      <th>Group</th>\n",
       "      <th>Count</th>\n",
       "      <th>Count %</th>\n",
       "      <th>Avg_Payment_ByStateDRG_ratio_amount</th>\n",
       "      <th>Average_Payment_ByCityDRG_ratio_amount</th>\n",
       "      <th>Avg_Payment_ByRegionDRG_ratio_amount</th>\n",
       "      <th>Avg_Discharges_ByStateDRG_ratio_amount</th>\n",
       "      <th>Avg_Discharges_ByCityDRG_ratio_amount</th>\n",
       "      <th>Avg_Discharges_ByRegionDRG_ratio_amount</th>\n",
       "      <th>Avg_Medicare_ByStateDRG_ratio_amount</th>\n",
       "      <th>Avg_Medicare_ByCityDRG_ratio_amount</th>\n",
       "      <th>Avg_Medicare_ByRegionDRG_ratio_amount</th>\n",
       "      <th>Avg_Medicare_ByZipDRG_ratio_amount</th>\n",
       "      <th>Anomaly_Score</th>\n",
       "    </tr>\n",
       "  </thead>\n",
       "  <tbody>\n",
       "    <tr>\n",
       "      <th>0</th>\n",
       "      <td>Normal</td>\n",
       "      <td>154911</td>\n",
       "      <td>94.99954</td>\n",
       "      <td>0.98</td>\n",
       "      <td>1.00</td>\n",
       "      <td>0.98</td>\n",
       "      <td>0.96</td>\n",
       "      <td>0.99</td>\n",
       "      <td>0.97</td>\n",
       "      <td>0.98</td>\n",
       "      <td>0.99</td>\n",
       "      <td>0.98</td>\n",
       "      <td>1.00</td>\n",
       "      <td>2.22</td>\n",
       "    </tr>\n",
       "    <tr>\n",
       "      <th>1</th>\n",
       "      <td>Outlier</td>\n",
       "      <td>8154</td>\n",
       "      <td>5.00046</td>\n",
       "      <td>1.41</td>\n",
       "      <td>1.26</td>\n",
       "      <td>1.33</td>\n",
       "      <td>1.70</td>\n",
       "      <td>1.27</td>\n",
       "      <td>1.60</td>\n",
       "      <td>1.44</td>\n",
       "      <td>1.21</td>\n",
       "      <td>1.35</td>\n",
       "      <td>1.02</td>\n",
       "      <td>8.52</td>\n",
       "    </tr>\n",
       "  </tbody>\n",
       "</table>\n",
       "</div>"
      ],
      "text/plain": [
       "     Group   Count   Count %  Avg_Payment_ByStateDRG_ratio_amount  \\\n",
       "0   Normal  154911  94.99954                                 0.98   \n",
       "1  Outlier    8154   5.00046                                 1.41   \n",
       "\n",
       "   Average_Payment_ByCityDRG_ratio_amount  \\\n",
       "0                                    1.00   \n",
       "1                                    1.26   \n",
       "\n",
       "   Avg_Payment_ByRegionDRG_ratio_amount  \\\n",
       "0                                  0.98   \n",
       "1                                  1.33   \n",
       "\n",
       "   Avg_Discharges_ByStateDRG_ratio_amount  \\\n",
       "0                                    0.96   \n",
       "1                                    1.70   \n",
       "\n",
       "   Avg_Discharges_ByCityDRG_ratio_amount  \\\n",
       "0                                   0.99   \n",
       "1                                   1.27   \n",
       "\n",
       "   Avg_Discharges_ByRegionDRG_ratio_amount  \\\n",
       "0                                     0.97   \n",
       "1                                     1.60   \n",
       "\n",
       "   Avg_Medicare_ByStateDRG_ratio_amount  Avg_Medicare_ByCityDRG_ratio_amount  \\\n",
       "0                                  0.98                                 0.99   \n",
       "1                                  1.44                                 1.21   \n",
       "\n",
       "   Avg_Medicare_ByRegionDRG_ratio_amount  Avg_Medicare_ByZipDRG_ratio_amount  \\\n",
       "0                                   0.98                                1.00   \n",
       "1                                   1.35                                1.02   \n",
       "\n",
       "   Anomaly_Score  \n",
       "0           2.22  \n",
       "1           8.52  "
      ]
     },
     "execution_count": 88,
     "metadata": {},
     "output_type": "execute_result"
    }
   ],
   "source": [
    "# Here we used the threshold calculated by the function:\n",
    "threshold = clf2.threshold_\n",
    "\n",
    "\n",
    "def descriptive_stat_threshold(df,pred_score, threshold):\n",
    "    # Let's see how many '0's and '1's.\n",
    "    df = pd.DataFrame(df)\n",
    "    df['Anomaly_Score'] = pred_score\n",
    "    df['Group'] = np.where(df['Anomaly_Score']< threshold, 'Normal', 'Outlier')\n",
    "\n",
    "    # Now let's show the summary statistics:\n",
    "    cnt = df.groupby('Group')['Anomaly_Score'].count().reset_index().rename(columns={'Anomaly_Score':'Count'})\n",
    "    cnt['Count %'] = (cnt['Count'] / cnt['Count'].sum()) * 100 # The count and count %\n",
    "    stat = df.groupby('Group').mean().round(2).reset_index() # The avg.\n",
    "    stat = cnt.merge(stat, left_on='Group',right_on='Group') # Put the count and the avg. together\n",
    "    return (stat)\n",
    "\n",
    "descriptive_stat_threshold(features2,y_clf2_scores, threshold)"
   ]
  },
  {
   "cell_type": "markdown",
   "id": "23db0aa0",
   "metadata": {},
   "source": [
    "The table presents the characteristics of the normal and abnormal groups. It shows the count and count percentage of the normal and outlier groups. \n",
    "\n",
    "- The size of the outlier group: The outlier group is about 5%. Remember the size of the outlier group is determined by the threshold. The size will shrink if you choose a higher value for the threshold.\n",
    "- The average anomaly score: The average outlier score of the outlier group is far higher than that of the normal group (8.52 > 2.22). This evidence just verifies the data in the outlier group are outliers. At this point, you do not need to interpret too much on the scores.\n",
    "- The feature statistics in each group: The means of the features in the outlier group are larger than those of the normal group. A high average ratio of payment/discharges features, that is more than the average values, could suggest fraudulent behaviour."
   ]
  },
  {
   "cell_type": "markdown",
   "id": "67df7ceb",
   "metadata": {},
   "source": [
    "#### Evaluate the model performance\n",
    "\n",
    "The confusion matrix proves the model does a decent job and identifies all 8154 outliers."
   ]
  },
  {
   "cell_type": "code",
   "execution_count": 89,
   "id": "02e59193",
   "metadata": {},
   "outputs": [
    {
     "data": {
      "text/html": [
       "<div>\n",
       "<style scoped>\n",
       "    .dataframe tbody tr th:only-of-type {\n",
       "        vertical-align: middle;\n",
       "    }\n",
       "\n",
       "    .dataframe tbody tr th {\n",
       "        vertical-align: top;\n",
       "    }\n",
       "\n",
       "    .dataframe thead th {\n",
       "        text-align: right;\n",
       "    }\n",
       "</style>\n",
       "<table border=\"1\" class=\"dataframe\">\n",
       "  <thead>\n",
       "    <tr style=\"text-align: right;\">\n",
       "      <th>Pred</th>\n",
       "      <th>0</th>\n",
       "      <th>1</th>\n",
       "    </tr>\n",
       "    <tr>\n",
       "      <th>Actual</th>\n",
       "      <th></th>\n",
       "      <th></th>\n",
       "    </tr>\n",
       "  </thead>\n",
       "  <tbody>\n",
       "    <tr>\n",
       "      <th>0</th>\n",
       "      <td>154911</td>\n",
       "      <td>0</td>\n",
       "    </tr>\n",
       "    <tr>\n",
       "      <th>1</th>\n",
       "      <td>0</td>\n",
       "      <td>8154</td>\n",
       "    </tr>\n",
       "  </tbody>\n",
       "</table>\n",
       "</div>"
      ],
      "text/plain": [
       "Pred         0     1\n",
       "Actual              \n",
       "0       154911     0\n",
       "1            0  8154"
      ]
     },
     "execution_count": 89,
     "metadata": {},
     "output_type": "execute_result"
    }
   ],
   "source": [
    "# Confusion Matrix\n",
    "def confusion_matrix(actual,score, threshold):\n",
    "    Actual_pred = pd.DataFrame({'Actual': actual, 'Pred': score})\n",
    "    Actual_pred['Pred'] = np.where(Actual_pred['Pred']<=threshold,0,1)\n",
    "    cm = pd.crosstab(Actual_pred['Actual'],Actual_pred['Pred'])\n",
    "    return (cm)\n",
    "confusion_matrix(y_clf2_pred, y_clf2_scores,threshold)"
   ]
  },
  {
   "cell_type": "markdown",
   "id": "e169e728",
   "metadata": {},
   "source": [
    "### Model 3"
   ]
  },
  {
   "cell_type": "code",
   "execution_count": 90,
   "id": "b87e9fc5",
   "metadata": {},
   "outputs": [],
   "source": [
    "# Selecting necessary features\n",
    "features2 = df1[features]"
   ]
  },
  {
   "cell_type": "code",
   "execution_count": 91,
   "id": "5b9c3d09",
   "metadata": {},
   "outputs": [
    {
     "name": "stdout",
     "output_type": "stream",
     "text": [
      "Model: \"sequential_2\"\n",
      "_________________________________________________________________\n",
      " Layer (type)                Output Shape              Param #   \n",
      "=================================================================\n",
      " dense_11 (Dense)            (None, 10)                110       \n",
      "                                                                 \n",
      " dropout_9 (Dropout)         (None, 10)                0         \n",
      "                                                                 \n",
      " dense_12 (Dense)            (None, 10)                110       \n",
      "                                                                 \n",
      " dropout_10 (Dropout)        (None, 10)                0         \n",
      "                                                                 \n",
      " dense_13 (Dense)            (None, 10)                110       \n",
      "                                                                 \n",
      " dropout_11 (Dropout)        (None, 10)                0         \n",
      "                                                                 \n",
      " dense_14 (Dense)            (None, 5)                 55        \n",
      "                                                                 \n",
      " dropout_12 (Dropout)        (None, 5)                 0         \n",
      "                                                                 \n",
      " dense_15 (Dense)            (None, 2)                 12        \n",
      "                                                                 \n",
      " dropout_13 (Dropout)        (None, 2)                 0         \n",
      "                                                                 \n",
      " dense_16 (Dense)            (None, 5)                 15        \n",
      "                                                                 \n",
      " dropout_14 (Dropout)        (None, 5)                 0         \n",
      "                                                                 \n",
      " dense_17 (Dense)            (None, 10)                60        \n",
      "                                                                 \n",
      " dropout_15 (Dropout)        (None, 10)                0         \n",
      "                                                                 \n",
      " dense_18 (Dense)            (None, 10)                110       \n",
      "                                                                 \n",
      "=================================================================\n",
      "Total params: 582\n",
      "Trainable params: 582\n",
      "Non-trainable params: 0\n",
      "_________________________________________________________________\n",
      "None\n",
      "Epoch 1/100\n",
      "4587/4587 [==============================] - 9s 2ms/step - loss: 1.0990 - val_loss: 1.0001\n",
      "Epoch 2/100\n",
      "4587/4587 [==============================] - 7s 2ms/step - loss: 1.0080 - val_loss: 0.9889\n",
      "Epoch 3/100\n",
      "4587/4587 [==============================] - 7s 1ms/step - loss: 1.0027 - val_loss: 0.9874\n",
      "Epoch 4/100\n",
      "4587/4587 [==============================] - 6s 1ms/step - loss: 1.0018 - val_loss: 0.9871\n",
      "Epoch 5/100\n",
      "4587/4587 [==============================] - 7s 1ms/step - loss: 1.0016 - val_loss: 0.9871\n",
      "Epoch 6/100\n",
      "4587/4587 [==============================] - 7s 1ms/step - loss: 1.0015 - val_loss: 0.9870\n",
      "Epoch 7/100\n",
      "4587/4587 [==============================] - 7s 2ms/step - loss: 1.0015 - val_loss: 0.9870\n",
      "Epoch 8/100\n",
      "4587/4587 [==============================] - 7s 2ms/step - loss: 1.0015 - val_loss: 0.9870\n",
      "Epoch 9/100\n",
      "4587/4587 [==============================] - 7s 2ms/step - loss: 1.0015 - val_loss: 0.9870\n",
      "Epoch 10/100\n",
      "4587/4587 [==============================] - 7s 2ms/step - loss: 1.0015 - val_loss: 0.9870\n",
      "Epoch 11/100\n",
      "4587/4587 [==============================] - 7s 1ms/step - loss: 1.0015 - val_loss: 0.9870\n",
      "Epoch 12/100\n",
      "4587/4587 [==============================] - 7s 2ms/step - loss: 1.0014 - val_loss: 0.9870\n",
      "Epoch 13/100\n",
      "4587/4587 [==============================] - 7s 2ms/step - loss: 1.0014 - val_loss: 0.9870\n",
      "Epoch 14/100\n",
      "4587/4587 [==============================] - 7s 2ms/step - loss: 1.0014 - val_loss: 0.9871\n",
      "Epoch 15/100\n",
      "4587/4587 [==============================] - 7s 2ms/step - loss: 1.0014 - val_loss: 0.9871\n",
      "Epoch 16/100\n",
      "4587/4587 [==============================] - 7s 1ms/step - loss: 1.0014 - val_loss: 0.9871\n",
      "Epoch 17/100\n",
      "4587/4587 [==============================] - 6s 1ms/step - loss: 1.0014 - val_loss: 0.9871\n",
      "Epoch 18/100\n",
      "4587/4587 [==============================] - 6s 1ms/step - loss: 1.0014 - val_loss: 0.9871\n",
      "Epoch 19/100\n",
      "4587/4587 [==============================] - 6s 1ms/step - loss: 1.0014 - val_loss: 0.9871\n",
      "Epoch 20/100\n",
      "4587/4587 [==============================] - 6s 1ms/step - loss: 1.0014 - val_loss: 0.9871\n",
      "Epoch 21/100\n",
      "4587/4587 [==============================] - 7s 1ms/step - loss: 1.0014 - val_loss: 0.9871\n",
      "Epoch 22/100\n",
      "4587/4587 [==============================] - 7s 2ms/step - loss: 1.0014 - val_loss: 0.9871\n",
      "Epoch 23/100\n",
      "4587/4587 [==============================] - 7s 1ms/step - loss: 1.0014 - val_loss: 0.9871\n",
      "Epoch 24/100\n",
      "4587/4587 [==============================] - 7s 2ms/step - loss: 1.0014 - val_loss: 0.9871\n",
      "Epoch 25/100\n",
      "4587/4587 [==============================] - 7s 2ms/step - loss: 1.0014 - val_loss: 0.9871\n",
      "Epoch 26/100\n",
      "4587/4587 [==============================] - 7s 1ms/step - loss: 1.0014 - val_loss: 0.9871\n",
      "Epoch 27/100\n",
      "4587/4587 [==============================] - 6s 1ms/step - loss: 1.0014 - val_loss: 0.9871\n",
      "Epoch 28/100\n",
      "4587/4587 [==============================] - 6s 1ms/step - loss: 1.0014 - val_loss: 0.9871\n",
      "Epoch 29/100\n",
      "4587/4587 [==============================] - 6s 1ms/step - loss: 1.0014 - val_loss: 0.9871\n",
      "Epoch 30/100\n",
      "4587/4587 [==============================] - 7s 1ms/step - loss: 1.0014 - val_loss: 0.9871\n",
      "Epoch 31/100\n",
      "4587/4587 [==============================] - 7s 1ms/step - loss: 1.0014 - val_loss: 0.9871\n",
      "Epoch 32/100\n",
      "4587/4587 [==============================] - 7s 2ms/step - loss: 1.0014 - val_loss: 0.9871\n",
      "Epoch 33/100\n",
      "4587/4587 [==============================] - 7s 2ms/step - loss: 1.0014 - val_loss: 0.9871\n",
      "Epoch 34/100\n",
      "4587/4587 [==============================] - 6s 1ms/step - loss: 1.0014 - val_loss: 0.9871\n",
      "Epoch 35/100\n",
      "4587/4587 [==============================] - 7s 1ms/step - loss: 1.0014 - val_loss: 0.9871\n",
      "Epoch 36/100\n",
      "4587/4587 [==============================] - 6s 1ms/step - loss: 1.0014 - val_loss: 0.9871\n",
      "Epoch 37/100\n",
      "4587/4587 [==============================] - 6s 1ms/step - loss: 1.0014 - val_loss: 0.9871\n",
      "Epoch 38/100\n",
      "4587/4587 [==============================] - 6s 1ms/step - loss: 1.0014 - val_loss: 0.9871\n",
      "Epoch 39/100\n",
      "4587/4587 [==============================] - 6s 1ms/step - loss: 1.0014 - val_loss: 0.9871\n",
      "Epoch 40/100\n",
      "4587/4587 [==============================] - 6s 1ms/step - loss: 1.0014 - val_loss: 0.9871\n",
      "Epoch 41/100\n",
      "4587/4587 [==============================] - 7s 1ms/step - loss: 1.0014 - val_loss: 0.9871\n",
      "Epoch 42/100\n",
      "4587/4587 [==============================] - 7s 1ms/step - loss: 1.0014 - val_loss: 0.9871\n",
      "Epoch 43/100\n",
      "4587/4587 [==============================] - 6s 1ms/step - loss: 1.0014 - val_loss: 0.9871\n",
      "Epoch 44/100\n",
      "4587/4587 [==============================] - 6s 1ms/step - loss: 1.0014 - val_loss: 0.9871\n",
      "Epoch 45/100\n",
      "4587/4587 [==============================] - 6s 1ms/step - loss: 1.0014 - val_loss: 0.9871\n",
      "Epoch 46/100\n",
      "4587/4587 [==============================] - 7s 1ms/step - loss: 1.0014 - val_loss: 0.9871\n",
      "Epoch 47/100\n",
      "4587/4587 [==============================] - 7s 2ms/step - loss: 1.0014 - val_loss: 0.9871\n",
      "Epoch 48/100\n",
      "4587/4587 [==============================] - 7s 1ms/step - loss: 1.0014 - val_loss: 0.9871\n",
      "Epoch 49/100\n",
      "4587/4587 [==============================] - 10s 2ms/step - loss: 1.0014 - val_loss: 0.9871\n",
      "Epoch 50/100\n",
      "4587/4587 [==============================] - 6s 1ms/step - loss: 1.0014 - val_loss: 0.9871\n",
      "Epoch 51/100\n",
      "4587/4587 [==============================] - 8s 2ms/step - loss: 1.0014 - val_loss: 0.9871\n",
      "Epoch 52/100\n",
      "4587/4587 [==============================] - 6s 1ms/step - loss: 1.0014 - val_loss: 0.9871\n",
      "Epoch 53/100\n",
      "4587/4587 [==============================] - 7s 1ms/step - loss: 1.0014 - val_loss: 0.9871\n",
      "Epoch 54/100\n",
      "4587/4587 [==============================] - 6s 1ms/step - loss: 1.0014 - val_loss: 0.9871\n",
      "Epoch 55/100\n",
      "4587/4587 [==============================] - 7s 1ms/step - loss: 1.0014 - val_loss: 0.9871\n",
      "Epoch 56/100\n",
      "4587/4587 [==============================] - 6s 1ms/step - loss: 1.0014 - val_loss: 0.9871\n",
      "Epoch 57/100\n",
      "4587/4587 [==============================] - 7s 1ms/step - loss: 1.0014 - val_loss: 0.9871\n",
      "Epoch 58/100\n",
      "4587/4587 [==============================] - 8s 2ms/step - loss: 1.0014 - val_loss: 0.9871\n",
      "Epoch 59/100\n",
      "4587/4587 [==============================] - 7s 1ms/step - loss: 1.0014 - val_loss: 0.9871\n",
      "Epoch 60/100\n",
      "4587/4587 [==============================] - 6s 1ms/step - loss: 1.0014 - val_loss: 0.9871\n",
      "Epoch 61/100\n",
      "4587/4587 [==============================] - 6s 1ms/step - loss: 1.0014 - val_loss: 0.9871\n",
      "Epoch 62/100\n",
      "4587/4587 [==============================] - 6s 1ms/step - loss: 1.0014 - val_loss: 0.9871\n",
      "Epoch 63/100\n",
      "4587/4587 [==============================] - 6s 1ms/step - loss: 1.0014 - val_loss: 0.9871\n",
      "Epoch 64/100\n",
      "4587/4587 [==============================] - 6s 1ms/step - loss: 1.0014 - val_loss: 0.9871\n",
      "Epoch 65/100\n",
      "4587/4587 [==============================] - 7s 1ms/step - loss: 1.0014 - val_loss: 0.9871\n",
      "Epoch 66/100\n",
      "4587/4587 [==============================] - 6s 1ms/step - loss: 1.0014 - val_loss: 0.9871\n",
      "Epoch 67/100\n",
      "4587/4587 [==============================] - 6s 1ms/step - loss: 1.0014 - val_loss: 0.9871\n",
      "Epoch 68/100\n",
      "4587/4587 [==============================] - 6s 1ms/step - loss: 1.0014 - val_loss: 0.9871\n",
      "Epoch 69/100\n",
      "4587/4587 [==============================] - 6s 1ms/step - loss: 1.0014 - val_loss: 0.9871\n",
      "Epoch 70/100\n",
      "4587/4587 [==============================] - 7s 1ms/step - loss: 1.0014 - val_loss: 0.9871\n",
      "Epoch 71/100\n",
      "4587/4587 [==============================] - 7s 2ms/step - loss: 1.0014 - val_loss: 0.9871\n",
      "Epoch 72/100\n",
      "4587/4587 [==============================] - 7s 2ms/step - loss: 1.0014 - val_loss: 0.9871\n",
      "Epoch 73/100\n",
      "4587/4587 [==============================] - 6s 1ms/step - loss: 1.0014 - val_loss: 0.9871\n",
      "Epoch 74/100\n",
      "4587/4587 [==============================] - 6s 1ms/step - loss: 1.0014 - val_loss: 0.9871\n",
      "Epoch 75/100\n",
      "4587/4587 [==============================] - 6s 1ms/step - loss: 1.0014 - val_loss: 0.9871\n",
      "Epoch 76/100\n",
      "4587/4587 [==============================] - 6s 1ms/step - loss: 1.0014 - val_loss: 0.9871\n",
      "Epoch 77/100\n",
      "4587/4587 [==============================] - 6s 1ms/step - loss: 1.0014 - val_loss: 0.9871\n",
      "Epoch 78/100\n",
      "4587/4587 [==============================] - 6s 1ms/step - loss: 1.0014 - val_loss: 0.9871\n",
      "Epoch 79/100\n",
      "4587/4587 [==============================] - 6s 1ms/step - loss: 1.0014 - val_loss: 0.9871\n",
      "Epoch 80/100\n",
      "4587/4587 [==============================] - 7s 2ms/step - loss: 1.0014 - val_loss: 0.9871\n",
      "Epoch 81/100\n",
      "4587/4587 [==============================] - 6s 1ms/step - loss: 1.0014 - val_loss: 0.9871\n",
      "Epoch 82/100\n",
      "4587/4587 [==============================] - 6s 1ms/step - loss: 1.0014 - val_loss: 0.9871\n",
      "Epoch 83/100\n",
      "4587/4587 [==============================] - 6s 1ms/step - loss: 1.0014 - val_loss: 0.9871\n",
      "Epoch 84/100\n",
      "4587/4587 [==============================] - 7s 1ms/step - loss: 1.0014 - val_loss: 0.9871\n",
      "Epoch 85/100\n",
      "4587/4587 [==============================] - 7s 1ms/step - loss: 1.0014 - val_loss: 0.9871\n",
      "Epoch 86/100\n",
      "4587/4587 [==============================] - 6s 1ms/step - loss: 1.0014 - val_loss: 0.9871\n",
      "Epoch 87/100\n",
      "4587/4587 [==============================] - 7s 1ms/step - loss: 1.0014 - val_loss: 0.9871\n",
      "Epoch 88/100\n",
      "4587/4587 [==============================] - 6s 1ms/step - loss: 1.0014 - val_loss: 0.9871\n",
      "Epoch 89/100\n",
      "4587/4587 [==============================] - 6s 1ms/step - loss: 1.0014 - val_loss: 0.9871\n",
      "Epoch 90/100\n",
      "4587/4587 [==============================] - 7s 1ms/step - loss: 1.0014 - val_loss: 0.9871\n",
      "Epoch 91/100\n",
      "4587/4587 [==============================] - 7s 1ms/step - loss: 1.0014 - val_loss: 0.9871\n",
      "Epoch 92/100\n",
      "4587/4587 [==============================] - 7s 1ms/step - loss: 1.0014 - val_loss: 0.9871\n",
      "Epoch 93/100\n",
      "4587/4587 [==============================] - 6s 1ms/step - loss: 1.0014 - val_loss: 0.9871\n",
      "Epoch 94/100\n",
      "4587/4587 [==============================] - 6s 1ms/step - loss: 1.0014 - val_loss: 0.9871\n",
      "Epoch 95/100\n",
      "4587/4587 [==============================] - 6s 1ms/step - loss: 1.0014 - val_loss: 0.9871\n",
      "Epoch 96/100\n",
      "4587/4587 [==============================] - 6s 1ms/step - loss: 1.0014 - val_loss: 0.9871\n",
      "Epoch 97/100\n",
      "4587/4587 [==============================] - 6s 1ms/step - loss: 1.0014 - val_loss: 0.9871\n",
      "Epoch 98/100\n",
      "4587/4587 [==============================] - 6s 1ms/step - loss: 1.0014 - val_loss: 0.9871\n",
      "Epoch 99/100\n",
      "4587/4587 [==============================] - 6s 1ms/step - loss: 1.0014 - val_loss: 0.9871\n",
      "Epoch 100/100\n",
      "4587/4587 [==============================] - 7s 1ms/step - loss: 1.0014 - val_loss: 0.9871\n",
      "5096/5096 [==============================] - 4s 690us/step\n"
     ]
    },
    {
     "data": {
      "text/plain": [
       "AutoEncoder(batch_size=32, contamination=0.05, dropout_rate=0.2, epochs=100,\n",
       "      hidden_activation='relu', hidden_neurons=[10, 5, 2, 5, 10],\n",
       "      l2_regularizer=0.1,\n",
       "      loss=<function mean_squared_error at 0x7fba93682280>,\n",
       "      optimizer='adam', output_activation='sigmoid', preprocessing=True,\n",
       "      random_state=None, validation_size=0.1, verbose=1)"
      ]
     },
     "execution_count": 91,
     "metadata": {},
     "output_type": "execute_result"
    }
   ],
   "source": [
    "clf3 = AutoEncoder(contamination=0.05, hidden_neurons =[10, 5, 2, 5, 10])\n",
    "clf3.fit(features2)"
   ]
  },
  {
   "cell_type": "code",
   "execution_count": 92,
   "id": "ca1a09b5",
   "metadata": {},
   "outputs": [
    {
     "data": {
      "text/plain": [
       "{'batch_size': 32,\n",
       " 'contamination': 0.05,\n",
       " 'dropout_rate': 0.2,\n",
       " 'epochs': 100,\n",
       " 'hidden_activation': 'relu',\n",
       " 'hidden_neurons': [10, 5, 2, 5, 10],\n",
       " 'l2_regularizer': 0.1,\n",
       " 'loss': <function keras.losses.mean_squared_error(y_true, y_pred)>,\n",
       " 'optimizer': 'adam',\n",
       " 'output_activation': 'sigmoid',\n",
       " 'preprocessing': True,\n",
       " 'random_state': None,\n",
       " 'validation_size': 0.1,\n",
       " 'verbose': 1}"
      ]
     },
     "execution_count": 92,
     "metadata": {},
     "output_type": "execute_result"
    }
   ],
   "source": [
    "# Hyper-parameter Tunning\n",
    "clf3.get_params()"
   ]
  },
  {
   "cell_type": "code",
   "execution_count": 93,
   "id": "ed0558d8",
   "metadata": {},
   "outputs": [
    {
     "name": "stdout",
     "output_type": "stream",
     "text": [
      "5096/5096 [==============================] - 4s 687us/step\n"
     ]
    }
   ],
   "source": [
    "# clf.decision_function: Predict raw anomaly score of X using the fitted detector.\n",
    "y_clf3_scores = clf3.decision_function(features2)  # outlier scores\n",
    "y_clf3_scores = pd.Series(y_clf3_scores)"
   ]
  },
  {
   "cell_type": "code",
   "execution_count": 94,
   "id": "1edc7730",
   "metadata": {},
   "outputs": [
    {
     "name": "stdout",
     "output_type": "stream",
     "text": [
      "5096/5096 [==============================] - 4s 800us/step\n"
     ]
    }
   ],
   "source": [
    "# Get the prediction on the  data\n",
    "y_clf3_pred = clf3.predict(features2) \n",
    "y_clf3_pred = pd.Series(y_clf3_pred)"
   ]
  },
  {
   "cell_type": "markdown",
   "id": "19b21944",
   "metadata": {},
   "source": [
    "#### Determine the threshold"
   ]
  },
  {
   "cell_type": "code",
   "execution_count": 95,
   "id": "c54e8a82",
   "metadata": {},
   "outputs": [
    {
     "name": "stdout",
     "output_type": "stream",
     "text": [
      "The threshold for the defined contamination rate: 6.1795921398139315\n"
     ]
    }
   ],
   "source": [
    "# Threshold for the defined comtanimation rate\n",
    "print(\"The threshold for the defined contamination rate:\" , clf3.threshold_)"
   ]
  },
  {
   "cell_type": "code",
   "execution_count": 96,
   "id": "9a192936",
   "metadata": {},
   "outputs": [
    {
     "name": "stdout",
     "output_type": "stream",
     "text": [
      "The data: {0: 154911, 1: 8154}\n"
     ]
    }
   ],
   "source": [
    "def count_stat(vector):\n",
    "    # Because it is '0' and '1', we can run a count statistic. \n",
    "    unique, counts = np.unique(vector, return_counts=True)\n",
    "    return dict(zip(unique, counts))\n",
    "\n",
    "print(\"The data:\", count_stat(y_clf3_pred))"
   ]
  },
  {
   "cell_type": "code",
   "execution_count": 97,
   "id": "dd97647b",
   "metadata": {},
   "outputs": [
    {
     "data": {
      "text/plain": [
       "0    154911\n",
       "1      8154\n",
       "dtype: int64"
      ]
     },
     "execution_count": 97,
     "metadata": {},
     "output_type": "execute_result"
    }
   ],
   "source": [
    "y_clf3_pred.value_counts()"
   ]
  },
  {
   "cell_type": "code",
   "execution_count": 98,
   "id": "c9bc5ba9",
   "metadata": {},
   "outputs": [
    {
     "data": {
      "image/png": "[encoded data removed]",
      "text/plain": [
       "<Figure size 432x288 with 1 Axes>"
      ]
     },
     "metadata": {
      "needs_background": "light"
     },
     "output_type": "display_data"
    }
   ],
   "source": [
    "# We can use the histogram to see the threshold\n",
    "import matplotlib.pyplot as plt\n",
    "plt.hist(y_clf3_scores, bins='auto')  # arguments are passed to np.histogram\n",
    "plt.title(\"Histogram for Model Clf3 Anomaly Scores\")\n",
    "plt.show()"
   ]
  },
  {
   "cell_type": "markdown",
   "id": "4d0afc4f",
   "metadata": {},
   "source": [
    "The threshold is to be determined by the histogram of the outlier scores. The chart below suggests a threshold around 10. This means the outlier scores of most of the normal data are less than 10. The outlier scores of the abnormal data are in the high range."
   ]
  },
  {
   "cell_type": "markdown",
   "id": "d9b95b5d",
   "metadata": {},
   "source": [
    "#### Present the descriptive statistics of the normal and the abnormal groups"
   ]
  },
  {
   "cell_type": "code",
   "execution_count": 99,
   "id": "ffe67c7d",
   "metadata": {},
   "outputs": [
    {
     "data": {
      "text/html": [
       "<div>\n",
       "<style scoped>\n",
       "    .dataframe tbody tr th:only-of-type {\n",
       "        vertical-align: middle;\n",
       "    }\n",
       "\n",
       "    .dataframe tbody tr th {\n",
       "        vertical-align: top;\n",
       "    }\n",
       "\n",
       "    .dataframe thead th {\n",
       "        text-align: right;\n",
       "    }\n",
       "</style>\n",
       "<table border=\"1\" class=\"dataframe\">\n",
       "  <thead>\n",
       "    <tr style=\"text-align: right;\">\n",
       "      <th></th>\n",
       "      <th>Group</th>\n",
       "      <th>Count</th>\n",
       "      <th>Count %</th>\n",
       "      <th>Avg_Payment_ByStateDRG_ratio_amount</th>\n",
       "      <th>Average_Payment_ByCityDRG_ratio_amount</th>\n",
       "      <th>Avg_Payment_ByRegionDRG_ratio_amount</th>\n",
       "      <th>Avg_Discharges_ByStateDRG_ratio_amount</th>\n",
       "      <th>Avg_Discharges_ByCityDRG_ratio_amount</th>\n",
       "      <th>Avg_Discharges_ByRegionDRG_ratio_amount</th>\n",
       "      <th>Avg_Medicare_ByStateDRG_ratio_amount</th>\n",
       "      <th>Avg_Medicare_ByCityDRG_ratio_amount</th>\n",
       "      <th>Avg_Medicare_ByRegionDRG_ratio_amount</th>\n",
       "      <th>Avg_Medicare_ByZipDRG_ratio_amount</th>\n",
       "      <th>Anomaly_Score</th>\n",
       "    </tr>\n",
       "  </thead>\n",
       "  <tbody>\n",
       "    <tr>\n",
       "      <th>0</th>\n",
       "      <td>Normal</td>\n",
       "      <td>154911</td>\n",
       "      <td>94.99954</td>\n",
       "      <td>0.98</td>\n",
       "      <td>1.00</td>\n",
       "      <td>0.98</td>\n",
       "      <td>0.96</td>\n",
       "      <td>0.99</td>\n",
       "      <td>0.97</td>\n",
       "      <td>0.98</td>\n",
       "      <td>0.99</td>\n",
       "      <td>0.98</td>\n",
       "      <td>1.00</td>\n",
       "      <td>2.22</td>\n",
       "    </tr>\n",
       "    <tr>\n",
       "      <th>1</th>\n",
       "      <td>Outlier</td>\n",
       "      <td>8154</td>\n",
       "      <td>5.00046</td>\n",
       "      <td>1.41</td>\n",
       "      <td>1.26</td>\n",
       "      <td>1.33</td>\n",
       "      <td>1.70</td>\n",
       "      <td>1.27</td>\n",
       "      <td>1.60</td>\n",
       "      <td>1.44</td>\n",
       "      <td>1.21</td>\n",
       "      <td>1.35</td>\n",
       "      <td>1.02</td>\n",
       "      <td>8.52</td>\n",
       "    </tr>\n",
       "  </tbody>\n",
       "</table>\n",
       "</div>"
      ],
      "text/plain": [
       "     Group   Count   Count %  Avg_Payment_ByStateDRG_ratio_amount  \\\n",
       "0   Normal  154911  94.99954                                 0.98   \n",
       "1  Outlier    8154   5.00046                                 1.41   \n",
       "\n",
       "   Average_Payment_ByCityDRG_ratio_amount  \\\n",
       "0                                    1.00   \n",
       "1                                    1.26   \n",
       "\n",
       "   Avg_Payment_ByRegionDRG_ratio_amount  \\\n",
       "0                                  0.98   \n",
       "1                                  1.33   \n",
       "\n",
       "   Avg_Discharges_ByStateDRG_ratio_amount  \\\n",
       "0                                    0.96   \n",
       "1                                    1.70   \n",
       "\n",
       "   Avg_Discharges_ByCityDRG_ratio_amount  \\\n",
       "0                                   0.99   \n",
       "1                                   1.27   \n",
       "\n",
       "   Avg_Discharges_ByRegionDRG_ratio_amount  \\\n",
       "0                                     0.97   \n",
       "1                                     1.60   \n",
       "\n",
       "   Avg_Medicare_ByStateDRG_ratio_amount  Avg_Medicare_ByCityDRG_ratio_amount  \\\n",
       "0                                  0.98                                 0.99   \n",
       "1                                  1.44                                 1.21   \n",
       "\n",
       "   Avg_Medicare_ByRegionDRG_ratio_amount  Avg_Medicare_ByZipDRG_ratio_amount  \\\n",
       "0                                   0.98                                1.00   \n",
       "1                                   1.35                                1.02   \n",
       "\n",
       "   Anomaly_Score  \n",
       "0           2.22  \n",
       "1           8.52  "
      ]
     },
     "execution_count": 99,
     "metadata": {},
     "output_type": "execute_result"
    }
   ],
   "source": [
    "# Here we used the threshold calculated by the function:\n",
    "threshold = clf3.threshold_\n",
    "\n",
    "\n",
    "def descriptive_stat_threshold(df,pred_score, threshold):\n",
    "    # Let's see how many '0's and '1's.\n",
    "    df = pd.DataFrame(df)\n",
    "    df['Anomaly_Score'] = pred_score\n",
    "    df['Group'] = np.where(df['Anomaly_Score']< threshold, 'Normal', 'Outlier')\n",
    "\n",
    "    # Now let's show the summary statistics:\n",
    "    cnt = df.groupby('Group')['Anomaly_Score'].count().reset_index().rename(columns={'Anomaly_Score':'Count'})\n",
    "    cnt['Count %'] = (cnt['Count'] / cnt['Count'].sum()) * 100 # The count and count %\n",
    "    stat = df.groupby('Group').mean().round(2).reset_index() # The avg.\n",
    "    stat = cnt.merge(stat, left_on='Group',right_on='Group') # Put the count and the avg. together\n",
    "    return (stat)\n",
    "\n",
    "descriptive_stat_threshold(features2,y_clf3_scores, threshold)"
   ]
  },
  {
   "cell_type": "markdown",
   "id": "e8bbbc75",
   "metadata": {},
   "source": [
    "The table presents the characteristics of the normal and abnormal groups. It shows the count and count percentage of the normal and outlier groups. \n",
    "\n",
    "- The size of the outlier group: The outlier group is about 5%. Remember the size of the outlier group is determined by the threshold. The size will shrink if you choose a higher value for the threshold.\n",
    "- The average anomaly score: The average outlier score of the outlier group is far higher than that of the normal group (8.52 > 2.22). This evidence just verifies the data in the outlier group are outliers. At this point, you do not need to interpret too much on the scores.\n",
    "- The feature statistics in each group: The means of the features in the outlier group are larger than those of the normal group. A high average ratio of payment/discharges features, that is more than the average values, could suggest fraudulent behaviour."
   ]
  },
  {
   "cell_type": "markdown",
   "id": "b076d98a",
   "metadata": {},
   "source": [
    "#### Evaluate the model performance\n",
    "\n",
    "The confusion matrix proves the model does a decent job and identifies all 8154 outliers."
   ]
  },
  {
   "cell_type": "code",
   "execution_count": 100,
   "id": "18c4db9b",
   "metadata": {},
   "outputs": [
    {
     "data": {
      "text/html": [
       "<div>\n",
       "<style scoped>\n",
       "    .dataframe tbody tr th:only-of-type {\n",
       "        vertical-align: middle;\n",
       "    }\n",
       "\n",
       "    .dataframe tbody tr th {\n",
       "        vertical-align: top;\n",
       "    }\n",
       "\n",
       "    .dataframe thead th {\n",
       "        text-align: right;\n",
       "    }\n",
       "</style>\n",
       "<table border=\"1\" class=\"dataframe\">\n",
       "  <thead>\n",
       "    <tr style=\"text-align: right;\">\n",
       "      <th>Pred</th>\n",
       "      <th>0</th>\n",
       "      <th>1</th>\n",
       "    </tr>\n",
       "    <tr>\n",
       "      <th>Actual</th>\n",
       "      <th></th>\n",
       "      <th></th>\n",
       "    </tr>\n",
       "  </thead>\n",
       "  <tbody>\n",
       "    <tr>\n",
       "      <th>0</th>\n",
       "      <td>154911</td>\n",
       "      <td>0</td>\n",
       "    </tr>\n",
       "    <tr>\n",
       "      <th>1</th>\n",
       "      <td>0</td>\n",
       "      <td>8154</td>\n",
       "    </tr>\n",
       "  </tbody>\n",
       "</table>\n",
       "</div>"
      ],
      "text/plain": [
       "Pred         0     1\n",
       "Actual              \n",
       "0       154911     0\n",
       "1            0  8154"
      ]
     },
     "execution_count": 100,
     "metadata": {},
     "output_type": "execute_result"
    }
   ],
   "source": [
    "# Confusion Matrix\n",
    "def confusion_matrix(actual,score, threshold):\n",
    "    Actual_pred = pd.DataFrame({'Actual': actual, 'Pred': score})\n",
    "    Actual_pred['Pred'] = np.where(Actual_pred['Pred']<=threshold,0,1)\n",
    "    cm = pd.crosstab(Actual_pred['Actual'],Actual_pred['Pred'])\n",
    "    return (cm)\n",
    "confusion_matrix(y_clf3_pred, y_clf3_scores,threshold)"
   ]
  },
  {
   "cell_type": "markdown",
   "id": "172acc13",
   "metadata": {},
   "source": [
    "## Achieve Model Stability by Aggregating Multiple Models\n",
    "* Unsupervised techniques can detect many outliers. But due to its unspervised nature it is not stable, meaning overfitting to a specific dataset.\n",
    "* The solution is to train multiple models then aggregate the scores. \n",
    "* I use 2 methods to aggregate the outcome:\n",
    "* (1) Average: average scores of all detectors.\n",
    "* (2) Maximum of Maximum (MOM)"
   ]
  },
  {
   "cell_type": "code",
   "execution_count": 101,
   "id": "e25b444f",
   "metadata": {},
   "outputs": [],
   "source": [
    "from pyod.models.combination import aom, moa, average, maximization\n",
    "\n",
    "# Put all the predictions in a data frame\n",
    "features_scores = pd.DataFrame({'clf1': clf1.decision_scores_,\n",
    "                             'clf2': clf2.decision_scores_,\n",
    "                             'clf3': clf3.decision_scores_\n",
    "                            })"
   ]
  },
  {
   "cell_type": "code",
   "execution_count": 102,
   "id": "47cae9d0",
   "metadata": {},
   "outputs": [
    {
     "data": {
      "text/html": [
       "<div>\n",
       "<style scoped>\n",
       "    .dataframe tbody tr th:only-of-type {\n",
       "        vertical-align: middle;\n",
       "    }\n",
       "\n",
       "    .dataframe tbody tr th {\n",
       "        vertical-align: top;\n",
       "    }\n",
       "\n",
       "    .dataframe thead th {\n",
       "        text-align: right;\n",
       "    }\n",
       "</style>\n",
       "<table border=\"1\" class=\"dataframe\">\n",
       "  <thead>\n",
       "    <tr style=\"text-align: right;\">\n",
       "      <th></th>\n",
       "      <th>clf1</th>\n",
       "      <th>clf2</th>\n",
       "      <th>clf3</th>\n",
       "    </tr>\n",
       "  </thead>\n",
       "  <tbody>\n",
       "    <tr>\n",
       "      <th>0</th>\n",
       "      <td>2.358167</td>\n",
       "      <td>2.357943</td>\n",
       "      <td>2.358113</td>\n",
       "    </tr>\n",
       "    <tr>\n",
       "      <th>1</th>\n",
       "      <td>1.378067</td>\n",
       "      <td>1.378329</td>\n",
       "      <td>1.378309</td>\n",
       "    </tr>\n",
       "    <tr>\n",
       "      <th>2</th>\n",
       "      <td>2.258201</td>\n",
       "      <td>2.258280</td>\n",
       "      <td>2.258131</td>\n",
       "    </tr>\n",
       "    <tr>\n",
       "      <th>3</th>\n",
       "      <td>1.448041</td>\n",
       "      <td>1.447952</td>\n",
       "      <td>1.447821</td>\n",
       "    </tr>\n",
       "    <tr>\n",
       "      <th>4</th>\n",
       "      <td>1.053039</td>\n",
       "      <td>1.053251</td>\n",
       "      <td>1.053232</td>\n",
       "    </tr>\n",
       "  </tbody>\n",
       "</table>\n",
       "</div>"
      ],
      "text/plain": [
       "       clf1      clf2      clf3\n",
       "0  2.358167  2.357943  2.358113\n",
       "1  1.378067  1.378329  1.378309\n",
       "2  2.258201  2.258280  2.258131\n",
       "3  1.448041  1.447952  1.447821\n",
       "4  1.053039  1.053251  1.053232"
      ]
     },
     "execution_count": 102,
     "metadata": {},
     "output_type": "execute_result"
    }
   ],
   "source": [
    "features_scores.head()"
   ]
  },
  {
   "cell_type": "code",
   "execution_count": 103,
   "id": "3ebdf66c",
   "metadata": {},
   "outputs": [],
   "source": [
    "# Although we did standardization before, it was for the variables.\n",
    "# Now we do the standardization for the decision scores\n",
    "from pyod.utils.utility import standardizer\n",
    "features_scores_norm = standardizer(features_scores)"
   ]
  },
  {
   "cell_type": "code",
   "execution_count": 104,
   "id": "96f8b150",
   "metadata": {},
   "outputs": [
    {
     "data": {
      "text/plain": [
       "(163065, 3)"
      ]
     },
     "execution_count": 104,
     "metadata": {},
     "output_type": "execute_result"
    }
   ],
   "source": [
    "features_scores_norm.shape"
   ]
  },
  {
   "cell_type": "markdown",
   "id": "75f6e667",
   "metadata": {},
   "source": [
    "### Average\n",
    "The \"average\" function in PyOD averages the outlier scores from multiple estimators."
   ]
  },
  {
   "cell_type": "code",
   "execution_count": 105,
   "id": "1041bf31",
   "metadata": {},
   "outputs": [
    {
     "data": {
      "text/plain": [
       "array([-0.61400198, -0.14779849, -0.57707362, -0.78621794, -0.50908714,\n",
       "       -0.52442568,  1.69234086,  0.74998483, -0.64130589])"
      ]
     },
     "execution_count": 105,
     "metadata": {},
     "output_type": "execute_result"
    }
   ],
   "source": [
    "# Combination by average\n",
    "y_by_average = average(features_scores_norm)\n",
    "y_by_average[1:10]"
   ]
  },
  {
   "cell_type": "code",
   "execution_count": 106,
   "id": "a05159b5",
   "metadata": {},
   "outputs": [
    {
     "data": {
      "image/png": "[encoded data removed]",
      "text/plain": [
       "<Figure size 432x288 with 1 Axes>"
      ]
     },
     "metadata": {
      "needs_background": "light"
     },
     "output_type": "display_data"
    }
   ],
   "source": [
    "# Let’s plot the histogram for the average of the predictions\n",
    "import matplotlib.pyplot as plt\n",
    "plt.hist(y_by_average, bins='auto')  # arguments are passed to np.histogram\n",
    "plt.title(\"Combination by average\")\n",
    "plt.show()"
   ]
  },
  {
   "cell_type": "markdown",
   "id": "d2726da9",
   "metadata": {},
   "source": [
    "The histogram suggests 5 for the threshold and it appears we can identify those >=5 as the outliers."
   ]
  },
  {
   "cell_type": "markdown",
   "id": "e03c70d7",
   "metadata": {},
   "source": [
    "#### Present the descriptive statistics of the normal and the abnormal groups"
   ]
  },
  {
   "cell_type": "code",
   "execution_count": 107,
   "id": "5751b8b2",
   "metadata": {},
   "outputs": [
    {
     "data": {
      "text/html": [
       "<div>\n",
       "<style scoped>\n",
       "    .dataframe tbody tr th:only-of-type {\n",
       "        vertical-align: middle;\n",
       "    }\n",
       "\n",
       "    .dataframe tbody tr th {\n",
       "        vertical-align: top;\n",
       "    }\n",
       "\n",
       "    .dataframe thead th {\n",
       "        text-align: right;\n",
       "    }\n",
       "</style>\n",
       "<table border=\"1\" class=\"dataframe\">\n",
       "  <thead>\n",
       "    <tr style=\"text-align: right;\">\n",
       "      <th></th>\n",
       "      <th>Group</th>\n",
       "      <th>Count</th>\n",
       "      <th>Count %</th>\n",
       "      <th>Avg_Payment_ByStateDRG_ratio_amount</th>\n",
       "      <th>Average_Payment_ByCityDRG_ratio_amount</th>\n",
       "      <th>Avg_Payment_ByRegionDRG_ratio_amount</th>\n",
       "      <th>Avg_Discharges_ByStateDRG_ratio_amount</th>\n",
       "      <th>Avg_Discharges_ByCityDRG_ratio_amount</th>\n",
       "      <th>Avg_Discharges_ByRegionDRG_ratio_amount</th>\n",
       "      <th>Avg_Medicare_ByStateDRG_ratio_amount</th>\n",
       "      <th>Avg_Medicare_ByCityDRG_ratio_amount</th>\n",
       "      <th>Avg_Medicare_ByRegionDRG_ratio_amount</th>\n",
       "      <th>Avg_Medicare_ByZipDRG_ratio_amount</th>\n",
       "      <th>Anomaly_Score</th>\n",
       "    </tr>\n",
       "  </thead>\n",
       "  <tbody>\n",
       "    <tr>\n",
       "      <th>0</th>\n",
       "      <td>Normal</td>\n",
       "      <td>162448</td>\n",
       "      <td>99.621623</td>\n",
       "      <td>1.00</td>\n",
       "      <td>1.01</td>\n",
       "      <td>1.0</td>\n",
       "      <td>1.00</td>\n",
       "      <td>1.00</td>\n",
       "      <td>1.0</td>\n",
       "      <td>1.00</td>\n",
       "      <td>1.00</td>\n",
       "      <td>1.00</td>\n",
       "      <td>1.00</td>\n",
       "      <td>-0.03</td>\n",
       "    </tr>\n",
       "    <tr>\n",
       "      <th>1</th>\n",
       "      <td>Outlier</td>\n",
       "      <td>617</td>\n",
       "      <td>0.378377</td>\n",
       "      <td>1.91</td>\n",
       "      <td>1.55</td>\n",
       "      <td>1.7</td>\n",
       "      <td>2.11</td>\n",
       "      <td>1.39</td>\n",
       "      <td>1.9</td>\n",
       "      <td>1.89</td>\n",
       "      <td>1.38</td>\n",
       "      <td>1.69</td>\n",
       "      <td>1.08</td>\n",
       "      <td>6.67</td>\n",
       "    </tr>\n",
       "  </tbody>\n",
       "</table>\n",
       "</div>"
      ],
      "text/plain": [
       "     Group   Count    Count %  Avg_Payment_ByStateDRG_ratio_amount  \\\n",
       "0   Normal  162448  99.621623                                 1.00   \n",
       "1  Outlier     617   0.378377                                 1.91   \n",
       "\n",
       "   Average_Payment_ByCityDRG_ratio_amount  \\\n",
       "0                                    1.01   \n",
       "1                                    1.55   \n",
       "\n",
       "   Avg_Payment_ByRegionDRG_ratio_amount  \\\n",
       "0                                   1.0   \n",
       "1                                   1.7   \n",
       "\n",
       "   Avg_Discharges_ByStateDRG_ratio_amount  \\\n",
       "0                                    1.00   \n",
       "1                                    2.11   \n",
       "\n",
       "   Avg_Discharges_ByCityDRG_ratio_amount  \\\n",
       "0                                   1.00   \n",
       "1                                   1.39   \n",
       "\n",
       "   Avg_Discharges_ByRegionDRG_ratio_amount  \\\n",
       "0                                      1.0   \n",
       "1                                      1.9   \n",
       "\n",
       "   Avg_Medicare_ByStateDRG_ratio_amount  Avg_Medicare_ByCityDRG_ratio_amount  \\\n",
       "0                                  1.00                                 1.00   \n",
       "1                                  1.89                                 1.38   \n",
       "\n",
       "   Avg_Medicare_ByRegionDRG_ratio_amount  Avg_Medicare_ByZipDRG_ratio_amount  \\\n",
       "0                                   1.00                                1.00   \n",
       "1                                   1.69                                1.08   \n",
       "\n",
       "   Anomaly_Score  \n",
       "0          -0.03  \n",
       "1           6.67  "
      ]
     },
     "execution_count": 107,
     "metadata": {},
     "output_type": "execute_result"
    }
   ],
   "source": [
    "# We can derive the descriptive statistics with the aggregated score below:\n",
    "descriptive_stat_threshold(features2,y_by_average,5)"
   ]
  },
  {
   "cell_type": "markdown",
   "id": "7b2749d6",
   "metadata": {},
   "source": [
    "### Maximum of maximum\n",
    "Merge the outlier scores from multiple estimators by taking the maximum."
   ]
  },
  {
   "cell_type": "code",
   "execution_count": 108,
   "id": "5446f452",
   "metadata": {},
   "outputs": [],
   "source": [
    "# Combination by max\n",
    "y_by_maximization = maximization(features_scores_norm)"
   ]
  },
  {
   "cell_type": "code",
   "execution_count": 109,
   "id": "5dd001b7",
   "metadata": {},
   "outputs": [
    {
     "data": {
      "image/png": "[encoded data removed]",
      "text/plain": [
       "<Figure size 432x288 with 1 Axes>"
      ]
     },
     "metadata": {
      "needs_background": "light"
     },
     "output_type": "display_data"
    }
   ],
   "source": [
    "# Let’s plot the histogram for the average of the predictions\n",
    "import matplotlib.pyplot as plt\n",
    "plt.hist(y_by_maximization, bins='auto')  # arguments are passed to np.histogram\n",
    "plt.title(\"Combination by max\")\n",
    "plt.show()"
   ]
  },
  {
   "cell_type": "markdown",
   "id": "16491728",
   "metadata": {},
   "source": [
    "Similarly, the histogram suggests 5 for the threshold and it appears we can identify those >=5 as the outliers."
   ]
  },
  {
   "cell_type": "markdown",
   "id": "01ec9448",
   "metadata": {},
   "source": [
    "#### Present the descriptive statistics of the normal and the abnormal groups"
   ]
  },
  {
   "cell_type": "code",
   "execution_count": 110,
   "id": "91c3032d",
   "metadata": {},
   "outputs": [
    {
     "data": {
      "text/html": [
       "<div>\n",
       "<style scoped>\n",
       "    .dataframe tbody tr th:only-of-type {\n",
       "        vertical-align: middle;\n",
       "    }\n",
       "\n",
       "    .dataframe tbody tr th {\n",
       "        vertical-align: top;\n",
       "    }\n",
       "\n",
       "    .dataframe thead th {\n",
       "        text-align: right;\n",
       "    }\n",
       "</style>\n",
       "<table border=\"1\" class=\"dataframe\">\n",
       "  <thead>\n",
       "    <tr style=\"text-align: right;\">\n",
       "      <th></th>\n",
       "      <th>Group</th>\n",
       "      <th>Count</th>\n",
       "      <th>Count %</th>\n",
       "      <th>Avg_Payment_ByStateDRG_ratio_amount</th>\n",
       "      <th>Average_Payment_ByCityDRG_ratio_amount</th>\n",
       "      <th>Avg_Payment_ByRegionDRG_ratio_amount</th>\n",
       "      <th>Avg_Discharges_ByStateDRG_ratio_amount</th>\n",
       "      <th>Avg_Discharges_ByCityDRG_ratio_amount</th>\n",
       "      <th>Avg_Discharges_ByRegionDRG_ratio_amount</th>\n",
       "      <th>Avg_Medicare_ByStateDRG_ratio_amount</th>\n",
       "      <th>Avg_Medicare_ByCityDRG_ratio_amount</th>\n",
       "      <th>Avg_Medicare_ByRegionDRG_ratio_amount</th>\n",
       "      <th>Avg_Medicare_ByZipDRG_ratio_amount</th>\n",
       "      <th>Anomaly_Score</th>\n",
       "    </tr>\n",
       "  </thead>\n",
       "  <tbody>\n",
       "    <tr>\n",
       "      <th>0</th>\n",
       "      <td>Normal</td>\n",
       "      <td>162448</td>\n",
       "      <td>99.621623</td>\n",
       "      <td>1.00</td>\n",
       "      <td>1.01</td>\n",
       "      <td>1.0</td>\n",
       "      <td>1.00</td>\n",
       "      <td>1.00</td>\n",
       "      <td>1.0</td>\n",
       "      <td>1.00</td>\n",
       "      <td>1.00</td>\n",
       "      <td>1.00</td>\n",
       "      <td>1.00</td>\n",
       "      <td>-0.03</td>\n",
       "    </tr>\n",
       "    <tr>\n",
       "      <th>1</th>\n",
       "      <td>Outlier</td>\n",
       "      <td>617</td>\n",
       "      <td>0.378377</td>\n",
       "      <td>1.91</td>\n",
       "      <td>1.55</td>\n",
       "      <td>1.7</td>\n",
       "      <td>2.11</td>\n",
       "      <td>1.39</td>\n",
       "      <td>1.9</td>\n",
       "      <td>1.89</td>\n",
       "      <td>1.38</td>\n",
       "      <td>1.69</td>\n",
       "      <td>1.08</td>\n",
       "      <td>6.67</td>\n",
       "    </tr>\n",
       "  </tbody>\n",
       "</table>\n",
       "</div>"
      ],
      "text/plain": [
       "     Group   Count    Count %  Avg_Payment_ByStateDRG_ratio_amount  \\\n",
       "0   Normal  162448  99.621623                                 1.00   \n",
       "1  Outlier     617   0.378377                                 1.91   \n",
       "\n",
       "   Average_Payment_ByCityDRG_ratio_amount  \\\n",
       "0                                    1.01   \n",
       "1                                    1.55   \n",
       "\n",
       "   Avg_Payment_ByRegionDRG_ratio_amount  \\\n",
       "0                                   1.0   \n",
       "1                                   1.7   \n",
       "\n",
       "   Avg_Discharges_ByStateDRG_ratio_amount  \\\n",
       "0                                    1.00   \n",
       "1                                    2.11   \n",
       "\n",
       "   Avg_Discharges_ByCityDRG_ratio_amount  \\\n",
       "0                                   1.00   \n",
       "1                                   1.39   \n",
       "\n",
       "   Avg_Discharges_ByRegionDRG_ratio_amount  \\\n",
       "0                                      1.0   \n",
       "1                                      1.9   \n",
       "\n",
       "   Avg_Medicare_ByStateDRG_ratio_amount  Avg_Medicare_ByCityDRG_ratio_amount  \\\n",
       "0                                  1.00                                 1.00   \n",
       "1                                  1.89                                 1.38   \n",
       "\n",
       "   Avg_Medicare_ByRegionDRG_ratio_amount  Avg_Medicare_ByZipDRG_ratio_amount  \\\n",
       "0                                   1.00                                1.00   \n",
       "1                                   1.69                                1.08   \n",
       "\n",
       "   Anomaly_Score  \n",
       "0          -0.03  \n",
       "1           6.67  "
      ]
     },
     "execution_count": 110,
     "metadata": {},
     "output_type": "execute_result"
    }
   ],
   "source": [
    "# We can derive the descriptive statistics with the aggregated score below:\n",
    "descriptive_stat_threshold(features2,y_by_maximization,5)"
   ]
  },
  {
   "cell_type": "markdown",
   "id": "2da88f93",
   "metadata": {},
   "source": [
    "## Section 5: Python Outlier Detection (PyOD) IForest - iris <a class=\"anchor\" id=\"Section_5\"></a>\n",
    "\n",
    "The Isolated Forest algorithm: Random partitioning produces noticeably shorter paths for anomalies. Hence, when a forest of random trees collectively produce shorter path lengths for particular samples, they are highly likely to be anomalies.\n",
    "\n",
    "Most existing model-based approaches to anomaly detection construct a profile of normal instances, then identify instances that do not conform to the normal profile as outliers. But IForest directly and explicitly isolates anomalies. IForest adopts a tree structure to isolate every single data point. Anomalies are the singular data points first to be singled out; whereas normal points tend to cluster together amid the tree.\n",
    "Because Isolation Forest does not use any distance measures to detect anomalies, it is fast and suitable for large data sizes and high-dimensional problems."
   ]
  },
  {
   "cell_type": "code",
   "execution_count": 111,
   "id": "92243f91",
   "metadata": {},
   "outputs": [],
   "source": [
    "from pyod.models.iforest import IForest"
   ]
  },
  {
   "cell_type": "markdown",
   "id": "e9c67649",
   "metadata": {},
   "source": [
    "## IForest\n",
    "* You do not need the target variable to train the unsupervised learning model.\n",
    "* We will create three models: isft1, isft2,and isft3\n",
    "* Model 1: max_samples = 100\n",
    "* Model 2: max_samples = 80\n",
    "* Model 3: max_samples = 60\n",
    "\n",
    "### Model 1"
   ]
  },
  {
   "cell_type": "code",
   "execution_count": 112,
   "id": "5c695c70",
   "metadata": {},
   "outputs": [],
   "source": [
    "# Selecting necessary features\n",
    "features2 = df1[features]"
   ]
  },
  {
   "cell_type": "code",
   "execution_count": 113,
   "id": "2ee21d46",
   "metadata": {},
   "outputs": [
    {
     "data": {
      "text/plain": [
       "IForest(behaviour='new', bootstrap=False, contamination=0.05,\n",
       "    max_features=1.0, max_samples=100, n_estimators=100, n_jobs=1,\n",
       "    random_state=None, verbose=0)"
      ]
     },
     "execution_count": 113,
     "metadata": {},
     "output_type": "execute_result"
    }
   ],
   "source": [
    "isft1 = IForest(contamination=0.05, behaviour=\"new\", max_samples=100) \n",
    "isft1.fit(features2)"
   ]
  },
  {
   "cell_type": "code",
   "execution_count": 114,
   "id": "a8c00e51",
   "metadata": {},
   "outputs": [
    {
     "data": {
      "text/plain": [
       "{'behaviour': 'new',\n",
       " 'bootstrap': False,\n",
       " 'contamination': 0.05,\n",
       " 'max_features': 1.0,\n",
       " 'max_samples': 100,\n",
       " 'n_estimators': 100,\n",
       " 'n_jobs': 1,\n",
       " 'random_state': None,\n",
       " 'verbose': 0}"
      ]
     },
     "execution_count": 114,
     "metadata": {},
     "output_type": "execute_result"
    }
   ],
   "source": [
    "# Hyper-parameters\n",
    "isft1.get_params()"
   ]
  },
  {
   "cell_type": "code",
   "execution_count": 115,
   "id": "b9a6c98b",
   "metadata": {},
   "outputs": [
    {
     "data": {
      "text/plain": [
       "array([0.08336835, 0.09861402, 0.1211669 , 0.11665853, 0.09594525,\n",
       "       0.08892702, 0.12632458, 0.11480981, 0.08670205, 0.06748348])"
      ]
     },
     "execution_count": 115,
     "metadata": {},
     "output_type": "execute_result"
    }
   ],
   "source": [
    "# Variable Importance\n",
    "isft1_vi = isft1.feature_importances_\n",
    "isft1_vi"
   ]
  },
  {
   "cell_type": "code",
   "execution_count": 116,
   "id": "8ba12f2f",
   "metadata": {},
   "outputs": [
    {
     "data": {
      "text/plain": [
       "<AxesSubplot:>"
      ]
     },
     "execution_count": 116,
     "metadata": {},
     "output_type": "execute_result"
    },
    {
     "data": {
      "image/png": "[encoded data removed]",
      "text/plain": [
       "<Figure size 432x288 with 1 Axes>"
      ]
     },
     "metadata": {
      "needs_background": "light"
     },
     "output_type": "display_data"
    }
   ],
   "source": [
    "# Plot the feature importance\n",
    "from matplotlib import pyplot as plt\n",
    "for_plot = pd.DataFrame({'x_axis':features2.columns,\n",
    "              'y_axis':isft1_vi}).sort_values(by='y_axis',ascending=True)\n",
    "for_plot['y_axis'].plot.barh()"
   ]
  },
  {
   "cell_type": "code",
   "execution_count": 117,
   "id": "dee2cc2f",
   "metadata": {},
   "outputs": [],
   "source": [
    "y_isft1_scores = isft1.decision_function(features2.values)\n",
    "y_isft1_pred = isft1.predict(features2.values)"
   ]
  },
  {
   "cell_type": "markdown",
   "id": "aad1d977",
   "metadata": {},
   "source": [
    "#### Determine the threshold"
   ]
  },
  {
   "cell_type": "code",
   "execution_count": 118,
   "id": "0df03a27",
   "metadata": {},
   "outputs": [
    {
     "name": "stdout",
     "output_type": "stream",
     "text": [
      "The threshold for the defined contamination rate: -2.453337758097883e-16\n"
     ]
    }
   ],
   "source": [
    "# Threshold for the defined comtanimation rate\n",
    "print(\"The threshold for the defined contamination rate:\" , isft1.threshold_)"
   ]
  },
  {
   "cell_type": "code",
   "execution_count": 119,
   "id": "229b706d",
   "metadata": {},
   "outputs": [
    {
     "name": "stdout",
     "output_type": "stream",
     "text": [
      "The data: {0: 154911, 1: 8154}\n"
     ]
    }
   ],
   "source": [
    "def count_stat(vector):\n",
    "    # Because it is '0' and '1', we can run a count statistic. \n",
    "    unique, counts = np.unique(vector, return_counts=True)\n",
    "    return dict(zip(unique, counts))\n",
    "\n",
    "print(\"The data:\", count_stat(y_isft1_pred))"
   ]
  },
  {
   "cell_type": "markdown",
   "id": "7a70ee73",
   "metadata": {},
   "source": [
    "The threshold is to be determined by the histogram of the outlier scores. The chart below suggests a threshold around 0.1. This means the outlier scores of most of the normal data are less than 0.1. The outlier scores of the abnormal data are in the high range."
   ]
  },
  {
   "cell_type": "code",
   "execution_count": 120,
   "id": "62d78cb8",
   "metadata": {},
   "outputs": [
    {
     "data": {
      "image/png": "[encoded data removed]",
      "text/plain": [
       "<Figure size 432x288 with 1 Axes>"
      ]
     },
     "metadata": {
      "needs_background": "light"
     },
     "output_type": "display_data"
    }
   ],
   "source": [
    "import matplotlib.pyplot as plt\n",
    "plt.hist(y_isft1_scores, bins='auto')  # arguments are passed to np.histogram\n",
    "plt.title(\"Histogram for Model isft1 Anomaly Score\")\n",
    "plt.show()"
   ]
  },
  {
   "cell_type": "markdown",
   "id": "68d94ce7",
   "metadata": {},
   "source": [
    "#### Present the Descriptive Statistics of the Normal and the Abnormal groups"
   ]
  },
  {
   "cell_type": "code",
   "execution_count": 121,
   "id": "ca174fbf",
   "metadata": {},
   "outputs": [
    {
     "data": {
      "text/html": [
       "<div>\n",
       "<style scoped>\n",
       "    .dataframe tbody tr th:only-of-type {\n",
       "        vertical-align: middle;\n",
       "    }\n",
       "\n",
       "    .dataframe tbody tr th {\n",
       "        vertical-align: top;\n",
       "    }\n",
       "\n",
       "    .dataframe thead th {\n",
       "        text-align: right;\n",
       "    }\n",
       "</style>\n",
       "<table border=\"1\" class=\"dataframe\">\n",
       "  <thead>\n",
       "    <tr style=\"text-align: right;\">\n",
       "      <th></th>\n",
       "      <th>Group</th>\n",
       "      <th>Count</th>\n",
       "      <th>Count %</th>\n",
       "      <th>Avg_Payment_ByStateDRG_ratio_amount</th>\n",
       "      <th>Average_Payment_ByCityDRG_ratio_amount</th>\n",
       "      <th>Avg_Payment_ByRegionDRG_ratio_amount</th>\n",
       "      <th>Avg_Discharges_ByStateDRG_ratio_amount</th>\n",
       "      <th>Avg_Discharges_ByCityDRG_ratio_amount</th>\n",
       "      <th>Avg_Discharges_ByRegionDRG_ratio_amount</th>\n",
       "      <th>Avg_Medicare_ByStateDRG_ratio_amount</th>\n",
       "      <th>Avg_Medicare_ByCityDRG_ratio_amount</th>\n",
       "      <th>Avg_Medicare_ByRegionDRG_ratio_amount</th>\n",
       "      <th>Avg_Medicare_ByZipDRG_ratio_amount</th>\n",
       "      <th>Anomaly_Score</th>\n",
       "    </tr>\n",
       "  </thead>\n",
       "  <tbody>\n",
       "    <tr>\n",
       "      <th>0</th>\n",
       "      <td>Normal</td>\n",
       "      <td>154911</td>\n",
       "      <td>94.99954</td>\n",
       "      <td>0.98</td>\n",
       "      <td>1.00</td>\n",
       "      <td>0.98</td>\n",
       "      <td>0.96</td>\n",
       "      <td>0.99</td>\n",
       "      <td>0.97</td>\n",
       "      <td>0.98</td>\n",
       "      <td>0.99</td>\n",
       "      <td>0.98</td>\n",
       "      <td>1.00</td>\n",
       "      <td>-0.16</td>\n",
       "    </tr>\n",
       "    <tr>\n",
       "      <th>1</th>\n",
       "      <td>Outlier</td>\n",
       "      <td>8154</td>\n",
       "      <td>5.00046</td>\n",
       "      <td>1.41</td>\n",
       "      <td>1.27</td>\n",
       "      <td>1.33</td>\n",
       "      <td>1.68</td>\n",
       "      <td>1.28</td>\n",
       "      <td>1.59</td>\n",
       "      <td>1.44</td>\n",
       "      <td>1.22</td>\n",
       "      <td>1.36</td>\n",
       "      <td>1.02</td>\n",
       "      <td>0.05</td>\n",
       "    </tr>\n",
       "  </tbody>\n",
       "</table>\n",
       "</div>"
      ],
      "text/plain": [
       "     Group   Count   Count %  Avg_Payment_ByStateDRG_ratio_amount  \\\n",
       "0   Normal  154911  94.99954                                 0.98   \n",
       "1  Outlier    8154   5.00046                                 1.41   \n",
       "\n",
       "   Average_Payment_ByCityDRG_ratio_amount  \\\n",
       "0                                    1.00   \n",
       "1                                    1.27   \n",
       "\n",
       "   Avg_Payment_ByRegionDRG_ratio_amount  \\\n",
       "0                                  0.98   \n",
       "1                                  1.33   \n",
       "\n",
       "   Avg_Discharges_ByStateDRG_ratio_amount  \\\n",
       "0                                    0.96   \n",
       "1                                    1.68   \n",
       "\n",
       "   Avg_Discharges_ByCityDRG_ratio_amount  \\\n",
       "0                                   0.99   \n",
       "1                                   1.28   \n",
       "\n",
       "   Avg_Discharges_ByRegionDRG_ratio_amount  \\\n",
       "0                                     0.97   \n",
       "1                                     1.59   \n",
       "\n",
       "   Avg_Medicare_ByStateDRG_ratio_amount  Avg_Medicare_ByCityDRG_ratio_amount  \\\n",
       "0                                  0.98                                 0.99   \n",
       "1                                  1.44                                 1.22   \n",
       "\n",
       "   Avg_Medicare_ByRegionDRG_ratio_amount  Avg_Medicare_ByZipDRG_ratio_amount  \\\n",
       "0                                   0.98                                1.00   \n",
       "1                                   1.36                                1.02   \n",
       "\n",
       "   Anomaly_Score  \n",
       "0          -0.16  \n",
       "1           0.05  "
      ]
     },
     "execution_count": 121,
     "metadata": {},
     "output_type": "execute_result"
    }
   ],
   "source": [
    "threshold = isft1.threshold_ # Or other value from the above histogram\n",
    "\n",
    "def descriptive_stat_threshold(df,pred_score, threshold):\n",
    "    # Let's see how many '0's and '1's.\n",
    "    df = pd.DataFrame(df)\n",
    "    df['Anomaly_Score'] = pred_score\n",
    "    df['Group'] = np.where(df['Anomaly_Score']< threshold, 'Normal', 'Outlier')\n",
    "\n",
    "    # Now let's show the summary statistics:\n",
    "    cnt = df.groupby('Group')['Anomaly_Score'].count().reset_index().rename(columns={'Anomaly_Score':'Count'})\n",
    "    cnt['Count %'] = (cnt['Count'] / cnt['Count'].sum()) * 100 # The count and count %\n",
    "    stat = df.groupby('Group').mean().round(2).reset_index() # The avg.\n",
    "    stat = cnt.merge(stat, left_on='Group',right_on='Group') # Put the count and the avg. together\n",
    "    return (stat)\n",
    "\n",
    "descriptive_stat_threshold(features2,y_isft1_scores, threshold)"
   ]
  },
  {
   "cell_type": "markdown",
   "id": "8c29051e",
   "metadata": {},
   "source": [
    "The table presents the characteristics of the normal and abnormal groups. It shows the count and count percentage of the normal and outlier groups. \n",
    "\n",
    "- The size of the outlier group: The outlier group is about 5%. Remember the size of the outlier group is determined by the threshold. The size will shrink if you choose a higher value for the threshold.\n",
    "- The average anomaly score: The average outlier score of the outlier group is far higher than that of the normal group (0.05 > -0.16). This evidence just verifies the data in the outlier group are outliers. At this point, you do not need to interpret too much on the scores.\n",
    "- The feature statistics in each group: The means of the features in the outlier group are larger than those of the normal group. A high average ratio of payment/discharges features, that is more than the average values, could suggest fraudulent behaviour."
   ]
  },
  {
   "cell_type": "markdown",
   "id": "30bd8c14",
   "metadata": {},
   "source": [
    "#### Evaluate the model performance\n",
    "\n",
    "The confusion matrix proves the model does a decent job and identifies all 8154 outliers."
   ]
  },
  {
   "cell_type": "code",
   "execution_count": 122,
   "id": "be530dd0",
   "metadata": {},
   "outputs": [
    {
     "data": {
      "text/html": [
       "<div>\n",
       "<style scoped>\n",
       "    .dataframe tbody tr th:only-of-type {\n",
       "        vertical-align: middle;\n",
       "    }\n",
       "\n",
       "    .dataframe tbody tr th {\n",
       "        vertical-align: top;\n",
       "    }\n",
       "\n",
       "    .dataframe thead th {\n",
       "        text-align: right;\n",
       "    }\n",
       "</style>\n",
       "<table border=\"1\" class=\"dataframe\">\n",
       "  <thead>\n",
       "    <tr style=\"text-align: right;\">\n",
       "      <th>Pred</th>\n",
       "      <th>0</th>\n",
       "      <th>1</th>\n",
       "    </tr>\n",
       "    <tr>\n",
       "      <th>Actual</th>\n",
       "      <th></th>\n",
       "      <th></th>\n",
       "    </tr>\n",
       "  </thead>\n",
       "  <tbody>\n",
       "    <tr>\n",
       "      <th>0</th>\n",
       "      <td>154911</td>\n",
       "      <td>0</td>\n",
       "    </tr>\n",
       "    <tr>\n",
       "      <th>1</th>\n",
       "      <td>0</td>\n",
       "      <td>8154</td>\n",
       "    </tr>\n",
       "  </tbody>\n",
       "</table>\n",
       "</div>"
      ],
      "text/plain": [
       "Pred         0     1\n",
       "Actual              \n",
       "0       154911     0\n",
       "1            0  8154"
      ]
     },
     "execution_count": 122,
     "metadata": {},
     "output_type": "execute_result"
    }
   ],
   "source": [
    "# Confusion Matrix\n",
    "def confusion_matrix(actual,score, threshold):\n",
    "    Actual_pred = pd.DataFrame({'Actual': actual, 'Pred': score})\n",
    "    Actual_pred['Pred'] = np.where(Actual_pred['Pred']<=threshold,0,1)\n",
    "    cm = pd.crosstab(Actual_pred['Actual'],Actual_pred['Pred'])\n",
    "    return (cm)\n",
    "confusion_matrix(y_isft1_pred, y_isft1_scores,threshold)"
   ]
  },
  {
   "cell_type": "markdown",
   "id": "6da074bb",
   "metadata": {},
   "source": [
    "### Model 2"
   ]
  },
  {
   "cell_type": "code",
   "execution_count": 123,
   "id": "b07b6c65",
   "metadata": {},
   "outputs": [],
   "source": [
    "# Selecting necessary features\n",
    "features2 = df1[features]"
   ]
  },
  {
   "cell_type": "code",
   "execution_count": 124,
   "id": "d588bb41",
   "metadata": {},
   "outputs": [
    {
     "data": {
      "text/plain": [
       "IForest(behaviour='new', bootstrap=False, contamination=0.05,\n",
       "    max_features=1.0, max_samples=80, n_estimators=100, n_jobs=1,\n",
       "    random_state=None, verbose=0)"
      ]
     },
     "execution_count": 124,
     "metadata": {},
     "output_type": "execute_result"
    }
   ],
   "source": [
    "isft2 = IForest(contamination=0.05, behaviour=\"new\", max_samples=80) \n",
    "isft2.fit(features2)"
   ]
  },
  {
   "cell_type": "code",
   "execution_count": 125,
   "id": "959a7431",
   "metadata": {},
   "outputs": [
    {
     "data": {
      "text/plain": [
       "{'behaviour': 'new',\n",
       " 'bootstrap': False,\n",
       " 'contamination': 0.05,\n",
       " 'max_features': 1.0,\n",
       " 'max_samples': 80,\n",
       " 'n_estimators': 100,\n",
       " 'n_jobs': 1,\n",
       " 'random_state': None,\n",
       " 'verbose': 0}"
      ]
     },
     "execution_count": 125,
     "metadata": {},
     "output_type": "execute_result"
    }
   ],
   "source": [
    "# Hyper-parameters\n",
    "isft2.get_params()"
   ]
  },
  {
   "cell_type": "code",
   "execution_count": 126,
   "id": "0cd29ccb",
   "metadata": {},
   "outputs": [
    {
     "data": {
      "text/plain": [
       "array([0.11599904, 0.08055834, 0.09710575, 0.10842713, 0.10390968,\n",
       "       0.11292539, 0.10359835, 0.08379774, 0.10065589, 0.09302269])"
      ]
     },
     "execution_count": 126,
     "metadata": {},
     "output_type": "execute_result"
    }
   ],
   "source": [
    "# Variable Importance\n",
    "isft2_vi = isft2.feature_importances_\n",
    "isft2_vi"
   ]
  },
  {
   "cell_type": "code",
   "execution_count": 127,
   "id": "c40212b5",
   "metadata": {},
   "outputs": [
    {
     "data": {
      "text/plain": [
       "<AxesSubplot:>"
      ]
     },
     "execution_count": 127,
     "metadata": {},
     "output_type": "execute_result"
    },
    {
     "data": {
      "image/png": "[encoded data removed]",
      "text/plain": [
       "<Figure size 432x288 with 1 Axes>"
      ]
     },
     "metadata": {
      "needs_background": "light"
     },
     "output_type": "display_data"
    }
   ],
   "source": [
    "from matplotlib import pyplot as plt\n",
    "for_plot = pd.DataFrame({'x_axis':features2.columns,\n",
    "              'y_axis':isft2_vi}).sort_values(by='y_axis',ascending=True)\n",
    "for_plot['y_axis'].plot.barh()"
   ]
  },
  {
   "cell_type": "code",
   "execution_count": 128,
   "id": "4b50c7cb",
   "metadata": {},
   "outputs": [],
   "source": [
    "y_isft2_scores = isft2.decision_function(features2.values)\n",
    "y_isft2_pred = isft2.predict(features2.values)"
   ]
  },
  {
   "cell_type": "markdown",
   "id": "f3f3f43b",
   "metadata": {},
   "source": [
    "#### Determine the threshold"
   ]
  },
  {
   "cell_type": "code",
   "execution_count": 129,
   "id": "fb08d3a8",
   "metadata": {},
   "outputs": [
    {
     "name": "stdout",
     "output_type": "stream",
     "text": [
      "The threshold for the defined contamination rate: -1.0673292761761988e-16\n"
     ]
    }
   ],
   "source": [
    "# Threshold for the defined comtanimation rate\n",
    "print(\"The threshold for the defined contamination rate:\" , isft2.threshold_)"
   ]
  },
  {
   "cell_type": "code",
   "execution_count": 130,
   "id": "c10db503",
   "metadata": {},
   "outputs": [
    {
     "name": "stdout",
     "output_type": "stream",
     "text": [
      "The data: {0: 154911, 1: 8154}\n"
     ]
    }
   ],
   "source": [
    "def count_stat(vector):\n",
    "    # Because it is '0' and '1', we can run a count statistic. \n",
    "    unique, counts = np.unique(vector, return_counts=True)\n",
    "    return dict(zip(unique, counts))\n",
    "\n",
    "print(\"The data:\", count_stat(y_isft2_pred))"
   ]
  },
  {
   "cell_type": "markdown",
   "id": "8ad2ae65",
   "metadata": {},
   "source": [
    "\n",
    "The threshold is to be determined by the histogram of the outlier scores. The chart below suggests a threshold around 0.1. This means the outlier scores of most of the normal data are less than 0.1. The outlier scores of the abnormal data are in the high range."
   ]
  },
  {
   "cell_type": "code",
   "execution_count": 131,
   "id": "7586bde8",
   "metadata": {},
   "outputs": [
    {
     "data": {
      "image/png": "[encoded data removed]",
      "text/plain": [
       "<Figure size 432x288 with 1 Axes>"
      ]
     },
     "metadata": {
      "needs_background": "light"
     },
     "output_type": "display_data"
    }
   ],
   "source": [
    "import matplotlib.pyplot as plt\n",
    "plt.hist(y_isft2_scores, bins='auto')  # arguments are passed to np.histogram\n",
    "plt.title(\"Histogram for Model isft2 Anomaly Score\")\n",
    "plt.show()"
   ]
  },
  {
   "cell_type": "markdown",
   "id": "15544f64",
   "metadata": {},
   "source": [
    "#### Present the Descriptive Statistics of the Normal and the Abnormal groups"
   ]
  },
  {
   "cell_type": "code",
   "execution_count": 132,
   "id": "e769d622",
   "metadata": {},
   "outputs": [
    {
     "data": {
      "text/html": [
       "<div>\n",
       "<style scoped>\n",
       "    .dataframe tbody tr th:only-of-type {\n",
       "        vertical-align: middle;\n",
       "    }\n",
       "\n",
       "    .dataframe tbody tr th {\n",
       "        vertical-align: top;\n",
       "    }\n",
       "\n",
       "    .dataframe thead th {\n",
       "        text-align: right;\n",
       "    }\n",
       "</style>\n",
       "<table border=\"1\" class=\"dataframe\">\n",
       "  <thead>\n",
       "    <tr style=\"text-align: right;\">\n",
       "      <th></th>\n",
       "      <th>Group</th>\n",
       "      <th>Count</th>\n",
       "      <th>Count %</th>\n",
       "      <th>Avg_Payment_ByStateDRG_ratio_amount</th>\n",
       "      <th>Average_Payment_ByCityDRG_ratio_amount</th>\n",
       "      <th>Avg_Payment_ByRegionDRG_ratio_amount</th>\n",
       "      <th>Avg_Discharges_ByStateDRG_ratio_amount</th>\n",
       "      <th>Avg_Discharges_ByCityDRG_ratio_amount</th>\n",
       "      <th>Avg_Discharges_ByRegionDRG_ratio_amount</th>\n",
       "      <th>Avg_Medicare_ByStateDRG_ratio_amount</th>\n",
       "      <th>Avg_Medicare_ByCityDRG_ratio_amount</th>\n",
       "      <th>Avg_Medicare_ByRegionDRG_ratio_amount</th>\n",
       "      <th>Avg_Medicare_ByZipDRG_ratio_amount</th>\n",
       "      <th>Anomaly_Score</th>\n",
       "    </tr>\n",
       "  </thead>\n",
       "  <tbody>\n",
       "    <tr>\n",
       "      <th>0</th>\n",
       "      <td>Normal</td>\n",
       "      <td>154911</td>\n",
       "      <td>94.99954</td>\n",
       "      <td>0.98</td>\n",
       "      <td>1.00</td>\n",
       "      <td>0.98</td>\n",
       "      <td>0.97</td>\n",
       "      <td>0.99</td>\n",
       "      <td>0.97</td>\n",
       "      <td>0.98</td>\n",
       "      <td>0.99</td>\n",
       "      <td>0.98</td>\n",
       "      <td>1.00</td>\n",
       "      <td>-0.17</td>\n",
       "    </tr>\n",
       "    <tr>\n",
       "      <th>1</th>\n",
       "      <td>Outlier</td>\n",
       "      <td>8154</td>\n",
       "      <td>5.00046</td>\n",
       "      <td>1.43</td>\n",
       "      <td>1.27</td>\n",
       "      <td>1.35</td>\n",
       "      <td>1.56</td>\n",
       "      <td>1.21</td>\n",
       "      <td>1.50</td>\n",
       "      <td>1.47</td>\n",
       "      <td>1.22</td>\n",
       "      <td>1.37</td>\n",
       "      <td>1.02</td>\n",
       "      <td>0.05</td>\n",
       "    </tr>\n",
       "  </tbody>\n",
       "</table>\n",
       "</div>"
      ],
      "text/plain": [
       "     Group   Count   Count %  Avg_Payment_ByStateDRG_ratio_amount  \\\n",
       "0   Normal  154911  94.99954                                 0.98   \n",
       "1  Outlier    8154   5.00046                                 1.43   \n",
       "\n",
       "   Average_Payment_ByCityDRG_ratio_amount  \\\n",
       "0                                    1.00   \n",
       "1                                    1.27   \n",
       "\n",
       "   Avg_Payment_ByRegionDRG_ratio_amount  \\\n",
       "0                                  0.98   \n",
       "1                                  1.35   \n",
       "\n",
       "   Avg_Discharges_ByStateDRG_ratio_amount  \\\n",
       "0                                    0.97   \n",
       "1                                    1.56   \n",
       "\n",
       "   Avg_Discharges_ByCityDRG_ratio_amount  \\\n",
       "0                                   0.99   \n",
       "1                                   1.21   \n",
       "\n",
       "   Avg_Discharges_ByRegionDRG_ratio_amount  \\\n",
       "0                                     0.97   \n",
       "1                                     1.50   \n",
       "\n",
       "   Avg_Medicare_ByStateDRG_ratio_amount  Avg_Medicare_ByCityDRG_ratio_amount  \\\n",
       "0                                  0.98                                 0.99   \n",
       "1                                  1.47                                 1.22   \n",
       "\n",
       "   Avg_Medicare_ByRegionDRG_ratio_amount  Avg_Medicare_ByZipDRG_ratio_amount  \\\n",
       "0                                   0.98                                1.00   \n",
       "1                                   1.37                                1.02   \n",
       "\n",
       "   Anomaly_Score  \n",
       "0          -0.17  \n",
       "1           0.05  "
      ]
     },
     "execution_count": 132,
     "metadata": {},
     "output_type": "execute_result"
    }
   ],
   "source": [
    "threshold = isft2.threshold_ # Or other value from the above histogram\n",
    "\n",
    "def descriptive_stat_threshold(df,pred_score, threshold):\n",
    "    # Let's see how many '0's and '1's.\n",
    "    df = pd.DataFrame(df)\n",
    "    df['Anomaly_Score'] = pred_score\n",
    "    df['Group'] = np.where(df['Anomaly_Score']< threshold, 'Normal', 'Outlier')\n",
    "\n",
    "    # Now let's show the summary statistics:\n",
    "    cnt = df.groupby('Group')['Anomaly_Score'].count().reset_index().rename(columns={'Anomaly_Score':'Count'})\n",
    "    cnt['Count %'] = (cnt['Count'] / cnt['Count'].sum()) * 100 # The count and count %\n",
    "    stat = df.groupby('Group').mean().round(2).reset_index() # The avg.\n",
    "    stat = cnt.merge(stat, left_on='Group',right_on='Group') # Put the count and the avg. together\n",
    "    return (stat)\n",
    "\n",
    "descriptive_stat_threshold(features2,y_isft2_scores, threshold)"
   ]
  },
  {
   "cell_type": "markdown",
   "id": "f49e4187",
   "metadata": {},
   "source": [
    "The table presents the characteristics of the normal and abnormal groups. It shows the count and count percentage of the normal and outlier groups. \n",
    "\n",
    "- The size of the outlier group: The outlier group is about 5%. Remember the size of the outlier group is determined by the threshold. The size will shrink if you choose a higher value for the threshold.\n",
    "- The average anomaly score: The average outlier score of the outlier group is far higher than that of the normal group (0.05 > -0.17). This evidence just verifies the data in the outlier group are outliers. At this point, you do not need to interpret too much on the scores.\n",
    "- The feature statistics in each group: The means of the features in the outlier group are larger than those of the normal group. A high average ratio of payment/discharges features, that is more than the average values, could suggest fraudulent behaviour."
   ]
  },
  {
   "cell_type": "markdown",
   "id": "31c17a49",
   "metadata": {},
   "source": [
    "#### Evaluate the model performance\n",
    "\n",
    "The confusion matrix proves the model does a decent job and identifies all 8154 outliers."
   ]
  },
  {
   "cell_type": "code",
   "execution_count": 133,
   "id": "38f5a330",
   "metadata": {},
   "outputs": [
    {
     "data": {
      "text/html": [
       "<div>\n",
       "<style scoped>\n",
       "    .dataframe tbody tr th:only-of-type {\n",
       "        vertical-align: middle;\n",
       "    }\n",
       "\n",
       "    .dataframe tbody tr th {\n",
       "        vertical-align: top;\n",
       "    }\n",
       "\n",
       "    .dataframe thead th {\n",
       "        text-align: right;\n",
       "    }\n",
       "</style>\n",
       "<table border=\"1\" class=\"dataframe\">\n",
       "  <thead>\n",
       "    <tr style=\"text-align: right;\">\n",
       "      <th>Pred</th>\n",
       "      <th>0</th>\n",
       "      <th>1</th>\n",
       "    </tr>\n",
       "    <tr>\n",
       "      <th>Actual</th>\n",
       "      <th></th>\n",
       "      <th></th>\n",
       "    </tr>\n",
       "  </thead>\n",
       "  <tbody>\n",
       "    <tr>\n",
       "      <th>0</th>\n",
       "      <td>154911</td>\n",
       "      <td>0</td>\n",
       "    </tr>\n",
       "    <tr>\n",
       "      <th>1</th>\n",
       "      <td>0</td>\n",
       "      <td>8154</td>\n",
       "    </tr>\n",
       "  </tbody>\n",
       "</table>\n",
       "</div>"
      ],
      "text/plain": [
       "Pred         0     1\n",
       "Actual              \n",
       "0       154911     0\n",
       "1            0  8154"
      ]
     },
     "execution_count": 133,
     "metadata": {},
     "output_type": "execute_result"
    }
   ],
   "source": [
    "# Confusion Matrix\n",
    "def confusion_matrix(actual,score, threshold):\n",
    "    Actual_pred = pd.DataFrame({'Actual': actual, 'Pred': score})\n",
    "    Actual_pred['Pred'] = np.where(Actual_pred['Pred']<=threshold,0,1)\n",
    "    cm = pd.crosstab(Actual_pred['Actual'],Actual_pred['Pred'])\n",
    "    return (cm)\n",
    "confusion_matrix(y_isft2_pred, y_isft2_scores,threshold)"
   ]
  },
  {
   "cell_type": "markdown",
   "id": "0deb4cef",
   "metadata": {},
   "source": [
    "### Model 3"
   ]
  },
  {
   "cell_type": "code",
   "execution_count": 134,
   "id": "f6d3f2af",
   "metadata": {},
   "outputs": [],
   "source": [
    "# Selecting necessary features\n",
    "features2 = df1[features]"
   ]
  },
  {
   "cell_type": "code",
   "execution_count": 135,
   "id": "acf13f0f",
   "metadata": {},
   "outputs": [
    {
     "data": {
      "text/plain": [
       "IForest(behaviour='new', bootstrap=False, contamination=0.05,\n",
       "    max_features=1.0, max_samples=60, n_estimators=100, n_jobs=1,\n",
       "    random_state=None, verbose=0)"
      ]
     },
     "execution_count": 135,
     "metadata": {},
     "output_type": "execute_result"
    }
   ],
   "source": [
    "isft3 = IForest(contamination=0.05, behaviour=\"new\", max_samples=60) \n",
    "isft3.fit(features2)"
   ]
  },
  {
   "cell_type": "code",
   "execution_count": 136,
   "id": "8992e875",
   "metadata": {},
   "outputs": [
    {
     "data": {
      "text/plain": [
       "{'behaviour': 'new',\n",
       " 'bootstrap': False,\n",
       " 'contamination': 0.05,\n",
       " 'max_features': 1.0,\n",
       " 'max_samples': 60,\n",
       " 'n_estimators': 100,\n",
       " 'n_jobs': 1,\n",
       " 'random_state': None,\n",
       " 'verbose': 0}"
      ]
     },
     "execution_count": 136,
     "metadata": {},
     "output_type": "execute_result"
    }
   ],
   "source": [
    "# Hyper-parameters\n",
    "isft3.get_params()"
   ]
  },
  {
   "cell_type": "code",
   "execution_count": 137,
   "id": "6df95814",
   "metadata": {},
   "outputs": [
    {
     "data": {
      "text/plain": [
       "array([0.106247  , 0.08975626, 0.12422723, 0.10151213, 0.11000411,\n",
       "       0.09412229, 0.10819995, 0.09182162, 0.10208006, 0.07202935])"
      ]
     },
     "execution_count": 137,
     "metadata": {},
     "output_type": "execute_result"
    }
   ],
   "source": [
    "# Variable Importance\n",
    "isft3_vi = isft3.feature_importances_\n",
    "isft3_vi"
   ]
  },
  {
   "cell_type": "code",
   "execution_count": 138,
   "id": "b4009fc0",
   "metadata": {},
   "outputs": [
    {
     "data": {
      "text/plain": [
       "<AxesSubplot:>"
      ]
     },
     "execution_count": 138,
     "metadata": {},
     "output_type": "execute_result"
    },
    {
     "data": {
      "image/png": "[encoded data removed]",
      "text/plain": [
       "<Figure size 432x288 with 1 Axes>"
      ]
     },
     "metadata": {
      "needs_background": "light"
     },
     "output_type": "display_data"
    }
   ],
   "source": [
    "from matplotlib import pyplot as plt\n",
    "for_plot = pd.DataFrame({'x_axis':features2.columns,\n",
    "              'y_axis':isft3_vi}).sort_values(by='y_axis',ascending=True)\n",
    "for_plot['y_axis'].plot.barh()"
   ]
  },
  {
   "cell_type": "code",
   "execution_count": 139,
   "id": "a58b1834",
   "metadata": {},
   "outputs": [],
   "source": [
    "y_isft3_scores = isft3.decision_function(features2.values)\n",
    "y_isft3_pred = isft3.predict(features2.values)"
   ]
  },
  {
   "cell_type": "markdown",
   "id": "5c237242",
   "metadata": {},
   "source": [
    "#### Determine the threshold"
   ]
  },
  {
   "cell_type": "code",
   "execution_count": 140,
   "id": "138bdda7",
   "metadata": {},
   "outputs": [
    {
     "name": "stdout",
     "output_type": "stream",
     "text": [
      "The threshold for the defined contamination rate: -2.6550300671245248e-17\n"
     ]
    }
   ],
   "source": [
    "# Threshold for the defined comtanimation rate\n",
    "print(\"The threshold for the defined contamination rate:\" , isft3.threshold_)"
   ]
  },
  {
   "cell_type": "code",
   "execution_count": 141,
   "id": "2e444645",
   "metadata": {},
   "outputs": [
    {
     "name": "stdout",
     "output_type": "stream",
     "text": [
      "The data: {0: 154911, 1: 8154}\n"
     ]
    }
   ],
   "source": [
    "def count_stat(vector):\n",
    "    # Because it is '0' and '1', we can run a count statistic. \n",
    "    unique, counts = np.unique(vector, return_counts=True)\n",
    "    return dict(zip(unique, counts))\n",
    "\n",
    "print(\"The data:\", count_stat(y_isft3_pred))"
   ]
  },
  {
   "cell_type": "markdown",
   "id": "568a1758",
   "metadata": {},
   "source": [
    "\n",
    "\n",
    "The threshold is to be determined by the histogram of the outlier scores. The chart below suggests a threshold around 0.1. This means the outlier scores of most of the normal data are less than 0.1. The outlier scores of the abnormal data are in the high range."
   ]
  },
  {
   "cell_type": "code",
   "execution_count": 142,
   "id": "e0e7438c",
   "metadata": {},
   "outputs": [
    {
     "data": {
      "image/png": "[encoded data removed]",
      "text/plain": [
       "<Figure size 432x288 with 1 Axes>"
      ]
     },
     "metadata": {
      "needs_background": "light"
     },
     "output_type": "display_data"
    }
   ],
   "source": [
    "import matplotlib.pyplot as plt\n",
    "plt.hist(y_isft3_scores, bins='auto')  # arguments are passed to np.histogram\n",
    "plt.title(\"Histogram for Model isft3 Anomaly Score\")\n",
    "plt.show()"
   ]
  },
  {
   "cell_type": "markdown",
   "id": "ff14e58b",
   "metadata": {},
   "source": [
    "#### Present the Descriptive Statistics of the Normal and the Abnormal groups"
   ]
  },
  {
   "cell_type": "code",
   "execution_count": 143,
   "id": "f0e7a710",
   "metadata": {},
   "outputs": [
    {
     "data": {
      "text/html": [
       "<div>\n",
       "<style scoped>\n",
       "    .dataframe tbody tr th:only-of-type {\n",
       "        vertical-align: middle;\n",
       "    }\n",
       "\n",
       "    .dataframe tbody tr th {\n",
       "        vertical-align: top;\n",
       "    }\n",
       "\n",
       "    .dataframe thead th {\n",
       "        text-align: right;\n",
       "    }\n",
       "</style>\n",
       "<table border=\"1\" class=\"dataframe\">\n",
       "  <thead>\n",
       "    <tr style=\"text-align: right;\">\n",
       "      <th></th>\n",
       "      <th>Group</th>\n",
       "      <th>Count</th>\n",
       "      <th>Count %</th>\n",
       "      <th>Avg_Payment_ByStateDRG_ratio_amount</th>\n",
       "      <th>Average_Payment_ByCityDRG_ratio_amount</th>\n",
       "      <th>Avg_Payment_ByRegionDRG_ratio_amount</th>\n",
       "      <th>Avg_Discharges_ByStateDRG_ratio_amount</th>\n",
       "      <th>Avg_Discharges_ByCityDRG_ratio_amount</th>\n",
       "      <th>Avg_Discharges_ByRegionDRG_ratio_amount</th>\n",
       "      <th>Avg_Medicare_ByStateDRG_ratio_amount</th>\n",
       "      <th>Avg_Medicare_ByCityDRG_ratio_amount</th>\n",
       "      <th>Avg_Medicare_ByRegionDRG_ratio_amount</th>\n",
       "      <th>Avg_Medicare_ByZipDRG_ratio_amount</th>\n",
       "      <th>Anomaly_Score</th>\n",
       "    </tr>\n",
       "  </thead>\n",
       "  <tbody>\n",
       "    <tr>\n",
       "      <th>0</th>\n",
       "      <td>Normal</td>\n",
       "      <td>154911</td>\n",
       "      <td>94.99954</td>\n",
       "      <td>0.98</td>\n",
       "      <td>1.00</td>\n",
       "      <td>0.98</td>\n",
       "      <td>0.97</td>\n",
       "      <td>0.99</td>\n",
       "      <td>0.97</td>\n",
       "      <td>0.98</td>\n",
       "      <td>0.99</td>\n",
       "      <td>0.98</td>\n",
       "      <td>1.00</td>\n",
       "      <td>-0.16</td>\n",
       "    </tr>\n",
       "    <tr>\n",
       "      <th>1</th>\n",
       "      <td>Outlier</td>\n",
       "      <td>8154</td>\n",
       "      <td>5.00046</td>\n",
       "      <td>1.43</td>\n",
       "      <td>1.29</td>\n",
       "      <td>1.35</td>\n",
       "      <td>1.64</td>\n",
       "      <td>1.26</td>\n",
       "      <td>1.57</td>\n",
       "      <td>1.47</td>\n",
       "      <td>1.25</td>\n",
       "      <td>1.38</td>\n",
       "      <td>1.03</td>\n",
       "      <td>0.04</td>\n",
       "    </tr>\n",
       "  </tbody>\n",
       "</table>\n",
       "</div>"
      ],
      "text/plain": [
       "     Group   Count   Count %  Avg_Payment_ByStateDRG_ratio_amount  \\\n",
       "0   Normal  154911  94.99954                                 0.98   \n",
       "1  Outlier    8154   5.00046                                 1.43   \n",
       "\n",
       "   Average_Payment_ByCityDRG_ratio_amount  \\\n",
       "0                                    1.00   \n",
       "1                                    1.29   \n",
       "\n",
       "   Avg_Payment_ByRegionDRG_ratio_amount  \\\n",
       "0                                  0.98   \n",
       "1                                  1.35   \n",
       "\n",
       "   Avg_Discharges_ByStateDRG_ratio_amount  \\\n",
       "0                                    0.97   \n",
       "1                                    1.64   \n",
       "\n",
       "   Avg_Discharges_ByCityDRG_ratio_amount  \\\n",
       "0                                   0.99   \n",
       "1                                   1.26   \n",
       "\n",
       "   Avg_Discharges_ByRegionDRG_ratio_amount  \\\n",
       "0                                     0.97   \n",
       "1                                     1.57   \n",
       "\n",
       "   Avg_Medicare_ByStateDRG_ratio_amount  Avg_Medicare_ByCityDRG_ratio_amount  \\\n",
       "0                                  0.98                                 0.99   \n",
       "1                                  1.47                                 1.25   \n",
       "\n",
       "   Avg_Medicare_ByRegionDRG_ratio_amount  Avg_Medicare_ByZipDRG_ratio_amount  \\\n",
       "0                                   0.98                                1.00   \n",
       "1                                   1.38                                1.03   \n",
       "\n",
       "   Anomaly_Score  \n",
       "0          -0.16  \n",
       "1           0.04  "
      ]
     },
     "execution_count": 143,
     "metadata": {},
     "output_type": "execute_result"
    }
   ],
   "source": [
    "threshold = isft3.threshold_ # Or other value from the above histogram\n",
    "\n",
    "def descriptive_stat_threshold(df,pred_score, threshold):\n",
    "    # Let's see how many '0's and '1's.\n",
    "    df = pd.DataFrame(df)\n",
    "    df['Anomaly_Score'] = pred_score\n",
    "    df['Group'] = np.where(df['Anomaly_Score']< threshold, 'Normal', 'Outlier')\n",
    "\n",
    "    # Now let's show the summary statistics:\n",
    "    cnt = df.groupby('Group')['Anomaly_Score'].count().reset_index().rename(columns={'Anomaly_Score':'Count'})\n",
    "    cnt['Count %'] = (cnt['Count'] / cnt['Count'].sum()) * 100 # The count and count %\n",
    "    stat = df.groupby('Group').mean().round(2).reset_index() # The avg.\n",
    "    stat = cnt.merge(stat, left_on='Group',right_on='Group') # Put the count and the avg. together\n",
    "    return (stat)\n",
    "\n",
    "descriptive_stat_threshold(features2,y_isft3_scores, threshold)"
   ]
  },
  {
   "cell_type": "markdown",
   "id": "39099733",
   "metadata": {},
   "source": [
    "The table presents the characteristics of the normal and abnormal groups. It shows the count and count percentage of the normal and outlier groups. \n",
    "\n",
    "- The size of the outlier group: The outlier group is about 5%. Remember the size of the outlier group is determined by the threshold. The size will shrink if you choose a higher value for the threshold.\n",
    "- The average anomaly score: The average outlier score of the outlier group is far higher than that of the normal group (0.04 > -0.16). This evidence just verifies the data in the outlier group are outliers. At this point, you do not need to interpret too much on the scores.\n",
    "- The feature statistics in each group: The means of the features in the outlier group are larger than those of the normal group. A high average ratio of payment/discharges features, that is more than the average values, could suggest fraudulent behaviour."
   ]
  },
  {
   "cell_type": "markdown",
   "id": "cc03d28e",
   "metadata": {},
   "source": [
    "#### Evaluate the model performance\n",
    "\n",
    "The confusion matrix proves the model does a decent job and identifies all 8154 outliers."
   ]
  },
  {
   "cell_type": "code",
   "execution_count": 144,
   "id": "d55902ae",
   "metadata": {},
   "outputs": [
    {
     "data": {
      "text/html": [
       "<div>\n",
       "<style scoped>\n",
       "    .dataframe tbody tr th:only-of-type {\n",
       "        vertical-align: middle;\n",
       "    }\n",
       "\n",
       "    .dataframe tbody tr th {\n",
       "        vertical-align: top;\n",
       "    }\n",
       "\n",
       "    .dataframe thead th {\n",
       "        text-align: right;\n",
       "    }\n",
       "</style>\n",
       "<table border=\"1\" class=\"dataframe\">\n",
       "  <thead>\n",
       "    <tr style=\"text-align: right;\">\n",
       "      <th>Pred</th>\n",
       "      <th>0</th>\n",
       "      <th>1</th>\n",
       "    </tr>\n",
       "    <tr>\n",
       "      <th>Actual</th>\n",
       "      <th></th>\n",
       "      <th></th>\n",
       "    </tr>\n",
       "  </thead>\n",
       "  <tbody>\n",
       "    <tr>\n",
       "      <th>0</th>\n",
       "      <td>154911</td>\n",
       "      <td>0</td>\n",
       "    </tr>\n",
       "    <tr>\n",
       "      <th>1</th>\n",
       "      <td>0</td>\n",
       "      <td>8154</td>\n",
       "    </tr>\n",
       "  </tbody>\n",
       "</table>\n",
       "</div>"
      ],
      "text/plain": [
       "Pred         0     1\n",
       "Actual              \n",
       "0       154911     0\n",
       "1            0  8154"
      ]
     },
     "execution_count": 144,
     "metadata": {},
     "output_type": "execute_result"
    }
   ],
   "source": [
    "# Confusion Matrix\n",
    "def confusion_matrix(actual,score, threshold):\n",
    "    Actual_pred = pd.DataFrame({'Actual': actual, 'Pred': score})\n",
    "    Actual_pred['Pred'] = np.where(Actual_pred['Pred']<=threshold,0,1)\n",
    "    cm = pd.crosstab(Actual_pred['Actual'],Actual_pred['Pred'])\n",
    "    return (cm)\n",
    "confusion_matrix(y_isft3_pred, y_isft3_scores,threshold)"
   ]
  },
  {
   "cell_type": "markdown",
   "id": "c6155c4c",
   "metadata": {},
   "source": [
    "## Achieve Model Stability by Aggregating Multiple Models\n",
    "* Unsupervised techniques can detect many outliers. But due to its unspervised nature it is not stable, meaning overfitting to a specific dataset.\n",
    "* The solution is to train multiple models then aggregate the scores. \n",
    "* I use two methods to aggregate the outcome:\n",
    "* (1) Average: average scores of all detectors.\n",
    "* (2) Maximum of Maximum (MOM)"
   ]
  },
  {
   "cell_type": "code",
   "execution_count": 145,
   "id": "e19b07d0",
   "metadata": {},
   "outputs": [],
   "source": [
    "from pyod.models.combination import aom, moa, average, maximization\n",
    "from pyod.utils.utility import standardizer\n",
    "from pyod.models.iforest import IForest"
   ]
  },
  {
   "cell_type": "code",
   "execution_count": 146,
   "id": "b9b8463b",
   "metadata": {},
   "outputs": [],
   "source": [
    "# Selecting necessary features\n",
    "features2 = df1[features]"
   ]
  },
  {
   "cell_type": "code",
   "execution_count": 147,
   "id": "a9093dde",
   "metadata": {},
   "outputs": [],
   "source": [
    "# The predictions of the training data can be obtained by isft.decision_scores_.\n",
    "# It is already generated during the model building process.\n",
    "features_scores = pd.DataFrame({'isft1': isft1.decision_scores_,\n",
    "                             'isft2': isft2.decision_scores_,\n",
    "                             'isft3': isft3.decision_scores_\n",
    "                            })"
   ]
  },
  {
   "cell_type": "code",
   "execution_count": 148,
   "id": "955a2ac6",
   "metadata": {},
   "outputs": [
    {
     "data": {
      "text/html": [
       "<div>\n",
       "<style scoped>\n",
       "    .dataframe tbody tr th:only-of-type {\n",
       "        vertical-align: middle;\n",
       "    }\n",
       "\n",
       "    .dataframe tbody tr th {\n",
       "        vertical-align: top;\n",
       "    }\n",
       "\n",
       "    .dataframe thead th {\n",
       "        text-align: right;\n",
       "    }\n",
       "</style>\n",
       "<table border=\"1\" class=\"dataframe\">\n",
       "  <thead>\n",
       "    <tr style=\"text-align: right;\">\n",
       "      <th></th>\n",
       "      <th>isft1</th>\n",
       "      <th>isft2</th>\n",
       "      <th>isft3</th>\n",
       "    </tr>\n",
       "  </thead>\n",
       "  <tbody>\n",
       "    <tr>\n",
       "      <th>0</th>\n",
       "      <td>-0.147743</td>\n",
       "      <td>-0.171608</td>\n",
       "      <td>-0.126133</td>\n",
       "    </tr>\n",
       "    <tr>\n",
       "      <th>1</th>\n",
       "      <td>-0.215691</td>\n",
       "      <td>-0.217350</td>\n",
       "      <td>-0.206951</td>\n",
       "    </tr>\n",
       "    <tr>\n",
       "      <th>2</th>\n",
       "      <td>-0.174731</td>\n",
       "      <td>-0.150023</td>\n",
       "      <td>-0.159265</td>\n",
       "    </tr>\n",
       "    <tr>\n",
       "      <th>3</th>\n",
       "      <td>-0.197063</td>\n",
       "      <td>-0.204301</td>\n",
       "      <td>-0.203877</td>\n",
       "    </tr>\n",
       "    <tr>\n",
       "      <th>4</th>\n",
       "      <td>-0.228279</td>\n",
       "      <td>-0.231278</td>\n",
       "      <td>-0.225695</td>\n",
       "    </tr>\n",
       "  </tbody>\n",
       "</table>\n",
       "</div>"
      ],
      "text/plain": [
       "      isft1     isft2     isft3\n",
       "0 -0.147743 -0.171608 -0.126133\n",
       "1 -0.215691 -0.217350 -0.206951\n",
       "2 -0.174731 -0.150023 -0.159265\n",
       "3 -0.197063 -0.204301 -0.203877\n",
       "4 -0.228279 -0.231278 -0.225695"
      ]
     },
     "execution_count": 148,
     "metadata": {},
     "output_type": "execute_result"
    }
   ],
   "source": [
    "features_scores.head()"
   ]
  },
  {
   "cell_type": "markdown",
   "id": "bdb4cbf9",
   "metadata": {},
   "source": [
    "To produce a stable prediction outcome, we can aggregate the scores produced by multiple models. Of all the hyper-parameters, the number of trees n_estimators probably is the most important one. I am going to produce 5 models for a range of the number of trees. The average prediction of these models will be the final model prediction."
   ]
  },
  {
   "cell_type": "code",
   "execution_count": 149,
   "id": "2549474e",
   "metadata": {},
   "outputs": [],
   "source": [
    "# Although we did standardization before, it was for the variables.\n",
    "# Now we do the standardization for the decision scores\n",
    "features_scores_norm = standardizer(features_scores)"
   ]
  },
  {
   "cell_type": "code",
   "execution_count": 150,
   "id": "2aec5657",
   "metadata": {},
   "outputs": [],
   "source": [
    "# Test a range of the number of trees\n",
    "k_list = [100, 200, 300, 400, 500]\n",
    "n_clf = len(k_list)\n",
    "# Just prepare data frames so we can store the model results\n",
    "y_iforest_scores = np.zeros([features2.shape[0], n_clf])"
   ]
  },
  {
   "cell_type": "code",
   "execution_count": 151,
   "id": "60a33602",
   "metadata": {},
   "outputs": [],
   "source": [
    "# Modeling\n",
    "for i in range(n_clf):\n",
    "    k = k_list[i]\n",
    "    #isft = IForest(contamination=0.05, max_samples=k) \n",
    "    isft = IForest(contamination=0.05, n_estimators=k) \n",
    "    isft.fit(features2.values)\n",
    "    \n",
    "    # Store the results in each column:\n",
    "    y_iforest_scores[:, i] = isft.decision_function(features2.values) \n",
    "    \n",
    "# Decision scores have to be normalized before combination\n",
    "y_scores_norm = standardizer(y_iforest_scores)"
   ]
  },
  {
   "cell_type": "markdown",
   "id": "fa061934",
   "metadata": {},
   "source": [
    "### Average\n",
    "The \"average\" function in PyOD averages the outlier scores from multiple estimators."
   ]
  },
  {
   "cell_type": "code",
   "execution_count": 152,
   "id": "84eaaa61",
   "metadata": {},
   "outputs": [],
   "source": [
    "# Combination by average\n",
    "y_average = average(y_scores_norm)"
   ]
  },
  {
   "cell_type": "code",
   "execution_count": 153,
   "id": "d1843dda",
   "metadata": {},
   "outputs": [
    {
     "data": {
      "image/png": "[encoded data removed]",
      "text/plain": [
       "<Figure size 432x288 with 1 Axes>"
      ]
     },
     "metadata": {
      "needs_background": "light"
     },
     "output_type": "display_data"
    }
   ],
   "source": [
    "import matplotlib.pyplot as plt\n",
    "plt.hist(y_average, bins='auto') # arguments are passed to np.histogram\n",
    "plt.title(\"Combination by average\")\n",
    "plt.show()"
   ]
  },
  {
   "cell_type": "markdown",
   "id": "82c97af2",
   "metadata": {},
   "source": [
    "The histogram suggests 3 for the threshold and it appears we can identify those >=3 as the outliers."
   ]
  },
  {
   "cell_type": "markdown",
   "id": "8e395757",
   "metadata": {},
   "source": [
    "#### Present the descriptive statistics of the normal and the abnormal groups"
   ]
  },
  {
   "cell_type": "code",
   "execution_count": 154,
   "id": "781282da",
   "metadata": {},
   "outputs": [
    {
     "data": {
      "text/html": [
       "<div>\n",
       "<style scoped>\n",
       "    .dataframe tbody tr th:only-of-type {\n",
       "        vertical-align: middle;\n",
       "    }\n",
       "\n",
       "    .dataframe tbody tr th {\n",
       "        vertical-align: top;\n",
       "    }\n",
       "\n",
       "    .dataframe thead th {\n",
       "        text-align: right;\n",
       "    }\n",
       "</style>\n",
       "<table border=\"1\" class=\"dataframe\">\n",
       "  <thead>\n",
       "    <tr style=\"text-align: right;\">\n",
       "      <th></th>\n",
       "      <th>Group</th>\n",
       "      <th>Count</th>\n",
       "      <th>Count %</th>\n",
       "      <th>Avg_Payment_ByStateDRG_ratio_amount</th>\n",
       "      <th>Average_Payment_ByCityDRG_ratio_amount</th>\n",
       "      <th>Avg_Payment_ByRegionDRG_ratio_amount</th>\n",
       "      <th>Avg_Discharges_ByStateDRG_ratio_amount</th>\n",
       "      <th>Avg_Discharges_ByCityDRG_ratio_amount</th>\n",
       "      <th>Avg_Discharges_ByRegionDRG_ratio_amount</th>\n",
       "      <th>Avg_Medicare_ByStateDRG_ratio_amount</th>\n",
       "      <th>Avg_Medicare_ByCityDRG_ratio_amount</th>\n",
       "      <th>Avg_Medicare_ByRegionDRG_ratio_amount</th>\n",
       "      <th>Avg_Medicare_ByZipDRG_ratio_amount</th>\n",
       "      <th>Anomaly_Score</th>\n",
       "    </tr>\n",
       "  </thead>\n",
       "  <tbody>\n",
       "    <tr>\n",
       "      <th>0</th>\n",
       "      <td>Normal</td>\n",
       "      <td>159549</td>\n",
       "      <td>97.843805</td>\n",
       "      <td>0.99</td>\n",
       "      <td>1.00</td>\n",
       "      <td>0.99</td>\n",
       "      <td>0.98</td>\n",
       "      <td>0.99</td>\n",
       "      <td>0.99</td>\n",
       "      <td>0.99</td>\n",
       "      <td>0.99</td>\n",
       "      <td>0.99</td>\n",
       "      <td>1.00</td>\n",
       "      <td>-0.08</td>\n",
       "    </tr>\n",
       "    <tr>\n",
       "      <th>1</th>\n",
       "      <td>Outlier</td>\n",
       "      <td>3516</td>\n",
       "      <td>2.156195</td>\n",
       "      <td>1.55</td>\n",
       "      <td>1.37</td>\n",
       "      <td>1.44</td>\n",
       "      <td>1.75</td>\n",
       "      <td>1.34</td>\n",
       "      <td>1.67</td>\n",
       "      <td>1.59</td>\n",
       "      <td>1.30</td>\n",
       "      <td>1.48</td>\n",
       "      <td>1.04</td>\n",
       "      <td>3.60</td>\n",
       "    </tr>\n",
       "  </tbody>\n",
       "</table>\n",
       "</div>"
      ],
      "text/plain": [
       "     Group   Count    Count %  Avg_Payment_ByStateDRG_ratio_amount  \\\n",
       "0   Normal  159549  97.843805                                 0.99   \n",
       "1  Outlier    3516   2.156195                                 1.55   \n",
       "\n",
       "   Average_Payment_ByCityDRG_ratio_amount  \\\n",
       "0                                    1.00   \n",
       "1                                    1.37   \n",
       "\n",
       "   Avg_Payment_ByRegionDRG_ratio_amount  \\\n",
       "0                                  0.99   \n",
       "1                                  1.44   \n",
       "\n",
       "   Avg_Discharges_ByStateDRG_ratio_amount  \\\n",
       "0                                    0.98   \n",
       "1                                    1.75   \n",
       "\n",
       "   Avg_Discharges_ByCityDRG_ratio_amount  \\\n",
       "0                                   0.99   \n",
       "1                                   1.34   \n",
       "\n",
       "   Avg_Discharges_ByRegionDRG_ratio_amount  \\\n",
       "0                                     0.99   \n",
       "1                                     1.67   \n",
       "\n",
       "   Avg_Medicare_ByStateDRG_ratio_amount  Avg_Medicare_ByCityDRG_ratio_amount  \\\n",
       "0                                  0.99                                 0.99   \n",
       "1                                  1.59                                 1.30   \n",
       "\n",
       "   Avg_Medicare_ByRegionDRG_ratio_amount  Avg_Medicare_ByZipDRG_ratio_amount  \\\n",
       "0                                   0.99                                1.00   \n",
       "1                                   1.48                                1.04   \n",
       "\n",
       "   Anomaly_Score  \n",
       "0          -0.08  \n",
       "1           3.60  "
      ]
     },
     "execution_count": 154,
     "metadata": {},
     "output_type": "execute_result"
    }
   ],
   "source": [
    "# Let's profile the characteristics of the normal and the outlier groups \n",
    "descriptive_stat_threshold(features2,y_average, 3)"
   ]
  },
  {
   "cell_type": "markdown",
   "id": "f9d1ae06",
   "metadata": {},
   "source": [
    "### Maximum of maximum"
   ]
  },
  {
   "cell_type": "code",
   "execution_count": 155,
   "id": "eff45880",
   "metadata": {},
   "outputs": [],
   "source": [
    "# Combination by max\n",
    "y_by_maximization = maximization(y_scores_norm)"
   ]
  },
  {
   "cell_type": "code",
   "execution_count": 156,
   "id": "05b1764c",
   "metadata": {},
   "outputs": [
    {
     "data": {
      "image/png": "[encoded data removed]",
      "text/plain": [
       "<Figure size 432x288 with 1 Axes>"
      ]
     },
     "metadata": {
      "needs_background": "light"
     },
     "output_type": "display_data"
    }
   ],
   "source": [
    "import matplotlib.pyplot as plt\n",
    "plt.hist(y_by_maximization, bins='auto')  # arguments are passed to np.histogram\n",
    "plt.title(\"Combination by max\")\n",
    "plt.show()"
   ]
  },
  {
   "cell_type": "markdown",
   "id": "1736ad60",
   "metadata": {},
   "source": [
    "The histogram suggests 3 for the threshold and it appears we can identify those >=3 as the outliers."
   ]
  },
  {
   "cell_type": "markdown",
   "id": "46268643",
   "metadata": {},
   "source": [
    "#### Present the descriptive statistics of the normal and the abnormal groups"
   ]
  },
  {
   "cell_type": "code",
   "execution_count": 157,
   "id": "6890bcf0",
   "metadata": {},
   "outputs": [
    {
     "data": {
      "text/html": [
       "<div>\n",
       "<style scoped>\n",
       "    .dataframe tbody tr th:only-of-type {\n",
       "        vertical-align: middle;\n",
       "    }\n",
       "\n",
       "    .dataframe tbody tr th {\n",
       "        vertical-align: top;\n",
       "    }\n",
       "\n",
       "    .dataframe thead th {\n",
       "        text-align: right;\n",
       "    }\n",
       "</style>\n",
       "<table border=\"1\" class=\"dataframe\">\n",
       "  <thead>\n",
       "    <tr style=\"text-align: right;\">\n",
       "      <th></th>\n",
       "      <th>Group</th>\n",
       "      <th>Count</th>\n",
       "      <th>Count %</th>\n",
       "      <th>Avg_Payment_ByStateDRG_ratio_amount</th>\n",
       "      <th>Average_Payment_ByCityDRG_ratio_amount</th>\n",
       "      <th>Avg_Payment_ByRegionDRG_ratio_amount</th>\n",
       "      <th>Avg_Discharges_ByStateDRG_ratio_amount</th>\n",
       "      <th>Avg_Discharges_ByCityDRG_ratio_amount</th>\n",
       "      <th>Avg_Discharges_ByRegionDRG_ratio_amount</th>\n",
       "      <th>Avg_Medicare_ByStateDRG_ratio_amount</th>\n",
       "      <th>Avg_Medicare_ByCityDRG_ratio_amount</th>\n",
       "      <th>Avg_Medicare_ByRegionDRG_ratio_amount</th>\n",
       "      <th>Avg_Medicare_ByZipDRG_ratio_amount</th>\n",
       "      <th>Anomaly_Score</th>\n",
       "    </tr>\n",
       "  </thead>\n",
       "  <tbody>\n",
       "    <tr>\n",
       "      <th>0</th>\n",
       "      <td>Normal</td>\n",
       "      <td>158881</td>\n",
       "      <td>97.434152</td>\n",
       "      <td>0.99</td>\n",
       "      <td>1.00</td>\n",
       "      <td>0.99</td>\n",
       "      <td>0.98</td>\n",
       "      <td>0.99</td>\n",
       "      <td>0.98</td>\n",
       "      <td>0.99</td>\n",
       "      <td>0.99</td>\n",
       "      <td>0.99</td>\n",
       "      <td>1.00</td>\n",
       "      <td>-0.00</td>\n",
       "    </tr>\n",
       "    <tr>\n",
       "      <th>1</th>\n",
       "      <td>Outlier</td>\n",
       "      <td>4184</td>\n",
       "      <td>2.565848</td>\n",
       "      <td>1.51</td>\n",
       "      <td>1.34</td>\n",
       "      <td>1.41</td>\n",
       "      <td>1.75</td>\n",
       "      <td>1.34</td>\n",
       "      <td>1.67</td>\n",
       "      <td>1.55</td>\n",
       "      <td>1.28</td>\n",
       "      <td>1.44</td>\n",
       "      <td>1.04</td>\n",
       "      <td>3.66</td>\n",
       "    </tr>\n",
       "  </tbody>\n",
       "</table>\n",
       "</div>"
      ],
      "text/plain": [
       "     Group   Count    Count %  Avg_Payment_ByStateDRG_ratio_amount  \\\n",
       "0   Normal  158881  97.434152                                 0.99   \n",
       "1  Outlier    4184   2.565848                                 1.51   \n",
       "\n",
       "   Average_Payment_ByCityDRG_ratio_amount  \\\n",
       "0                                    1.00   \n",
       "1                                    1.34   \n",
       "\n",
       "   Avg_Payment_ByRegionDRG_ratio_amount  \\\n",
       "0                                  0.99   \n",
       "1                                  1.41   \n",
       "\n",
       "   Avg_Discharges_ByStateDRG_ratio_amount  \\\n",
       "0                                    0.98   \n",
       "1                                    1.75   \n",
       "\n",
       "   Avg_Discharges_ByCityDRG_ratio_amount  \\\n",
       "0                                   0.99   \n",
       "1                                   1.34   \n",
       "\n",
       "   Avg_Discharges_ByRegionDRG_ratio_amount  \\\n",
       "0                                     0.98   \n",
       "1                                     1.67   \n",
       "\n",
       "   Avg_Medicare_ByStateDRG_ratio_amount  Avg_Medicare_ByCityDRG_ratio_amount  \\\n",
       "0                                  0.99                                 0.99   \n",
       "1                                  1.55                                 1.28   \n",
       "\n",
       "   Avg_Medicare_ByRegionDRG_ratio_amount  Avg_Medicare_ByZipDRG_ratio_amount  \\\n",
       "0                                   0.99                                1.00   \n",
       "1                                   1.44                                1.04   \n",
       "\n",
       "   Anomaly_Score  \n",
       "0          -0.00  \n",
       "1           3.66  "
      ]
     },
     "execution_count": 157,
     "metadata": {},
     "output_type": "execute_result"
    }
   ],
   "source": [
    "# Let's profile the characteristics of the normal and the outlier groups \n",
    "descriptive_stat_threshold(features2,y_by_maximization, 3)"
   ]
  },
  {
   "cell_type": "code",
   "execution_count": null,
   "id": "133963e0",
   "metadata": {},
   "outputs": [],
   "source": []
  }
 ],
 "metadata": {
  "kernelspec": {
   "display_name": "Python 3 (ipykernel)",
   "language": "python",
   "name": "python3"
  },
  "language_info": {
   "codemirror_mode": {
    "name": "ipython",
    "version": 3
   },
   "file_extension": ".py",
   "mimetype": "text/x-python",
   "name": "python",
   "nbconvert_exporter": "python",
   "pygments_lexer": "ipython3",
   "version": "3.9.12"
  }
 },
 "nbformat": 4,
 "nbformat_minor": 5
}
