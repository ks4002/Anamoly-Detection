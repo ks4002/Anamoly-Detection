{
 "cells": [
  {
   "cell_type": "markdown",
   "id": "0b52b892",
   "metadata": {},
   "source": [
    "## APAN5420 Anomaly Detection - Assignment 6\n",
    "\n",
    "\n",
    "## Data\n",
    "\n",
    "* The Medicare Inpatient Hospitals by Geography and Service dataset provides information on hospital discharges for Original Medicare Part A beneficiaries by IPPS hospitals. This dataset contains information on the number of discharges, payments, and submitted charges organized by geography and Medicare Severity Diagnosis Related Group (DRG).\n",
    "\n",
    "## Table of Contents\n",
    "* [Section 1: Data preparation](#Section_1)\n",
    "    * [Section 1.1: Load data](#Section_11)\n",
    "    * [Section 1.2: data preparation](#Section_12)\n",
    "* [Section 2: EDA](#Section_2)\n",
    "    * [Section 2.1: Distribution plots](#Section_21)\n",
    "    * [Section 2.2: Count by state](#Section_22)    \n",
    "    * [Section 2.3: Count of top cities](#Section_23)\n",
    "    * [Section 2.4: Correlation Matrix](#Section_24)\n",
    "* [Section 3: Feature engineering](#Section_3)\n",
    "    * [Section 3.1: State & DRG Total Payment average](#Section_31)\n",
    "    * [Section 3.2: City & DRG Total Payment average](#Section_32)\n",
    "    * [Section 3.3: Region & DRG Total Payment average](#Section_33)\n",
    "    * [Section 3.4: State & DRG Total Discharges average](#Section_34)\n",
    "    * [Section 3.5: City & DRG Total Discharges average](#Section_35)\n",
    "    * [Section 3.6: Region & DRG Total Discharges average](#Section_36)\n",
    "    * [Section 3.7: State & DRG Medicare Payments average](#Section_37) \n",
    "    * [Section 3.8: City & DRG Medicare Payments average](#Section_38)\n",
    "    * [Section 3.9: Region & DRG Medicare Payments average](#Section_39)\n",
    "    * [Section 3.10: Zipcode & DRG Medicare Payments average](#Section_40)\n",
    "* [Section 4: Unsupervised learning](#Section_4)\n",
    "    * [Section 4.1: ECOD](#Section_41)\n",
    "    * [Section 4.2: PCA](#Section_42)    \n",
    "    * [Section 4.3: GMM](#Section_43)"
   ]
  },
  {
   "cell_type": "markdown",
   "id": "e4b3a8de",
   "metadata": {},
   "source": [
    "## Section 1: Data preparation <a class=\"anchor\" id=\"Section_1\"></a>\n",
    "### Section 1.1: Load Data <a class=\"anchor\" id=\"Section_11\"></a>\n",
    "* Import packages and data \n",
    "* Rename column\n",
    "* Change data type and transfer spending amount with dollar sign into numeric\n",
    "* Understand the data strcuture. "
   ]
  },
  {
   "cell_type": "code",
   "execution_count": 1,
   "id": "b26d7ab9",
   "metadata": {},
   "outputs": [],
   "source": [
    "import pandas as pd\n",
    "import numpy as np\n",
    "import matplotlib.pyplot as plt\n",
    "import seaborn as sns\n",
    "%matplotlib inline"
   ]
  },
  {
   "cell_type": "code",
   "execution_count": 2,
   "id": "66094635",
   "metadata": {},
   "outputs": [],
   "source": [
    "df = pd.read_csv('inpatientCharges.csv')"
   ]
  },
  {
   "cell_type": "code",
   "execution_count": 3,
   "id": "bdd2bd6b",
   "metadata": {},
   "outputs": [
    {
     "data": {
      "text/html": [
       "<div>\n",
       "<style scoped>\n",
       "    .dataframe tbody tr th:only-of-type {\n",
       "        vertical-align: middle;\n",
       "    }\n",
       "\n",
       "    .dataframe tbody tr th {\n",
       "        vertical-align: top;\n",
       "    }\n",
       "\n",
       "    .dataframe thead th {\n",
       "        text-align: right;\n",
       "    }\n",
       "</style>\n",
       "<table border=\"1\" class=\"dataframe\">\n",
       "  <thead>\n",
       "    <tr style=\"text-align: right;\">\n",
       "      <th></th>\n",
       "      <th>Provider Id</th>\n",
       "      <th>Provider Zip Code</th>\n",
       "      <th>Total Discharges</th>\n",
       "    </tr>\n",
       "  </thead>\n",
       "  <tbody>\n",
       "    <tr>\n",
       "      <th>count</th>\n",
       "      <td>163065.000000</td>\n",
       "      <td>163065.000000</td>\n",
       "      <td>163065.000000</td>\n",
       "    </tr>\n",
       "    <tr>\n",
       "      <th>mean</th>\n",
       "      <td>255569.865428</td>\n",
       "      <td>47938.121908</td>\n",
       "      <td>42.776304</td>\n",
       "    </tr>\n",
       "    <tr>\n",
       "      <th>std</th>\n",
       "      <td>151563.671767</td>\n",
       "      <td>27854.323080</td>\n",
       "      <td>51.104042</td>\n",
       "    </tr>\n",
       "    <tr>\n",
       "      <th>min</th>\n",
       "      <td>10001.000000</td>\n",
       "      <td>1040.000000</td>\n",
       "      <td>11.000000</td>\n",
       "    </tr>\n",
       "    <tr>\n",
       "      <th>25%</th>\n",
       "      <td>110092.000000</td>\n",
       "      <td>27261.000000</td>\n",
       "      <td>17.000000</td>\n",
       "    </tr>\n",
       "    <tr>\n",
       "      <th>50%</th>\n",
       "      <td>250007.000000</td>\n",
       "      <td>44309.000000</td>\n",
       "      <td>27.000000</td>\n",
       "    </tr>\n",
       "    <tr>\n",
       "      <th>75%</th>\n",
       "      <td>380075.000000</td>\n",
       "      <td>72901.000000</td>\n",
       "      <td>49.000000</td>\n",
       "    </tr>\n",
       "    <tr>\n",
       "      <th>max</th>\n",
       "      <td>670077.000000</td>\n",
       "      <td>99835.000000</td>\n",
       "      <td>3383.000000</td>\n",
       "    </tr>\n",
       "  </tbody>\n",
       "</table>\n",
       "</div>"
      ],
      "text/plain": [
       "         Provider Id  Provider Zip Code   Total Discharges \n",
       "count  163065.000000      163065.000000       163065.000000\n",
       "mean   255569.865428       47938.121908           42.776304\n",
       "std    151563.671767       27854.323080           51.104042\n",
       "min     10001.000000        1040.000000           11.000000\n",
       "25%    110092.000000       27261.000000           17.000000\n",
       "50%    250007.000000       44309.000000           27.000000\n",
       "75%    380075.000000       72901.000000           49.000000\n",
       "max    670077.000000       99835.000000         3383.000000"
      ]
     },
     "execution_count": 3,
     "metadata": {},
     "output_type": "execute_result"
    }
   ],
   "source": [
    "df.describe()"
   ]
  },
  {
   "cell_type": "code",
   "execution_count": 4,
   "id": "eab6206c",
   "metadata": {},
   "outputs": [
    {
     "name": "stdout",
     "output_type": "stream",
     "text": [
      "<class 'pandas.core.frame.DataFrame'>\n",
      "RangeIndex: 163065 entries, 0 to 163064\n",
      "Data columns (total 12 columns):\n",
      " #   Column                                Non-Null Count   Dtype \n",
      "---  ------                                --------------   ----- \n",
      " 0   DRG Definition                        163065 non-null  object\n",
      " 1   Provider Id                           163065 non-null  int64 \n",
      " 2   Provider Name                         163065 non-null  object\n",
      " 3   Provider Street Address               163065 non-null  object\n",
      " 4   Provider City                         163065 non-null  object\n",
      " 5   Provider State                        163065 non-null  object\n",
      " 6   Provider Zip Code                     163065 non-null  int64 \n",
      " 7   Hospital Referral Region Description  163065 non-null  object\n",
      " 8    Total Discharges                     163065 non-null  int64 \n",
      " 9    Average Covered Charges              163065 non-null  object\n",
      " 10   Average Total Payments               163065 non-null  object\n",
      " 11  Average Medicare Payments             163065 non-null  object\n",
      "dtypes: int64(3), object(9)\n",
      "memory usage: 14.9+ MB\n"
     ]
    }
   ],
   "source": [
    "df.info()"
   ]
  },
  {
   "cell_type": "code",
   "execution_count": 5,
   "id": "7b9f8791",
   "metadata": {},
   "outputs": [],
   "source": [
    "df.columns = ['DRG','Provider_Id', 'Provider_Name','Provider_StreetAddress','Provider_City',\n",
    "               'Provider_State','Provider_Zipcode','Hospital_referral_region_desp',\n",
    "                'Total_Discharges','Average_Covered_Charges','Average_Total_Payments',\n",
    "                'Average_Medicare_Payment']\n",
    "df = df.drop('Average_Covered_Charges',axis=1)"
   ]
  },
  {
   "cell_type": "code",
   "execution_count": 6,
   "id": "1a674fea",
   "metadata": {},
   "outputs": [
    {
     "data": {
      "text/html": [
       "<div>\n",
       "<style scoped>\n",
       "    .dataframe tbody tr th:only-of-type {\n",
       "        vertical-align: middle;\n",
       "    }\n",
       "\n",
       "    .dataframe tbody tr th {\n",
       "        vertical-align: top;\n",
       "    }\n",
       "\n",
       "    .dataframe thead th {\n",
       "        text-align: right;\n",
       "    }\n",
       "</style>\n",
       "<table border=\"1\" class=\"dataframe\">\n",
       "  <thead>\n",
       "    <tr style=\"text-align: right;\">\n",
       "      <th></th>\n",
       "      <th>DRG</th>\n",
       "      <th>Provider_Id</th>\n",
       "      <th>Provider_Name</th>\n",
       "      <th>Provider_StreetAddress</th>\n",
       "      <th>Provider_City</th>\n",
       "      <th>Provider_State</th>\n",
       "      <th>Provider_Zipcode</th>\n",
       "      <th>Hospital_referral_region_desp</th>\n",
       "      <th>Total_Discharges</th>\n",
       "      <th>Average_Total_Payments</th>\n",
       "      <th>Average_Medicare_Payment</th>\n",
       "    </tr>\n",
       "  </thead>\n",
       "  <tbody>\n",
       "    <tr>\n",
       "      <th>0</th>\n",
       "      <td>039 - EXTRACRANIAL PROCEDURES W/O CC/MCC</td>\n",
       "      <td>10001</td>\n",
       "      <td>SOUTHEAST ALABAMA MEDICAL CENTER</td>\n",
       "      <td>1108 ROSS CLARK CIRCLE</td>\n",
       "      <td>DOTHAN</td>\n",
       "      <td>AL</td>\n",
       "      <td>36301</td>\n",
       "      <td>AL - Dothan</td>\n",
       "      <td>91</td>\n",
       "      <td>$5777.24</td>\n",
       "      <td>$4763.73</td>\n",
       "    </tr>\n",
       "    <tr>\n",
       "      <th>1</th>\n",
       "      <td>039 - EXTRACRANIAL PROCEDURES W/O CC/MCC</td>\n",
       "      <td>10005</td>\n",
       "      <td>MARSHALL MEDICAL CENTER SOUTH</td>\n",
       "      <td>2505 U S HIGHWAY 431 NORTH</td>\n",
       "      <td>BOAZ</td>\n",
       "      <td>AL</td>\n",
       "      <td>35957</td>\n",
       "      <td>AL - Birmingham</td>\n",
       "      <td>14</td>\n",
       "      <td>$5787.57</td>\n",
       "      <td>$4976.71</td>\n",
       "    </tr>\n",
       "    <tr>\n",
       "      <th>2</th>\n",
       "      <td>039 - EXTRACRANIAL PROCEDURES W/O CC/MCC</td>\n",
       "      <td>10006</td>\n",
       "      <td>ELIZA COFFEE MEMORIAL HOSPITAL</td>\n",
       "      <td>205 MARENGO STREET</td>\n",
       "      <td>FLORENCE</td>\n",
       "      <td>AL</td>\n",
       "      <td>35631</td>\n",
       "      <td>AL - Birmingham</td>\n",
       "      <td>24</td>\n",
       "      <td>$5434.95</td>\n",
       "      <td>$4453.79</td>\n",
       "    </tr>\n",
       "    <tr>\n",
       "      <th>3</th>\n",
       "      <td>039 - EXTRACRANIAL PROCEDURES W/O CC/MCC</td>\n",
       "      <td>10011</td>\n",
       "      <td>ST VINCENT'S EAST</td>\n",
       "      <td>50 MEDICAL PARK EAST DRIVE</td>\n",
       "      <td>BIRMINGHAM</td>\n",
       "      <td>AL</td>\n",
       "      <td>35235</td>\n",
       "      <td>AL - Birmingham</td>\n",
       "      <td>25</td>\n",
       "      <td>$5417.56</td>\n",
       "      <td>$4129.16</td>\n",
       "    </tr>\n",
       "    <tr>\n",
       "      <th>4</th>\n",
       "      <td>039 - EXTRACRANIAL PROCEDURES W/O CC/MCC</td>\n",
       "      <td>10016</td>\n",
       "      <td>SHELBY BAPTIST MEDICAL CENTER</td>\n",
       "      <td>1000 FIRST STREET NORTH</td>\n",
       "      <td>ALABASTER</td>\n",
       "      <td>AL</td>\n",
       "      <td>35007</td>\n",
       "      <td>AL - Birmingham</td>\n",
       "      <td>18</td>\n",
       "      <td>$5658.33</td>\n",
       "      <td>$4851.44</td>\n",
       "    </tr>\n",
       "  </tbody>\n",
       "</table>\n",
       "</div>"
      ],
      "text/plain": [
       "                                        DRG  Provider_Id  \\\n",
       "0  039 - EXTRACRANIAL PROCEDURES W/O CC/MCC        10001   \n",
       "1  039 - EXTRACRANIAL PROCEDURES W/O CC/MCC        10005   \n",
       "2  039 - EXTRACRANIAL PROCEDURES W/O CC/MCC        10006   \n",
       "3  039 - EXTRACRANIAL PROCEDURES W/O CC/MCC        10011   \n",
       "4  039 - EXTRACRANIAL PROCEDURES W/O CC/MCC        10016   \n",
       "\n",
       "                      Provider_Name      Provider_StreetAddress Provider_City  \\\n",
       "0  SOUTHEAST ALABAMA MEDICAL CENTER      1108 ROSS CLARK CIRCLE        DOTHAN   \n",
       "1     MARSHALL MEDICAL CENTER SOUTH  2505 U S HIGHWAY 431 NORTH          BOAZ   \n",
       "2    ELIZA COFFEE MEMORIAL HOSPITAL          205 MARENGO STREET      FLORENCE   \n",
       "3                 ST VINCENT'S EAST  50 MEDICAL PARK EAST DRIVE    BIRMINGHAM   \n",
       "4     SHELBY BAPTIST MEDICAL CENTER     1000 FIRST STREET NORTH     ALABASTER   \n",
       "\n",
       "  Provider_State  Provider_Zipcode Hospital_referral_region_desp  \\\n",
       "0             AL             36301                   AL - Dothan   \n",
       "1             AL             35957               AL - Birmingham   \n",
       "2             AL             35631               AL - Birmingham   \n",
       "3             AL             35235               AL - Birmingham   \n",
       "4             AL             35007               AL - Birmingham   \n",
       "\n",
       "   Total_Discharges Average_Total_Payments Average_Medicare_Payment  \n",
       "0                91               $5777.24                 $4763.73  \n",
       "1                14               $5787.57                 $4976.71  \n",
       "2                24               $5434.95                 $4453.79  \n",
       "3                25               $5417.56                 $4129.16  \n",
       "4                18               $5658.33                 $4851.44  "
      ]
     },
     "execution_count": 6,
     "metadata": {},
     "output_type": "execute_result"
    }
   ],
   "source": [
    "df.head()"
   ]
  },
  {
   "cell_type": "code",
   "execution_count": 7,
   "id": "54ebfd34",
   "metadata": {},
   "outputs": [
    {
     "data": {
      "text/plain": [
       "count       163065\n",
       "unique      147842\n",
       "top       $4370.00\n",
       "freq             9\n",
       "Name: Average_Total_Payments, dtype: object"
      ]
     },
     "execution_count": 7,
     "metadata": {},
     "output_type": "execute_result"
    }
   ],
   "source": [
    "# Distribution plots of average total payments \n",
    "df['Average_Total_Payments'].describe()"
   ]
  },
  {
   "cell_type": "code",
   "execution_count": 8,
   "id": "3d3b49b2",
   "metadata": {},
   "outputs": [
    {
     "name": "stderr",
     "output_type": "stream",
     "text": [
      "/var/folders/4q/w1lktl152hx0j0gq933rclnh0000gn/T/ipykernel_2301/976114077.py:6: FutureWarning: The default value of regex will change from True to False in a future version.\n",
      "  df['Average_Total_Payments'] = (df['Average_Total_Payments']\n",
      "/var/folders/4q/w1lktl152hx0j0gq933rclnh0000gn/T/ipykernel_2301/976114077.py:8: FutureWarning: The default value of regex will change from True to False in a future version.\n",
      "  df['Average_Medicare_Payment'] = (df['Average_Medicare_Payment']\n"
     ]
    }
   ],
   "source": [
    "# Change data type and transfer spending amount with dollar sign into numeric\n",
    "df['DRG'] = df['DRG'].astype('category')\n",
    "df['Provider_State'] = df['Provider_State'].astype('category')\n",
    "df['Provider_City'] = df['Provider_City'].astype('category')\n",
    "df['Provider_Id'] = df['Provider_Id'].astype('category')\n",
    "df['Average_Total_Payments'] = (df['Average_Total_Payments']\n",
    "                              .str.replace(r'[^-+\\d.]', '').astype(float))\n",
    "df['Average_Medicare_Payment'] = (df['Average_Medicare_Payment']\n",
    "                              .str.replace(r'[^-+\\d.]', '').astype(float))"
   ]
  },
  {
   "cell_type": "code",
   "execution_count": 9,
   "id": "eb0c0c6b",
   "metadata": {},
   "outputs": [
    {
     "name": "stdout",
     "output_type": "stream",
     "text": [
      "<class 'pandas.core.frame.DataFrame'>\n",
      "RangeIndex: 163065 entries, 0 to 163064\n",
      "Data columns (total 11 columns):\n",
      " #   Column                         Non-Null Count   Dtype   \n",
      "---  ------                         --------------   -----   \n",
      " 0   DRG                            163065 non-null  category\n",
      " 1   Provider_Id                    163065 non-null  category\n",
      " 2   Provider_Name                  163065 non-null  object  \n",
      " 3   Provider_StreetAddress         163065 non-null  object  \n",
      " 4   Provider_City                  163065 non-null  category\n",
      " 5   Provider_State                 163065 non-null  category\n",
      " 6   Provider_Zipcode               163065 non-null  int64   \n",
      " 7   Hospital_referral_region_desp  163065 non-null  object  \n",
      " 8   Total_Discharges               163065 non-null  int64   \n",
      " 9   Average_Total_Payments         163065 non-null  float64 \n",
      " 10  Average_Medicare_Payment       163065 non-null  float64 \n",
      "dtypes: category(4), float64(2), int64(2), object(3)\n",
      "memory usage: 9.9+ MB\n"
     ]
    }
   ],
   "source": [
    "df.info()"
   ]
  },
  {
   "cell_type": "markdown",
   "id": "ecc2be87",
   "metadata": {},
   "source": [
    "## Section 2: EDA <a class=\"anchor\" id=\"Section_2\"></a>\n",
    "\n",
    "### Section 2.1: Distribution plots <a class=\"anchor\" id=\"Section_21\"></a>"
   ]
  },
  {
   "cell_type": "code",
   "execution_count": 10,
   "id": "1739c6cc",
   "metadata": {},
   "outputs": [
    {
     "data": {
      "text/plain": [
       "count    163065.000000\n",
       "mean       9707.473804\n",
       "std        7664.642598\n",
       "min        2673.000000\n",
       "25%        5234.500000\n",
       "50%        7214.100000\n",
       "75%       11286.400000\n",
       "max      156158.180000\n",
       "Name: Average_Total_Payments, dtype: float64"
      ]
     },
     "execution_count": 10,
     "metadata": {},
     "output_type": "execute_result"
    }
   ],
   "source": [
    "# Distribution plots of average total payments \n",
    "df['Average_Total_Payments'].describe()"
   ]
  },
  {
   "cell_type": "code",
   "execution_count": 11,
   "id": "4ed315d4",
   "metadata": {},
   "outputs": [
    {
     "data": {
      "text/plain": [
       "<AxesSubplot:xlabel='Average_Total_Payments', ylabel='Count'>"
      ]
     },
     "execution_count": 11,
     "metadata": {},
     "output_type": "execute_result"
    },
    {
     "data": {
      "image/png": "[encoded data removed]",
      "text/plain": [
       "<Figure size 720x360 with 1 Axes>"
      ]
     },
     "metadata": {
      "needs_background": "light"
     },
     "output_type": "display_data"
    }
   ],
   "source": [
    "plt.figure(figsize=(10,5)) # Plot a graph with reasonable size.\n",
    "sns.histplot(df['Average_Total_Payments'])\n",
    "# plt.plot(data['Average_Total_Payments'])"
   ]
  },
  {
   "cell_type": "code",
   "execution_count": 12,
   "id": "62d0602a",
   "metadata": {},
   "outputs": [
    {
     "data": {
      "text/plain": [
       "<AxesSubplot:xlabel='Average_Total_Payments'>"
      ]
     },
     "execution_count": 12,
     "metadata": {},
     "output_type": "execute_result"
    },
    {
     "data": {
      "image/png": "[encoded data removed]",
      "text/plain": [
       "<Figure size 432x288 with 1 Axes>"
      ]
     },
     "metadata": {
      "needs_background": "light"
     },
     "output_type": "display_data"
    }
   ],
   "source": [
    "sns.boxplot(x = 'Average_Total_Payments', data = df) "
   ]
  },
  {
   "cell_type": "code",
   "execution_count": 13,
   "id": "0489940e",
   "metadata": {},
   "outputs": [
    {
     "data": {
      "text/plain": [
       "count    163065.000000\n",
       "mean         42.776304\n",
       "std          51.104042\n",
       "min          11.000000\n",
       "25%          17.000000\n",
       "50%          27.000000\n",
       "75%          49.000000\n",
       "max        3383.000000\n",
       "Name: Total_Discharges, dtype: float64"
      ]
     },
     "execution_count": 13,
     "metadata": {},
     "output_type": "execute_result"
    }
   ],
   "source": [
    "# Distribution plots of Total_Discharges\n",
    "df['Total_Discharges'].describe()"
   ]
  },
  {
   "cell_type": "code",
   "execution_count": 14,
   "id": "50568d16",
   "metadata": {},
   "outputs": [
    {
     "data": {
      "text/plain": [
       "<AxesSubplot:xlabel='Total_Discharges', ylabel='Count'>"
      ]
     },
     "execution_count": 14,
     "metadata": {},
     "output_type": "execute_result"
    },
    {
     "data": {
      "image/png": "[encoded data removed]",
      "text/plain": [
       "<Figure size 720x360 with 1 Axes>"
      ]
     },
     "metadata": {
      "needs_background": "light"
     },
     "output_type": "display_data"
    }
   ],
   "source": [
    "plt.figure(figsize=(10,5)) \n",
    "sns.histplot(df['Total_Discharges'])"
   ]
  },
  {
   "cell_type": "code",
   "execution_count": 15,
   "id": "f1ae59e2",
   "metadata": {},
   "outputs": [
    {
     "data": {
      "text/plain": [
       "<AxesSubplot:xlabel='Total_Discharges'>"
      ]
     },
     "execution_count": 15,
     "metadata": {},
     "output_type": "execute_result"
    },
    {
     "data": {
      "image/png": "[encoded data removed]",
      "text/plain": [
       "<Figure size 432x288 with 1 Axes>"
      ]
     },
     "metadata": {
      "needs_background": "light"
     },
     "output_type": "display_data"
    }
   ],
   "source": [
    "sns.boxplot(x = 'Total_Discharges', data = df)"
   ]
  },
  {
   "cell_type": "code",
   "execution_count": 16,
   "id": "78d2b2ac",
   "metadata": {},
   "outputs": [
    {
     "data": {
      "text/plain": [
       "count    163065.000000\n",
       "mean       8494.490964\n",
       "std        7309.467261\n",
       "min        1148.900000\n",
       "25%        4192.350000\n",
       "50%        6158.460000\n",
       "75%       10056.880000\n",
       "max      154620.810000\n",
       "Name: Average_Medicare_Payment, dtype: float64"
      ]
     },
     "execution_count": 16,
     "metadata": {},
     "output_type": "execute_result"
    }
   ],
   "source": [
    "# Distribution plots of Average_Medicare_Payment\n",
    "df['Average_Medicare_Payment'].describe()"
   ]
  },
  {
   "cell_type": "code",
   "execution_count": 17,
   "id": "d2ad4dcf",
   "metadata": {},
   "outputs": [
    {
     "data": {
      "text/plain": [
       "<AxesSubplot:xlabel='Average_Medicare_Payment', ylabel='Count'>"
      ]
     },
     "execution_count": 17,
     "metadata": {},
     "output_type": "execute_result"
    },
    {
     "data": {
      "image/png": "[encoded data removed]",
      "text/plain": [
       "<Figure size 720x360 with 1 Axes>"
      ]
     },
     "metadata": {
      "needs_background": "light"
     },
     "output_type": "display_data"
    }
   ],
   "source": [
    "plt.figure(figsize=(10,5)) \n",
    "sns.histplot(df['Average_Medicare_Payment'])"
   ]
  },
  {
   "cell_type": "code",
   "execution_count": 18,
   "id": "e2c6406f",
   "metadata": {},
   "outputs": [
    {
     "data": {
      "text/plain": [
       "<AxesSubplot:xlabel='Average_Medicare_Payment'>"
      ]
     },
     "execution_count": 18,
     "metadata": {},
     "output_type": "execute_result"
    },
    {
     "data": {
      "image/png": "[encoded data removed]",
      "text/plain": [
       "<Figure size 720x360 with 1 Axes>"
      ]
     },
     "metadata": {
      "needs_background": "light"
     },
     "output_type": "display_data"
    }
   ],
   "source": [
    "plt.figure(figsize=(10,5))\n",
    "sns.boxplot(x = 'Average_Medicare_Payment', data = df)"
   ]
  },
  {
   "cell_type": "markdown",
   "id": "14e95a5d",
   "metadata": {},
   "source": [
    "* We find that most of the all of the discharges are over and mosty less that 50.\n",
    "* We also find that the average total payment and average medicare payment follow similar pattern, mostly less than 10,000 dollars but significant number of outliers upto 156,158 dollars."
   ]
  },
  {
   "cell_type": "markdown",
   "id": "d4d29603",
   "metadata": {},
   "source": [
    "### Section 2.2: Count by State <a class=\"anchor\" id=\"Section_22\"></a>"
   ]
  },
  {
   "cell_type": "code",
   "execution_count": 19,
   "id": "1ce275bf",
   "metadata": {},
   "outputs": [
    {
     "data": {
      "image/png": "[encoded data removed]",
      "text/plain": [
       "<Figure size 1080x360 with 1 Axes>"
      ]
     },
     "metadata": {
      "needs_background": "light"
     },
     "output_type": "display_data"
    }
   ],
   "source": [
    "# data['Provider_State'].value_counts()\n",
    "plt.figure(figsize=(15,5))\n",
    "sns.countplot(x='Provider_State',data=df,order=df['Provider_State'].value_counts().index)\n",
    "#plt.xticks(rotation = 90)\n",
    "#ax = plt.gca()\n",
    "#for p in ax.patches:\n",
    "#    ax.text(p.get_x() + p.get_width()/2., p.get_height(), '%d' % int(p.get_height()), \n",
    "#            fontsize=12, color='blue', ha='center', va='bottom')\n",
    "plt.rcParams[\"axes.labelsize\"] = 20"
   ]
  },
  {
   "cell_type": "markdown",
   "id": "77173878",
   "metadata": {},
   "source": [
    "* From this histogram, California, Texas, and Florid has the highest number of hospital divisions."
   ]
  },
  {
   "cell_type": "markdown",
   "id": "5df8a69a",
   "metadata": {},
   "source": [
    "### Section 2.3: Count of top 20 cities <a class=\"anchor\" id=\"Section_23\"></a>"
   ]
  },
  {
   "cell_type": "code",
   "execution_count": 20,
   "id": "4060c2e3",
   "metadata": {},
   "outputs": [
    {
     "data": {
      "text/plain": [
       "GOOD SAMARITAN HOSPITAL                  633\n",
       "ST JOSEPH MEDICAL CENTER                 427\n",
       "MERCY MEDICAL CENTER                     357\n",
       "MERCY HOSPITAL                           347\n",
       "ST JOSEPH HOSPITAL                       343\n",
       "                                        ... \n",
       "J PAUL JONES HOSPITAL                      1\n",
       "GREATER BATON ROUGE SURGICAL HOSPITAL      1\n",
       "FAIRWAY MEDICAL CENTER                     1\n",
       "MONROE SURGICAL HOSPITAL                   1\n",
       "EAGLEVILLE HOSPITAL                        1\n",
       "Name: Provider_Name, Length: 3201, dtype: int64"
      ]
     },
     "execution_count": 20,
     "metadata": {},
     "output_type": "execute_result"
    }
   ],
   "source": [
    "df['Provider_Name'].value_counts()"
   ]
  },
  {
   "cell_type": "code",
   "execution_count": 21,
   "id": "b6d9cbf7",
   "metadata": {},
   "outputs": [
    {
     "data": {
      "image/png": "[encoded data removed]",
      "text/plain": [
       "<Figure size 1080x360 with 1 Axes>"
      ]
     },
     "metadata": {
      "needs_background": "light"
     },
     "output_type": "display_data"
    }
   ],
   "source": [
    "plt.figure(figsize=(15,5))\n",
    "txt = df['Provider_City'].value_counts()[:20].index\n",
    "\n",
    "chart = sns.countplot(\n",
    "    x='Provider_City' ,data=df , order=txt\n",
    ")\n",
    "\n",
    "_ = chart.set_xticklabels(chart.get_xticklabels(), rotation=45)\n",
    "plt.rcParams[\"axes.labelsize\"] = 10"
   ]
  },
  {
   "cell_type": "markdown",
   "id": "b71c83ca",
   "metadata": {},
   "source": [
    "* Even though the number of hospital divisions in State Illinois and State Maryland are not ranking top in the State group bys, their hospital divisions rank the most when looking at the city group bys (Chicago and Baltimore)."
   ]
  },
  {
   "cell_type": "markdown",
   "id": "d12d4414",
   "metadata": {},
   "source": [
    "#### Thought process:\n",
    "- The following shows the average medicare payment by DRG. Does it make sense to compare \"917 - POISONING & TOXIC EFFECTS OF DRUGS W MCC\" with \"885 - PSYCHOSES\"?"
   ]
  },
  {
   "cell_type": "code",
   "execution_count": 22,
   "id": "bfb7fae2",
   "metadata": {},
   "outputs": [
    {
     "data": {
      "text/html": [
       "<div>\n",
       "<style scoped>\n",
       "    .dataframe tbody tr th:only-of-type {\n",
       "        vertical-align: middle;\n",
       "    }\n",
       "\n",
       "    .dataframe tbody tr th {\n",
       "        vertical-align: top;\n",
       "    }\n",
       "\n",
       "    .dataframe thead th {\n",
       "        text-align: right;\n",
       "    }\n",
       "</style>\n",
       "<table border=\"1\" class=\"dataframe\">\n",
       "  <thead>\n",
       "    <tr style=\"text-align: right;\">\n",
       "      <th></th>\n",
       "      <th>DRG</th>\n",
       "      <th>count</th>\n",
       "      <th>mean</th>\n",
       "      <th>std</th>\n",
       "      <th>min</th>\n",
       "      <th>25%</th>\n",
       "      <th>50%</th>\n",
       "      <th>75%</th>\n",
       "      <th>max</th>\n",
       "    </tr>\n",
       "  </thead>\n",
       "  <tbody>\n",
       "    <tr>\n",
       "      <th>0</th>\n",
       "      <td>039 - EXTRACRANIAL PROCEDURES W/O CC/MCC</td>\n",
       "      <td>1079.0</td>\n",
       "      <td>6960.534004</td>\n",
       "      <td>1477.873952</td>\n",
       "      <td>4968.00</td>\n",
       "      <td>6001.8300</td>\n",
       "      <td>6582.890</td>\n",
       "      <td>7516.825</td>\n",
       "      <td>18420.56</td>\n",
       "    </tr>\n",
       "    <tr>\n",
       "      <th>1</th>\n",
       "      <td>057 - DEGENERATIVE NERVOUS SYSTEM DISORDERS W/...</td>\n",
       "      <td>1201.0</td>\n",
       "      <td>6706.276445</td>\n",
       "      <td>2033.965862</td>\n",
       "      <td>4194.09</td>\n",
       "      <td>5412.8700</td>\n",
       "      <td>6093.750</td>\n",
       "      <td>7345.360</td>\n",
       "      <td>25519.43</td>\n",
       "    </tr>\n",
       "    <tr>\n",
       "      <th>2</th>\n",
       "      <td>064 - INTRACRANIAL HEMORRHAGE OR CEREBRAL INFA...</td>\n",
       "      <td>1659.0</td>\n",
       "      <td>13263.823032</td>\n",
       "      <td>3847.918207</td>\n",
       "      <td>8174.28</td>\n",
       "      <td>10762.2200</td>\n",
       "      <td>12084.700</td>\n",
       "      <td>14424.325</td>\n",
       "      <td>50882.40</td>\n",
       "    </tr>\n",
       "    <tr>\n",
       "      <th>3</th>\n",
       "      <td>065 - INTRACRANIAL HEMORRHAGE OR CEREBRAL INFA...</td>\n",
       "      <td>2269.0</td>\n",
       "      <td>7922.671141</td>\n",
       "      <td>2084.658336</td>\n",
       "      <td>5368.73</td>\n",
       "      <td>6626.2700</td>\n",
       "      <td>7280.050</td>\n",
       "      <td>8503.060</td>\n",
       "      <td>26510.15</td>\n",
       "    </tr>\n",
       "    <tr>\n",
       "      <th>4</th>\n",
       "      <td>066 - INTRACRANIAL HEMORRHAGE OR CEREBRAL INFA...</td>\n",
       "      <td>1806.0</td>\n",
       "      <td>5713.985221</td>\n",
       "      <td>1342.538675</td>\n",
       "      <td>3916.41</td>\n",
       "      <td>4819.3250</td>\n",
       "      <td>5326.025</td>\n",
       "      <td>6197.480</td>\n",
       "      <td>14744.05</td>\n",
       "    </tr>\n",
       "    <tr>\n",
       "      <th>...</th>\n",
       "      <td>...</td>\n",
       "      <td>...</td>\n",
       "      <td>...</td>\n",
       "      <td>...</td>\n",
       "      <td>...</td>\n",
       "      <td>...</td>\n",
       "      <td>...</td>\n",
       "      <td>...</td>\n",
       "      <td>...</td>\n",
       "    </tr>\n",
       "    <tr>\n",
       "      <th>95</th>\n",
       "      <td>885 - PSYCHOSES</td>\n",
       "      <td>613.0</td>\n",
       "      <td>6968.721876</td>\n",
       "      <td>2440.280958</td>\n",
       "      <td>4444.90</td>\n",
       "      <td>5477.2400</td>\n",
       "      <td>6155.560</td>\n",
       "      <td>7841.280</td>\n",
       "      <td>32200.77</td>\n",
       "    </tr>\n",
       "    <tr>\n",
       "      <th>96</th>\n",
       "      <td>897 - ALCOHOL/DRUG ABUSE OR DEPENDENCE W/O REH...</td>\n",
       "      <td>906.0</td>\n",
       "      <td>4949.907307</td>\n",
       "      <td>1462.463278</td>\n",
       "      <td>3172.44</td>\n",
       "      <td>3969.9675</td>\n",
       "      <td>4529.535</td>\n",
       "      <td>5440.675</td>\n",
       "      <td>18630.92</td>\n",
       "    </tr>\n",
       "    <tr>\n",
       "      <th>97</th>\n",
       "      <td>917 - POISONING &amp; TOXIC EFFECTS OF DRUGS W MCC</td>\n",
       "      <td>843.0</td>\n",
       "      <td>10763.814413</td>\n",
       "      <td>2823.004637</td>\n",
       "      <td>6942.83</td>\n",
       "      <td>8851.4550</td>\n",
       "      <td>10062.280</td>\n",
       "      <td>11788.675</td>\n",
       "      <td>33251.14</td>\n",
       "    </tr>\n",
       "    <tr>\n",
       "      <th>98</th>\n",
       "      <td>918 - POISONING &amp; TOXIC EFFECTS OF DRUGS W/O MCC</td>\n",
       "      <td>1382.0</td>\n",
       "      <td>4485.378734</td>\n",
       "      <td>1154.328951</td>\n",
       "      <td>3040.72</td>\n",
       "      <td>3720.5725</td>\n",
       "      <td>4136.105</td>\n",
       "      <td>4879.390</td>\n",
       "      <td>12479.80</td>\n",
       "    </tr>\n",
       "    <tr>\n",
       "      <th>99</th>\n",
       "      <td>948 - SIGNS &amp; SYMPTOMS W/O MCC</td>\n",
       "      <td>1793.0</td>\n",
       "      <td>4824.766436</td>\n",
       "      <td>1352.077957</td>\n",
       "      <td>3247.66</td>\n",
       "      <td>3997.8400</td>\n",
       "      <td>4411.180</td>\n",
       "      <td>5221.920</td>\n",
       "      <td>28968.20</td>\n",
       "    </tr>\n",
       "  </tbody>\n",
       "</table>\n",
       "<p>100 rows × 9 columns</p>\n",
       "</div>"
      ],
      "text/plain": [
       "                                                  DRG   count          mean  \\\n",
       "0            039 - EXTRACRANIAL PROCEDURES W/O CC/MCC  1079.0   6960.534004   \n",
       "1   057 - DEGENERATIVE NERVOUS SYSTEM DISORDERS W/...  1201.0   6706.276445   \n",
       "2   064 - INTRACRANIAL HEMORRHAGE OR CEREBRAL INFA...  1659.0  13263.823032   \n",
       "3   065 - INTRACRANIAL HEMORRHAGE OR CEREBRAL INFA...  2269.0   7922.671141   \n",
       "4   066 - INTRACRANIAL HEMORRHAGE OR CEREBRAL INFA...  1806.0   5713.985221   \n",
       "..                                                ...     ...           ...   \n",
       "95                                    885 - PSYCHOSES   613.0   6968.721876   \n",
       "96  897 - ALCOHOL/DRUG ABUSE OR DEPENDENCE W/O REH...   906.0   4949.907307   \n",
       "97     917 - POISONING & TOXIC EFFECTS OF DRUGS W MCC   843.0  10763.814413   \n",
       "98   918 - POISONING & TOXIC EFFECTS OF DRUGS W/O MCC  1382.0   4485.378734   \n",
       "99                     948 - SIGNS & SYMPTOMS W/O MCC  1793.0   4824.766436   \n",
       "\n",
       "            std      min         25%        50%        75%       max  \n",
       "0   1477.873952  4968.00   6001.8300   6582.890   7516.825  18420.56  \n",
       "1   2033.965862  4194.09   5412.8700   6093.750   7345.360  25519.43  \n",
       "2   3847.918207  8174.28  10762.2200  12084.700  14424.325  50882.40  \n",
       "3   2084.658336  5368.73   6626.2700   7280.050   8503.060  26510.15  \n",
       "4   1342.538675  3916.41   4819.3250   5326.025   6197.480  14744.05  \n",
       "..          ...      ...         ...        ...        ...       ...  \n",
       "95  2440.280958  4444.90   5477.2400   6155.560   7841.280  32200.77  \n",
       "96  1462.463278  3172.44   3969.9675   4529.535   5440.675  18630.92  \n",
       "97  2823.004637  6942.83   8851.4550  10062.280  11788.675  33251.14  \n",
       "98  1154.328951  3040.72   3720.5725   4136.105   4879.390  12479.80  \n",
       "99  1352.077957  3247.66   3997.8400   4411.180   5221.920  28968.20  \n",
       "\n",
       "[100 rows x 9 columns]"
      ]
     },
     "execution_count": 22,
     "metadata": {},
     "output_type": "execute_result"
    }
   ],
   "source": [
    "df.groupby('DRG')['Average_Total_Payments'].describe().reset_index()"
   ]
  },
  {
   "cell_type": "code",
   "execution_count": 23,
   "id": "4bc8eb7a",
   "metadata": {},
   "outputs": [
    {
     "data": {
      "text/plain": [
       "count    163065.000000\n",
       "mean         42.776304\n",
       "std          51.104042\n",
       "min          11.000000\n",
       "25%          17.000000\n",
       "50%          27.000000\n",
       "75%          49.000000\n",
       "max        3383.000000\n",
       "Name: Total_Discharges, dtype: float64"
      ]
     },
     "execution_count": 23,
     "metadata": {},
     "output_type": "execute_result"
    }
   ],
   "source": [
    "# Distribution plots of average total payments \n",
    "df['Total_Discharges'].describe()"
   ]
  },
  {
   "cell_type": "markdown",
   "id": "55c85fe4",
   "metadata": {},
   "source": [
    "### Section 2.4: Correlation Matrix <a class=\"anchor\" id=\"Section_24\"></a>\n",
    "* To examine the correlation between the variables and find that the charges a highly correlated."
   ]
  },
  {
   "cell_type": "code",
   "execution_count": 24,
   "id": "a73c5626",
   "metadata": {},
   "outputs": [
    {
     "data": {
      "image/png": "[encoded data removed]",
      "text/plain": [
       "<Figure size 720x360 with 2 Axes>"
      ]
     },
     "metadata": {
      "needs_background": "light"
     },
     "output_type": "display_data"
    }
   ],
   "source": [
    "corr_matrix = df.corr()\n",
    "ax = plt.subplots(figsize=(10,5)) \n",
    "sns.heatmap(corr_matrix, annot=True, linewidths=.5)\n",
    "plt.show()"
   ]
  },
  {
   "cell_type": "markdown",
   "id": "63b99a8b",
   "metadata": {},
   "source": [
    "## Section 3: Feature Engineering <a class=\"anchor\" id=\"Section_3\"></a>\n",
    "\n",
    "### Section 3.1: State & DRG Total Payment average <a class=\"anchor\" id=\"Section_31\"></a>\n",
    "- Calculating average ratio of Average Total Payment of every Provider state in DRG description. This will help understand the average total payment comparisons within the state in each DRG category. "
   ]
  },
  {
   "cell_type": "code",
   "execution_count": 25,
   "id": "007eca0e",
   "metadata": {},
   "outputs": [
    {
     "data": {
      "text/html": [
       "<div>\n",
       "<style scoped>\n",
       "    .dataframe tbody tr th:only-of-type {\n",
       "        vertical-align: middle;\n",
       "    }\n",
       "\n",
       "    .dataframe tbody tr th {\n",
       "        vertical-align: top;\n",
       "    }\n",
       "\n",
       "    .dataframe thead th {\n",
       "        text-align: right;\n",
       "    }\n",
       "</style>\n",
       "<table border=\"1\" class=\"dataframe\">\n",
       "  <thead>\n",
       "    <tr style=\"text-align: right;\">\n",
       "      <th></th>\n",
       "      <th>Provider_State</th>\n",
       "      <th>DRG</th>\n",
       "      <th>Avg_Payment_ByStateDRG</th>\n",
       "    </tr>\n",
       "  </thead>\n",
       "  <tbody>\n",
       "    <tr>\n",
       "      <th>0</th>\n",
       "      <td>AK</td>\n",
       "      <td>039 - EXTRACRANIAL PROCEDURES W/O CC/MCC</td>\n",
       "      <td>8401.950000</td>\n",
       "    </tr>\n",
       "    <tr>\n",
       "      <th>1</th>\n",
       "      <td>AK</td>\n",
       "      <td>057 - DEGENERATIVE NERVOUS SYSTEM DISORDERS W/...</td>\n",
       "      <td>8799.000000</td>\n",
       "    </tr>\n",
       "    <tr>\n",
       "      <th>2</th>\n",
       "      <td>AK</td>\n",
       "      <td>064 - INTRACRANIAL HEMORRHAGE OR CEREBRAL INFA...</td>\n",
       "      <td>21608.010000</td>\n",
       "    </tr>\n",
       "    <tr>\n",
       "      <th>3</th>\n",
       "      <td>AK</td>\n",
       "      <td>065 - INTRACRANIAL HEMORRHAGE OR CEREBRAL INFA...</td>\n",
       "      <td>12555.548333</td>\n",
       "    </tr>\n",
       "    <tr>\n",
       "      <th>4</th>\n",
       "      <td>AK</td>\n",
       "      <td>066 - INTRACRANIAL HEMORRHAGE OR CEREBRAL INFA...</td>\n",
       "      <td>9275.867500</td>\n",
       "    </tr>\n",
       "  </tbody>\n",
       "</table>\n",
       "</div>"
      ],
      "text/plain": [
       "  Provider_State                                                DRG  \\\n",
       "0             AK           039 - EXTRACRANIAL PROCEDURES W/O CC/MCC   \n",
       "1             AK  057 - DEGENERATIVE NERVOUS SYSTEM DISORDERS W/...   \n",
       "2             AK  064 - INTRACRANIAL HEMORRHAGE OR CEREBRAL INFA...   \n",
       "3             AK  065 - INTRACRANIAL HEMORRHAGE OR CEREBRAL INFA...   \n",
       "4             AK  066 - INTRACRANIAL HEMORRHAGE OR CEREBRAL INFA...   \n",
       "\n",
       "   Avg_Payment_ByStateDRG  \n",
       "0             8401.950000  \n",
       "1             8799.000000  \n",
       "2            21608.010000  \n",
       "3            12555.548333  \n",
       "4             9275.867500  "
      ]
     },
     "execution_count": 25,
     "metadata": {},
     "output_type": "execute_result"
    }
   ],
   "source": [
    "benchmark = df.groupby(['Provider_State','DRG'])['Average_Total_Payments'].mean().reset_index()\n",
    "benchmark.columns = ['Provider_State','DRG','Avg_Payment_ByStateDRG']\n",
    "benchmark.head()"
   ]
  },
  {
   "cell_type": "code",
   "execution_count": 26,
   "id": "0b9016cd",
   "metadata": {},
   "outputs": [
    {
     "data": {
      "text/plain": [
       "count    163065.000000\n",
       "mean          1.000000\n",
       "std           0.195274\n",
       "min           0.384805\n",
       "25%           0.880824\n",
       "50%           0.956830\n",
       "75%           1.064688\n",
       "max           7.857934\n",
       "Name: Avg_Payment_ByStateDRG_ratio_amount, dtype: float64"
      ]
     },
     "execution_count": 26,
     "metadata": {},
     "output_type": "execute_result"
    }
   ],
   "source": [
    "# add the new feature average spending to the dataset \n",
    "df1 = pd.merge(df, benchmark, how='left', on=['Provider_State','DRG'])\n",
    "# Feature 1: ratio of amount spending and average spending by drg in a state\n",
    "df1['Avg_Payment_ByStateDRG_ratio_amount'] = np.where(df1['Avg_Payment_ByStateDRG']==0,0, df1['Average_Total_Payments'] / df1['Avg_Payment_ByStateDRG'])\n",
    "df1['Avg_Payment_ByStateDRG_ratio_amount'].describe()"
   ]
  },
  {
   "cell_type": "code",
   "execution_count": 27,
   "id": "e737ff07",
   "metadata": {},
   "outputs": [
    {
     "data": {
      "text/plain": [
       "124"
      ]
     },
     "execution_count": 27,
     "metadata": {},
     "output_type": "execute_result"
    }
   ],
   "source": [
    "len(df1[df1['Avg_Payment_ByStateDRG_ratio_amount']>2]['Provider_Name'].unique())"
   ]
  },
  {
   "cell_type": "code",
   "execution_count": 28,
   "id": "8f51bd4c",
   "metadata": {},
   "outputs": [
    {
     "data": {
      "text/html": [
       "<div>\n",
       "<style scoped>\n",
       "    .dataframe tbody tr th:only-of-type {\n",
       "        vertical-align: middle;\n",
       "    }\n",
       "\n",
       "    .dataframe tbody tr th {\n",
       "        vertical-align: top;\n",
       "    }\n",
       "\n",
       "    .dataframe thead th {\n",
       "        text-align: right;\n",
       "    }\n",
       "</style>\n",
       "<table border=\"1\" class=\"dataframe\">\n",
       "  <thead>\n",
       "    <tr style=\"text-align: right;\">\n",
       "      <th></th>\n",
       "      <th>DRG</th>\n",
       "      <th>Provider_Id</th>\n",
       "      <th>Provider_Name</th>\n",
       "      <th>Provider_StreetAddress</th>\n",
       "      <th>Provider_City</th>\n",
       "      <th>Provider_State</th>\n",
       "      <th>Provider_Zipcode</th>\n",
       "      <th>Hospital_referral_region_desp</th>\n",
       "      <th>Total_Discharges</th>\n",
       "      <th>Average_Total_Payments</th>\n",
       "      <th>Average_Medicare_Payment</th>\n",
       "      <th>Avg_Payment_ByStateDRG</th>\n",
       "      <th>Avg_Payment_ByStateDRG_ratio_amount</th>\n",
       "    </tr>\n",
       "  </thead>\n",
       "  <tbody>\n",
       "    <tr>\n",
       "      <th>20388</th>\n",
       "      <td>189 - PULMONARY EDEMA &amp; RESPIRATORY FAILURE</td>\n",
       "      <td>390096</td>\n",
       "      <td>ST JOSEPH MEDICAL CENTER</td>\n",
       "      <td>2500 BERNVILLE ROAD</td>\n",
       "      <td>READING</td>\n",
       "      <td>PA</td>\n",
       "      <td>19605</td>\n",
       "      <td>PA - Reading</td>\n",
       "      <td>143</td>\n",
       "      <td>72797.93</td>\n",
       "      <td>7718.09</td>\n",
       "      <td>9264.257684</td>\n",
       "      <td>7.857934</td>\n",
       "    </tr>\n",
       "    <tr>\n",
       "      <th>38923</th>\n",
       "      <td>203 - BRONCHITIS &amp; ASTHMA W/O CC/MCC</td>\n",
       "      <td>220008</td>\n",
       "      <td>STURDY MEMORIAL HOSPITAL</td>\n",
       "      <td>211 PARK STREET</td>\n",
       "      <td>ATTLEBORO</td>\n",
       "      <td>MA</td>\n",
       "      <td>2703</td>\n",
       "      <td>RI - Providence</td>\n",
       "      <td>11</td>\n",
       "      <td>41482.09</td>\n",
       "      <td>1790.18</td>\n",
       "      <td>5711.287429</td>\n",
       "      <td>7.263177</td>\n",
       "    </tr>\n",
       "  </tbody>\n",
       "</table>\n",
       "</div>"
      ],
      "text/plain": [
       "                                               DRG Provider_Id  \\\n",
       "20388  189 - PULMONARY EDEMA & RESPIRATORY FAILURE      390096   \n",
       "38923         203 - BRONCHITIS & ASTHMA W/O CC/MCC      220008   \n",
       "\n",
       "                  Provider_Name Provider_StreetAddress Provider_City  \\\n",
       "20388  ST JOSEPH MEDICAL CENTER    2500 BERNVILLE ROAD       READING   \n",
       "38923  STURDY MEMORIAL HOSPITAL        211 PARK STREET     ATTLEBORO   \n",
       "\n",
       "      Provider_State  Provider_Zipcode Hospital_referral_region_desp  \\\n",
       "20388             PA             19605                  PA - Reading   \n",
       "38923             MA              2703               RI - Providence   \n",
       "\n",
       "       Total_Discharges  Average_Total_Payments  Average_Medicare_Payment  \\\n",
       "20388               143                72797.93                   7718.09   \n",
       "38923                11                41482.09                   1790.18   \n",
       "\n",
       "       Avg_Payment_ByStateDRG  Avg_Payment_ByStateDRG_ratio_amount  \n",
       "20388             9264.257684                             7.857934  \n",
       "38923             5711.287429                             7.263177  "
      ]
     },
     "execution_count": 28,
     "metadata": {},
     "output_type": "execute_result"
    }
   ],
   "source": [
    "df1[df1['Avg_Payment_ByStateDRG_ratio_amount']>7].head()"
   ]
  },
  {
   "cell_type": "markdown",
   "id": "5838ec05",
   "metadata": {},
   "source": [
    "### Section 3.2: City & DRG Total Payment average <a class=\"anchor\" id=\"Section_32\"></a>\n",
    "- Calculating average ratio of Average Total Payment of every Provider city in DRG description. This will help understand the average total payment comparisons within the city. "
   ]
  },
  {
   "cell_type": "code",
   "execution_count": 29,
   "id": "ce916250",
   "metadata": {},
   "outputs": [
    {
     "data": {
      "text/html": [
       "<div>\n",
       "<style scoped>\n",
       "    .dataframe tbody tr th:only-of-type {\n",
       "        vertical-align: middle;\n",
       "    }\n",
       "\n",
       "    .dataframe tbody tr th {\n",
       "        vertical-align: top;\n",
       "    }\n",
       "\n",
       "    .dataframe thead th {\n",
       "        text-align: right;\n",
       "    }\n",
       "</style>\n",
       "<table border=\"1\" class=\"dataframe\">\n",
       "  <thead>\n",
       "    <tr style=\"text-align: right;\">\n",
       "      <th></th>\n",
       "      <th>Provider_City</th>\n",
       "      <th>DRG</th>\n",
       "      <th>Average_Payment_ByCityDRG</th>\n",
       "    </tr>\n",
       "  </thead>\n",
       "  <tbody>\n",
       "    <tr>\n",
       "      <th>0</th>\n",
       "      <td>ABBEVILLE</td>\n",
       "      <td>039 - EXTRACRANIAL PROCEDURES W/O CC/MCC</td>\n",
       "      <td>NaN</td>\n",
       "    </tr>\n",
       "    <tr>\n",
       "      <th>1</th>\n",
       "      <td>ABBEVILLE</td>\n",
       "      <td>057 - DEGENERATIVE NERVOUS SYSTEM DISORDERS W/...</td>\n",
       "      <td>NaN</td>\n",
       "    </tr>\n",
       "    <tr>\n",
       "      <th>2</th>\n",
       "      <td>ABBEVILLE</td>\n",
       "      <td>064 - INTRACRANIAL HEMORRHAGE OR CEREBRAL INFA...</td>\n",
       "      <td>NaN</td>\n",
       "    </tr>\n",
       "    <tr>\n",
       "      <th>3</th>\n",
       "      <td>ABBEVILLE</td>\n",
       "      <td>065 - INTRACRANIAL HEMORRHAGE OR CEREBRAL INFA...</td>\n",
       "      <td>NaN</td>\n",
       "    </tr>\n",
       "    <tr>\n",
       "      <th>4</th>\n",
       "      <td>ABBEVILLE</td>\n",
       "      <td>066 - INTRACRANIAL HEMORRHAGE OR CEREBRAL INFA...</td>\n",
       "      <td>NaN</td>\n",
       "    </tr>\n",
       "  </tbody>\n",
       "</table>\n",
       "</div>"
      ],
      "text/plain": [
       "  Provider_City                                                DRG  \\\n",
       "0     ABBEVILLE           039 - EXTRACRANIAL PROCEDURES W/O CC/MCC   \n",
       "1     ABBEVILLE  057 - DEGENERATIVE NERVOUS SYSTEM DISORDERS W/...   \n",
       "2     ABBEVILLE  064 - INTRACRANIAL HEMORRHAGE OR CEREBRAL INFA...   \n",
       "3     ABBEVILLE  065 - INTRACRANIAL HEMORRHAGE OR CEREBRAL INFA...   \n",
       "4     ABBEVILLE  066 - INTRACRANIAL HEMORRHAGE OR CEREBRAL INFA...   \n",
       "\n",
       "   Average_Payment_ByCityDRG  \n",
       "0                        NaN  \n",
       "1                        NaN  \n",
       "2                        NaN  \n",
       "3                        NaN  \n",
       "4                        NaN  "
      ]
     },
     "execution_count": 29,
     "metadata": {},
     "output_type": "execute_result"
    }
   ],
   "source": [
    "benchmark = df.groupby(['Provider_City','DRG'])['Average_Total_Payments'].median().reset_index()\n",
    "benchmark.columns = ['Provider_City','DRG','Average_Payment_ByCityDRG']\n",
    "benchmark.head()"
   ]
  },
  {
   "cell_type": "code",
   "execution_count": 30,
   "id": "49b8136e",
   "metadata": {},
   "outputs": [
    {
     "data": {
      "text/plain": [
       "count    163065.000000\n",
       "mean          1.011287\n",
       "std           0.120431\n",
       "min           0.238195\n",
       "25%           1.000000\n",
       "50%           1.000000\n",
       "75%           1.000000\n",
       "max           5.591943\n",
       "Name: Average_Payment_ByCityDRG_ratio_amount, dtype: float64"
      ]
     },
     "execution_count": 30,
     "metadata": {},
     "output_type": "execute_result"
    }
   ],
   "source": [
    "# add the new feature average spending to the dataset \n",
    "df1 = pd.merge(df1, benchmark, how='left', on=['Provider_City','DRG'])\n",
    "# Feature 3: ratio of amount spending and average spending by drg in a city\n",
    "df1['Average_Payment_ByCityDRG_ratio_amount'] = np.where(df1['Average_Payment_ByCityDRG']==0,0, df1['Average_Total_Payments'] / df1['Average_Payment_ByCityDRG'])\n",
    "df1['Average_Payment_ByCityDRG_ratio_amount'].describe()"
   ]
  },
  {
   "cell_type": "code",
   "execution_count": 31,
   "id": "d1f862f6",
   "metadata": {},
   "outputs": [
    {
     "data": {
      "text/plain": [
       "58"
      ]
     },
     "execution_count": 31,
     "metadata": {},
     "output_type": "execute_result"
    }
   ],
   "source": [
    "len(df1[df1['Average_Payment_ByCityDRG_ratio_amount']>2]['Provider_Name'].unique())"
   ]
  },
  {
   "cell_type": "code",
   "execution_count": 32,
   "id": "46117694",
   "metadata": {},
   "outputs": [
    {
     "data": {
      "text/html": [
       "<div>\n",
       "<style scoped>\n",
       "    .dataframe tbody tr th:only-of-type {\n",
       "        vertical-align: middle;\n",
       "    }\n",
       "\n",
       "    .dataframe tbody tr th {\n",
       "        vertical-align: top;\n",
       "    }\n",
       "\n",
       "    .dataframe thead th {\n",
       "        text-align: right;\n",
       "    }\n",
       "</style>\n",
       "<table border=\"1\" class=\"dataframe\">\n",
       "  <thead>\n",
       "    <tr style=\"text-align: right;\">\n",
       "      <th></th>\n",
       "      <th>DRG</th>\n",
       "      <th>Provider_Id</th>\n",
       "      <th>Provider_Name</th>\n",
       "      <th>Provider_StreetAddress</th>\n",
       "      <th>Provider_City</th>\n",
       "      <th>Provider_State</th>\n",
       "      <th>Provider_Zipcode</th>\n",
       "      <th>Hospital_referral_region_desp</th>\n",
       "      <th>Total_Discharges</th>\n",
       "      <th>Average_Total_Payments</th>\n",
       "      <th>Average_Medicare_Payment</th>\n",
       "      <th>Avg_Payment_ByStateDRG</th>\n",
       "      <th>Avg_Payment_ByStateDRG_ratio_amount</th>\n",
       "      <th>Average_Payment_ByCityDRG</th>\n",
       "      <th>Average_Payment_ByCityDRG_ratio_amount</th>\n",
       "    </tr>\n",
       "  </thead>\n",
       "  <tbody>\n",
       "    <tr>\n",
       "      <th>37716</th>\n",
       "      <td>202 - BRONCHITIS &amp; ASTHMA W CC/MCC</td>\n",
       "      <td>210009</td>\n",
       "      <td>JOHNS HOPKINS HOSPITAL, THE</td>\n",
       "      <td>600 NORTH  WOLFE STREET</td>\n",
       "      <td>BALTIMORE</td>\n",
       "      <td>MD</td>\n",
       "      <td>21287</td>\n",
       "      <td>MD - Baltimore</td>\n",
       "      <td>17</td>\n",
       "      <td>41458.47</td>\n",
       "      <td>37236.0</td>\n",
       "      <td>8374.755758</td>\n",
       "      <td>4.950409</td>\n",
       "      <td>7413.965</td>\n",
       "      <td>5.591943</td>\n",
       "    </tr>\n",
       "  </tbody>\n",
       "</table>\n",
       "</div>"
      ],
      "text/plain": [
       "                                      DRG Provider_Id  \\\n",
       "37716  202 - BRONCHITIS & ASTHMA W CC/MCC      210009   \n",
       "\n",
       "                     Provider_Name   Provider_StreetAddress Provider_City  \\\n",
       "37716  JOHNS HOPKINS HOSPITAL, THE  600 NORTH  WOLFE STREET     BALTIMORE   \n",
       "\n",
       "      Provider_State  Provider_Zipcode Hospital_referral_region_desp  \\\n",
       "37716             MD             21287                MD - Baltimore   \n",
       "\n",
       "       Total_Discharges  Average_Total_Payments  Average_Medicare_Payment  \\\n",
       "37716                17                41458.47                   37236.0   \n",
       "\n",
       "       Avg_Payment_ByStateDRG  Avg_Payment_ByStateDRG_ratio_amount  \\\n",
       "37716             8374.755758                             4.950409   \n",
       "\n",
       "       Average_Payment_ByCityDRG  Average_Payment_ByCityDRG_ratio_amount  \n",
       "37716                   7413.965                                5.591943  "
      ]
     },
     "execution_count": 32,
     "metadata": {},
     "output_type": "execute_result"
    }
   ],
   "source": [
    "df1[df1['Average_Payment_ByCityDRG_ratio_amount']>5].head()"
   ]
  },
  {
   "cell_type": "markdown",
   "id": "90a6b694",
   "metadata": {},
   "source": [
    "### Section 3.3: Region & DRG Total Payment average <a class=\"anchor\" id=\"Section_33\"></a>\n",
    "- Calculating average ratio of Average Total Payment of every Hospital referral region desp in DRG description. This will help understand the average total payment comparisons within the region. "
   ]
  },
  {
   "cell_type": "code",
   "execution_count": 33,
   "id": "83a3815f",
   "metadata": {},
   "outputs": [
    {
     "data": {
      "text/html": [
       "<div>\n",
       "<style scoped>\n",
       "    .dataframe tbody tr th:only-of-type {\n",
       "        vertical-align: middle;\n",
       "    }\n",
       "\n",
       "    .dataframe tbody tr th {\n",
       "        vertical-align: top;\n",
       "    }\n",
       "\n",
       "    .dataframe thead th {\n",
       "        text-align: right;\n",
       "    }\n",
       "</style>\n",
       "<table border=\"1\" class=\"dataframe\">\n",
       "  <thead>\n",
       "    <tr style=\"text-align: right;\">\n",
       "      <th></th>\n",
       "      <th>Hospital_referral_region_desp</th>\n",
       "      <th>DRG</th>\n",
       "      <th>Avg_Payment_ByRegionDRG</th>\n",
       "    </tr>\n",
       "  </thead>\n",
       "  <tbody>\n",
       "    <tr>\n",
       "      <th>0</th>\n",
       "      <td>AK - Anchorage</td>\n",
       "      <td>039 - EXTRACRANIAL PROCEDURES W/O CC/MCC</td>\n",
       "      <td>8401.950000</td>\n",
       "    </tr>\n",
       "    <tr>\n",
       "      <th>1</th>\n",
       "      <td>AK - Anchorage</td>\n",
       "      <td>057 - DEGENERATIVE NERVOUS SYSTEM DISORDERS W/...</td>\n",
       "      <td>8799.000000</td>\n",
       "    </tr>\n",
       "    <tr>\n",
       "      <th>2</th>\n",
       "      <td>AK - Anchorage</td>\n",
       "      <td>064 - INTRACRANIAL HEMORRHAGE OR CEREBRAL INFA...</td>\n",
       "      <td>21608.010000</td>\n",
       "    </tr>\n",
       "    <tr>\n",
       "      <th>3</th>\n",
       "      <td>AK - Anchorage</td>\n",
       "      <td>065 - INTRACRANIAL HEMORRHAGE OR CEREBRAL INFA...</td>\n",
       "      <td>12555.548333</td>\n",
       "    </tr>\n",
       "    <tr>\n",
       "      <th>4</th>\n",
       "      <td>AK - Anchorage</td>\n",
       "      <td>066 - INTRACRANIAL HEMORRHAGE OR CEREBRAL INFA...</td>\n",
       "      <td>9275.867500</td>\n",
       "    </tr>\n",
       "  </tbody>\n",
       "</table>\n",
       "</div>"
      ],
      "text/plain": [
       "  Hospital_referral_region_desp  \\\n",
       "0                AK - Anchorage   \n",
       "1                AK - Anchorage   \n",
       "2                AK - Anchorage   \n",
       "3                AK - Anchorage   \n",
       "4                AK - Anchorage   \n",
       "\n",
       "                                                 DRG  Avg_Payment_ByRegionDRG  \n",
       "0           039 - EXTRACRANIAL PROCEDURES W/O CC/MCC              8401.950000  \n",
       "1  057 - DEGENERATIVE NERVOUS SYSTEM DISORDERS W/...              8799.000000  \n",
       "2  064 - INTRACRANIAL HEMORRHAGE OR CEREBRAL INFA...             21608.010000  \n",
       "3  065 - INTRACRANIAL HEMORRHAGE OR CEREBRAL INFA...             12555.548333  \n",
       "4  066 - INTRACRANIAL HEMORRHAGE OR CEREBRAL INFA...              9275.867500  "
      ]
     },
     "execution_count": 33,
     "metadata": {},
     "output_type": "execute_result"
    }
   ],
   "source": [
    "benchmark = df.groupby(['Hospital_referral_region_desp','DRG'])['Average_Total_Payments'].mean().reset_index()\n",
    "benchmark.columns = ['Hospital_referral_region_desp','DRG','Avg_Payment_ByRegionDRG']\n",
    "benchmark.head()"
   ]
  },
  {
   "cell_type": "code",
   "execution_count": 34,
   "id": "ddd0c7ff",
   "metadata": {},
   "outputs": [
    {
     "data": {
      "text/plain": [
       "count    163065.000000\n",
       "mean          1.000000\n",
       "std           0.159145\n",
       "min           0.271255\n",
       "25%           0.902856\n",
       "50%           0.977701\n",
       "75%           1.057561\n",
       "max           4.848303\n",
       "Name: Avg_Payment_ByRegionDRG_ratio_amount, dtype: float64"
      ]
     },
     "execution_count": 34,
     "metadata": {},
     "output_type": "execute_result"
    }
   ],
   "source": [
    "# add the new feature average spending to the dataset \n",
    "df1 = pd.merge(df1, benchmark, how='left', on=['Hospital_referral_region_desp','DRG'])\n",
    "# Feature 3: ratio of amount spending and average spending by drg in a region \n",
    "df1['Avg_Payment_ByRegionDRG_ratio_amount'] = np.where(df1['Avg_Payment_ByRegionDRG']==0,0, df1['Average_Total_Payments'] / df1['Avg_Payment_ByRegionDRG'])\n",
    "df1['Avg_Payment_ByRegionDRG_ratio_amount'].describe()"
   ]
  },
  {
   "cell_type": "code",
   "execution_count": 35,
   "id": "8b6aea23",
   "metadata": {},
   "outputs": [
    {
     "data": {
      "text/plain": [
       "64"
      ]
     },
     "execution_count": 35,
     "metadata": {},
     "output_type": "execute_result"
    }
   ],
   "source": [
    "len(df1[df1['Avg_Payment_ByRegionDRG_ratio_amount']>2]['Provider_Name'].unique())"
   ]
  },
  {
   "cell_type": "code",
   "execution_count": 36,
   "id": "4e467e3d",
   "metadata": {},
   "outputs": [
    {
     "data": {
      "text/html": [
       "<div>\n",
       "<style scoped>\n",
       "    .dataframe tbody tr th:only-of-type {\n",
       "        vertical-align: middle;\n",
       "    }\n",
       "\n",
       "    .dataframe tbody tr th {\n",
       "        vertical-align: top;\n",
       "    }\n",
       "\n",
       "    .dataframe thead th {\n",
       "        text-align: right;\n",
       "    }\n",
       "</style>\n",
       "<table border=\"1\" class=\"dataframe\">\n",
       "  <thead>\n",
       "    <tr style=\"text-align: right;\">\n",
       "      <th></th>\n",
       "      <th>DRG</th>\n",
       "      <th>Provider_Id</th>\n",
       "      <th>Provider_Name</th>\n",
       "      <th>Provider_StreetAddress</th>\n",
       "      <th>Provider_City</th>\n",
       "      <th>Provider_State</th>\n",
       "      <th>Provider_Zipcode</th>\n",
       "      <th>Hospital_referral_region_desp</th>\n",
       "      <th>Total_Discharges</th>\n",
       "      <th>Average_Total_Payments</th>\n",
       "      <th>Average_Medicare_Payment</th>\n",
       "      <th>Avg_Payment_ByStateDRG</th>\n",
       "      <th>Avg_Payment_ByStateDRG_ratio_amount</th>\n",
       "      <th>Average_Payment_ByCityDRG</th>\n",
       "      <th>Average_Payment_ByCityDRG_ratio_amount</th>\n",
       "      <th>Avg_Payment_ByRegionDRG</th>\n",
       "      <th>Avg_Payment_ByRegionDRG_ratio_amount</th>\n",
       "    </tr>\n",
       "  </thead>\n",
       "  <tbody>\n",
       "    <tr>\n",
       "      <th>37716</th>\n",
       "      <td>202 - BRONCHITIS &amp; ASTHMA W CC/MCC</td>\n",
       "      <td>210009</td>\n",
       "      <td>JOHNS HOPKINS HOSPITAL, THE</td>\n",
       "      <td>600 NORTH  WOLFE STREET</td>\n",
       "      <td>BALTIMORE</td>\n",
       "      <td>MD</td>\n",
       "      <td>21287</td>\n",
       "      <td>MD - Baltimore</td>\n",
       "      <td>17</td>\n",
       "      <td>41458.47</td>\n",
       "      <td>37236.0</td>\n",
       "      <td>8374.755758</td>\n",
       "      <td>4.950409</td>\n",
       "      <td>7413.965</td>\n",
       "      <td>5.591943</td>\n",
       "      <td>9473.928889</td>\n",
       "      <td>4.376059</td>\n",
       "    </tr>\n",
       "    <tr>\n",
       "      <th>162713</th>\n",
       "      <td>948 - SIGNS &amp; SYMPTOMS W/O MCC</td>\n",
       "      <td>390312</td>\n",
       "      <td>CANCER TREATMENT CENTERS OF AMERICA</td>\n",
       "      <td>1331 EAST WYOMING AVENUE</td>\n",
       "      <td>PHILADELPHIA</td>\n",
       "      <td>PA</td>\n",
       "      <td>19124</td>\n",
       "      <td>PA - Philadelphia</td>\n",
       "      <td>24</td>\n",
       "      <td>28968.20</td>\n",
       "      <td>8894.2</td>\n",
       "      <td>5018.809241</td>\n",
       "      <td>5.771927</td>\n",
       "      <td>6071.325</td>\n",
       "      <td>4.771314</td>\n",
       "      <td>5974.915484</td>\n",
       "      <td>4.848303</td>\n",
       "    </tr>\n",
       "  </tbody>\n",
       "</table>\n",
       "</div>"
      ],
      "text/plain": [
       "                                       DRG Provider_Id  \\\n",
       "37716   202 - BRONCHITIS & ASTHMA W CC/MCC      210009   \n",
       "162713      948 - SIGNS & SYMPTOMS W/O MCC      390312   \n",
       "\n",
       "                              Provider_Name    Provider_StreetAddress  \\\n",
       "37716           JOHNS HOPKINS HOSPITAL, THE   600 NORTH  WOLFE STREET   \n",
       "162713  CANCER TREATMENT CENTERS OF AMERICA  1331 EAST WYOMING AVENUE   \n",
       "\n",
       "       Provider_City Provider_State  Provider_Zipcode  \\\n",
       "37716      BALTIMORE             MD             21287   \n",
       "162713  PHILADELPHIA             PA             19124   \n",
       "\n",
       "       Hospital_referral_region_desp  Total_Discharges  \\\n",
       "37716                 MD - Baltimore                17   \n",
       "162713             PA - Philadelphia                24   \n",
       "\n",
       "        Average_Total_Payments  Average_Medicare_Payment  \\\n",
       "37716                 41458.47                   37236.0   \n",
       "162713                28968.20                    8894.2   \n",
       "\n",
       "        Avg_Payment_ByStateDRG  Avg_Payment_ByStateDRG_ratio_amount  \\\n",
       "37716              8374.755758                             4.950409   \n",
       "162713             5018.809241                             5.771927   \n",
       "\n",
       "        Average_Payment_ByCityDRG  Average_Payment_ByCityDRG_ratio_amount  \\\n",
       "37716                    7413.965                                5.591943   \n",
       "162713                   6071.325                                4.771314   \n",
       "\n",
       "        Avg_Payment_ByRegionDRG  Avg_Payment_ByRegionDRG_ratio_amount  \n",
       "37716               9473.928889                              4.376059  \n",
       "162713              5974.915484                              4.848303  "
      ]
     },
     "execution_count": 36,
     "metadata": {},
     "output_type": "execute_result"
    }
   ],
   "source": [
    "df1[df1['Avg_Payment_ByRegionDRG_ratio_amount']>4].head()"
   ]
  },
  {
   "cell_type": "markdown",
   "id": "3712b55a",
   "metadata": {},
   "source": [
    "### Section 3.4: State & DRG Total Discharges average <a class=\"anchor\" id=\"Section_34\"></a>\n",
    "- Calculating average ratio of total discharges of every Provider state in DRG description. This will help understand the total discharges comparisons within the state. "
   ]
  },
  {
   "cell_type": "code",
   "execution_count": 37,
   "id": "1a386358",
   "metadata": {},
   "outputs": [
    {
     "data": {
      "text/html": [
       "<div>\n",
       "<style scoped>\n",
       "    .dataframe tbody tr th:only-of-type {\n",
       "        vertical-align: middle;\n",
       "    }\n",
       "\n",
       "    .dataframe tbody tr th {\n",
       "        vertical-align: top;\n",
       "    }\n",
       "\n",
       "    .dataframe thead th {\n",
       "        text-align: right;\n",
       "    }\n",
       "</style>\n",
       "<table border=\"1\" class=\"dataframe\">\n",
       "  <thead>\n",
       "    <tr style=\"text-align: right;\">\n",
       "      <th></th>\n",
       "      <th>Provider_State</th>\n",
       "      <th>DRG</th>\n",
       "      <th>Avg_Discharges_ByStateDRG</th>\n",
       "    </tr>\n",
       "  </thead>\n",
       "  <tbody>\n",
       "    <tr>\n",
       "      <th>0</th>\n",
       "      <td>AK</td>\n",
       "      <td>039 - EXTRACRANIAL PROCEDURES W/O CC/MCC</td>\n",
       "      <td>23.000000</td>\n",
       "    </tr>\n",
       "    <tr>\n",
       "      <th>1</th>\n",
       "      <td>AK</td>\n",
       "      <td>057 - DEGENERATIVE NERVOUS SYSTEM DISORDERS W/...</td>\n",
       "      <td>11.000000</td>\n",
       "    </tr>\n",
       "    <tr>\n",
       "      <th>2</th>\n",
       "      <td>AK</td>\n",
       "      <td>064 - INTRACRANIAL HEMORRHAGE OR CEREBRAL INFA...</td>\n",
       "      <td>22.500000</td>\n",
       "    </tr>\n",
       "    <tr>\n",
       "      <th>3</th>\n",
       "      <td>AK</td>\n",
       "      <td>065 - INTRACRANIAL HEMORRHAGE OR CEREBRAL INFA...</td>\n",
       "      <td>25.333333</td>\n",
       "    </tr>\n",
       "    <tr>\n",
       "      <th>4</th>\n",
       "      <td>AK</td>\n",
       "      <td>066 - INTRACRANIAL HEMORRHAGE OR CEREBRAL INFA...</td>\n",
       "      <td>21.000000</td>\n",
       "    </tr>\n",
       "  </tbody>\n",
       "</table>\n",
       "</div>"
      ],
      "text/plain": [
       "  Provider_State                                                DRG  \\\n",
       "0             AK           039 - EXTRACRANIAL PROCEDURES W/O CC/MCC   \n",
       "1             AK  057 - DEGENERATIVE NERVOUS SYSTEM DISORDERS W/...   \n",
       "2             AK  064 - INTRACRANIAL HEMORRHAGE OR CEREBRAL INFA...   \n",
       "3             AK  065 - INTRACRANIAL HEMORRHAGE OR CEREBRAL INFA...   \n",
       "4             AK  066 - INTRACRANIAL HEMORRHAGE OR CEREBRAL INFA...   \n",
       "\n",
       "   Avg_Discharges_ByStateDRG  \n",
       "0                  23.000000  \n",
       "1                  11.000000  \n",
       "2                  22.500000  \n",
       "3                  25.333333  \n",
       "4                  21.000000  "
      ]
     },
     "execution_count": 37,
     "metadata": {},
     "output_type": "execute_result"
    }
   ],
   "source": [
    "benchmark = df.groupby(['Provider_State','DRG'])['Total_Discharges'].mean().reset_index()\n",
    "benchmark.columns = ['Provider_State','DRG','Avg_Discharges_ByStateDRG']\n",
    "benchmark.head()"
   ]
  },
  {
   "cell_type": "code",
   "execution_count": 38,
   "id": "dd95f067",
   "metadata": {},
   "outputs": [
    {
     "data": {
      "text/plain": [
       "count    163065.000000\n",
       "mean          1.000000\n",
       "std           0.686087\n",
       "min           0.045025\n",
       "25%           0.550452\n",
       "50%           0.819820\n",
       "75%           1.251471\n",
       "max          24.624593\n",
       "Name: Avg_Discharges_ByStateDRG_ratio_amount, dtype: float64"
      ]
     },
     "execution_count": 38,
     "metadata": {},
     "output_type": "execute_result"
    }
   ],
   "source": [
    "# add the new feature average total discharges to the dataset \n",
    "df1 = pd.merge(df1, benchmark, how='left', on=['Provider_State','DRG'])\n",
    "# Feature 4: ratio of amount total discharges and average total discharges by drg in a state \n",
    "df1['Avg_Discharges_ByStateDRG_ratio_amount'] = np.where(df1['Avg_Discharges_ByStateDRG']==0,0, df1['Total_Discharges'] / df1['Avg_Discharges_ByStateDRG'])\n",
    "df1['Avg_Discharges_ByStateDRG_ratio_amount'].describe()"
   ]
  },
  {
   "cell_type": "code",
   "execution_count": 39,
   "id": "14200c5b",
   "metadata": {},
   "outputs": [
    {
     "data": {
      "text/plain": [
       "1227"
      ]
     },
     "execution_count": 39,
     "metadata": {},
     "output_type": "execute_result"
    }
   ],
   "source": [
    "len(df1[df1['Avg_Discharges_ByStateDRG_ratio_amount']>2]['Provider_Name'].unique())"
   ]
  },
  {
   "cell_type": "code",
   "execution_count": 40,
   "id": "bf83c56e",
   "metadata": {},
   "outputs": [
    {
     "data": {
      "text/html": [
       "<div>\n",
       "<style scoped>\n",
       "    .dataframe tbody tr th:only-of-type {\n",
       "        vertical-align: middle;\n",
       "    }\n",
       "\n",
       "    .dataframe tbody tr th {\n",
       "        vertical-align: top;\n",
       "    }\n",
       "\n",
       "    .dataframe thead th {\n",
       "        text-align: right;\n",
       "    }\n",
       "</style>\n",
       "<table border=\"1\" class=\"dataframe\">\n",
       "  <thead>\n",
       "    <tr style=\"text-align: right;\">\n",
       "      <th></th>\n",
       "      <th>DRG</th>\n",
       "      <th>Provider_Id</th>\n",
       "      <th>Provider_Name</th>\n",
       "      <th>Provider_StreetAddress</th>\n",
       "      <th>Provider_City</th>\n",
       "      <th>Provider_State</th>\n",
       "      <th>Provider_Zipcode</th>\n",
       "      <th>Hospital_referral_region_desp</th>\n",
       "      <th>Total_Discharges</th>\n",
       "      <th>Average_Total_Payments</th>\n",
       "      <th>Average_Medicare_Payment</th>\n",
       "      <th>Avg_Payment_ByStateDRG</th>\n",
       "      <th>Avg_Payment_ByStateDRG_ratio_amount</th>\n",
       "      <th>Average_Payment_ByCityDRG</th>\n",
       "      <th>Average_Payment_ByCityDRG_ratio_amount</th>\n",
       "      <th>Avg_Payment_ByRegionDRG</th>\n",
       "      <th>Avg_Payment_ByRegionDRG_ratio_amount</th>\n",
       "      <th>Avg_Discharges_ByStateDRG</th>\n",
       "      <th>Avg_Discharges_ByStateDRG_ratio_amount</th>\n",
       "    </tr>\n",
       "  </thead>\n",
       "  <tbody>\n",
       "    <tr>\n",
       "      <th>112969</th>\n",
       "      <td>470 - MAJOR JOINT REPLACEMENT OR REATTACHMENT ...</td>\n",
       "      <td>330270</td>\n",
       "      <td>HOSPITAL FOR SPECIAL SURGERY</td>\n",
       "      <td>535 EAST 70TH STREET</td>\n",
       "      <td>NEW YORK</td>\n",
       "      <td>NY</td>\n",
       "      <td>10021</td>\n",
       "      <td>NY - Manhattan</td>\n",
       "      <td>3383</td>\n",
       "      <td>19023.7</td>\n",
       "      <td>14880.39</td>\n",
       "      <td>16761.400426</td>\n",
       "      <td>1.134971</td>\n",
       "      <td>23075.93</td>\n",
       "      <td>0.824396</td>\n",
       "      <td>22709.351</td>\n",
       "      <td>0.837703</td>\n",
       "      <td>137.382979</td>\n",
       "      <td>24.624593</td>\n",
       "    </tr>\n",
       "  </tbody>\n",
       "</table>\n",
       "</div>"
      ],
      "text/plain": [
       "                                                      DRG Provider_Id  \\\n",
       "112969  470 - MAJOR JOINT REPLACEMENT OR REATTACHMENT ...      330270   \n",
       "\n",
       "                       Provider_Name Provider_StreetAddress Provider_City  \\\n",
       "112969  HOSPITAL FOR SPECIAL SURGERY   535 EAST 70TH STREET      NEW YORK   \n",
       "\n",
       "       Provider_State  Provider_Zipcode Hospital_referral_region_desp  \\\n",
       "112969             NY             10021                NY - Manhattan   \n",
       "\n",
       "        Total_Discharges  Average_Total_Payments  Average_Medicare_Payment  \\\n",
       "112969              3383                 19023.7                  14880.39   \n",
       "\n",
       "        Avg_Payment_ByStateDRG  Avg_Payment_ByStateDRG_ratio_amount  \\\n",
       "112969            16761.400426                             1.134971   \n",
       "\n",
       "        Average_Payment_ByCityDRG  Average_Payment_ByCityDRG_ratio_amount  \\\n",
       "112969                   23075.93                                0.824396   \n",
       "\n",
       "        Avg_Payment_ByRegionDRG  Avg_Payment_ByRegionDRG_ratio_amount  \\\n",
       "112969                22709.351                              0.837703   \n",
       "\n",
       "        Avg_Discharges_ByStateDRG  Avg_Discharges_ByStateDRG_ratio_amount  \n",
       "112969                 137.382979                               24.624593  "
      ]
     },
     "execution_count": 40,
     "metadata": {},
     "output_type": "execute_result"
    }
   ],
   "source": [
    "df1[df1['Avg_Discharges_ByStateDRG_ratio_amount']>24].head()"
   ]
  },
  {
   "cell_type": "markdown",
   "id": "62671b6d",
   "metadata": {},
   "source": [
    "### Section 3.5: City & DRG Total Discharge average <a class=\"anchor\" id=\"Section_35\"></a>\n",
    "- Calculating average ratio of total discharges of every Provider city in DRG description. This will help understand the total discharges comparisons within the city. "
   ]
  },
  {
   "cell_type": "code",
   "execution_count": 41,
   "id": "4e6f2d83",
   "metadata": {},
   "outputs": [
    {
     "data": {
      "text/html": [
       "<div>\n",
       "<style scoped>\n",
       "    .dataframe tbody tr th:only-of-type {\n",
       "        vertical-align: middle;\n",
       "    }\n",
       "\n",
       "    .dataframe tbody tr th {\n",
       "        vertical-align: top;\n",
       "    }\n",
       "\n",
       "    .dataframe thead th {\n",
       "        text-align: right;\n",
       "    }\n",
       "</style>\n",
       "<table border=\"1\" class=\"dataframe\">\n",
       "  <thead>\n",
       "    <tr style=\"text-align: right;\">\n",
       "      <th></th>\n",
       "      <th>Provider_City</th>\n",
       "      <th>DRG</th>\n",
       "      <th>Avg_Discharges_ByCityDRG</th>\n",
       "    </tr>\n",
       "  </thead>\n",
       "  <tbody>\n",
       "    <tr>\n",
       "      <th>0</th>\n",
       "      <td>ABBEVILLE</td>\n",
       "      <td>039 - EXTRACRANIAL PROCEDURES W/O CC/MCC</td>\n",
       "      <td>NaN</td>\n",
       "    </tr>\n",
       "    <tr>\n",
       "      <th>1</th>\n",
       "      <td>ABBEVILLE</td>\n",
       "      <td>057 - DEGENERATIVE NERVOUS SYSTEM DISORDERS W/...</td>\n",
       "      <td>NaN</td>\n",
       "    </tr>\n",
       "    <tr>\n",
       "      <th>2</th>\n",
       "      <td>ABBEVILLE</td>\n",
       "      <td>064 - INTRACRANIAL HEMORRHAGE OR CEREBRAL INFA...</td>\n",
       "      <td>NaN</td>\n",
       "    </tr>\n",
       "    <tr>\n",
       "      <th>3</th>\n",
       "      <td>ABBEVILLE</td>\n",
       "      <td>065 - INTRACRANIAL HEMORRHAGE OR CEREBRAL INFA...</td>\n",
       "      <td>NaN</td>\n",
       "    </tr>\n",
       "    <tr>\n",
       "      <th>4</th>\n",
       "      <td>ABBEVILLE</td>\n",
       "      <td>066 - INTRACRANIAL HEMORRHAGE OR CEREBRAL INFA...</td>\n",
       "      <td>NaN</td>\n",
       "    </tr>\n",
       "  </tbody>\n",
       "</table>\n",
       "</div>"
      ],
      "text/plain": [
       "  Provider_City                                                DRG  \\\n",
       "0     ABBEVILLE           039 - EXTRACRANIAL PROCEDURES W/O CC/MCC   \n",
       "1     ABBEVILLE  057 - DEGENERATIVE NERVOUS SYSTEM DISORDERS W/...   \n",
       "2     ABBEVILLE  064 - INTRACRANIAL HEMORRHAGE OR CEREBRAL INFA...   \n",
       "3     ABBEVILLE  065 - INTRACRANIAL HEMORRHAGE OR CEREBRAL INFA...   \n",
       "4     ABBEVILLE  066 - INTRACRANIAL HEMORRHAGE OR CEREBRAL INFA...   \n",
       "\n",
       "   Avg_Discharges_ByCityDRG  \n",
       "0                       NaN  \n",
       "1                       NaN  \n",
       "2                       NaN  \n",
       "3                       NaN  \n",
       "4                       NaN  "
      ]
     },
     "execution_count": 41,
     "metadata": {},
     "output_type": "execute_result"
    }
   ],
   "source": [
    "benchmark = df.groupby(['Provider_City','DRG'])['Total_Discharges'].mean().reset_index()\n",
    "benchmark.columns = ['Provider_City','DRG','Avg_Discharges_ByCityDRG']\n",
    "benchmark.head()"
   ]
  },
  {
   "cell_type": "code",
   "execution_count": 42,
   "id": "d7a8be30",
   "metadata": {},
   "outputs": [
    {
     "data": {
      "text/plain": [
       "count    163065.000000\n",
       "mean          1.000000\n",
       "std           0.356433\n",
       "min           0.019540\n",
       "25%           0.920000\n",
       "50%           1.000000\n",
       "75%           1.000000\n",
       "max           5.689303\n",
       "Name: Avg_Discharges_ByCityDRG_ratio_amount, dtype: float64"
      ]
     },
     "execution_count": 42,
     "metadata": {},
     "output_type": "execute_result"
    }
   ],
   "source": [
    "# add the new feature average total discharges to the dataset \n",
    "df1 = pd.merge(df1, benchmark, how='left', on=['Provider_City','DRG'])\n",
    "# Feature 5: ratio of amount total discharges and average total discharges by drg in a city\n",
    "df1['Avg_Discharges_ByCityDRG_ratio_amount'] = np.where(df1['Avg_Discharges_ByCityDRG']==0,0, df1['Total_Discharges'] / df1['Avg_Discharges_ByCityDRG'])\n",
    "df1['Avg_Discharges_ByCityDRG_ratio_amount'].describe()"
   ]
  },
  {
   "cell_type": "code",
   "execution_count": 43,
   "id": "450d67d3",
   "metadata": {},
   "outputs": [
    {
     "data": {
      "text/plain": [
       "430"
      ]
     },
     "execution_count": 43,
     "metadata": {},
     "output_type": "execute_result"
    }
   ],
   "source": [
    "len(df1[df1['Avg_Discharges_ByCityDRG_ratio_amount']>2]['Provider_Name'].unique())"
   ]
  },
  {
   "cell_type": "code",
   "execution_count": 44,
   "id": "fe0e5ff5",
   "metadata": {},
   "outputs": [
    {
     "data": {
      "text/html": [
       "<div>\n",
       "<style scoped>\n",
       "    .dataframe tbody tr th:only-of-type {\n",
       "        vertical-align: middle;\n",
       "    }\n",
       "\n",
       "    .dataframe tbody tr th {\n",
       "        vertical-align: top;\n",
       "    }\n",
       "\n",
       "    .dataframe thead th {\n",
       "        text-align: right;\n",
       "    }\n",
       "</style>\n",
       "<table border=\"1\" class=\"dataframe\">\n",
       "  <thead>\n",
       "    <tr style=\"text-align: right;\">\n",
       "      <th></th>\n",
       "      <th>DRG</th>\n",
       "      <th>Provider_Id</th>\n",
       "      <th>Provider_Name</th>\n",
       "      <th>Provider_StreetAddress</th>\n",
       "      <th>Provider_City</th>\n",
       "      <th>Provider_State</th>\n",
       "      <th>Provider_Zipcode</th>\n",
       "      <th>Hospital_referral_region_desp</th>\n",
       "      <th>Total_Discharges</th>\n",
       "      <th>Average_Total_Payments</th>\n",
       "      <th>...</th>\n",
       "      <th>Avg_Payment_ByStateDRG</th>\n",
       "      <th>Avg_Payment_ByStateDRG_ratio_amount</th>\n",
       "      <th>Average_Payment_ByCityDRG</th>\n",
       "      <th>Average_Payment_ByCityDRG_ratio_amount</th>\n",
       "      <th>Avg_Payment_ByRegionDRG</th>\n",
       "      <th>Avg_Payment_ByRegionDRG_ratio_amount</th>\n",
       "      <th>Avg_Discharges_ByStateDRG</th>\n",
       "      <th>Avg_Discharges_ByStateDRG_ratio_amount</th>\n",
       "      <th>Avg_Discharges_ByCityDRG</th>\n",
       "      <th>Avg_Discharges_ByCityDRG_ratio_amount</th>\n",
       "    </tr>\n",
       "  </thead>\n",
       "  <tbody>\n",
       "    <tr>\n",
       "      <th>23231</th>\n",
       "      <td>190 - CHRONIC OBSTRUCTIVE PULMONARY DISEASE W MCC</td>\n",
       "      <td>450184</td>\n",
       "      <td>MEMORIAL HERMANN HOSPITAL SYSTEM</td>\n",
       "      <td>1635  NORTH LOOP WEST</td>\n",
       "      <td>HOUSTON</td>\n",
       "      <td>TX</td>\n",
       "      <td>77008</td>\n",
       "      <td>TX - Houston</td>\n",
       "      <td>312</td>\n",
       "      <td>8000.42</td>\n",
       "      <td>...</td>\n",
       "      <td>7610.829312</td>\n",
       "      <td>1.051189</td>\n",
       "      <td>8000.420</td>\n",
       "      <td>1.000000</td>\n",
       "      <td>7960.970870</td>\n",
       "      <td>1.004955</td>\n",
       "      <td>49.944954</td>\n",
       "      <td>6.246877</td>\n",
       "      <td>58.800000</td>\n",
       "      <td>5.306122</td>\n",
       "    </tr>\n",
       "    <tr>\n",
       "      <th>102629</th>\n",
       "      <td>392 - ESOPHAGITIS, GASTROENT &amp; MISC DIGEST DIS...</td>\n",
       "      <td>140281</td>\n",
       "      <td>NORTHWESTERN MEMORIAL HOSPITAL</td>\n",
       "      <td>251 E HURON ST</td>\n",
       "      <td>CHICAGO</td>\n",
       "      <td>IL</td>\n",
       "      <td>60611</td>\n",
       "      <td>IL - Chicago</td>\n",
       "      <td>448</td>\n",
       "      <td>6321.75</td>\n",
       "      <td>...</td>\n",
       "      <td>5176.980720</td>\n",
       "      <td>1.221127</td>\n",
       "      <td>6409.780</td>\n",
       "      <td>0.986266</td>\n",
       "      <td>6596.742222</td>\n",
       "      <td>0.958314</td>\n",
       "      <td>106.760000</td>\n",
       "      <td>4.196328</td>\n",
       "      <td>87.370370</td>\n",
       "      <td>5.127596</td>\n",
       "    </tr>\n",
       "    <tr>\n",
       "      <th>111610</th>\n",
       "      <td>470 - MAJOR JOINT REPLACEMENT OR REATTACHMENT ...</td>\n",
       "      <td>50625</td>\n",
       "      <td>CEDARS-SINAI MEDICAL CENTER</td>\n",
       "      <td>8700 BEVERLY BLVD</td>\n",
       "      <td>LOS ANGELES</td>\n",
       "      <td>CA</td>\n",
       "      <td>90048</td>\n",
       "      <td>CA - Los Angeles</td>\n",
       "      <td>738</td>\n",
       "      <td>18690.78</td>\n",
       "      <td>...</td>\n",
       "      <td>17684.594213</td>\n",
       "      <td>1.056896</td>\n",
       "      <td>19646.745</td>\n",
       "      <td>0.951342</td>\n",
       "      <td>17916.616610</td>\n",
       "      <td>1.043209</td>\n",
       "      <td>126.514894</td>\n",
       "      <td>5.833305</td>\n",
       "      <td>131.250000</td>\n",
       "      <td>5.622857</td>\n",
       "    </tr>\n",
       "    <tr>\n",
       "      <th>111715</th>\n",
       "      <td>470 - MAJOR JOINT REPLACEMENT OR REATTACHMENT ...</td>\n",
       "      <td>80001</td>\n",
       "      <td>CHRISTIANA CARE HEALTH SERVICES, INC.</td>\n",
       "      <td>4755 OGLETOWN-STANTON ROAD</td>\n",
       "      <td>NEWARK</td>\n",
       "      <td>DE</td>\n",
       "      <td>19718</td>\n",
       "      <td>DE - Wilmington</td>\n",
       "      <td>1031</td>\n",
       "      <td>15631.40</td>\n",
       "      <td>...</td>\n",
       "      <td>14818.714000</td>\n",
       "      <td>1.054842</td>\n",
       "      <td>15631.400</td>\n",
       "      <td>1.000000</td>\n",
       "      <td>16596.194000</td>\n",
       "      <td>0.941867</td>\n",
       "      <td>363.400000</td>\n",
       "      <td>2.837094</td>\n",
       "      <td>189.571429</td>\n",
       "      <td>5.438583</td>\n",
       "    </tr>\n",
       "    <tr>\n",
       "      <th>112969</th>\n",
       "      <td>470 - MAJOR JOINT REPLACEMENT OR REATTACHMENT ...</td>\n",
       "      <td>330270</td>\n",
       "      <td>HOSPITAL FOR SPECIAL SURGERY</td>\n",
       "      <td>535 EAST 70TH STREET</td>\n",
       "      <td>NEW YORK</td>\n",
       "      <td>NY</td>\n",
       "      <td>10021</td>\n",
       "      <td>NY - Manhattan</td>\n",
       "      <td>3383</td>\n",
       "      <td>19023.70</td>\n",
       "      <td>...</td>\n",
       "      <td>16761.400426</td>\n",
       "      <td>1.134971</td>\n",
       "      <td>23075.930</td>\n",
       "      <td>0.824396</td>\n",
       "      <td>22709.351000</td>\n",
       "      <td>0.837703</td>\n",
       "      <td>137.382979</td>\n",
       "      <td>24.624593</td>\n",
       "      <td>614.111111</td>\n",
       "      <td>5.508775</td>\n",
       "    </tr>\n",
       "  </tbody>\n",
       "</table>\n",
       "<p>5 rows × 21 columns</p>\n",
       "</div>"
      ],
      "text/plain": [
       "                                                      DRG Provider_Id  \\\n",
       "23231   190 - CHRONIC OBSTRUCTIVE PULMONARY DISEASE W MCC      450184   \n",
       "102629  392 - ESOPHAGITIS, GASTROENT & MISC DIGEST DIS...      140281   \n",
       "111610  470 - MAJOR JOINT REPLACEMENT OR REATTACHMENT ...       50625   \n",
       "111715  470 - MAJOR JOINT REPLACEMENT OR REATTACHMENT ...       80001   \n",
       "112969  470 - MAJOR JOINT REPLACEMENT OR REATTACHMENT ...      330270   \n",
       "\n",
       "                                Provider_Name      Provider_StreetAddress  \\\n",
       "23231        MEMORIAL HERMANN HOSPITAL SYSTEM       1635  NORTH LOOP WEST   \n",
       "102629         NORTHWESTERN MEMORIAL HOSPITAL              251 E HURON ST   \n",
       "111610            CEDARS-SINAI MEDICAL CENTER           8700 BEVERLY BLVD   \n",
       "111715  CHRISTIANA CARE HEALTH SERVICES, INC.  4755 OGLETOWN-STANTON ROAD   \n",
       "112969           HOSPITAL FOR SPECIAL SURGERY        535 EAST 70TH STREET   \n",
       "\n",
       "       Provider_City Provider_State  Provider_Zipcode  \\\n",
       "23231        HOUSTON             TX             77008   \n",
       "102629       CHICAGO             IL             60611   \n",
       "111610   LOS ANGELES             CA             90048   \n",
       "111715        NEWARK             DE             19718   \n",
       "112969      NEW YORK             NY             10021   \n",
       "\n",
       "       Hospital_referral_region_desp  Total_Discharges  \\\n",
       "23231                   TX - Houston               312   \n",
       "102629                  IL - Chicago               448   \n",
       "111610              CA - Los Angeles               738   \n",
       "111715               DE - Wilmington              1031   \n",
       "112969                NY - Manhattan              3383   \n",
       "\n",
       "        Average_Total_Payments  ...  Avg_Payment_ByStateDRG  \\\n",
       "23231                  8000.42  ...             7610.829312   \n",
       "102629                 6321.75  ...             5176.980720   \n",
       "111610                18690.78  ...            17684.594213   \n",
       "111715                15631.40  ...            14818.714000   \n",
       "112969                19023.70  ...            16761.400426   \n",
       "\n",
       "        Avg_Payment_ByStateDRG_ratio_amount  Average_Payment_ByCityDRG  \\\n",
       "23231                              1.051189                   8000.420   \n",
       "102629                             1.221127                   6409.780   \n",
       "111610                             1.056896                  19646.745   \n",
       "111715                             1.054842                  15631.400   \n",
       "112969                             1.134971                  23075.930   \n",
       "\n",
       "        Average_Payment_ByCityDRG_ratio_amount  Avg_Payment_ByRegionDRG  \\\n",
       "23231                                 1.000000              7960.970870   \n",
       "102629                                0.986266              6596.742222   \n",
       "111610                                0.951342             17916.616610   \n",
       "111715                                1.000000             16596.194000   \n",
       "112969                                0.824396             22709.351000   \n",
       "\n",
       "        Avg_Payment_ByRegionDRG_ratio_amount  Avg_Discharges_ByStateDRG  \\\n",
       "23231                               1.004955                  49.944954   \n",
       "102629                              0.958314                 106.760000   \n",
       "111610                              1.043209                 126.514894   \n",
       "111715                              0.941867                 363.400000   \n",
       "112969                              0.837703                 137.382979   \n",
       "\n",
       "        Avg_Discharges_ByStateDRG_ratio_amount  Avg_Discharges_ByCityDRG  \\\n",
       "23231                                 6.246877                 58.800000   \n",
       "102629                                4.196328                 87.370370   \n",
       "111610                                5.833305                131.250000   \n",
       "111715                                2.837094                189.571429   \n",
       "112969                               24.624593                614.111111   \n",
       "\n",
       "        Avg_Discharges_ByCityDRG_ratio_amount  \n",
       "23231                                5.306122  \n",
       "102629                               5.127596  \n",
       "111610                               5.622857  \n",
       "111715                               5.438583  \n",
       "112969                               5.508775  \n",
       "\n",
       "[5 rows x 21 columns]"
      ]
     },
     "execution_count": 44,
     "metadata": {},
     "output_type": "execute_result"
    }
   ],
   "source": [
    "df1[df1['Avg_Discharges_ByCityDRG_ratio_amount']>5].head()"
   ]
  },
  {
   "cell_type": "markdown",
   "id": "c586f0ca",
   "metadata": {},
   "source": [
    "### Section 3.6: Region & DRG Total Discharge average <a class=\"anchor\" id=\"Section_36\"></a>\n",
    "- Calculating average ratio of total discharges of every Hospital referral region desp in DRG description. This will help understand the total discharges comparisons within the region. "
   ]
  },
  {
   "cell_type": "code",
   "execution_count": 45,
   "id": "13427bd3",
   "metadata": {},
   "outputs": [
    {
     "data": {
      "text/html": [
       "<div>\n",
       "<style scoped>\n",
       "    .dataframe tbody tr th:only-of-type {\n",
       "        vertical-align: middle;\n",
       "    }\n",
       "\n",
       "    .dataframe tbody tr th {\n",
       "        vertical-align: top;\n",
       "    }\n",
       "\n",
       "    .dataframe thead th {\n",
       "        text-align: right;\n",
       "    }\n",
       "</style>\n",
       "<table border=\"1\" class=\"dataframe\">\n",
       "  <thead>\n",
       "    <tr style=\"text-align: right;\">\n",
       "      <th></th>\n",
       "      <th>Hospital_referral_region_desp</th>\n",
       "      <th>DRG</th>\n",
       "      <th>Avg_Discharges_ByRegionDRG</th>\n",
       "    </tr>\n",
       "  </thead>\n",
       "  <tbody>\n",
       "    <tr>\n",
       "      <th>0</th>\n",
       "      <td>AK - Anchorage</td>\n",
       "      <td>039 - EXTRACRANIAL PROCEDURES W/O CC/MCC</td>\n",
       "      <td>23.000000</td>\n",
       "    </tr>\n",
       "    <tr>\n",
       "      <th>1</th>\n",
       "      <td>AK - Anchorage</td>\n",
       "      <td>057 - DEGENERATIVE NERVOUS SYSTEM DISORDERS W/...</td>\n",
       "      <td>11.000000</td>\n",
       "    </tr>\n",
       "    <tr>\n",
       "      <th>2</th>\n",
       "      <td>AK - Anchorage</td>\n",
       "      <td>064 - INTRACRANIAL HEMORRHAGE OR CEREBRAL INFA...</td>\n",
       "      <td>22.500000</td>\n",
       "    </tr>\n",
       "    <tr>\n",
       "      <th>3</th>\n",
       "      <td>AK - Anchorage</td>\n",
       "      <td>065 - INTRACRANIAL HEMORRHAGE OR CEREBRAL INFA...</td>\n",
       "      <td>25.333333</td>\n",
       "    </tr>\n",
       "    <tr>\n",
       "      <th>4</th>\n",
       "      <td>AK - Anchorage</td>\n",
       "      <td>066 - INTRACRANIAL HEMORRHAGE OR CEREBRAL INFA...</td>\n",
       "      <td>21.000000</td>\n",
       "    </tr>\n",
       "  </tbody>\n",
       "</table>\n",
       "</div>"
      ],
      "text/plain": [
       "  Hospital_referral_region_desp  \\\n",
       "0                AK - Anchorage   \n",
       "1                AK - Anchorage   \n",
       "2                AK - Anchorage   \n",
       "3                AK - Anchorage   \n",
       "4                AK - Anchorage   \n",
       "\n",
       "                                                 DRG  \\\n",
       "0           039 - EXTRACRANIAL PROCEDURES W/O CC/MCC   \n",
       "1  057 - DEGENERATIVE NERVOUS SYSTEM DISORDERS W/...   \n",
       "2  064 - INTRACRANIAL HEMORRHAGE OR CEREBRAL INFA...   \n",
       "3  065 - INTRACRANIAL HEMORRHAGE OR CEREBRAL INFA...   \n",
       "4  066 - INTRACRANIAL HEMORRHAGE OR CEREBRAL INFA...   \n",
       "\n",
       "   Avg_Discharges_ByRegionDRG  \n",
       "0                   23.000000  \n",
       "1                   11.000000  \n",
       "2                   22.500000  \n",
       "3                   25.333333  \n",
       "4                   21.000000  "
      ]
     },
     "execution_count": 45,
     "metadata": {},
     "output_type": "execute_result"
    }
   ],
   "source": [
    "benchmark = df.groupby(['Hospital_referral_region_desp','DRG'])['Total_Discharges'].mean().reset_index()\n",
    "benchmark.columns = ['Hospital_referral_region_desp','DRG','Avg_Discharges_ByRegionDRG']\n",
    "benchmark.head()"
   ]
  },
  {
   "cell_type": "code",
   "execution_count": 46,
   "id": "1c2481e8",
   "metadata": {},
   "outputs": [
    {
     "data": {
      "text/plain": [
       "count    163065.000000\n",
       "mean          1.000000\n",
       "std           0.596288\n",
       "min           0.015412\n",
       "25%           0.592105\n",
       "50%           0.886894\n",
       "75%           1.250000\n",
       "max          11.008786\n",
       "Name: Avg_Discharges_ByRegionDRG_ratio_amount, dtype: float64"
      ]
     },
     "execution_count": 46,
     "metadata": {},
     "output_type": "execute_result"
    }
   ],
   "source": [
    "# add the new feature average total discharges to the dataset \n",
    "df1 = pd.merge(df1, benchmark, how='left', on=['Hospital_referral_region_desp','DRG'])\n",
    "# Feature 6: ratio of amount total discharges and average total discharges by drg in a region\n",
    "df1['Avg_Discharges_ByRegionDRG_ratio_amount'] = np.where(df1['Avg_Discharges_ByRegionDRG']==0,0, df1['Total_Discharges'] / df1['Avg_Discharges_ByRegionDRG'])\n",
    "df1['Avg_Discharges_ByRegionDRG_ratio_amount'].describe()"
   ]
  },
  {
   "cell_type": "code",
   "execution_count": 47,
   "id": "7bc7f307",
   "metadata": {},
   "outputs": [
    {
     "data": {
      "text/plain": [
       "1123"
      ]
     },
     "execution_count": 47,
     "metadata": {},
     "output_type": "execute_result"
    }
   ],
   "source": [
    "len(df1[df1['Avg_Discharges_ByRegionDRG_ratio_amount']>2]['Provider_Name'].unique())"
   ]
  },
  {
   "cell_type": "code",
   "execution_count": 48,
   "id": "07086812",
   "metadata": {},
   "outputs": [
    {
     "data": {
      "text/html": [
       "<div>\n",
       "<style scoped>\n",
       "    .dataframe tbody tr th:only-of-type {\n",
       "        vertical-align: middle;\n",
       "    }\n",
       "\n",
       "    .dataframe tbody tr th {\n",
       "        vertical-align: top;\n",
       "    }\n",
       "\n",
       "    .dataframe thead th {\n",
       "        text-align: right;\n",
       "    }\n",
       "</style>\n",
       "<table border=\"1\" class=\"dataframe\">\n",
       "  <thead>\n",
       "    <tr style=\"text-align: right;\">\n",
       "      <th></th>\n",
       "      <th>DRG</th>\n",
       "      <th>Provider_Id</th>\n",
       "      <th>Provider_Name</th>\n",
       "      <th>Provider_StreetAddress</th>\n",
       "      <th>Provider_City</th>\n",
       "      <th>Provider_State</th>\n",
       "      <th>Provider_Zipcode</th>\n",
       "      <th>Hospital_referral_region_desp</th>\n",
       "      <th>Total_Discharges</th>\n",
       "      <th>Average_Total_Payments</th>\n",
       "      <th>...</th>\n",
       "      <th>Average_Payment_ByCityDRG</th>\n",
       "      <th>Average_Payment_ByCityDRG_ratio_amount</th>\n",
       "      <th>Avg_Payment_ByRegionDRG</th>\n",
       "      <th>Avg_Payment_ByRegionDRG_ratio_amount</th>\n",
       "      <th>Avg_Discharges_ByStateDRG</th>\n",
       "      <th>Avg_Discharges_ByStateDRG_ratio_amount</th>\n",
       "      <th>Avg_Discharges_ByCityDRG</th>\n",
       "      <th>Avg_Discharges_ByCityDRG_ratio_amount</th>\n",
       "      <th>Avg_Discharges_ByRegionDRG</th>\n",
       "      <th>Avg_Discharges_ByRegionDRG_ratio_amount</th>\n",
       "    </tr>\n",
       "  </thead>\n",
       "  <tbody>\n",
       "    <tr>\n",
       "      <th>112969</th>\n",
       "      <td>470 - MAJOR JOINT REPLACEMENT OR REATTACHMENT ...</td>\n",
       "      <td>330270</td>\n",
       "      <td>HOSPITAL FOR SPECIAL SURGERY</td>\n",
       "      <td>535 EAST 70TH STREET</td>\n",
       "      <td>NEW YORK</td>\n",
       "      <td>NY</td>\n",
       "      <td>10021</td>\n",
       "      <td>NY - Manhattan</td>\n",
       "      <td>3383</td>\n",
       "      <td>19023.7</td>\n",
       "      <td>...</td>\n",
       "      <td>23075.93</td>\n",
       "      <td>0.824396</td>\n",
       "      <td>22709.351</td>\n",
       "      <td>0.837703</td>\n",
       "      <td>137.382979</td>\n",
       "      <td>24.624593</td>\n",
       "      <td>614.111111</td>\n",
       "      <td>5.508775</td>\n",
       "      <td>307.3</td>\n",
       "      <td>11.008786</td>\n",
       "    </tr>\n",
       "  </tbody>\n",
       "</table>\n",
       "<p>1 rows × 23 columns</p>\n",
       "</div>"
      ],
      "text/plain": [
       "                                                      DRG Provider_Id  \\\n",
       "112969  470 - MAJOR JOINT REPLACEMENT OR REATTACHMENT ...      330270   \n",
       "\n",
       "                       Provider_Name Provider_StreetAddress Provider_City  \\\n",
       "112969  HOSPITAL FOR SPECIAL SURGERY   535 EAST 70TH STREET      NEW YORK   \n",
       "\n",
       "       Provider_State  Provider_Zipcode Hospital_referral_region_desp  \\\n",
       "112969             NY             10021                NY - Manhattan   \n",
       "\n",
       "        Total_Discharges  Average_Total_Payments  ...  \\\n",
       "112969              3383                 19023.7  ...   \n",
       "\n",
       "        Average_Payment_ByCityDRG  Average_Payment_ByCityDRG_ratio_amount  \\\n",
       "112969                   23075.93                                0.824396   \n",
       "\n",
       "        Avg_Payment_ByRegionDRG  Avg_Payment_ByRegionDRG_ratio_amount  \\\n",
       "112969                22709.351                              0.837703   \n",
       "\n",
       "        Avg_Discharges_ByStateDRG  Avg_Discharges_ByStateDRG_ratio_amount  \\\n",
       "112969                 137.382979                               24.624593   \n",
       "\n",
       "        Avg_Discharges_ByCityDRG  Avg_Discharges_ByCityDRG_ratio_amount  \\\n",
       "112969                614.111111                               5.508775   \n",
       "\n",
       "        Avg_Discharges_ByRegionDRG  Avg_Discharges_ByRegionDRG_ratio_amount  \n",
       "112969                       307.3                                11.008786  \n",
       "\n",
       "[1 rows x 23 columns]"
      ]
     },
     "execution_count": 48,
     "metadata": {},
     "output_type": "execute_result"
    }
   ],
   "source": [
    "df1[df1['Avg_Discharges_ByRegionDRG_ratio_amount']>11].head()"
   ]
  },
  {
   "cell_type": "markdown",
   "id": "6a8a21a5",
   "metadata": {},
   "source": [
    "### Section 3.7: State & DRG Medicare Payments average <a class=\"anchor\" id=\"Section_37\"></a>\n",
    "- Calculating average ratio of Average medicare payment of every Provider state in DRG description. This will help understand the average medicare payment comparisons within the state. "
   ]
  },
  {
   "cell_type": "code",
   "execution_count": 49,
   "id": "ce5d4eb6",
   "metadata": {},
   "outputs": [
    {
     "data": {
      "text/html": [
       "<div>\n",
       "<style scoped>\n",
       "    .dataframe tbody tr th:only-of-type {\n",
       "        vertical-align: middle;\n",
       "    }\n",
       "\n",
       "    .dataframe tbody tr th {\n",
       "        vertical-align: top;\n",
       "    }\n",
       "\n",
       "    .dataframe thead th {\n",
       "        text-align: right;\n",
       "    }\n",
       "</style>\n",
       "<table border=\"1\" class=\"dataframe\">\n",
       "  <thead>\n",
       "    <tr style=\"text-align: right;\">\n",
       "      <th></th>\n",
       "      <th>Provider_State</th>\n",
       "      <th>DRG</th>\n",
       "      <th>Avg_Medicare_ByStateDRG</th>\n",
       "    </tr>\n",
       "  </thead>\n",
       "  <tbody>\n",
       "    <tr>\n",
       "      <th>0</th>\n",
       "      <td>AK</td>\n",
       "      <td>039 - EXTRACRANIAL PROCEDURES W/O CC/MCC</td>\n",
       "      <td>6413.780000</td>\n",
       "    </tr>\n",
       "    <tr>\n",
       "      <th>1</th>\n",
       "      <td>AK</td>\n",
       "      <td>057 - DEGENERATIVE NERVOUS SYSTEM DISORDERS W/...</td>\n",
       "      <td>8081.540000</td>\n",
       "    </tr>\n",
       "    <tr>\n",
       "      <th>2</th>\n",
       "      <td>AK</td>\n",
       "      <td>064 - INTRACRANIAL HEMORRHAGE OR CEREBRAL INFA...</td>\n",
       "      <td>20555.255000</td>\n",
       "    </tr>\n",
       "    <tr>\n",
       "      <th>3</th>\n",
       "      <td>AK</td>\n",
       "      <td>065 - INTRACRANIAL HEMORRHAGE OR CEREBRAL INFA...</td>\n",
       "      <td>11140.963333</td>\n",
       "    </tr>\n",
       "    <tr>\n",
       "      <th>4</th>\n",
       "      <td>AK</td>\n",
       "      <td>066 - INTRACRANIAL HEMORRHAGE OR CEREBRAL INFA...</td>\n",
       "      <td>8258.427500</td>\n",
       "    </tr>\n",
       "  </tbody>\n",
       "</table>\n",
       "</div>"
      ],
      "text/plain": [
       "  Provider_State                                                DRG  \\\n",
       "0             AK           039 - EXTRACRANIAL PROCEDURES W/O CC/MCC   \n",
       "1             AK  057 - DEGENERATIVE NERVOUS SYSTEM DISORDERS W/...   \n",
       "2             AK  064 - INTRACRANIAL HEMORRHAGE OR CEREBRAL INFA...   \n",
       "3             AK  065 - INTRACRANIAL HEMORRHAGE OR CEREBRAL INFA...   \n",
       "4             AK  066 - INTRACRANIAL HEMORRHAGE OR CEREBRAL INFA...   \n",
       "\n",
       "   Avg_Medicare_ByStateDRG  \n",
       "0              6413.780000  \n",
       "1              8081.540000  \n",
       "2             20555.255000  \n",
       "3             11140.963333  \n",
       "4              8258.427500  "
      ]
     },
     "execution_count": 49,
     "metadata": {},
     "output_type": "execute_result"
    }
   ],
   "source": [
    "benchmark = df.groupby(['Provider_State','DRG'])['Average_Medicare_Payment'].mean().reset_index()\n",
    "benchmark.columns = ['Provider_State','DRG','Avg_Medicare_ByStateDRG']\n",
    "benchmark.head()"
   ]
  },
  {
   "cell_type": "code",
   "execution_count": 50,
   "id": "f9cc517a",
   "metadata": {},
   "outputs": [
    {
     "data": {
      "text/plain": [
       "count    163065.000000\n",
       "mean          1.000000\n",
       "std           0.215091\n",
       "min           0.339831\n",
       "25%           0.868395\n",
       "50%           0.954250\n",
       "75%           1.071483\n",
       "max           5.174415\n",
       "Name: Avg_Medicare_ByStateDRG_ratio_amount, dtype: float64"
      ]
     },
     "execution_count": 50,
     "metadata": {},
     "output_type": "execute_result"
    }
   ],
   "source": [
    "# add the new feature average total discharges to the dataset \n",
    "df1 = pd.merge(df1, benchmark, how='left', on=['Provider_State','DRG'])\n",
    "# Feature 7: ratio of amount total medicare payment and average medicare payment by drg in a state\n",
    "df1['Avg_Medicare_ByStateDRG_ratio_amount'] = np.where(df1['Avg_Medicare_ByStateDRG']==0,0, df1['Average_Medicare_Payment'] / df1['Avg_Medicare_ByStateDRG'])\n",
    "df1['Avg_Medicare_ByStateDRG_ratio_amount'].describe()"
   ]
  },
  {
   "cell_type": "code",
   "execution_count": 51,
   "id": "272beb31",
   "metadata": {},
   "outputs": [
    {
     "data": {
      "text/plain": [
       "94"
      ]
     },
     "execution_count": 51,
     "metadata": {},
     "output_type": "execute_result"
    }
   ],
   "source": [
    "len(df1[df1['Avg_Medicare_ByStateDRG_ratio_amount']>2]['Provider_Name'].unique())"
   ]
  },
  {
   "cell_type": "code",
   "execution_count": 52,
   "id": "9f1811e3",
   "metadata": {},
   "outputs": [
    {
     "data": {
      "text/html": [
       "<div>\n",
       "<style scoped>\n",
       "    .dataframe tbody tr th:only-of-type {\n",
       "        vertical-align: middle;\n",
       "    }\n",
       "\n",
       "    .dataframe tbody tr th {\n",
       "        vertical-align: top;\n",
       "    }\n",
       "\n",
       "    .dataframe thead th {\n",
       "        text-align: right;\n",
       "    }\n",
       "</style>\n",
       "<table border=\"1\" class=\"dataframe\">\n",
       "  <thead>\n",
       "    <tr style=\"text-align: right;\">\n",
       "      <th></th>\n",
       "      <th>DRG</th>\n",
       "      <th>Provider_Id</th>\n",
       "      <th>Provider_Name</th>\n",
       "      <th>Provider_StreetAddress</th>\n",
       "      <th>Provider_City</th>\n",
       "      <th>Provider_State</th>\n",
       "      <th>Provider_Zipcode</th>\n",
       "      <th>Hospital_referral_region_desp</th>\n",
       "      <th>Total_Discharges</th>\n",
       "      <th>Average_Total_Payments</th>\n",
       "      <th>...</th>\n",
       "      <th>Avg_Payment_ByRegionDRG</th>\n",
       "      <th>Avg_Payment_ByRegionDRG_ratio_amount</th>\n",
       "      <th>Avg_Discharges_ByStateDRG</th>\n",
       "      <th>Avg_Discharges_ByStateDRG_ratio_amount</th>\n",
       "      <th>Avg_Discharges_ByCityDRG</th>\n",
       "      <th>Avg_Discharges_ByCityDRG_ratio_amount</th>\n",
       "      <th>Avg_Discharges_ByRegionDRG</th>\n",
       "      <th>Avg_Discharges_ByRegionDRG_ratio_amount</th>\n",
       "      <th>Avg_Medicare_ByStateDRG</th>\n",
       "      <th>Avg_Medicare_ByStateDRG_ratio_amount</th>\n",
       "    </tr>\n",
       "  </thead>\n",
       "  <tbody>\n",
       "    <tr>\n",
       "      <th>37716</th>\n",
       "      <td>202 - BRONCHITIS &amp; ASTHMA W CC/MCC</td>\n",
       "      <td>210009</td>\n",
       "      <td>JOHNS HOPKINS HOSPITAL, THE</td>\n",
       "      <td>600 NORTH  WOLFE STREET</td>\n",
       "      <td>BALTIMORE</td>\n",
       "      <td>MD</td>\n",
       "      <td>21287</td>\n",
       "      <td>MD - Baltimore</td>\n",
       "      <td>17</td>\n",
       "      <td>41458.47</td>\n",
       "      <td>...</td>\n",
       "      <td>9473.928889</td>\n",
       "      <td>4.376059</td>\n",
       "      <td>25.727273</td>\n",
       "      <td>0.660777</td>\n",
       "      <td>23.8</td>\n",
       "      <td>0.714286</td>\n",
       "      <td>26.166667</td>\n",
       "      <td>0.649682</td>\n",
       "      <td>7196.176364</td>\n",
       "      <td>5.174415</td>\n",
       "    </tr>\n",
       "    <tr>\n",
       "      <th>109462</th>\n",
       "      <td>460 - SPINAL FUSION EXCEPT CERVICAL W/O MCC</td>\n",
       "      <td>150166</td>\n",
       "      <td>PINNACLE HOSPITAL</td>\n",
       "      <td>9301 CONNECTICUT DR</td>\n",
       "      <td>CROWN POINT</td>\n",
       "      <td>IN</td>\n",
       "      <td>46307</td>\n",
       "      <td>IN - Gary</td>\n",
       "      <td>14</td>\n",
       "      <td>131187.35</td>\n",
       "      <td>...</td>\n",
       "      <td>43758.768333</td>\n",
       "      <td>2.997967</td>\n",
       "      <td>44.641026</td>\n",
       "      <td>0.313613</td>\n",
       "      <td>13.5</td>\n",
       "      <td>1.037037</td>\n",
       "      <td>19.833333</td>\n",
       "      <td>0.705882</td>\n",
       "      <td>25432.459231</td>\n",
       "      <td>5.129923</td>\n",
       "    </tr>\n",
       "  </tbody>\n",
       "</table>\n",
       "<p>2 rows × 25 columns</p>\n",
       "</div>"
      ],
      "text/plain": [
       "                                                DRG Provider_Id  \\\n",
       "37716            202 - BRONCHITIS & ASTHMA W CC/MCC      210009   \n",
       "109462  460 - SPINAL FUSION EXCEPT CERVICAL W/O MCC      150166   \n",
       "\n",
       "                      Provider_Name   Provider_StreetAddress Provider_City  \\\n",
       "37716   JOHNS HOPKINS HOSPITAL, THE  600 NORTH  WOLFE STREET     BALTIMORE   \n",
       "109462            PINNACLE HOSPITAL      9301 CONNECTICUT DR   CROWN POINT   \n",
       "\n",
       "       Provider_State  Provider_Zipcode Hospital_referral_region_desp  \\\n",
       "37716              MD             21287                MD - Baltimore   \n",
       "109462             IN             46307                     IN - Gary   \n",
       "\n",
       "        Total_Discharges  Average_Total_Payments  ...  \\\n",
       "37716                 17                41458.47  ...   \n",
       "109462                14               131187.35  ...   \n",
       "\n",
       "        Avg_Payment_ByRegionDRG  Avg_Payment_ByRegionDRG_ratio_amount  \\\n",
       "37716               9473.928889                              4.376059   \n",
       "109462             43758.768333                              2.997967   \n",
       "\n",
       "        Avg_Discharges_ByStateDRG  Avg_Discharges_ByStateDRG_ratio_amount  \\\n",
       "37716                   25.727273                                0.660777   \n",
       "109462                  44.641026                                0.313613   \n",
       "\n",
       "        Avg_Discharges_ByCityDRG  Avg_Discharges_ByCityDRG_ratio_amount  \\\n",
       "37716                       23.8                               0.714286   \n",
       "109462                      13.5                               1.037037   \n",
       "\n",
       "        Avg_Discharges_ByRegionDRG  Avg_Discharges_ByRegionDRG_ratio_amount  \\\n",
       "37716                    26.166667                                 0.649682   \n",
       "109462                   19.833333                                 0.705882   \n",
       "\n",
       "        Avg_Medicare_ByStateDRG  Avg_Medicare_ByStateDRG_ratio_amount  \n",
       "37716               7196.176364                              5.174415  \n",
       "109462             25432.459231                              5.129923  \n",
       "\n",
       "[2 rows x 25 columns]"
      ]
     },
     "execution_count": 52,
     "metadata": {},
     "output_type": "execute_result"
    }
   ],
   "source": [
    "df1[df1['Avg_Medicare_ByStateDRG_ratio_amount']>5].head()"
   ]
  },
  {
   "cell_type": "markdown",
   "id": "225beb92",
   "metadata": {},
   "source": [
    "### Section 3.8: City & DRG Medicare Payments average <a class=\"anchor\" id=\"Section_38\"></a>\n",
    "- Calculating average ratio of Average medicare payment of every Provider city in DRG description. This will help understand the average medicare payment comparisons within the city. "
   ]
  },
  {
   "cell_type": "code",
   "execution_count": 53,
   "id": "1702e0f7",
   "metadata": {},
   "outputs": [
    {
     "data": {
      "text/html": [
       "<div>\n",
       "<style scoped>\n",
       "    .dataframe tbody tr th:only-of-type {\n",
       "        vertical-align: middle;\n",
       "    }\n",
       "\n",
       "    .dataframe tbody tr th {\n",
       "        vertical-align: top;\n",
       "    }\n",
       "\n",
       "    .dataframe thead th {\n",
       "        text-align: right;\n",
       "    }\n",
       "</style>\n",
       "<table border=\"1\" class=\"dataframe\">\n",
       "  <thead>\n",
       "    <tr style=\"text-align: right;\">\n",
       "      <th></th>\n",
       "      <th>Provider_City</th>\n",
       "      <th>DRG</th>\n",
       "      <th>Avg_Medicare_ByCityDRG</th>\n",
       "    </tr>\n",
       "  </thead>\n",
       "  <tbody>\n",
       "    <tr>\n",
       "      <th>0</th>\n",
       "      <td>ABBEVILLE</td>\n",
       "      <td>039 - EXTRACRANIAL PROCEDURES W/O CC/MCC</td>\n",
       "      <td>NaN</td>\n",
       "    </tr>\n",
       "    <tr>\n",
       "      <th>1</th>\n",
       "      <td>ABBEVILLE</td>\n",
       "      <td>057 - DEGENERATIVE NERVOUS SYSTEM DISORDERS W/...</td>\n",
       "      <td>NaN</td>\n",
       "    </tr>\n",
       "    <tr>\n",
       "      <th>2</th>\n",
       "      <td>ABBEVILLE</td>\n",
       "      <td>064 - INTRACRANIAL HEMORRHAGE OR CEREBRAL INFA...</td>\n",
       "      <td>NaN</td>\n",
       "    </tr>\n",
       "    <tr>\n",
       "      <th>3</th>\n",
       "      <td>ABBEVILLE</td>\n",
       "      <td>065 - INTRACRANIAL HEMORRHAGE OR CEREBRAL INFA...</td>\n",
       "      <td>NaN</td>\n",
       "    </tr>\n",
       "    <tr>\n",
       "      <th>4</th>\n",
       "      <td>ABBEVILLE</td>\n",
       "      <td>066 - INTRACRANIAL HEMORRHAGE OR CEREBRAL INFA...</td>\n",
       "      <td>NaN</td>\n",
       "    </tr>\n",
       "  </tbody>\n",
       "</table>\n",
       "</div>"
      ],
      "text/plain": [
       "  Provider_City                                                DRG  \\\n",
       "0     ABBEVILLE           039 - EXTRACRANIAL PROCEDURES W/O CC/MCC   \n",
       "1     ABBEVILLE  057 - DEGENERATIVE NERVOUS SYSTEM DISORDERS W/...   \n",
       "2     ABBEVILLE  064 - INTRACRANIAL HEMORRHAGE OR CEREBRAL INFA...   \n",
       "3     ABBEVILLE  065 - INTRACRANIAL HEMORRHAGE OR CEREBRAL INFA...   \n",
       "4     ABBEVILLE  066 - INTRACRANIAL HEMORRHAGE OR CEREBRAL INFA...   \n",
       "\n",
       "   Avg_Medicare_ByCityDRG  \n",
       "0                     NaN  \n",
       "1                     NaN  \n",
       "2                     NaN  \n",
       "3                     NaN  \n",
       "4                     NaN  "
      ]
     },
     "execution_count": 53,
     "metadata": {},
     "output_type": "execute_result"
    }
   ],
   "source": [
    "benchmark = df.groupby(['Provider_City','DRG'])['Average_Medicare_Payment'].mean().reset_index()\n",
    "benchmark.columns = ['Provider_City','DRG','Avg_Medicare_ByCityDRG']\n",
    "benchmark.head()"
   ]
  },
  {
   "cell_type": "code",
   "execution_count": 54,
   "id": "7cc1b3c3",
   "metadata": {},
   "outputs": [
    {
     "data": {
      "text/plain": [
       "count    163065.000000\n",
       "mean          1.000000\n",
       "std           0.119402\n",
       "min           0.261737\n",
       "25%           0.979755\n",
       "50%           1.000000\n",
       "75%           1.000000\n",
       "max           3.846861\n",
       "Name: Avg_Medicare_ByCityDRG_ratio_amount, dtype: float64"
      ]
     },
     "execution_count": 54,
     "metadata": {},
     "output_type": "execute_result"
    }
   ],
   "source": [
    "# add the new feature average total discharges to the dataset \n",
    "df1 = pd.merge(df1, benchmark, how='left', on=['Provider_City','DRG'])\n",
    "# Feature 8: ratio of amount total medicare payment and average medicare payment by drg in a city\n",
    "df1['Avg_Medicare_ByCityDRG_ratio_amount'] = np.where(df1['Avg_Medicare_ByCityDRG']==0,0, df1['Average_Medicare_Payment'] / df1['Avg_Medicare_ByCityDRG'])\n",
    "df1['Avg_Medicare_ByCityDRG_ratio_amount'].describe()"
   ]
  },
  {
   "cell_type": "code",
   "execution_count": 55,
   "id": "1158e4d3",
   "metadata": {},
   "outputs": [
    {
     "data": {
      "text/plain": [
       "14"
      ]
     },
     "execution_count": 55,
     "metadata": {},
     "output_type": "execute_result"
    }
   ],
   "source": [
    "len(df1[df1['Avg_Medicare_ByCityDRG_ratio_amount']>2]['Provider_Name'].unique())"
   ]
  },
  {
   "cell_type": "code",
   "execution_count": 56,
   "id": "46bdafa4",
   "metadata": {},
   "outputs": [
    {
     "data": {
      "text/html": [
       "<div>\n",
       "<style scoped>\n",
       "    .dataframe tbody tr th:only-of-type {\n",
       "        vertical-align: middle;\n",
       "    }\n",
       "\n",
       "    .dataframe tbody tr th {\n",
       "        vertical-align: top;\n",
       "    }\n",
       "\n",
       "    .dataframe thead th {\n",
       "        text-align: right;\n",
       "    }\n",
       "</style>\n",
       "<table border=\"1\" class=\"dataframe\">\n",
       "  <thead>\n",
       "    <tr style=\"text-align: right;\">\n",
       "      <th></th>\n",
       "      <th>DRG</th>\n",
       "      <th>Provider_Id</th>\n",
       "      <th>Provider_Name</th>\n",
       "      <th>Provider_StreetAddress</th>\n",
       "      <th>Provider_City</th>\n",
       "      <th>Provider_State</th>\n",
       "      <th>Provider_Zipcode</th>\n",
       "      <th>Hospital_referral_region_desp</th>\n",
       "      <th>Total_Discharges</th>\n",
       "      <th>Average_Total_Payments</th>\n",
       "      <th>...</th>\n",
       "      <th>Avg_Discharges_ByStateDRG</th>\n",
       "      <th>Avg_Discharges_ByStateDRG_ratio_amount</th>\n",
       "      <th>Avg_Discharges_ByCityDRG</th>\n",
       "      <th>Avg_Discharges_ByCityDRG_ratio_amount</th>\n",
       "      <th>Avg_Discharges_ByRegionDRG</th>\n",
       "      <th>Avg_Discharges_ByRegionDRG_ratio_amount</th>\n",
       "      <th>Avg_Medicare_ByStateDRG</th>\n",
       "      <th>Avg_Medicare_ByStateDRG_ratio_amount</th>\n",
       "      <th>Avg_Medicare_ByCityDRG</th>\n",
       "      <th>Avg_Medicare_ByCityDRG_ratio_amount</th>\n",
       "    </tr>\n",
       "  </thead>\n",
       "  <tbody>\n",
       "    <tr>\n",
       "      <th>37716</th>\n",
       "      <td>202 - BRONCHITIS &amp; ASTHMA W CC/MCC</td>\n",
       "      <td>210009</td>\n",
       "      <td>JOHNS HOPKINS HOSPITAL, THE</td>\n",
       "      <td>600 NORTH  WOLFE STREET</td>\n",
       "      <td>BALTIMORE</td>\n",
       "      <td>MD</td>\n",
       "      <td>21287</td>\n",
       "      <td>MD - Baltimore</td>\n",
       "      <td>17</td>\n",
       "      <td>41458.47</td>\n",
       "      <td>...</td>\n",
       "      <td>25.727273</td>\n",
       "      <td>0.660777</td>\n",
       "      <td>23.8</td>\n",
       "      <td>0.714286</td>\n",
       "      <td>26.166667</td>\n",
       "      <td>0.649682</td>\n",
       "      <td>7196.176364</td>\n",
       "      <td>5.174415</td>\n",
       "      <td>9679.581</td>\n",
       "      <td>3.846861</td>\n",
       "    </tr>\n",
       "  </tbody>\n",
       "</table>\n",
       "<p>1 rows × 27 columns</p>\n",
       "</div>"
      ],
      "text/plain": [
       "                                      DRG Provider_Id  \\\n",
       "37716  202 - BRONCHITIS & ASTHMA W CC/MCC      210009   \n",
       "\n",
       "                     Provider_Name   Provider_StreetAddress Provider_City  \\\n",
       "37716  JOHNS HOPKINS HOSPITAL, THE  600 NORTH  WOLFE STREET     BALTIMORE   \n",
       "\n",
       "      Provider_State  Provider_Zipcode Hospital_referral_region_desp  \\\n",
       "37716             MD             21287                MD - Baltimore   \n",
       "\n",
       "       Total_Discharges  Average_Total_Payments  ...  \\\n",
       "37716                17                41458.47  ...   \n",
       "\n",
       "       Avg_Discharges_ByStateDRG  Avg_Discharges_ByStateDRG_ratio_amount  \\\n",
       "37716                  25.727273                                0.660777   \n",
       "\n",
       "       Avg_Discharges_ByCityDRG  Avg_Discharges_ByCityDRG_ratio_amount  \\\n",
       "37716                      23.8                               0.714286   \n",
       "\n",
       "       Avg_Discharges_ByRegionDRG  Avg_Discharges_ByRegionDRG_ratio_amount  \\\n",
       "37716                   26.166667                                 0.649682   \n",
       "\n",
       "       Avg_Medicare_ByStateDRG  Avg_Medicare_ByStateDRG_ratio_amount  \\\n",
       "37716              7196.176364                              5.174415   \n",
       "\n",
       "       Avg_Medicare_ByCityDRG  Avg_Medicare_ByCityDRG_ratio_amount  \n",
       "37716                9679.581                             3.846861  \n",
       "\n",
       "[1 rows x 27 columns]"
      ]
     },
     "execution_count": 56,
     "metadata": {},
     "output_type": "execute_result"
    }
   ],
   "source": [
    "df1[df1['Avg_Medicare_ByCityDRG_ratio_amount']>3].head()"
   ]
  },
  {
   "cell_type": "markdown",
   "id": "08c16c29",
   "metadata": {},
   "source": [
    "### Section 3.9: Region & BRG Medicare Payments average <a class=\"anchor\" id=\"Section_39\"></a>\n",
    "- Calculating average ratio of Average medicare payment of every Hospital referral region desp in DRG description. This will help understand the average medicare payment comparisons within the region. "
   ]
  },
  {
   "cell_type": "code",
   "execution_count": 57,
   "id": "9af30c5a",
   "metadata": {},
   "outputs": [
    {
     "data": {
      "text/html": [
       "<div>\n",
       "<style scoped>\n",
       "    .dataframe tbody tr th:only-of-type {\n",
       "        vertical-align: middle;\n",
       "    }\n",
       "\n",
       "    .dataframe tbody tr th {\n",
       "        vertical-align: top;\n",
       "    }\n",
       "\n",
       "    .dataframe thead th {\n",
       "        text-align: right;\n",
       "    }\n",
       "</style>\n",
       "<table border=\"1\" class=\"dataframe\">\n",
       "  <thead>\n",
       "    <tr style=\"text-align: right;\">\n",
       "      <th></th>\n",
       "      <th>Hospital_referral_region_desp</th>\n",
       "      <th>DRG</th>\n",
       "      <th>Avg_Medicare_ByRegionDRG</th>\n",
       "    </tr>\n",
       "  </thead>\n",
       "  <tbody>\n",
       "    <tr>\n",
       "      <th>0</th>\n",
       "      <td>AK - Anchorage</td>\n",
       "      <td>039 - EXTRACRANIAL PROCEDURES W/O CC/MCC</td>\n",
       "      <td>6413.780000</td>\n",
       "    </tr>\n",
       "    <tr>\n",
       "      <th>1</th>\n",
       "      <td>AK - Anchorage</td>\n",
       "      <td>057 - DEGENERATIVE NERVOUS SYSTEM DISORDERS W/...</td>\n",
       "      <td>8081.540000</td>\n",
       "    </tr>\n",
       "    <tr>\n",
       "      <th>2</th>\n",
       "      <td>AK - Anchorage</td>\n",
       "      <td>064 - INTRACRANIAL HEMORRHAGE OR CEREBRAL INFA...</td>\n",
       "      <td>20555.255000</td>\n",
       "    </tr>\n",
       "    <tr>\n",
       "      <th>3</th>\n",
       "      <td>AK - Anchorage</td>\n",
       "      <td>065 - INTRACRANIAL HEMORRHAGE OR CEREBRAL INFA...</td>\n",
       "      <td>11140.963333</td>\n",
       "    </tr>\n",
       "    <tr>\n",
       "      <th>4</th>\n",
       "      <td>AK - Anchorage</td>\n",
       "      <td>066 - INTRACRANIAL HEMORRHAGE OR CEREBRAL INFA...</td>\n",
       "      <td>8258.427500</td>\n",
       "    </tr>\n",
       "  </tbody>\n",
       "</table>\n",
       "</div>"
      ],
      "text/plain": [
       "  Hospital_referral_region_desp  \\\n",
       "0                AK - Anchorage   \n",
       "1                AK - Anchorage   \n",
       "2                AK - Anchorage   \n",
       "3                AK - Anchorage   \n",
       "4                AK - Anchorage   \n",
       "\n",
       "                                                 DRG  Avg_Medicare_ByRegionDRG  \n",
       "0           039 - EXTRACRANIAL PROCEDURES W/O CC/MCC               6413.780000  \n",
       "1  057 - DEGENERATIVE NERVOUS SYSTEM DISORDERS W/...               8081.540000  \n",
       "2  064 - INTRACRANIAL HEMORRHAGE OR CEREBRAL INFA...              20555.255000  \n",
       "3  065 - INTRACRANIAL HEMORRHAGE OR CEREBRAL INFA...              11140.963333  \n",
       "4  066 - INTRACRANIAL HEMORRHAGE OR CEREBRAL INFA...               8258.427500  "
      ]
     },
     "execution_count": 57,
     "metadata": {},
     "output_type": "execute_result"
    }
   ],
   "source": [
    "benchmark = df.groupby(['Hospital_referral_region_desp','DRG'])['Average_Medicare_Payment'].mean().reset_index()\n",
    "benchmark.columns = ['Hospital_referral_region_desp','DRG','Avg_Medicare_ByRegionDRG']\n",
    "benchmark.head()"
   ]
  },
  {
   "cell_type": "code",
   "execution_count": 58,
   "id": "8b7dcc9c",
   "metadata": {},
   "outputs": [
    {
     "data": {
      "text/plain": [
       "count    163065.000000\n",
       "mean          1.000000\n",
       "std           0.175920\n",
       "min           0.339831\n",
       "25%           0.893506\n",
       "50%           0.976954\n",
       "75%           1.063344\n",
       "max           4.516504\n",
       "Name: Avg_Medicare_ByRegionDRG_ratio_amount, dtype: float64"
      ]
     },
     "execution_count": 58,
     "metadata": {},
     "output_type": "execute_result"
    }
   ],
   "source": [
    "# add the new feature average total discharges to the dataset \n",
    "df1 = pd.merge(df1, benchmark, how='left', on=['Hospital_referral_region_desp','DRG'])\n",
    "# Feature 9: ratio of amount total medicare payment and average medicare payment by drg in a region\n",
    "df1['Avg_Medicare_ByRegionDRG_ratio_amount'] = np.where(df1['Avg_Medicare_ByRegionDRG']==0,0, df1['Average_Medicare_Payment'] / df1['Avg_Medicare_ByRegionDRG'])\n",
    "df1['Avg_Medicare_ByRegionDRG_ratio_amount'].describe()"
   ]
  },
  {
   "cell_type": "code",
   "execution_count": 59,
   "id": "5c1c8bd6",
   "metadata": {},
   "outputs": [
    {
     "data": {
      "text/plain": [
       "52"
      ]
     },
     "execution_count": 59,
     "metadata": {},
     "output_type": "execute_result"
    }
   ],
   "source": [
    "len(df1[df1['Avg_Medicare_ByRegionDRG_ratio_amount']>2]['Provider_Name'].unique())"
   ]
  },
  {
   "cell_type": "code",
   "execution_count": 60,
   "id": "a0fa0622",
   "metadata": {},
   "outputs": [
    {
     "data": {
      "text/html": [
       "<div>\n",
       "<style scoped>\n",
       "    .dataframe tbody tr th:only-of-type {\n",
       "        vertical-align: middle;\n",
       "    }\n",
       "\n",
       "    .dataframe tbody tr th {\n",
       "        vertical-align: top;\n",
       "    }\n",
       "\n",
       "    .dataframe thead th {\n",
       "        text-align: right;\n",
       "    }\n",
       "</style>\n",
       "<table border=\"1\" class=\"dataframe\">\n",
       "  <thead>\n",
       "    <tr style=\"text-align: right;\">\n",
       "      <th></th>\n",
       "      <th>DRG</th>\n",
       "      <th>Provider_Id</th>\n",
       "      <th>Provider_Name</th>\n",
       "      <th>Provider_StreetAddress</th>\n",
       "      <th>Provider_City</th>\n",
       "      <th>Provider_State</th>\n",
       "      <th>Provider_Zipcode</th>\n",
       "      <th>Hospital_referral_region_desp</th>\n",
       "      <th>Total_Discharges</th>\n",
       "      <th>Average_Total_Payments</th>\n",
       "      <th>...</th>\n",
       "      <th>Avg_Discharges_ByCityDRG</th>\n",
       "      <th>Avg_Discharges_ByCityDRG_ratio_amount</th>\n",
       "      <th>Avg_Discharges_ByRegionDRG</th>\n",
       "      <th>Avg_Discharges_ByRegionDRG_ratio_amount</th>\n",
       "      <th>Avg_Medicare_ByStateDRG</th>\n",
       "      <th>Avg_Medicare_ByStateDRG_ratio_amount</th>\n",
       "      <th>Avg_Medicare_ByCityDRG</th>\n",
       "      <th>Avg_Medicare_ByCityDRG_ratio_amount</th>\n",
       "      <th>Avg_Medicare_ByRegionDRG</th>\n",
       "      <th>Avg_Medicare_ByRegionDRG_ratio_amount</th>\n",
       "    </tr>\n",
       "  </thead>\n",
       "  <tbody>\n",
       "    <tr>\n",
       "      <th>37716</th>\n",
       "      <td>202 - BRONCHITIS &amp; ASTHMA W CC/MCC</td>\n",
       "      <td>210009</td>\n",
       "      <td>JOHNS HOPKINS HOSPITAL, THE</td>\n",
       "      <td>600 NORTH  WOLFE STREET</td>\n",
       "      <td>BALTIMORE</td>\n",
       "      <td>MD</td>\n",
       "      <td>21287</td>\n",
       "      <td>MD - Baltimore</td>\n",
       "      <td>17</td>\n",
       "      <td>41458.47</td>\n",
       "      <td>...</td>\n",
       "      <td>23.8</td>\n",
       "      <td>0.714286</td>\n",
       "      <td>26.166667</td>\n",
       "      <td>0.649682</td>\n",
       "      <td>7196.176364</td>\n",
       "      <td>5.174415</td>\n",
       "      <td>9679.581</td>\n",
       "      <td>3.846861</td>\n",
       "      <td>8244.430556</td>\n",
       "      <td>4.516504</td>\n",
       "    </tr>\n",
       "  </tbody>\n",
       "</table>\n",
       "<p>1 rows × 29 columns</p>\n",
       "</div>"
      ],
      "text/plain": [
       "                                      DRG Provider_Id  \\\n",
       "37716  202 - BRONCHITIS & ASTHMA W CC/MCC      210009   \n",
       "\n",
       "                     Provider_Name   Provider_StreetAddress Provider_City  \\\n",
       "37716  JOHNS HOPKINS HOSPITAL, THE  600 NORTH  WOLFE STREET     BALTIMORE   \n",
       "\n",
       "      Provider_State  Provider_Zipcode Hospital_referral_region_desp  \\\n",
       "37716             MD             21287                MD - Baltimore   \n",
       "\n",
       "       Total_Discharges  Average_Total_Payments  ...  \\\n",
       "37716                17                41458.47  ...   \n",
       "\n",
       "       Avg_Discharges_ByCityDRG  Avg_Discharges_ByCityDRG_ratio_amount  \\\n",
       "37716                      23.8                               0.714286   \n",
       "\n",
       "       Avg_Discharges_ByRegionDRG  Avg_Discharges_ByRegionDRG_ratio_amount  \\\n",
       "37716                   26.166667                                 0.649682   \n",
       "\n",
       "       Avg_Medicare_ByStateDRG  Avg_Medicare_ByStateDRG_ratio_amount  \\\n",
       "37716              7196.176364                              5.174415   \n",
       "\n",
       "       Avg_Medicare_ByCityDRG  Avg_Medicare_ByCityDRG_ratio_amount  \\\n",
       "37716                9679.581                             3.846861   \n",
       "\n",
       "       Avg_Medicare_ByRegionDRG  Avg_Medicare_ByRegionDRG_ratio_amount  \n",
       "37716               8244.430556                               4.516504  \n",
       "\n",
       "[1 rows x 29 columns]"
      ]
     },
     "execution_count": 60,
     "metadata": {},
     "output_type": "execute_result"
    }
   ],
   "source": [
    "df1[df1['Avg_Medicare_ByRegionDRG_ratio_amount']>4].head()"
   ]
  },
  {
   "cell_type": "markdown",
   "id": "2fa5a148",
   "metadata": {},
   "source": [
    "### Section 3.10: Zipcode & BRG Medicare Payments average <a class=\"anchor\" id=\"Section_40\"></a>\n",
    "- Calculating average ratio of Average medicare payment of every Provider zipcode in DRG description. This will help understand the average medical payments comparisons within cities in a Zipcode."
   ]
  },
  {
   "cell_type": "code",
   "execution_count": 61,
   "id": "959b31b7",
   "metadata": {},
   "outputs": [
    {
     "data": {
      "text/html": [
       "<div>\n",
       "<style scoped>\n",
       "    .dataframe tbody tr th:only-of-type {\n",
       "        vertical-align: middle;\n",
       "    }\n",
       "\n",
       "    .dataframe tbody tr th {\n",
       "        vertical-align: top;\n",
       "    }\n",
       "\n",
       "    .dataframe thead th {\n",
       "        text-align: right;\n",
       "    }\n",
       "</style>\n",
       "<table border=\"1\" class=\"dataframe\">\n",
       "  <thead>\n",
       "    <tr style=\"text-align: right;\">\n",
       "      <th></th>\n",
       "      <th>Provider_Zipcode</th>\n",
       "      <th>DRG</th>\n",
       "      <th>Avg_Medicare_ByZipDRG</th>\n",
       "    </tr>\n",
       "  </thead>\n",
       "  <tbody>\n",
       "    <tr>\n",
       "      <th>0</th>\n",
       "      <td>1040</td>\n",
       "      <td>039 - EXTRACRANIAL PROCEDURES W/O CC/MCC</td>\n",
       "      <td>NaN</td>\n",
       "    </tr>\n",
       "    <tr>\n",
       "      <th>1</th>\n",
       "      <td>1040</td>\n",
       "      <td>057 - DEGENERATIVE NERVOUS SYSTEM DISORDERS W/...</td>\n",
       "      <td>6359.30</td>\n",
       "    </tr>\n",
       "    <tr>\n",
       "      <th>2</th>\n",
       "      <td>1040</td>\n",
       "      <td>064 - INTRACRANIAL HEMORRHAGE OR CEREBRAL INFA...</td>\n",
       "      <td>10862.94</td>\n",
       "    </tr>\n",
       "    <tr>\n",
       "      <th>3</th>\n",
       "      <td>1040</td>\n",
       "      <td>065 - INTRACRANIAL HEMORRHAGE OR CEREBRAL INFA...</td>\n",
       "      <td>6701.50</td>\n",
       "    </tr>\n",
       "    <tr>\n",
       "      <th>4</th>\n",
       "      <td>1040</td>\n",
       "      <td>066 - INTRACRANIAL HEMORRHAGE OR CEREBRAL INFA...</td>\n",
       "      <td>NaN</td>\n",
       "    </tr>\n",
       "  </tbody>\n",
       "</table>\n",
       "</div>"
      ],
      "text/plain": [
       "   Provider_Zipcode                                                DRG  \\\n",
       "0              1040           039 - EXTRACRANIAL PROCEDURES W/O CC/MCC   \n",
       "1              1040  057 - DEGENERATIVE NERVOUS SYSTEM DISORDERS W/...   \n",
       "2              1040  064 - INTRACRANIAL HEMORRHAGE OR CEREBRAL INFA...   \n",
       "3              1040  065 - INTRACRANIAL HEMORRHAGE OR CEREBRAL INFA...   \n",
       "4              1040  066 - INTRACRANIAL HEMORRHAGE OR CEREBRAL INFA...   \n",
       "\n",
       "   Avg_Medicare_ByZipDRG  \n",
       "0                    NaN  \n",
       "1                6359.30  \n",
       "2               10862.94  \n",
       "3                6701.50  \n",
       "4                    NaN  "
      ]
     },
     "execution_count": 61,
     "metadata": {},
     "output_type": "execute_result"
    }
   ],
   "source": [
    "benchmark = df.groupby(['Provider_Zipcode','DRG'])['Average_Medicare_Payment'].mean().reset_index()\n",
    "benchmark.columns = ['Provider_Zipcode','DRG','Avg_Medicare_ByZipDRG']\n",
    "benchmark.head()"
   ]
  },
  {
   "cell_type": "code",
   "execution_count": 62,
   "id": "76ca8f72",
   "metadata": {},
   "outputs": [
    {
     "data": {
      "text/plain": [
       "count    163065.000000\n",
       "mean          1.000000\n",
       "std           0.038675\n",
       "min           0.261737\n",
       "25%           1.000000\n",
       "50%           1.000000\n",
       "75%           1.000000\n",
       "max           1.782259\n",
       "Name: Avg_Medicare_ByZipDRG_ratio_amount, dtype: float64"
      ]
     },
     "execution_count": 62,
     "metadata": {},
     "output_type": "execute_result"
    }
   ],
   "source": [
    "# add the new feature average total discharges to the dataset \n",
    "df1 = pd.merge(df1, benchmark, how='left', on=['Provider_Zipcode','DRG'])\n",
    "# Feature 10: ratio of amount total medicare payment and average medicare payment by drg in a region and state\n",
    "df1['Avg_Medicare_ByZipDRG_ratio_amount'] = np.where(df1['Avg_Medicare_ByZipDRG']==0,0, df1['Average_Medicare_Payment'] / df1['Avg_Medicare_ByZipDRG'])\n",
    "df1['Avg_Medicare_ByZipDRG_ratio_amount'].describe()"
   ]
  },
  {
   "cell_type": "code",
   "execution_count": 63,
   "id": "16326da2",
   "metadata": {},
   "outputs": [
    {
     "data": {
      "text/plain": [
       "0"
      ]
     },
     "execution_count": 63,
     "metadata": {},
     "output_type": "execute_result"
    }
   ],
   "source": [
    "len(df1[df1['Avg_Medicare_ByZipDRG_ratio_amount']>2]['Provider_Name'].unique())"
   ]
  },
  {
   "cell_type": "code",
   "execution_count": 64,
   "id": "ec77e44b",
   "metadata": {},
   "outputs": [
    {
     "data": {
      "text/html": [
       "<div>\n",
       "<style scoped>\n",
       "    .dataframe tbody tr th:only-of-type {\n",
       "        vertical-align: middle;\n",
       "    }\n",
       "\n",
       "    .dataframe tbody tr th {\n",
       "        vertical-align: top;\n",
       "    }\n",
       "\n",
       "    .dataframe thead th {\n",
       "        text-align: right;\n",
       "    }\n",
       "</style>\n",
       "<table border=\"1\" class=\"dataframe\">\n",
       "  <thead>\n",
       "    <tr style=\"text-align: right;\">\n",
       "      <th></th>\n",
       "      <th>DRG</th>\n",
       "      <th>Provider_Id</th>\n",
       "      <th>Provider_Name</th>\n",
       "      <th>Provider_StreetAddress</th>\n",
       "      <th>Provider_City</th>\n",
       "      <th>Provider_State</th>\n",
       "      <th>Provider_Zipcode</th>\n",
       "      <th>Hospital_referral_region_desp</th>\n",
       "      <th>Total_Discharges</th>\n",
       "      <th>Average_Total_Payments</th>\n",
       "      <th>...</th>\n",
       "      <th>Avg_Discharges_ByRegionDRG</th>\n",
       "      <th>Avg_Discharges_ByRegionDRG_ratio_amount</th>\n",
       "      <th>Avg_Medicare_ByStateDRG</th>\n",
       "      <th>Avg_Medicare_ByStateDRG_ratio_amount</th>\n",
       "      <th>Avg_Medicare_ByCityDRG</th>\n",
       "      <th>Avg_Medicare_ByCityDRG_ratio_amount</th>\n",
       "      <th>Avg_Medicare_ByRegionDRG</th>\n",
       "      <th>Avg_Medicare_ByRegionDRG_ratio_amount</th>\n",
       "      <th>Avg_Medicare_ByZipDRG</th>\n",
       "      <th>Avg_Medicare_ByZipDRG_ratio_amount</th>\n",
       "    </tr>\n",
       "  </thead>\n",
       "  <tbody>\n",
       "    <tr>\n",
       "      <th>92330</th>\n",
       "      <td>377 - G.I. HEMORRHAGE W MCC</td>\n",
       "      <td>330350</td>\n",
       "      <td>UNIVERSITY HOSPITAL OF BROOKLYN ( DOWNSTATE )</td>\n",
       "      <td>445 LENOX ROAD</td>\n",
       "      <td>BROOKLYN</td>\n",
       "      <td>NY</td>\n",
       "      <td>11203</td>\n",
       "      <td>NY - Manhattan</td>\n",
       "      <td>25</td>\n",
       "      <td>61176.80</td>\n",
       "      <td>...</td>\n",
       "      <td>36.708333</td>\n",
       "      <td>0.681044</td>\n",
       "      <td>15243.649700</td>\n",
       "      <td>3.852510</td>\n",
       "      <td>23995.333846</td>\n",
       "      <td>2.447406</td>\n",
       "      <td>21198.882500</td>\n",
       "      <td>2.770255</td>\n",
       "      <td>32950.503333</td>\n",
       "      <td>1.782259</td>\n",
       "    </tr>\n",
       "    <tr>\n",
       "      <th>109462</th>\n",
       "      <td>460 - SPINAL FUSION EXCEPT CERVICAL W/O MCC</td>\n",
       "      <td>150166</td>\n",
       "      <td>PINNACLE HOSPITAL</td>\n",
       "      <td>9301 CONNECTICUT DR</td>\n",
       "      <td>CROWN POINT</td>\n",
       "      <td>IN</td>\n",
       "      <td>46307</td>\n",
       "      <td>IN - Gary</td>\n",
       "      <td>14</td>\n",
       "      <td>131187.35</td>\n",
       "      <td>...</td>\n",
       "      <td>19.833333</td>\n",
       "      <td>0.705882</td>\n",
       "      <td>25432.459231</td>\n",
       "      <td>5.129923</td>\n",
       "      <td>75055.705000</td>\n",
       "      <td>1.738263</td>\n",
       "      <td>41102.023333</td>\n",
       "      <td>3.174213</td>\n",
       "      <td>75055.705000</td>\n",
       "      <td>1.738263</td>\n",
       "    </tr>\n",
       "  </tbody>\n",
       "</table>\n",
       "<p>2 rows × 31 columns</p>\n",
       "</div>"
      ],
      "text/plain": [
       "                                                DRG Provider_Id  \\\n",
       "92330                   377 - G.I. HEMORRHAGE W MCC      330350   \n",
       "109462  460 - SPINAL FUSION EXCEPT CERVICAL W/O MCC      150166   \n",
       "\n",
       "                                        Provider_Name Provider_StreetAddress  \\\n",
       "92330   UNIVERSITY HOSPITAL OF BROOKLYN ( DOWNSTATE )         445 LENOX ROAD   \n",
       "109462                              PINNACLE HOSPITAL    9301 CONNECTICUT DR   \n",
       "\n",
       "       Provider_City Provider_State  Provider_Zipcode  \\\n",
       "92330       BROOKLYN             NY             11203   \n",
       "109462   CROWN POINT             IN             46307   \n",
       "\n",
       "       Hospital_referral_region_desp  Total_Discharges  \\\n",
       "92330                 NY - Manhattan                25   \n",
       "109462                     IN - Gary                14   \n",
       "\n",
       "        Average_Total_Payments  ...  Avg_Discharges_ByRegionDRG  \\\n",
       "92330                 61176.80  ...                   36.708333   \n",
       "109462               131187.35  ...                   19.833333   \n",
       "\n",
       "        Avg_Discharges_ByRegionDRG_ratio_amount  Avg_Medicare_ByStateDRG  \\\n",
       "92330                                  0.681044             15243.649700   \n",
       "109462                                 0.705882             25432.459231   \n",
       "\n",
       "        Avg_Medicare_ByStateDRG_ratio_amount  Avg_Medicare_ByCityDRG  \\\n",
       "92330                               3.852510            23995.333846   \n",
       "109462                              5.129923            75055.705000   \n",
       "\n",
       "        Avg_Medicare_ByCityDRG_ratio_amount  Avg_Medicare_ByRegionDRG  \\\n",
       "92330                              2.447406              21198.882500   \n",
       "109462                             1.738263              41102.023333   \n",
       "\n",
       "        Avg_Medicare_ByRegionDRG_ratio_amount  Avg_Medicare_ByZipDRG  \\\n",
       "92330                                2.770255           32950.503333   \n",
       "109462                               3.174213           75055.705000   \n",
       "\n",
       "        Avg_Medicare_ByZipDRG_ratio_amount  \n",
       "92330                             1.782259  \n",
       "109462                            1.738263  \n",
       "\n",
       "[2 rows x 31 columns]"
      ]
     },
     "execution_count": 64,
     "metadata": {},
     "output_type": "execute_result"
    }
   ],
   "source": [
    "df1[df1['Avg_Medicare_ByZipDRG_ratio_amount']>1.7].head()"
   ]
  },
  {
   "cell_type": "code",
   "execution_count": 65,
   "id": "35ea11d4",
   "metadata": {},
   "outputs": [
    {
     "data": {
      "text/plain": [
       "Index(['DRG', 'Provider_Id', 'Provider_Name', 'Provider_StreetAddress',\n",
       "       'Provider_City', 'Provider_State', 'Provider_Zipcode',\n",
       "       'Hospital_referral_region_desp', 'Total_Discharges',\n",
       "       'Average_Total_Payments', 'Average_Medicare_Payment',\n",
       "       'Avg_Payment_ByStateDRG', 'Avg_Payment_ByStateDRG_ratio_amount',\n",
       "       'Average_Payment_ByCityDRG', 'Average_Payment_ByCityDRG_ratio_amount',\n",
       "       'Avg_Payment_ByRegionDRG', 'Avg_Payment_ByRegionDRG_ratio_amount',\n",
       "       'Avg_Discharges_ByStateDRG', 'Avg_Discharges_ByStateDRG_ratio_amount',\n",
       "       'Avg_Discharges_ByCityDRG', 'Avg_Discharges_ByCityDRG_ratio_amount',\n",
       "       'Avg_Discharges_ByRegionDRG', 'Avg_Discharges_ByRegionDRG_ratio_amount',\n",
       "       'Avg_Medicare_ByStateDRG', 'Avg_Medicare_ByStateDRG_ratio_amount',\n",
       "       'Avg_Medicare_ByCityDRG', 'Avg_Medicare_ByCityDRG_ratio_amount',\n",
       "       'Avg_Medicare_ByRegionDRG', 'Avg_Medicare_ByRegionDRG_ratio_amount',\n",
       "       'Avg_Medicare_ByZipDRG', 'Avg_Medicare_ByZipDRG_ratio_amount'],\n",
       "      dtype='object')"
      ]
     },
     "execution_count": 65,
     "metadata": {},
     "output_type": "execute_result"
    }
   ],
   "source": [
    "df1.columns"
   ]
  },
  {
   "cell_type": "code",
   "execution_count": 66,
   "id": "c47e315d",
   "metadata": {},
   "outputs": [],
   "source": [
    "features = ['Avg_Payment_ByStateDRG_ratio_amount','Average_Payment_ByCityDRG_ratio_amount',\n",
    "            'Avg_Payment_ByRegionDRG_ratio_amount','Avg_Discharges_ByStateDRG_ratio_amount',\n",
    "            'Avg_Discharges_ByCityDRG_ratio_amount','Avg_Discharges_ByRegionDRG_ratio_amount',\n",
    "           'Avg_Medicare_ByStateDRG_ratio_amount','Avg_Medicare_ByCityDRG_ratio_amount',\n",
    "           'Avg_Medicare_ByRegionDRG_ratio_amount','Avg_Medicare_ByZipDRG_ratio_amount']"
   ]
  },
  {
   "cell_type": "markdown",
   "id": "eb787fa6",
   "metadata": {},
   "source": [
    "## Conclusion"
   ]
  },
  {
   "cell_type": "markdown",
   "id": "895d04d5",
   "metadata": {},
   "source": [
    "In the data preparation section, I imported and overviewed the shape and column names of the dataset, then I transformed data types into correct formats. After transforming the data types, In EDA section, I performed exploratory data analysis. To overview the distribution of outliers, I plotted the variable distributions. Another interesting finding is even though the number of hospital divisions in State Illinois and State Maryland are not ranking top in the State group bys, their hospital divisions rank the most when looking at the city group bys (Chicago and Baltimore).\n",
    "\n",
    "Now we have some understanding of the dataset and numbers. It is time to create features to measure the outliers in the feature engineering section. In this assignment, I created 10 features in ratios to detect anomalies. According to the distributions of the 10 features, we can double confirm the dataset has anomalies.\n",
    "\n",
    "The transaction aggregation strategy is used by incorporating a combination criteria when grouping transactions. Followed by calculating the average amount total discharges, average total payments and average medical payments to reveal some insights from the dataset.The thought process of these features is to determine the average ratios of one or more variables by dividing their average values by the actual amount. Hospital charges with low or average ratios are considered normal, while hospital charges with high ratios, meaning actual amounts significantly greater than average values, are flagged as potential fraud.\n",
    "\n",
    "#### Average Total Payments\n",
    "\n",
    "- Feature 1: State & DRG Total Payment average \n",
    "- Feature 2: City & DRG Total Payment average \n",
    "- Feature 3: Region & DRG Total Payment average\n",
    "\n",
    "According to the ratio, we are able to recognize how much higher and lower the spending amount of the individual hospital is compared to the Average Total Payment within the given state, city and region in each DRG category.\n",
    "\n",
    "\n",
    "#### Total Discharges\n",
    "\n",
    "- Feature 4:State & DRG Total Discharges average \n",
    "- Feature 5: City & DRG Total Discharges average \n",
    "- Feature 6: Region & DRG Total Discharges average \n",
    "\n",
    "According to the ratio, we are able to recognize how much higher and lower the total discharges of the individual hospital is compared to the Total Discharges within the given state, city and region in each DRG category.\n",
    "\n",
    "#### Medical Payment Average\n",
    "\n",
    "- Feature 7: State & DRG Total Discharges average \n",
    "- Feature 8: City & DRG Total Discharges average \n",
    "- Feature 9: Region & DRG Total Discharges average \n",
    "- Feature 10: Zipcode & DRG Total Discharges average \n",
    "\n",
    "According to the ratio, we are able to recognize how much higher and lower the spending amount of the individual hospital is compared to the Medical Payment Average within the given state, city and region in each DRG category. "
   ]
  },
  {
   "cell_type": "markdown",
   "id": "3ee2d131",
   "metadata": {},
   "source": [
    "## Section 4: Unsupervised learning <a class=\"anchor\" id=\"Section_4\"></a>\n",
    "\n",
    "### Section 4.1: ECOD <a class=\"anchor\" id=\"Section_41\"></a>\n",
    "\n",
    "The Empirical Cumulative Distribution-based Outlier Detection (ECOD) has a very intuitive approach: Outliers are the rare events in the tails of a distribution, they can be identified by measuring the location in a distribution. The ECOD estimates a variable's non-parametric distribution. It multiplies all tail probabilities to produce an observation's anomaly score. The combined distributions of various dimensions are challenging to determine mathematically. To estimate the empirical cumulative distribution of each variable, ECOD takes the independence of variables as a given. "
   ]
  },
  {
   "cell_type": "code",
   "execution_count": 67,
   "id": "7e6ab082",
   "metadata": {},
   "outputs": [],
   "source": [
    "#!pip install pyod"
   ]
  },
  {
   "cell_type": "code",
   "execution_count": 68,
   "id": "8558e688",
   "metadata": {},
   "outputs": [],
   "source": [
    "# Selecting necessary features\n",
    "features2 = df1[features]"
   ]
  },
  {
   "cell_type": "markdown",
   "id": "bf2a8664",
   "metadata": {},
   "source": [
    "### Build model"
   ]
  },
  {
   "cell_type": "code",
   "execution_count": 69,
   "id": "8e67015d",
   "metadata": {},
   "outputs": [
    {
     "data": {
      "text/plain": [
       "ECOD(contamination=0.05, n_jobs=1)"
      ]
     },
     "execution_count": 69,
     "metadata": {},
     "output_type": "execute_result"
    }
   ],
   "source": [
    "#Build model:\n",
    "from pyod.models.ecod import ECOD\n",
    "ecod = ECOD(contamination=0.05) #we still set contamination = 0.05\n",
    "ecod.fit(features2)"
   ]
  },
  {
   "cell_type": "code",
   "execution_count": 70,
   "id": "71d2bbe7",
   "metadata": {},
   "outputs": [],
   "source": [
    "# Use decision_functions() to generate the outlier scores\n",
    "y_ecod_scores = ecod.decision_function(features2)\n",
    "y_pred = ecod.predict(features2)"
   ]
  },
  {
   "cell_type": "code",
   "execution_count": 71,
   "id": "0c41df6f",
   "metadata": {},
   "outputs": [
    {
     "name": "stdout",
     "output_type": "stream",
     "text": [
      "The data: {0: 154911, 1: 8154}\n",
      "The threshold for the defined comtanimation rate: 27.034891332376624\n"
     ]
    }
   ],
   "source": [
    "def count_stat(vector):\n",
    "    # Because it is '0' and '1', we can run a count statistic. \n",
    "    unique, counts = np.unique(vector, return_counts=True)\n",
    "    return dict(zip(unique, counts))\n",
    "\n",
    "print(\"The data:\", count_stat(y_pred))\n",
    "# Threshold for the defined comtanimation rate\n",
    "print(\"The threshold for the defined comtanimation rate:\" , ecod.threshold_)"
   ]
  },
  {
   "cell_type": "code",
   "execution_count": 72,
   "id": "7f83e5cb",
   "metadata": {},
   "outputs": [
    {
     "data": {
      "text/plain": [
       "(array([  1554,   2992,  37716,  37727,  50393,  61490,  62531,  71066,\n",
       "         71380,  80031,  85566,  92330, 109456, 109462, 111541, 112156,\n",
       "        119632, 130909, 145004, 145683, 145894, 147516, 148250, 157601,\n",
       "        157780, 157799, 158488]),)"
      ]
     },
     "execution_count": 72,
     "metadata": {},
     "output_type": "execute_result"
    }
   ],
   "source": [
    "# Search for the high outlier score in the dataset.\n",
    "np.where(y_ecod_scores>60)"
   ]
  },
  {
   "cell_type": "code",
   "execution_count": 73,
   "id": "b7a19956",
   "metadata": {},
   "outputs": [
    {
     "data": {
      "image/png": "[encoded data removed]",
      "text/plain": [
       "<Figure size 432x288 with 1 Axes>"
      ]
     },
     "metadata": {
      "needs_background": "light"
     },
     "output_type": "display_data"
    },
    {
     "data": {
      "image/png": "[encoded data removed]",
      "text/plain": [
       "<Figure size 432x288 with 1 Axes>"
      ]
     },
     "metadata": {
      "needs_background": "light"
     },
     "output_type": "display_data"
    }
   ],
   "source": [
    "# Now we use function explain_outlier(i) to explain the univariate outliers.\n",
    "ecod.explain_outlier(1554)\n",
    "ecod.explain_outlier(2992)"
   ]
  },
  {
   "cell_type": "markdown",
   "id": "a921e285",
   "metadata": {},
   "source": [
    "The x-axis is the dimension and the y-axis is the univariate outlier score. The blue and orange dashed lines are the 95 and 99 percentiles for outlier scores. Both graphs show the univariate outlier scores are all about the 99% cutoff band except Variable 4, 5 and 6. This explainability for the outlier scores is a plausible property of ECOD."
   ]
  },
  {
   "cell_type": "markdown",
   "id": "5e40d1bc",
   "metadata": {},
   "source": [
    "### Determine the threshold"
   ]
  },
  {
   "cell_type": "code",
   "execution_count": 74,
   "id": "8bccc0fc",
   "metadata": {},
   "outputs": [
    {
     "data": {
      "image/png": "[encoded data removed]",
      "text/plain": [
       "<Figure size 432x288 with 1 Axes>"
      ]
     },
     "metadata": {
      "needs_background": "light"
     },
     "output_type": "display_data"
    }
   ],
   "source": [
    "import matplotlib.pyplot as plt\n",
    "plt.hist(y_ecod_scores, bins='auto') # arguments are passed to np.histogram\n",
    "plt.title(\"Outlier score\")\n",
    "plt.show()"
   ]
  },
  {
   "cell_type": "markdown",
   "id": "bcbadb81",
   "metadata": {},
   "source": [
    "### Present the descriptive statistics of the normal and the abnormal groups"
   ]
  },
  {
   "cell_type": "code",
   "execution_count": 75,
   "id": "412b3367",
   "metadata": {},
   "outputs": [
    {
     "data": {
      "text/html": [
       "<div>\n",
       "<style scoped>\n",
       "    .dataframe tbody tr th:only-of-type {\n",
       "        vertical-align: middle;\n",
       "    }\n",
       "\n",
       "    .dataframe tbody tr th {\n",
       "        vertical-align: top;\n",
       "    }\n",
       "\n",
       "    .dataframe thead th {\n",
       "        text-align: right;\n",
       "    }\n",
       "</style>\n",
       "<table border=\"1\" class=\"dataframe\">\n",
       "  <thead>\n",
       "    <tr style=\"text-align: right;\">\n",
       "      <th></th>\n",
       "      <th>Group</th>\n",
       "      <th>Count</th>\n",
       "      <th>Count %</th>\n",
       "      <th>Avg_Payment_ByStateDRG_ratio_amount</th>\n",
       "      <th>Average_Payment_ByCityDRG_ratio_amount</th>\n",
       "      <th>Avg_Payment_ByRegionDRG_ratio_amount</th>\n",
       "      <th>Avg_Discharges_ByStateDRG_ratio_amount</th>\n",
       "      <th>Avg_Discharges_ByCityDRG_ratio_amount</th>\n",
       "      <th>Avg_Discharges_ByRegionDRG_ratio_amount</th>\n",
       "      <th>Avg_Medicare_ByStateDRG_ratio_amount</th>\n",
       "      <th>Avg_Medicare_ByCityDRG_ratio_amount</th>\n",
       "      <th>Avg_Medicare_ByRegionDRG_ratio_amount</th>\n",
       "      <th>Avg_Medicare_ByZipDRG_ratio_amount</th>\n",
       "      <th>Anomaly_Score</th>\n",
       "    </tr>\n",
       "  </thead>\n",
       "  <tbody>\n",
       "    <tr>\n",
       "      <th>0</th>\n",
       "      <td>Normal</td>\n",
       "      <td>154911</td>\n",
       "      <td>94.99954</td>\n",
       "      <td>0.98</td>\n",
       "      <td>1.0</td>\n",
       "      <td>0.99</td>\n",
       "      <td>0.98</td>\n",
       "      <td>1.00</td>\n",
       "      <td>0.98</td>\n",
       "      <td>0.98</td>\n",
       "      <td>0.99</td>\n",
       "      <td>0.99</td>\n",
       "      <td>1.00</td>\n",
       "      <td>13.71</td>\n",
       "    </tr>\n",
       "    <tr>\n",
       "      <th>1</th>\n",
       "      <td>Outlier</td>\n",
       "      <td>8154</td>\n",
       "      <td>5.00046</td>\n",
       "      <td>1.32</td>\n",
       "      <td>1.2</td>\n",
       "      <td>1.25</td>\n",
       "      <td>1.35</td>\n",
       "      <td>1.08</td>\n",
       "      <td>1.30</td>\n",
       "      <td>1.34</td>\n",
       "      <td>1.16</td>\n",
       "      <td>1.26</td>\n",
       "      <td>1.02</td>\n",
       "      <td>32.39</td>\n",
       "    </tr>\n",
       "  </tbody>\n",
       "</table>\n",
       "</div>"
      ],
      "text/plain": [
       "     Group   Count   Count %  Avg_Payment_ByStateDRG_ratio_amount  \\\n",
       "0   Normal  154911  94.99954                                 0.98   \n",
       "1  Outlier    8154   5.00046                                 1.32   \n",
       "\n",
       "   Average_Payment_ByCityDRG_ratio_amount  \\\n",
       "0                                     1.0   \n",
       "1                                     1.2   \n",
       "\n",
       "   Avg_Payment_ByRegionDRG_ratio_amount  \\\n",
       "0                                  0.99   \n",
       "1                                  1.25   \n",
       "\n",
       "   Avg_Discharges_ByStateDRG_ratio_amount  \\\n",
       "0                                    0.98   \n",
       "1                                    1.35   \n",
       "\n",
       "   Avg_Discharges_ByCityDRG_ratio_amount  \\\n",
       "0                                   1.00   \n",
       "1                                   1.08   \n",
       "\n",
       "   Avg_Discharges_ByRegionDRG_ratio_amount  \\\n",
       "0                                     0.98   \n",
       "1                                     1.30   \n",
       "\n",
       "   Avg_Medicare_ByStateDRG_ratio_amount  Avg_Medicare_ByCityDRG_ratio_amount  \\\n",
       "0                                  0.98                                 0.99   \n",
       "1                                  1.34                                 1.16   \n",
       "\n",
       "   Avg_Medicare_ByRegionDRG_ratio_amount  Avg_Medicare_ByZipDRG_ratio_amount  \\\n",
       "0                                   0.99                                1.00   \n",
       "1                                   1.26                                1.02   \n",
       "\n",
       "   Anomaly_Score  \n",
       "0          13.71  \n",
       "1          32.39  "
      ]
     },
     "execution_count": 75,
     "metadata": {},
     "output_type": "execute_result"
    }
   ],
   "source": [
    "threshold = ecod.threshold_ # Use the threshold calculated by the ecod function\n",
    "\n",
    "def descriptive_stat_threshold(df,pred_score, threshold):\n",
    "    # Let's see how many '0's and '1's.\n",
    "    df = pd.DataFrame(df)\n",
    "    df['Anomaly_Score'] = pred_score\n",
    "    df['Group'] = np.where(df['Anomaly_Score']< threshold, 'Normal', 'Outlier')\n",
    "\n",
    "    # Now let's show the summary statistics:\n",
    "    cnt = df.groupby('Group')['Anomaly_Score'].count().reset_index().rename(columns={'Anomaly_Score':'Count'})\n",
    "    cnt['Count %'] = (cnt['Count'] / cnt['Count'].sum()) * 100 # The count and count %\n",
    "    stat = df.groupby('Group').mean().round(2).reset_index() # The avg.\n",
    "    stat = cnt.merge(stat, left_on='Group',right_on='Group') # Put the count and the avg. together\n",
    "    return (stat)\n",
    "\n",
    "descriptive_stat_threshold(features2,y_ecod_scores, threshold)"
   ]
  },
  {
   "cell_type": "markdown",
   "id": "b8146548",
   "metadata": {},
   "source": [
    "The table presents the characteristics of the normal and abnormal groups. It shows the count and count percentage of the normal and outlier groups. The “Anomalous_Score” is the average anomaly score. The table tells us several important results:\n",
    "- The size of the outlier group: The outlier group is about 5%. Remember the size of the outlier group is determined by the threshold. The size will shrink if you choose a higher value for the threshold.\n",
    "- The average anomaly score: The average outlier score of the outlier group is far higher than that of the normal group (32.39 > 13.71). This evidence just verifies the data in the outlier group are outliers. At this point, you do not need to interpret too much on the scores.\n",
    "- The feature statistics in each group: The means of the features in the outlier group are larger than those of the normal group. A high average ratio of payment/discharges features, that is more than the average values, could suggest fraudulent behaviour."
   ]
  },
  {
   "cell_type": "markdown",
   "id": "6ae385c0",
   "metadata": {},
   "source": [
    "### Evaluate the model performance "
   ]
  },
  {
   "cell_type": "code",
   "execution_count": 76,
   "id": "25084527",
   "metadata": {},
   "outputs": [
    {
     "data": {
      "text/html": [
       "<div>\n",
       "<style scoped>\n",
       "    .dataframe tbody tr th:only-of-type {\n",
       "        vertical-align: middle;\n",
       "    }\n",
       "\n",
       "    .dataframe tbody tr th {\n",
       "        vertical-align: top;\n",
       "    }\n",
       "\n",
       "    .dataframe thead th {\n",
       "        text-align: right;\n",
       "    }\n",
       "</style>\n",
       "<table border=\"1\" class=\"dataframe\">\n",
       "  <thead>\n",
       "    <tr style=\"text-align: right;\">\n",
       "      <th>Pred</th>\n",
       "      <th>0</th>\n",
       "      <th>1</th>\n",
       "    </tr>\n",
       "    <tr>\n",
       "      <th>Actual</th>\n",
       "      <th></th>\n",
       "      <th></th>\n",
       "    </tr>\n",
       "  </thead>\n",
       "  <tbody>\n",
       "    <tr>\n",
       "      <th>0</th>\n",
       "      <td>154911</td>\n",
       "      <td>0</td>\n",
       "    </tr>\n",
       "    <tr>\n",
       "      <th>1</th>\n",
       "      <td>0</td>\n",
       "      <td>8154</td>\n",
       "    </tr>\n",
       "  </tbody>\n",
       "</table>\n",
       "</div>"
      ],
      "text/plain": [
       "Pred         0     1\n",
       "Actual              \n",
       "0       154911     0\n",
       "1            0  8154"
      ]
     },
     "execution_count": 76,
     "metadata": {},
     "output_type": "execute_result"
    }
   ],
   "source": [
    "# Confusion Matrix\n",
    "def confusion_matrix(actual,pred):\n",
    "    Actual_pred = pd.DataFrame({'Actual': actual, 'Pred': pred})\n",
    "    Actual_pred['Pred'] = np.where(Actual_pred['Pred']<=threshold,0,1)\n",
    "    cm = pd.crosstab(Actual_pred['Actual'],Actual_pred['Pred'])\n",
    "    return (cm)\n",
    "confusion_matrix(y_pred, y_ecod_scores)"
   ]
  },
  {
   "cell_type": "markdown",
   "id": "cfdd07f2",
   "metadata": {},
   "source": [
    "The model delivers a decent job and identifies all 8154 outliers."
   ]
  },
  {
   "cell_type": "markdown",
   "id": "05b1b09c",
   "metadata": {},
   "source": [
    "### Section 4.2: PCA <a class=\"anchor\" id=\"Section_42\"></a>\n",
    "\n",
    "Principal Component Analysis (PCA) is one of the popular techniques in data analysis. It performs a linear transformation to convert a set of data points of possibly correlated variables into a set of data points of linearly uncorrelated variables. PCA reduced the dimensionality of a dataset consisting of a large number of related variables while retaining as much variance as possible. PCA finds new variables that the original variables are just their linear combinations.When dimensions are reduced to a few principal dimensions, patterns are identified and then outliers are revealed.\n",
    "\n",
    "Outliers are different from normal data points. When they are projected to the low-dimensional hyperplane, they will fall onto the eigenvectors with small eigenvalues. The outlier score of a data point is the sum of the weighted euclidean distance between the data point to the low-dimensional hyperplane.\n",
    "\n",
    "\n",
    "### Build model"
   ]
  },
  {
   "cell_type": "code",
   "execution_count": 77,
   "id": "c21581b9",
   "metadata": {},
   "outputs": [],
   "source": [
    "# Selecting necessary features\n",
    "features2 = df1[features]"
   ]
  },
  {
   "cell_type": "code",
   "execution_count": 78,
   "id": "d0c1e5eb",
   "metadata": {},
   "outputs": [
    {
     "data": {
      "text/plain": [
       "PCA(contamination=0.05, copy=True, iterated_power='auto', n_components=None,\n",
       "  n_selected_components=None, random_state=None, standardization=True,\n",
       "  svd_solver='auto', tol=0.0, weighted=True, whiten=False)"
      ]
     },
     "execution_count": 78,
     "metadata": {},
     "output_type": "execute_result"
    }
   ],
   "source": [
    "from pyod.models.pca import PCA\n",
    "pca = PCA(contamination=0.05) \n",
    "pca.fit(features2)"
   ]
  },
  {
   "cell_type": "code",
   "execution_count": 79,
   "id": "a787f1f6",
   "metadata": {},
   "outputs": [],
   "source": [
    "# Get the prediction labels and outlier scores \n",
    "y_pred = pca.labels_  # binary labels (0: inliers, 1: outliers)\n",
    "y_pca_scores = pca.decision_scores_  # .decision_scores_ yields the raw outlier scores\n",
    "y_pca_scores = pca.decision_function(features2) \n",
    "y_pred = pca.predict(features2) "
   ]
  },
  {
   "cell_type": "code",
   "execution_count": 80,
   "id": "f6d2fc95",
   "metadata": {},
   "outputs": [
    {
     "data": {
      "text/plain": [
       "array([2852.89126981, 1927.76021303, 2772.02765451, ..., 2596.68787687,\n",
       "       9270.61216686, 3299.06223052])"
      ]
     },
     "execution_count": 80,
     "metadata": {},
     "output_type": "execute_result"
    }
   ],
   "source": [
    "y_pca_scores"
   ]
  },
  {
   "cell_type": "code",
   "execution_count": 81,
   "id": "a17e7e33",
   "metadata": {},
   "outputs": [
    {
     "data": {
      "text/plain": [
       "array([0, 0, 0, ..., 0, 1, 0])"
      ]
     },
     "execution_count": 81,
     "metadata": {},
     "output_type": "execute_result"
    }
   ],
   "source": [
    "y_pred"
   ]
  },
  {
   "cell_type": "code",
   "execution_count": 82,
   "id": "59f75544",
   "metadata": {},
   "outputs": [
    {
     "data": {
      "text/plain": [
       "{'contamination': 0.05,\n",
       " 'copy': True,\n",
       " 'iterated_power': 'auto',\n",
       " 'n_components': None,\n",
       " 'n_selected_components': None,\n",
       " 'random_state': None,\n",
       " 'standardization': True,\n",
       " 'svd_solver': 'auto',\n",
       " 'tol': 0.0,\n",
       " 'weighted': True,\n",
       " 'whiten': False}"
      ]
     },
     "execution_count": 82,
     "metadata": {},
     "output_type": "execute_result"
    }
   ],
   "source": [
    "# Let's see the default parameters of PCA\n",
    "pca.get_params()"
   ]
  },
  {
   "cell_type": "code",
   "execution_count": 83,
   "id": "ddffd87c",
   "metadata": {},
   "outputs": [
    {
     "data": {
      "text/plain": [
       "[array([4.58039555, 2.43319724, 1.02720027, 0.75034172, 0.45218032,\n",
       "        0.29718598, 0.26144397, 0.10471967, 0.08053324, 0.01286337]),\n",
       " array([0.45803675, 0.24331823, 0.1027194 , 0.07503371, 0.04521775,\n",
       "        0.02971842, 0.02614424, 0.0104719 , 0.00805327, 0.00128633])]"
      ]
     },
     "execution_count": 83,
     "metadata": {},
     "output_type": "execute_result"
    }
   ],
   "source": [
    "# Let's see the explained variance ratio here\n",
    "[pca.explained_variance_,\n",
    "pca.explained_variance_ratio_]"
   ]
  },
  {
   "cell_type": "markdown",
   "id": "761c39e1",
   "metadata": {},
   "source": [
    "### Determine the threshold"
   ]
  },
  {
   "cell_type": "code",
   "execution_count": 84,
   "id": "e0baf331",
   "metadata": {},
   "outputs": [
    {
     "name": "stdout",
     "output_type": "stream",
     "text": [
      "The threshold for the defined comtanimation rate: 7009.144884692461\n"
     ]
    }
   ],
   "source": [
    "print(\"The threshold for the defined comtanimation rate:\" , pca.threshold_)"
   ]
  },
  {
   "cell_type": "code",
   "execution_count": 85,
   "id": "30cf8217",
   "metadata": {},
   "outputs": [
    {
     "data": {
      "image/png": "[encoded data removed]",
      "text/plain": [
       "<Figure size 432x288 with 1 Axes>"
      ]
     },
     "metadata": {
      "needs_background": "light"
     },
     "output_type": "display_data"
    }
   ],
   "source": [
    "# Get the prediction on the test data\n",
    "y_pca_pred = pca.predict(features2)  # outlier labels (0 or 1)\n",
    "y_pca_scores = pca.decision_function(features2)  # outlier scores\n",
    "\n",
    "import matplotlib.pyplot as plt\n",
    "plt.hist(y_pca_scores, bins=50)  # arguments are passed to np.histogram\n",
    "plt.title(\"Histogram with 'auto' bins\")\n",
    "plt.xlabel('PCA outlier score')\n",
    "plt.show()"
   ]
  },
  {
   "cell_type": "markdown",
   "id": "b54636cf",
   "metadata": {},
   "source": [
    "The table presents the characteristics of the normal and abnormal groups. It shows the count and count percentage of the normal and outlier groups. The “Anomalous_Score” is the average anomaly score. The table tells us several important results:\n",
    "\n",
    "- The size of the outlier group: The outlier group is about 5%. Remember the size of the outlier group is determined by the threshold. The size will shrink if you choose a higher value for the threshold.\n",
    "- The average anomaly score: The average score of the outlier group should be higher than that of the normal group (9612.18>2782.99). \n",
    "- The feature statistics in each group: The means of the features in the outlier group are larger than those of the normal group. A high average ratio of payment/discharges features, that is more than the average values, could suggest fraudulent behaviour."
   ]
  },
  {
   "cell_type": "markdown",
   "id": "fcc5bad0",
   "metadata": {},
   "source": [
    "### Present the descriptive statistics of the normal and the abnormal groups"
   ]
  },
  {
   "cell_type": "code",
   "execution_count": 86,
   "id": "336d8ade",
   "metadata": {},
   "outputs": [
    {
     "data": {
      "text/html": [
       "<div>\n",
       "<style scoped>\n",
       "    .dataframe tbody tr th:only-of-type {\n",
       "        vertical-align: middle;\n",
       "    }\n",
       "\n",
       "    .dataframe tbody tr th {\n",
       "        vertical-align: top;\n",
       "    }\n",
       "\n",
       "    .dataframe thead th {\n",
       "        text-align: right;\n",
       "    }\n",
       "</style>\n",
       "<table border=\"1\" class=\"dataframe\">\n",
       "  <thead>\n",
       "    <tr style=\"text-align: right;\">\n",
       "      <th></th>\n",
       "      <th>Group</th>\n",
       "      <th>Count</th>\n",
       "      <th>Count %</th>\n",
       "      <th>Avg_Payment_ByStateDRG_ratio_amount</th>\n",
       "      <th>Average_Payment_ByCityDRG_ratio_amount</th>\n",
       "      <th>Avg_Payment_ByRegionDRG_ratio_amount</th>\n",
       "      <th>Avg_Discharges_ByStateDRG_ratio_amount</th>\n",
       "      <th>Avg_Discharges_ByCityDRG_ratio_amount</th>\n",
       "      <th>Avg_Discharges_ByRegionDRG_ratio_amount</th>\n",
       "      <th>Avg_Medicare_ByStateDRG_ratio_amount</th>\n",
       "      <th>Avg_Medicare_ByCityDRG_ratio_amount</th>\n",
       "      <th>Avg_Medicare_ByRegionDRG_ratio_amount</th>\n",
       "      <th>Avg_Medicare_ByZipDRG_ratio_amount</th>\n",
       "      <th>Anomaly_Score</th>\n",
       "    </tr>\n",
       "  </thead>\n",
       "  <tbody>\n",
       "    <tr>\n",
       "      <th>0</th>\n",
       "      <td>Normal</td>\n",
       "      <td>154911</td>\n",
       "      <td>94.99954</td>\n",
       "      <td>0.98</td>\n",
       "      <td>1.00</td>\n",
       "      <td>0.98</td>\n",
       "      <td>0.96</td>\n",
       "      <td>0.99</td>\n",
       "      <td>0.97</td>\n",
       "      <td>0.98</td>\n",
       "      <td>0.99</td>\n",
       "      <td>0.98</td>\n",
       "      <td>1.00</td>\n",
       "      <td>2782.99</td>\n",
       "    </tr>\n",
       "    <tr>\n",
       "      <th>1</th>\n",
       "      <td>Outlier</td>\n",
       "      <td>8154</td>\n",
       "      <td>5.00046</td>\n",
       "      <td>1.41</td>\n",
       "      <td>1.26</td>\n",
       "      <td>1.33</td>\n",
       "      <td>1.70</td>\n",
       "      <td>1.27</td>\n",
       "      <td>1.60</td>\n",
       "      <td>1.44</td>\n",
       "      <td>1.21</td>\n",
       "      <td>1.35</td>\n",
       "      <td>1.02</td>\n",
       "      <td>9612.18</td>\n",
       "    </tr>\n",
       "  </tbody>\n",
       "</table>\n",
       "</div>"
      ],
      "text/plain": [
       "     Group   Count   Count %  Avg_Payment_ByStateDRG_ratio_amount  \\\n",
       "0   Normal  154911  94.99954                                 0.98   \n",
       "1  Outlier    8154   5.00046                                 1.41   \n",
       "\n",
       "   Average_Payment_ByCityDRG_ratio_amount  \\\n",
       "0                                    1.00   \n",
       "1                                    1.26   \n",
       "\n",
       "   Avg_Payment_ByRegionDRG_ratio_amount  \\\n",
       "0                                  0.98   \n",
       "1                                  1.33   \n",
       "\n",
       "   Avg_Discharges_ByStateDRG_ratio_amount  \\\n",
       "0                                    0.96   \n",
       "1                                    1.70   \n",
       "\n",
       "   Avg_Discharges_ByCityDRG_ratio_amount  \\\n",
       "0                                   0.99   \n",
       "1                                   1.27   \n",
       "\n",
       "   Avg_Discharges_ByRegionDRG_ratio_amount  \\\n",
       "0                                     0.97   \n",
       "1                                     1.60   \n",
       "\n",
       "   Avg_Medicare_ByStateDRG_ratio_amount  Avg_Medicare_ByCityDRG_ratio_amount  \\\n",
       "0                                  0.98                                 0.99   \n",
       "1                                  1.44                                 1.21   \n",
       "\n",
       "   Avg_Medicare_ByRegionDRG_ratio_amount  Avg_Medicare_ByZipDRG_ratio_amount  \\\n",
       "0                                   0.98                                1.00   \n",
       "1                                   1.35                                1.02   \n",
       "\n",
       "   Anomaly_Score  \n",
       "0        2782.99  \n",
       "1        9612.18  "
      ]
     },
     "execution_count": 86,
     "metadata": {},
     "output_type": "execute_result"
    }
   ],
   "source": [
    "threshold = pca.threshold_\n",
    "threshold\n",
    "\n",
    "def descriptive_stat_threshold(df,pred_score, threshold):\n",
    "    # Let's see how many '0's and '1's.\n",
    "    df = pd.DataFrame(df)\n",
    "    df['Anomaly_Score'] = pred_score\n",
    "    df['Group'] = np.where(df['Anomaly_Score']< threshold, 'Normal', 'Outlier')\n",
    "\n",
    "    # Now let's show the summary statistics:\n",
    "    cnt = df.groupby('Group')['Anomaly_Score'].count().reset_index().rename(columns={'Anomaly_Score':'Count'})\n",
    "    cnt['Count %'] = (cnt['Count'] / cnt['Count'].sum()) * 100 # The count and count %\n",
    "    stat = df.groupby('Group').mean().round(2).reset_index() # The avg.\n",
    "    stat = cnt.merge(stat, left_on='Group',right_on='Group') # Put the count and the avg. together\n",
    "    return (stat)\n",
    "\n",
    "descriptive_stat_threshold(features2,y_pca_scores, threshold)"
   ]
  },
  {
   "cell_type": "markdown",
   "id": "473320a6",
   "metadata": {},
   "source": [
    "### Evaluate the model performance"
   ]
  },
  {
   "cell_type": "code",
   "execution_count": 87,
   "id": "c33294dc",
   "metadata": {},
   "outputs": [
    {
     "data": {
      "text/html": [
       "<div>\n",
       "<style scoped>\n",
       "    .dataframe tbody tr th:only-of-type {\n",
       "        vertical-align: middle;\n",
       "    }\n",
       "\n",
       "    .dataframe tbody tr th {\n",
       "        vertical-align: top;\n",
       "    }\n",
       "\n",
       "    .dataframe thead th {\n",
       "        text-align: right;\n",
       "    }\n",
       "</style>\n",
       "<table border=\"1\" class=\"dataframe\">\n",
       "  <thead>\n",
       "    <tr style=\"text-align: right;\">\n",
       "      <th>Pred</th>\n",
       "      <th>0</th>\n",
       "      <th>1</th>\n",
       "    </tr>\n",
       "    <tr>\n",
       "      <th>Actual</th>\n",
       "      <th></th>\n",
       "      <th></th>\n",
       "    </tr>\n",
       "  </thead>\n",
       "  <tbody>\n",
       "    <tr>\n",
       "      <th>0</th>\n",
       "      <td>154911</td>\n",
       "      <td>0</td>\n",
       "    </tr>\n",
       "    <tr>\n",
       "      <th>1</th>\n",
       "      <td>0</td>\n",
       "      <td>8154</td>\n",
       "    </tr>\n",
       "  </tbody>\n",
       "</table>\n",
       "</div>"
      ],
      "text/plain": [
       "Pred         0     1\n",
       "Actual              \n",
       "0       154911     0\n",
       "1            0  8154"
      ]
     },
     "execution_count": 87,
     "metadata": {},
     "output_type": "execute_result"
    }
   ],
   "source": [
    "# Confusion matrix\n",
    "Actual_pred = pd.DataFrame({'Actual': y_pca_pred, 'Anomaly_Score': y_pca_scores})\n",
    "Actual_pred['Pred'] = np.where(Actual_pred['Anomaly_Score']< threshold,0,1)\n",
    "pd.crosstab(Actual_pred['Actual'],Actual_pred['Pred'])"
   ]
  },
  {
   "cell_type": "markdown",
   "id": "d02a52b2",
   "metadata": {},
   "source": [
    "The model delivers a decent job and identifies all 8154 outliers."
   ]
  },
  {
   "cell_type": "markdown",
   "id": "c92ec8f9",
   "metadata": {},
   "source": [
    "### Section 4.3: GMM <a class=\"anchor\" id=\"Section_43\"></a>\n",
    "\n",
    "A Gaussian mixture model (GMM) is a probabilistic model that assumes all the data points are generated from a mixture of a finite number of Gaussian distributions with unknown parameters. One can think of mixture models as generalizing k-means clustering to incorporate information about the covariance structure of the data as well as the centers of the latent Gaussians.\n",
    "\n",
    "GMM describes a data point with the probabilities of coming from different distributions, and K-means identifies a data point to one and only one cluster. The advantage of GMM is its flexibility over K-means. Those data points that have low fit values to the underlying Gaussian distributions are considered outliers.\n",
    "\n",
    "### Build model"
   ]
  },
  {
   "cell_type": "code",
   "execution_count": 88,
   "id": "be85becd",
   "metadata": {},
   "outputs": [],
   "source": [
    "#!pip install combo"
   ]
  },
  {
   "cell_type": "code",
   "execution_count": 89,
   "id": "f372f235",
   "metadata": {},
   "outputs": [],
   "source": [
    "# Selecting necessary features\n",
    "features2 = df1[features]"
   ]
  },
  {
   "cell_type": "code",
   "execution_count": 90,
   "id": "bd354fcb",
   "metadata": {},
   "outputs": [
    {
     "data": {
      "text/plain": [
       "GMM(contamination=0.05, covariance_type='full', init_params='kmeans',\n",
       "  max_iter=100, means_init=None, n_components=4, n_init=1,\n",
       "  precisions_init=None, random_state=None, reg_covar=1e-06, tol=0.001,\n",
       "  warm_start=False, weights_init=None)"
      ]
     },
     "execution_count": 90,
     "metadata": {},
     "output_type": "execute_result"
    }
   ],
   "source": [
    "from pyod.models.gmm import GMM\n",
    "gmm = GMM(n_components=4, contamination=0.05) \n",
    "gmm.fit(features2.values)"
   ]
  },
  {
   "cell_type": "code",
   "execution_count": 91,
   "id": "84078f5d",
   "metadata": {},
   "outputs": [],
   "source": [
    "# Get the prediction labels and outlier scores of the training data\n",
    "y_gmm_scores = gmm.decision_function(features2.values)\n",
    "y_pred = gmm.predict(features2.values) "
   ]
  },
  {
   "cell_type": "code",
   "execution_count": 92,
   "id": "f6d4d311",
   "metadata": {},
   "outputs": [
    {
     "name": "stdout",
     "output_type": "stream",
     "text": [
      "The data: {0: 154911, 1: 8154}\n",
      "The threshold for the defined comtanimation rate: -1.9509842045783141\n"
     ]
    }
   ],
   "source": [
    "def count_stat(vector):\n",
    "    # Because it is '0' and '1', we can run a count statistic. \n",
    "    unique, counts = np.unique(vector, return_counts=True)\n",
    "    return dict(zip(unique, counts))\n",
    "\n",
    "print(\"The data:\", count_stat(y_pred))\n",
    "# Threshold for the defined comtanimation rate\n",
    "print(\"The threshold for the defined comtanimation rate:\" , gmm.threshold_)"
   ]
  },
  {
   "cell_type": "code",
   "execution_count": 93,
   "id": "03dbc76b",
   "metadata": {},
   "outputs": [
    {
     "data": {
      "text/plain": [
       "{'contamination': 0.05,\n",
       " 'covariance_type': 'full',\n",
       " 'init_params': 'kmeans',\n",
       " 'max_iter': 100,\n",
       " 'means_init': None,\n",
       " 'n_components': 4,\n",
       " 'n_init': 1,\n",
       " 'precisions_init': None,\n",
       " 'random_state': None,\n",
       " 'reg_covar': 1e-06,\n",
       " 'tol': 0.001,\n",
       " 'warm_start': False,\n",
       " 'weights_init': None}"
      ]
     },
     "execution_count": 93,
     "metadata": {},
     "output_type": "execute_result"
    }
   ],
   "source": [
    "# Let's see the default parameters of GMM\n",
    "gmm.get_params()"
   ]
  },
  {
   "cell_type": "markdown",
   "id": "ee586f35",
   "metadata": {},
   "source": [
    "### Determine the threshold"
   ]
  },
  {
   "cell_type": "code",
   "execution_count": 94,
   "id": "ebe1620c",
   "metadata": {},
   "outputs": [
    {
     "data": {
      "image/png": "[encoded data removed]",
      "text/plain": [
       "<Figure size 432x288 with 1 Axes>"
      ]
     },
     "metadata": {
      "needs_background": "light"
     },
     "output_type": "display_data"
    }
   ],
   "source": [
    "import matplotlib.pyplot as plt\n",
    "plt.hist(y_gmm_scores, bins='auto')  # arguments are passed to np.histogram\n",
    "plt.title(\"Histogram with 'auto' bins\")\n",
    "plt.xlabel('GMM outlier score')\n",
    "plt.show()"
   ]
  },
  {
   "cell_type": "markdown",
   "id": "e65e2ea1",
   "metadata": {},
   "source": [
    "### Present the summary statistics of the normal and the abnormal groups"
   ]
  },
  {
   "cell_type": "code",
   "execution_count": 95,
   "id": "f92850e3",
   "metadata": {},
   "outputs": [
    {
     "data": {
      "text/html": [
       "<div>\n",
       "<style scoped>\n",
       "    .dataframe tbody tr th:only-of-type {\n",
       "        vertical-align: middle;\n",
       "    }\n",
       "\n",
       "    .dataframe tbody tr th {\n",
       "        vertical-align: top;\n",
       "    }\n",
       "\n",
       "    .dataframe thead th {\n",
       "        text-align: right;\n",
       "    }\n",
       "</style>\n",
       "<table border=\"1\" class=\"dataframe\">\n",
       "  <thead>\n",
       "    <tr style=\"text-align: right;\">\n",
       "      <th></th>\n",
       "      <th>Group</th>\n",
       "      <th>Count</th>\n",
       "      <th>Count %</th>\n",
       "      <th>Avg_Payment_ByStateDRG_ratio_amount</th>\n",
       "      <th>Average_Payment_ByCityDRG_ratio_amount</th>\n",
       "      <th>Avg_Payment_ByRegionDRG_ratio_amount</th>\n",
       "      <th>Avg_Discharges_ByStateDRG_ratio_amount</th>\n",
       "      <th>Avg_Discharges_ByCityDRG_ratio_amount</th>\n",
       "      <th>Avg_Discharges_ByRegionDRG_ratio_amount</th>\n",
       "      <th>Avg_Medicare_ByStateDRG_ratio_amount</th>\n",
       "      <th>Avg_Medicare_ByCityDRG_ratio_amount</th>\n",
       "      <th>Avg_Medicare_ByRegionDRG_ratio_amount</th>\n",
       "      <th>Avg_Medicare_ByZipDRG_ratio_amount</th>\n",
       "      <th>Anomaly_Score</th>\n",
       "    </tr>\n",
       "  </thead>\n",
       "  <tbody>\n",
       "    <tr>\n",
       "      <th>0</th>\n",
       "      <td>Normal</td>\n",
       "      <td>154911</td>\n",
       "      <td>94.99954</td>\n",
       "      <td>0.98</td>\n",
       "      <td>1.00</td>\n",
       "      <td>0.99</td>\n",
       "      <td>0.97</td>\n",
       "      <td>0.98</td>\n",
       "      <td>0.97</td>\n",
       "      <td>0.99</td>\n",
       "      <td>1.00</td>\n",
       "      <td>0.99</td>\n",
       "      <td>1.00</td>\n",
       "      <td>-18.91</td>\n",
       "    </tr>\n",
       "    <tr>\n",
       "      <th>1</th>\n",
       "      <td>Outlier</td>\n",
       "      <td>8154</td>\n",
       "      <td>5.00046</td>\n",
       "      <td>1.29</td>\n",
       "      <td>1.15</td>\n",
       "      <td>1.19</td>\n",
       "      <td>1.65</td>\n",
       "      <td>1.29</td>\n",
       "      <td>1.53</td>\n",
       "      <td>1.24</td>\n",
       "      <td>1.09</td>\n",
       "      <td>1.16</td>\n",
       "      <td>1.01</td>\n",
       "      <td>4.40</td>\n",
       "    </tr>\n",
       "  </tbody>\n",
       "</table>\n",
       "</div>"
      ],
      "text/plain": [
       "     Group   Count   Count %  Avg_Payment_ByStateDRG_ratio_amount  \\\n",
       "0   Normal  154911  94.99954                                 0.98   \n",
       "1  Outlier    8154   5.00046                                 1.29   \n",
       "\n",
       "   Average_Payment_ByCityDRG_ratio_amount  \\\n",
       "0                                    1.00   \n",
       "1                                    1.15   \n",
       "\n",
       "   Avg_Payment_ByRegionDRG_ratio_amount  \\\n",
       "0                                  0.99   \n",
       "1                                  1.19   \n",
       "\n",
       "   Avg_Discharges_ByStateDRG_ratio_amount  \\\n",
       "0                                    0.97   \n",
       "1                                    1.65   \n",
       "\n",
       "   Avg_Discharges_ByCityDRG_ratio_amount  \\\n",
       "0                                   0.98   \n",
       "1                                   1.29   \n",
       "\n",
       "   Avg_Discharges_ByRegionDRG_ratio_amount  \\\n",
       "0                                     0.97   \n",
       "1                                     1.53   \n",
       "\n",
       "   Avg_Medicare_ByStateDRG_ratio_amount  Avg_Medicare_ByCityDRG_ratio_amount  \\\n",
       "0                                  0.99                                 1.00   \n",
       "1                                  1.24                                 1.09   \n",
       "\n",
       "   Avg_Medicare_ByRegionDRG_ratio_amount  Avg_Medicare_ByZipDRG_ratio_amount  \\\n",
       "0                                   0.99                                1.00   \n",
       "1                                   1.16                                1.01   \n",
       "\n",
       "   Anomaly_Score  \n",
       "0         -18.91  \n",
       "1           4.40  "
      ]
     },
     "execution_count": 95,
     "metadata": {},
     "output_type": "execute_result"
    }
   ],
   "source": [
    "threshold = gmm.threshold_ \n",
    "\n",
    "def descriptive_stat_threshold(df,pred_score, threshold):\n",
    "    # Let's see how many '0's and '1's.\n",
    "    df = pd.DataFrame(df)\n",
    "    df['Anomaly_Score'] = pred_score\n",
    "    df['Group'] = np.where(df['Anomaly_Score']< threshold, 'Normal', 'Outlier')\n",
    "\n",
    "    # Now let's show the summary statistics:\n",
    "    cnt = df.groupby('Group')['Anomaly_Score'].count().reset_index().rename(columns={'Anomaly_Score':'Count'})\n",
    "    cnt['Count %'] = (cnt['Count'] / cnt['Count'].sum()) * 100 # The count and count %\n",
    "    stat = df.groupby('Group').mean().round(2).reset_index() # The avg.\n",
    "    stat = cnt.merge(stat, left_on='Group',right_on='Group') # Put the count and the avg. together\n",
    "    return (stat)\n",
    "\n",
    "descriptive_stat_threshold(features2,y_gmm_scores, threshold)"
   ]
  },
  {
   "cell_type": "markdown",
   "id": "c6c22d26",
   "metadata": {},
   "source": [
    "The table presents the characteristics of the normal and abnormal groups. It shows the count and count percentage of the normal and outlier groups. The “Anomalous_Score” is the average anomaly score. The table tells us several important results:\n",
    "\n",
    "- The size of the outlier group: The outlier group is about 5%. Remember the size of the outlier group is determined by the threshold. The size will shrink if you choose a higher value for the threshold.\n",
    "- The average anomaly score: The average score of the outlier group should be higher than that of the normal group (4.40>-18.91). \n",
    "- The feature statistics in each group: The means of the features in the outlier group are larger than those of the normal group. A high average ratio of payment/discharges features, that is more than the average values, could suggest fraudulent behaviour."
   ]
  },
  {
   "cell_type": "markdown",
   "id": "bd2ae7fa",
   "metadata": {},
   "source": [
    "### Evaluate the model"
   ]
  },
  {
   "cell_type": "code",
   "execution_count": 96,
   "id": "4ddcd885",
   "metadata": {},
   "outputs": [
    {
     "data": {
      "text/html": [
       "<div>\n",
       "<style scoped>\n",
       "    .dataframe tbody tr th:only-of-type {\n",
       "        vertical-align: middle;\n",
       "    }\n",
       "\n",
       "    .dataframe tbody tr th {\n",
       "        vertical-align: top;\n",
       "    }\n",
       "\n",
       "    .dataframe thead th {\n",
       "        text-align: right;\n",
       "    }\n",
       "</style>\n",
       "<table border=\"1\" class=\"dataframe\">\n",
       "  <thead>\n",
       "    <tr style=\"text-align: right;\">\n",
       "      <th>Pred</th>\n",
       "      <th>0</th>\n",
       "      <th>1</th>\n",
       "    </tr>\n",
       "    <tr>\n",
       "      <th>Actual</th>\n",
       "      <th></th>\n",
       "      <th></th>\n",
       "    </tr>\n",
       "  </thead>\n",
       "  <tbody>\n",
       "    <tr>\n",
       "      <th>0</th>\n",
       "      <td>154911</td>\n",
       "      <td>0</td>\n",
       "    </tr>\n",
       "    <tr>\n",
       "      <th>1</th>\n",
       "      <td>0</td>\n",
       "      <td>8154</td>\n",
       "    </tr>\n",
       "  </tbody>\n",
       "</table>\n",
       "</div>"
      ],
      "text/plain": [
       "Pred         0     1\n",
       "Actual              \n",
       "0       154911     0\n",
       "1            0  8154"
      ]
     },
     "execution_count": 96,
     "metadata": {},
     "output_type": "execute_result"
    }
   ],
   "source": [
    "Actual_pred = pd.DataFrame({'Actual': y_pred, 'Anomaly_Score': y_gmm_scores})\n",
    "Actual_pred['Pred'] = np.where(Actual_pred['Anomaly_Score']< threshold,0,1)\n",
    "pd.crosstab(Actual_pred['Actual'],Actual_pred['Pred'])"
   ]
  },
  {
   "cell_type": "markdown",
   "id": "b39fb688",
   "metadata": {},
   "source": [
    "The model delivers a decent job and identifies all 8154 outliers."
   ]
  },
  {
   "cell_type": "markdown",
   "id": "546b9128",
   "metadata": {},
   "source": [
    "### Achieve Model Stability by Aggregating Multiple Models\n",
    "\n",
    "Distribution-based methods can be very susceptible to noise and overfitting in the training data. The solution is to train the models with a range of hyperparameters and then aggregate the scores. The chance of overfitting will be greatly reduced and the prediction accuracy will be improved.\n",
    "\n",
    "In order not to assume a large number of mixture components, I produce seven GMM models for a range of clusters. The average prediction of these models will be the final model prediction."
   ]
  },
  {
   "cell_type": "code",
   "execution_count": 97,
   "id": "77514dea",
   "metadata": {},
   "outputs": [],
   "source": [
    "# Selecting necessary features\n",
    "features2 = df1[features]"
   ]
  },
  {
   "cell_type": "code",
   "execution_count": 98,
   "id": "9f6ac2db",
   "metadata": {},
   "outputs": [],
   "source": [
    "from pyod.models.combination import aom, moa, average, maximization\n",
    "from pyod.utils.utility import standardizer\n",
    "from pyod.models.gmm import GMM\n",
    "\n",
    "# Standardize data\n",
    "gmm_norm = standardizer(features2)\n",
    "# Test a range of clusters from 2 to 8. There will be 7 models.\n",
    "n_clf = 7\n",
    "k_list = [2, 3, 4, 5, 6, 7, 8]\n",
    "# Just prepare data frames so we can store the model results\n",
    "gmm_scores = np.zeros([features2.shape[0], n_clf])\n",
    "gmm_scores.shape\n",
    "# Modeling\n",
    "for i in range(n_clf):\n",
    "    k = k_list[i]\n",
    "    gmm = GMM(n_components = k) \n",
    "    gmm.fit(gmm_norm)\n",
    "\n",
    "    # Store the results in each column:\n",
    "    gmm_scores[:, i] = gmm.decision_function(gmm_norm) \n",
    "# Decision scores have to be normalized before combination\n",
    "gmm_scores_norm = standardizer(gmm_scores)"
   ]
  },
  {
   "cell_type": "code",
   "execution_count": 99,
   "id": "3783d8e1",
   "metadata": {},
   "outputs": [
    {
     "data": {
      "image/png": "[encoded data removed]",
      "text/plain": [
       "<Figure size 432x288 with 1 Axes>"
      ]
     },
     "metadata": {
      "needs_background": "light"
     },
     "output_type": "display_data"
    }
   ],
   "source": [
    "# The predictions are normalized and stored in the data frame “gmm_norm”. \n",
    "# The PyOD module offers four aggregation methods and only need to use one method to produce the outcome.\n",
    "#Combination by average\n",
    "gmm_by_average = average(gmm_scores_norm)\n",
    "import matplotlib.pyplot as plt\n",
    "plt.hist(gmm_by_average, bins='auto') # arguments are passed to np.histogram\n",
    "plt.title(\"Combination by average\")\n",
    "plt.show()"
   ]
  },
  {
   "cell_type": "code",
   "execution_count": 100,
   "id": "859b1554",
   "metadata": {},
   "outputs": [
    {
     "data": {
      "text/html": [
       "<div>\n",
       "<style scoped>\n",
       "    .dataframe tbody tr th:only-of-type {\n",
       "        vertical-align: middle;\n",
       "    }\n",
       "\n",
       "    .dataframe tbody tr th {\n",
       "        vertical-align: top;\n",
       "    }\n",
       "\n",
       "    .dataframe thead th {\n",
       "        text-align: right;\n",
       "    }\n",
       "</style>\n",
       "<table border=\"1\" class=\"dataframe\">\n",
       "  <thead>\n",
       "    <tr style=\"text-align: right;\">\n",
       "      <th></th>\n",
       "      <th>Group</th>\n",
       "      <th>Count</th>\n",
       "      <th>Count %</th>\n",
       "      <th>Avg_Payment_ByStateDRG_ratio_amount</th>\n",
       "      <th>Average_Payment_ByCityDRG_ratio_amount</th>\n",
       "      <th>Avg_Payment_ByRegionDRG_ratio_amount</th>\n",
       "      <th>Avg_Discharges_ByStateDRG_ratio_amount</th>\n",
       "      <th>Avg_Discharges_ByCityDRG_ratio_amount</th>\n",
       "      <th>Avg_Discharges_ByRegionDRG_ratio_amount</th>\n",
       "      <th>Avg_Medicare_ByStateDRG_ratio_amount</th>\n",
       "      <th>Avg_Medicare_ByCityDRG_ratio_amount</th>\n",
       "      <th>Avg_Medicare_ByRegionDRG_ratio_amount</th>\n",
       "      <th>Avg_Medicare_ByZipDRG_ratio_amount</th>\n",
       "      <th>Anomaly_Score</th>\n",
       "    </tr>\n",
       "  </thead>\n",
       "  <tbody>\n",
       "    <tr>\n",
       "      <th>0</th>\n",
       "      <td>Normal</td>\n",
       "      <td>161225</td>\n",
       "      <td>98.871616</td>\n",
       "      <td>0.99</td>\n",
       "      <td>1.01</td>\n",
       "      <td>1.0</td>\n",
       "      <td>0.98</td>\n",
       "      <td>0.99</td>\n",
       "      <td>0.99</td>\n",
       "      <td>1.00</td>\n",
       "      <td>1.00</td>\n",
       "      <td>1.00</td>\n",
       "      <td>1.00</td>\n",
       "      <td>-0.03</td>\n",
       "    </tr>\n",
       "    <tr>\n",
       "      <th>1</th>\n",
       "      <td>Outlier</td>\n",
       "      <td>1840</td>\n",
       "      <td>1.128384</td>\n",
       "      <td>1.45</td>\n",
       "      <td>1.24</td>\n",
       "      <td>1.3</td>\n",
       "      <td>2.41</td>\n",
       "      <td>1.66</td>\n",
       "      <td>2.13</td>\n",
       "      <td>1.34</td>\n",
       "      <td>1.13</td>\n",
       "      <td>1.24</td>\n",
       "      <td>1.02</td>\n",
       "      <td>2.69</td>\n",
       "    </tr>\n",
       "  </tbody>\n",
       "</table>\n",
       "</div>"
      ],
      "text/plain": [
       "     Group   Count    Count %  Avg_Payment_ByStateDRG_ratio_amount  \\\n",
       "0   Normal  161225  98.871616                                 0.99   \n",
       "1  Outlier    1840   1.128384                                 1.45   \n",
       "\n",
       "   Average_Payment_ByCityDRG_ratio_amount  \\\n",
       "0                                    1.01   \n",
       "1                                    1.24   \n",
       "\n",
       "   Avg_Payment_ByRegionDRG_ratio_amount  \\\n",
       "0                                   1.0   \n",
       "1                                   1.3   \n",
       "\n",
       "   Avg_Discharges_ByStateDRG_ratio_amount  \\\n",
       "0                                    0.98   \n",
       "1                                    2.41   \n",
       "\n",
       "   Avg_Discharges_ByCityDRG_ratio_amount  \\\n",
       "0                                   0.99   \n",
       "1                                   1.66   \n",
       "\n",
       "   Avg_Discharges_ByRegionDRG_ratio_amount  \\\n",
       "0                                     0.99   \n",
       "1                                     2.13   \n",
       "\n",
       "   Avg_Medicare_ByStateDRG_ratio_amount  Avg_Medicare_ByCityDRG_ratio_amount  \\\n",
       "0                                  1.00                                 1.00   \n",
       "1                                  1.34                                 1.13   \n",
       "\n",
       "   Avg_Medicare_ByRegionDRG_ratio_amount  Avg_Medicare_ByZipDRG_ratio_amount  \\\n",
       "0                                   1.00                                1.00   \n",
       "1                                   1.24                                1.02   \n",
       "\n",
       "   Anomaly_Score  \n",
       "0          -0.03  \n",
       "1           2.69  "
      ]
     },
     "execution_count": 100,
     "metadata": {},
     "output_type": "execute_result"
    }
   ],
   "source": [
    "descriptive_stat_threshold(features2,gmm_by_average, 2.0)"
   ]
  },
  {
   "cell_type": "markdown",
   "id": "c0f4547e",
   "metadata": {},
   "source": [
    "## Outliers Identified by Multiple Models\n",
    "\n",
    "If an outlier is identified by multiple models, the chance that it is an outlier is much higher. In this section, I am going to cross-tabulate the predictions of the three models to identify outliers. I first replicate the ECOD, PCA, GMM models and generate their thresholds."
   ]
  },
  {
   "cell_type": "code",
   "execution_count": 101,
   "id": "9f0e79bf",
   "metadata": {},
   "outputs": [],
   "source": [
    "# Selecting necessary features\n",
    "features2 = df1[features]"
   ]
  },
  {
   "cell_type": "code",
   "execution_count": 102,
   "id": "aef340f6",
   "metadata": {},
   "outputs": [
    {
     "data": {
      "text/plain": [
       "[27.034891332376624, 7009.144884692461, 3.4482301845290815]"
      ]
     },
     "execution_count": 102,
     "metadata": {},
     "output_type": "execute_result"
    }
   ],
   "source": [
    "########\n",
    "# ECOD #\n",
    "########\n",
    "from pyod.models.ecod import ECOD\n",
    "clf_name = 'ECOD'\n",
    "ecod = ECOD(contamination=0.05) \n",
    "ecod.fit(features2)\n",
    "y_ecod_scores = ecod.decision_function(features2)\n",
    "\n",
    "########\n",
    "# PCA  #\n",
    "########\n",
    "from pyod.models.pca import PCA\n",
    "pca = PCA(contamination=0.05) \n",
    "pca.fit(features2)\n",
    "y_pca_scores = pca.decision_function(features2)\n",
    "\n",
    "########\n",
    "# GMM  #\n",
    "########\n",
    "from pyod.models.gmm import GMM\n",
    "gmm = GMM(contamination=0.05)  \n",
    "gmm.fit(features2.values)\n",
    "y_gmm_scores = gmm.decision_function(features2.values)\n",
    "\n",
    "# Thresholds\n",
    "[ecod.threshold_, pca.threshold_, gmm.threshold_]"
   ]
  },
  {
   "cell_type": "code",
   "execution_count": 103,
   "id": "f81c3af1",
   "metadata": {},
   "outputs": [
    {
     "data": {
      "text/html": [
       "<div>\n",
       "<style scoped>\n",
       "    .dataframe tbody tr th:only-of-type {\n",
       "        vertical-align: middle;\n",
       "    }\n",
       "\n",
       "    .dataframe tbody tr th {\n",
       "        vertical-align: top;\n",
       "    }\n",
       "\n",
       "    .dataframe thead th {\n",
       "        text-align: right;\n",
       "    }\n",
       "</style>\n",
       "<table border=\"1\" class=\"dataframe\">\n",
       "  <thead>\n",
       "    <tr style=\"text-align: right;\">\n",
       "      <th></th>\n",
       "      <th>Actual</th>\n",
       "      <th>ECOD_Score</th>\n",
       "      <th>PCA_Score</th>\n",
       "      <th>GMM_Score</th>\n",
       "      <th>ECOD_pred</th>\n",
       "      <th>PCA_pred</th>\n",
       "      <th>GMM_pred</th>\n",
       "    </tr>\n",
       "  </thead>\n",
       "  <tbody>\n",
       "    <tr>\n",
       "      <th>0</th>\n",
       "      <td>0</td>\n",
       "      <td>15.072046</td>\n",
       "      <td>2852.891270</td>\n",
       "      <td>-5.874655</td>\n",
       "      <td>0</td>\n",
       "      <td>0</td>\n",
       "      <td>0</td>\n",
       "    </tr>\n",
       "    <tr>\n",
       "      <th>1</th>\n",
       "      <td>0</td>\n",
       "      <td>10.105821</td>\n",
       "      <td>1927.760213</td>\n",
       "      <td>-10.909725</td>\n",
       "      <td>0</td>\n",
       "      <td>0</td>\n",
       "      <td>0</td>\n",
       "    </tr>\n",
       "    <tr>\n",
       "      <th>2</th>\n",
       "      <td>0</td>\n",
       "      <td>12.787342</td>\n",
       "      <td>2772.027655</td>\n",
       "      <td>-9.441118</td>\n",
       "      <td>0</td>\n",
       "      <td>0</td>\n",
       "      <td>0</td>\n",
       "    </tr>\n",
       "    <tr>\n",
       "      <th>3</th>\n",
       "      <td>0</td>\n",
       "      <td>11.302088</td>\n",
       "      <td>1993.439844</td>\n",
       "      <td>-10.979335</td>\n",
       "      <td>0</td>\n",
       "      <td>0</td>\n",
       "      <td>0</td>\n",
       "    </tr>\n",
       "    <tr>\n",
       "      <th>4</th>\n",
       "      <td>0</td>\n",
       "      <td>8.154554</td>\n",
       "      <td>1651.174056</td>\n",
       "      <td>-11.247473</td>\n",
       "      <td>0</td>\n",
       "      <td>0</td>\n",
       "      <td>0</td>\n",
       "    </tr>\n",
       "  </tbody>\n",
       "</table>\n",
       "</div>"
      ],
      "text/plain": [
       "   Actual  ECOD_Score    PCA_Score  GMM_Score  ECOD_pred  PCA_pred  GMM_pred\n",
       "0       0   15.072046  2852.891270  -5.874655          0         0         0\n",
       "1       0   10.105821  1927.760213 -10.909725          0         0         0\n",
       "2       0   12.787342  2772.027655  -9.441118          0         0         0\n",
       "3       0   11.302088  1993.439844 -10.979335          0         0         0\n",
       "4       0    8.154554  1651.174056 -11.247473          0         0         0"
      ]
     },
     "execution_count": 103,
     "metadata": {},
     "output_type": "execute_result"
    }
   ],
   "source": [
    "# Put the actual, the ECOD score, the PCA score and the GMM score together\n",
    "Actual_preds = pd.DataFrame({'Actual': y_pred,\n",
    "                             'ECOD_Score': y_ecod_scores, \n",
    "                             'PCA_Score': y_pca_scores, \n",
    "                             'GMM_Score': y_gmm_scores})\n",
    "Actual_preds['ECOD_pred'] = np.where(Actual_preds['ECOD_Score']>ecod.threshold_,1,0)\n",
    "Actual_preds['PCA_pred'] = np.where(Actual_preds['PCA_Score']>pca.threshold_,1,0)\n",
    "Actual_preds['GMM_pred'] = np.where(Actual_preds['GMM_Score']>gmm.threshold_,1,0)\n",
    "Actual_preds.head()"
   ]
  },
  {
   "cell_type": "code",
   "execution_count": 104,
   "id": "b8c65be4",
   "metadata": {},
   "outputs": [
    {
     "data": {
      "text/html": [
       "<div>\n",
       "<style scoped>\n",
       "    .dataframe tbody tr th:only-of-type {\n",
       "        vertical-align: middle;\n",
       "    }\n",
       "\n",
       "    .dataframe tbody tr th {\n",
       "        vertical-align: top;\n",
       "    }\n",
       "\n",
       "    .dataframe thead th {\n",
       "        text-align: right;\n",
       "    }\n",
       "</style>\n",
       "<table border=\"1\" class=\"dataframe\">\n",
       "  <thead>\n",
       "    <tr style=\"text-align: right;\">\n",
       "      <th>PCA_pred</th>\n",
       "      <th>0</th>\n",
       "      <th>1</th>\n",
       "    </tr>\n",
       "    <tr>\n",
       "      <th>ECOD_pred</th>\n",
       "      <th></th>\n",
       "      <th></th>\n",
       "    </tr>\n",
       "  </thead>\n",
       "  <tbody>\n",
       "    <tr>\n",
       "      <th>0</th>\n",
       "      <td>152585</td>\n",
       "      <td>2326</td>\n",
       "    </tr>\n",
       "    <tr>\n",
       "      <th>1</th>\n",
       "      <td>2326</td>\n",
       "      <td>5828</td>\n",
       "    </tr>\n",
       "  </tbody>\n",
       "</table>\n",
       "</div>"
      ],
      "text/plain": [
       "PCA_pred        0     1\n",
       "ECOD_pred              \n",
       "0          152585  2326\n",
       "1            2326  5828"
      ]
     },
     "execution_count": 104,
     "metadata": {},
     "output_type": "execute_result"
    }
   ],
   "source": [
    "# If we cross ECOD and PCA model, 5828 observations are identified by both models to be outliers.\n",
    "pd.crosstab(Actual_preds['ECOD_pred'],Actual_preds['PCA_pred'])"
   ]
  },
  {
   "cell_type": "code",
   "execution_count": 105,
   "id": "095a5a6c",
   "metadata": {},
   "outputs": [
    {
     "data": {
      "text/html": [
       "<div>\n",
       "<style scoped>\n",
       "    .dataframe tbody tr th:only-of-type {\n",
       "        vertical-align: middle;\n",
       "    }\n",
       "\n",
       "    .dataframe tbody tr th {\n",
       "        vertical-align: top;\n",
       "    }\n",
       "\n",
       "    .dataframe thead th {\n",
       "        text-align: right;\n",
       "    }\n",
       "</style>\n",
       "<table border=\"1\" class=\"dataframe\">\n",
       "  <thead>\n",
       "    <tr style=\"text-align: right;\">\n",
       "      <th>GMM_pred</th>\n",
       "      <th>0</th>\n",
       "      <th>1</th>\n",
       "    </tr>\n",
       "    <tr>\n",
       "      <th>PCA_pred</th>\n",
       "      <th></th>\n",
       "      <th></th>\n",
       "    </tr>\n",
       "  </thead>\n",
       "  <tbody>\n",
       "    <tr>\n",
       "      <th>0</th>\n",
       "      <td>151838</td>\n",
       "      <td>3073</td>\n",
       "    </tr>\n",
       "    <tr>\n",
       "      <th>1</th>\n",
       "      <td>3073</td>\n",
       "      <td>5081</td>\n",
       "    </tr>\n",
       "  </tbody>\n",
       "</table>\n",
       "</div>"
      ],
      "text/plain": [
       "GMM_pred       0     1\n",
       "PCA_pred              \n",
       "0         151838  3073\n",
       "1           3073  5081"
      ]
     },
     "execution_count": 105,
     "metadata": {},
     "output_type": "execute_result"
    }
   ],
   "source": [
    "# If we cross PCA and GMM model, 5081 observations are identified by both models to be outliers.\n",
    "pd.crosstab(Actual_preds['PCA_pred'],Actual_preds['GMM_pred'])"
   ]
  },
  {
   "cell_type": "code",
   "execution_count": 106,
   "id": "4beaa97e",
   "metadata": {},
   "outputs": [
    {
     "data": {
      "text/html": [
       "<div>\n",
       "<style scoped>\n",
       "    .dataframe tbody tr th:only-of-type {\n",
       "        vertical-align: middle;\n",
       "    }\n",
       "\n",
       "    .dataframe tbody tr th {\n",
       "        vertical-align: top;\n",
       "    }\n",
       "\n",
       "    .dataframe thead th {\n",
       "        text-align: right;\n",
       "    }\n",
       "</style>\n",
       "<table border=\"1\" class=\"dataframe\">\n",
       "  <thead>\n",
       "    <tr style=\"text-align: right;\">\n",
       "      <th>GMM_pred</th>\n",
       "      <th>0</th>\n",
       "      <th>1</th>\n",
       "    </tr>\n",
       "    <tr>\n",
       "      <th>ECOD_pred</th>\n",
       "      <th></th>\n",
       "      <th></th>\n",
       "    </tr>\n",
       "  </thead>\n",
       "  <tbody>\n",
       "    <tr>\n",
       "      <th>0</th>\n",
       "      <td>150573</td>\n",
       "      <td>4338</td>\n",
       "    </tr>\n",
       "    <tr>\n",
       "      <th>1</th>\n",
       "      <td>4338</td>\n",
       "      <td>3816</td>\n",
       "    </tr>\n",
       "  </tbody>\n",
       "</table>\n",
       "</div>"
      ],
      "text/plain": [
       "GMM_pred        0     1\n",
       "ECOD_pred              \n",
       "0          150573  4338\n",
       "1            4338  3816"
      ]
     },
     "execution_count": 106,
     "metadata": {},
     "output_type": "execute_result"
    }
   ],
   "source": [
    "# If we cross ECOD and GMM model, 3816 observations are identified by both models to be outliers.\n",
    "pd.crosstab(Actual_preds['ECOD_pred'],Actual_preds['GMM_pred'])"
   ]
  },
  {
   "cell_type": "code",
   "execution_count": null,
   "id": "da897ce9",
   "metadata": {},
   "outputs": [],
   "source": []
  }
 ],
 "metadata": {
  "kernelspec": {
   "display_name": "Python 3 (ipykernel)",
   "language": "python",
   "name": "python3"
  },
  "language_info": {
   "codemirror_mode": {
    "name": "ipython",
    "version": 3
   },
   "file_extension": ".py",
   "mimetype": "text/x-python",
   "name": "python",
   "nbconvert_exporter": "python",
   "pygments_lexer": "ipython3",
   "version": "3.9.12"
  }
 },
 "nbformat": 4,
 "nbformat_minor": 5
}
